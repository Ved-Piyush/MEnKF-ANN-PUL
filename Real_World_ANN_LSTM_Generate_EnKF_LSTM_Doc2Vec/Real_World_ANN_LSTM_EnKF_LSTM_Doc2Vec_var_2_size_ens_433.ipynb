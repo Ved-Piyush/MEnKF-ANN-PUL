{
 "cells": [
  {
   "cell_type": "code",
   "execution_count": 1,
   "id": "d7ab5bf3",
   "metadata": {},
   "outputs": [],
   "source": [
    "import pandas as pd\n",
    "from tqdm import tqdm\n",
    "import gensim\n",
    "import os\n",
    "os.environ['TF_CPP_MIN_LOG_LEVEL'] = '3' \n",
    "# os.chdir(r\"D://Proposal_Defense//Simulations\")\n",
    "# from Utils.Script_utils import get_data_splits, first_LSTM_training, get_data_splits_old_algo\n",
    "from joblib import Parallel, delayed\n",
    "import sys\n",
    "from scipy.stats import norm"
   ]
  },
  {
   "cell_type": "code",
   "execution_count": 2,
   "id": "36084258",
   "metadata": {},
   "outputs": [
    {
     "name": "stdout",
     "output_type": "stream",
     "text": [
      "No GPU found\n"
     ]
    }
   ],
   "source": [
    "# Seed value\n",
    "# Apparently you may use different seed values at each stage\n",
    "seed_value= 42\n",
    "\n",
    "# 1. Set the `PYTHONHASHSEED` environment variable at a fixed value\n",
    "import os\n",
    "os.environ['PYTHONHASHSEED']=str(seed_value)\n",
    "\n",
    "# 2. Set the `python` built-in pseudo-random generator at a fixed value\n",
    "import random\n",
    "random.seed(seed_value)\n",
    "\n",
    "# 3. Set the `numpy` pseudo-random generator at a fixed value\n",
    "import numpy as np\n",
    "np.random.seed(seed_value)\n",
    "\n",
    "# # 4. Set the `tensorflow` pseudo-random generator at a fixed value\n",
    "import tensorflow as tf\n",
    "os.environ['CUDA_VISIBLE_DEVICES'] = '-1'\n",
    "\n",
    "if tf.test.gpu_device_name():\n",
    "    print('GPU found')\n",
    "else:\n",
    "    print(\"No GPU found\")\n",
    "# tf.config.set_visible_devices([], 'GPU')\n",
    "\n",
    "from tqdm.notebook import tqdm\n",
    "tf.random.set_seed(seed_value)\n",
    "import multiprocessing\n",
    "# for later versions: \n",
    "# tf.compat.v1.set_random_seed(seed_value)\n",
    "\n",
    "# 5. Configure a new global `tensorflow` session\n",
    "# from keras import backend as K\n",
    "# session_conf = tf.compat.v1.ConfigProto(intra_op_parallelism_threads=1, inter_op_parallelism_threads=1)\n",
    "# sess = tf.compat.v1.Session(graph=tf.compat.v1.get_default_graph(), config=session_conf)\n",
    "# K.set_session(sess)"
   ]
  },
  {
   "cell_type": "code",
   "execution_count": 3,
   "id": "e036b858",
   "metadata": {},
   "outputs": [],
   "source": [
    "import matplotlib.pyplot as plt\n",
    "\n",
    "import pickle"
   ]
  },
  {
   "cell_type": "code",
   "execution_count": 4,
   "id": "058ca9d0",
   "metadata": {},
   "outputs": [],
   "source": [
    "model_cbow = gensim.models.word2vec.Word2Vec.load(r\"..//Data_Generation//word2vec_sg\")"
   ]
  },
  {
   "cell_type": "code",
   "execution_count": 5,
   "id": "d02c4f20-faf2-4e10-86f6-9ca8a295b770",
   "metadata": {},
   "outputs": [],
   "source": [
    "# data[\"high_level_substr\"].value_counts()"
   ]
  },
  {
   "cell_type": "code",
   "execution_count": 6,
   "id": "2bf7066c-ea42-41bd-949d-293de7243bfc",
   "metadata": {},
   "outputs": [],
   "source": [
    "# data.head()"
   ]
  },
  {
   "cell_type": "code",
   "execution_count": 7,
   "id": "88bbd17f",
   "metadata": {},
   "outputs": [],
   "source": [
    "reps = 50"
   ]
  },
  {
   "cell_type": "code",
   "execution_count": 8,
   "id": "440c1a52",
   "metadata": {},
   "outputs": [],
   "source": [
    "with open('..//Data_Generation//Data//train_valid_test_splits_50.pkl', 'rb') as f:\n",
    "    catch = pickle.load(f)  "
   ]
  },
  {
   "cell_type": "code",
   "execution_count": 9,
   "id": "6acf282c-55a4-4100-b49f-79961d64a7a6",
   "metadata": {},
   "outputs": [],
   "source": [
    "with open('..//Data_Generation//LSTM_Heavy_Dropout//heavy_dropout_first_lstm.pkl', 'rb') as f:\n",
    "    first_lstm = pickle.load(f)  "
   ]
  },
  {
   "cell_type": "code",
   "execution_count": 10,
   "id": "6fb71411-e2f7-40a8-846d-d2d86e1e4eda",
   "metadata": {},
   "outputs": [],
   "source": [
    "with open('..//Data_Generation//Doc2Vec_ANN//doc2vec_ann.pkl', 'rb') as f:\n",
    "    first_doc2vec_ann = pickle.load(f)  \n",
    "\n",
    "    \n",
    "# with open('..//Data_Generation//LSTM_Heavy_Dropout//Heavy_Data_train_logits.pkl', 'rb') as f:\n",
    "#     catch_train_logits = (pickle.load(f))    \n",
    "\n",
    "# with open('..//Data_Generation//LSTM_Heavy_Dropout//Heavy_Data_valid_logits.pkl', 'rb') as f:\n",
    "#     catch_valid_logits = (pickle.load( f))      \n",
    "    \n",
    "# with open('..//Data_Generation//LSTM_Heavy_Dropout//Heavy_Data_test_logits.pkl', 'rb') as f:\n",
    "#     catch_test_logits = (pickle.load( f))      \n",
    "    "
   ]
  },
  {
   "cell_type": "code",
   "execution_count": 11,
   "id": "76624ecc-8bb7-4e52-b95d-1a01cecacb5b",
   "metadata": {},
   "outputs": [],
   "source": [
    "def ann(hidden = 10): \n",
    "    input_layer = tf.keras.layers.Input(shape = (X_train_word2vec.shape[1]))\n",
    "    hidden_layer = tf.keras.layers.Dense(hidden)\n",
    "    hidden_output = hidden_layer(input_layer)\n",
    "    pred_layer = tf.keras.layers.Dense(1)\n",
    "    pred_output = pred_layer(hidden_output)\n",
    "#     pred_output = tf.keras.layers.Activation(\"softmax\")(pred_output)\n",
    "    model = tf.keras.models.Model(input_layer, pred_output)\n",
    "    return model"
   ]
  },
  {
   "cell_type": "code",
   "execution_count": 12,
   "id": "5fdce782-35ce-4f39-923d-4314c6901f68",
   "metadata": {},
   "outputs": [],
   "source": [
    "h1, h2 = 16,16"
   ]
  },
  {
   "cell_type": "code",
   "execution_count": 13,
   "id": "b8153ea5-cefc-4075-994d-c51461505e8b",
   "metadata": {},
   "outputs": [],
   "source": [
    "X_train_word2vec = first_lstm[0][3].numpy()"
   ]
  },
  {
   "cell_type": "code",
   "execution_count": 14,
   "id": "b2ff179a-2c64-4bae-bfd5-3ce7f4b40fb5",
   "metadata": {},
   "outputs": [],
   "source": [
    "\n",
    "\n",
    "ann_15 = ann(h1)\n",
    "\n",
    "\n",
    "# In[35]:\n",
    "\n",
    "\n",
    "# ann_15.summary()\n",
    "\n",
    "\n",
    "# In[36]:\n",
    "\n"
   ]
  },
  {
   "cell_type": "code",
   "execution_count": 15,
   "id": "0bf5144e-59f2-413e-af30-39407819094c",
   "metadata": {},
   "outputs": [
    {
     "name": "stdout",
     "output_type": "stream",
     "text": [
      "Model: \"model\"\n",
      "_________________________________________________________________\n",
      " Layer (type)                Output Shape              Param #   \n",
      "=================================================================\n",
      " input_1 (InputLayer)        [(None, 25)]              0         \n",
      "                                                                 \n",
      " dense (Dense)               (None, 16)                416       \n",
      "                                                                 \n",
      " dense_1 (Dense)             (None, 1)                 17        \n",
      "                                                                 \n",
      "=================================================================\n",
      "Total params: 433\n",
      "Trainable params: 433\n",
      "Non-trainable params: 0\n",
      "_________________________________________________________________\n"
     ]
    }
   ],
   "source": [
    "ann_15.summary()"
   ]
  },
  {
   "cell_type": "code",
   "execution_count": 16,
   "id": "a9c45b5a-9f13-4fd9-b90c-ed94e069b9cc",
   "metadata": {},
   "outputs": [],
   "source": [
    "X_train_word2vec = model_cbow.wv.vectors"
   ]
  },
  {
   "cell_type": "code",
   "execution_count": 17,
   "id": "bce5668e-a895-47b4-8f1c-6e5d1fd3c92b",
   "metadata": {},
   "outputs": [],
   "source": [
    "ann_20 = ann(h2)\n",
    "\n",
    "\n",
    "\n",
    "# ann_20.summary()\n",
    "\n"
   ]
  },
  {
   "cell_type": "code",
   "execution_count": 18,
   "id": "6a41f8b5",
   "metadata": {},
   "outputs": [],
   "source": [
    "total_weights_1 = ann_15.count_params()"
   ]
  },
  {
   "cell_type": "code",
   "execution_count": 19,
   "id": "0721ea37",
   "metadata": {},
   "outputs": [],
   "source": [
    "total_weights_2 = ann_20.count_params()"
   ]
  },
  {
   "cell_type": "code",
   "execution_count": 20,
   "id": "4b2ed894",
   "metadata": {},
   "outputs": [],
   "source": [
    "total_weights = total_weights_1 + total_weights_2 + 1 "
   ]
  },
  {
   "cell_type": "code",
   "execution_count": 21,
   "id": "999f5e96",
   "metadata": {},
   "outputs": [
    {
     "data": {
      "text/plain": [
       "1267"
      ]
     },
     "execution_count": 21,
     "metadata": {},
     "output_type": "execute_result"
    }
   ],
   "source": [
    "total_weights"
   ]
  },
  {
   "cell_type": "code",
   "execution_count": 22,
   "id": "feb2ef89",
   "metadata": {},
   "outputs": [],
   "source": [
    "## batch size\n",
    "batch_size = 32"
   ]
  },
  {
   "cell_type": "code",
   "execution_count": 23,
   "id": "4eea8c8e",
   "metadata": {},
   "outputs": [],
   "source": [
    "# var_weights = 0.08\n",
    "# var_targets = 0.08"
   ]
  },
  {
   "cell_type": "code",
   "execution_count": 24,
   "id": "9b49ba9c",
   "metadata": {},
   "outputs": [],
   "source": [
    "from scipy.stats import multivariate_normal as mvn"
   ]
  },
  {
   "cell_type": "code",
   "execution_count": 25,
   "id": "7a60a350",
   "metadata": {},
   "outputs": [],
   "source": [
    "from scipy.stats import invgamma, norm"
   ]
  },
  {
   "cell_type": "code",
   "execution_count": 26,
   "id": "bd888262",
   "metadata": {},
   "outputs": [],
   "source": [
    "from tqdm.notebook import tqdm"
   ]
  },
  {
   "cell_type": "code",
   "execution_count": 27,
   "id": "c3355c48",
   "metadata": {},
   "outputs": [],
   "source": [
    "threshold = 5"
   ]
  },
  {
   "cell_type": "code",
   "execution_count": 28,
   "id": "b1ce82b7",
   "metadata": {},
   "outputs": [],
   "source": [
    "import random"
   ]
  },
  {
   "cell_type": "code",
   "execution_count": 29,
   "id": "7425ecc5",
   "metadata": {},
   "outputs": [],
   "source": [
    "lr = 0.1"
   ]
  },
  {
   "cell_type": "code",
   "execution_count": 30,
   "id": "b7959ab1",
   "metadata": {},
   "outputs": [],
   "source": [
    "import numpy as np"
   ]
  },
  {
   "cell_type": "code",
   "execution_count": 31,
   "id": "1db4063f",
   "metadata": {},
   "outputs": [],
   "source": [
    "weights_ann_1 = ann_15.get_weights()\n",
    "weights_ann_2 = ann_20.get_weights()"
   ]
  },
  {
   "cell_type": "code",
   "execution_count": 32,
   "id": "43a211df",
   "metadata": {},
   "outputs": [],
   "source": [
    "def get_targets_with_weights(batch_data, batch_data1, initial_ensembles, log_sigma_points_1): \n",
    "\n",
    "    n_hidden_1 = len(weights_ann_1[0].ravel())\n",
    "\n",
    "    hidden_weights_1 = initial_ensembles[:,:n_hidden_1].reshape( size_ens, batch_data.shape[1], h1)\n",
    "\n",
    "    \n",
    "    hidden_output_1 = np.einsum('ij,kjl->kil', batch_data, hidden_weights_1)\n",
    "\n",
    "    \n",
    "    hidden_layer_bias_1 = initial_ensembles[:,n_hidden_1:(n_hidden_1 + h1)].reshape(size_ens, 1,  h1)\n",
    "\n",
    "\n",
    "\n",
    "    hidden_output_1 = hidden_output_1 + hidden_layer_bias_1\n",
    "\n",
    "    n_pred_weights_1 = len(weights_ann_1[2].ravel())\n",
    "\n",
    "    output_weights_1 = initial_ensembles[:,(n_hidden_1 + h1):(n_hidden_1 + h1 + n_pred_weights_1) ].reshape(size_ens, h1, 1)\n",
    "\n",
    "    output_1 = np.einsum('ijk,ikl->ijl', hidden_output_1, output_weights_1)\n",
    "\n",
    "\n",
    "    output_layer_bias_1 = initial_ensembles[:,(n_hidden_1 + h1 + n_pred_weights_1):(n_hidden_1 + h1 + n_pred_weights_1 + 1)].reshape(size_ens, 1, 1)\n",
    "\n",
    "\n",
    "\n",
    "    final_output_1 = output_1 + output_layer_bias_1\n",
    "\n",
    "    n_hidden_2 = len(weights_ann_2[0].ravel())\n",
    "\n",
    "    initial_ensembles_1 = initial_ensembles.copy()[:, total_weights_1:(total_weights_1+ total_weights_2)]\n",
    "\n",
    "    hidden_weights_2 = initial_ensembles_1[:,:n_hidden_2].reshape(size_ens, batch_data1.shape[1], h2)\n",
    "\n",
    "\n",
    "\n",
    "    hidden_output_2 = np.einsum('ij,kjl->kil', batch_data1, hidden_weights_2)\n",
    "\n",
    "    hidden_layer_bias_2 = initial_ensembles[:,n_hidden_2:(n_hidden_2 + h2)].reshape(size_ens, 1,  h2)\n",
    "\n",
    "    hidden_output_2 = hidden_output_2+ hidden_layer_bias_2\n",
    "\n",
    "    n_pred_weights_2 = len(weights_ann_2[2].ravel())\n",
    "\n",
    "    output_weights_2 = initial_ensembles_1[:,(n_hidden_2 + h2):(n_hidden_2 + h2 + n_pred_weights_2) ].reshape(size_ens, h2, 1)\n",
    "\n",
    "\n",
    "    output_2 = np.einsum('ijk,ikl->ijl', hidden_output_2, output_weights_2)\n",
    "\n",
    "\n",
    "    output_layer_bias_2 = initial_ensembles_1[:,(n_hidden_2 + h2 + n_pred_weights_2):(n_hidden_2 + h2 + n_pred_weights_2 + 1)].reshape(size_ens, 1, 1)\n",
    "\n",
    "\n",
    "    final_output_2 = output_2 + output_layer_bias_2\n",
    "\n",
    "\n",
    "    weights_1 = initial_ensembles[:, :total_weights_1]\n",
    "\n",
    "    weights_2 = initial_ensembles[:, total_weights_1:(total_weights_1 + total_weights_2)]\n",
    "\n",
    "\n",
    "    avg_weights = initial_ensembles[:, -1].reshape(-1,1)\n",
    "\n",
    "    avg_weights_sig = expit(avg_weights)\n",
    "    \n",
    "    avg_weights_sig = avg_weights_sig.reshape(avg_weights_sig.shape[0], 1, avg_weights_sig.shape[1])\n",
    "    \n",
    "    complement_weights_sig = 1 - expit(avg_weights)\n",
    "    \n",
    "    complement_weights_sig = complement_weights_sig.reshape(complement_weights_sig.shape[0], 1, complement_weights_sig.shape[1])\n",
    "\n",
    "    final_output_1 = final_output_1*complement_weights_sig\n",
    "    \n",
    "    final_output_2 = final_output_2*avg_weights_sig\n",
    "    \n",
    "    output_1_ravel = final_output_1.reshape(size_ens, final_output_1.shape[1]*final_output_1.shape[2])\n",
    "\n",
    "    output_2_ravel = final_output_2.reshape(size_ens, final_output_2.shape[1]*final_output_2.shape[2])\n",
    "\n",
    "\n",
    "    output_1_ravel = output_1_ravel\n",
    "\n",
    "    output_2_ravel = output_2_ravel\n",
    "\n",
    "\n",
    "\n",
    "    weights_1_add = np.zeros((size_ens, (total_weights_2 - total_weights_1)))\n",
    "\n",
    "\n",
    "\n",
    "    weights_1 = np.hstack((weights_1, weights_1_add))\n",
    "    \n",
    "\n",
    "\n",
    "    stack_1 = np.hstack((output_1_ravel, weights_1, np.repeat(0, size_ens).reshape(-1,1), np.repeat(0, size_ens).reshape(-1,1)))\n",
    "\n",
    "\n",
    "\n",
    "    \n",
    "    stack_2 = np.hstack((output_2_ravel, weights_2, avg_weights, log_sigma_points_1))\n",
    "\n",
    "    \n",
    "    initial_aug_state = np.hstack((stack_1, stack_2)) \n",
    "    \n",
    "\n",
    "    return initial_aug_state , output_1_ravel, output_2_ravel, log_sigma_points_1\n",
    "\n"
   ]
  },
  {
   "cell_type": "code",
   "execution_count": 33,
   "id": "4e3ef6e6",
   "metadata": {},
   "outputs": [],
   "source": [
    "import time"
   ]
  },
  {
   "cell_type": "code",
   "execution_count": 34,
   "id": "0eabfdd4",
   "metadata": {},
   "outputs": [],
   "source": [
    "from scipy.stats import multivariate_normal as mvn"
   ]
  },
  {
   "cell_type": "code",
   "execution_count": 35,
   "id": "b982682f",
   "metadata": {},
   "outputs": [],
   "source": [
    "var_weights =2\n",
    "# var_weights_vec = 4\n",
    "# var_targets = 0.04\n",
    "# var_weights = 2"
   ]
  },
  {
   "cell_type": "code",
   "execution_count": 36,
   "id": "10d77915",
   "metadata": {},
   "outputs": [],
   "source": [
    "from scipy.stats import multivariate_normal as mvn"
   ]
  },
  {
   "cell_type": "code",
   "execution_count": 37,
   "id": "a2a6de67",
   "metadata": {},
   "outputs": [],
   "source": [
    "reduction = 4\n",
    "# reduction = 10"
   ]
  },
  {
   "cell_type": "code",
   "execution_count": 38,
   "id": "471e3306",
   "metadata": {},
   "outputs": [],
   "source": [
    "shape_needed = (total_weights + 2*batch_size*1 + 1 + (total_weights_2 - total_weights_1))//reduction"
   ]
  },
  {
   "cell_type": "code",
   "execution_count": 39,
   "id": "63796187",
   "metadata": {},
   "outputs": [],
   "source": [
    "size_ens = shape_needed"
   ]
  },
  {
   "cell_type": "code",
   "execution_count": 40,
   "id": "6aee42b8",
   "metadata": {},
   "outputs": [],
   "source": [
    "size_ens = int(size_ens)"
   ]
  },
  {
   "cell_type": "code",
   "execution_count": 41,
   "id": "bc234219",
   "metadata": {},
   "outputs": [
    {
     "data": {
      "text/plain": [
       "433"
      ]
     },
     "execution_count": 41,
     "metadata": {},
     "output_type": "execute_result"
    }
   ],
   "source": [
    "size_ens"
   ]
  },
  {
   "cell_type": "code",
   "execution_count": 42,
   "id": "ebeb0869-7f0b-4f21-be63-0234896af39f",
   "metadata": {},
   "outputs": [],
   "source": [
    "# train_fudged_probs"
   ]
  },
  {
   "cell_type": "code",
   "execution_count": 43,
   "id": "23d87ffe",
   "metadata": {},
   "outputs": [],
   "source": [
    "import matplotlib.pyplot as plt"
   ]
  },
  {
   "cell_type": "code",
   "execution_count": 44,
   "id": "f5427e43",
   "metadata": {},
   "outputs": [],
   "source": [
    "from scipy.special import expit"
   ]
  },
  {
   "cell_type": "code",
   "execution_count": 45,
   "id": "be0ee1ec",
   "metadata": {},
   "outputs": [],
   "source": [
    "# catch1[0][0]"
   ]
  },
  {
   "cell_type": "code",
   "execution_count": 46,
   "id": "fb492324",
   "metadata": {},
   "outputs": [],
   "source": [
    "# catch_train_logits_second[0]"
   ]
  },
  {
   "cell_type": "code",
   "execution_count": 47,
   "id": "0c2dbaec-3249-404a-9971-c2fc17f68356",
   "metadata": {},
   "outputs": [],
   "source": [
    "from datetime import datetime"
   ]
  },
  {
   "cell_type": "code",
   "execution_count": 48,
   "id": "9cf12935",
   "metadata": {},
   "outputs": [],
   "source": [
    "def expit(x):\n",
    "    \"\"\"Compute softmax values for each sets of scores in x.\"\"\"\n",
    "#     e_x = np.exp(x - np.max(x))\n",
    "    return 1 / (1 + np.exp(-x))"
   ]
  },
  {
   "cell_type": "code",
   "execution_count": 49,
   "id": "ef051014",
   "metadata": {},
   "outputs": [],
   "source": [
    "from scipy.stats import gamma"
   ]
  },
  {
   "cell_type": "code",
   "execution_count": 50,
   "id": "07cb7b8c-4634-46e7-ab75-e865c7116995",
   "metadata": {},
   "outputs": [],
   "source": [
    "# second_lstm[0]"
   ]
  },
  {
   "cell_type": "code",
   "execution_count": 51,
   "id": "5f0e5cb1-4067-46ba-9399-ca30548a10e1",
   "metadata": {},
   "outputs": [],
   "source": [
    "# reduction = 8\n",
    "# var_weights = 1"
   ]
  },
  {
   "cell_type": "code",
   "execution_count": 52,
   "id": "197043a4-b420-4e3b-beaf-699cd7c3db6b",
   "metadata": {},
   "outputs": [],
   "source": [
    "# cur_idx = 16\n",
    "# np.log(catch_test_probs[cur_idx]/(1-catch_test_probs[cur_idx]))"
   ]
  },
  {
   "cell_type": "code",
   "execution_count": 53,
   "id": "5ae6c226-20d1-4a84-ab7b-5c5295748826",
   "metadata": {},
   "outputs": [],
   "source": [
    "# catch_preds_df"
   ]
  },
  {
   "cell_type": "code",
   "execution_count": 54,
   "id": "75f0d45e-6b06-4e9a-8997-5217ab99ebde",
   "metadata": {},
   "outputs": [],
   "source": [
    "# ids = [i for i in range(0, catch_test_probs[cur_idx].shape[0]) if catch_test_probs[cur_idx][i] < 0.5]\n",
    "# ids_more = [i for i in range(0, catch_test_probs[cur_idx].shape[0]) if catch_test_probs[cur_idx][i] > 0.5]"
   ]
  },
  {
   "cell_type": "code",
   "execution_count": 55,
   "id": "7f15dc9d-a59f-4ef8-b93a-8244896352c5",
   "metadata": {},
   "outputs": [],
   "source": [
    "# ids_more"
   ]
  },
  {
   "cell_type": "code",
   "execution_count": 56,
   "id": "1cebfd75-9077-4677-a4f7-05c09ac9f2de",
   "metadata": {},
   "outputs": [],
   "source": [
    "import plotly.express as px"
   ]
  },
  {
   "cell_type": "code",
   "execution_count": 57,
   "id": "22ee79ea-e013-4f80-920e-10e2aeb0eb6b",
   "metadata": {},
   "outputs": [],
   "source": [
    "import seaborn as sns"
   ]
  },
  {
   "cell_type": "code",
   "execution_count": 58,
   "id": "1969c78b-c105-482a-a957-e81329037a09",
   "metadata": {},
   "outputs": [],
   "source": [
    "use_cores = multiprocessing.cpu_count()-1"
   ]
  },
  {
   "cell_type": "code",
   "execution_count": 59,
   "id": "e5e25a8d-c51c-4c1d-9589-5b3b01f267e7",
   "metadata": {},
   "outputs": [],
   "source": [
    "use_cores = 15"
   ]
  },
  {
   "cell_type": "code",
   "execution_count": 60,
   "id": "2f12bf17-643b-4c5b-a2b0-d1f59b99557e",
   "metadata": {},
   "outputs": [],
   "source": [
    "# threshold = 200\n",
    "# cutoff_threshold = 70"
   ]
  },
  {
   "cell_type": "code",
   "execution_count": 61,
   "id": "407034e6-5a33-4332-b56c-f85cd2377b1c",
   "metadata": {},
   "outputs": [],
   "source": [
    "catch1 = first_lstm"
   ]
  },
  {
   "cell_type": "code",
   "execution_count": 62,
   "id": "8c5fda89-9aac-438e-91b5-d4a09cfee5c5",
   "metadata": {},
   "outputs": [],
   "source": [
    "catch2 = first_doc2vec_ann"
   ]
  },
  {
   "cell_type": "code",
   "execution_count": 63,
   "id": "8e5fbcb1-3965-47da-acbe-ccb01078bf20",
   "metadata": {},
   "outputs": [],
   "source": [
    "from datetime import datetime"
   ]
  },
  {
   "cell_type": "code",
   "execution_count": 64,
   "id": "dad3f5bc-9262-43e4-aaa6-27b8b8ceed3f",
   "metadata": {},
   "outputs": [],
   "source": [
    "#     idx = 0\n",
    "#     X_train_logits_lstm = np.vstack((catch1[idx][0], catch1[idx][1]))\n",
    "#     X_train_logits_doc2vec_ann = np.vstack((catch2[idx][0], catch2[idx][1]))\n",
    "    \n",
    "#     X_train_probs_lstm = expit(X_train_logits_lstm)\n",
    "#     X_train_probs_doc2vec_ann = expit(X_train_logits_doc2vec_ann)"
   ]
  },
  {
   "cell_type": "code",
   "execution_count": 65,
   "id": "d399736f-e5df-42b0-b69a-38af915f6f20",
   "metadata": {},
   "outputs": [],
   "source": [
    "# x = (X_train_probs_doc2vec_ann + X_train_probs_lstm)/2"
   ]
  },
  {
   "cell_type": "code",
   "execution_count": 66,
   "id": "bee13c49-1ffd-48cb-a38f-3bcb4864ec66",
   "metadata": {},
   "outputs": [],
   "source": [
    "# X_train_logits_doc2vec_ann"
   ]
  },
  {
   "cell_type": "code",
   "execution_count": 67,
   "id": "54918dae-d4a7-4ec8-bc4d-13b409c60b6a",
   "metadata": {},
   "outputs": [],
   "source": [
    "# X_train_logits_lstm"
   ]
  },
  {
   "cell_type": "code",
   "execution_count": 68,
   "id": "d50e09ab-995d-454d-8182-10dc49943159",
   "metadata": {},
   "outputs": [],
   "source": [
    "# plt.scatter(X_train_logits_doc2vec_ann, X_train_logits_lstm)"
   ]
  },
  {
   "cell_type": "code",
   "execution_count": 69,
   "id": "c1ce2cd9-00c2-404e-a3d2-fe4a727f412a",
   "metadata": {},
   "outputs": [],
   "source": [
    "# np.log(x/(1-x))"
   ]
  },
  {
   "cell_type": "code",
   "execution_count": 70,
   "id": "c1771165-3334-42a1-a720-3c1227cde68f",
   "metadata": {},
   "outputs": [],
   "source": [
    "# X_train_probs_lstm"
   ]
  },
  {
   "cell_type": "code",
   "execution_count": 71,
   "id": "500ae387-695d-4c4e-9ae2-9548776a7fee",
   "metadata": {},
   "outputs": [],
   "source": [
    "# X_test_logits_lstm = catch1[idx][1]\n",
    "# X_test_logits_doc2vec_ann = catch2[idx][1]"
   ]
  },
  {
   "cell_type": "code",
   "execution_count": 72,
   "id": "e892d1fe-9b02-44e0-bec8-68b798ed0381",
   "metadata": {},
   "outputs": [],
   "source": [
    "# X_test_logits_lstm"
   ]
  },
  {
   "cell_type": "code",
   "execution_count": 73,
   "id": "17879bdd-ae32-4d44-a23f-41cca0adb299",
   "metadata": {},
   "outputs": [],
   "source": [
    "# X_test_logits_doc2vec_ann"
   ]
  },
  {
   "cell_type": "code",
   "execution_count": 74,
   "id": "5d2d6656-8df1-4ef1-95d7-cb014128f024",
   "metadata": {},
   "outputs": [],
   "source": [
    "# X_test_logits_doc2vec_ann"
   ]
  },
  {
   "cell_type": "code",
   "execution_count": 75,
   "id": "30552493-de84-4db8-bee6-c44262be8f29",
   "metadata": {},
   "outputs": [],
   "source": [
    "# X_test_logits_lstm"
   ]
  },
  {
   "cell_type": "code",
   "execution_count": 76,
   "id": "75c12e9a-898a-45db-9ee2-eb652adfbee1",
   "metadata": {},
   "outputs": [],
   "source": [
    "def rep_one_real_world(idx, inflation_factor = 0.2, cutoff = 100): \n",
    "#     from scipy.special import expit\n",
    "    patience_smaller = 0\n",
    "# patience_bigger = 0\n",
    "\n",
    "#     best_train_acc = 0\n",
    "#     best_valid_acc = 1000\n",
    "\n",
    "#     best_valid_mae = 10\n",
    "    \n",
    "    best_train_mae = 100\n",
    "    \n",
    "    X_train_logits_lstm = np.vstack((catch1[idx][0], catch1[idx][1]))\n",
    "    X_train_logits_doc2vec_ann = np.vstack((catch2[idx][0], catch2[idx][1]))\n",
    "    \n",
    "    X_train_probs_lstm = expit(X_train_logits_lstm)\n",
    "    X_train_probs_doc2vec_ann = expit(X_train_logits_doc2vec_ann)\n",
    "    \n",
    "    averaged_probs_lstm_doc2vec_ann_train = (X_train_probs_lstm + X_train_probs_doc2vec_ann)/2\n",
    "    X_train_logits = np.log(averaged_probs_lstm_doc2vec_ann_train/(1-averaged_probs_lstm_doc2vec_ann_train))\n",
    "    \n",
    "    # X_train_logits = averaged_probs_lstm_doc2vec_ann_train\n",
    "    \n",
    "    \n",
    "    X_test_logits_lstm = catch1[idx][2]\n",
    "    X_test_logits_doc2vec_ann = catch2[idx][2]\n",
    "    \n",
    "    X_test_probs_lstm = expit(X_test_logits_lstm)\n",
    "    X_test_probs_doc2vec_ann = expit(X_test_logits_doc2vec_ann)\n",
    "    \n",
    "    averaged_probs_lstm_doc2vec_ann_test = (X_test_probs_lstm + X_test_probs_doc2vec_ann)/2\n",
    "    X_test_logits = np.log(averaged_probs_lstm_doc2vec_ann_test/(1-averaged_probs_lstm_doc2vec_ann_test))\n",
    "    # X_test_logits = averaged_probs_lstm_doc2vec_ann_test\n",
    "    \n",
    "    ## create training batch chunks\n",
    "    train_idx = list(range(0, X_train_logits.shape[0]))\n",
    "    batch_chunks = [train_idx[i:i+batch_size] for i in range(0,len(train_idx),batch_size)]\n",
    "\n",
    "    ## generate some augmented variable for iteration 0\n",
    "    initial_aug_state_mean = np.repeat(0, total_weights)\n",
    "    initial_aug_state_mean = initial_aug_state_mean.reshape(-1,1)\n",
    "\n",
    "    initial_aug_state_cov = var_weights*np.identity((total_weights))\n",
    "    initial_ensembles = mvn(initial_aug_state_mean.reshape(initial_aug_state_mean.shape[0],), initial_aug_state_cov).rvs(size = size_ens)\n",
    "\n",
    "    \n",
    "    log_sigma_points_1 = (np.log(gamma(100, scale = 1/100).rvs(size_ens))).reshape(size_ens, 1)\n",
    "    \n",
    "\n",
    "#     y_train = catch_train_labels_second[idx]\n",
    "\n",
    "#     y_valid = catch_valid_labels_second[idx]\n",
    "\n",
    "#     y_test = catch_test_labels_second[idx]\n",
    "    \n",
    "    \n",
    "    train_lstm = catch1[idx][3].numpy()\n",
    "    valid_lstm = catch1[idx][4].numpy()\n",
    "    # valid_word2vec = catch[idx][7].iloc[catch_valid_idxes[idx],:].reset_index(drop = True)\n",
    "    test_lstm = catch1[idx][5].numpy()\n",
    " \n",
    "\n",
    "    train_doc2vec = []\n",
    "    for seq in catch[idx][0]:\n",
    "        seq_txt = seq[0]\n",
    "        seq_split = seq_txt.split(\" \")\n",
    "        train_doc2vec.append(doc2vec_dbow.infer_vector(seq_split))\n",
    "    train_doc2vec = np.array(train_doc2vec)\n",
    "    \n",
    "    valid_doc2vec = []\n",
    "    for seq in catch[idx][1]:\n",
    "        seq_txt = seq[0]\n",
    "        seq_split = seq_txt.split(\" \")\n",
    "        valid_doc2vec.append(doc2vec_dbow.infer_vector(seq_split))\n",
    "    valid_doc2vec = np.array(valid_doc2vec)\n",
    "    \n",
    "    test_doc2vec = []\n",
    "    for seq in catch[idx][2]:\n",
    "        seq_txt = seq[0]\n",
    "        seq_split = seq_txt.split(\" \")\n",
    "        test_doc2vec.append(doc2vec_dbow.infer_vector(seq_split))\n",
    "    test_doc2vec = np.array(test_doc2vec)    \n",
    "    \n",
    "    \n",
    "    \n",
    "    # train_valid_test_lstm = np.vstack((train_lstm, valid_lstm, test_lstm))\n",
    "    # train_valid_test_doc2vec = np.vstack((train_doc2vec, valid_doc2vec, test_doc2vec))\n",
    "    \n",
    "    # train_valid_test_lstm = np.vstack((train_lstm, valid_lstm))\n",
    "    # train_valid_test_doc2vec = np.vstack((train_doc2vec, valid_doc2vec))    \n",
    "    \n",
    "    train_valid_lstm = np.vstack((train_lstm, valid_lstm))\n",
    "    train_valid_doc2vec = np.vstack((train_doc2vec, valid_doc2vec))    \n",
    "\n",
    "    # best_width_train = 100\n",
    "    \n",
    "    # threshold_achieved = False\n",
    "    # satisfactory = False\n",
    "    # satisfactory_counter = 0\n",
    "    \n",
    "    \n",
    "    best_coverage_train = 0\n",
    "    \n",
    "    start = datetime.now()\n",
    "    \n",
    "    for iter1 in range(0,500):\n",
    "\n",
    "        for batch_idx in batch_chunks:\n",
    "\n",
    "            batch_data = train_valid_lstm[batch_idx,:]\n",
    "            batch_data1 = train_valid_doc2vec[batch_idx,:]\n",
    "            # print(batch_data.shape)\n",
    "            batch_targets = X_train_logits[batch_idx,:]\n",
    "            # batch_targets = batch_targets.ravel().reshape(-1,1)\n",
    "\n",
    "            column_mod_2_shape = total_weights_2 + batch_data.shape[0]*1 + 1 + 1\n",
    "        \n",
    "            H_t = np.hstack((np.identity(batch_targets.shape[0]), np.zeros((batch_targets.shape[0], column_mod_2_shape-batch_targets.shape[0]))))\n",
    "\n",
    "            current_aug_state, column_mod_1, column_mod_2, log_sigma_points_1 = get_targets_with_weights(batch_data, batch_data1, initial_ensembles, log_sigma_points_1)\n",
    "            \n",
    "            var_targets_vec = np.log(1 + np.exp(log_sigma_points_1))\n",
    "            \n",
    "            var_targets_vec = var_targets_vec\n",
    "            \n",
    "            # current_aug_state_var = np.cov(current_aug_state.T) + inflation_factor*np.identity(current_aug_state.shape[1])\n",
    "            \n",
    "            current_aug_state_var = np.cov(current_aug_state.T) \n",
    "            \n",
    "            G_t = np.array([1 , 1]).reshape(-1,1)\n",
    "            \n",
    "            scirpt_H_t = np.kron(G_t.T, H_t)\n",
    "            \n",
    "            temp1 = current_aug_state_var@scirpt_H_t.T\n",
    "            \n",
    "            temp2 = scirpt_H_t@current_aug_state_var@scirpt_H_t.T\n",
    "        \n",
    "            for ensemble_idx in range(0, current_aug_state.shape[0]):\n",
    "                \n",
    "                var_targets1 = var_targets_vec[ensemble_idx,:]\n",
    "                \n",
    "                R_t = var_targets1*np.identity(batch_targets.shape[0])\n",
    "            \n",
    "                measurement_error = mvn(np.repeat(0,batch_targets.shape[0]), var_targets1*np.identity(batch_targets.shape[0])).rvs(1).reshape(-1,1)\n",
    "            \n",
    "                target_current = batch_targets + measurement_error\n",
    "                \n",
    "                K_t = temp1@np.linalg.inv(temp2 + R_t)\n",
    "\n",
    "                current_aug_state[ensemble_idx,:] = current_aug_state[ensemble_idx,:] +(K_t@(target_current -scirpt_H_t@current_aug_state[ensemble_idx,:].reshape(-1,1))).reshape(current_aug_state.shape[1],)\n",
    "        \n",
    "\n",
    "            weights_ann_1 = current_aug_state[:,batch_targets.shape[0]:(batch_targets.shape[0] + total_weights_1)]      \n",
    "\n",
    "            weights_ann_2 = current_aug_state[:,-(total_weights_2+1):-2]    \n",
    "\n",
    "            initial_ensembles = np.hstack((weights_ann_1, weights_ann_2, current_aug_state[:,-2].reshape(-1,1)))\n",
    "            \n",
    "            log_sigma_points_1 = current_aug_state[:,-1].reshape(-1,1)\n",
    "               \n",
    "            avg_betas = expit(current_aug_state[:,-2])\n",
    "        \n",
    "            complement = 1-avg_betas\n",
    "\n",
    "            \n",
    "            \n",
    "            \n",
    "            \n",
    "            current_aug_state1, column_mod_11, column_mod_21, log_sigma_points_1 = get_targets_with_weights(train_valid_lstm, train_valid_doc2vec, initial_ensembles, log_sigma_points_1)\n",
    "            \n",
    "            initial_targets = column_mod_11 + column_mod_21\n",
    "            \n",
    "            \n",
    "            initial_targets = initial_targets.reshape(size_ens, train_valid_lstm.shape[0],1)\n",
    "            \n",
    "            initial_targets_train = initial_targets\n",
    "            \n",
    "            \n",
    "            \n",
    "            \n",
    "#             ind = (X_train_logits_true >= np.percentile(initial_targets_train, axis = 0, q = (2.5, 97.5))[0,:,:]) & (X_train_logits_true <= np.percentile(initial_targets_train, axis = 0, q = (2.5, 97.5))[1,:,:])\n",
    "        \n",
    "            initial_targets_softmax = expit(initial_targets)\n",
    "        \n",
    "            initial_softmax_train = initial_targets_softmax\n",
    "            \n",
    "            initial_targets_train_mean = initial_targets_softmax.mean(0)\n",
    "            \n",
    "            li = np.percentile(initial_targets_softmax, axis = 0, q = (2.5, 97.5))[0,:,:]\n",
    "            \n",
    "            ui = np.percentile(initial_targets_softmax, axis = 0, q = (2.5, 97.5))[1,:,:]\n",
    "            \n",
    "            width = ui - li\n",
    "            \n",
    "            avg_width_train = np.mean(width)\n",
    "            \n",
    "            # interim = np.vstack((catch_train_probs[idx] , catch_valid_probs[idx] ))\n",
    "        \n",
    "            interim = expit(X_train_logits)\n",
    "            \n",
    "            ind = (interim >= li) & (interim <= ui)\n",
    "            \n",
    "            coverage_train= np.mean(ind.ravel())  \n",
    "            \n",
    "            train_mae = np.mean(np.abs(interim.ravel() - initial_targets_train_mean.ravel()))\n",
    "        \n",
    "            current_aug_state1, column_mod_11, column_mod_21, log_sigma_points_1 = get_targets_with_weights(test_lstm, test_doc2vec, initial_ensembles, log_sigma_points_1)\n",
    "            \n",
    "            initial_targets = column_mod_11 + column_mod_21\n",
    "            \n",
    "            initial_targets = initial_targets.reshape(size_ens, test_lstm.shape[0],1)\n",
    "            \n",
    "            initial_targets_test = initial_targets\n",
    "            \n",
    "            initial_targets_softmax = expit(initial_targets)    \n",
    "            \n",
    "            initial_targets_test_mean = initial_targets_softmax.mean(0)\n",
    "            \n",
    "            li = np.percentile(initial_targets_softmax, axis = 0, q = (2.5, 97.5))[0,:,:]\n",
    "            \n",
    "            ui = np.percentile(initial_targets_softmax, axis = 0, q = (2.5, 97.5))[1,:,:]\n",
    "            \n",
    "            width = ui - li\n",
    "            \n",
    "            avg_width = np.mean(width)\n",
    "            \n",
    "            catch_test_probs = expit(X_test_logits)\n",
    "            \n",
    "            ind_test = (catch_test_probs >= li) & (catch_test_probs <= ui)\n",
    "               \n",
    "\n",
    "                        \n",
    "            coverage_test = np.mean(ind_test.ravel())    \n",
    "\n",
    "            # initial_targets_test_mean = initial_targets_train.mean(0)\n",
    "    \n",
    "            \n",
    "            \n",
    "            test_mae = np.mean(np.abs(catch_test_probs.ravel() - initial_targets_test_mean.ravel()))\n",
    "       \n",
    "        # print(avg_width_train, best_train_width, coverage_train)\n",
    "        \n",
    "#         print(\"epoch \"+ str(iter1))\n",
    "#         print(\"patience \"+ str(patience_smaller))\n",
    "#         print(\"train mae is \" + str(train_mae))\n",
    "#         print(\"test mae is \" + str(test_mae))\n",
    "        \n",
    "#         print(\"train coverage is \"+ str(coverage_train))\n",
    "#         print(\"train width is \" + str(avg_width_train))        \n",
    "#         print(\"test coverage is \"+ str(coverage_test))\n",
    "#         print(\"test width is \" + str(avg_width))\n",
    "#         print(\"lstm weight is \" + str(np.mean(complement)))\n",
    "        # print(\"threshold \" + str(threshold_achieved))\n",
    "              \n",
    "    \n",
    "        if (train_mae < best_train_mae) & (coverage_train > 0.95): \n",
    "#             cur_best_train_width = avg_width_train\n",
    "#             cur_best_test_width = avg_width\n",
    "\n",
    "#             cur_best_train_coverage = coverage_train\n",
    "#             cur_best_test_coverage = coverage_test \n",
    "#             cur_best_lstm_weight = np.mean(complement)\n",
    "            best_train_mae = train_mae\n",
    "            best_test_mae = test_mae\n",
    "            exit_iter_no_thresh = iter1\n",
    "            best_test_preds = initial_targets_softmax\n",
    "            patience_smaller = 0\n",
    "            best_train_coverage = coverage_train\n",
    "            best_test_coverage = coverage_test\n",
    "            best_train_width = avg_width_train\n",
    "            best_test_width = avg_width\n",
    "            best_lstm_weight = np.mean(complement)\n",
    "            # satisfactory = True\n",
    "            \n",
    "        else:\n",
    "            patience_smaller+=1\n",
    "            \n",
    "        if patience_smaller > threshold:\n",
    "            \n",
    "            break\n",
    "            \n",
    "        if (patience_smaller > cutoff_threshold) & (train_mae < 0.05):\n",
    "            \n",
    "            break\n",
    "            \n",
    "            \n",
    "    print(best_test_mae,best_test_coverage, best_test_width, best_lstm_weight, flush = True)\n",
    "    end = datetime.now()\n",
    "    total = (end-start)\n",
    "    time_taken = total.seconds/60.0\n",
    "    return best_train_mae, best_test_mae, best_train_coverage, best_train_width, best_test_coverage, best_test_width, best_lstm_weight,   exit_iter_no_thresh, time_taken, best_test_preds\n",
    "        \n",
    "    # print(\"something went awry\", flush = True)"
   ]
  },
  {
   "cell_type": "code",
   "execution_count": 77,
   "id": "605540da-2ad3-4d18-b8a4-93dd7c052f20",
   "metadata": {},
   "outputs": [],
   "source": [
    "threshold = 200"
   ]
  },
  {
   "cell_type": "code",
   "execution_count": 78,
   "id": "138d0228-17b7-4019-9abe-458206e8a7df",
   "metadata": {},
   "outputs": [],
   "source": [
    "cutoff_threshold = 100"
   ]
  },
  {
   "cell_type": "code",
   "execution_count": 79,
   "id": "4a8ebf34-6b78-4638-8f94-b0c23816a6c5",
   "metadata": {},
   "outputs": [],
   "source": [
    "doc2vec_dbow = gensim.models.doc2vec.Doc2Vec.load(r\"..//Data_Generation//doc2vec_dbow\")"
   ]
  },
  {
   "cell_type": "code",
   "execution_count": 80,
   "id": "cd36ab0a-bb82-44a5-957a-eb4c807c988c",
   "metadata": {},
   "outputs": [],
   "source": [
    "# best_train_mae, best_test_mae, best_train_coverage, best_train_width, best_test_coverage, best_test_width, best_lstm_weight"
   ]
  },
  {
   "cell_type": "code",
   "execution_count": 81,
   "id": "ca41fae8-f42e-4d58-a748-e9d9dcfd9b0e",
   "metadata": {},
   "outputs": [],
   "source": [
    "# best_train_mae, best_test_mae, best_train_coverage, best_train_width, best_test_coverage, best_test_width, best_lstm_weight,   exit_iter_no_thresh, time_taken, best_test_preds = rep_one_real_world(9)"
   ]
  },
  {
   "cell_type": "code",
   "execution_count": 82,
   "id": "99a723c6",
   "metadata": {},
   "outputs": [
    {
     "name": "stderr",
     "output_type": "stream",
     "text": [
      "[Parallel(n_jobs=15)]: Using backend LokyBackend with 15 concurrent workers.\n"
     ]
    },
    {
     "name": "stdout",
     "output_type": "stream",
     "text": [
      "0.06225683142392339 1.0 0.29009730741339945 0.42439683682091867\n",
      "0.043968528941625964 1.0 0.2425281471838671 0.4697386304478611\n"
     ]
    },
    {
     "name": "stderr",
     "output_type": "stream",
     "text": [
      "[Parallel(n_jobs=15)]: Done   2 tasks      | elapsed:  2.4min\n"
     ]
    },
    {
     "name": "stdout",
     "output_type": "stream",
     "text": [
      "0.04328598927193204 1.0 0.2642319419839311 0.5484016616580671\n",
      "0.02920918298347393 1.0 0.21066727456710507 0.46955820156702294\n",
      "0.028027743651716674 1.0 0.2686463609401283 0.5346350101702769\n",
      "0.07605539026552399 0.75 0.17351970183734988 0.5113313794892189\n",
      "0.06888776827666089 0.875 0.2212972375403859 0.4984762435759533\n",
      "0.03966930306188366 1.0 0.14327532294279127 0.5105310780624026\n",
      "0.048778420807501756 1.0 0.1937576424429967 0.4970142926369812\n",
      "0.033961630432112394 0.875 0.13319146077416422 0.504670189735042\n",
      "0.07795832545678492 0.625 0.16176040055408702 0.48361321736711926\n"
     ]
    },
    {
     "name": "stderr",
     "output_type": "stream",
     "text": [
      "[Parallel(n_jobs=15)]: Done  11 tasks      | elapsed:  2.9min\n"
     ]
    },
    {
     "name": "stdout",
     "output_type": "stream",
     "text": [
      "0.04805096378726579 0.75 0.16128417461176403 0.5127348475190334\n",
      "0.060777796816049216 0.875 0.16777682837524213 0.5113105216852141\n",
      "0.04427467753976315 0.875 0.2042449450209345 0.5081377287454055\n",
      "0.04726450141928033 0.875 0.12466255197406043 0.5007463720838475\n",
      "0.07163090226264775 1.0 0.3964080482105743 0.4162373972642539\n",
      "0.03589936971370714 1.0 0.22905085763705174 0.43974110899599983\n",
      "0.0757195865309897 0.875 0.15631362959410586 0.4954576248053942\n",
      "0.10852013481585032 0.625 0.24176426471113444 0.5119238960237819\n",
      "0.05266689404726564 0.75 0.1646602834867838 0.5123172511690535\n"
     ]
    },
    {
     "name": "stderr",
     "output_type": "stream",
     "text": [
      "[Parallel(n_jobs=15)]: Done  20 tasks      | elapsed:  5.1min\n"
     ]
    },
    {
     "name": "stdout",
     "output_type": "stream",
     "text": [
      "0.08592371730099392 0.625 0.1576538446181067 0.5000117076158752\n",
      "0.08290592785144453 1.0 0.32329655646352196 0.46175217674360336\n",
      "0.04840525479442105 0.875 0.2264314518966054 0.5096462632184711\n",
      "0.09668036578948118 0.75 0.2639955942395736 0.5098579865290959\n",
      "0.04582119024526676 1.0 0.2554830524736061 0.5350529180989578\n",
      "0.028698949096775325 1.0 0.22794731232575874 0.48259062090510196\n",
      "0.0523911153464537 1.0 0.25675929624352045 0.5056566039704852\n"
     ]
    },
    {
     "name": "stderr",
     "output_type": "stream",
     "text": [
      "[Parallel(n_jobs=15)]: Done  27 out of  50 | elapsed:  5.6min remaining:  4.8min\n"
     ]
    },
    {
     "name": "stdout",
     "output_type": "stream",
     "text": [
      "0.019564958953834886 1.0 0.2853470071352604 0.5034790252520293\n",
      "0.0999430841012259 0.625 0.14521052326779224 0.49960086931285713\n",
      "0.07031768405420305 1.0 0.44475642070942983 0.4560416496982906\n",
      "0.0550891435255534 1.0 0.23571970257288033 0.5472131509455653\n",
      "0.06340156314096441 0.5 0.13103442395074819 0.5012774179055863\n",
      "0.028323835698070954 1.0 0.15261284633051517 0.49491752296920627\n"
     ]
    },
    {
     "name": "stderr",
     "output_type": "stream",
     "text": [
      "[Parallel(n_jobs=15)]: Done  33 out of  50 | elapsed:  7.4min remaining:  3.8min\n"
     ]
    },
    {
     "name": "stdout",
     "output_type": "stream",
     "text": [
      "0.04352857570605005 1.0 0.5032830673579134 0.41768843776306963\n",
      "0.03607409985536611 1.0 0.290661515014341 0.449327699166091\n",
      "0.06083474018567569 0.875 0.22981591669333457 0.5260397786713645\n",
      "0.0900771380314023 0.75 0.1139996907060178 0.4458240932597391\n",
      "0.03325886497345168 1.0 0.19604385024326254 0.5674351249756311\n",
      "0.04730523543167889 0.625 0.10697858981234722 0.4993781873197203\n"
     ]
    },
    {
     "name": "stderr",
     "output_type": "stream",
     "text": [
      "[Parallel(n_jobs=15)]: Done  39 out of  50 | elapsed:  7.7min remaining:  2.2min\n"
     ]
    },
    {
     "name": "stdout",
     "output_type": "stream",
     "text": [
      "0.0624616106585133 0.875 0.2361448443606859 0.4706811691346452\n",
      "0.0833755214211947 1.0 0.5281356556267185 0.6025967912204876\n",
      "0.07555263399410192 0.625 0.16590410398204986 0.4929668470620174\n",
      "0.09968474765718302 0.75 0.27215073286841385 0.45077364953784094\n",
      "0.09162472549457878 0.625 0.13541608372192504 0.5025072480656729\n",
      "0.07556837525590665 0.75 0.195702354910498 0.4931292213926705\n"
     ]
    },
    {
     "name": "stderr",
     "output_type": "stream",
     "text": [
      "[Parallel(n_jobs=15)]: Done  45 out of  50 | elapsed:  9.3min remaining:  1.0min\n"
     ]
    },
    {
     "name": "stdout",
     "output_type": "stream",
     "text": [
      "0.08190985852964763 0.75 0.2408532953108502 0.48791092960249566\n",
      "0.07325459825289835 0.875 0.24797931518216976 0.5011098802735655\n",
      "0.0970137297273144 0.625 0.1884566769157084 0.49061840138831636\n",
      "0.09196962141649782 0.625 0.1686921029438448 0.4940964450978885\n",
      "0.059871008676501865 0.875 0.17062672282136965 0.5112852225162957\n"
     ]
    },
    {
     "name": "stderr",
     "output_type": "stream",
     "text": [
      "[Parallel(n_jobs=15)]: Done  50 out of  50 | elapsed: 10.0min finished\n"
     ]
    }
   ],
   "source": [
    "catch_coverages = Parallel(n_jobs=15, verbose = 10, backend = \"loky\")(delayed(rep_one_real_world)(i) for i in range(reps))"
   ]
  },
  {
   "cell_type": "code",
   "execution_count": 83,
   "id": "1e8200e5-b784-49c8-9ae9-fd7ee5a2e71d",
   "metadata": {},
   "outputs": [],
   "source": [
    "# catch_coverages"
   ]
  },
  {
   "cell_type": "code",
   "execution_count": 84,
   "id": "647980a7-9ae3-4c5c-b25c-2e37b6a84679",
   "metadata": {},
   "outputs": [],
   "source": [
    "check = pd.DataFrame(catch_coverages).iloc[:,:-1]"
   ]
  },
  {
   "cell_type": "code",
   "execution_count": 85,
   "id": "e061792a-e589-486e-b8d2-336622f6bf34",
   "metadata": {},
   "outputs": [],
   "source": [
    "# check"
   ]
  },
  {
   "cell_type": "code",
   "execution_count": 86,
   "id": "fa101efc-351b-4645-87a3-f008abf1ff3d",
   "metadata": {},
   "outputs": [],
   "source": [
    "# check"
   ]
  },
  {
   "cell_type": "code",
   "execution_count": 87,
   "id": "77536655-0afd-4976-980a-fa7a28b55201",
   "metadata": {},
   "outputs": [],
   "source": [
    "# check.columns = [\"train_mae\", \"test_mae\", \"avg_ci_width_train\", \"avg_ci_width_test\", \"avg_lstm_weight\", \"exit_iter\", \"exit_status\"]"
   ]
  },
  {
   "cell_type": "code",
   "execution_count": 88,
   "id": "cd8cefbd-9076-469e-a5dc-dc4637846308",
   "metadata": {},
   "outputs": [
    {
     "data": {
      "text/html": [
       "<div>\n",
       "<style scoped>\n",
       "    .dataframe tbody tr th:only-of-type {\n",
       "        vertical-align: middle;\n",
       "    }\n",
       "\n",
       "    .dataframe tbody tr th {\n",
       "        vertical-align: top;\n",
       "    }\n",
       "\n",
       "    .dataframe thead th {\n",
       "        text-align: right;\n",
       "    }\n",
       "</style>\n",
       "<table border=\"1\" class=\"dataframe\">\n",
       "  <thead>\n",
       "    <tr style=\"text-align: right;\">\n",
       "      <th></th>\n",
       "      <th>0</th>\n",
       "      <th>1</th>\n",
       "      <th>2</th>\n",
       "      <th>3</th>\n",
       "      <th>4</th>\n",
       "      <th>5</th>\n",
       "      <th>6</th>\n",
       "      <th>7</th>\n",
       "      <th>8</th>\n",
       "    </tr>\n",
       "  </thead>\n",
       "  <tbody>\n",
       "    <tr>\n",
       "      <th>0</th>\n",
       "      <td>0.056179</td>\n",
       "      <td>0.062257</td>\n",
       "      <td>0.954545</td>\n",
       "      <td>0.240972</td>\n",
       "      <td>1.000</td>\n",
       "      <td>0.290097</td>\n",
       "      <td>0.424397</td>\n",
       "      <td>17</td>\n",
       "      <td>2.233333</td>\n",
       "    </tr>\n",
       "    <tr>\n",
       "      <th>1</th>\n",
       "      <td>0.028420</td>\n",
       "      <td>0.077958</td>\n",
       "      <td>0.954545</td>\n",
       "      <td>0.161588</td>\n",
       "      <td>0.625</td>\n",
       "      <td>0.161760</td>\n",
       "      <td>0.483613</td>\n",
       "      <td>44</td>\n",
       "      <td>2.766667</td>\n",
       "    </tr>\n",
       "    <tr>\n",
       "      <th>2</th>\n",
       "      <td>0.023982</td>\n",
       "      <td>0.047265</td>\n",
       "      <td>0.954545</td>\n",
       "      <td>0.103378</td>\n",
       "      <td>0.875</td>\n",
       "      <td>0.124663</td>\n",
       "      <td>0.500746</td>\n",
       "      <td>67</td>\n",
       "      <td>3.216667</td>\n",
       "    </tr>\n",
       "    <tr>\n",
       "      <th>3</th>\n",
       "      <td>0.037060</td>\n",
       "      <td>0.029209</td>\n",
       "      <td>0.969697</td>\n",
       "      <td>0.189522</td>\n",
       "      <td>1.000</td>\n",
       "      <td>0.210667</td>\n",
       "      <td>0.469558</td>\n",
       "      <td>28</td>\n",
       "      <td>2.416667</td>\n",
       "    </tr>\n",
       "    <tr>\n",
       "      <th>4</th>\n",
       "      <td>0.062961</td>\n",
       "      <td>0.068888</td>\n",
       "      <td>0.954545</td>\n",
       "      <td>0.262720</td>\n",
       "      <td>0.875</td>\n",
       "      <td>0.221297</td>\n",
       "      <td>0.498476</td>\n",
       "      <td>32</td>\n",
       "      <td>2.500000</td>\n",
       "    </tr>\n",
       "    <tr>\n",
       "      <th>5</th>\n",
       "      <td>0.033898</td>\n",
       "      <td>0.033962</td>\n",
       "      <td>0.954545</td>\n",
       "      <td>0.139706</td>\n",
       "      <td>0.875</td>\n",
       "      <td>0.133191</td>\n",
       "      <td>0.504670</td>\n",
       "      <td>45</td>\n",
       "      <td>2.733333</td>\n",
       "    </tr>\n",
       "    <tr>\n",
       "      <th>6</th>\n",
       "      <td>0.021125</td>\n",
       "      <td>0.060778</td>\n",
       "      <td>0.969697</td>\n",
       "      <td>0.125931</td>\n",
       "      <td>0.875</td>\n",
       "      <td>0.167777</td>\n",
       "      <td>0.511311</td>\n",
       "      <td>50</td>\n",
       "      <td>2.866667</td>\n",
       "    </tr>\n",
       "    <tr>\n",
       "      <th>7</th>\n",
       "      <td>0.030896</td>\n",
       "      <td>0.044275</td>\n",
       "      <td>0.984848</td>\n",
       "      <td>0.194055</td>\n",
       "      <td>0.875</td>\n",
       "      <td>0.204245</td>\n",
       "      <td>0.508138</td>\n",
       "      <td>51</td>\n",
       "      <td>2.883333</td>\n",
       "    </tr>\n",
       "    <tr>\n",
       "      <th>8</th>\n",
       "      <td>0.039510</td>\n",
       "      <td>0.048778</td>\n",
       "      <td>0.954545</td>\n",
       "      <td>0.184189</td>\n",
       "      <td>1.000</td>\n",
       "      <td>0.193758</td>\n",
       "      <td>0.497014</td>\n",
       "      <td>42</td>\n",
       "      <td>2.716667</td>\n",
       "    </tr>\n",
       "    <tr>\n",
       "      <th>9</th>\n",
       "      <td>0.035785</td>\n",
       "      <td>0.076055</td>\n",
       "      <td>0.969697</td>\n",
       "      <td>0.135239</td>\n",
       "      <td>0.750</td>\n",
       "      <td>0.173520</td>\n",
       "      <td>0.511331</td>\n",
       "      <td>31</td>\n",
       "      <td>2.466667</td>\n",
       "    </tr>\n",
       "    <tr>\n",
       "      <th>10</th>\n",
       "      <td>0.055222</td>\n",
       "      <td>0.043286</td>\n",
       "      <td>0.954545</td>\n",
       "      <td>0.231441</td>\n",
       "      <td>1.000</td>\n",
       "      <td>0.264232</td>\n",
       "      <td>0.548402</td>\n",
       "      <td>22</td>\n",
       "      <td>2.333333</td>\n",
       "    </tr>\n",
       "    <tr>\n",
       "      <th>11</th>\n",
       "      <td>0.024981</td>\n",
       "      <td>0.048051</td>\n",
       "      <td>0.954545</td>\n",
       "      <td>0.106809</td>\n",
       "      <td>0.750</td>\n",
       "      <td>0.161284</td>\n",
       "      <td>0.512735</td>\n",
       "      <td>47</td>\n",
       "      <td>2.816667</td>\n",
       "    </tr>\n",
       "    <tr>\n",
       "      <th>12</th>\n",
       "      <td>0.041447</td>\n",
       "      <td>0.043969</td>\n",
       "      <td>0.984848</td>\n",
       "      <td>0.250893</td>\n",
       "      <td>1.000</td>\n",
       "      <td>0.242528</td>\n",
       "      <td>0.469739</td>\n",
       "      <td>19</td>\n",
       "      <td>2.283333</td>\n",
       "    </tr>\n",
       "    <tr>\n",
       "      <th>13</th>\n",
       "      <td>0.040084</td>\n",
       "      <td>0.028028</td>\n",
       "      <td>0.954545</td>\n",
       "      <td>0.219200</td>\n",
       "      <td>1.000</td>\n",
       "      <td>0.268646</td>\n",
       "      <td>0.534635</td>\n",
       "      <td>29</td>\n",
       "      <td>2.450000</td>\n",
       "    </tr>\n",
       "    <tr>\n",
       "      <th>14</th>\n",
       "      <td>0.033226</td>\n",
       "      <td>0.039669</td>\n",
       "      <td>0.984848</td>\n",
       "      <td>0.170189</td>\n",
       "      <td>1.000</td>\n",
       "      <td>0.143275</td>\n",
       "      <td>0.510531</td>\n",
       "      <td>32</td>\n",
       "      <td>2.516667</td>\n",
       "    </tr>\n",
       "    <tr>\n",
       "      <th>15</th>\n",
       "      <td>0.034979</td>\n",
       "      <td>0.085924</td>\n",
       "      <td>0.954545</td>\n",
       "      <td>0.140237</td>\n",
       "      <td>0.625</td>\n",
       "      <td>0.157654</td>\n",
       "      <td>0.500012</td>\n",
       "      <td>49</td>\n",
       "      <td>2.850000</td>\n",
       "    </tr>\n",
       "    <tr>\n",
       "      <th>16</th>\n",
       "      <td>0.047355</td>\n",
       "      <td>0.071631</td>\n",
       "      <td>1.000000</td>\n",
       "      <td>0.330090</td>\n",
       "      <td>1.000</td>\n",
       "      <td>0.396408</td>\n",
       "      <td>0.416237</td>\n",
       "      <td>15</td>\n",
       "      <td>2.200000</td>\n",
       "    </tr>\n",
       "    <tr>\n",
       "      <th>17</th>\n",
       "      <td>0.039933</td>\n",
       "      <td>0.108520</td>\n",
       "      <td>0.984848</td>\n",
       "      <td>0.193275</td>\n",
       "      <td>0.625</td>\n",
       "      <td>0.241764</td>\n",
       "      <td>0.511924</td>\n",
       "      <td>36</td>\n",
       "      <td>2.600000</td>\n",
       "    </tr>\n",
       "    <tr>\n",
       "      <th>18</th>\n",
       "      <td>0.022893</td>\n",
       "      <td>0.099943</td>\n",
       "      <td>0.954545</td>\n",
       "      <td>0.120403</td>\n",
       "      <td>0.625</td>\n",
       "      <td>0.145211</td>\n",
       "      <td>0.499601</td>\n",
       "      <td>110</td>\n",
       "      <td>3.966667</td>\n",
       "    </tr>\n",
       "    <tr>\n",
       "      <th>19</th>\n",
       "      <td>0.044305</td>\n",
       "      <td>0.075720</td>\n",
       "      <td>0.954545</td>\n",
       "      <td>0.174423</td>\n",
       "      <td>0.875</td>\n",
       "      <td>0.156314</td>\n",
       "      <td>0.495458</td>\n",
       "      <td>28</td>\n",
       "      <td>2.433333</td>\n",
       "    </tr>\n",
       "    <tr>\n",
       "      <th>20</th>\n",
       "      <td>0.039174</td>\n",
       "      <td>0.052667</td>\n",
       "      <td>0.954545</td>\n",
       "      <td>0.155982</td>\n",
       "      <td>0.750</td>\n",
       "      <td>0.164660</td>\n",
       "      <td>0.512317</td>\n",
       "      <td>32</td>\n",
       "      <td>2.483333</td>\n",
       "    </tr>\n",
       "    <tr>\n",
       "      <th>21</th>\n",
       "      <td>0.043807</td>\n",
       "      <td>0.048405</td>\n",
       "      <td>0.984848</td>\n",
       "      <td>0.195093</td>\n",
       "      <td>0.875</td>\n",
       "      <td>0.226431</td>\n",
       "      <td>0.509646</td>\n",
       "      <td>41</td>\n",
       "      <td>2.716667</td>\n",
       "    </tr>\n",
       "    <tr>\n",
       "      <th>22</th>\n",
       "      <td>0.040085</td>\n",
       "      <td>0.035899</td>\n",
       "      <td>1.000000</td>\n",
       "      <td>0.270106</td>\n",
       "      <td>1.000</td>\n",
       "      <td>0.229051</td>\n",
       "      <td>0.439741</td>\n",
       "      <td>17</td>\n",
       "      <td>2.250000</td>\n",
       "    </tr>\n",
       "    <tr>\n",
       "      <th>23</th>\n",
       "      <td>0.022183</td>\n",
       "      <td>0.063402</td>\n",
       "      <td>0.954545</td>\n",
       "      <td>0.094270</td>\n",
       "      <td>0.500</td>\n",
       "      <td>0.131034</td>\n",
       "      <td>0.501277</td>\n",
       "      <td>137</td>\n",
       "      <td>4.533333</td>\n",
       "    </tr>\n",
       "    <tr>\n",
       "      <th>24</th>\n",
       "      <td>0.072636</td>\n",
       "      <td>0.082906</td>\n",
       "      <td>1.000000</td>\n",
       "      <td>0.301075</td>\n",
       "      <td>1.000</td>\n",
       "      <td>0.323297</td>\n",
       "      <td>0.461752</td>\n",
       "      <td>23</td>\n",
       "      <td>2.333333</td>\n",
       "    </tr>\n",
       "    <tr>\n",
       "      <th>25</th>\n",
       "      <td>0.039166</td>\n",
       "      <td>0.096680</td>\n",
       "      <td>0.954545</td>\n",
       "      <td>0.195722</td>\n",
       "      <td>0.750</td>\n",
       "      <td>0.263996</td>\n",
       "      <td>0.509858</td>\n",
       "      <td>31</td>\n",
       "      <td>2.500000</td>\n",
       "    </tr>\n",
       "    <tr>\n",
       "      <th>26</th>\n",
       "      <td>0.032300</td>\n",
       "      <td>0.028699</td>\n",
       "      <td>0.984848</td>\n",
       "      <td>0.235547</td>\n",
       "      <td>1.000</td>\n",
       "      <td>0.227947</td>\n",
       "      <td>0.482591</td>\n",
       "      <td>36</td>\n",
       "      <td>2.600000</td>\n",
       "    </tr>\n",
       "    <tr>\n",
       "      <th>27</th>\n",
       "      <td>0.048286</td>\n",
       "      <td>0.045821</td>\n",
       "      <td>0.984848</td>\n",
       "      <td>0.288927</td>\n",
       "      <td>1.000</td>\n",
       "      <td>0.255483</td>\n",
       "      <td>0.535053</td>\n",
       "      <td>28</td>\n",
       "      <td>2.450000</td>\n",
       "    </tr>\n",
       "    <tr>\n",
       "      <th>28</th>\n",
       "      <td>0.037792</td>\n",
       "      <td>0.052391</td>\n",
       "      <td>0.954545</td>\n",
       "      <td>0.182997</td>\n",
       "      <td>1.000</td>\n",
       "      <td>0.256759</td>\n",
       "      <td>0.505657</td>\n",
       "      <td>36</td>\n",
       "      <td>2.583333</td>\n",
       "    </tr>\n",
       "    <tr>\n",
       "      <th>29</th>\n",
       "      <td>0.035130</td>\n",
       "      <td>0.019565</td>\n",
       "      <td>0.969697</td>\n",
       "      <td>0.199967</td>\n",
       "      <td>1.000</td>\n",
       "      <td>0.285347</td>\n",
       "      <td>0.503479</td>\n",
       "      <td>37</td>\n",
       "      <td>2.633333</td>\n",
       "    </tr>\n",
       "    <tr>\n",
       "      <th>30</th>\n",
       "      <td>0.051010</td>\n",
       "      <td>0.070318</td>\n",
       "      <td>0.984848</td>\n",
       "      <td>0.338787</td>\n",
       "      <td>1.000</td>\n",
       "      <td>0.444756</td>\n",
       "      <td>0.456042</td>\n",
       "      <td>20</td>\n",
       "      <td>2.283333</td>\n",
       "    </tr>\n",
       "    <tr>\n",
       "      <th>31</th>\n",
       "      <td>0.041392</td>\n",
       "      <td>0.028324</td>\n",
       "      <td>0.954545</td>\n",
       "      <td>0.180099</td>\n",
       "      <td>1.000</td>\n",
       "      <td>0.152613</td>\n",
       "      <td>0.494918</td>\n",
       "      <td>33</td>\n",
       "      <td>2.483333</td>\n",
       "    </tr>\n",
       "    <tr>\n",
       "      <th>32</th>\n",
       "      <td>0.042309</td>\n",
       "      <td>0.055089</td>\n",
       "      <td>0.969697</td>\n",
       "      <td>0.199210</td>\n",
       "      <td>1.000</td>\n",
       "      <td>0.235720</td>\n",
       "      <td>0.547213</td>\n",
       "      <td>24</td>\n",
       "      <td>2.316667</td>\n",
       "    </tr>\n",
       "    <tr>\n",
       "      <th>33</th>\n",
       "      <td>0.026936</td>\n",
       "      <td>0.047305</td>\n",
       "      <td>0.954545</td>\n",
       "      <td>0.124787</td>\n",
       "      <td>0.625</td>\n",
       "      <td>0.106979</td>\n",
       "      <td>0.499378</td>\n",
       "      <td>38</td>\n",
       "      <td>2.583333</td>\n",
       "    </tr>\n",
       "    <tr>\n",
       "      <th>34</th>\n",
       "      <td>0.041821</td>\n",
       "      <td>0.060835</td>\n",
       "      <td>0.954545</td>\n",
       "      <td>0.194125</td>\n",
       "      <td>0.875</td>\n",
       "      <td>0.229816</td>\n",
       "      <td>0.526040</td>\n",
       "      <td>35</td>\n",
       "      <td>2.500000</td>\n",
       "    </tr>\n",
       "    <tr>\n",
       "      <th>35</th>\n",
       "      <td>0.063312</td>\n",
       "      <td>0.043529</td>\n",
       "      <td>1.000000</td>\n",
       "      <td>0.377333</td>\n",
       "      <td>1.000</td>\n",
       "      <td>0.503283</td>\n",
       "      <td>0.417688</td>\n",
       "      <td>17</td>\n",
       "      <td>2.200000</td>\n",
       "    </tr>\n",
       "    <tr>\n",
       "      <th>36</th>\n",
       "      <td>0.053780</td>\n",
       "      <td>0.036074</td>\n",
       "      <td>0.954545</td>\n",
       "      <td>0.300873</td>\n",
       "      <td>1.000</td>\n",
       "      <td>0.290662</td>\n",
       "      <td>0.449328</td>\n",
       "      <td>18</td>\n",
       "      <td>2.216667</td>\n",
       "    </tr>\n",
       "    <tr>\n",
       "      <th>37</th>\n",
       "      <td>0.051011</td>\n",
       "      <td>0.033259</td>\n",
       "      <td>0.954545</td>\n",
       "      <td>0.225604</td>\n",
       "      <td>1.000</td>\n",
       "      <td>0.196044</td>\n",
       "      <td>0.567435</td>\n",
       "      <td>20</td>\n",
       "      <td>2.283333</td>\n",
       "    </tr>\n",
       "    <tr>\n",
       "      <th>38</th>\n",
       "      <td>0.040972</td>\n",
       "      <td>0.062462</td>\n",
       "      <td>0.984848</td>\n",
       "      <td>0.211396</td>\n",
       "      <td>0.875</td>\n",
       "      <td>0.236145</td>\n",
       "      <td>0.470681</td>\n",
       "      <td>22</td>\n",
       "      <td>2.316667</td>\n",
       "    </tr>\n",
       "    <tr>\n",
       "      <th>39</th>\n",
       "      <td>0.030205</td>\n",
       "      <td>0.090077</td>\n",
       "      <td>0.954545</td>\n",
       "      <td>0.135678</td>\n",
       "      <td>0.750</td>\n",
       "      <td>0.114000</td>\n",
       "      <td>0.445824</td>\n",
       "      <td>15</td>\n",
       "      <td>2.150000</td>\n",
       "    </tr>\n",
       "    <tr>\n",
       "      <th>40</th>\n",
       "      <td>0.042607</td>\n",
       "      <td>0.083376</td>\n",
       "      <td>0.954545</td>\n",
       "      <td>0.257971</td>\n",
       "      <td>1.000</td>\n",
       "      <td>0.528136</td>\n",
       "      <td>0.602597</td>\n",
       "      <td>17</td>\n",
       "      <td>2.200000</td>\n",
       "    </tr>\n",
       "    <tr>\n",
       "      <th>41</th>\n",
       "      <td>0.028304</td>\n",
       "      <td>0.075553</td>\n",
       "      <td>0.969697</td>\n",
       "      <td>0.128844</td>\n",
       "      <td>0.625</td>\n",
       "      <td>0.165904</td>\n",
       "      <td>0.492967</td>\n",
       "      <td>28</td>\n",
       "      <td>2.400000</td>\n",
       "    </tr>\n",
       "    <tr>\n",
       "      <th>42</th>\n",
       "      <td>0.044429</td>\n",
       "      <td>0.099685</td>\n",
       "      <td>0.969697</td>\n",
       "      <td>0.267562</td>\n",
       "      <td>0.750</td>\n",
       "      <td>0.272151</td>\n",
       "      <td>0.450774</td>\n",
       "      <td>20</td>\n",
       "      <td>2.233333</td>\n",
       "    </tr>\n",
       "    <tr>\n",
       "      <th>43</th>\n",
       "      <td>0.033184</td>\n",
       "      <td>0.091625</td>\n",
       "      <td>0.954545</td>\n",
       "      <td>0.142331</td>\n",
       "      <td>0.625</td>\n",
       "      <td>0.135416</td>\n",
       "      <td>0.502507</td>\n",
       "      <td>38</td>\n",
       "      <td>2.450000</td>\n",
       "    </tr>\n",
       "    <tr>\n",
       "      <th>44</th>\n",
       "      <td>0.038016</td>\n",
       "      <td>0.075568</td>\n",
       "      <td>0.954545</td>\n",
       "      <td>0.169156</td>\n",
       "      <td>0.750</td>\n",
       "      <td>0.195702</td>\n",
       "      <td>0.493129</td>\n",
       "      <td>34</td>\n",
       "      <td>2.366667</td>\n",
       "    </tr>\n",
       "    <tr>\n",
       "      <th>45</th>\n",
       "      <td>0.050384</td>\n",
       "      <td>0.073255</td>\n",
       "      <td>0.954545</td>\n",
       "      <td>0.218894</td>\n",
       "      <td>0.875</td>\n",
       "      <td>0.247979</td>\n",
       "      <td>0.501110</td>\n",
       "      <td>33</td>\n",
       "      <td>2.283333</td>\n",
       "    </tr>\n",
       "    <tr>\n",
       "      <th>46</th>\n",
       "      <td>0.033205</td>\n",
       "      <td>0.091970</td>\n",
       "      <td>0.954545</td>\n",
       "      <td>0.130490</td>\n",
       "      <td>0.625</td>\n",
       "      <td>0.168692</td>\n",
       "      <td>0.494096</td>\n",
       "      <td>42</td>\n",
       "      <td>2.450000</td>\n",
       "    </tr>\n",
       "    <tr>\n",
       "      <th>47</th>\n",
       "      <td>0.038356</td>\n",
       "      <td>0.081910</td>\n",
       "      <td>0.969697</td>\n",
       "      <td>0.154189</td>\n",
       "      <td>0.750</td>\n",
       "      <td>0.240853</td>\n",
       "      <td>0.487911</td>\n",
       "      <td>26</td>\n",
       "      <td>2.166667</td>\n",
       "    </tr>\n",
       "    <tr>\n",
       "      <th>48</th>\n",
       "      <td>0.033350</td>\n",
       "      <td>0.097014</td>\n",
       "      <td>0.954545</td>\n",
       "      <td>0.164935</td>\n",
       "      <td>0.625</td>\n",
       "      <td>0.188457</td>\n",
       "      <td>0.490618</td>\n",
       "      <td>33</td>\n",
       "      <td>2.283333</td>\n",
       "    </tr>\n",
       "    <tr>\n",
       "      <th>49</th>\n",
       "      <td>0.032096</td>\n",
       "      <td>0.059871</td>\n",
       "      <td>0.969697</td>\n",
       "      <td>0.170774</td>\n",
       "      <td>0.875</td>\n",
       "      <td>0.170627</td>\n",
       "      <td>0.511285</td>\n",
       "      <td>52</td>\n",
       "      <td>2.566667</td>\n",
       "    </tr>\n",
       "  </tbody>\n",
       "</table>\n",
       "</div>"
      ],
      "text/plain": [
       "           0         1         2         3      4         5         6    7  \\\n",
       "0   0.056179  0.062257  0.954545  0.240972  1.000  0.290097  0.424397   17   \n",
       "1   0.028420  0.077958  0.954545  0.161588  0.625  0.161760  0.483613   44   \n",
       "2   0.023982  0.047265  0.954545  0.103378  0.875  0.124663  0.500746   67   \n",
       "3   0.037060  0.029209  0.969697  0.189522  1.000  0.210667  0.469558   28   \n",
       "4   0.062961  0.068888  0.954545  0.262720  0.875  0.221297  0.498476   32   \n",
       "5   0.033898  0.033962  0.954545  0.139706  0.875  0.133191  0.504670   45   \n",
       "6   0.021125  0.060778  0.969697  0.125931  0.875  0.167777  0.511311   50   \n",
       "7   0.030896  0.044275  0.984848  0.194055  0.875  0.204245  0.508138   51   \n",
       "8   0.039510  0.048778  0.954545  0.184189  1.000  0.193758  0.497014   42   \n",
       "9   0.035785  0.076055  0.969697  0.135239  0.750  0.173520  0.511331   31   \n",
       "10  0.055222  0.043286  0.954545  0.231441  1.000  0.264232  0.548402   22   \n",
       "11  0.024981  0.048051  0.954545  0.106809  0.750  0.161284  0.512735   47   \n",
       "12  0.041447  0.043969  0.984848  0.250893  1.000  0.242528  0.469739   19   \n",
       "13  0.040084  0.028028  0.954545  0.219200  1.000  0.268646  0.534635   29   \n",
       "14  0.033226  0.039669  0.984848  0.170189  1.000  0.143275  0.510531   32   \n",
       "15  0.034979  0.085924  0.954545  0.140237  0.625  0.157654  0.500012   49   \n",
       "16  0.047355  0.071631  1.000000  0.330090  1.000  0.396408  0.416237   15   \n",
       "17  0.039933  0.108520  0.984848  0.193275  0.625  0.241764  0.511924   36   \n",
       "18  0.022893  0.099943  0.954545  0.120403  0.625  0.145211  0.499601  110   \n",
       "19  0.044305  0.075720  0.954545  0.174423  0.875  0.156314  0.495458   28   \n",
       "20  0.039174  0.052667  0.954545  0.155982  0.750  0.164660  0.512317   32   \n",
       "21  0.043807  0.048405  0.984848  0.195093  0.875  0.226431  0.509646   41   \n",
       "22  0.040085  0.035899  1.000000  0.270106  1.000  0.229051  0.439741   17   \n",
       "23  0.022183  0.063402  0.954545  0.094270  0.500  0.131034  0.501277  137   \n",
       "24  0.072636  0.082906  1.000000  0.301075  1.000  0.323297  0.461752   23   \n",
       "25  0.039166  0.096680  0.954545  0.195722  0.750  0.263996  0.509858   31   \n",
       "26  0.032300  0.028699  0.984848  0.235547  1.000  0.227947  0.482591   36   \n",
       "27  0.048286  0.045821  0.984848  0.288927  1.000  0.255483  0.535053   28   \n",
       "28  0.037792  0.052391  0.954545  0.182997  1.000  0.256759  0.505657   36   \n",
       "29  0.035130  0.019565  0.969697  0.199967  1.000  0.285347  0.503479   37   \n",
       "30  0.051010  0.070318  0.984848  0.338787  1.000  0.444756  0.456042   20   \n",
       "31  0.041392  0.028324  0.954545  0.180099  1.000  0.152613  0.494918   33   \n",
       "32  0.042309  0.055089  0.969697  0.199210  1.000  0.235720  0.547213   24   \n",
       "33  0.026936  0.047305  0.954545  0.124787  0.625  0.106979  0.499378   38   \n",
       "34  0.041821  0.060835  0.954545  0.194125  0.875  0.229816  0.526040   35   \n",
       "35  0.063312  0.043529  1.000000  0.377333  1.000  0.503283  0.417688   17   \n",
       "36  0.053780  0.036074  0.954545  0.300873  1.000  0.290662  0.449328   18   \n",
       "37  0.051011  0.033259  0.954545  0.225604  1.000  0.196044  0.567435   20   \n",
       "38  0.040972  0.062462  0.984848  0.211396  0.875  0.236145  0.470681   22   \n",
       "39  0.030205  0.090077  0.954545  0.135678  0.750  0.114000  0.445824   15   \n",
       "40  0.042607  0.083376  0.954545  0.257971  1.000  0.528136  0.602597   17   \n",
       "41  0.028304  0.075553  0.969697  0.128844  0.625  0.165904  0.492967   28   \n",
       "42  0.044429  0.099685  0.969697  0.267562  0.750  0.272151  0.450774   20   \n",
       "43  0.033184  0.091625  0.954545  0.142331  0.625  0.135416  0.502507   38   \n",
       "44  0.038016  0.075568  0.954545  0.169156  0.750  0.195702  0.493129   34   \n",
       "45  0.050384  0.073255  0.954545  0.218894  0.875  0.247979  0.501110   33   \n",
       "46  0.033205  0.091970  0.954545  0.130490  0.625  0.168692  0.494096   42   \n",
       "47  0.038356  0.081910  0.969697  0.154189  0.750  0.240853  0.487911   26   \n",
       "48  0.033350  0.097014  0.954545  0.164935  0.625  0.188457  0.490618   33   \n",
       "49  0.032096  0.059871  0.969697  0.170774  0.875  0.170627  0.511285   52   \n",
       "\n",
       "           8  \n",
       "0   2.233333  \n",
       "1   2.766667  \n",
       "2   3.216667  \n",
       "3   2.416667  \n",
       "4   2.500000  \n",
       "5   2.733333  \n",
       "6   2.866667  \n",
       "7   2.883333  \n",
       "8   2.716667  \n",
       "9   2.466667  \n",
       "10  2.333333  \n",
       "11  2.816667  \n",
       "12  2.283333  \n",
       "13  2.450000  \n",
       "14  2.516667  \n",
       "15  2.850000  \n",
       "16  2.200000  \n",
       "17  2.600000  \n",
       "18  3.966667  \n",
       "19  2.433333  \n",
       "20  2.483333  \n",
       "21  2.716667  \n",
       "22  2.250000  \n",
       "23  4.533333  \n",
       "24  2.333333  \n",
       "25  2.500000  \n",
       "26  2.600000  \n",
       "27  2.450000  \n",
       "28  2.583333  \n",
       "29  2.633333  \n",
       "30  2.283333  \n",
       "31  2.483333  \n",
       "32  2.316667  \n",
       "33  2.583333  \n",
       "34  2.500000  \n",
       "35  2.200000  \n",
       "36  2.216667  \n",
       "37  2.283333  \n",
       "38  2.316667  \n",
       "39  2.150000  \n",
       "40  2.200000  \n",
       "41  2.400000  \n",
       "42  2.233333  \n",
       "43  2.450000  \n",
       "44  2.366667  \n",
       "45  2.283333  \n",
       "46  2.450000  \n",
       "47  2.166667  \n",
       "48  2.283333  \n",
       "49  2.566667  "
      ]
     },
     "execution_count": 88,
     "metadata": {},
     "output_type": "execute_result"
    }
   ],
   "source": [
    "check"
   ]
  },
  {
   "cell_type": "code",
   "execution_count": 89,
   "id": "4fc1dcac-24b2-45e7-ae4c-e55eca90a6c6",
   "metadata": {},
   "outputs": [],
   "source": [
    "check.columns = [\"train_mae\", \"test_mae\", \"train_coverage\", \"train_width\", \"test_coverage\", \"test_width\", \"lstm_weight\" ,\"exit_iter\", \"time_taken\"]"
   ]
  },
  {
   "cell_type": "code",
   "execution_count": 90,
   "id": "fcf483cf-1d09-4d5d-8c7c-7db62473a356",
   "metadata": {},
   "outputs": [
    {
     "data": {
      "text/plain": [
       "train_mae          0.039630\n",
       "test_mae           0.061554\n",
       "train_coverage     0.966364\n",
       "train_width        0.197740\n",
       "test_coverage      0.855000\n",
       "test_width         0.224925\n",
       "lstm_weight        0.495429\n",
       "exit_iter         35.540000\n",
       "time_taken         2.541333\n",
       "dtype: float64"
      ]
     },
     "execution_count": 90,
     "metadata": {},
     "output_type": "execute_result"
    }
   ],
   "source": [
    "check.mean()"
   ]
  },
  {
   "cell_type": "code",
   "execution_count": 91,
   "id": "e776a220-0227-4460-bd21-5aa40a756b12",
   "metadata": {},
   "outputs": [],
   "source": [
    "check_mean = check.mean().reset_index()"
   ]
  },
  {
   "cell_type": "code",
   "execution_count": 92,
   "id": "1839ab29-f07b-4245-8c57-76f96a51f181",
   "metadata": {},
   "outputs": [],
   "source": [
    "check_mean.to_csv(\"Real_World_mean_metrics_ANN_LSTM_EnKF_LSTM_Doc2Vec_\" + \"var_weights_\" + str(var_weights) + \"_num_ens_\" + str(size_ens) +  \".csv\", index = False)"
   ]
  },
  {
   "cell_type": "code",
   "execution_count": 93,
   "id": "9b520f45-ad8d-453c-80e7-7a6bb711692f",
   "metadata": {},
   "outputs": [
    {
     "data": {
      "text/plain": [
       "train_mae          0.010933\n",
       "test_mae           0.022932\n",
       "train_coverage     0.015394\n",
       "train_width        0.065029\n",
       "test_coverage      0.152279\n",
       "test_width         0.090428\n",
       "lstm_weight        0.035326\n",
       "exit_iter         21.567370\n",
       "time_taken         0.421142\n",
       "dtype: float64"
      ]
     },
     "execution_count": 93,
     "metadata": {},
     "output_type": "execute_result"
    }
   ],
   "source": [
    "check.std()"
   ]
  },
  {
   "cell_type": "code",
   "execution_count": 94,
   "id": "87f0aecc-b638-486c-96ce-5f8d47b4a619",
   "metadata": {},
   "outputs": [],
   "source": [
    "check_std = check.std().reset_index()"
   ]
  },
  {
   "cell_type": "code",
   "execution_count": 95,
   "id": "355e9158-ecd7-48bc-9d13-d715fcb3ceb3",
   "metadata": {},
   "outputs": [],
   "source": [
    "check_std.to_csv(\"Real_World_std_dev_metrics_ANN_LSTM_EnKF_LSTM_Doc2Vec_\" + \"var_weights_\" + str(var_weights) + \"_num_ens_\" + str(size_ens)+  \".csv\", index = False)"
   ]
  },
  {
   "cell_type": "code",
   "execution_count": 96,
   "id": "e3e43629-3a74-4d41-acaf-dea297a3840c",
   "metadata": {},
   "outputs": [
    {
     "data": {
      "text/plain": [
       "train_mae         0.000219\n",
       "test_mae          0.000459\n",
       "train_coverage    0.000308\n",
       "train_width       0.001301\n",
       "test_coverage     0.003046\n",
       "test_width        0.001809\n",
       "lstm_weight       0.000707\n",
       "exit_iter         0.431347\n",
       "time_taken        0.008423\n",
       "dtype: float64"
      ]
     },
     "execution_count": 96,
     "metadata": {},
     "output_type": "execute_result"
    }
   ],
   "source": [
    "check.std()/reps"
   ]
  },
  {
   "cell_type": "code",
   "execution_count": 97,
   "id": "22fedaa0-1553-4f19-a388-552e8685f835",
   "metadata": {},
   "outputs": [],
   "source": [
    "# with open(\"Real_World_EnKF_LSTM_Doc2Vec_\" + \"var_weights_\" + str(var_weights) + \"_num_ens_\" + str(size_ens) + \".pkl\", 'rb') as f:\n",
    "#     catch_coverages = pickle.load(f)  "
   ]
  },
  {
   "cell_type": "code",
   "execution_count": 98,
   "id": "41b8e579-df3e-4937-bb73-16c1d945a952",
   "metadata": {},
   "outputs": [],
   "source": [
    "# catch_coverages[0][-1].mean(0)"
   ]
  },
  {
   "cell_type": "code",
   "execution_count": 99,
   "id": "8782e141-df51-4300-8822-4ac054073197",
   "metadata": {},
   "outputs": [],
   "source": [
    "# expit(catch1[0][2])"
   ]
  },
  {
   "cell_type": "code",
   "execution_count": 100,
   "id": "a83c3d12-b2f0-44b8-9904-7b10c4f513bd",
   "metadata": {},
   "outputs": [],
   "source": [
    "true_preds = []\n",
    "enkf_preds = []\n",
    "for i in range(0,reps):\n",
    "    all_preds = catch_coverages[i][-1]\n",
    "    all_preds = all_preds.mean(0)\n",
    "    catch_test_probs = (expit(catch1[i][2]) + expit(catch2[i][2]))/2\n",
    "    true_probs = catch_test_probs.ravel().tolist()\n",
    "    true_preds.append(true_probs)\n",
    "    enkf_preds.append(all_preds.ravel().tolist())\n",
    "    # plt.scatter(true_probs, all_preds.ravel().tolist())\n",
    "    # plt.show()"
   ]
  },
  {
   "cell_type": "code",
   "execution_count": 101,
   "id": "4089a2ab-43f9-4e24-a7ed-add7bdc14156",
   "metadata": {},
   "outputs": [],
   "source": [
    "true_preds = [inner for item in true_preds for inner in item]"
   ]
  },
  {
   "cell_type": "code",
   "execution_count": 102,
   "id": "65492b8d-d7e4-4375-8577-d79a633680b7",
   "metadata": {},
   "outputs": [],
   "source": [
    "enkf_preds = [inner for item in enkf_preds for inner in item]"
   ]
  },
  {
   "cell_type": "code",
   "execution_count": 103,
   "id": "5e66f450-27b5-4f4c-a831-c868c1f0e541",
   "metadata": {},
   "outputs": [],
   "source": [
    "# len(true_preds)"
   ]
  },
  {
   "cell_type": "code",
   "execution_count": 104,
   "id": "19776731-14c7-43c3-bd48-163aa67e2c76",
   "metadata": {},
   "outputs": [
    {
     "data": {
      "text/plain": [
       "0.06155391626360303"
      ]
     },
     "execution_count": 104,
     "metadata": {},
     "output_type": "execute_result"
    }
   ],
   "source": [
    "np.mean(np.abs(np.array(true_preds)-np.array(enkf_preds)))"
   ]
  },
  {
   "cell_type": "code",
   "execution_count": 105,
   "id": "1ebada74-6fe8-4f58-a939-87ca7399aef8",
   "metadata": {},
   "outputs": [
    {
     "data": {
      "image/png": "[encoded data removed]",
      "text/plain": [
       "<Figure size 640x480 with 1 Axes>"
      ]
     },
     "metadata": {},
     "output_type": "display_data"
    }
   ],
   "source": [
    "plt.scatter(enkf_preds,true_preds, alpha=0.5)\n",
    "plt.xlabel(\"MEnKF-ANN Predictions\", fontsize = 15, fontweight = \"bold\")\n",
    "plt.ylabel(\"Avg (LSTM,Doc2Vec_ANN) Predictions\", fontsize = 13, fontweight = \"bold\")\n",
    "plt.xticks(fontsize = 10, fontweight = \"bold\")\n",
    "plt.yticks(fontsize = 10, fontweight = \"bold\")\n",
    "plt.axline((0, 0), slope=1)\n",
    "plt.show()"
   ]
  },
  {
   "cell_type": "code",
   "execution_count": 106,
   "id": "bc99d01d-0709-457d-88c7-839b0068c062",
   "metadata": {},
   "outputs": [],
   "source": [
    "with open(\"Real_World_ANN_LSTM_EnKF_LSTM_Doc2Vec_\" + \"var_weights_\" + str(var_weights) + \"_num_ens_\" + str(size_ens) + \".pkl\", 'wb') as f:\n",
    "    first_lstm = pickle.dump(catch_coverages, f)  "
   ]
  },
  {
   "cell_type": "code",
   "execution_count": 107,
   "id": "ead27b05-299e-49dc-bb97-236a18cd05e5",
   "metadata": {},
   "outputs": [],
   "source": [
    "# check"
   ]
  }
 ],
 "metadata": {
  "kernelspec": {
   "display_name": "enkf",
   "language": "python",
   "name": "enkf"
  },
  "language_info": {
   "codemirror_mode": {
    "name": "ipython",
    "version": 3
   },
   "file_extension": ".py",
   "mimetype": "text/x-python",
   "name": "python",
   "nbconvert_exporter": "python",
   "pygments_lexer": "ipython3",
   "version": "3.11.3"
  }
 },
 "nbformat": 4,
 "nbformat_minor": 5
}
