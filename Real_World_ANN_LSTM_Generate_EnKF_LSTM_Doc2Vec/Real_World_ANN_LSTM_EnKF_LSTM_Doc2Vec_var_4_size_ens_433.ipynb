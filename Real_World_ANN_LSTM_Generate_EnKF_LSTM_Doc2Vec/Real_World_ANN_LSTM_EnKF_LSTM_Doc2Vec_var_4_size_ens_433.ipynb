{
 "cells": [
  {
   "cell_type": "code",
   "execution_count": 1361,
   "id": "d7ab5bf3",
   "metadata": {},
   "outputs": [],
   "source": [
    "import pandas as pd\n",
    "from tqdm import tqdm\n",
    "import gensim\n",
    "import os\n",
    "os.environ['TF_CPP_MIN_LOG_LEVEL'] = '3' \n",
    "# os.chdir(r\"D://Proposal_Defense//Simulations\")\n",
    "# from Utils.Script_utils import get_data_splits, first_LSTM_training, get_data_splits_old_algo\n",
    "from joblib import Parallel, delayed\n",
    "import sys\n",
    "from scipy.stats import norm"
   ]
  },
  {
   "cell_type": "code",
   "execution_count": 1362,
   "id": "36084258",
   "metadata": {},
   "outputs": [
    {
     "name": "stdout",
     "output_type": "stream",
     "text": [
      "No GPU found\n"
     ]
    }
   ],
   "source": [
    "# Seed value\n",
    "# Apparently you may use different seed values at each stage\n",
    "seed_value= 42\n",
    "\n",
    "# 1. Set the `PYTHONHASHSEED` environment variable at a fixed value\n",
    "import os\n",
    "os.environ['PYTHONHASHSEED']=str(seed_value)\n",
    "\n",
    "# 2. Set the `python` built-in pseudo-random generator at a fixed value\n",
    "import random\n",
    "random.seed(seed_value)\n",
    "\n",
    "# 3. Set the `numpy` pseudo-random generator at a fixed value\n",
    "import numpy as np\n",
    "np.random.seed(seed_value)\n",
    "\n",
    "# # 4. Set the `tensorflow` pseudo-random generator at a fixed value\n",
    "import tensorflow as tf\n",
    "os.environ['CUDA_VISIBLE_DEVICES'] = '-1'\n",
    "\n",
    "if tf.test.gpu_device_name():\n",
    "    print('GPU found')\n",
    "else:\n",
    "    print(\"No GPU found\")\n",
    "# tf.config.set_visible_devices([], 'GPU')\n",
    "\n",
    "from tqdm.notebook import tqdm\n",
    "tf.random.set_seed(seed_value)\n",
    "import multiprocessing\n",
    "# for later versions: \n",
    "# tf.compat.v1.set_random_seed(seed_value)\n",
    "\n",
    "# 5. Configure a new global `tensorflow` session\n",
    "# from keras import backend as K\n",
    "# session_conf = tf.compat.v1.ConfigProto(intra_op_parallelism_threads=1, inter_op_parallelism_threads=1)\n",
    "# sess = tf.compat.v1.Session(graph=tf.compat.v1.get_default_graph(), config=session_conf)\n",
    "# K.set_session(sess)"
   ]
  },
  {
   "cell_type": "code",
   "execution_count": 1363,
   "id": "e036b858",
   "metadata": {},
   "outputs": [],
   "source": [
    "import matplotlib.pyplot as plt\n",
    "\n",
    "import pickle"
   ]
  },
  {
   "cell_type": "code",
   "execution_count": 1364,
   "id": "058ca9d0",
   "metadata": {},
   "outputs": [],
   "source": [
    "model_cbow = gensim.models.word2vec.Word2Vec.load(r\"..//Data_Generation//word2vec_sg\")"
   ]
  },
  {
   "cell_type": "code",
   "execution_count": 1365,
   "id": "d02c4f20-faf2-4e10-86f6-9ca8a295b770",
   "metadata": {},
   "outputs": [],
   "source": [
    "# data[\"high_level_substr\"].value_counts()"
   ]
  },
  {
   "cell_type": "code",
   "execution_count": 1366,
   "id": "2bf7066c-ea42-41bd-949d-293de7243bfc",
   "metadata": {},
   "outputs": [],
   "source": [
    "# data.head()"
   ]
  },
  {
   "cell_type": "code",
   "execution_count": 1367,
   "id": "88bbd17f",
   "metadata": {},
   "outputs": [],
   "source": [
    "reps = 50"
   ]
  },
  {
   "cell_type": "code",
   "execution_count": 1368,
   "id": "440c1a52",
   "metadata": {},
   "outputs": [],
   "source": [
    "with open('..//Data_Generation//Data//train_valid_test_splits_50.pkl', 'rb') as f:\n",
    "    catch = pickle.load(f)  "
   ]
  },
  {
   "cell_type": "code",
   "execution_count": 1369,
   "id": "6acf282c-55a4-4100-b49f-79961d64a7a6",
   "metadata": {},
   "outputs": [],
   "source": [
    "with open('..//Data_Generation//LSTM_Heavy_Dropout//heavy_dropout_first_lstm.pkl', 'rb') as f:\n",
    "    first_lstm = pickle.load(f)  "
   ]
  },
  {
   "cell_type": "code",
   "execution_count": 1370,
   "id": "6fb71411-e2f7-40a8-846d-d2d86e1e4eda",
   "metadata": {},
   "outputs": [],
   "source": [
    "with open('..//Data_Generation//Doc2Vec_ANN//doc2vec_ann.pkl', 'rb') as f:\n",
    "    first_doc2vec_ann = pickle.load(f)  \n",
    "\n",
    "    \n",
    "# with open('..//Data_Generation//LSTM_Heavy_Dropout//Heavy_Data_train_logits.pkl', 'rb') as f:\n",
    "#     catch_train_logits = (pickle.load(f))    \n",
    "\n",
    "# with open('..//Data_Generation//LSTM_Heavy_Dropout//Heavy_Data_valid_logits.pkl', 'rb') as f:\n",
    "#     catch_valid_logits = (pickle.load( f))      \n",
    "    \n",
    "# with open('..//Data_Generation//LSTM_Heavy_Dropout//Heavy_Data_test_logits.pkl', 'rb') as f:\n",
    "#     catch_test_logits = (pickle.load( f))      \n",
    "    "
   ]
  },
  {
   "cell_type": "code",
   "execution_count": 1371,
   "id": "76624ecc-8bb7-4e52-b95d-1a01cecacb5b",
   "metadata": {},
   "outputs": [],
   "source": [
    "def ann(hidden = 10): \n",
    "    input_layer = tf.keras.layers.Input(shape = (X_train_word2vec.shape[1]))\n",
    "    hidden_layer = tf.keras.layers.Dense(hidden)\n",
    "    hidden_output = hidden_layer(input_layer)\n",
    "    pred_layer = tf.keras.layers.Dense(1)\n",
    "    pred_output = pred_layer(hidden_output)\n",
    "#     pred_output = tf.keras.layers.Activation(\"softmax\")(pred_output)\n",
    "    model = tf.keras.models.Model(input_layer, pred_output)\n",
    "    return model"
   ]
  },
  {
   "cell_type": "code",
   "execution_count": 1372,
   "id": "5fdce782-35ce-4f39-923d-4314c6901f68",
   "metadata": {},
   "outputs": [],
   "source": [
    "h1, h2 = 16,16"
   ]
  },
  {
   "cell_type": "code",
   "execution_count": 1373,
   "id": "b8153ea5-cefc-4075-994d-c51461505e8b",
   "metadata": {},
   "outputs": [],
   "source": [
    "X_train_word2vec = first_lstm[0][3].numpy()"
   ]
  },
  {
   "cell_type": "code",
   "execution_count": 1374,
   "id": "b2ff179a-2c64-4bae-bfd5-3ce7f4b40fb5",
   "metadata": {},
   "outputs": [],
   "source": [
    "\n",
    "\n",
    "ann_15 = ann(h1)\n",
    "\n",
    "\n",
    "# In[35]:\n",
    "\n",
    "\n",
    "# ann_15.summary()\n",
    "\n",
    "\n",
    "# In[36]:\n",
    "\n"
   ]
  },
  {
   "cell_type": "code",
   "execution_count": 1375,
   "id": "0bf5144e-59f2-413e-af30-39407819094c",
   "metadata": {},
   "outputs": [
    {
     "name": "stdout",
     "output_type": "stream",
     "text": [
      "Model: \"model_34\"\n",
      "_________________________________________________________________\n",
      " Layer (type)                Output Shape              Param #   \n",
      "=================================================================\n",
      " input_35 (InputLayer)       [(None, 25)]              0         \n",
      "                                                                 \n",
      " dense_68 (Dense)            (None, 16)                416       \n",
      "                                                                 \n",
      " dense_69 (Dense)            (None, 1)                 17        \n",
      "                                                                 \n",
      "=================================================================\n",
      "Total params: 433\n",
      "Trainable params: 433\n",
      "Non-trainable params: 0\n",
      "_________________________________________________________________\n"
     ]
    }
   ],
   "source": [
    "ann_15.summary()"
   ]
  },
  {
   "cell_type": "code",
   "execution_count": 1376,
   "id": "a9c45b5a-9f13-4fd9-b90c-ed94e069b9cc",
   "metadata": {},
   "outputs": [],
   "source": [
    "X_train_word2vec = model_cbow.wv.vectors"
   ]
  },
  {
   "cell_type": "code",
   "execution_count": 1377,
   "id": "bce5668e-a895-47b4-8f1c-6e5d1fd3c92b",
   "metadata": {},
   "outputs": [],
   "source": [
    "ann_20 = ann(h2)\n",
    "\n",
    "\n",
    "\n",
    "# ann_20.summary()\n",
    "\n"
   ]
  },
  {
   "cell_type": "code",
   "execution_count": 1378,
   "id": "6a41f8b5",
   "metadata": {},
   "outputs": [],
   "source": [
    "total_weights_1 = ann_15.count_params()"
   ]
  },
  {
   "cell_type": "code",
   "execution_count": 1379,
   "id": "0721ea37",
   "metadata": {},
   "outputs": [],
   "source": [
    "total_weights_2 = ann_20.count_params()"
   ]
  },
  {
   "cell_type": "code",
   "execution_count": 1380,
   "id": "4b2ed894",
   "metadata": {},
   "outputs": [],
   "source": [
    "total_weights = total_weights_1 + total_weights_2 + 1 "
   ]
  },
  {
   "cell_type": "code",
   "execution_count": 1381,
   "id": "999f5e96",
   "metadata": {},
   "outputs": [
    {
     "data": {
      "text/plain": [
       "1267"
      ]
     },
     "execution_count": 1381,
     "metadata": {},
     "output_type": "execute_result"
    }
   ],
   "source": [
    "total_weights"
   ]
  },
  {
   "cell_type": "code",
   "execution_count": 1382,
   "id": "feb2ef89",
   "metadata": {},
   "outputs": [],
   "source": [
    "## batch size\n",
    "batch_size = 32"
   ]
  },
  {
   "cell_type": "code",
   "execution_count": 1383,
   "id": "4eea8c8e",
   "metadata": {},
   "outputs": [],
   "source": [
    "# var_weights = 0.08\n",
    "# var_targets = 0.08"
   ]
  },
  {
   "cell_type": "code",
   "execution_count": 1384,
   "id": "9b49ba9c",
   "metadata": {},
   "outputs": [],
   "source": [
    "from scipy.stats import multivariate_normal as mvn"
   ]
  },
  {
   "cell_type": "code",
   "execution_count": 1385,
   "id": "7a60a350",
   "metadata": {},
   "outputs": [],
   "source": [
    "from scipy.stats import invgamma, norm"
   ]
  },
  {
   "cell_type": "code",
   "execution_count": 1386,
   "id": "bd888262",
   "metadata": {},
   "outputs": [],
   "source": [
    "from tqdm.notebook import tqdm"
   ]
  },
  {
   "cell_type": "code",
   "execution_count": 1387,
   "id": "c3355c48",
   "metadata": {},
   "outputs": [],
   "source": [
    "threshold = 5"
   ]
  },
  {
   "cell_type": "code",
   "execution_count": 1388,
   "id": "b1ce82b7",
   "metadata": {},
   "outputs": [],
   "source": [
    "import random"
   ]
  },
  {
   "cell_type": "code",
   "execution_count": 1389,
   "id": "7425ecc5",
   "metadata": {},
   "outputs": [],
   "source": [
    "lr = 0.1"
   ]
  },
  {
   "cell_type": "code",
   "execution_count": 1390,
   "id": "b7959ab1",
   "metadata": {},
   "outputs": [],
   "source": [
    "import numpy as np"
   ]
  },
  {
   "cell_type": "code",
   "execution_count": 1391,
   "id": "1db4063f",
   "metadata": {},
   "outputs": [],
   "source": [
    "weights_ann_1 = ann_15.get_weights()\n",
    "weights_ann_2 = ann_20.get_weights()"
   ]
  },
  {
   "cell_type": "code",
   "execution_count": 1392,
   "id": "43a211df",
   "metadata": {},
   "outputs": [],
   "source": [
    "def get_targets_with_weights(batch_data, batch_data1, initial_ensembles, log_sigma_points_1): \n",
    "\n",
    "    n_hidden_1 = len(weights_ann_1[0].ravel())\n",
    "\n",
    "    hidden_weights_1 = initial_ensembles[:,:n_hidden_1].reshape( size_ens, batch_data.shape[1], h1)\n",
    "\n",
    "    \n",
    "    hidden_output_1 = np.einsum('ij,kjl->kil', batch_data, hidden_weights_1)\n",
    "\n",
    "    \n",
    "    hidden_layer_bias_1 = initial_ensembles[:,n_hidden_1:(n_hidden_1 + h1)].reshape(size_ens, 1,  h1)\n",
    "\n",
    "\n",
    "\n",
    "    hidden_output_1 = hidden_output_1 + hidden_layer_bias_1\n",
    "\n",
    "    n_pred_weights_1 = len(weights_ann_1[2].ravel())\n",
    "\n",
    "    output_weights_1 = initial_ensembles[:,(n_hidden_1 + h1):(n_hidden_1 + h1 + n_pred_weights_1) ].reshape(size_ens, h1, 1)\n",
    "\n",
    "    output_1 = np.einsum('ijk,ikl->ijl', hidden_output_1, output_weights_1)\n",
    "\n",
    "\n",
    "    output_layer_bias_1 = initial_ensembles[:,(n_hidden_1 + h1 + n_pred_weights_1):(n_hidden_1 + h1 + n_pred_weights_1 + 1)].reshape(size_ens, 1, 1)\n",
    "\n",
    "\n",
    "\n",
    "    final_output_1 = output_1 + output_layer_bias_1\n",
    "\n",
    "    n_hidden_2 = len(weights_ann_2[0].ravel())\n",
    "\n",
    "    initial_ensembles_1 = initial_ensembles.copy()[:, total_weights_1:(total_weights_1+ total_weights_2)]\n",
    "\n",
    "    hidden_weights_2 = initial_ensembles_1[:,:n_hidden_2].reshape(size_ens, batch_data1.shape[1], h2)\n",
    "\n",
    "\n",
    "\n",
    "    hidden_output_2 = np.einsum('ij,kjl->kil', batch_data1, hidden_weights_2)\n",
    "\n",
    "    hidden_layer_bias_2 = initial_ensembles[:,n_hidden_2:(n_hidden_2 + h2)].reshape(size_ens, 1,  h2)\n",
    "\n",
    "    hidden_output_2 = hidden_output_2+ hidden_layer_bias_2\n",
    "\n",
    "    n_pred_weights_2 = len(weights_ann_2[2].ravel())\n",
    "\n",
    "    output_weights_2 = initial_ensembles_1[:,(n_hidden_2 + h2):(n_hidden_2 + h2 + n_pred_weights_2) ].reshape(size_ens, h2, 1)\n",
    "\n",
    "\n",
    "    output_2 = np.einsum('ijk,ikl->ijl', hidden_output_2, output_weights_2)\n",
    "\n",
    "\n",
    "    output_layer_bias_2 = initial_ensembles_1[:,(n_hidden_2 + h2 + n_pred_weights_2):(n_hidden_2 + h2 + n_pred_weights_2 + 1)].reshape(size_ens, 1, 1)\n",
    "\n",
    "\n",
    "    final_output_2 = output_2 + output_layer_bias_2\n",
    "\n",
    "\n",
    "    weights_1 = initial_ensembles[:, :total_weights_1]\n",
    "\n",
    "    weights_2 = initial_ensembles[:, total_weights_1:(total_weights_1 + total_weights_2)]\n",
    "\n",
    "\n",
    "    avg_weights = initial_ensembles[:, -1].reshape(-1,1)\n",
    "\n",
    "    avg_weights_sig = expit(avg_weights)\n",
    "    \n",
    "    avg_weights_sig = avg_weights_sig.reshape(avg_weights_sig.shape[0], 1, avg_weights_sig.shape[1])\n",
    "    \n",
    "    complement_weights_sig = 1 - expit(avg_weights)\n",
    "    \n",
    "    complement_weights_sig = complement_weights_sig.reshape(complement_weights_sig.shape[0], 1, complement_weights_sig.shape[1])\n",
    "\n",
    "    final_output_1 = final_output_1*complement_weights_sig\n",
    "    \n",
    "    final_output_2 = final_output_2*avg_weights_sig\n",
    "    \n",
    "    output_1_ravel = final_output_1.reshape(size_ens, final_output_1.shape[1]*final_output_1.shape[2])\n",
    "\n",
    "    output_2_ravel = final_output_2.reshape(size_ens, final_output_2.shape[1]*final_output_2.shape[2])\n",
    "\n",
    "\n",
    "    output_1_ravel = output_1_ravel\n",
    "\n",
    "    output_2_ravel = output_2_ravel\n",
    "\n",
    "\n",
    "\n",
    "    weights_1_add = np.zeros((size_ens, (total_weights_2 - total_weights_1)))\n",
    "\n",
    "\n",
    "\n",
    "    weights_1 = np.hstack((weights_1, weights_1_add))\n",
    "    \n",
    "\n",
    "\n",
    "    stack_1 = np.hstack((output_1_ravel, weights_1, np.repeat(0, size_ens).reshape(-1,1), np.repeat(0, size_ens).reshape(-1,1)))\n",
    "\n",
    "\n",
    "\n",
    "    \n",
    "    stack_2 = np.hstack((output_2_ravel, weights_2, avg_weights, log_sigma_points_1))\n",
    "\n",
    "    \n",
    "    initial_aug_state = np.hstack((stack_1, stack_2)) \n",
    "    \n",
    "\n",
    "    return initial_aug_state , output_1_ravel, output_2_ravel, log_sigma_points_1\n",
    "\n"
   ]
  },
  {
   "cell_type": "code",
   "execution_count": 1393,
   "id": "4e3ef6e6",
   "metadata": {},
   "outputs": [],
   "source": [
    "import time"
   ]
  },
  {
   "cell_type": "code",
   "execution_count": 1394,
   "id": "0eabfdd4",
   "metadata": {},
   "outputs": [],
   "source": [
    "from scipy.stats import multivariate_normal as mvn"
   ]
  },
  {
   "cell_type": "code",
   "execution_count": 1453,
   "id": "b982682f",
   "metadata": {},
   "outputs": [],
   "source": [
    "var_weights =4\n",
    "# var_weights_vec = 4\n",
    "# var_targets = 0.04\n",
    "# var_weights = 2"
   ]
  },
  {
   "cell_type": "code",
   "execution_count": 1396,
   "id": "10d77915",
   "metadata": {},
   "outputs": [],
   "source": [
    "from scipy.stats import multivariate_normal as mvn"
   ]
  },
  {
   "cell_type": "code",
   "execution_count": 1397,
   "id": "a2a6de67",
   "metadata": {},
   "outputs": [],
   "source": [
    "reduction = 4\n",
    "# reduction = 10"
   ]
  },
  {
   "cell_type": "code",
   "execution_count": 1398,
   "id": "471e3306",
   "metadata": {},
   "outputs": [],
   "source": [
    "shape_needed = (total_weights + 2*batch_size*1 + 1 + (total_weights_2 - total_weights_1))//reduction"
   ]
  },
  {
   "cell_type": "code",
   "execution_count": 1399,
   "id": "63796187",
   "metadata": {},
   "outputs": [],
   "source": [
    "size_ens = shape_needed"
   ]
  },
  {
   "cell_type": "code",
   "execution_count": 1400,
   "id": "6aee42b8",
   "metadata": {},
   "outputs": [],
   "source": [
    "size_ens = int(size_ens)"
   ]
  },
  {
   "cell_type": "code",
   "execution_count": 1401,
   "id": "bc234219",
   "metadata": {},
   "outputs": [
    {
     "data": {
      "text/plain": [
       "433"
      ]
     },
     "execution_count": 1401,
     "metadata": {},
     "output_type": "execute_result"
    }
   ],
   "source": [
    "size_ens"
   ]
  },
  {
   "cell_type": "code",
   "execution_count": 1402,
   "id": "ebeb0869-7f0b-4f21-be63-0234896af39f",
   "metadata": {},
   "outputs": [],
   "source": [
    "# train_fudged_probs"
   ]
  },
  {
   "cell_type": "code",
   "execution_count": 1403,
   "id": "23d87ffe",
   "metadata": {},
   "outputs": [],
   "source": [
    "import matplotlib.pyplot as plt"
   ]
  },
  {
   "cell_type": "code",
   "execution_count": 1404,
   "id": "f5427e43",
   "metadata": {},
   "outputs": [],
   "source": [
    "from scipy.special import expit"
   ]
  },
  {
   "cell_type": "code",
   "execution_count": 1405,
   "id": "be0ee1ec",
   "metadata": {},
   "outputs": [],
   "source": [
    "# catch1[0][0]"
   ]
  },
  {
   "cell_type": "code",
   "execution_count": 1406,
   "id": "fb492324",
   "metadata": {},
   "outputs": [],
   "source": [
    "# catch_train_logits_second[0]"
   ]
  },
  {
   "cell_type": "code",
   "execution_count": 1407,
   "id": "0c2dbaec-3249-404a-9971-c2fc17f68356",
   "metadata": {},
   "outputs": [],
   "source": [
    "from datetime import datetime"
   ]
  },
  {
   "cell_type": "code",
   "execution_count": 1408,
   "id": "9cf12935",
   "metadata": {},
   "outputs": [],
   "source": [
    "def expit(x):\n",
    "    \"\"\"Compute softmax values for each sets of scores in x.\"\"\"\n",
    "#     e_x = np.exp(x - np.max(x))\n",
    "    return 1 / (1 + np.exp(-x))"
   ]
  },
  {
   "cell_type": "code",
   "execution_count": 1409,
   "id": "ef051014",
   "metadata": {},
   "outputs": [],
   "source": [
    "from scipy.stats import gamma"
   ]
  },
  {
   "cell_type": "code",
   "execution_count": 1410,
   "id": "07cb7b8c-4634-46e7-ab75-e865c7116995",
   "metadata": {},
   "outputs": [],
   "source": [
    "# second_lstm[0]"
   ]
  },
  {
   "cell_type": "code",
   "execution_count": 1411,
   "id": "5f0e5cb1-4067-46ba-9399-ca30548a10e1",
   "metadata": {},
   "outputs": [],
   "source": [
    "# reduction = 8\n",
    "# var_weights = 1"
   ]
  },
  {
   "cell_type": "code",
   "execution_count": 1412,
   "id": "197043a4-b420-4e3b-beaf-699cd7c3db6b",
   "metadata": {},
   "outputs": [],
   "source": [
    "# cur_idx = 16\n",
    "# np.log(catch_test_probs[cur_idx]/(1-catch_test_probs[cur_idx]))"
   ]
  },
  {
   "cell_type": "code",
   "execution_count": 1413,
   "id": "5ae6c226-20d1-4a84-ab7b-5c5295748826",
   "metadata": {},
   "outputs": [],
   "source": [
    "# catch_preds_df"
   ]
  },
  {
   "cell_type": "code",
   "execution_count": 1414,
   "id": "75f0d45e-6b06-4e9a-8997-5217ab99ebde",
   "metadata": {},
   "outputs": [],
   "source": [
    "# ids = [i for i in range(0, catch_test_probs[cur_idx].shape[0]) if catch_test_probs[cur_idx][i] < 0.5]\n",
    "# ids_more = [i for i in range(0, catch_test_probs[cur_idx].shape[0]) if catch_test_probs[cur_idx][i] > 0.5]"
   ]
  },
  {
   "cell_type": "code",
   "execution_count": 1415,
   "id": "7f15dc9d-a59f-4ef8-b93a-8244896352c5",
   "metadata": {},
   "outputs": [],
   "source": [
    "# ids_more"
   ]
  },
  {
   "cell_type": "code",
   "execution_count": 1416,
   "id": "1cebfd75-9077-4677-a4f7-05c09ac9f2de",
   "metadata": {},
   "outputs": [],
   "source": [
    "import plotly.express as px"
   ]
  },
  {
   "cell_type": "code",
   "execution_count": 1417,
   "id": "22ee79ea-e013-4f80-920e-10e2aeb0eb6b",
   "metadata": {},
   "outputs": [],
   "source": [
    "import seaborn as sns"
   ]
  },
  {
   "cell_type": "code",
   "execution_count": 1418,
   "id": "1969c78b-c105-482a-a957-e81329037a09",
   "metadata": {},
   "outputs": [],
   "source": [
    "use_cores = multiprocessing.cpu_count()-1"
   ]
  },
  {
   "cell_type": "code",
   "execution_count": 1419,
   "id": "e5e25a8d-c51c-4c1d-9589-5b3b01f267e7",
   "metadata": {},
   "outputs": [],
   "source": [
    "use_cores = 15"
   ]
  },
  {
   "cell_type": "code",
   "execution_count": 1420,
   "id": "2f12bf17-643b-4c5b-a2b0-d1f59b99557e",
   "metadata": {},
   "outputs": [],
   "source": [
    "# threshold = 200\n",
    "# cutoff_threshold = 70"
   ]
  },
  {
   "cell_type": "code",
   "execution_count": 1421,
   "id": "407034e6-5a33-4332-b56c-f85cd2377b1c",
   "metadata": {},
   "outputs": [],
   "source": [
    "catch1 = first_lstm"
   ]
  },
  {
   "cell_type": "code",
   "execution_count": 1422,
   "id": "8c5fda89-9aac-438e-91b5-d4a09cfee5c5",
   "metadata": {},
   "outputs": [],
   "source": [
    "catch2 = first_doc2vec_ann"
   ]
  },
  {
   "cell_type": "code",
   "execution_count": 1423,
   "id": "8e5fbcb1-3965-47da-acbe-ccb01078bf20",
   "metadata": {},
   "outputs": [],
   "source": [
    "from datetime import datetime"
   ]
  },
  {
   "cell_type": "code",
   "execution_count": 1424,
   "id": "dad3f5bc-9262-43e4-aaa6-27b8b8ceed3f",
   "metadata": {},
   "outputs": [],
   "source": [
    "#     idx = 0\n",
    "#     X_train_logits_lstm = np.vstack((catch1[idx][0], catch1[idx][1]))\n",
    "#     X_train_logits_doc2vec_ann = np.vstack((catch2[idx][0], catch2[idx][1]))\n",
    "    \n",
    "#     X_train_probs_lstm = expit(X_train_logits_lstm)\n",
    "#     X_train_probs_doc2vec_ann = expit(X_train_logits_doc2vec_ann)"
   ]
  },
  {
   "cell_type": "code",
   "execution_count": 1425,
   "id": "d399736f-e5df-42b0-b69a-38af915f6f20",
   "metadata": {},
   "outputs": [],
   "source": [
    "# x = (X_train_probs_doc2vec_ann + X_train_probs_lstm)/2"
   ]
  },
  {
   "cell_type": "code",
   "execution_count": 1426,
   "id": "bee13c49-1ffd-48cb-a38f-3bcb4864ec66",
   "metadata": {},
   "outputs": [],
   "source": [
    "# X_train_logits_doc2vec_ann"
   ]
  },
  {
   "cell_type": "code",
   "execution_count": 1427,
   "id": "54918dae-d4a7-4ec8-bc4d-13b409c60b6a",
   "metadata": {},
   "outputs": [],
   "source": [
    "# X_train_logits_lstm"
   ]
  },
  {
   "cell_type": "code",
   "execution_count": 1428,
   "id": "d50e09ab-995d-454d-8182-10dc49943159",
   "metadata": {},
   "outputs": [],
   "source": [
    "# plt.scatter(X_train_logits_doc2vec_ann, X_train_logits_lstm)"
   ]
  },
  {
   "cell_type": "code",
   "execution_count": 1429,
   "id": "c1ce2cd9-00c2-404e-a3d2-fe4a727f412a",
   "metadata": {},
   "outputs": [],
   "source": [
    "# np.log(x/(1-x))"
   ]
  },
  {
   "cell_type": "code",
   "execution_count": 1430,
   "id": "c1771165-3334-42a1-a720-3c1227cde68f",
   "metadata": {},
   "outputs": [],
   "source": [
    "# X_train_probs_lstm"
   ]
  },
  {
   "cell_type": "code",
   "execution_count": 1431,
   "id": "500ae387-695d-4c4e-9ae2-9548776a7fee",
   "metadata": {},
   "outputs": [],
   "source": [
    "# X_test_logits_lstm = catch1[idx][1]\n",
    "# X_test_logits_doc2vec_ann = catch2[idx][1]"
   ]
  },
  {
   "cell_type": "code",
   "execution_count": 1432,
   "id": "e892d1fe-9b02-44e0-bec8-68b798ed0381",
   "metadata": {},
   "outputs": [],
   "source": [
    "# X_test_logits_lstm"
   ]
  },
  {
   "cell_type": "code",
   "execution_count": 1433,
   "id": "17879bdd-ae32-4d44-a23f-41cca0adb299",
   "metadata": {},
   "outputs": [],
   "source": [
    "# X_test_logits_doc2vec_ann"
   ]
  },
  {
   "cell_type": "code",
   "execution_count": 1434,
   "id": "5d2d6656-8df1-4ef1-95d7-cb014128f024",
   "metadata": {},
   "outputs": [],
   "source": [
    "# X_test_logits_doc2vec_ann"
   ]
  },
  {
   "cell_type": "code",
   "execution_count": 1435,
   "id": "30552493-de84-4db8-bee6-c44262be8f29",
   "metadata": {},
   "outputs": [],
   "source": [
    "# X_test_logits_lstm"
   ]
  },
  {
   "cell_type": "code",
   "execution_count": 1459,
   "id": "75c12e9a-898a-45db-9ee2-eb652adfbee1",
   "metadata": {},
   "outputs": [],
   "source": [
    "def rep_one_real_world(idx, inflation_factor = 0.2, cutoff = 100): \n",
    "#     from scipy.special import expit\n",
    "    patience_smaller = 0\n",
    "# patience_bigger = 0\n",
    "\n",
    "#     best_train_acc = 0\n",
    "#     best_valid_acc = 1000\n",
    "\n",
    "#     best_valid_mae = 10\n",
    "    \n",
    "    best_train_mae = 100\n",
    "    \n",
    "    X_train_logits_lstm = np.vstack((catch1[idx][0], catch1[idx][1]))\n",
    "    X_train_logits_doc2vec_ann = np.vstack((catch2[idx][0], catch2[idx][1]))\n",
    "    \n",
    "    X_train_probs_lstm = expit(X_train_logits_lstm)\n",
    "    X_train_probs_doc2vec_ann = expit(X_train_logits_doc2vec_ann)\n",
    "    \n",
    "    averaged_probs_lstm_doc2vec_ann_train = (X_train_probs_lstm + X_train_probs_doc2vec_ann)/2\n",
    "    X_train_logits = np.log(averaged_probs_lstm_doc2vec_ann_train/(1-averaged_probs_lstm_doc2vec_ann_train))\n",
    "    \n",
    "    # X_train_logits = averaged_probs_lstm_doc2vec_ann_train\n",
    "    \n",
    "    \n",
    "    X_test_logits_lstm = catch1[idx][2]\n",
    "    X_test_logits_doc2vec_ann = catch2[idx][2]\n",
    "    \n",
    "    X_test_probs_lstm = expit(X_test_logits_lstm)\n",
    "    X_test_probs_doc2vec_ann = expit(X_test_logits_doc2vec_ann)\n",
    "    \n",
    "    averaged_probs_lstm_doc2vec_ann_test = (X_test_probs_lstm + X_test_probs_doc2vec_ann)/2\n",
    "    X_test_logits = np.log(averaged_probs_lstm_doc2vec_ann_test/(1-averaged_probs_lstm_doc2vec_ann_test))\n",
    "    # X_test_logits = averaged_probs_lstm_doc2vec_ann_test\n",
    "    \n",
    "    ## create training batch chunks\n",
    "    train_idx = list(range(0, X_train_logits.shape[0]))\n",
    "    batch_chunks = [train_idx[i:i+batch_size] for i in range(0,len(train_idx),batch_size)]\n",
    "\n",
    "    ## generate some augmented variable for iteration 0\n",
    "    initial_aug_state_mean = np.repeat(0, total_weights)\n",
    "    initial_aug_state_mean = initial_aug_state_mean.reshape(-1,1)\n",
    "\n",
    "    initial_aug_state_cov = var_weights*np.identity((total_weights))\n",
    "    initial_ensembles = mvn(initial_aug_state_mean.reshape(initial_aug_state_mean.shape[0],), initial_aug_state_cov).rvs(size = size_ens)\n",
    "\n",
    "    \n",
    "    log_sigma_points_1 = (np.log(gamma(100, scale = 1/100).rvs(size_ens))).reshape(size_ens, 1)\n",
    "    \n",
    "\n",
    "#     y_train = catch_train_labels_second[idx]\n",
    "\n",
    "#     y_valid = catch_valid_labels_second[idx]\n",
    "\n",
    "#     y_test = catch_test_labels_second[idx]\n",
    "    \n",
    "    \n",
    "    train_lstm = catch1[idx][3].numpy()\n",
    "    valid_lstm = catch1[idx][4].numpy()\n",
    "    # valid_word2vec = catch[idx][7].iloc[catch_valid_idxes[idx],:].reset_index(drop = True)\n",
    "    test_lstm = catch1[idx][5].numpy()\n",
    " \n",
    "\n",
    "    train_doc2vec = []\n",
    "    for seq in catch[idx][0]:\n",
    "        seq_txt = seq[0]\n",
    "        seq_split = seq_txt.split(\" \")\n",
    "        train_doc2vec.append(doc2vec_dbow.infer_vector(seq_split))\n",
    "    train_doc2vec = np.array(train_doc2vec)\n",
    "    \n",
    "    valid_doc2vec = []\n",
    "    for seq in catch[idx][1]:\n",
    "        seq_txt = seq[0]\n",
    "        seq_split = seq_txt.split(\" \")\n",
    "        valid_doc2vec.append(doc2vec_dbow.infer_vector(seq_split))\n",
    "    valid_doc2vec = np.array(valid_doc2vec)\n",
    "    \n",
    "    test_doc2vec = []\n",
    "    for seq in catch[idx][2]:\n",
    "        seq_txt = seq[0]\n",
    "        seq_split = seq_txt.split(\" \")\n",
    "        test_doc2vec.append(doc2vec_dbow.infer_vector(seq_split))\n",
    "    test_doc2vec = np.array(test_doc2vec)    \n",
    "    \n",
    "    \n",
    "    \n",
    "    # train_valid_test_lstm = np.vstack((train_lstm, valid_lstm, test_lstm))\n",
    "    # train_valid_test_doc2vec = np.vstack((train_doc2vec, valid_doc2vec, test_doc2vec))\n",
    "    \n",
    "    # train_valid_test_lstm = np.vstack((train_lstm, valid_lstm))\n",
    "    # train_valid_test_doc2vec = np.vstack((train_doc2vec, valid_doc2vec))    \n",
    "    \n",
    "    train_valid_lstm = np.vstack((train_lstm, valid_lstm))\n",
    "    train_valid_doc2vec = np.vstack((train_doc2vec, valid_doc2vec))    \n",
    "\n",
    "    # best_width_train = 100\n",
    "    \n",
    "    # threshold_achieved = False\n",
    "    # satisfactory = False\n",
    "    # satisfactory_counter = 0\n",
    "    \n",
    "    \n",
    "    best_coverage_train = 0\n",
    "    \n",
    "    start = datetime.now()\n",
    "    \n",
    "    for iter1 in range(0,500):\n",
    "\n",
    "        for batch_idx in batch_chunks:\n",
    "\n",
    "            batch_data = train_valid_lstm[batch_idx,:]\n",
    "            batch_data1 = train_valid_doc2vec[batch_idx,:]\n",
    "            # print(batch_data.shape)\n",
    "            batch_targets = X_train_logits[batch_idx,:]\n",
    "            # batch_targets = batch_targets.ravel().reshape(-1,1)\n",
    "\n",
    "            column_mod_2_shape = total_weights_2 + batch_data.shape[0]*1 + 1 + 1\n",
    "        \n",
    "            H_t = np.hstack((np.identity(batch_targets.shape[0]), np.zeros((batch_targets.shape[0], column_mod_2_shape-batch_targets.shape[0]))))\n",
    "\n",
    "            current_aug_state, column_mod_1, column_mod_2, log_sigma_points_1 = get_targets_with_weights(batch_data, batch_data1, initial_ensembles, log_sigma_points_1)\n",
    "            \n",
    "            var_targets_vec = np.log(1 + np.exp(log_sigma_points_1))\n",
    "            \n",
    "            var_targets_vec = var_targets_vec\n",
    "            \n",
    "            # current_aug_state_var = np.cov(current_aug_state.T) + inflation_factor*np.identity(current_aug_state.shape[1])\n",
    "            \n",
    "            current_aug_state_var = np.cov(current_aug_state.T) \n",
    "            \n",
    "            G_t = np.array([1 , 1]).reshape(-1,1)\n",
    "            \n",
    "            scirpt_H_t = np.kron(G_t.T, H_t)\n",
    "            \n",
    "            temp1 = current_aug_state_var@scirpt_H_t.T\n",
    "            \n",
    "            temp2 = scirpt_H_t@current_aug_state_var@scirpt_H_t.T\n",
    "        \n",
    "            for ensemble_idx in range(0, current_aug_state.shape[0]):\n",
    "                \n",
    "                var_targets1 = var_targets_vec[ensemble_idx,:]\n",
    "                \n",
    "                R_t = var_targets1*np.identity(batch_targets.shape[0])\n",
    "            \n",
    "                measurement_error = mvn(np.repeat(0,batch_targets.shape[0]), var_targets1*np.identity(batch_targets.shape[0])).rvs(1).reshape(-1,1)\n",
    "            \n",
    "                target_current = batch_targets + measurement_error\n",
    "                \n",
    "                K_t = temp1@np.linalg.inv(temp2 + R_t)\n",
    "\n",
    "                current_aug_state[ensemble_idx,:] = current_aug_state[ensemble_idx,:] +(K_t@(target_current -scirpt_H_t@current_aug_state[ensemble_idx,:].reshape(-1,1))).reshape(current_aug_state.shape[1],)\n",
    "        \n",
    "\n",
    "            weights_ann_1 = current_aug_state[:,batch_targets.shape[0]:(batch_targets.shape[0] + total_weights_1)]      \n",
    "\n",
    "            weights_ann_2 = current_aug_state[:,-(total_weights_2+1):-2]    \n",
    "\n",
    "            initial_ensembles = np.hstack((weights_ann_1, weights_ann_2, current_aug_state[:,-2].reshape(-1,1)))\n",
    "            \n",
    "            log_sigma_points_1 = current_aug_state[:,-1].reshape(-1,1)\n",
    "               \n",
    "            avg_betas = expit(current_aug_state[:,-2])\n",
    "        \n",
    "            complement = 1-avg_betas\n",
    "\n",
    "            \n",
    "            \n",
    "            \n",
    "            \n",
    "            current_aug_state1, column_mod_11, column_mod_21, log_sigma_points_1 = get_targets_with_weights(train_valid_lstm, train_valid_doc2vec, initial_ensembles, log_sigma_points_1)\n",
    "            \n",
    "            initial_targets = column_mod_11 + column_mod_21\n",
    "            \n",
    "            \n",
    "            initial_targets = initial_targets.reshape(size_ens, train_valid_lstm.shape[0],1)\n",
    "            \n",
    "            initial_targets_train = initial_targets\n",
    "            \n",
    "            \n",
    "            \n",
    "            \n",
    "#             ind = (X_train_logits_true >= np.percentile(initial_targets_train, axis = 0, q = (2.5, 97.5))[0,:,:]) & (X_train_logits_true <= np.percentile(initial_targets_train, axis = 0, q = (2.5, 97.5))[1,:,:])\n",
    "        \n",
    "            initial_targets_softmax = expit(initial_targets)\n",
    "        \n",
    "            initial_softmax_train = initial_targets_softmax\n",
    "            \n",
    "            initial_targets_train_mean = initial_targets_softmax.mean(0)\n",
    "            \n",
    "            li = np.percentile(initial_targets_softmax, axis = 0, q = (2.5, 97.5))[0,:,:]\n",
    "            \n",
    "            ui = np.percentile(initial_targets_softmax, axis = 0, q = (2.5, 97.5))[1,:,:]\n",
    "            \n",
    "            width = ui - li\n",
    "            \n",
    "            avg_width_train = np.mean(width)\n",
    "            \n",
    "            # interim = np.vstack((catch_train_probs[idx] , catch_valid_probs[idx] ))\n",
    "        \n",
    "            interim = expit(X_train_logits)\n",
    "            \n",
    "            ind = (interim >= li) & (interim <= ui)\n",
    "            \n",
    "            coverage_train= np.mean(ind.ravel())  \n",
    "            \n",
    "            train_mae = np.mean(np.abs(interim.ravel() - initial_targets_train_mean.ravel()))\n",
    "        \n",
    "            current_aug_state1, column_mod_11, column_mod_21, log_sigma_points_1 = get_targets_with_weights(test_lstm, test_doc2vec, initial_ensembles, log_sigma_points_1)\n",
    "            \n",
    "            initial_targets = column_mod_11 + column_mod_21\n",
    "            \n",
    "            initial_targets = initial_targets.reshape(size_ens, test_lstm.shape[0],1)\n",
    "            \n",
    "            initial_targets_test = initial_targets\n",
    "            \n",
    "            initial_targets_softmax = expit(initial_targets)    \n",
    "            \n",
    "            initial_targets_test_mean = initial_targets_softmax.mean(0)\n",
    "            \n",
    "            li = np.percentile(initial_targets_softmax, axis = 0, q = (2.5, 97.5))[0,:,:]\n",
    "            \n",
    "            ui = np.percentile(initial_targets_softmax, axis = 0, q = (2.5, 97.5))[1,:,:]\n",
    "            \n",
    "            width = ui - li\n",
    "            \n",
    "            avg_width = np.mean(width)\n",
    "            \n",
    "            catch_test_probs = expit(X_test_logits)\n",
    "            \n",
    "            ind_test = (catch_test_probs >= li) & (catch_test_probs <= ui)\n",
    "               \n",
    "\n",
    "                        \n",
    "            coverage_test = np.mean(ind_test.ravel())    \n",
    "\n",
    "            # initial_targets_test_mean = initial_targets_train.mean(0)\n",
    "    \n",
    "            \n",
    "            \n",
    "            test_mae = np.mean(np.abs(catch_test_probs.ravel() - initial_targets_test_mean.ravel()))\n",
    "       \n",
    "        # print(avg_width_train, best_train_width, coverage_train)\n",
    "        \n",
    "#         print(\"epoch \"+ str(iter1))\n",
    "#         print(\"patience \"+ str(patience_smaller))\n",
    "#         print(\"train mae is \" + str(train_mae))\n",
    "#         print(\"test mae is \" + str(test_mae))\n",
    "        \n",
    "#         print(\"train coverage is \"+ str(coverage_train))\n",
    "#         print(\"train width is \" + str(avg_width_train))        \n",
    "#         print(\"test coverage is \"+ str(coverage_test))\n",
    "#         print(\"test width is \" + str(avg_width))\n",
    "#         print(\"lstm weight is \" + str(np.mean(complement)))\n",
    "        # print(\"threshold \" + str(threshold_achieved))\n",
    "              \n",
    "    \n",
    "        if (train_mae < best_train_mae) & (coverage_train > 0.95): \n",
    "#             cur_best_train_width = avg_width_train\n",
    "#             cur_best_test_width = avg_width\n",
    "\n",
    "#             cur_best_train_coverage = coverage_train\n",
    "#             cur_best_test_coverage = coverage_test \n",
    "#             cur_best_lstm_weight = np.mean(complement)\n",
    "            best_train_mae = train_mae\n",
    "            best_test_mae = test_mae\n",
    "            exit_iter_no_thresh = iter1\n",
    "            best_test_preds = initial_targets_softmax\n",
    "            patience_smaller = 0\n",
    "            best_train_coverage = coverage_train\n",
    "            best_test_coverage = coverage_test\n",
    "            best_train_width = avg_width_train\n",
    "            best_test_width = avg_width\n",
    "            best_lstm_weight = np.mean(complement)\n",
    "            # satisfactory = True\n",
    "            \n",
    "        else:\n",
    "            patience_smaller+=1\n",
    "            \n",
    "        if patience_smaller > threshold:\n",
    "            \n",
    "            break\n",
    "            \n",
    "        if (patience_smaller > cutoff_threshold) & (train_mae < 0.05):\n",
    "            \n",
    "            break\n",
    "            \n",
    "            \n",
    "    print(best_test_mae,best_test_coverage, best_test_width, flush = True)\n",
    "    end = datetime.now()\n",
    "    total = (end-start)\n",
    "    time_taken = total.seconds/60.0\n",
    "    return best_train_mae, best_test_mae, best_train_coverage, best_train_width, best_test_coverage, best_test_width, best_lstm_weight,   exit_iter_no_thresh, time_taken, best_test_preds\n",
    "        \n",
    "    # print(\"something went awry\", flush = True)"
   ]
  },
  {
   "cell_type": "code",
   "execution_count": 1449,
   "id": "605540da-2ad3-4d18-b8a4-93dd7c052f20",
   "metadata": {},
   "outputs": [],
   "source": [
    "threshold = 200"
   ]
  },
  {
   "cell_type": "code",
   "execution_count": 1450,
   "id": "138d0228-17b7-4019-9abe-458206e8a7df",
   "metadata": {},
   "outputs": [],
   "source": [
    "cutoff_threshold = 100"
   ]
  },
  {
   "cell_type": "code",
   "execution_count": 1451,
   "id": "4a8ebf34-6b78-4638-8f94-b0c23816a6c5",
   "metadata": {},
   "outputs": [],
   "source": [
    "doc2vec_dbow = gensim.models.doc2vec.Doc2Vec.load(r\"..//Data_Generation//doc2vec_dbow\")"
   ]
  },
  {
   "cell_type": "code",
   "execution_count": 1460,
   "id": "cd36ab0a-bb82-44a5-957a-eb4c807c988c",
   "metadata": {},
   "outputs": [],
   "source": [
    "# best_train_mae, best_test_mae, best_train_coverage, best_train_width, best_test_coverage, best_test_width, best_lstm_weight"
   ]
  },
  {
   "cell_type": "code",
   "execution_count": 1461,
   "id": "ca41fae8-f42e-4d58-a748-e9d9dcfd9b0e",
   "metadata": {},
   "outputs": [],
   "source": [
    "# best_train_mae, best_test_mae, best_train_coverage, best_train_width, best_test_coverage, best_test_width, best_lstm_weight,   exit_iter_no_thresh, time_taken, best_test_preds = rep_one_real_world(9)"
   ]
  },
  {
   "cell_type": "code",
   "execution_count": 1462,
   "id": "99a723c6",
   "metadata": {},
   "outputs": [
    {
     "name": "stderr",
     "output_type": "stream",
     "text": [
      "[Parallel(n_jobs=15)]: Using backend LokyBackend with 15 concurrent workers.\n"
     ]
    },
    {
     "name": "stdout",
     "output_type": "stream",
     "text": [
      "0.0469637623492763 1.0 0.40611779076850196\n",
      "0.05566972323993734 1.0 0.2579933173967607\n"
     ]
    },
    {
     "name": "stderr",
     "output_type": "stream",
     "text": [
      "[Parallel(n_jobs=15)]: Done   2 tasks      | elapsed:  2.8min\n"
     ]
    },
    {
     "name": "stdout",
     "output_type": "stream",
     "text": [
      "0.08275721576572895 0.75 0.22123190758135336\n",
      "0.07216199112132657 0.875 0.21287567319524814\n",
      "0.04645284109030069 0.75 0.13870060925179317\n",
      "0.03949286061302664 1.0 0.21881669471283424\n",
      "0.034035208204759075 0.75 0.17774426725605996\n",
      "0.03783427671509329 0.75 0.09543257835705672\n",
      "0.04981048583960177 1.0 0.1865815962656564\n",
      "0.049046895310370625 0.875 0.1920441579849418\n",
      "0.06904370304916424 0.625 0.18627472570434914\n"
     ]
    },
    {
     "name": "stderr",
     "output_type": "stream",
     "text": [
      "[Parallel(n_jobs=15)]: Done  11 tasks      | elapsed:  3.8min\n"
     ]
    },
    {
     "name": "stdout",
     "output_type": "stream",
     "text": [
      "0.045099354332145764 0.75 0.16591675636331904\n",
      "0.04884021082506596 0.875 0.12871225446430312\n",
      "0.05066661712957478 0.75 0.14001839383850898\n",
      "0.054514405014963255 0.75 0.15789724288197104\n",
      "0.06799567834687956 1.0 0.27348417519991786\n",
      "0.04246543693973005 1.0 0.2653339535217207\n",
      "0.12586109965002207 0.375 0.22548724205750253\n",
      "0.06765128599265857 0.875 0.2045918093687097\n",
      "0.09082688460438096 0.5 0.1615050942840903\n"
     ]
    },
    {
     "name": "stderr",
     "output_type": "stream",
     "text": [
      "[Parallel(n_jobs=15)]: Done  20 tasks      | elapsed:  6.2min\n"
     ]
    },
    {
     "name": "stdout",
     "output_type": "stream",
     "text": [
      "0.07228268835954457 0.75 0.17296877572328506\n",
      "0.06318119071863307 1.0 0.19843515791152536\n",
      "0.054180280387227976 0.875 0.1725760597068752\n",
      "0.026658042436528157 1.0 0.22398104390063844\n",
      "0.08341485791943254 0.875 0.2621089133023008\n",
      "0.0746811811753576 0.75 0.262299539224374\n",
      "0.06688482458438805 0.625 0.15777763031166123\n"
     ]
    },
    {
     "name": "stderr",
     "output_type": "stream",
     "text": [
      "[Parallel(n_jobs=15)]: Done  27 out of  50 | elapsed:  7.7min remaining:  6.6min\n"
     ]
    },
    {
     "name": "stdout",
     "output_type": "stream",
     "text": [
      "0.08459312785056053 0.75 0.2297244689011808\n",
      "0.12106104510492177 0.5 0.27512219205261723\n",
      "0.026639265985876296 1.0 0.15473988349588969\n",
      "0.028974916710206834 1.0 0.23114716375182387\n",
      "0.08269201626220998 1.0 0.33457341422772\n",
      "0.04741354282643415 1.0 0.25655248742259495\n"
     ]
    },
    {
     "name": "stderr",
     "output_type": "stream",
     "text": [
      "[Parallel(n_jobs=15)]: Done  33 out of  50 | elapsed:  8.9min remaining:  4.6min\n"
     ]
    },
    {
     "name": "stdout",
     "output_type": "stream",
     "text": [
      "0.05355986134479879 0.875 0.15744942279432997\n",
      "0.07808443985493885 0.875 0.19447303772528723\n",
      "0.03886868322586177 0.875 0.17779643098701742\n",
      "0.08090689102773728 0.75 0.1428106286719227\n",
      "0.05362906357350361 0.5 0.09905340900325153\n",
      "0.11189142123324233 0.375 0.13770393146491208\n"
     ]
    },
    {
     "name": "stderr",
     "output_type": "stream",
     "text": [
      "[Parallel(n_jobs=15)]: Done  39 out of  50 | elapsed:  9.6min remaining:  2.7min\n"
     ]
    },
    {
     "name": "stdout",
     "output_type": "stream",
     "text": [
      "0.1652019839936814 0.625 0.25347187586870346\n",
      "0.07142684410402242 0.75 0.1910397406993625\n",
      "0.08573368935092221 0.5 0.1856861970713256\n",
      "0.09663920844068964 0.75 0.22958033185167448\n",
      "0.09687205086367835 0.625 0.1409654505861625\n",
      "0.08571397092771538 0.75 0.15878063951076093\n"
     ]
    },
    {
     "name": "stderr",
     "output_type": "stream",
     "text": [
      "[Parallel(n_jobs=15)]: Done  45 out of  50 | elapsed: 11.4min remaining:  1.3min\n"
     ]
    },
    {
     "name": "stdout",
     "output_type": "stream",
     "text": [
      "0.06431183621403927 0.875 0.20252073308506946\n",
      "0.07459310375905832 0.75 0.19028772879804134\n",
      "0.09069152956439372 0.375 0.1274674589124544\n",
      "0.060334736954579526 0.875 0.14199529318064436\n",
      "0.10333627933000097 0.5 0.2127116171099207\n"
     ]
    },
    {
     "name": "stderr",
     "output_type": "stream",
     "text": [
      "[Parallel(n_jobs=15)]: Done  50 out of  50 | elapsed: 12.3min finished\n"
     ]
    }
   ],
   "source": [
    "catch_coverages = Parallel(n_jobs=15, verbose = 10, backend = \"loky\")(delayed(rep_one_real_world)(i) for i in range(reps))"
   ]
  },
  {
   "cell_type": "code",
   "execution_count": 1463,
   "id": "1e8200e5-b784-49c8-9ae9-fd7ee5a2e71d",
   "metadata": {},
   "outputs": [],
   "source": [
    "# catch_coverages"
   ]
  },
  {
   "cell_type": "code",
   "execution_count": 1464,
   "id": "647980a7-9ae3-4c5c-b25c-2e37b6a84679",
   "metadata": {},
   "outputs": [],
   "source": [
    "check = pd.DataFrame(catch_coverages).iloc[:,:-1]"
   ]
  },
  {
   "cell_type": "code",
   "execution_count": 1465,
   "id": "e061792a-e589-486e-b8d2-336622f6bf34",
   "metadata": {},
   "outputs": [],
   "source": [
    "# check"
   ]
  },
  {
   "cell_type": "code",
   "execution_count": 1466,
   "id": "fa101efc-351b-4645-87a3-f008abf1ff3d",
   "metadata": {},
   "outputs": [],
   "source": [
    "# check"
   ]
  },
  {
   "cell_type": "code",
   "execution_count": 1467,
   "id": "77536655-0afd-4976-980a-fa7a28b55201",
   "metadata": {},
   "outputs": [],
   "source": [
    "# check.columns = [\"train_mae\", \"test_mae\", \"avg_ci_width_train\", \"avg_ci_width_test\", \"avg_lstm_weight\", \"exit_iter\", \"exit_status\"]"
   ]
  },
  {
   "cell_type": "code",
   "execution_count": 1468,
   "id": "cd8cefbd-9076-469e-a5dc-dc4637846308",
   "metadata": {},
   "outputs": [
    {
     "data": {
      "text/html": [
       "<div>\n",
       "<style scoped>\n",
       "    .dataframe tbody tr th:only-of-type {\n",
       "        vertical-align: middle;\n",
       "    }\n",
       "\n",
       "    .dataframe tbody tr th {\n",
       "        vertical-align: top;\n",
       "    }\n",
       "\n",
       "    .dataframe thead th {\n",
       "        text-align: right;\n",
       "    }\n",
       "</style>\n",
       "<table border=\"1\" class=\"dataframe\">\n",
       "  <thead>\n",
       "    <tr style=\"text-align: right;\">\n",
       "      <th></th>\n",
       "      <th>0</th>\n",
       "      <th>1</th>\n",
       "      <th>2</th>\n",
       "      <th>3</th>\n",
       "      <th>4</th>\n",
       "      <th>5</th>\n",
       "      <th>6</th>\n",
       "      <th>7</th>\n",
       "      <th>8</th>\n",
       "    </tr>\n",
       "  </thead>\n",
       "  <tbody>\n",
       "    <tr>\n",
       "      <th>0</th>\n",
       "      <td>0.054401</td>\n",
       "      <td>0.046964</td>\n",
       "      <td>1.000000</td>\n",
       "      <td>0.366999</td>\n",
       "      <td>1.000</td>\n",
       "      <td>0.406118</td>\n",
       "      <td>0.445517</td>\n",
       "      <td>20</td>\n",
       "      <td>2.550000</td>\n",
       "    </tr>\n",
       "    <tr>\n",
       "      <th>1</th>\n",
       "      <td>0.026512</td>\n",
       "      <td>0.069044</td>\n",
       "      <td>0.984848</td>\n",
       "      <td>0.179578</td>\n",
       "      <td>0.625</td>\n",
       "      <td>0.186275</td>\n",
       "      <td>0.516101</td>\n",
       "      <td>75</td>\n",
       "      <td>3.700000</td>\n",
       "    </tr>\n",
       "    <tr>\n",
       "      <th>2</th>\n",
       "      <td>0.023458</td>\n",
       "      <td>0.048840</td>\n",
       "      <td>0.954545</td>\n",
       "      <td>0.100808</td>\n",
       "      <td>0.875</td>\n",
       "      <td>0.128712</td>\n",
       "      <td>0.502170</td>\n",
       "      <td>81</td>\n",
       "      <td>3.816667</td>\n",
       "    </tr>\n",
       "    <tr>\n",
       "      <th>3</th>\n",
       "      <td>0.032143</td>\n",
       "      <td>0.034035</td>\n",
       "      <td>0.954545</td>\n",
       "      <td>0.159381</td>\n",
       "      <td>0.750</td>\n",
       "      <td>0.177744</td>\n",
       "      <td>0.499660</td>\n",
       "      <td>51</td>\n",
       "      <td>3.166667</td>\n",
       "    </tr>\n",
       "    <tr>\n",
       "      <th>4</th>\n",
       "      <td>0.047097</td>\n",
       "      <td>0.072162</td>\n",
       "      <td>0.954545</td>\n",
       "      <td>0.244029</td>\n",
       "      <td>0.875</td>\n",
       "      <td>0.212876</td>\n",
       "      <td>0.495755</td>\n",
       "      <td>38</td>\n",
       "      <td>2.950000</td>\n",
       "    </tr>\n",
       "    <tr>\n",
       "      <th>5</th>\n",
       "      <td>0.026522</td>\n",
       "      <td>0.049047</td>\n",
       "      <td>1.000000</td>\n",
       "      <td>0.190660</td>\n",
       "      <td>0.875</td>\n",
       "      <td>0.192044</td>\n",
       "      <td>0.513296</td>\n",
       "      <td>64</td>\n",
       "      <td>3.483333</td>\n",
       "    </tr>\n",
       "    <tr>\n",
       "      <th>6</th>\n",
       "      <td>0.021162</td>\n",
       "      <td>0.050667</td>\n",
       "      <td>0.954545</td>\n",
       "      <td>0.103306</td>\n",
       "      <td>0.750</td>\n",
       "      <td>0.140018</td>\n",
       "      <td>0.499452</td>\n",
       "      <td>95</td>\n",
       "      <td>4.066667</td>\n",
       "    </tr>\n",
       "    <tr>\n",
       "      <th>7</th>\n",
       "      <td>0.030675</td>\n",
       "      <td>0.054514</td>\n",
       "      <td>0.954545</td>\n",
       "      <td>0.153962</td>\n",
       "      <td>0.750</td>\n",
       "      <td>0.157897</td>\n",
       "      <td>0.498002</td>\n",
       "      <td>115</td>\n",
       "      <td>4.516667</td>\n",
       "    </tr>\n",
       "    <tr>\n",
       "      <th>8</th>\n",
       "      <td>0.037821</td>\n",
       "      <td>0.049810</td>\n",
       "      <td>0.954545</td>\n",
       "      <td>0.177708</td>\n",
       "      <td>1.000</td>\n",
       "      <td>0.186582</td>\n",
       "      <td>0.499614</td>\n",
       "      <td>61</td>\n",
       "      <td>3.383333</td>\n",
       "    </tr>\n",
       "    <tr>\n",
       "      <th>9</th>\n",
       "      <td>0.031986</td>\n",
       "      <td>0.082757</td>\n",
       "      <td>0.969697</td>\n",
       "      <td>0.178237</td>\n",
       "      <td>0.750</td>\n",
       "      <td>0.221232</td>\n",
       "      <td>0.480165</td>\n",
       "      <td>28</td>\n",
       "      <td>2.716667</td>\n",
       "    </tr>\n",
       "    <tr>\n",
       "      <th>10</th>\n",
       "      <td>0.052966</td>\n",
       "      <td>0.055670</td>\n",
       "      <td>0.954545</td>\n",
       "      <td>0.241646</td>\n",
       "      <td>1.000</td>\n",
       "      <td>0.257993</td>\n",
       "      <td>0.447212</td>\n",
       "      <td>24</td>\n",
       "      <td>2.650000</td>\n",
       "    </tr>\n",
       "    <tr>\n",
       "      <th>11</th>\n",
       "      <td>0.022151</td>\n",
       "      <td>0.045099</td>\n",
       "      <td>0.954545</td>\n",
       "      <td>0.106809</td>\n",
       "      <td>0.750</td>\n",
       "      <td>0.165917</td>\n",
       "      <td>0.496768</td>\n",
       "      <td>76</td>\n",
       "      <td>3.733333</td>\n",
       "    </tr>\n",
       "    <tr>\n",
       "      <th>12</th>\n",
       "      <td>0.034461</td>\n",
       "      <td>0.046453</td>\n",
       "      <td>0.954545</td>\n",
       "      <td>0.162097</td>\n",
       "      <td>0.750</td>\n",
       "      <td>0.138701</td>\n",
       "      <td>0.487497</td>\n",
       "      <td>39</td>\n",
       "      <td>2.966667</td>\n",
       "    </tr>\n",
       "    <tr>\n",
       "      <th>13</th>\n",
       "      <td>0.031180</td>\n",
       "      <td>0.039493</td>\n",
       "      <td>0.969697</td>\n",
       "      <td>0.166971</td>\n",
       "      <td>1.000</td>\n",
       "      <td>0.218817</td>\n",
       "      <td>0.517351</td>\n",
       "      <td>44</td>\n",
       "      <td>3.050000</td>\n",
       "    </tr>\n",
       "    <tr>\n",
       "      <th>14</th>\n",
       "      <td>0.028664</td>\n",
       "      <td>0.037834</td>\n",
       "      <td>0.954545</td>\n",
       "      <td>0.115889</td>\n",
       "      <td>0.750</td>\n",
       "      <td>0.095433</td>\n",
       "      <td>0.492648</td>\n",
       "      <td>51</td>\n",
       "      <td>3.183333</td>\n",
       "    </tr>\n",
       "    <tr>\n",
       "      <th>15</th>\n",
       "      <td>0.029044</td>\n",
       "      <td>0.090827</td>\n",
       "      <td>1.000000</td>\n",
       "      <td>0.150348</td>\n",
       "      <td>0.500</td>\n",
       "      <td>0.161505</td>\n",
       "      <td>0.507635</td>\n",
       "      <td>64</td>\n",
       "      <td>3.466667</td>\n",
       "    </tr>\n",
       "    <tr>\n",
       "      <th>16</th>\n",
       "      <td>0.044594</td>\n",
       "      <td>0.067996</td>\n",
       "      <td>0.969697</td>\n",
       "      <td>0.222174</td>\n",
       "      <td>1.000</td>\n",
       "      <td>0.273484</td>\n",
       "      <td>0.438684</td>\n",
       "      <td>18</td>\n",
       "      <td>2.516667</td>\n",
       "    </tr>\n",
       "    <tr>\n",
       "      <th>17</th>\n",
       "      <td>0.033451</td>\n",
       "      <td>0.125861</td>\n",
       "      <td>0.954545</td>\n",
       "      <td>0.179777</td>\n",
       "      <td>0.375</td>\n",
       "      <td>0.225487</td>\n",
       "      <td>0.500717</td>\n",
       "      <td>54</td>\n",
       "      <td>3.250000</td>\n",
       "    </tr>\n",
       "    <tr>\n",
       "      <th>18</th>\n",
       "      <td>0.022783</td>\n",
       "      <td>0.111891</td>\n",
       "      <td>0.954545</td>\n",
       "      <td>0.117806</td>\n",
       "      <td>0.375</td>\n",
       "      <td>0.137704</td>\n",
       "      <td>0.498983</td>\n",
       "      <td>222</td>\n",
       "      <td>6.466667</td>\n",
       "    </tr>\n",
       "    <tr>\n",
       "      <th>19</th>\n",
       "      <td>0.039036</td>\n",
       "      <td>0.067651</td>\n",
       "      <td>0.969697</td>\n",
       "      <td>0.190000</td>\n",
       "      <td>0.875</td>\n",
       "      <td>0.204592</td>\n",
       "      <td>0.496763</td>\n",
       "      <td>42</td>\n",
       "      <td>3.016667</td>\n",
       "    </tr>\n",
       "    <tr>\n",
       "      <th>20</th>\n",
       "      <td>0.034417</td>\n",
       "      <td>0.072283</td>\n",
       "      <td>0.954545</td>\n",
       "      <td>0.155288</td>\n",
       "      <td>0.750</td>\n",
       "      <td>0.172969</td>\n",
       "      <td>0.504128</td>\n",
       "      <td>44</td>\n",
       "      <td>3.016667</td>\n",
       "    </tr>\n",
       "    <tr>\n",
       "      <th>21</th>\n",
       "      <td>0.037103</td>\n",
       "      <td>0.063181</td>\n",
       "      <td>0.954545</td>\n",
       "      <td>0.164980</td>\n",
       "      <td>1.000</td>\n",
       "      <td>0.198435</td>\n",
       "      <td>0.511359</td>\n",
       "      <td>51</td>\n",
       "      <td>3.116667</td>\n",
       "    </tr>\n",
       "    <tr>\n",
       "      <th>22</th>\n",
       "      <td>0.041966</td>\n",
       "      <td>0.042465</td>\n",
       "      <td>1.000000</td>\n",
       "      <td>0.288682</td>\n",
       "      <td>1.000</td>\n",
       "      <td>0.265334</td>\n",
       "      <td>0.458265</td>\n",
       "      <td>23</td>\n",
       "      <td>2.616667</td>\n",
       "    </tr>\n",
       "    <tr>\n",
       "      <th>23</th>\n",
       "      <td>0.021821</td>\n",
       "      <td>0.066885</td>\n",
       "      <td>0.984848</td>\n",
       "      <td>0.119179</td>\n",
       "      <td>0.625</td>\n",
       "      <td>0.157778</td>\n",
       "      <td>0.504832</td>\n",
       "      <td>108</td>\n",
       "      <td>4.183333</td>\n",
       "    </tr>\n",
       "    <tr>\n",
       "      <th>24</th>\n",
       "      <td>0.033088</td>\n",
       "      <td>0.054180</td>\n",
       "      <td>0.954545</td>\n",
       "      <td>0.133758</td>\n",
       "      <td>0.875</td>\n",
       "      <td>0.172576</td>\n",
       "      <td>0.496525</td>\n",
       "      <td>53</td>\n",
       "      <td>3.150000</td>\n",
       "    </tr>\n",
       "    <tr>\n",
       "      <th>25</th>\n",
       "      <td>0.034236</td>\n",
       "      <td>0.083415</td>\n",
       "      <td>0.954545</td>\n",
       "      <td>0.182601</td>\n",
       "      <td>0.875</td>\n",
       "      <td>0.262109</td>\n",
       "      <td>0.502957</td>\n",
       "      <td>47</td>\n",
       "      <td>3.016667</td>\n",
       "    </tr>\n",
       "    <tr>\n",
       "      <th>26</th>\n",
       "      <td>0.029197</td>\n",
       "      <td>0.026639</td>\n",
       "      <td>0.954545</td>\n",
       "      <td>0.159926</td>\n",
       "      <td>1.000</td>\n",
       "      <td>0.154740</td>\n",
       "      <td>0.498080</td>\n",
       "      <td>117</td>\n",
       "      <td>4.333333</td>\n",
       "    </tr>\n",
       "    <tr>\n",
       "      <th>27</th>\n",
       "      <td>0.043008</td>\n",
       "      <td>0.026658</td>\n",
       "      <td>0.954545</td>\n",
       "      <td>0.247580</td>\n",
       "      <td>1.000</td>\n",
       "      <td>0.223981</td>\n",
       "      <td>0.500123</td>\n",
       "      <td>42</td>\n",
       "      <td>2.900000</td>\n",
       "    </tr>\n",
       "    <tr>\n",
       "      <th>28</th>\n",
       "      <td>0.030971</td>\n",
       "      <td>0.074681</td>\n",
       "      <td>0.954545</td>\n",
       "      <td>0.163678</td>\n",
       "      <td>0.750</td>\n",
       "      <td>0.262300</td>\n",
       "      <td>0.499515</td>\n",
       "      <td>62</td>\n",
       "      <td>3.233333</td>\n",
       "    </tr>\n",
       "    <tr>\n",
       "      <th>29</th>\n",
       "      <td>0.033019</td>\n",
       "      <td>0.084593</td>\n",
       "      <td>0.969697</td>\n",
       "      <td>0.170215</td>\n",
       "      <td>0.750</td>\n",
       "      <td>0.229724</td>\n",
       "      <td>0.503031</td>\n",
       "      <td>74</td>\n",
       "      <td>3.433333</td>\n",
       "    </tr>\n",
       "    <tr>\n",
       "      <th>30</th>\n",
       "      <td>0.036383</td>\n",
       "      <td>0.121061</td>\n",
       "      <td>0.954545</td>\n",
       "      <td>0.174740</td>\n",
       "      <td>0.500</td>\n",
       "      <td>0.275122</td>\n",
       "      <td>0.505471</td>\n",
       "      <td>45</td>\n",
       "      <td>2.800000</td>\n",
       "    </tr>\n",
       "    <tr>\n",
       "      <th>31</th>\n",
       "      <td>0.036347</td>\n",
       "      <td>0.028975</td>\n",
       "      <td>0.984848</td>\n",
       "      <td>0.274635</td>\n",
       "      <td>1.000</td>\n",
       "      <td>0.231147</td>\n",
       "      <td>0.485816</td>\n",
       "      <td>39</td>\n",
       "      <td>2.633333</td>\n",
       "    </tr>\n",
       "    <tr>\n",
       "      <th>32</th>\n",
       "      <td>0.035466</td>\n",
       "      <td>0.053560</td>\n",
       "      <td>0.954545</td>\n",
       "      <td>0.123749</td>\n",
       "      <td>0.875</td>\n",
       "      <td>0.157449</td>\n",
       "      <td>0.505856</td>\n",
       "      <td>48</td>\n",
       "      <td>2.766667</td>\n",
       "    </tr>\n",
       "    <tr>\n",
       "      <th>33</th>\n",
       "      <td>0.022719</td>\n",
       "      <td>0.053629</td>\n",
       "      <td>0.969697</td>\n",
       "      <td>0.123620</td>\n",
       "      <td>0.500</td>\n",
       "      <td>0.099053</td>\n",
       "      <td>0.502208</td>\n",
       "      <td>61</td>\n",
       "      <td>3.033333</td>\n",
       "    </tr>\n",
       "    <tr>\n",
       "      <th>34</th>\n",
       "      <td>0.037952</td>\n",
       "      <td>0.078084</td>\n",
       "      <td>0.954545</td>\n",
       "      <td>0.154315</td>\n",
       "      <td>0.875</td>\n",
       "      <td>0.194473</td>\n",
       "      <td>0.512393</td>\n",
       "      <td>54</td>\n",
       "      <td>2.916667</td>\n",
       "    </tr>\n",
       "    <tr>\n",
       "      <th>35</th>\n",
       "      <td>0.047941</td>\n",
       "      <td>0.082692</td>\n",
       "      <td>0.954545</td>\n",
       "      <td>0.222552</td>\n",
       "      <td>1.000</td>\n",
       "      <td>0.334573</td>\n",
       "      <td>0.499641</td>\n",
       "      <td>32</td>\n",
       "      <td>2.500000</td>\n",
       "    </tr>\n",
       "    <tr>\n",
       "      <th>36</th>\n",
       "      <td>0.039439</td>\n",
       "      <td>0.047414</td>\n",
       "      <td>0.969697</td>\n",
       "      <td>0.255962</td>\n",
       "      <td>1.000</td>\n",
       "      <td>0.256552</td>\n",
       "      <td>0.525011</td>\n",
       "      <td>28</td>\n",
       "      <td>2.400000</td>\n",
       "    </tr>\n",
       "    <tr>\n",
       "      <th>37</th>\n",
       "      <td>0.041837</td>\n",
       "      <td>0.038869</td>\n",
       "      <td>0.969697</td>\n",
       "      <td>0.217194</td>\n",
       "      <td>0.875</td>\n",
       "      <td>0.177796</td>\n",
       "      <td>0.568781</td>\n",
       "      <td>22</td>\n",
       "      <td>2.300000</td>\n",
       "    </tr>\n",
       "    <tr>\n",
       "      <th>38</th>\n",
       "      <td>0.030334</td>\n",
       "      <td>0.071427</td>\n",
       "      <td>0.969697</td>\n",
       "      <td>0.138520</td>\n",
       "      <td>0.750</td>\n",
       "      <td>0.191040</td>\n",
       "      <td>0.499368</td>\n",
       "      <td>64</td>\n",
       "      <td>3.016667</td>\n",
       "    </tr>\n",
       "    <tr>\n",
       "      <th>39</th>\n",
       "      <td>0.027845</td>\n",
       "      <td>0.080907</td>\n",
       "      <td>0.954545</td>\n",
       "      <td>0.156009</td>\n",
       "      <td>0.750</td>\n",
       "      <td>0.142811</td>\n",
       "      <td>0.527213</td>\n",
       "      <td>22</td>\n",
       "      <td>2.266667</td>\n",
       "    </tr>\n",
       "    <tr>\n",
       "      <th>40</th>\n",
       "      <td>0.035716</td>\n",
       "      <td>0.165202</td>\n",
       "      <td>0.969697</td>\n",
       "      <td>0.185461</td>\n",
       "      <td>0.625</td>\n",
       "      <td>0.253472</td>\n",
       "      <td>0.526167</td>\n",
       "      <td>25</td>\n",
       "      <td>2.300000</td>\n",
       "    </tr>\n",
       "    <tr>\n",
       "      <th>41</th>\n",
       "      <td>0.028679</td>\n",
       "      <td>0.085734</td>\n",
       "      <td>0.954545</td>\n",
       "      <td>0.129306</td>\n",
       "      <td>0.500</td>\n",
       "      <td>0.185686</td>\n",
       "      <td>0.504380</td>\n",
       "      <td>36</td>\n",
       "      <td>2.466667</td>\n",
       "    </tr>\n",
       "    <tr>\n",
       "      <th>42</th>\n",
       "      <td>0.032583</td>\n",
       "      <td>0.096639</td>\n",
       "      <td>0.954545</td>\n",
       "      <td>0.157678</td>\n",
       "      <td>0.750</td>\n",
       "      <td>0.229580</td>\n",
       "      <td>0.528844</td>\n",
       "      <td>41</td>\n",
       "      <td>2.533333</td>\n",
       "    </tr>\n",
       "    <tr>\n",
       "      <th>43</th>\n",
       "      <td>0.028707</td>\n",
       "      <td>0.096872</td>\n",
       "      <td>0.969697</td>\n",
       "      <td>0.150926</td>\n",
       "      <td>0.625</td>\n",
       "      <td>0.140965</td>\n",
       "      <td>0.507654</td>\n",
       "      <td>76</td>\n",
       "      <td>3.133333</td>\n",
       "    </tr>\n",
       "    <tr>\n",
       "      <th>44</th>\n",
       "      <td>0.030168</td>\n",
       "      <td>0.085714</td>\n",
       "      <td>0.954545</td>\n",
       "      <td>0.128236</td>\n",
       "      <td>0.750</td>\n",
       "      <td>0.158781</td>\n",
       "      <td>0.504696</td>\n",
       "      <td>76</td>\n",
       "      <td>3.116667</td>\n",
       "    </tr>\n",
       "    <tr>\n",
       "      <th>45</th>\n",
       "      <td>0.035993</td>\n",
       "      <td>0.074593</td>\n",
       "      <td>0.954545</td>\n",
       "      <td>0.165597</td>\n",
       "      <td>0.750</td>\n",
       "      <td>0.190288</td>\n",
       "      <td>0.498972</td>\n",
       "      <td>79</td>\n",
       "      <td>3.133333</td>\n",
       "    </tr>\n",
       "    <tr>\n",
       "      <th>46</th>\n",
       "      <td>0.026966</td>\n",
       "      <td>0.064312</td>\n",
       "      <td>0.984848</td>\n",
       "      <td>0.154442</td>\n",
       "      <td>0.875</td>\n",
       "      <td>0.202521</td>\n",
       "      <td>0.509195</td>\n",
       "      <td>61</td>\n",
       "      <td>2.800000</td>\n",
       "    </tr>\n",
       "    <tr>\n",
       "      <th>47</th>\n",
       "      <td>0.021455</td>\n",
       "      <td>0.103336</td>\n",
       "      <td>0.969697</td>\n",
       "      <td>0.131324</td>\n",
       "      <td>0.500</td>\n",
       "      <td>0.212712</td>\n",
       "      <td>0.506071</td>\n",
       "      <td>97</td>\n",
       "      <td>3.366667</td>\n",
       "    </tr>\n",
       "    <tr>\n",
       "      <th>48</th>\n",
       "      <td>0.022014</td>\n",
       "      <td>0.090692</td>\n",
       "      <td>0.954545</td>\n",
       "      <td>0.104863</td>\n",
       "      <td>0.375</td>\n",
       "      <td>0.127467</td>\n",
       "      <td>0.499605</td>\n",
       "      <td>77</td>\n",
       "      <td>3.066667</td>\n",
       "    </tr>\n",
       "    <tr>\n",
       "      <th>49</th>\n",
       "      <td>0.029068</td>\n",
       "      <td>0.060335</td>\n",
       "      <td>0.954545</td>\n",
       "      <td>0.142785</td>\n",
       "      <td>0.875</td>\n",
       "      <td>0.141995</td>\n",
       "      <td>0.503139</td>\n",
       "      <td>69</td>\n",
       "      <td>2.900000</td>\n",
       "    </tr>\n",
       "  </tbody>\n",
       "</table>\n",
       "</div>"
      ],
      "text/plain": [
       "           0         1         2         3      4         5         6    7  \\\n",
       "0   0.054401  0.046964  1.000000  0.366999  1.000  0.406118  0.445517   20   \n",
       "1   0.026512  0.069044  0.984848  0.179578  0.625  0.186275  0.516101   75   \n",
       "2   0.023458  0.048840  0.954545  0.100808  0.875  0.128712  0.502170   81   \n",
       "3   0.032143  0.034035  0.954545  0.159381  0.750  0.177744  0.499660   51   \n",
       "4   0.047097  0.072162  0.954545  0.244029  0.875  0.212876  0.495755   38   \n",
       "5   0.026522  0.049047  1.000000  0.190660  0.875  0.192044  0.513296   64   \n",
       "6   0.021162  0.050667  0.954545  0.103306  0.750  0.140018  0.499452   95   \n",
       "7   0.030675  0.054514  0.954545  0.153962  0.750  0.157897  0.498002  115   \n",
       "8   0.037821  0.049810  0.954545  0.177708  1.000  0.186582  0.499614   61   \n",
       "9   0.031986  0.082757  0.969697  0.178237  0.750  0.221232  0.480165   28   \n",
       "10  0.052966  0.055670  0.954545  0.241646  1.000  0.257993  0.447212   24   \n",
       "11  0.022151  0.045099  0.954545  0.106809  0.750  0.165917  0.496768   76   \n",
       "12  0.034461  0.046453  0.954545  0.162097  0.750  0.138701  0.487497   39   \n",
       "13  0.031180  0.039493  0.969697  0.166971  1.000  0.218817  0.517351   44   \n",
       "14  0.028664  0.037834  0.954545  0.115889  0.750  0.095433  0.492648   51   \n",
       "15  0.029044  0.090827  1.000000  0.150348  0.500  0.161505  0.507635   64   \n",
       "16  0.044594  0.067996  0.969697  0.222174  1.000  0.273484  0.438684   18   \n",
       "17  0.033451  0.125861  0.954545  0.179777  0.375  0.225487  0.500717   54   \n",
       "18  0.022783  0.111891  0.954545  0.117806  0.375  0.137704  0.498983  222   \n",
       "19  0.039036  0.067651  0.969697  0.190000  0.875  0.204592  0.496763   42   \n",
       "20  0.034417  0.072283  0.954545  0.155288  0.750  0.172969  0.504128   44   \n",
       "21  0.037103  0.063181  0.954545  0.164980  1.000  0.198435  0.511359   51   \n",
       "22  0.041966  0.042465  1.000000  0.288682  1.000  0.265334  0.458265   23   \n",
       "23  0.021821  0.066885  0.984848  0.119179  0.625  0.157778  0.504832  108   \n",
       "24  0.033088  0.054180  0.954545  0.133758  0.875  0.172576  0.496525   53   \n",
       "25  0.034236  0.083415  0.954545  0.182601  0.875  0.262109  0.502957   47   \n",
       "26  0.029197  0.026639  0.954545  0.159926  1.000  0.154740  0.498080  117   \n",
       "27  0.043008  0.026658  0.954545  0.247580  1.000  0.223981  0.500123   42   \n",
       "28  0.030971  0.074681  0.954545  0.163678  0.750  0.262300  0.499515   62   \n",
       "29  0.033019  0.084593  0.969697  0.170215  0.750  0.229724  0.503031   74   \n",
       "30  0.036383  0.121061  0.954545  0.174740  0.500  0.275122  0.505471   45   \n",
       "31  0.036347  0.028975  0.984848  0.274635  1.000  0.231147  0.485816   39   \n",
       "32  0.035466  0.053560  0.954545  0.123749  0.875  0.157449  0.505856   48   \n",
       "33  0.022719  0.053629  0.969697  0.123620  0.500  0.099053  0.502208   61   \n",
       "34  0.037952  0.078084  0.954545  0.154315  0.875  0.194473  0.512393   54   \n",
       "35  0.047941  0.082692  0.954545  0.222552  1.000  0.334573  0.499641   32   \n",
       "36  0.039439  0.047414  0.969697  0.255962  1.000  0.256552  0.525011   28   \n",
       "37  0.041837  0.038869  0.969697  0.217194  0.875  0.177796  0.568781   22   \n",
       "38  0.030334  0.071427  0.969697  0.138520  0.750  0.191040  0.499368   64   \n",
       "39  0.027845  0.080907  0.954545  0.156009  0.750  0.142811  0.527213   22   \n",
       "40  0.035716  0.165202  0.969697  0.185461  0.625  0.253472  0.526167   25   \n",
       "41  0.028679  0.085734  0.954545  0.129306  0.500  0.185686  0.504380   36   \n",
       "42  0.032583  0.096639  0.954545  0.157678  0.750  0.229580  0.528844   41   \n",
       "43  0.028707  0.096872  0.969697  0.150926  0.625  0.140965  0.507654   76   \n",
       "44  0.030168  0.085714  0.954545  0.128236  0.750  0.158781  0.504696   76   \n",
       "45  0.035993  0.074593  0.954545  0.165597  0.750  0.190288  0.498972   79   \n",
       "46  0.026966  0.064312  0.984848  0.154442  0.875  0.202521  0.509195   61   \n",
       "47  0.021455  0.103336  0.969697  0.131324  0.500  0.212712  0.506071   97   \n",
       "48  0.022014  0.090692  0.954545  0.104863  0.375  0.127467  0.499605   77   \n",
       "49  0.029068  0.060335  0.954545  0.142785  0.875  0.141995  0.503139   69   \n",
       "\n",
       "           8  \n",
       "0   2.550000  \n",
       "1   3.700000  \n",
       "2   3.816667  \n",
       "3   3.166667  \n",
       "4   2.950000  \n",
       "5   3.483333  \n",
       "6   4.066667  \n",
       "7   4.516667  \n",
       "8   3.383333  \n",
       "9   2.716667  \n",
       "10  2.650000  \n",
       "11  3.733333  \n",
       "12  2.966667  \n",
       "13  3.050000  \n",
       "14  3.183333  \n",
       "15  3.466667  \n",
       "16  2.516667  \n",
       "17  3.250000  \n",
       "18  6.466667  \n",
       "19  3.016667  \n",
       "20  3.016667  \n",
       "21  3.116667  \n",
       "22  2.616667  \n",
       "23  4.183333  \n",
       "24  3.150000  \n",
       "25  3.016667  \n",
       "26  4.333333  \n",
       "27  2.900000  \n",
       "28  3.233333  \n",
       "29  3.433333  \n",
       "30  2.800000  \n",
       "31  2.633333  \n",
       "32  2.766667  \n",
       "33  3.033333  \n",
       "34  2.916667  \n",
       "35  2.500000  \n",
       "36  2.400000  \n",
       "37  2.300000  \n",
       "38  3.016667  \n",
       "39  2.266667  \n",
       "40  2.300000  \n",
       "41  2.466667  \n",
       "42  2.533333  \n",
       "43  3.133333  \n",
       "44  3.116667  \n",
       "45  3.133333  \n",
       "46  2.800000  \n",
       "47  3.366667  \n",
       "48  3.066667  \n",
       "49  2.900000  "
      ]
     },
     "execution_count": 1468,
     "metadata": {},
     "output_type": "execute_result"
    }
   ],
   "source": [
    "check"
   ]
  },
  {
   "cell_type": "code",
   "execution_count": 1469,
   "id": "4fc1dcac-24b2-45e7-ae4c-e55eca90a6c6",
   "metadata": {},
   "outputs": [],
   "source": [
    "check.columns = [\"train_mae\", \"test_mae\", \"train_coverage\", \"train_width\", \"test_coverage\", \"test_width\", \"lstm_weight\" ,\"exit_iter\", \"time_taken\"]"
   ]
  },
  {
   "cell_type": "code",
   "execution_count": 1470,
   "id": "fcf483cf-1d09-4d5d-8c7c-7db62473a356",
   "metadata": {},
   "outputs": [
    {
     "data": {
      "text/plain": [
       "train_mae          0.033131\n",
       "test_mae           0.068433\n",
       "train_coverage     0.964242\n",
       "train_width        0.171720\n",
       "test_coverage      0.780000\n",
       "test_width         0.197851\n",
       "lstm_weight        0.500666\n",
       "exit_iter         58.700000\n",
       "time_taken         3.142000\n",
       "dtype: float64"
      ]
     },
     "execution_count": 1470,
     "metadata": {},
     "output_type": "execute_result"
    }
   ],
   "source": [
    "check.mean()"
   ]
  },
  {
   "cell_type": "code",
   "execution_count": 1471,
   "id": "e776a220-0227-4460-bd21-5aa40a756b12",
   "metadata": {},
   "outputs": [],
   "source": [
    "check_mean = check.mean().reset_index()"
   ]
  },
  {
   "cell_type": "code",
   "execution_count": 1472,
   "id": "1839ab29-f07b-4245-8c57-76f96a51f181",
   "metadata": {},
   "outputs": [],
   "source": [
    "check_mean.to_csv(\"Real_World_mean_metrics_ANN_LSTM_EnKF_LSTM_Doc2Vec_\" + \"var_weights_\" + str(var_weights) + \"_num_ens_\" + str(size_ens) +  \".csv\", index = False)"
   ]
  },
  {
   "cell_type": "code",
   "execution_count": 1473,
   "id": "9b520f45-ad8d-453c-80e7-7a6bb711692f",
   "metadata": {},
   "outputs": [
    {
     "data": {
      "text/plain": [
       "train_mae          0.007929\n",
       "test_mae           0.027485\n",
       "train_coverage     0.014279\n",
       "train_width        0.052945\n",
       "test_coverage      0.184819\n",
       "test_width         0.058177\n",
       "lstm_weight        0.020779\n",
       "exit_iter         34.132545\n",
       "time_taken         0.703185\n",
       "dtype: float64"
      ]
     },
     "execution_count": 1473,
     "metadata": {},
     "output_type": "execute_result"
    }
   ],
   "source": [
    "check.std()"
   ]
  },
  {
   "cell_type": "code",
   "execution_count": 1474,
   "id": "87f0aecc-b638-486c-96ce-5f8d47b4a619",
   "metadata": {},
   "outputs": [],
   "source": [
    "check_std = check.std().reset_index()"
   ]
  },
  {
   "cell_type": "code",
   "execution_count": 1475,
   "id": "355e9158-ecd7-48bc-9d13-d715fcb3ceb3",
   "metadata": {},
   "outputs": [],
   "source": [
    "check_std.to_csv(\"Real_World_std_dev_metrics_ANN_LSTM_EnKF_LSTM_Doc2Vec_\" + \"var_weights_\" + str(var_weights) + \"_num_ens_\" + str(size_ens)+  \".csv\", index = False)"
   ]
  },
  {
   "cell_type": "code",
   "execution_count": 1476,
   "id": "e3e43629-3a74-4d41-acaf-dea297a3840c",
   "metadata": {},
   "outputs": [
    {
     "data": {
      "text/plain": [
       "train_mae         0.000159\n",
       "test_mae          0.000550\n",
       "train_coverage    0.000286\n",
       "train_width       0.001059\n",
       "test_coverage     0.003696\n",
       "test_width        0.001164\n",
       "lstm_weight       0.000416\n",
       "exit_iter         0.682651\n",
       "time_taken        0.014064\n",
       "dtype: float64"
      ]
     },
     "execution_count": 1476,
     "metadata": {},
     "output_type": "execute_result"
    }
   ],
   "source": [
    "check.std()/reps"
   ]
  },
  {
   "cell_type": "code",
   "execution_count": 1477,
   "id": "22fedaa0-1553-4f19-a388-552e8685f835",
   "metadata": {},
   "outputs": [],
   "source": [
    "# with open(\"Real_World_EnKF_LSTM_Doc2Vec_\" + \"var_weights_\" + str(var_weights) + \"_num_ens_\" + str(size_ens) + \".pkl\", 'rb') as f:\n",
    "#     catch_coverages = pickle.load(f)  "
   ]
  },
  {
   "cell_type": "code",
   "execution_count": 1478,
   "id": "41b8e579-df3e-4937-bb73-16c1d945a952",
   "metadata": {},
   "outputs": [],
   "source": [
    "# catch_coverages[0][-1].mean(0)"
   ]
  },
  {
   "cell_type": "code",
   "execution_count": 1479,
   "id": "8782e141-df51-4300-8822-4ac054073197",
   "metadata": {},
   "outputs": [],
   "source": [
    "# expit(catch1[0][2])"
   ]
  },
  {
   "cell_type": "code",
   "execution_count": 1493,
   "id": "a83c3d12-b2f0-44b8-9904-7b10c4f513bd",
   "metadata": {},
   "outputs": [],
   "source": [
    "true_preds = []\n",
    "enkf_preds = []\n",
    "for i in range(0,reps):\n",
    "    all_preds = catch_coverages[i][-1]\n",
    "    all_preds = all_preds.mean(0)\n",
    "    catch_test_probs = (expit(catch1[i][2]) + expit(catch2[i][2]))/2\n",
    "    true_probs = catch_test_probs.ravel().tolist()\n",
    "    true_preds.append(true_probs)\n",
    "    enkf_preds.append(all_preds.ravel().tolist())\n",
    "    # plt.scatter(true_probs, all_preds.ravel().tolist())\n",
    "    # plt.show()"
   ]
  },
  {
   "cell_type": "code",
   "execution_count": 1494,
   "id": "4089a2ab-43f9-4e24-a7ed-add7bdc14156",
   "metadata": {},
   "outputs": [],
   "source": [
    "true_preds = [inner for item in true_preds for inner in item]"
   ]
  },
  {
   "cell_type": "code",
   "execution_count": 1495,
   "id": "65492b8d-d7e4-4375-8577-d79a633680b7",
   "metadata": {},
   "outputs": [],
   "source": [
    "enkf_preds = [inner for item in enkf_preds for inner in item]"
   ]
  },
  {
   "cell_type": "code",
   "execution_count": 1483,
   "id": "5e66f450-27b5-4f4c-a831-c868c1f0e541",
   "metadata": {},
   "outputs": [],
   "source": [
    "# len(true_preds)"
   ]
  },
  {
   "cell_type": "code",
   "execution_count": 1496,
   "id": "19776731-14c7-43c3-bd48-163aa67e2c76",
   "metadata": {},
   "outputs": [
    {
     "data": {
      "text/plain": [
       "0.0684328492125053"
      ]
     },
     "execution_count": 1496,
     "metadata": {},
     "output_type": "execute_result"
    }
   ],
   "source": [
    "np.mean(np.abs(np.array(true_preds)-np.array(enkf_preds)))"
   ]
  },
  {
   "cell_type": "code",
   "execution_count": 1497,
   "id": "1ebada74-6fe8-4f58-a939-87ca7399aef8",
   "metadata": {},
   "outputs": [
    {
     "data": {
      "image/png": "[encoded data removed]",
      "text/plain": [
       "<Figure size 640x480 with 1 Axes>"
      ]
     },
     "metadata": {},
     "output_type": "display_data"
    }
   ],
   "source": [
    "plt.scatter(enkf_preds,true_preds, alpha=0.5)\n",
    "plt.xlabel(\"MEnKF-ANN Predictions\", fontsize = 15, fontweight = \"bold\")\n",
    "plt.ylabel(\"Avg (LSTM,Doc2Vec_ANN) Predictions\", fontsize = 13, fontweight = \"bold\")\n",
    "plt.xticks(fontsize = 10, fontweight = \"bold\")\n",
    "plt.yticks(fontsize = 10, fontweight = \"bold\")\n",
    "plt.axline((0, 0), slope=1)\n",
    "plt.show()"
   ]
  },
  {
   "cell_type": "code",
   "execution_count": 1486,
   "id": "bc99d01d-0709-457d-88c7-839b0068c062",
   "metadata": {},
   "outputs": [],
   "source": [
    "with open(\"Real_World_ANN_LSTM_EnKF_LSTM_Doc2Vec_\" + \"var_weights_\" + str(var_weights) + \"_num_ens_\" + str(size_ens) + \".pkl\", 'wb') as f:\n",
    "    first_lstm = pickle.dump(catch_coverages, f)  "
   ]
  },
  {
   "cell_type": "code",
   "execution_count": 1487,
   "id": "ead27b05-299e-49dc-bb97-236a18cd05e5",
   "metadata": {},
   "outputs": [],
   "source": [
    "# check"
   ]
  }
 ],
 "metadata": {
  "kernelspec": {
   "display_name": "enkf",
   "language": "python",
   "name": "enkf"
  },
  "language_info": {
   "codemirror_mode": {
    "name": "ipython",
    "version": 3
   },
   "file_extension": ".py",
   "mimetype": "text/x-python",
   "name": "python",
   "nbconvert_exporter": "python",
   "pygments_lexer": "ipython3",
   "version": "3.10.8"
  }
 },
 "nbformat": 4,
 "nbformat_minor": 5
}
