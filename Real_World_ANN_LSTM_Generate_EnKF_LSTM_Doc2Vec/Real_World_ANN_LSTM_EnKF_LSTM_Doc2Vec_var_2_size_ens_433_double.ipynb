{
 "cells": [
  {
   "cell_type": "code",
   "execution_count": 1,
   "id": "d7ab5bf3",
   "metadata": {},
   "outputs": [],
   "source": [
    "import pandas as pd\n",
    "from tqdm import tqdm\n",
    "import gensim\n",
    "import os\n",
    "os.environ['TF_CPP_MIN_LOG_LEVEL'] = '3' \n",
    "# os.chdir(r\"D://Proposal_Defense//Simulations\")\n",
    "# from Utils.Script_utils import get_data_splits, first_LSTM_training, get_data_splits_old_algo\n",
    "from joblib import Parallel, delayed\n",
    "import sys\n",
    "from scipy.stats import norm"
   ]
  },
  {
   "cell_type": "code",
   "execution_count": 2,
   "id": "36084258",
   "metadata": {},
   "outputs": [
    {
     "name": "stdout",
     "output_type": "stream",
     "text": [
      "No GPU found\n"
     ]
    }
   ],
   "source": [
    "# Seed value\n",
    "# Apparently you may use different seed values at each stage\n",
    "seed_value= 42\n",
    "\n",
    "# 1. Set the `PYTHONHASHSEED` environment variable at a fixed value\n",
    "import os\n",
    "os.environ['PYTHONHASHSEED']=str(seed_value)\n",
    "\n",
    "# 2. Set the `python` built-in pseudo-random generator at a fixed value\n",
    "import random\n",
    "random.seed(seed_value)\n",
    "\n",
    "# 3. Set the `numpy` pseudo-random generator at a fixed value\n",
    "import numpy as np\n",
    "np.random.seed(seed_value)\n",
    "\n",
    "# # 4. Set the `tensorflow` pseudo-random generator at a fixed value\n",
    "import tensorflow as tf\n",
    "os.environ['CUDA_VISIBLE_DEVICES'] = '-1'\n",
    "\n",
    "if tf.test.gpu_device_name():\n",
    "    print('GPU found')\n",
    "else:\n",
    "    print(\"No GPU found\")\n",
    "# tf.config.set_visible_devices([], 'GPU')\n",
    "\n",
    "from tqdm.notebook import tqdm\n",
    "tf.random.set_seed(seed_value)\n",
    "import multiprocessing\n",
    "# for later versions: \n",
    "# tf.compat.v1.set_random_seed(seed_value)\n",
    "\n",
    "# 5. Configure a new global `tensorflow` session\n",
    "# from keras import backend as K\n",
    "# session_conf = tf.compat.v1.ConfigProto(intra_op_parallelism_threads=1, inter_op_parallelism_threads=1)\n",
    "# sess = tf.compat.v1.Session(graph=tf.compat.v1.get_default_graph(), config=session_conf)\n",
    "# K.set_session(sess)"
   ]
  },
  {
   "cell_type": "code",
   "execution_count": 3,
   "id": "e036b858",
   "metadata": {},
   "outputs": [],
   "source": [
    "import matplotlib.pyplot as plt\n",
    "\n",
    "import pickle"
   ]
  },
  {
   "cell_type": "code",
   "execution_count": 4,
   "id": "058ca9d0",
   "metadata": {},
   "outputs": [],
   "source": [
    "model_cbow = gensim.models.word2vec.Word2Vec.load(r\"..//Data_Generation//word2vec_sg\")"
   ]
  },
  {
   "cell_type": "code",
   "execution_count": 5,
   "id": "d02c4f20-faf2-4e10-86f6-9ca8a295b770",
   "metadata": {},
   "outputs": [],
   "source": [
    "# data[\"high_level_substr\"].value_counts()"
   ]
  },
  {
   "cell_type": "code",
   "execution_count": 6,
   "id": "2bf7066c-ea42-41bd-949d-293de7243bfc",
   "metadata": {},
   "outputs": [],
   "source": [
    "# data.head()"
   ]
  },
  {
   "cell_type": "code",
   "execution_count": 7,
   "id": "88bbd17f",
   "metadata": {},
   "outputs": [],
   "source": [
    "reps = 50"
   ]
  },
  {
   "cell_type": "code",
   "execution_count": 8,
   "id": "440c1a52",
   "metadata": {},
   "outputs": [],
   "source": [
    "with open('..//Data_Generation//Data//train_valid_test_splits_50.pkl', 'rb') as f:\n",
    "    catch = pickle.load(f)  "
   ]
  },
  {
   "cell_type": "code",
   "execution_count": 9,
   "id": "6acf282c-55a4-4100-b49f-79961d64a7a6",
   "metadata": {},
   "outputs": [],
   "source": [
    "with open('..//Data_Generation//LSTM_Heavy_Dropout//heavy_dropout_second_lstm.pkl', 'rb') as f:\n",
    "    second_lstm = pickle.load(f)  "
   ]
  },
  {
   "cell_type": "code",
   "execution_count": 10,
   "id": "75cdb01d-2a5e-4fcc-8617-ff647fb745b4",
   "metadata": {},
   "outputs": [],
   "source": [
    "with open('..//Data_Generation//LSTM_Heavy_Dropout//heavy_dropout_first_lstm.pkl', 'rb') as f:\n",
    "    first_lstm = pickle.load(f)  "
   ]
  },
  {
   "cell_type": "code",
   "execution_count": 11,
   "id": "6fb71411-e2f7-40a8-846d-d2d86e1e4eda",
   "metadata": {},
   "outputs": [],
   "source": [
    "with open('..//Data_Generation//Doc2Vec_ANN//doc2vec_ann.pkl', 'rb') as f:\n",
    "    first_doc2vec_ann = pickle.load(f)  \n",
    "\n",
    "    \n",
    "# with open('..//Data_Generation//LSTM_Heavy_Dropout//Heavy_Data_train_logits.pkl', 'rb') as f:\n",
    "#     catch_train_logits = (pickle.load(f))    \n",
    "\n",
    "# with open('..//Data_Generation//LSTM_Heavy_Dropout//Heavy_Data_valid_logits.pkl', 'rb') as f:\n",
    "#     catch_valid_logits = (pickle.load( f))      \n",
    "    \n",
    "# with open('..//Data_Generation//LSTM_Heavy_Dropout//Heavy_Data_test_logits.pkl', 'rb') as f:\n",
    "#     catch_test_logits = (pickle.load( f))      \n",
    "    "
   ]
  },
  {
   "cell_type": "code",
   "execution_count": 12,
   "id": "7c83f03d-8d6b-4638-94bc-fde3d0c8d16f",
   "metadata": {},
   "outputs": [],
   "source": [
    "# len(first_doc2vec_ann[0])"
   ]
  },
  {
   "cell_type": "code",
   "execution_count": 13,
   "id": "2eb3a734-9e0a-45e8-ac7a-77462e6e9b1b",
   "metadata": {},
   "outputs": [],
   "source": [
    "with open('..//Data_Generation//Doc2Vec_ANN//doc2vec_ann_second.pkl', 'rb') as f:\n",
    "    second_doc2vec_ann = pickle.load(f)  "
   ]
  },
  {
   "cell_type": "code",
   "execution_count": 14,
   "id": "76624ecc-8bb7-4e52-b95d-1a01cecacb5b",
   "metadata": {},
   "outputs": [],
   "source": [
    "def ann(hidden = 10): \n",
    "    input_layer = tf.keras.layers.Input(shape = (X_train_word2vec.shape[1]))\n",
    "    hidden_layer = tf.keras.layers.Dense(hidden)\n",
    "    hidden_output = hidden_layer(input_layer)\n",
    "    pred_layer = tf.keras.layers.Dense(1)\n",
    "    pred_output = pred_layer(hidden_output)\n",
    "#     pred_output = tf.keras.layers.Activation(\"softmax\")(pred_output)\n",
    "    model = tf.keras.models.Model(input_layer, pred_output)\n",
    "    return model"
   ]
  },
  {
   "cell_type": "code",
   "execution_count": 15,
   "id": "5fdce782-35ce-4f39-923d-4314c6901f68",
   "metadata": {},
   "outputs": [],
   "source": [
    "h1, h2 = 16,16"
   ]
  },
  {
   "cell_type": "code",
   "execution_count": 16,
   "id": "b8153ea5-cefc-4075-994d-c51461505e8b",
   "metadata": {},
   "outputs": [],
   "source": [
    "X_train_word2vec = second_doc2vec_ann[0][0]"
   ]
  },
  {
   "cell_type": "code",
   "execution_count": 17,
   "id": "1d1fa072-ec9f-4fbe-9775-52547b811201",
   "metadata": {},
   "outputs": [
    {
     "data": {
      "text/plain": [
       "(51, 16)"
      ]
     },
     "execution_count": 17,
     "metadata": {},
     "output_type": "execute_result"
    }
   ],
   "source": [
    "X_train_word2vec.shape"
   ]
  },
  {
   "cell_type": "code",
   "execution_count": 18,
   "id": "b2ff179a-2c64-4bae-bfd5-3ce7f4b40fb5",
   "metadata": {},
   "outputs": [],
   "source": [
    "\n",
    "\n",
    "ann_15 = ann(h1)\n",
    "\n",
    "\n",
    "# In[35]:\n",
    "\n",
    "\n",
    "# ann_15.summary()\n",
    "\n",
    "\n",
    "# In[36]:\n",
    "\n"
   ]
  },
  {
   "cell_type": "code",
   "execution_count": 19,
   "id": "0bf5144e-59f2-413e-af30-39407819094c",
   "metadata": {},
   "outputs": [
    {
     "name": "stdout",
     "output_type": "stream",
     "text": [
      "Model: \"model\"\n",
      "_________________________________________________________________\n",
      " Layer (type)                Output Shape              Param #   \n",
      "=================================================================\n",
      " input_1 (InputLayer)        [(None, 16)]              0         \n",
      "                                                                 \n",
      " dense (Dense)               (None, 16)                272       \n",
      "                                                                 \n",
      " dense_1 (Dense)             (None, 1)                 17        \n",
      "                                                                 \n",
      "=================================================================\n",
      "Total params: 289\n",
      "Trainable params: 289\n",
      "Non-trainable params: 0\n",
      "_________________________________________________________________\n"
     ]
    }
   ],
   "source": [
    "ann_15.summary()"
   ]
  },
  {
   "cell_type": "code",
   "execution_count": 20,
   "id": "a9c45b5a-9f13-4fd9-b90c-ed94e069b9cc",
   "metadata": {},
   "outputs": [],
   "source": [
    "X_train_word2vec =  first_lstm[0][3].numpy()"
   ]
  },
  {
   "cell_type": "code",
   "execution_count": 21,
   "id": "bce5668e-a895-47b4-8f1c-6e5d1fd3c92b",
   "metadata": {},
   "outputs": [
    {
     "name": "stdout",
     "output_type": "stream",
     "text": [
      "Model: \"model_1\"\n",
      "_________________________________________________________________\n",
      " Layer (type)                Output Shape              Param #   \n",
      "=================================================================\n",
      " input_2 (InputLayer)        [(None, 25)]              0         \n",
      "                                                                 \n",
      " dense_2 (Dense)             (None, 16)                416       \n",
      "                                                                 \n",
      " dense_3 (Dense)             (None, 1)                 17        \n",
      "                                                                 \n",
      "=================================================================\n",
      "Total params: 433\n",
      "Trainable params: 433\n",
      "Non-trainable params: 0\n",
      "_________________________________________________________________\n"
     ]
    }
   ],
   "source": [
    "ann_20 = ann(h2)\n",
    "\n",
    "\n",
    "\n",
    "ann_20.summary()\n",
    "\n"
   ]
  },
  {
   "cell_type": "code",
   "execution_count": 22,
   "id": "6a41f8b5",
   "metadata": {},
   "outputs": [],
   "source": [
    "total_weights_1 = ann_15.count_params()"
   ]
  },
  {
   "cell_type": "code",
   "execution_count": 23,
   "id": "0721ea37",
   "metadata": {},
   "outputs": [],
   "source": [
    "total_weights_2 = ann_20.count_params()"
   ]
  },
  {
   "cell_type": "code",
   "execution_count": 24,
   "id": "4b2ed894",
   "metadata": {},
   "outputs": [],
   "source": [
    "total_weights = total_weights_1 + total_weights_2 + 1 "
   ]
  },
  {
   "cell_type": "code",
   "execution_count": 25,
   "id": "999f5e96",
   "metadata": {},
   "outputs": [
    {
     "data": {
      "text/plain": [
       "723"
      ]
     },
     "execution_count": 25,
     "metadata": {},
     "output_type": "execute_result"
    }
   ],
   "source": [
    "total_weights"
   ]
  },
  {
   "cell_type": "code",
   "execution_count": 26,
   "id": "4eea8c8e",
   "metadata": {},
   "outputs": [],
   "source": [
    "# var_weights = 0.08\n",
    "# var_targets = 0.08"
   ]
  },
  {
   "cell_type": "code",
   "execution_count": 27,
   "id": "9b49ba9c",
   "metadata": {},
   "outputs": [],
   "source": [
    "from scipy.stats import multivariate_normal as mvn"
   ]
  },
  {
   "cell_type": "code",
   "execution_count": 28,
   "id": "7a60a350",
   "metadata": {},
   "outputs": [],
   "source": [
    "from scipy.stats import invgamma, norm"
   ]
  },
  {
   "cell_type": "code",
   "execution_count": 29,
   "id": "bd888262",
   "metadata": {},
   "outputs": [],
   "source": [
    "from tqdm.notebook import tqdm"
   ]
  },
  {
   "cell_type": "code",
   "execution_count": 30,
   "id": "c3355c48",
   "metadata": {},
   "outputs": [],
   "source": [
    "threshold = 5"
   ]
  },
  {
   "cell_type": "code",
   "execution_count": 31,
   "id": "b1ce82b7",
   "metadata": {},
   "outputs": [],
   "source": [
    "import random"
   ]
  },
  {
   "cell_type": "code",
   "execution_count": 32,
   "id": "7425ecc5",
   "metadata": {},
   "outputs": [],
   "source": [
    "lr = 0.1"
   ]
  },
  {
   "cell_type": "code",
   "execution_count": 33,
   "id": "b7959ab1",
   "metadata": {},
   "outputs": [],
   "source": [
    "import numpy as np"
   ]
  },
  {
   "cell_type": "code",
   "execution_count": 34,
   "id": "1db4063f",
   "metadata": {},
   "outputs": [],
   "source": [
    "weights_ann_1 = ann_15.get_weights()\n",
    "weights_ann_2 = ann_20.get_weights()"
   ]
  },
  {
   "cell_type": "code",
   "execution_count": 35,
   "id": "43a211df",
   "metadata": {},
   "outputs": [],
   "source": [
    "def get_targets_with_weights(batch_data, batch_data1, initial_ensembles, log_sigma_points_1): \n",
    "\n",
    "    n_hidden_1 = len(weights_ann_1[0].ravel())\n",
    "\n",
    "    hidden_weights_1 = initial_ensembles[:,:n_hidden_1].reshape( size_ens, batch_data.shape[1], h1)\n",
    "\n",
    "    \n",
    "    hidden_output_1 = np.einsum('ij,kjl->kil', batch_data, hidden_weights_1)\n",
    "\n",
    "    \n",
    "    hidden_layer_bias_1 = initial_ensembles[:,n_hidden_1:(n_hidden_1 + h1)].reshape(size_ens, 1,  h1)\n",
    "\n",
    "\n",
    "\n",
    "    hidden_output_1 = hidden_output_1 + hidden_layer_bias_1\n",
    "\n",
    "    n_pred_weights_1 = len(weights_ann_1[2].ravel())\n",
    "\n",
    "    output_weights_1 = initial_ensembles[:,(n_hidden_1 + h1):(n_hidden_1 + h1 + n_pred_weights_1) ].reshape(size_ens, h1, 1)\n",
    "\n",
    "    output_1 = np.einsum('ijk,ikl->ijl', hidden_output_1, output_weights_1)\n",
    "\n",
    "\n",
    "    output_layer_bias_1 = initial_ensembles[:,(n_hidden_1 + h1 + n_pred_weights_1):(n_hidden_1 + h1 + n_pred_weights_1 + 1)].reshape(size_ens, 1, 1)\n",
    "\n",
    "\n",
    "\n",
    "    final_output_1 = output_1 + output_layer_bias_1\n",
    "\n",
    "    n_hidden_2 = len(weights_ann_2[0].ravel())\n",
    "\n",
    "    initial_ensembles_1 = initial_ensembles.copy()[:, total_weights_1:(total_weights_1+ total_weights_2)]\n",
    "\n",
    "    hidden_weights_2 = initial_ensembles_1[:,:n_hidden_2].reshape(size_ens, batch_data1.shape[1], h2)\n",
    "\n",
    "\n",
    "\n",
    "    hidden_output_2 = np.einsum('ij,kjl->kil', batch_data1, hidden_weights_2)\n",
    "\n",
    "    hidden_layer_bias_2 = initial_ensembles[:,n_hidden_2:(n_hidden_2 + h2)].reshape(size_ens, 1,  h2)\n",
    "\n",
    "    hidden_output_2 = hidden_output_2+ hidden_layer_bias_2\n",
    "\n",
    "    n_pred_weights_2 = len(weights_ann_2[2].ravel())\n",
    "\n",
    "    output_weights_2 = initial_ensembles_1[:,(n_hidden_2 + h2):(n_hidden_2 + h2 + n_pred_weights_2) ].reshape(size_ens, h2, 1)\n",
    "\n",
    "\n",
    "    output_2 = np.einsum('ijk,ikl->ijl', hidden_output_2, output_weights_2)\n",
    "\n",
    "\n",
    "    output_layer_bias_2 = initial_ensembles_1[:,(n_hidden_2 + h2 + n_pred_weights_2):(n_hidden_2 + h2 + n_pred_weights_2 + 1)].reshape(size_ens, 1, 1)\n",
    "\n",
    "\n",
    "    final_output_2 = output_2 + output_layer_bias_2\n",
    "\n",
    "\n",
    "    weights_1 = initial_ensembles[:, :total_weights_1]\n",
    "\n",
    "    weights_2 = initial_ensembles[:, total_weights_1:(total_weights_1 + total_weights_2)]\n",
    "\n",
    "\n",
    "    avg_weights = initial_ensembles[:, -1].reshape(-1,1)\n",
    "\n",
    "    avg_weights_sig = expit(avg_weights)\n",
    "    \n",
    "    avg_weights_sig = avg_weights_sig.reshape(avg_weights_sig.shape[0], 1, avg_weights_sig.shape[1])\n",
    "    \n",
    "    complement_weights_sig = 1 - expit(avg_weights)\n",
    "    \n",
    "    complement_weights_sig = complement_weights_sig.reshape(complement_weights_sig.shape[0], 1, complement_weights_sig.shape[1])\n",
    "\n",
    "    final_output_1 = final_output_1*complement_weights_sig\n",
    "    \n",
    "    final_output_2 = final_output_2*avg_weights_sig\n",
    "    \n",
    "    output_1_ravel = final_output_1.reshape(size_ens, final_output_1.shape[1]*final_output_1.shape[2])\n",
    "\n",
    "    output_2_ravel = final_output_2.reshape(size_ens, final_output_2.shape[1]*final_output_2.shape[2])\n",
    "\n",
    "\n",
    "    output_1_ravel = output_1_ravel\n",
    "\n",
    "    output_2_ravel = output_2_ravel\n",
    "\n",
    "\n",
    "\n",
    "    weights_1_add = np.zeros((size_ens, (total_weights_2 - total_weights_1)))\n",
    "\n",
    "\n",
    "\n",
    "    weights_1 = np.hstack((weights_1, weights_1_add))\n",
    "    \n",
    "\n",
    "\n",
    "    stack_1 = np.hstack((output_1_ravel, weights_1, np.repeat(0, size_ens).reshape(-1,1), np.repeat(0, size_ens).reshape(-1,1)))\n",
    "\n",
    "\n",
    "\n",
    "    \n",
    "    stack_2 = np.hstack((output_2_ravel, weights_2, avg_weights, log_sigma_points_1))\n",
    "\n",
    "    \n",
    "    initial_aug_state = np.hstack((stack_1, stack_2)) \n",
    "    \n",
    "\n",
    "    return initial_aug_state , output_1_ravel, output_2_ravel, log_sigma_points_1\n",
    "\n"
   ]
  },
  {
   "cell_type": "code",
   "execution_count": 36,
   "id": "4e3ef6e6",
   "metadata": {},
   "outputs": [],
   "source": [
    "import time"
   ]
  },
  {
   "cell_type": "code",
   "execution_count": 37,
   "id": "0eabfdd4",
   "metadata": {},
   "outputs": [],
   "source": [
    "from scipy.stats import multivariate_normal as mvn"
   ]
  },
  {
   "cell_type": "code",
   "execution_count": 38,
   "id": "b982682f",
   "metadata": {},
   "outputs": [],
   "source": [
    "var_weights =0.2\n",
    "# var_weights_vec = 4\n",
    "# var_targets = 0.04\n",
    "# var_weights = 2"
   ]
  },
  {
   "cell_type": "code",
   "execution_count": 39,
   "id": "10d77915",
   "metadata": {},
   "outputs": [],
   "source": [
    "from scipy.stats import multivariate_normal as mvn"
   ]
  },
  {
   "cell_type": "code",
   "execution_count": 40,
   "id": "a2a6de67",
   "metadata": {},
   "outputs": [],
   "source": [
    "reduction = 2\n",
    "# reduction = 10"
   ]
  },
  {
   "cell_type": "code",
   "execution_count": 41,
   "id": "471e3306",
   "metadata": {},
   "outputs": [],
   "source": [
    "shape_needed = total_weights//reduction"
   ]
  },
  {
   "cell_type": "code",
   "execution_count": 42,
   "id": "63796187",
   "metadata": {},
   "outputs": [],
   "source": [
    "size_ens = shape_needed"
   ]
  },
  {
   "cell_type": "code",
   "execution_count": 43,
   "id": "6aee42b8",
   "metadata": {},
   "outputs": [],
   "source": [
    "size_ens = int(size_ens)"
   ]
  },
  {
   "cell_type": "code",
   "execution_count": 44,
   "id": "bc234219",
   "metadata": {},
   "outputs": [],
   "source": [
    "size_ens = 433"
   ]
  },
  {
   "cell_type": "code",
   "execution_count": 45,
   "id": "ebeb0869-7f0b-4f21-be63-0234896af39f",
   "metadata": {},
   "outputs": [],
   "source": [
    "# train_fudged_probs"
   ]
  },
  {
   "cell_type": "code",
   "execution_count": 46,
   "id": "23d87ffe",
   "metadata": {},
   "outputs": [],
   "source": [
    "import matplotlib.pyplot as plt"
   ]
  },
  {
   "cell_type": "code",
   "execution_count": 47,
   "id": "f5427e43",
   "metadata": {},
   "outputs": [],
   "source": [
    "from scipy.special import expit"
   ]
  },
  {
   "cell_type": "code",
   "execution_count": 48,
   "id": "be0ee1ec",
   "metadata": {},
   "outputs": [],
   "source": [
    "# catch1[0][0]"
   ]
  },
  {
   "cell_type": "code",
   "execution_count": 49,
   "id": "fb492324",
   "metadata": {},
   "outputs": [],
   "source": [
    "# catch_train_logits_second[0]"
   ]
  },
  {
   "cell_type": "code",
   "execution_count": 50,
   "id": "0c2dbaec-3249-404a-9971-c2fc17f68356",
   "metadata": {},
   "outputs": [],
   "source": [
    "from datetime import datetime"
   ]
  },
  {
   "cell_type": "code",
   "execution_count": 51,
   "id": "9cf12935",
   "metadata": {},
   "outputs": [],
   "source": [
    "def expit(x):\n",
    "    \"\"\"Compute softmax values for each sets of scores in x.\"\"\"\n",
    "#     e_x = np.exp(x - np.max(x))\n",
    "    return 1 / (1 + np.exp(-x))"
   ]
  },
  {
   "cell_type": "code",
   "execution_count": 52,
   "id": "ef051014",
   "metadata": {},
   "outputs": [],
   "source": [
    "from scipy.stats import gamma"
   ]
  },
  {
   "cell_type": "code",
   "execution_count": 53,
   "id": "07cb7b8c-4634-46e7-ab75-e865c7116995",
   "metadata": {},
   "outputs": [],
   "source": [
    "# second_lstm[0]"
   ]
  },
  {
   "cell_type": "code",
   "execution_count": 54,
   "id": "5f0e5cb1-4067-46ba-9399-ca30548a10e1",
   "metadata": {},
   "outputs": [],
   "source": [
    "# reduction = 8\n",
    "# var_weights = 1"
   ]
  },
  {
   "cell_type": "code",
   "execution_count": 55,
   "id": "197043a4-b420-4e3b-beaf-699cd7c3db6b",
   "metadata": {},
   "outputs": [],
   "source": [
    "# cur_idx = 16\n",
    "# np.log(catch_test_probs[cur_idx]/(1-catch_test_probs[cur_idx]))"
   ]
  },
  {
   "cell_type": "code",
   "execution_count": 56,
   "id": "5ae6c226-20d1-4a84-ab7b-5c5295748826",
   "metadata": {},
   "outputs": [],
   "source": [
    "# catch_preds_df"
   ]
  },
  {
   "cell_type": "code",
   "execution_count": 57,
   "id": "75f0d45e-6b06-4e9a-8997-5217ab99ebde",
   "metadata": {},
   "outputs": [],
   "source": [
    "# ids = [i for i in range(0, catch_test_probs[cur_idx].shape[0]) if catch_test_probs[cur_idx][i] < 0.5]\n",
    "# ids_more = [i for i in range(0, catch_test_probs[cur_idx].shape[0]) if catch_test_probs[cur_idx][i] > 0.5]"
   ]
  },
  {
   "cell_type": "code",
   "execution_count": 58,
   "id": "7f15dc9d-a59f-4ef8-b93a-8244896352c5",
   "metadata": {},
   "outputs": [],
   "source": [
    "# ids_more"
   ]
  },
  {
   "cell_type": "code",
   "execution_count": 59,
   "id": "1cebfd75-9077-4677-a4f7-05c09ac9f2de",
   "metadata": {},
   "outputs": [],
   "source": [
    "import plotly.express as px"
   ]
  },
  {
   "cell_type": "code",
   "execution_count": 60,
   "id": "22ee79ea-e013-4f80-920e-10e2aeb0eb6b",
   "metadata": {},
   "outputs": [],
   "source": [
    "import seaborn as sns"
   ]
  },
  {
   "cell_type": "code",
   "execution_count": 61,
   "id": "1969c78b-c105-482a-a957-e81329037a09",
   "metadata": {},
   "outputs": [],
   "source": [
    "use_cores = multiprocessing.cpu_count()-1"
   ]
  },
  {
   "cell_type": "code",
   "execution_count": 62,
   "id": "e5e25a8d-c51c-4c1d-9589-5b3b01f267e7",
   "metadata": {},
   "outputs": [],
   "source": [
    "use_cores = 15"
   ]
  },
  {
   "cell_type": "code",
   "execution_count": 63,
   "id": "2f12bf17-643b-4c5b-a2b0-d1f59b99557e",
   "metadata": {},
   "outputs": [],
   "source": [
    "# threshold = 200\n",
    "# cutoff_threshold = 70"
   ]
  },
  {
   "cell_type": "code",
   "execution_count": 64,
   "id": "407034e6-5a33-4332-b56c-f85cd2377b1c",
   "metadata": {},
   "outputs": [],
   "source": [
    "catch1 = first_lstm"
   ]
  },
  {
   "cell_type": "code",
   "execution_count": 65,
   "id": "116bbf33-c708-4670-b2f7-48490b743ceb",
   "metadata": {},
   "outputs": [
    {
     "data": {
      "text/plain": [
       "6"
      ]
     },
     "execution_count": 65,
     "metadata": {},
     "output_type": "execute_result"
    }
   ],
   "source": [
    "len(catch1[1])"
   ]
  },
  {
   "cell_type": "code",
   "execution_count": 66,
   "id": "68bfee2b-0d95-43b2-bf10-28f1b1066f24",
   "metadata": {},
   "outputs": [],
   "source": [
    "catch2 = second_lstm"
   ]
  },
  {
   "cell_type": "code",
   "execution_count": 67,
   "id": "4587d20f-83f6-4d2b-96fc-02672930ad4d",
   "metadata": {},
   "outputs": [
    {
     "data": {
      "text/plain": [
       "6"
      ]
     },
     "execution_count": 67,
     "metadata": {},
     "output_type": "execute_result"
    }
   ],
   "source": [
    "len(catch2[1])"
   ]
  },
  {
   "cell_type": "code",
   "execution_count": 68,
   "id": "3396a89f-655d-49c9-b843-6a1e6065c2db",
   "metadata": {},
   "outputs": [
    {
     "data": {
      "text/plain": [
       "(51, 1)"
      ]
     },
     "execution_count": 68,
     "metadata": {},
     "output_type": "execute_result"
    }
   ],
   "source": [
    "catch2[0][0].shape"
   ]
  },
  {
   "cell_type": "code",
   "execution_count": 69,
   "id": "3da366d5-a726-4d88-a7ea-a517df119bba",
   "metadata": {},
   "outputs": [],
   "source": [
    "# catch1[0][0].shape"
   ]
  },
  {
   "cell_type": "code",
   "execution_count": 70,
   "id": "8c5fda89-9aac-438e-91b5-d4a09cfee5c5",
   "metadata": {},
   "outputs": [],
   "source": [
    "catch4 = second_doc2vec_ann"
   ]
  },
  {
   "cell_type": "code",
   "execution_count": 71,
   "id": "25c1d782-c3c3-4e42-8af3-3a5c6697a16f",
   "metadata": {},
   "outputs": [
    {
     "data": {
      "text/plain": [
       "6"
      ]
     },
     "execution_count": 71,
     "metadata": {},
     "output_type": "execute_result"
    }
   ],
   "source": [
    "len(catch4[1])"
   ]
  },
  {
   "cell_type": "code",
   "execution_count": 72,
   "id": "44a70a19-c4ed-41ba-80ae-af48030630d3",
   "metadata": {},
   "outputs": [],
   "source": [
    "catch3 = first_doc2vec_ann"
   ]
  },
  {
   "cell_type": "code",
   "execution_count": 73,
   "id": "164b4cd6-cd0e-4db3-b7e2-1f786e58b0ce",
   "metadata": {},
   "outputs": [
    {
     "data": {
      "text/plain": [
       "3"
      ]
     },
     "execution_count": 73,
     "metadata": {},
     "output_type": "execute_result"
    }
   ],
   "source": [
    "len(catch3[1])"
   ]
  },
  {
   "cell_type": "code",
   "execution_count": 74,
   "id": "9e2b8892-1d16-48fc-b118-390b6c7067ff",
   "metadata": {},
   "outputs": [],
   "source": [
    "# catch2[1][3]"
   ]
  },
  {
   "cell_type": "code",
   "execution_count": 75,
   "id": "8e5fbcb1-3965-47da-acbe-ccb01078bf20",
   "metadata": {},
   "outputs": [],
   "source": [
    "from datetime import datetime"
   ]
  },
  {
   "cell_type": "code",
   "execution_count": 76,
   "id": "c27c719a-0bc1-4885-94c0-e411d7d4d47b",
   "metadata": {},
   "outputs": [
    {
     "data": {
      "text/plain": [
       "(51, 1)"
      ]
     },
     "execution_count": 76,
     "metadata": {},
     "output_type": "execute_result"
    }
   ],
   "source": [
    "catch4[0][3].shape"
   ]
  },
  {
   "cell_type": "code",
   "execution_count": 77,
   "id": "820035ad-e493-4bcb-8376-5afb35fd139f",
   "metadata": {},
   "outputs": [],
   "source": [
    "var_targetsw = 1e-4"
   ]
  },
  {
   "cell_type": "code",
   "execution_count": 78,
   "id": "75c12e9a-898a-45db-9ee2-eb652adfbee1",
   "metadata": {},
   "outputs": [],
   "source": [
    "def rep_one_real_world(idx, inflation_factor = 0.2, cutoff = 100): \n",
    "#     from scipy.special import expit\n",
    "    patience_smaller = 0\n",
    "# patience_bigger = 0\n",
    "\n",
    "#     best_train_acc = 0\n",
    "#     best_valid_acc = 1000\n",
    "\n",
    "#     best_valid_mae = 10\n",
    "    \n",
    "    best_train_mae = 100\n",
    "    \n",
    "    exit_iter_no_thresh = 0\n",
    "    \n",
    "    X_train_logits_lstm = np.vstack((catch2[idx][0], catch2[idx][1]))\n",
    "    X_train_logits_doc2vec_ann = np.vstack((catch4[idx][3], catch4[idx][4]))\n",
    "    \n",
    "    X_train_probs_lstm = expit(X_train_logits_lstm)\n",
    "    X_train_probs_doc2vec_ann = expit(X_train_logits_doc2vec_ann)\n",
    "    \n",
    "    averaged_probs_lstm_doc2vec_ann_train = (X_train_probs_lstm + X_train_probs_doc2vec_ann)/2\n",
    "    X_train_logits = np.log(averaged_probs_lstm_doc2vec_ann_train/(1-averaged_probs_lstm_doc2vec_ann_train))\n",
    "    \n",
    "    X_train_logits_lstm_truth = np.vstack((catch1[idx][0], catch1[idx][1]))\n",
    "    X_train_logits_doc2vec_ann_truth = np.vstack((catch3[idx][0], catch3[idx][1]))\n",
    "    \n",
    "    X_train_probs_lstm_truth = expit(X_train_logits_lstm_truth)\n",
    "    X_train_probs_doc2vec_ann_truth = expit(X_train_logits_doc2vec_ann_truth)\n",
    "    \n",
    "    averaged_probs_lstm_doc2vec_ann_train_truth = (X_train_probs_lstm_truth + X_train_probs_doc2vec_ann_truth)/2\n",
    "    X_train_logits_truth = np.log(averaged_probs_lstm_doc2vec_ann_train_truth/(1-averaged_probs_lstm_doc2vec_ann_train_truth))\n",
    "    \n",
    "\n",
    "\n",
    "    \n",
    "    # X_train_logits = averaged_probs_lstm_doc2vec_ann_train\n",
    "    \n",
    "    \n",
    "    X_test_logits_lstm = catch1[idx][2]\n",
    "    X_test_logits_doc2vec_ann = catch3[idx][2]\n",
    "    \n",
    "    X_test_probs_lstm = expit(X_test_logits_lstm)\n",
    "    X_test_probs_doc2vec_ann = expit(X_test_logits_doc2vec_ann)\n",
    "    \n",
    "    averaged_probs_lstm_doc2vec_ann_test = (X_test_probs_lstm + X_test_probs_doc2vec_ann)/2\n",
    "    X_test_logits = np.log(averaged_probs_lstm_doc2vec_ann_test/(1-averaged_probs_lstm_doc2vec_ann_test))\n",
    "    # X_test_logits = averaged_probs_lstm_doc2vec_ann_test\n",
    "    \n",
    "    ## create training batch chunks\n",
    "    train_idx = list(range(0, X_train_logits.shape[0]))\n",
    "    batch_chunks = [train_idx[i:i+batch_size] for i in range(0,len(train_idx),batch_size)]\n",
    "\n",
    "    ## generate some augmented variable for iteration 0\n",
    "    initial_aug_state_mean = np.repeat(0, total_weights)\n",
    "    initial_aug_state_mean = initial_aug_state_mean.reshape(-1,1)\n",
    "\n",
    "    initial_aug_state_cov = var_weights*np.identity((total_weights))\n",
    "    initial_ensembles = mvn(initial_aug_state_mean.reshape(initial_aug_state_mean.shape[0],), initial_aug_state_cov).rvs(size = size_ens)\n",
    "\n",
    "    \n",
    "    log_sigma_points_1 = (np.log(gamma(100, scale = 1/100).rvs(size_ens))).reshape(size_ens, 1)\n",
    "    \n",
    "\n",
    "    \n",
    "    train_lstm = catch2[idx][3].numpy()\n",
    "    valid_lstm = catch2[idx][4].numpy()\n",
    "    # valid_word2vec = catch[idx][7].iloc[catch_valid_idxes[idx],:].reset_index(drop = True)\n",
    "    test_lstm = catch2[idx][5].numpy()\n",
    " \n",
    "\n",
    "    # train_doc2vec = []\n",
    "    # for seq in catch[idx][0]:\n",
    "    #     seq_txt = seq[0]\n",
    "    #     seq_split = seq_txt.split(\" \")\n",
    "    #     train_doc2vec.append(doc2vec_dbow.infer_vector(seq_split))\n",
    "    train_doc2vec = catch4[idx][0]\n",
    "    \n",
    "    # valid_doc2vec = []\n",
    "    # for seq in catch[idx][1]:\n",
    "    #     seq_txt = seq[0]\n",
    "    #     seq_split = seq_txt.split(\" \")\n",
    "    #     valid_doc2vec.append(doc2vec_dbow.infer_vector(seq_split))\n",
    "    valid_doc2vec = catch4[idx][1]\n",
    "    \n",
    "    # test_doc2vec = []\n",
    "    # for seq in catch[idx][2]:\n",
    "    #     seq_txt = seq[0]\n",
    "    #     seq_split = seq_txt.split(\" \")\n",
    "    #     test_doc2vec.append(doc2vec_dbow.infer_vector(seq_split))\n",
    "    test_doc2vec = catch4[idx][2]  \n",
    "    \n",
    "    \n",
    "    \n",
    "    # train_valid_test_lstm = np.vstack((train_lstm, valid_lstm, test_lstm))\n",
    "    # train_valid_test_doc2vec = np.vstack((train_doc2vec, valid_doc2vec, test_doc2vec))\n",
    "    \n",
    "    # train_valid_test_lstm = np.vstack((train_lstm, valid_lstm))\n",
    "    # train_valid_test_doc2vec = np.vstack((train_doc2vec, valid_doc2vec))    \n",
    "    \n",
    "    train_valid_lstm = np.vstack((train_lstm, valid_lstm))\n",
    "    train_valid_doc2vec = np.vstack((train_doc2vec, valid_doc2vec))    \n",
    "\n",
    "    # best_width_train = 100\n",
    "    \n",
    "    # threshold_achieved = False\n",
    "    # satisfactory = False\n",
    "    # satisfactory_counter = 0\n",
    "    \n",
    "    \n",
    "    best_coverage_train = 0\n",
    "    \n",
    "    start = datetime.now()\n",
    "    \n",
    "    for iter1 in range(0,500):\n",
    "\n",
    "        for batch_idx in batch_chunks:\n",
    "\n",
    "            batch_data = train_valid_lstm[batch_idx,:]\n",
    "            batch_data1 = train_valid_doc2vec[batch_idx,:]\n",
    "            # print(batch_data.shape)\n",
    "            batch_targets = X_train_logits[batch_idx,:]\n",
    "            # batch_targets = batch_targets.ravel().reshape(-1,1)\n",
    "\n",
    "            column_mod_2_shape = total_weights_2 + batch_data.shape[0]*1 + 1 + 1\n",
    "        \n",
    "            H_t = np.hstack((np.identity(batch_targets.shape[0]), np.zeros((batch_targets.shape[0], column_mod_2_shape-batch_targets.shape[0]))))\n",
    "\n",
    "            current_aug_state, column_mod_1, column_mod_2, log_sigma_points_1 = get_targets_with_weights(batch_data1, batch_data, initial_ensembles, log_sigma_points_1)\n",
    "            \n",
    "            factor = 0.05\n",
    "            \n",
    "            var_targets_vec = (1/factor)*np.log(1 + np.exp(factor*log_sigma_points_1))\n",
    "            \n",
    "            var_targets_vec = var_targets_vec\n",
    "            \n",
    "            # current_aug_state_var = np.cov(current_aug_state.T) + inflation_factor*np.identity(current_aug_state.shape[1])\n",
    "            \n",
    "            current_aug_state_var = np.cov(current_aug_state.T) \n",
    "            \n",
    "            G_t = np.array([1 , 1]).reshape(-1,1)\n",
    "            \n",
    "            scirpt_H_t = np.kron(G_t.T, H_t)\n",
    "            \n",
    "            temp1 = current_aug_state_var@scirpt_H_t.T\n",
    "            \n",
    "            temp2 = scirpt_H_t@current_aug_state_var@scirpt_H_t.T\n",
    "\n",
    "            R_t1 = var_targetsw*np.identity(current_aug_state.shape[1])\n",
    "            \n",
    "            measurement_error1 = mvn(np.repeat(0,current_aug_state.shape[1]), R_t1).rvs(current_aug_state.shape[0])\n",
    "        \n",
    "#             for ensemble_idx in range(0, current_aug_state.shape[0]):\n",
    "                \n",
    "#                 var_targets1 = var_targets_vec[ensemble_idx,:]\n",
    "                \n",
    "#                 R_t = var_targets1*np.identity(batch_targets.shape[0])\n",
    "            \n",
    "#                 measurement_error = mvn(np.repeat(0,batch_targets.shape[0]), var_targets1*np.identity(batch_targets.shape[0])).rvs(1).reshape(-1,1)\n",
    "            \n",
    "#                 target_current = batch_targets + measurement_error\n",
    "                \n",
    "#                 K_t = temp1@np.linalg.inv(temp2 + R_t)\n",
    "\n",
    "#                 current_aug_state[ensemble_idx,:] = current_aug_state[ensemble_idx,:] +(K_t@(target_current -scirpt_H_t@current_aug_state[ensemble_idx,:].reshape(-1,1))).reshape(current_aug_state.shape[1],)\n",
    "                \n",
    "#                 current_aug_state[ensemble_idx,:] = current_aug_state[ensemble_idx,:] + measurement_error1[ensemble_idx,:]\n",
    "                \n",
    "            R_t_batch = var_targets_vec.reshape(var_targets_vec.shape[0],1,1)*np.identity(batch_targets.shape[0])\n",
    "            measurement_error = mvn(np.repeat(0,batch_targets.shape[0]), R_t_batch.mean(0)).rvs(size_ens)\n",
    "            target_current = batch_targets.reshape(1,-1) + measurement_error\n",
    "            temp2 = np.dstack([temp2]*size_ens).T\n",
    "            K_t = temp1@np.linalg.inv(temp2 + R_t_batch)\n",
    "            current_aug_state = current_aug_state + ((K_t@np.expand_dims((target_current -(scirpt_H_t@current_aug_state.T).T),-1))[:,:,0])\n",
    "            current_aug_state = current_aug_state + measurement_error1\n",
    "\n",
    "            weights_ann_1 = current_aug_state[:,batch_targets.shape[0]:(batch_targets.shape[0] + total_weights_1)]      \n",
    "\n",
    "            weights_ann_2 = current_aug_state[:,-(total_weights_2+1):-2]    \n",
    "\n",
    "            initial_ensembles = np.hstack((weights_ann_1, weights_ann_2, current_aug_state[:,-2].reshape(-1,1)))\n",
    "            \n",
    "            log_sigma_points_1 = current_aug_state[:,-1].reshape(-1,1)\n",
    "               \n",
    "            avg_betas = expit(current_aug_state[:,-2])\n",
    "        \n",
    "            complement = 1-avg_betas\n",
    "\n",
    "            \n",
    "            \n",
    "            \n",
    "            \n",
    "            current_aug_state1, column_mod_11, column_mod_21, log_sigma_points_1 = get_targets_with_weights(train_valid_doc2vec, train_valid_lstm, initial_ensembles, log_sigma_points_1)\n",
    "            \n",
    "            initial_targets = column_mod_11 + column_mod_21\n",
    "            \n",
    "            \n",
    "            initial_targets = initial_targets.reshape(size_ens, train_valid_lstm.shape[0],1)\n",
    "            \n",
    "            initial_targets_train = initial_targets\n",
    "            \n",
    "            \n",
    "            \n",
    "            \n",
    "#             ind = (X_train_logits_true >= np.percentile(initial_targets_train, axis = 0, q = (2.5, 97.5))[0,:,:]) & (X_train_logits_true <= np.percentile(initial_targets_train, axis = 0, q = (2.5, 97.5))[1,:,:])\n",
    "        \n",
    "            initial_targets_softmax = expit(initial_targets)\n",
    "        \n",
    "            initial_softmax_train = initial_targets_softmax\n",
    "            \n",
    "            initial_targets_train_mean = initial_targets_softmax.mean(0)\n",
    "            \n",
    "            li = np.percentile(initial_targets_softmax, axis = 0, q = (2.5, 97.5))[0,:,:]\n",
    "            \n",
    "            ui = np.percentile(initial_targets_softmax, axis = 0, q = (2.5, 97.5))[1,:,:]\n",
    "            \n",
    "            width = ui - li\n",
    "            \n",
    "            avg_width_train = np.mean(width)\n",
    "            \n",
    "            # interim = np.vstack((catch_train_probs[idx] , catch_valid_probs[idx] ))\n",
    "        \n",
    "            interim = expit(X_train_logits_truth)\n",
    "            \n",
    "            ind = (interim >= li) & (interim <= ui)\n",
    "            \n",
    "            coverage_train= np.mean(ind.ravel())  \n",
    "            \n",
    "            train_mae = np.mean(np.abs(interim.ravel() - initial_targets_train_mean.ravel()))\n",
    "        \n",
    "            current_aug_state1, column_mod_11, column_mod_21, log_sigma_points_1 = get_targets_with_weights(test_doc2vec, test_lstm,initial_ensembles, log_sigma_points_1)\n",
    "            \n",
    "            initial_targets = column_mod_11 + column_mod_21\n",
    "            \n",
    "            initial_targets = initial_targets.reshape(size_ens, test_lstm.shape[0],1)\n",
    "            \n",
    "            initial_targets_test = initial_targets\n",
    "            \n",
    "            initial_targets_softmax = expit(initial_targets)    \n",
    "            \n",
    "            initial_targets_test_mean = initial_targets_softmax.mean(0)\n",
    "            \n",
    "            li = np.percentile(initial_targets_softmax, axis = 0, q = (2.5, 97.5))[0,:,:]\n",
    "            \n",
    "            ui = np.percentile(initial_targets_softmax, axis = 0, q = (2.5, 97.5))[1,:,:]\n",
    "            \n",
    "            width = ui - li\n",
    "            \n",
    "            avg_width = np.mean(width)\n",
    "            \n",
    "            catch_test_probs = expit(X_test_logits)\n",
    "            \n",
    "            ind_test = (catch_test_probs >= li) & (catch_test_probs <= ui)\n",
    "               \n",
    "\n",
    "                        \n",
    "            coverage_test = np.mean(ind_test.ravel())    \n",
    "\n",
    "            # initial_targets_test_mean = initial_targets_train.mean(0)\n",
    "    \n",
    "            \n",
    "            \n",
    "            test_mae = np.mean(np.abs(catch_test_probs.ravel() - initial_targets_test_mean.ravel()))\n",
    "       \n",
    "        # print(avg_width_train, best_train_width, coverage_train)\n",
    "        \n",
    "#         print(\"epoch \"+ str(iter1))\n",
    "#         print(\"patience \"+ str(patience_smaller))\n",
    "#         print(\"train mae is \" + str(train_mae))\n",
    "#         print(\"test mae is \" + str(test_mae))\n",
    "        \n",
    "#         print(\"train coverage is \"+ str(coverage_train))\n",
    "#         print(\"train width is \" + str(avg_width_train))        \n",
    "#         print(\"test coverage is \"+ str(coverage_test))\n",
    "#         print(\"test width is \" + str(avg_width))\n",
    "#         print(\"lstm weight is \" + str(np.mean(complement)))\n",
    "        # print(\"threshold \" + str(threshold_achieved))\n",
    "              \n",
    "    \n",
    "        if (train_mae < best_train_mae) & (coverage_train > 0.80): \n",
    "#             cur_best_train_width = avg_width_train\n",
    "#             cur_best_test_width = avg_width\n",
    "\n",
    "#             cur_best_train_coverage = coverage_train\n",
    "#             cur_best_test_coverage = coverage_test \n",
    "#             cur_best_lstm_weight = np.mean(complement)\n",
    "            best_train_mae = train_mae\n",
    "            best_test_mae = test_mae\n",
    "            exit_iter_no_thresh = iter1\n",
    "            best_test_preds = initial_targets_softmax\n",
    "            patience_smaller = 0\n",
    "            best_train_coverage = coverage_train\n",
    "            best_test_coverage = coverage_test\n",
    "            best_train_width = avg_width_train\n",
    "            best_test_width = avg_width\n",
    "            best_lstm_weight = np.mean(complement)\n",
    "            # patience_smaller = 0\n",
    "            # satisfactory = True\n",
    "            \n",
    "        else:\n",
    "            patience_smaller+=1\n",
    "            \n",
    "        if patience_smaller > threshold:\n",
    "            \n",
    "            break\n",
    "            \n",
    "        if (patience_smaller > cutoff_threshold) & (train_mae < 0.05):\n",
    "            \n",
    "            break\n",
    "            \n",
    "        # if \n",
    "    \n",
    "    if exit_iter_no_thresh > 0: \n",
    "        \n",
    "            \n",
    "        print(best_test_mae,best_test_coverage, best_test_width, best_lstm_weight, flush = True)\n",
    "        end = datetime.now()\n",
    "        total = (end-start)\n",
    "        time_taken = total.seconds/60.0\n",
    "        return best_train_mae, best_test_mae, best_train_coverage, best_train_width, best_test_coverage, best_test_width, best_lstm_weight,   exit_iter_no_thresh, time_taken, best_test_preds\n",
    "    else:\n",
    "        print(\"edge case\")\n",
    "        end = datetime.now()\n",
    "        total = (end-start)\n",
    "        time_taken = total.seconds/60.0\n",
    "        print(test_mae,coverage_test, avg_width, np.mean(complement), flush = True)\n",
    "        return train_mae, test_mae, coverage_train, avg_width_train, coverage_test, avg_width, np.mean(complement),   exit_iter_no_thresh, time_taken, initial_targets_softmax\n",
    "        \n",
    "    # print(\"something went awry\", flush = True)"
   ]
  },
  {
   "cell_type": "code",
   "execution_count": 79,
   "id": "605540da-2ad3-4d18-b8a4-93dd7c052f20",
   "metadata": {},
   "outputs": [],
   "source": [
    "threshold = 100"
   ]
  },
  {
   "cell_type": "code",
   "execution_count": 80,
   "id": "138d0228-17b7-4019-9abe-458206e8a7df",
   "metadata": {},
   "outputs": [],
   "source": [
    "cutoff_threshold = 100"
   ]
  },
  {
   "cell_type": "code",
   "execution_count": 81,
   "id": "4a8ebf34-6b78-4638-8f94-b0c23816a6c5",
   "metadata": {},
   "outputs": [],
   "source": [
    "doc2vec_dbow = gensim.models.doc2vec.Doc2Vec.load(r\"..//Data_Generation//doc2vec_dbow\")"
   ]
  },
  {
   "cell_type": "code",
   "execution_count": 82,
   "id": "5d1c4953-2d79-4386-a7e7-20e74cd6257e",
   "metadata": {},
   "outputs": [],
   "source": [
    "batch_size = 100"
   ]
  },
  {
   "cell_type": "code",
   "execution_count": 83,
   "id": "46f9ae8c-4ce8-4dee-bb11-0b4c57c71940",
   "metadata": {},
   "outputs": [],
   "source": [
    "# best_train_mae, best_test_mae, best_train_coverage, best_train_width, best_test_coverage, best_test_width, best_lstm_weight,   exit_iter_no_thresh, time_taken, best_test_preds = rep_one_real_world(9)"
   ]
  },
  {
   "cell_type": "code",
   "execution_count": 84,
   "id": "c750391b-c8fc-419d-b06d-b25f29208a06",
   "metadata": {},
   "outputs": [],
   "source": [
    "# best_train_mae, best_test_mae, best_train_coverage, best_train_width, best_test_coverage, best_test_width, best_lstm_weight,   exit_iter_no_thresh, time_taken"
   ]
  },
  {
   "cell_type": "code",
   "execution_count": 85,
   "id": "99a723c6",
   "metadata": {},
   "outputs": [
    {
     "name": "stderr",
     "output_type": "stream",
     "text": [
      "[Parallel(n_jobs=15)]: Using backend LokyBackend with 15 concurrent workers.\n"
     ]
    },
    {
     "name": "stdout",
     "output_type": "stream",
     "text": [
      "0.0955074129793956 1.0 0.5575254968879156 0.657071251491892\n",
      "0.03393587356756112 0.875 0.2494024811156952 0.4055213640920451\n"
     ]
    },
    {
     "name": "stderr",
     "output_type": "stream",
     "text": [
      "[Parallel(n_jobs=15)]: Done   2 tasks      | elapsed:  3.3min\n"
     ]
    },
    {
     "name": "stdout",
     "output_type": "stream",
     "text": [
      "0.04024069493070707 1.0 0.17417051140116988 0.6867987108881631\n",
      "0.09217081005849584 0.875 0.2556824255892012 0.3904572857832873\n",
      "0.06811645993403485 1.0 0.3064016097978472 0.37822861484441217\n",
      "0.11332520218756945 0.625 0.29748151383831467 0.3414880866259767\n",
      "0.07413058294865388 0.875 0.24803640737849744 0.3816378482869993\n",
      "0.07959692494659405 1.0 0.3432194738879729 0.34924485042086856\n",
      "0.02588519046395881 1.0 0.17590019185614617 0.6067796172200418\n",
      "0.03618569644211197 1.0 0.24542952382862976 0.3758950246489976\n",
      "0.034021030442891245 0.875 0.12626933024680392 0.42209233800206647\n"
     ]
    },
    {
     "name": "stderr",
     "output_type": "stream",
     "text": [
      "[Parallel(n_jobs=15)]: Done  11 tasks      | elapsed:  5.7min\n"
     ]
    },
    {
     "name": "stdout",
     "output_type": "stream",
     "text": [
      "0.05325064781550419 0.875 0.18756103663885138 0.5932584138107883\n",
      "edge case\n",
      "0.20000585536965043 0.25 0.33411060976137497 0.6141296794636508\n",
      "0.08425809757141119 0.875 0.34474212479111377 0.321161142693736\n",
      "0.01753897157148085 0.875 0.1894959504552659 0.39893847917846426\n",
      "0.025306911327185225 1.0 0.4096086246047954 0.6495137265168139\n",
      "0.03600211496591103 1.0 0.6122860629661091 0.634698023618816\n",
      "0.04803010431980736 0.875 0.31519380392572505 0.5651449528832152\n",
      "0.11648286108344541 1.0 0.6397895102402853 0.3753219773494448\n",
      "0.030630269276631518 1.0 0.14225433855547925 0.5973493443061592\n"
     ]
    },
    {
     "name": "stderr",
     "output_type": "stream",
     "text": [
      "[Parallel(n_jobs=15)]: Done  20 tasks      | elapsed:  7.7min\n"
     ]
    },
    {
     "name": "stdout",
     "output_type": "stream",
     "text": [
      "0.1021624438067861 0.875 0.4368377887052387 0.41355219212091515\n",
      "0.017748343792530003 0.875 0.11132246685704358 0.41243876930874784\n",
      "0.013167213530425409 1.0 0.09546580155765934 0.6148774725358848\n",
      "0.023665963515427064 1.0 0.1422257360147578 0.5738674122056744\n",
      "0.08148880487515604 1.0 0.5712522486287217 0.4279357964968105\n",
      "0.04621646869611669 0.875 0.20839939035895197 0.6743919986924946\n",
      "0.038219526087803914 1.0 0.3230333137598225 0.6503852246226041\n"
     ]
    },
    {
     "name": "stderr",
     "output_type": "stream",
     "text": [
      "[Parallel(n_jobs=15)]: Done  27 out of  50 | elapsed: 10.7min remaining:  9.1min\n"
     ]
    },
    {
     "name": "stdout",
     "output_type": "stream",
     "text": [
      "0.025280691296627036 1.0 0.20359282312707594 0.6168638322099339\n",
      "0.0604033395910889 1.0 0.2417670912600432 0.40644964535205613\n",
      "0.02376199827299677 0.625 0.07596919396566575 0.557391399940254\n",
      "0.07648677652988002 1.0 0.3553317085466231 0.5626186429460274\n",
      "0.12297433984566687 0.875 0.30756202858137044 0.38435006464401206\n",
      "0.0936381072994203 0.75 0.15647964029262537 0.4058184193903263\n"
     ]
    },
    {
     "name": "stderr",
     "output_type": "stream",
     "text": [
      "[Parallel(n_jobs=15)]: Done  33 out of  50 | elapsed: 12.4min remaining:  6.4min\n"
     ]
    },
    {
     "name": "stdout",
     "output_type": "stream",
     "text": [
      "0.0318154916458909 1.0 0.31688348513040554 0.6461481407448396\n",
      "0.06922454012584854 1.0 0.3348724024622285 0.3217670843310501\n",
      "0.07378058923286412 0.875 0.24008974404975744 0.3433615266275178\n",
      "0.02243415557833815 1.0 0.17514020637609856 0.36350044526745257\n",
      "0.03873451230035846 1.0 0.29752931276169126 0.40783135302168244\n",
      "0.10400163119477004 0.75 0.15389269424226065 0.4227694377748907\n"
     ]
    },
    {
     "name": "stderr",
     "output_type": "stream",
     "text": [
      "[Parallel(n_jobs=15)]: Done  39 out of  50 | elapsed: 14.2min remaining:  4.0min\n"
     ]
    },
    {
     "name": "stdout",
     "output_type": "stream",
     "text": [
      "0.03992947761766401 0.875 0.19545605097507712 0.4135108987384456\n",
      "0.2567976240056447 0.5 0.11493141743651439 0.6137069473822874\n",
      "0.021306423817750077 1.0 0.14843992148801 0.4250859690216938\n",
      "0.08461926786051291 0.875 0.4149947429833133 0.3289951178309655\n",
      "0.032871007676671074 1.0 0.2192776995234746 0.3863105568181238\n",
      "0.024396775454855583 1.0 0.2080224070972278 0.4135904553718578\n"
     ]
    },
    {
     "name": "stderr",
     "output_type": "stream",
     "text": [
      "[Parallel(n_jobs=15)]: Done  45 out of  50 | elapsed: 15.6min remaining:  1.7min\n"
     ]
    },
    {
     "name": "stdout",
     "output_type": "stream",
     "text": [
      "0.06862348109353167 0.75 0.16391531547495702 0.42137840388393\n",
      "0.027324760534926468 1.0 0.2515229369637906 0.6218258313794248\n",
      "0.03828755340546253 1.0 0.2066542877382159 0.4047479386648519\n",
      "0.039544653536743836 1.0 0.25067137653986304 0.43826731209938924\n",
      "0.04330311089806234 1.0 0.2319118483126266 0.38909728411399114\n"
     ]
    },
    {
     "name": "stderr",
     "output_type": "stream",
     "text": [
      "[Parallel(n_jobs=15)]: Done  50 out of  50 | elapsed: 16.6min finished\n"
     ]
    }
   ],
   "source": [
    "catch_coverages = Parallel(n_jobs=15, verbose = 10, backend = \"loky\")(delayed(rep_one_real_world)(i) for i in range(reps))"
   ]
  },
  {
   "cell_type": "code",
   "execution_count": 112,
   "id": "bae6348f-a1a2-4a97-ae64-a08a97583490",
   "metadata": {},
   "outputs": [],
   "source": [
    "# string1 = \"catch_coverages_var_weights_\" + str(var_weights) + \"_num_ens_\" + str(size_ens) +  \"double.pkl\"\n",
    "# with open(string1, 'wb') as f:\n",
    "#     pickle.dump(catch_coverages, f)  "
   ]
  },
  {
   "cell_type": "code",
   "execution_count": 87,
   "id": "1e8200e5-b784-49c8-9ae9-fd7ee5a2e71d",
   "metadata": {},
   "outputs": [],
   "source": [
    "# catch_coverages"
   ]
  },
  {
   "cell_type": "code",
   "execution_count": 84,
   "id": "74e93c0a-e0f9-4fdc-bfc6-899e8f0c4985",
   "metadata": {},
   "outputs": [],
   "source": [
    "with open(\"Real_World_ANN_LSTM_EnKF_LSTM_Doc2Vec_\" + \"var_weights_\" + str(var_weights) + \"_num_ens_\" + str(size_ens) + \"double\"  + \".pkl\", 'rb') as f:\n",
    "    catch_coverages= pickle.load( f)  "
   ]
  },
  {
   "cell_type": "code",
   "execution_count": 85,
   "id": "647980a7-9ae3-4c5c-b25c-2e37b6a84679",
   "metadata": {},
   "outputs": [],
   "source": [
    "check = pd.DataFrame(catch_coverages).iloc[:,:-1]"
   ]
  },
  {
   "cell_type": "code",
   "execution_count": 86,
   "id": "e061792a-e589-486e-b8d2-336622f6bf34",
   "metadata": {},
   "outputs": [],
   "source": [
    "# check"
   ]
  },
  {
   "cell_type": "code",
   "execution_count": 87,
   "id": "fa101efc-351b-4645-87a3-f008abf1ff3d",
   "metadata": {},
   "outputs": [],
   "source": [
    "# check"
   ]
  },
  {
   "cell_type": "code",
   "execution_count": 88,
   "id": "77536655-0afd-4976-980a-fa7a28b55201",
   "metadata": {},
   "outputs": [],
   "source": [
    "# check.columns = [\"train_mae\", \"test_mae\", \"avg_ci_width_train\", \"avg_ci_width_test\", \"avg_lstm_weight\", \"exit_iter\", \"exit_status\"]"
   ]
  },
  {
   "cell_type": "code",
   "execution_count": 89,
   "id": "cd8cefbd-9076-469e-a5dc-dc4637846308",
   "metadata": {},
   "outputs": [
    {
     "data": {
      "text/html": [
       "<div>\n",
       "<style scoped>\n",
       "    .dataframe tbody tr th:only-of-type {\n",
       "        vertical-align: middle;\n",
       "    }\n",
       "\n",
       "    .dataframe tbody tr th {\n",
       "        vertical-align: top;\n",
       "    }\n",
       "\n",
       "    .dataframe thead th {\n",
       "        text-align: right;\n",
       "    }\n",
       "</style>\n",
       "<table border=\"1\" class=\"dataframe\">\n",
       "  <thead>\n",
       "    <tr style=\"text-align: right;\">\n",
       "      <th></th>\n",
       "      <th>0</th>\n",
       "      <th>1</th>\n",
       "      <th>2</th>\n",
       "      <th>3</th>\n",
       "      <th>4</th>\n",
       "      <th>5</th>\n",
       "      <th>6</th>\n",
       "      <th>7</th>\n",
       "      <th>8</th>\n",
       "    </tr>\n",
       "  </thead>\n",
       "  <tbody>\n",
       "    <tr>\n",
       "      <th>0</th>\n",
       "      <td>0.044314</td>\n",
       "      <td>0.034021</td>\n",
       "      <td>0.878788</td>\n",
       "      <td>0.141688</td>\n",
       "      <td>0.875</td>\n",
       "      <td>0.126269</td>\n",
       "      <td>0.422092</td>\n",
       "      <td>110</td>\n",
       "      <td>5.666667</td>\n",
       "    </tr>\n",
       "    <tr>\n",
       "      <th>1</th>\n",
       "      <td>0.021743</td>\n",
       "      <td>0.036186</td>\n",
       "      <td>1.000000</td>\n",
       "      <td>0.246607</td>\n",
       "      <td>1.000</td>\n",
       "      <td>0.245430</td>\n",
       "      <td>0.375895</td>\n",
       "      <td>68</td>\n",
       "      <td>4.483333</td>\n",
       "    </tr>\n",
       "    <tr>\n",
       "      <th>2</th>\n",
       "      <td>0.035387</td>\n",
       "      <td>0.025885</td>\n",
       "      <td>0.924242</td>\n",
       "      <td>0.208773</td>\n",
       "      <td>1.000</td>\n",
       "      <td>0.175900</td>\n",
       "      <td>0.606780</td>\n",
       "      <td>62</td>\n",
       "      <td>4.333333</td>\n",
       "    </tr>\n",
       "    <tr>\n",
       "      <th>3</th>\n",
       "      <td>0.051993</td>\n",
       "      <td>0.068116</td>\n",
       "      <td>0.954545</td>\n",
       "      <td>0.256699</td>\n",
       "      <td>1.000</td>\n",
       "      <td>0.306402</td>\n",
       "      <td>0.378229</td>\n",
       "      <td>32</td>\n",
       "      <td>3.616667</td>\n",
       "    </tr>\n",
       "    <tr>\n",
       "      <th>4</th>\n",
       "      <td>0.044637</td>\n",
       "      <td>0.074131</td>\n",
       "      <td>0.984848</td>\n",
       "      <td>0.252328</td>\n",
       "      <td>0.875</td>\n",
       "      <td>0.248036</td>\n",
       "      <td>0.381638</td>\n",
       "      <td>57</td>\n",
       "      <td>4.200000</td>\n",
       "    </tr>\n",
       "  </tbody>\n",
       "</table>\n",
       "</div>"
      ],
      "text/plain": [
       "          0         1         2         3      4         5         6    7   \n",
       "0  0.044314  0.034021  0.878788  0.141688  0.875  0.126269  0.422092  110  \\\n",
       "1  0.021743  0.036186  1.000000  0.246607  1.000  0.245430  0.375895   68   \n",
       "2  0.035387  0.025885  0.924242  0.208773  1.000  0.175900  0.606780   62   \n",
       "3  0.051993  0.068116  0.954545  0.256699  1.000  0.306402  0.378229   32   \n",
       "4  0.044637  0.074131  0.984848  0.252328  0.875  0.248036  0.381638   57   \n",
       "\n",
       "          8  \n",
       "0  5.666667  \n",
       "1  4.483333  \n",
       "2  4.333333  \n",
       "3  3.616667  \n",
       "4  4.200000  "
      ]
     },
     "execution_count": 89,
     "metadata": {},
     "output_type": "execute_result"
    }
   ],
   "source": [
    "check.head()"
   ]
  },
  {
   "cell_type": "code",
   "execution_count": 90,
   "id": "4fc1dcac-24b2-45e7-ae4c-e55eca90a6c6",
   "metadata": {},
   "outputs": [],
   "source": [
    "check.columns = [\"train_mae\", \"test_mae\", \"train_coverage\", \"train_width\", \"test_coverage\", \"test_width\", \"lstm_weight\" ,\"exit_iter\", \"time_taken\"]"
   ]
  },
  {
   "cell_type": "code",
   "execution_count": 91,
   "id": "203f9395-e26a-4b7d-a412-3a0d22a16db0",
   "metadata": {},
   "outputs": [
    {
     "data": {
      "text/plain": [
       "0.02"
      ]
     },
     "execution_count": 91,
     "metadata": {},
     "output_type": "execute_result"
    }
   ],
   "source": [
    "np.mean(check[\"exit_iter\"] == 0)"
   ]
  },
  {
   "cell_type": "code",
   "execution_count": 92,
   "id": "fcf483cf-1d09-4d5d-8c7c-7db62473a356",
   "metadata": {},
   "outputs": [
    {
     "data": {
      "text/plain": [
       "train_mae          0.044932\n",
       "test_mae           0.060937\n",
       "train_coverage     0.916667\n",
       "train_width        0.248538\n",
       "test_coverage      0.907500\n",
       "test_width         0.266160\n",
       "lstm_weight        0.476151\n",
       "exit_iter         69.980000\n",
       "time_taken         4.465000\n",
       "dtype: float64"
      ]
     },
     "execution_count": 92,
     "metadata": {},
     "output_type": "execute_result"
    }
   ],
   "source": [
    "check.mean()"
   ]
  },
  {
   "cell_type": "code",
   "execution_count": 93,
   "id": "e776a220-0227-4460-bd21-5aa40a756b12",
   "metadata": {},
   "outputs": [],
   "source": [
    "check_mean = check.mean().reset_index()"
   ]
  },
  {
   "cell_type": "code",
   "execution_count": 94,
   "id": "1839ab29-f07b-4245-8c57-76f96a51f181",
   "metadata": {},
   "outputs": [],
   "source": [
    "check_mean.to_csv(\"Real_World_mean_metrics_ANN_LSTM_EnKF_LSTM_Doc2Vec_\" + \"var_weights_\" + str(var_weights) + \"_num_ens_\" + str(size_ens) +  \"double\" +\".csv\", index = False)"
   ]
  },
  {
   "cell_type": "code",
   "execution_count": 95,
   "id": "9b520f45-ad8d-453c-80e7-7a6bb711692f",
   "metadata": {},
   "outputs": [
    {
     "data": {
      "text/plain": [
       "train_mae          0.028926\n",
       "test_mae           0.046013\n",
       "train_coverage     0.136424\n",
       "train_width        0.119289\n",
       "test_coverage      0.148998\n",
       "test_width         0.129827\n",
       "lstm_weight        0.117091\n",
       "exit_iter         50.649452\n",
       "time_taken         1.385781\n",
       "dtype: float64"
      ]
     },
     "execution_count": 95,
     "metadata": {},
     "output_type": "execute_result"
    }
   ],
   "source": [
    "check.std()"
   ]
  },
  {
   "cell_type": "code",
   "execution_count": 96,
   "id": "87f0aecc-b638-486c-96ce-5f8d47b4a619",
   "metadata": {},
   "outputs": [],
   "source": [
    "check_std = check.std().reset_index()"
   ]
  },
  {
   "cell_type": "code",
   "execution_count": 97,
   "id": "355e9158-ecd7-48bc-9d13-d715fcb3ceb3",
   "metadata": {},
   "outputs": [],
   "source": [
    "check_std.to_csv(\"Real_World_std_dev_metrics_ANN_LSTM_EnKF_LSTM_Doc2Vec_\" + \"var_weights_\" + str(var_weights) + \"_num_ens_\" + str(size_ens)+    \"double\" \".csv\", index = False)"
   ]
  },
  {
   "cell_type": "code",
   "execution_count": 98,
   "id": "e3e43629-3a74-4d41-acaf-dea297a3840c",
   "metadata": {},
   "outputs": [
    {
     "data": {
      "text/plain": [
       "train_mae         0.000579\n",
       "test_mae          0.000920\n",
       "train_coverage    0.002728\n",
       "train_width       0.002386\n",
       "test_coverage     0.002980\n",
       "test_width        0.002597\n",
       "lstm_weight       0.002342\n",
       "exit_iter         1.012989\n",
       "time_taken        0.027716\n",
       "dtype: float64"
      ]
     },
     "execution_count": 98,
     "metadata": {},
     "output_type": "execute_result"
    }
   ],
   "source": [
    "check.std()/reps"
   ]
  },
  {
   "cell_type": "code",
   "execution_count": 99,
   "id": "22fedaa0-1553-4f19-a388-552e8685f835",
   "metadata": {},
   "outputs": [],
   "source": [
    "# with open(\"Real_World_EnKF_LSTM_Doc2Vec_\" + \"var_weights_\" + str(var_weights) + \"_num_ens_\" + str(size_ens) + \".pkl\", 'rb') as f:\n",
    "#     catch_coverages = pickle.load(f)  "
   ]
  },
  {
   "cell_type": "code",
   "execution_count": 100,
   "id": "41b8e579-df3e-4937-bb73-16c1d945a952",
   "metadata": {},
   "outputs": [],
   "source": [
    "# catch_coverages[0][-1].mean(0)"
   ]
  },
  {
   "cell_type": "code",
   "execution_count": 101,
   "id": "8782e141-df51-4300-8822-4ac054073197",
   "metadata": {},
   "outputs": [],
   "source": [
    "# expit(catch1[0][2])"
   ]
  },
  {
   "cell_type": "code",
   "execution_count": 102,
   "id": "a83c3d12-b2f0-44b8-9904-7b10c4f513bd",
   "metadata": {},
   "outputs": [],
   "source": [
    "true_preds = []\n",
    "enkf_preds = []\n",
    "for i in range(0,reps):\n",
    "    all_preds = catch_coverages[i][-1]\n",
    "    all_preds = all_preds.mean(0)\n",
    "    catch_test_probs = (expit(catch1[i][2]) + expit(catch2[i][2]))/2\n",
    "    true_probs = catch_test_probs.ravel().tolist()\n",
    "    true_preds.append(true_probs)\n",
    "    enkf_preds.append(all_preds.ravel().tolist())\n",
    "    # plt.scatter(true_probs, all_preds.ravel().tolist())\n",
    "    # plt.show()"
   ]
  },
  {
   "cell_type": "code",
   "execution_count": 103,
   "id": "4089a2ab-43f9-4e24-a7ed-add7bdc14156",
   "metadata": {},
   "outputs": [],
   "source": [
    "true_preds = [inner for item in true_preds for inner in item]"
   ]
  },
  {
   "cell_type": "code",
   "execution_count": 104,
   "id": "65492b8d-d7e4-4375-8577-d79a633680b7",
   "metadata": {},
   "outputs": [],
   "source": [
    "enkf_preds = [inner for item in enkf_preds for inner in item]"
   ]
  },
  {
   "cell_type": "code",
   "execution_count": 105,
   "id": "5e66f450-27b5-4f4c-a831-c868c1f0e541",
   "metadata": {},
   "outputs": [],
   "source": [
    "# len(true_preds)"
   ]
  },
  {
   "cell_type": "code",
   "execution_count": 106,
   "id": "19776731-14c7-43c3-bd48-163aa67e2c76",
   "metadata": {},
   "outputs": [
    {
     "data": {
      "text/plain": [
       "0.0821081827475747"
      ]
     },
     "execution_count": 106,
     "metadata": {},
     "output_type": "execute_result"
    }
   ],
   "source": [
    "np.mean(np.abs(np.array(true_preds)-np.array(enkf_preds)))"
   ]
  },
  {
   "cell_type": "code",
   "execution_count": 107,
   "id": "1ebada74-6fe8-4f58-a939-87ca7399aef8",
   "metadata": {},
   "outputs": [
    {
     "data": {
      "image/png": "[encoded data removed]",
      "text/plain": [
       "<Figure size 640x480 with 1 Axes>"
      ]
     },
     "metadata": {},
     "output_type": "display_data"
    }
   ],
   "source": [
    "plt.scatter(enkf_preds,true_preds, alpha=0.5)\n",
    "plt.xlabel(\"MEnKF-ANN Predictions\", fontsize = 15, fontweight = \"bold\")\n",
    "plt.ylabel(\"Avg (LSTM,Doc2Vec_ANN) Predictions\", fontsize = 13, fontweight = \"bold\")\n",
    "plt.xticks(fontsize = 10, fontweight = \"bold\")\n",
    "plt.yticks(fontsize = 10, fontweight = \"bold\")\n",
    "plt.axline((0, 0), slope=1)\n",
    "plt.show()"
   ]
  },
  {
   "cell_type": "code",
   "execution_count": 108,
   "id": "bc99d01d-0709-457d-88c7-839b0068c062",
   "metadata": {},
   "outputs": [],
   "source": [
    "with open(\"Real_World_ANN_LSTM_EnKF_LSTM_Doc2Vec_\" + \"var_weights_\" + str(var_weights) + \"_num_ens_\" + str(size_ens) + \"double\"  + \".pkl\", 'wb') as f:\n",
    "    pickle.dump(catch_coverages, f)  "
   ]
  },
  {
   "cell_type": "code",
   "execution_count": 109,
   "id": "ead27b05-299e-49dc-bb97-236a18cd05e5",
   "metadata": {},
   "outputs": [],
   "source": [
    "# check"
   ]
  }
 ],
 "metadata": {
  "kernelspec": {
   "display_name": "enkf",
   "language": "python",
   "name": "enkf"
  },
  "language_info": {
   "codemirror_mode": {
    "name": "ipython",
    "version": 3
   },
   "file_extension": ".py",
   "mimetype": "text/x-python",
   "name": "python",
   "nbconvert_exporter": "python",
   "pygments_lexer": "ipython3",
   "version": "3.11.3"
  }
 },
 "nbformat": 4,
 "nbformat_minor": 5
}
