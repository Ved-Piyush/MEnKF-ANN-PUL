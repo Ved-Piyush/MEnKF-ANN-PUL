{
 "cells": [
  {
   "cell_type": "code",
   "execution_count": 1,
   "id": "d7ab5bf3",
   "metadata": {},
   "outputs": [],
   "source": [
    "import pandas as pd\n",
    "from tqdm import tqdm\n",
    "import gensim\n",
    "import os\n",
    "os.environ['TF_CPP_MIN_LOG_LEVEL'] = '3' \n",
    "# os.chdir(r\"D://Proposal_Defense//Simulations\")\n",
    "# from Utils.Script_utils import get_data_splits, first_LSTM_training, get_data_splits_old_algo\n",
    "from joblib import Parallel, delayed\n",
    "import sys\n",
    "from scipy.stats import norm"
   ]
  },
  {
   "cell_type": "code",
   "execution_count": 2,
   "id": "36084258",
   "metadata": {},
   "outputs": [
    {
     "name": "stdout",
     "output_type": "stream",
     "text": [
      "No GPU found\n"
     ]
    }
   ],
   "source": [
    "# Seed value\n",
    "# Apparently you may use different seed values at each stage\n",
    "seed_value= 42\n",
    "\n",
    "# 1. Set the `PYTHONHASHSEED` environment variable at a fixed value\n",
    "import os\n",
    "os.environ['PYTHONHASHSEED']=str(seed_value)\n",
    "\n",
    "# 2. Set the `python` built-in pseudo-random generator at a fixed value\n",
    "import random\n",
    "random.seed(seed_value)\n",
    "\n",
    "# 3. Set the `numpy` pseudo-random generator at a fixed value\n",
    "import numpy as np\n",
    "np.random.seed(seed_value)\n",
    "\n",
    "# # 4. Set the `tensorflow` pseudo-random generator at a fixed value\n",
    "import tensorflow as tf\n",
    "os.environ['CUDA_VISIBLE_DEVICES'] = '-1'\n",
    "\n",
    "if tf.test.gpu_device_name():\n",
    "    print('GPU found')\n",
    "else:\n",
    "    print(\"No GPU found\")\n",
    "# tf.config.set_visible_devices([], 'GPU')\n",
    "\n",
    "from tqdm.notebook import tqdm\n",
    "tf.random.set_seed(seed_value)\n",
    "import multiprocessing\n",
    "# for later versions: \n",
    "# tf.compat.v1.set_random_seed(seed_value)\n",
    "\n",
    "# 5. Configure a new global `tensorflow` session\n",
    "# from keras import backend as K\n",
    "# session_conf = tf.compat.v1.ConfigProto(intra_op_parallelism_threads=1, inter_op_parallelism_threads=1)\n",
    "# sess = tf.compat.v1.Session(graph=tf.compat.v1.get_default_graph(), config=session_conf)\n",
    "# K.set_session(sess)"
   ]
  },
  {
   "cell_type": "code",
   "execution_count": 3,
   "id": "e036b858",
   "metadata": {},
   "outputs": [],
   "source": [
    "import matplotlib.pyplot as plt\n",
    "\n",
    "import pickle"
   ]
  },
  {
   "cell_type": "code",
   "execution_count": 4,
   "id": "058ca9d0",
   "metadata": {},
   "outputs": [],
   "source": [
    "model_cbow = gensim.models.word2vec.Word2Vec.load(r\"..//Data_Generation//word2vec_sg\")"
   ]
  },
  {
   "cell_type": "code",
   "execution_count": 5,
   "id": "d02c4f20-faf2-4e10-86f6-9ca8a295b770",
   "metadata": {},
   "outputs": [],
   "source": [
    "# data[\"high_level_substr\"].value_counts()"
   ]
  },
  {
   "cell_type": "code",
   "execution_count": 6,
   "id": "2bf7066c-ea42-41bd-949d-293de7243bfc",
   "metadata": {},
   "outputs": [],
   "source": [
    "# data.head()"
   ]
  },
  {
   "cell_type": "code",
   "execution_count": 7,
   "id": "88bbd17f",
   "metadata": {},
   "outputs": [],
   "source": [
    "reps = 50"
   ]
  },
  {
   "cell_type": "code",
   "execution_count": 8,
   "id": "440c1a52",
   "metadata": {},
   "outputs": [],
   "source": [
    "with open('..//Data_Generation//Data//train_valid_test_splits_50.pkl', 'rb') as f:\n",
    "    catch = pickle.load(f)  "
   ]
  },
  {
   "cell_type": "code",
   "execution_count": 9,
   "id": "6acf282c-55a4-4100-b49f-79961d64a7a6",
   "metadata": {},
   "outputs": [],
   "source": [
    "with open('..//Data_Generation//LSTM_Heavy_Dropout//heavy_dropout_first_lstm.pkl', 'rb') as f:\n",
    "    first_lstm = pickle.load(f)  "
   ]
  },
  {
   "cell_type": "code",
   "execution_count": 10,
   "id": "6fb71411-e2f7-40a8-846d-d2d86e1e4eda",
   "metadata": {},
   "outputs": [],
   "source": [
    "with open('..//Data_Generation//Doc2Vec_ANN//doc2vec_ann.pkl', 'rb') as f:\n",
    "    first_doc2vec_ann = pickle.load(f)  \n",
    "\n",
    "    \n",
    "# with open('..//Data_Generation//LSTM_Heavy_Dropout//Heavy_Data_train_logits.pkl', 'rb') as f:\n",
    "#     catch_train_logits = (pickle.load(f))    \n",
    "\n",
    "# with open('..//Data_Generation//LSTM_Heavy_Dropout//Heavy_Data_valid_logits.pkl', 'rb') as f:\n",
    "#     catch_valid_logits = (pickle.load( f))      \n",
    "    \n",
    "# with open('..//Data_Generation//LSTM_Heavy_Dropout//Heavy_Data_test_logits.pkl', 'rb') as f:\n",
    "#     catch_test_logits = (pickle.load( f))      \n",
    "    "
   ]
  },
  {
   "cell_type": "code",
   "execution_count": 11,
   "id": "76624ecc-8bb7-4e52-b95d-1a01cecacb5b",
   "metadata": {},
   "outputs": [],
   "source": [
    "def ann(hidden = 10): \n",
    "    input_layer = tf.keras.layers.Input(shape = (X_train_word2vec.shape[1]))\n",
    "    hidden_layer = tf.keras.layers.Dense(hidden)\n",
    "    hidden_output = hidden_layer(input_layer)\n",
    "    pred_layer = tf.keras.layers.Dense(1)\n",
    "    pred_output = pred_layer(hidden_output)\n",
    "#     pred_output = tf.keras.layers.Activation(\"softmax\")(pred_output)\n",
    "    model = tf.keras.models.Model(input_layer, pred_output)\n",
    "    return model"
   ]
  },
  {
   "cell_type": "code",
   "execution_count": 12,
   "id": "5fdce782-35ce-4f39-923d-4314c6901f68",
   "metadata": {},
   "outputs": [],
   "source": [
    "h1, h2 = 16,16"
   ]
  },
  {
   "cell_type": "code",
   "execution_count": 13,
   "id": "b8153ea5-cefc-4075-994d-c51461505e8b",
   "metadata": {},
   "outputs": [],
   "source": [
    "X_train_word2vec = first_lstm[0][3].numpy()"
   ]
  },
  {
   "cell_type": "code",
   "execution_count": 14,
   "id": "b2ff179a-2c64-4bae-bfd5-3ce7f4b40fb5",
   "metadata": {},
   "outputs": [],
   "source": [
    "\n",
    "\n",
    "ann_15 = ann(h1)\n",
    "\n",
    "\n",
    "# In[35]:\n",
    "\n",
    "\n",
    "# ann_15.summary()\n",
    "\n",
    "\n",
    "# In[36]:\n",
    "\n"
   ]
  },
  {
   "cell_type": "code",
   "execution_count": 15,
   "id": "0bf5144e-59f2-413e-af30-39407819094c",
   "metadata": {},
   "outputs": [
    {
     "name": "stdout",
     "output_type": "stream",
     "text": [
      "Model: \"model\"\n",
      "_________________________________________________________________\n",
      " Layer (type)                Output Shape              Param #   \n",
      "=================================================================\n",
      " input_1 (InputLayer)        [(None, 25)]              0         \n",
      "                                                                 \n",
      " dense (Dense)               (None, 16)                416       \n",
      "                                                                 \n",
      " dense_1 (Dense)             (None, 1)                 17        \n",
      "                                                                 \n",
      "=================================================================\n",
      "Total params: 433\n",
      "Trainable params: 433\n",
      "Non-trainable params: 0\n",
      "_________________________________________________________________\n"
     ]
    }
   ],
   "source": [
    "ann_15.summary()"
   ]
  },
  {
   "cell_type": "code",
   "execution_count": 16,
   "id": "a9c45b5a-9f13-4fd9-b90c-ed94e069b9cc",
   "metadata": {},
   "outputs": [],
   "source": [
    "X_train_word2vec = model_cbow.wv.vectors"
   ]
  },
  {
   "cell_type": "code",
   "execution_count": 17,
   "id": "bce5668e-a895-47b4-8f1c-6e5d1fd3c92b",
   "metadata": {},
   "outputs": [],
   "source": [
    "ann_20 = ann(h2)\n",
    "\n",
    "\n",
    "\n",
    "# ann_20.summary()\n",
    "\n"
   ]
  },
  {
   "cell_type": "code",
   "execution_count": 18,
   "id": "6a41f8b5",
   "metadata": {},
   "outputs": [],
   "source": [
    "total_weights_1 = ann_15.count_params()"
   ]
  },
  {
   "cell_type": "code",
   "execution_count": 19,
   "id": "0721ea37",
   "metadata": {},
   "outputs": [],
   "source": [
    "total_weights_2 = ann_20.count_params()"
   ]
  },
  {
   "cell_type": "code",
   "execution_count": 20,
   "id": "4b2ed894",
   "metadata": {},
   "outputs": [],
   "source": [
    "total_weights = total_weights_1 + total_weights_2 + 1 "
   ]
  },
  {
   "cell_type": "code",
   "execution_count": 21,
   "id": "999f5e96",
   "metadata": {},
   "outputs": [
    {
     "data": {
      "text/plain": [
       "1267"
      ]
     },
     "execution_count": 21,
     "metadata": {},
     "output_type": "execute_result"
    }
   ],
   "source": [
    "total_weights"
   ]
  },
  {
   "cell_type": "code",
   "execution_count": 22,
   "id": "feb2ef89",
   "metadata": {},
   "outputs": [],
   "source": [
    "## batch size\n",
    "batch_size = 32"
   ]
  },
  {
   "cell_type": "code",
   "execution_count": 23,
   "id": "4eea8c8e",
   "metadata": {},
   "outputs": [],
   "source": [
    "# var_weights = 0.08\n",
    "# var_targets = 0.08"
   ]
  },
  {
   "cell_type": "code",
   "execution_count": 24,
   "id": "9b49ba9c",
   "metadata": {},
   "outputs": [],
   "source": [
    "from scipy.stats import multivariate_normal as mvn"
   ]
  },
  {
   "cell_type": "code",
   "execution_count": 25,
   "id": "7a60a350",
   "metadata": {},
   "outputs": [],
   "source": [
    "from scipy.stats import invgamma, norm"
   ]
  },
  {
   "cell_type": "code",
   "execution_count": 26,
   "id": "bd888262",
   "metadata": {},
   "outputs": [],
   "source": [
    "from tqdm.notebook import tqdm"
   ]
  },
  {
   "cell_type": "code",
   "execution_count": 27,
   "id": "c3355c48",
   "metadata": {},
   "outputs": [],
   "source": [
    "threshold = 5"
   ]
  },
  {
   "cell_type": "code",
   "execution_count": 28,
   "id": "b1ce82b7",
   "metadata": {},
   "outputs": [],
   "source": [
    "import random"
   ]
  },
  {
   "cell_type": "code",
   "execution_count": 29,
   "id": "7425ecc5",
   "metadata": {},
   "outputs": [],
   "source": [
    "lr = 0.1"
   ]
  },
  {
   "cell_type": "code",
   "execution_count": 30,
   "id": "b7959ab1",
   "metadata": {},
   "outputs": [],
   "source": [
    "import numpy as np"
   ]
  },
  {
   "cell_type": "code",
   "execution_count": 31,
   "id": "1db4063f",
   "metadata": {},
   "outputs": [],
   "source": [
    "weights_ann_1 = ann_15.get_weights()\n",
    "weights_ann_2 = ann_20.get_weights()"
   ]
  },
  {
   "cell_type": "code",
   "execution_count": 32,
   "id": "43a211df",
   "metadata": {},
   "outputs": [],
   "source": [
    "def get_targets_with_weights(batch_data, batch_data1, initial_ensembles, log_sigma_points_1): \n",
    "\n",
    "    n_hidden_1 = len(weights_ann_1[0].ravel())\n",
    "\n",
    "    hidden_weights_1 = initial_ensembles[:,:n_hidden_1].reshape( size_ens, batch_data.shape[1], h1)\n",
    "\n",
    "    \n",
    "    hidden_output_1 = np.einsum('ij,kjl->kil', batch_data, hidden_weights_1)\n",
    "\n",
    "    \n",
    "    hidden_layer_bias_1 = initial_ensembles[:,n_hidden_1:(n_hidden_1 + h1)].reshape(size_ens, 1,  h1)\n",
    "\n",
    "\n",
    "\n",
    "    hidden_output_1 = hidden_output_1 + hidden_layer_bias_1\n",
    "\n",
    "    n_pred_weights_1 = len(weights_ann_1[2].ravel())\n",
    "\n",
    "    output_weights_1 = initial_ensembles[:,(n_hidden_1 + h1):(n_hidden_1 + h1 + n_pred_weights_1) ].reshape(size_ens, h1, 1)\n",
    "\n",
    "    output_1 = np.einsum('ijk,ikl->ijl', hidden_output_1, output_weights_1)\n",
    "\n",
    "\n",
    "    output_layer_bias_1 = initial_ensembles[:,(n_hidden_1 + h1 + n_pred_weights_1):(n_hidden_1 + h1 + n_pred_weights_1 + 1)].reshape(size_ens, 1, 1)\n",
    "\n",
    "\n",
    "\n",
    "    final_output_1 = output_1 + output_layer_bias_1\n",
    "\n",
    "    n_hidden_2 = len(weights_ann_2[0].ravel())\n",
    "\n",
    "    initial_ensembles_1 = initial_ensembles.copy()[:, total_weights_1:(total_weights_1+ total_weights_2)]\n",
    "\n",
    "    hidden_weights_2 = initial_ensembles_1[:,:n_hidden_2].reshape(size_ens, batch_data1.shape[1], h2)\n",
    "\n",
    "\n",
    "\n",
    "    hidden_output_2 = np.einsum('ij,kjl->kil', batch_data1, hidden_weights_2)\n",
    "\n",
    "    hidden_layer_bias_2 = initial_ensembles[:,n_hidden_2:(n_hidden_2 + h2)].reshape(size_ens, 1,  h2)\n",
    "\n",
    "    hidden_output_2 = hidden_output_2+ hidden_layer_bias_2\n",
    "\n",
    "    n_pred_weights_2 = len(weights_ann_2[2].ravel())\n",
    "\n",
    "    output_weights_2 = initial_ensembles_1[:,(n_hidden_2 + h2):(n_hidden_2 + h2 + n_pred_weights_2) ].reshape(size_ens, h2, 1)\n",
    "\n",
    "\n",
    "    output_2 = np.einsum('ijk,ikl->ijl', hidden_output_2, output_weights_2)\n",
    "\n",
    "\n",
    "    output_layer_bias_2 = initial_ensembles_1[:,(n_hidden_2 + h2 + n_pred_weights_2):(n_hidden_2 + h2 + n_pred_weights_2 + 1)].reshape(size_ens, 1, 1)\n",
    "\n",
    "\n",
    "    final_output_2 = output_2 + output_layer_bias_2\n",
    "\n",
    "\n",
    "    weights_1 = initial_ensembles[:, :total_weights_1]\n",
    "\n",
    "    weights_2 = initial_ensembles[:, total_weights_1:(total_weights_1 + total_weights_2)]\n",
    "\n",
    "\n",
    "    avg_weights = initial_ensembles[:, -1].reshape(-1,1)\n",
    "\n",
    "    avg_weights_sig = expit(avg_weights)\n",
    "    \n",
    "    avg_weights_sig = avg_weights_sig.reshape(avg_weights_sig.shape[0], 1, avg_weights_sig.shape[1])\n",
    "    \n",
    "    complement_weights_sig = 1 - expit(avg_weights)\n",
    "    \n",
    "    complement_weights_sig = complement_weights_sig.reshape(complement_weights_sig.shape[0], 1, complement_weights_sig.shape[1])\n",
    "\n",
    "    final_output_1 = final_output_1*complement_weights_sig\n",
    "    \n",
    "    final_output_2 = final_output_2*avg_weights_sig\n",
    "    \n",
    "    output_1_ravel = final_output_1.reshape(size_ens, final_output_1.shape[1]*final_output_1.shape[2])\n",
    "\n",
    "    output_2_ravel = final_output_2.reshape(size_ens, final_output_2.shape[1]*final_output_2.shape[2])\n",
    "\n",
    "\n",
    "    output_1_ravel = output_1_ravel\n",
    "\n",
    "    output_2_ravel = output_2_ravel\n",
    "\n",
    "\n",
    "\n",
    "    weights_1_add = np.zeros((size_ens, (total_weights_2 - total_weights_1)))\n",
    "\n",
    "\n",
    "\n",
    "    weights_1 = np.hstack((weights_1, weights_1_add))\n",
    "    \n",
    "\n",
    "\n",
    "    stack_1 = np.hstack((output_1_ravel, weights_1, np.repeat(0, size_ens).reshape(-1,1), np.repeat(0, size_ens).reshape(-1,1)))\n",
    "\n",
    "\n",
    "\n",
    "    \n",
    "    stack_2 = np.hstack((output_2_ravel, weights_2, avg_weights, log_sigma_points_1))\n",
    "\n",
    "    \n",
    "    initial_aug_state = np.hstack((stack_1, stack_2)) \n",
    "    \n",
    "\n",
    "    return initial_aug_state , output_1_ravel, output_2_ravel, log_sigma_points_1\n",
    "\n"
   ]
  },
  {
   "cell_type": "code",
   "execution_count": 33,
   "id": "4e3ef6e6",
   "metadata": {},
   "outputs": [],
   "source": [
    "import time"
   ]
  },
  {
   "cell_type": "code",
   "execution_count": 34,
   "id": "0eabfdd4",
   "metadata": {},
   "outputs": [],
   "source": [
    "from scipy.stats import multivariate_normal as mvn"
   ]
  },
  {
   "cell_type": "code",
   "execution_count": 35,
   "id": "b982682f",
   "metadata": {},
   "outputs": [],
   "source": [
    "var_weights =8\n",
    "# var_weights_vec = 4\n",
    "# var_targets = 0.04\n",
    "# var_weights = 2"
   ]
  },
  {
   "cell_type": "code",
   "execution_count": 36,
   "id": "10d77915",
   "metadata": {},
   "outputs": [],
   "source": [
    "from scipy.stats import multivariate_normal as mvn"
   ]
  },
  {
   "cell_type": "code",
   "execution_count": 37,
   "id": "a2a6de67",
   "metadata": {},
   "outputs": [],
   "source": [
    "reduction = 4\n",
    "# reduction = 10"
   ]
  },
  {
   "cell_type": "code",
   "execution_count": 38,
   "id": "471e3306",
   "metadata": {},
   "outputs": [],
   "source": [
    "shape_needed = (total_weights + 2*batch_size*1 + 1 + (total_weights_2 - total_weights_1))//reduction"
   ]
  },
  {
   "cell_type": "code",
   "execution_count": 39,
   "id": "63796187",
   "metadata": {},
   "outputs": [],
   "source": [
    "size_ens = shape_needed"
   ]
  },
  {
   "cell_type": "code",
   "execution_count": 40,
   "id": "6aee42b8",
   "metadata": {},
   "outputs": [],
   "source": [
    "size_ens = int(size_ens)"
   ]
  },
  {
   "cell_type": "code",
   "execution_count": 41,
   "id": "bc234219",
   "metadata": {},
   "outputs": [
    {
     "data": {
      "text/plain": [
       "433"
      ]
     },
     "execution_count": 41,
     "metadata": {},
     "output_type": "execute_result"
    }
   ],
   "source": [
    "size_ens"
   ]
  },
  {
   "cell_type": "code",
   "execution_count": 42,
   "id": "ebeb0869-7f0b-4f21-be63-0234896af39f",
   "metadata": {},
   "outputs": [],
   "source": [
    "# train_fudged_probs"
   ]
  },
  {
   "cell_type": "code",
   "execution_count": 43,
   "id": "23d87ffe",
   "metadata": {},
   "outputs": [],
   "source": [
    "import matplotlib.pyplot as plt"
   ]
  },
  {
   "cell_type": "code",
   "execution_count": 44,
   "id": "f5427e43",
   "metadata": {},
   "outputs": [],
   "source": [
    "from scipy.special import expit"
   ]
  },
  {
   "cell_type": "code",
   "execution_count": 45,
   "id": "be0ee1ec",
   "metadata": {},
   "outputs": [],
   "source": [
    "# catch1[0][0]"
   ]
  },
  {
   "cell_type": "code",
   "execution_count": 46,
   "id": "fb492324",
   "metadata": {},
   "outputs": [],
   "source": [
    "# catch_train_logits_second[0]"
   ]
  },
  {
   "cell_type": "code",
   "execution_count": 47,
   "id": "0c2dbaec-3249-404a-9971-c2fc17f68356",
   "metadata": {},
   "outputs": [],
   "source": [
    "from datetime import datetime"
   ]
  },
  {
   "cell_type": "code",
   "execution_count": 48,
   "id": "9cf12935",
   "metadata": {},
   "outputs": [],
   "source": [
    "def expit(x):\n",
    "    \"\"\"Compute softmax values for each sets of scores in x.\"\"\"\n",
    "#     e_x = np.exp(x - np.max(x))\n",
    "    return 1 / (1 + np.exp(-x))"
   ]
  },
  {
   "cell_type": "code",
   "execution_count": 49,
   "id": "ef051014",
   "metadata": {},
   "outputs": [],
   "source": [
    "from scipy.stats import gamma"
   ]
  },
  {
   "cell_type": "code",
   "execution_count": 50,
   "id": "07cb7b8c-4634-46e7-ab75-e865c7116995",
   "metadata": {},
   "outputs": [],
   "source": [
    "# second_lstm[0]"
   ]
  },
  {
   "cell_type": "code",
   "execution_count": 51,
   "id": "5f0e5cb1-4067-46ba-9399-ca30548a10e1",
   "metadata": {},
   "outputs": [],
   "source": [
    "# reduction = 8\n",
    "# var_weights = 1"
   ]
  },
  {
   "cell_type": "code",
   "execution_count": 52,
   "id": "197043a4-b420-4e3b-beaf-699cd7c3db6b",
   "metadata": {},
   "outputs": [],
   "source": [
    "# cur_idx = 16\n",
    "# np.log(catch_test_probs[cur_idx]/(1-catch_test_probs[cur_idx]))"
   ]
  },
  {
   "cell_type": "code",
   "execution_count": 53,
   "id": "5ae6c226-20d1-4a84-ab7b-5c5295748826",
   "metadata": {},
   "outputs": [],
   "source": [
    "# catch_preds_df"
   ]
  },
  {
   "cell_type": "code",
   "execution_count": 54,
   "id": "75f0d45e-6b06-4e9a-8997-5217ab99ebde",
   "metadata": {},
   "outputs": [],
   "source": [
    "# ids = [i for i in range(0, catch_test_probs[cur_idx].shape[0]) if catch_test_probs[cur_idx][i] < 0.5]\n",
    "# ids_more = [i for i in range(0, catch_test_probs[cur_idx].shape[0]) if catch_test_probs[cur_idx][i] > 0.5]"
   ]
  },
  {
   "cell_type": "code",
   "execution_count": 55,
   "id": "7f15dc9d-a59f-4ef8-b93a-8244896352c5",
   "metadata": {},
   "outputs": [],
   "source": [
    "# ids_more"
   ]
  },
  {
   "cell_type": "code",
   "execution_count": 56,
   "id": "1cebfd75-9077-4677-a4f7-05c09ac9f2de",
   "metadata": {},
   "outputs": [],
   "source": [
    "import plotly.express as px"
   ]
  },
  {
   "cell_type": "code",
   "execution_count": 57,
   "id": "22ee79ea-e013-4f80-920e-10e2aeb0eb6b",
   "metadata": {},
   "outputs": [],
   "source": [
    "import seaborn as sns"
   ]
  },
  {
   "cell_type": "code",
   "execution_count": 58,
   "id": "1969c78b-c105-482a-a957-e81329037a09",
   "metadata": {},
   "outputs": [],
   "source": [
    "use_cores = multiprocessing.cpu_count()-1"
   ]
  },
  {
   "cell_type": "code",
   "execution_count": 59,
   "id": "e5e25a8d-c51c-4c1d-9589-5b3b01f267e7",
   "metadata": {},
   "outputs": [],
   "source": [
    "use_cores = 15"
   ]
  },
  {
   "cell_type": "code",
   "execution_count": 60,
   "id": "2f12bf17-643b-4c5b-a2b0-d1f59b99557e",
   "metadata": {},
   "outputs": [],
   "source": [
    "# threshold = 200\n",
    "# cutoff_threshold = 70"
   ]
  },
  {
   "cell_type": "code",
   "execution_count": 61,
   "id": "407034e6-5a33-4332-b56c-f85cd2377b1c",
   "metadata": {},
   "outputs": [],
   "source": [
    "catch1 = first_lstm"
   ]
  },
  {
   "cell_type": "code",
   "execution_count": 62,
   "id": "8c5fda89-9aac-438e-91b5-d4a09cfee5c5",
   "metadata": {},
   "outputs": [],
   "source": [
    "catch2 = first_doc2vec_ann"
   ]
  },
  {
   "cell_type": "code",
   "execution_count": 63,
   "id": "8e5fbcb1-3965-47da-acbe-ccb01078bf20",
   "metadata": {},
   "outputs": [],
   "source": [
    "from datetime import datetime"
   ]
  },
  {
   "cell_type": "code",
   "execution_count": 64,
   "id": "dad3f5bc-9262-43e4-aaa6-27b8b8ceed3f",
   "metadata": {},
   "outputs": [],
   "source": [
    "#     idx = 0\n",
    "#     X_train_logits_lstm = np.vstack((catch1[idx][0], catch1[idx][1]))\n",
    "#     X_train_logits_doc2vec_ann = np.vstack((catch2[idx][0], catch2[idx][1]))\n",
    "    \n",
    "#     X_train_probs_lstm = expit(X_train_logits_lstm)\n",
    "#     X_train_probs_doc2vec_ann = expit(X_train_logits_doc2vec_ann)"
   ]
  },
  {
   "cell_type": "code",
   "execution_count": 65,
   "id": "d399736f-e5df-42b0-b69a-38af915f6f20",
   "metadata": {},
   "outputs": [],
   "source": [
    "# x = (X_train_probs_doc2vec_ann + X_train_probs_lstm)/2"
   ]
  },
  {
   "cell_type": "code",
   "execution_count": 66,
   "id": "bee13c49-1ffd-48cb-a38f-3bcb4864ec66",
   "metadata": {},
   "outputs": [],
   "source": [
    "# X_train_logits_doc2vec_ann"
   ]
  },
  {
   "cell_type": "code",
   "execution_count": 67,
   "id": "54918dae-d4a7-4ec8-bc4d-13b409c60b6a",
   "metadata": {},
   "outputs": [],
   "source": [
    "# X_train_logits_lstm"
   ]
  },
  {
   "cell_type": "code",
   "execution_count": 68,
   "id": "d50e09ab-995d-454d-8182-10dc49943159",
   "metadata": {},
   "outputs": [],
   "source": [
    "# plt.scatter(X_train_logits_doc2vec_ann, X_train_logits_lstm)"
   ]
  },
  {
   "cell_type": "code",
   "execution_count": 69,
   "id": "c1ce2cd9-00c2-404e-a3d2-fe4a727f412a",
   "metadata": {},
   "outputs": [],
   "source": [
    "# np.log(x/(1-x))"
   ]
  },
  {
   "cell_type": "code",
   "execution_count": 70,
   "id": "c1771165-3334-42a1-a720-3c1227cde68f",
   "metadata": {},
   "outputs": [],
   "source": [
    "# X_train_probs_lstm"
   ]
  },
  {
   "cell_type": "code",
   "execution_count": 71,
   "id": "500ae387-695d-4c4e-9ae2-9548776a7fee",
   "metadata": {},
   "outputs": [],
   "source": [
    "# X_test_logits_lstm = catch1[idx][1]\n",
    "# X_test_logits_doc2vec_ann = catch2[idx][1]"
   ]
  },
  {
   "cell_type": "code",
   "execution_count": 72,
   "id": "e892d1fe-9b02-44e0-bec8-68b798ed0381",
   "metadata": {},
   "outputs": [],
   "source": [
    "# X_test_logits_lstm"
   ]
  },
  {
   "cell_type": "code",
   "execution_count": 73,
   "id": "17879bdd-ae32-4d44-a23f-41cca0adb299",
   "metadata": {},
   "outputs": [],
   "source": [
    "# X_test_logits_doc2vec_ann"
   ]
  },
  {
   "cell_type": "code",
   "execution_count": 74,
   "id": "5d2d6656-8df1-4ef1-95d7-cb014128f024",
   "metadata": {},
   "outputs": [],
   "source": [
    "# X_test_logits_doc2vec_ann"
   ]
  },
  {
   "cell_type": "code",
   "execution_count": 75,
   "id": "30552493-de84-4db8-bee6-c44262be8f29",
   "metadata": {},
   "outputs": [],
   "source": [
    "# X_test_logits_lstm"
   ]
  },
  {
   "cell_type": "code",
   "execution_count": 76,
   "id": "75c12e9a-898a-45db-9ee2-eb652adfbee1",
   "metadata": {},
   "outputs": [],
   "source": [
    "def rep_one_real_world(idx, inflation_factor = 0.2, cutoff = 100): \n",
    "#     from scipy.special import expit\n",
    "    patience_smaller = 0\n",
    "# patience_bigger = 0\n",
    "\n",
    "#     best_train_acc = 0\n",
    "#     best_valid_acc = 1000\n",
    "\n",
    "#     best_valid_mae = 10\n",
    "    \n",
    "    best_train_mae = 100\n",
    "    \n",
    "    X_train_logits_lstm = np.vstack((catch1[idx][0], catch1[idx][1]))\n",
    "    X_train_logits_doc2vec_ann = np.vstack((catch2[idx][0], catch2[idx][1]))\n",
    "    \n",
    "    X_train_probs_lstm = expit(X_train_logits_lstm)\n",
    "    X_train_probs_doc2vec_ann = expit(X_train_logits_doc2vec_ann)\n",
    "    \n",
    "    averaged_probs_lstm_doc2vec_ann_train = (X_train_probs_lstm + X_train_probs_doc2vec_ann)/2\n",
    "    X_train_logits = np.log(averaged_probs_lstm_doc2vec_ann_train/(1-averaged_probs_lstm_doc2vec_ann_train))\n",
    "    \n",
    "    # X_train_logits = averaged_probs_lstm_doc2vec_ann_train\n",
    "    \n",
    "    \n",
    "    X_test_logits_lstm = catch1[idx][2]\n",
    "    X_test_logits_doc2vec_ann = catch2[idx][2]\n",
    "    \n",
    "    X_test_probs_lstm = expit(X_test_logits_lstm)\n",
    "    X_test_probs_doc2vec_ann = expit(X_test_logits_doc2vec_ann)\n",
    "    \n",
    "    averaged_probs_lstm_doc2vec_ann_test = (X_test_probs_lstm + X_test_probs_doc2vec_ann)/2\n",
    "    X_test_logits = np.log(averaged_probs_lstm_doc2vec_ann_test/(1-averaged_probs_lstm_doc2vec_ann_test))\n",
    "    # X_test_logits = averaged_probs_lstm_doc2vec_ann_test\n",
    "    \n",
    "    ## create training batch chunks\n",
    "    train_idx = list(range(0, X_train_logits.shape[0]))\n",
    "    batch_chunks = [train_idx[i:i+batch_size] for i in range(0,len(train_idx),batch_size)]\n",
    "\n",
    "    ## generate some augmented variable for iteration 0\n",
    "    initial_aug_state_mean = np.repeat(0, total_weights)\n",
    "    initial_aug_state_mean = initial_aug_state_mean.reshape(-1,1)\n",
    "\n",
    "    initial_aug_state_cov = var_weights*np.identity((total_weights))\n",
    "    initial_ensembles = mvn(initial_aug_state_mean.reshape(initial_aug_state_mean.shape[0],), initial_aug_state_cov).rvs(size = size_ens)\n",
    "\n",
    "    \n",
    "    log_sigma_points_1 = (np.log(gamma(100, scale = 1/100).rvs(size_ens))).reshape(size_ens, 1)\n",
    "    \n",
    "\n",
    "#     y_train = catch_train_labels_second[idx]\n",
    "\n",
    "#     y_valid = catch_valid_labels_second[idx]\n",
    "\n",
    "#     y_test = catch_test_labels_second[idx]\n",
    "    \n",
    "    \n",
    "    train_lstm = catch1[idx][3].numpy()\n",
    "    valid_lstm = catch1[idx][4].numpy()\n",
    "    # valid_word2vec = catch[idx][7].iloc[catch_valid_idxes[idx],:].reset_index(drop = True)\n",
    "    test_lstm = catch1[idx][5].numpy()\n",
    " \n",
    "\n",
    "    train_doc2vec = []\n",
    "    for seq in catch[idx][0]:\n",
    "        seq_txt = seq[0]\n",
    "        seq_split = seq_txt.split(\" \")\n",
    "        train_doc2vec.append(doc2vec_dbow.infer_vector(seq_split))\n",
    "    train_doc2vec = np.array(train_doc2vec)\n",
    "    \n",
    "    valid_doc2vec = []\n",
    "    for seq in catch[idx][1]:\n",
    "        seq_txt = seq[0]\n",
    "        seq_split = seq_txt.split(\" \")\n",
    "        valid_doc2vec.append(doc2vec_dbow.infer_vector(seq_split))\n",
    "    valid_doc2vec = np.array(valid_doc2vec)\n",
    "    \n",
    "    test_doc2vec = []\n",
    "    for seq in catch[idx][2]:\n",
    "        seq_txt = seq[0]\n",
    "        seq_split = seq_txt.split(\" \")\n",
    "        test_doc2vec.append(doc2vec_dbow.infer_vector(seq_split))\n",
    "    test_doc2vec = np.array(test_doc2vec)    \n",
    "    \n",
    "    \n",
    "    \n",
    "    # train_valid_test_lstm = np.vstack((train_lstm, valid_lstm, test_lstm))\n",
    "    # train_valid_test_doc2vec = np.vstack((train_doc2vec, valid_doc2vec, test_doc2vec))\n",
    "    \n",
    "    # train_valid_test_lstm = np.vstack((train_lstm, valid_lstm))\n",
    "    # train_valid_test_doc2vec = np.vstack((train_doc2vec, valid_doc2vec))    \n",
    "    \n",
    "    train_valid_lstm = np.vstack((train_lstm, valid_lstm))\n",
    "    train_valid_doc2vec = np.vstack((train_doc2vec, valid_doc2vec))    \n",
    "\n",
    "    # best_width_train = 100\n",
    "    \n",
    "    # threshold_achieved = False\n",
    "    # satisfactory = False\n",
    "    # satisfactory_counter = 0\n",
    "    \n",
    "    \n",
    "    best_coverage_train = 0\n",
    "    \n",
    "    start = datetime.now()\n",
    "    \n",
    "    for iter1 in range(0,500):\n",
    "\n",
    "        for batch_idx in batch_chunks:\n",
    "\n",
    "            batch_data = train_valid_lstm[batch_idx,:]\n",
    "            batch_data1 = train_valid_doc2vec[batch_idx,:]\n",
    "            # print(batch_data.shape)\n",
    "            batch_targets = X_train_logits[batch_idx,:]\n",
    "            # batch_targets = batch_targets.ravel().reshape(-1,1)\n",
    "\n",
    "            column_mod_2_shape = total_weights_2 + batch_data.shape[0]*1 + 1 + 1\n",
    "        \n",
    "            H_t = np.hstack((np.identity(batch_targets.shape[0]), np.zeros((batch_targets.shape[0], column_mod_2_shape-batch_targets.shape[0]))))\n",
    "\n",
    "            current_aug_state, column_mod_1, column_mod_2, log_sigma_points_1 = get_targets_with_weights(batch_data, batch_data1, initial_ensembles, log_sigma_points_1)\n",
    "            \n",
    "            var_targets_vec = np.log(1 + np.exp(log_sigma_points_1))\n",
    "            \n",
    "            var_targets_vec = var_targets_vec\n",
    "            \n",
    "            # current_aug_state_var = np.cov(current_aug_state.T) + inflation_factor*np.identity(current_aug_state.shape[1])\n",
    "            \n",
    "            current_aug_state_var = np.cov(current_aug_state.T) \n",
    "            \n",
    "            G_t = np.array([1 , 1]).reshape(-1,1)\n",
    "            \n",
    "            scirpt_H_t = np.kron(G_t.T, H_t)\n",
    "            \n",
    "            temp1 = current_aug_state_var@scirpt_H_t.T\n",
    "            \n",
    "            temp2 = scirpt_H_t@current_aug_state_var@scirpt_H_t.T\n",
    "        \n",
    "            for ensemble_idx in range(0, current_aug_state.shape[0]):\n",
    "                \n",
    "                var_targets1 = var_targets_vec[ensemble_idx,:]\n",
    "                \n",
    "                R_t = var_targets1*np.identity(batch_targets.shape[0])\n",
    "            \n",
    "                measurement_error = mvn(np.repeat(0,batch_targets.shape[0]), var_targets1*np.identity(batch_targets.shape[0])).rvs(1).reshape(-1,1)\n",
    "            \n",
    "                target_current = batch_targets + measurement_error\n",
    "                \n",
    "                K_t = temp1@np.linalg.inv(temp2 + R_t)\n",
    "\n",
    "                current_aug_state[ensemble_idx,:] = current_aug_state[ensemble_idx,:] +(K_t@(target_current -scirpt_H_t@current_aug_state[ensemble_idx,:].reshape(-1,1))).reshape(current_aug_state.shape[1],)\n",
    "        \n",
    "\n",
    "            weights_ann_1 = current_aug_state[:,batch_targets.shape[0]:(batch_targets.shape[0] + total_weights_1)]      \n",
    "\n",
    "            weights_ann_2 = current_aug_state[:,-(total_weights_2+1):-2]    \n",
    "\n",
    "            initial_ensembles = np.hstack((weights_ann_1, weights_ann_2, current_aug_state[:,-2].reshape(-1,1)))\n",
    "            \n",
    "            log_sigma_points_1 = current_aug_state[:,-1].reshape(-1,1)\n",
    "               \n",
    "            avg_betas = expit(current_aug_state[:,-2])\n",
    "        \n",
    "            complement = 1-avg_betas\n",
    "\n",
    "            \n",
    "            \n",
    "            \n",
    "            \n",
    "            current_aug_state1, column_mod_11, column_mod_21, log_sigma_points_1 = get_targets_with_weights(train_valid_lstm, train_valid_doc2vec, initial_ensembles, log_sigma_points_1)\n",
    "            \n",
    "            initial_targets = column_mod_11 + column_mod_21\n",
    "            \n",
    "            \n",
    "            initial_targets = initial_targets.reshape(size_ens, train_valid_lstm.shape[0],1)\n",
    "            \n",
    "            initial_targets_train = initial_targets\n",
    "            \n",
    "            \n",
    "            \n",
    "            \n",
    "#             ind = (X_train_logits_true >= np.percentile(initial_targets_train, axis = 0, q = (2.5, 97.5))[0,:,:]) & (X_train_logits_true <= np.percentile(initial_targets_train, axis = 0, q = (2.5, 97.5))[1,:,:])\n",
    "        \n",
    "            initial_targets_softmax = expit(initial_targets)\n",
    "        \n",
    "            initial_softmax_train = initial_targets_softmax\n",
    "            \n",
    "            initial_targets_train_mean = initial_targets_softmax.mean(0)\n",
    "            \n",
    "            li = np.percentile(initial_targets_softmax, axis = 0, q = (2.5, 97.5))[0,:,:]\n",
    "            \n",
    "            ui = np.percentile(initial_targets_softmax, axis = 0, q = (2.5, 97.5))[1,:,:]\n",
    "            \n",
    "            width = ui - li\n",
    "            \n",
    "            avg_width_train = np.mean(width)\n",
    "            \n",
    "            # interim = np.vstack((catch_train_probs[idx] , catch_valid_probs[idx] ))\n",
    "        \n",
    "            interim = expit(X_train_logits)\n",
    "            \n",
    "            ind = (interim >= li) & (interim <= ui)\n",
    "            \n",
    "            coverage_train= np.mean(ind.ravel())  \n",
    "            \n",
    "            train_mae = np.mean(np.abs(interim.ravel() - initial_targets_train_mean.ravel()))\n",
    "        \n",
    "            current_aug_state1, column_mod_11, column_mod_21, log_sigma_points_1 = get_targets_with_weights(test_lstm, test_doc2vec, initial_ensembles, log_sigma_points_1)\n",
    "            \n",
    "            initial_targets = column_mod_11 + column_mod_21\n",
    "            \n",
    "            initial_targets = initial_targets.reshape(size_ens, test_lstm.shape[0],1)\n",
    "            \n",
    "            initial_targets_test = initial_targets\n",
    "            \n",
    "            initial_targets_softmax = expit(initial_targets)    \n",
    "            \n",
    "            initial_targets_test_mean = initial_targets_softmax.mean(0)\n",
    "            \n",
    "            li = np.percentile(initial_targets_softmax, axis = 0, q = (2.5, 97.5))[0,:,:]\n",
    "            \n",
    "            ui = np.percentile(initial_targets_softmax, axis = 0, q = (2.5, 97.5))[1,:,:]\n",
    "            \n",
    "            width = ui - li\n",
    "            \n",
    "            avg_width = np.mean(width)\n",
    "            \n",
    "            catch_test_probs = expit(X_test_logits)\n",
    "            \n",
    "            ind_test = (catch_test_probs >= li) & (catch_test_probs <= ui)\n",
    "               \n",
    "\n",
    "                        \n",
    "            coverage_test = np.mean(ind_test.ravel())    \n",
    "\n",
    "            # initial_targets_test_mean = initial_targets_train.mean(0)\n",
    "    \n",
    "            \n",
    "            \n",
    "            test_mae = np.mean(np.abs(catch_test_probs.ravel() - initial_targets_test_mean.ravel()))\n",
    "       \n",
    "        # print(avg_width_train, best_train_width, coverage_train)\n",
    "        \n",
    "#         print(\"epoch \"+ str(iter1))\n",
    "#         print(\"patience \"+ str(patience_smaller))\n",
    "#         print(\"train mae is \" + str(train_mae))\n",
    "#         print(\"test mae is \" + str(test_mae))\n",
    "        \n",
    "#         print(\"train coverage is \"+ str(coverage_train))\n",
    "#         print(\"train width is \" + str(avg_width_train))        \n",
    "#         print(\"test coverage is \"+ str(coverage_test))\n",
    "#         print(\"test width is \" + str(avg_width))\n",
    "#         print(\"lstm weight is \" + str(np.mean(complement)))\n",
    "        # print(\"threshold \" + str(threshold_achieved))\n",
    "              \n",
    "    \n",
    "        if (train_mae < best_train_mae) & (coverage_train > 0.95): \n",
    "#             cur_best_train_width = avg_width_train\n",
    "#             cur_best_test_width = avg_width\n",
    "\n",
    "#             cur_best_train_coverage = coverage_train\n",
    "#             cur_best_test_coverage = coverage_test \n",
    "#             cur_best_lstm_weight = np.mean(complement)\n",
    "            best_train_mae = train_mae\n",
    "            best_test_mae = test_mae\n",
    "            exit_iter_no_thresh = iter1\n",
    "            best_test_preds = initial_targets_softmax\n",
    "            patience_smaller = 0\n",
    "            best_train_coverage = coverage_train\n",
    "            best_test_coverage = coverage_test\n",
    "            best_train_width = avg_width_train\n",
    "            best_test_width = avg_width\n",
    "            best_lstm_weight = np.mean(complement)\n",
    "            # satisfactory = True\n",
    "            \n",
    "        else:\n",
    "            patience_smaller+=1\n",
    "            \n",
    "        if patience_smaller > threshold:\n",
    "            \n",
    "            break\n",
    "            \n",
    "        if (patience_smaller > cutoff_threshold) & (train_mae < 0.05):\n",
    "            \n",
    "            break\n",
    "            \n",
    "            \n",
    "    print(best_test_mae,best_test_coverage, best_test_width, best_lstm_weight, flush = True)\n",
    "    end = datetime.now()\n",
    "    total = (end-start)\n",
    "    time_taken = total.seconds/60.0\n",
    "    return best_train_mae, best_test_mae, best_train_coverage, best_train_width, best_test_coverage, best_test_width, best_lstm_weight,   exit_iter_no_thresh, time_taken, best_test_preds\n",
    "        \n",
    "    # print(\"something went awry\", flush = True)"
   ]
  },
  {
   "cell_type": "code",
   "execution_count": 77,
   "id": "605540da-2ad3-4d18-b8a4-93dd7c052f20",
   "metadata": {},
   "outputs": [],
   "source": [
    "threshold = 200"
   ]
  },
  {
   "cell_type": "code",
   "execution_count": 78,
   "id": "138d0228-17b7-4019-9abe-458206e8a7df",
   "metadata": {},
   "outputs": [],
   "source": [
    "cutoff_threshold = 100"
   ]
  },
  {
   "cell_type": "code",
   "execution_count": 79,
   "id": "4a8ebf34-6b78-4638-8f94-b0c23816a6c5",
   "metadata": {},
   "outputs": [],
   "source": [
    "doc2vec_dbow = gensim.models.doc2vec.Doc2Vec.load(r\"..//Data_Generation//doc2vec_dbow\")"
   ]
  },
  {
   "cell_type": "code",
   "execution_count": 80,
   "id": "cd36ab0a-bb82-44a5-957a-eb4c807c988c",
   "metadata": {},
   "outputs": [],
   "source": [
    "# best_train_mae, best_test_mae, best_train_coverage, best_train_width, best_test_coverage, best_test_width, best_lstm_weight"
   ]
  },
  {
   "cell_type": "code",
   "execution_count": 81,
   "id": "ca41fae8-f42e-4d58-a748-e9d9dcfd9b0e",
   "metadata": {},
   "outputs": [],
   "source": [
    "# best_train_mae, best_test_mae, best_train_coverage, best_train_width, best_test_coverage, best_test_width, best_lstm_weight,   exit_iter_no_thresh, time_taken, best_test_preds = rep_one_real_world(9)"
   ]
  },
  {
   "cell_type": "code",
   "execution_count": 82,
   "id": "99a723c6",
   "metadata": {},
   "outputs": [
    {
     "name": "stderr",
     "output_type": "stream",
     "text": [
      "[Parallel(n_jobs=15)]: Using backend LokyBackend with 15 concurrent workers.\n"
     ]
    },
    {
     "name": "stdout",
     "output_type": "stream",
     "text": [
      "0.0699948314411922 1.0 0.28971712506026936 0.5214559003574504\n",
      "0.047451240953673014 0.75 0.19198448522580452 0.4961911075183586\n"
     ]
    },
    {
     "name": "stderr",
     "output_type": "stream",
     "text": [
      "[Parallel(n_jobs=15)]: Done   2 tasks      | elapsed:  2.8min\n"
     ]
    },
    {
     "name": "stdout",
     "output_type": "stream",
     "text": [
      "0.04912759900531482 1.0 0.31389946892539844 0.517904337791032\n",
      "0.056872133415876144 0.875 0.1924284640336167 0.49375788959660233\n",
      "0.040284923704961964 1.0 0.2910173280498228 0.517816330468279\n",
      "0.045868749368715496 0.875 0.19862805722309826 0.5157163441111275\n",
      "0.03490575395536079 0.875 0.10751274288239873 0.49529346552145287\n",
      "0.07752824714029789 0.75 0.1488657947741135 0.501567950973638\n",
      "0.067523734049936 0.875 0.17793084863556177 0.4986995869555139\n",
      "0.04950209942173797 0.875 0.19427091168245975 0.49945959122162187\n",
      "0.07392439157476341 0.75 0.24243759262546338 0.511781005438257\n"
     ]
    },
    {
     "name": "stderr",
     "output_type": "stream",
     "text": [
      "[Parallel(n_jobs=15)]: Done  11 tasks      | elapsed:  3.6min\n"
     ]
    },
    {
     "name": "stdout",
     "output_type": "stream",
     "text": [
      "0.04323795694347251 0.75 0.14583734676144872 0.49322923380080547\n",
      "0.04808766630575198 0.875 0.12893546061342204 0.49730448126503224\n",
      "0.05044763550564891 0.875 0.15792684467229612 0.4892986213083563\n",
      "0.04868197844113313 0.625 0.12505370964206114 0.5032652090259847\n",
      "0.07546610259722339 0.75 0.13286030748078076 0.49374510704109154\n",
      "0.07595940573127521 0.875 0.23565649223922217 0.4944147348547668\n",
      "0.05223800034054844 0.625 0.12202656733796118 0.5014400995294102\n",
      "0.08934401353318372 0.75 0.22388568833521458 0.5069561539401289\n",
      "0.061622804516773336 0.875 0.40849653499985733 0.4842992011940454\n"
     ]
    },
    {
     "name": "stderr",
     "output_type": "stream",
     "text": [
      "[Parallel(n_jobs=15)]: Done  20 tasks      | elapsed:  6.3min\n"
     ]
    },
    {
     "name": "stdout",
     "output_type": "stream",
     "text": [
      "0.13545227461184628 0.375 0.20775436302717296 0.498531117567456\n",
      "0.06094328604942536 0.875 0.18546366682298998 0.5042027063005986\n",
      "0.052526379012923376 0.875 0.1537556203884567 0.5052392730728996\n",
      "0.10239242993020334 0.375 0.12959102598436187 0.4963596383331882\n",
      "0.020497935469730503 1.0 0.23591132916019134 0.5184609128693806\n",
      "0.08516237565538291 0.875 0.2366817503945784 0.5001898871166225\n",
      "0.10810500605990957 0.625 0.16770085171642282 0.49746973508248815\n"
     ]
    },
    {
     "name": "stderr",
     "output_type": "stream",
     "text": [
      "[Parallel(n_jobs=15)]: Done  27 out of  50 | elapsed:  8.3min remaining:  7.1min\n"
     ]
    },
    {
     "name": "stdout",
     "output_type": "stream",
     "text": [
      "0.029364472391043842 1.0 0.13116646766919277 0.5004662512233576\n",
      "0.10203013316022641 0.75 0.2640220800671261 0.49868212376124027\n",
      "0.1392270109726085 0.375 0.26401546251377117 0.49957719415757074\n",
      "0.03334122144701203 1.0 0.14277750029325176 0.4983208805829607\n",
      "0.06316472739873327 0.75 0.15128858396832798 0.5000272230977088\n",
      "0.1303824107986906 1.0 0.43547861353242723 0.48377668803539314\n"
     ]
    },
    {
     "name": "stderr",
     "output_type": "stream",
     "text": [
      "[Parallel(n_jobs=15)]: Done  33 out of  50 | elapsed:  9.0min remaining:  4.6min\n"
     ]
    },
    {
     "name": "stdout",
     "output_type": "stream",
     "text": [
      "0.03402132591494373 0.75 0.14302465786885724 0.5216710107741424\n",
      "0.07264173482976759 0.75 0.19516288575218432 0.5372239730261836\n",
      "0.057261234568047326 0.75 0.17327847631454535 0.495660777300839\n",
      "0.0691156480391607 0.875 0.22285214244779716 0.5091386115589023\n",
      "0.053548149462942216 0.625 0.10331856975948074 0.501719593334831\n",
      "0.06438020479769216 0.875 0.23126522656310688 0.5012196909897128\n"
     ]
    },
    {
     "name": "stderr",
     "output_type": "stream",
     "text": [
      "[Parallel(n_jobs=15)]: Done  39 out of  50 | elapsed:  9.7min remaining:  2.7min\n"
     ]
    },
    {
     "name": "stdout",
     "output_type": "stream",
     "text": [
      "0.17559542311305695 0.75 0.37807450944464477 0.5422763712860585\n",
      "0.06369222611864597 0.625 0.12828654672910778 0.5006779460322942\n",
      "0.08824897322649372 0.875 0.2615263200741277 0.5075032391832013\n",
      "0.09075155873223736 0.625 0.17369676154706354 0.4996105634717348\n",
      "0.08997056599236922 0.625 0.14988852602702674 0.49582670704513115\n",
      "0.07971365760073426 0.625 0.1818658140019897 0.49962346416709735\n"
     ]
    },
    {
     "name": "stderr",
     "output_type": "stream",
     "text": [
      "[Parallel(n_jobs=15)]: Done  45 out of  50 | elapsed: 12.0min remaining:  1.3min\n"
     ]
    },
    {
     "name": "stdout",
     "output_type": "stream",
     "text": [
      "0.06725654822344307 0.875 0.22202420799316364 0.5084054973590368\n",
      "0.1027498207430341 0.375 0.16218366170670384 0.4968903578279495\n",
      "0.10299215859689739 0.375 0.19632783640866092 0.4985462806793786\n",
      "0.08076625578797145 0.5 0.13969940380121904 0.5001131346039918\n",
      "0.061705751759247904 0.875 0.13809620651689203 0.49704715315675513\n"
     ]
    },
    {
     "name": "stderr",
     "output_type": "stream",
     "text": [
      "[Parallel(n_jobs=15)]: Done  50 out of  50 | elapsed: 12.9min finished\n"
     ]
    }
   ],
   "source": [
    "catch_coverages = Parallel(n_jobs=15, verbose = 10, backend = \"loky\")(delayed(rep_one_real_world)(i) for i in range(reps))"
   ]
  },
  {
   "cell_type": "code",
   "execution_count": 83,
   "id": "1e8200e5-b784-49c8-9ae9-fd7ee5a2e71d",
   "metadata": {},
   "outputs": [],
   "source": [
    "# catch_coverages"
   ]
  },
  {
   "cell_type": "code",
   "execution_count": 84,
   "id": "647980a7-9ae3-4c5c-b25c-2e37b6a84679",
   "metadata": {},
   "outputs": [],
   "source": [
    "check = pd.DataFrame(catch_coverages).iloc[:,:-1]"
   ]
  },
  {
   "cell_type": "code",
   "execution_count": 85,
   "id": "e061792a-e589-486e-b8d2-336622f6bf34",
   "metadata": {},
   "outputs": [],
   "source": [
    "# check"
   ]
  },
  {
   "cell_type": "code",
   "execution_count": 86,
   "id": "fa101efc-351b-4645-87a3-f008abf1ff3d",
   "metadata": {},
   "outputs": [],
   "source": [
    "# check"
   ]
  },
  {
   "cell_type": "code",
   "execution_count": 87,
   "id": "77536655-0afd-4976-980a-fa7a28b55201",
   "metadata": {},
   "outputs": [],
   "source": [
    "# check.columns = [\"train_mae\", \"test_mae\", \"avg_ci_width_train\", \"avg_ci_width_test\", \"avg_lstm_weight\", \"exit_iter\", \"exit_status\"]"
   ]
  },
  {
   "cell_type": "code",
   "execution_count": 88,
   "id": "cd8cefbd-9076-469e-a5dc-dc4637846308",
   "metadata": {},
   "outputs": [
    {
     "data": {
      "text/html": [
       "<div>\n",
       "<style scoped>\n",
       "    .dataframe tbody tr th:only-of-type {\n",
       "        vertical-align: middle;\n",
       "    }\n",
       "\n",
       "    .dataframe tbody tr th {\n",
       "        vertical-align: top;\n",
       "    }\n",
       "\n",
       "    .dataframe thead th {\n",
       "        text-align: right;\n",
       "    }\n",
       "</style>\n",
       "<table border=\"1\" class=\"dataframe\">\n",
       "  <thead>\n",
       "    <tr style=\"text-align: right;\">\n",
       "      <th></th>\n",
       "      <th>0</th>\n",
       "      <th>1</th>\n",
       "      <th>2</th>\n",
       "      <th>3</th>\n",
       "      <th>4</th>\n",
       "      <th>5</th>\n",
       "      <th>6</th>\n",
       "      <th>7</th>\n",
       "      <th>8</th>\n",
       "    </tr>\n",
       "  </thead>\n",
       "  <tbody>\n",
       "    <tr>\n",
       "      <th>0</th>\n",
       "      <td>0.034913</td>\n",
       "      <td>0.047451</td>\n",
       "      <td>0.954545</td>\n",
       "      <td>0.157029</td>\n",
       "      <td>0.750</td>\n",
       "      <td>0.191984</td>\n",
       "      <td>0.496191</td>\n",
       "      <td>43</td>\n",
       "      <td>2.733333</td>\n",
       "    </tr>\n",
       "    <tr>\n",
       "      <th>1</th>\n",
       "      <td>0.027101</td>\n",
       "      <td>0.073924</td>\n",
       "      <td>1.000000</td>\n",
       "      <td>0.235909</td>\n",
       "      <td>0.750</td>\n",
       "      <td>0.242438</td>\n",
       "      <td>0.511781</td>\n",
       "      <td>82</td>\n",
       "      <td>3.483333</td>\n",
       "    </tr>\n",
       "    <tr>\n",
       "      <th>2</th>\n",
       "      <td>0.022554</td>\n",
       "      <td>0.048088</td>\n",
       "      <td>0.954545</td>\n",
       "      <td>0.106273</td>\n",
       "      <td>0.875</td>\n",
       "      <td>0.128935</td>\n",
       "      <td>0.497304</td>\n",
       "      <td>105</td>\n",
       "      <td>3.933333</td>\n",
       "    </tr>\n",
       "    <tr>\n",
       "      <th>3</th>\n",
       "      <td>0.031197</td>\n",
       "      <td>0.049128</td>\n",
       "      <td>1.000000</td>\n",
       "      <td>0.288386</td>\n",
       "      <td>1.000</td>\n",
       "      <td>0.313899</td>\n",
       "      <td>0.517904</td>\n",
       "      <td>51</td>\n",
       "      <td>2.900000</td>\n",
       "    </tr>\n",
       "    <tr>\n",
       "      <th>4</th>\n",
       "      <td>0.045130</td>\n",
       "      <td>0.067524</td>\n",
       "      <td>0.954545</td>\n",
       "      <td>0.202552</td>\n",
       "      <td>0.875</td>\n",
       "      <td>0.177931</td>\n",
       "      <td>0.498700</td>\n",
       "      <td>70</td>\n",
       "      <td>3.250000</td>\n",
       "    </tr>\n",
       "    <tr>\n",
       "      <th>5</th>\n",
       "      <td>0.026721</td>\n",
       "      <td>0.040285</td>\n",
       "      <td>1.000000</td>\n",
       "      <td>0.299391</td>\n",
       "      <td>1.000</td>\n",
       "      <td>0.291017</td>\n",
       "      <td>0.517816</td>\n",
       "      <td>57</td>\n",
       "      <td>2.983333</td>\n",
       "    </tr>\n",
       "    <tr>\n",
       "      <th>6</th>\n",
       "      <td>0.020703</td>\n",
       "      <td>0.048682</td>\n",
       "      <td>0.969697</td>\n",
       "      <td>0.096072</td>\n",
       "      <td>0.625</td>\n",
       "      <td>0.125054</td>\n",
       "      <td>0.503265</td>\n",
       "      <td>138</td>\n",
       "      <td>4.550000</td>\n",
       "    </tr>\n",
       "    <tr>\n",
       "      <th>7</th>\n",
       "      <td>0.029363</td>\n",
       "      <td>0.050448</td>\n",
       "      <td>0.954545</td>\n",
       "      <td>0.151854</td>\n",
       "      <td>0.875</td>\n",
       "      <td>0.157927</td>\n",
       "      <td>0.489299</td>\n",
       "      <td>114</td>\n",
       "      <td>4.050000</td>\n",
       "    </tr>\n",
       "    <tr>\n",
       "      <th>8</th>\n",
       "      <td>0.037551</td>\n",
       "      <td>0.049502</td>\n",
       "      <td>0.954545</td>\n",
       "      <td>0.174591</td>\n",
       "      <td>0.875</td>\n",
       "      <td>0.194271</td>\n",
       "      <td>0.499460</td>\n",
       "      <td>70</td>\n",
       "      <td>3.250000</td>\n",
       "    </tr>\n",
       "    <tr>\n",
       "      <th>9</th>\n",
       "      <td>0.030439</td>\n",
       "      <td>0.077528</td>\n",
       "      <td>0.969697</td>\n",
       "      <td>0.121639</td>\n",
       "      <td>0.750</td>\n",
       "      <td>0.148866</td>\n",
       "      <td>0.501568</td>\n",
       "      <td>62</td>\n",
       "      <td>3.066667</td>\n",
       "    </tr>\n",
       "    <tr>\n",
       "      <th>10</th>\n",
       "      <td>0.044955</td>\n",
       "      <td>0.069995</td>\n",
       "      <td>0.969697</td>\n",
       "      <td>0.242519</td>\n",
       "      <td>1.000</td>\n",
       "      <td>0.289717</td>\n",
       "      <td>0.521456</td>\n",
       "      <td>35</td>\n",
       "      <td>2.583333</td>\n",
       "    </tr>\n",
       "    <tr>\n",
       "      <th>11</th>\n",
       "      <td>0.021998</td>\n",
       "      <td>0.043238</td>\n",
       "      <td>0.969697</td>\n",
       "      <td>0.096108</td>\n",
       "      <td>0.750</td>\n",
       "      <td>0.145837</td>\n",
       "      <td>0.493229</td>\n",
       "      <td>89</td>\n",
       "      <td>3.633333</td>\n",
       "    </tr>\n",
       "    <tr>\n",
       "      <th>12</th>\n",
       "      <td>0.030162</td>\n",
       "      <td>0.056872</td>\n",
       "      <td>0.984848</td>\n",
       "      <td>0.196913</td>\n",
       "      <td>0.875</td>\n",
       "      <td>0.192428</td>\n",
       "      <td>0.493758</td>\n",
       "      <td>51</td>\n",
       "      <td>2.883333</td>\n",
       "    </tr>\n",
       "    <tr>\n",
       "      <th>13</th>\n",
       "      <td>0.029534</td>\n",
       "      <td>0.045869</td>\n",
       "      <td>0.954545</td>\n",
       "      <td>0.151898</td>\n",
       "      <td>0.875</td>\n",
       "      <td>0.198628</td>\n",
       "      <td>0.515716</td>\n",
       "      <td>59</td>\n",
       "      <td>3.016667</td>\n",
       "    </tr>\n",
       "    <tr>\n",
       "      <th>14</th>\n",
       "      <td>0.026259</td>\n",
       "      <td>0.034906</td>\n",
       "      <td>0.954545</td>\n",
       "      <td>0.142420</td>\n",
       "      <td>0.875</td>\n",
       "      <td>0.107513</td>\n",
       "      <td>0.495293</td>\n",
       "      <td>61</td>\n",
       "      <td>3.066667</td>\n",
       "    </tr>\n",
       "    <tr>\n",
       "      <th>15</th>\n",
       "      <td>0.028696</td>\n",
       "      <td>0.102392</td>\n",
       "      <td>0.954545</td>\n",
       "      <td>0.116129</td>\n",
       "      <td>0.375</td>\n",
       "      <td>0.129591</td>\n",
       "      <td>0.496360</td>\n",
       "      <td>109</td>\n",
       "      <td>3.983333</td>\n",
       "    </tr>\n",
       "    <tr>\n",
       "      <th>16</th>\n",
       "      <td>0.027238</td>\n",
       "      <td>0.075466</td>\n",
       "      <td>0.969697</td>\n",
       "      <td>0.149176</td>\n",
       "      <td>0.750</td>\n",
       "      <td>0.132860</td>\n",
       "      <td>0.493745</td>\n",
       "      <td>40</td>\n",
       "      <td>2.683333</td>\n",
       "    </tr>\n",
       "    <tr>\n",
       "      <th>17</th>\n",
       "      <td>0.030620</td>\n",
       "      <td>0.135452</td>\n",
       "      <td>0.969697</td>\n",
       "      <td>0.171404</td>\n",
       "      <td>0.375</td>\n",
       "      <td>0.207754</td>\n",
       "      <td>0.498531</td>\n",
       "      <td>76</td>\n",
       "      <td>3.383333</td>\n",
       "    </tr>\n",
       "    <tr>\n",
       "      <th>18</th>\n",
       "      <td>0.022130</td>\n",
       "      <td>0.108105</td>\n",
       "      <td>0.954545</td>\n",
       "      <td>0.144689</td>\n",
       "      <td>0.625</td>\n",
       "      <td>0.167701</td>\n",
       "      <td>0.497470</td>\n",
       "      <td>178</td>\n",
       "      <td>5.300000</td>\n",
       "    </tr>\n",
       "    <tr>\n",
       "      <th>19</th>\n",
       "      <td>0.035050</td>\n",
       "      <td>0.075959</td>\n",
       "      <td>0.969697</td>\n",
       "      <td>0.203227</td>\n",
       "      <td>0.875</td>\n",
       "      <td>0.235656</td>\n",
       "      <td>0.494415</td>\n",
       "      <td>42</td>\n",
       "      <td>2.716667</td>\n",
       "    </tr>\n",
       "    <tr>\n",
       "      <th>20</th>\n",
       "      <td>0.037515</td>\n",
       "      <td>0.089344</td>\n",
       "      <td>0.954545</td>\n",
       "      <td>0.198187</td>\n",
       "      <td>0.750</td>\n",
       "      <td>0.223886</td>\n",
       "      <td>0.506956</td>\n",
       "      <td>55</td>\n",
       "      <td>2.950000</td>\n",
       "    </tr>\n",
       "    <tr>\n",
       "      <th>21</th>\n",
       "      <td>0.035199</td>\n",
       "      <td>0.060943</td>\n",
       "      <td>0.954545</td>\n",
       "      <td>0.152583</td>\n",
       "      <td>0.875</td>\n",
       "      <td>0.185464</td>\n",
       "      <td>0.504203</td>\n",
       "      <td>72</td>\n",
       "      <td>3.283333</td>\n",
       "    </tr>\n",
       "    <tr>\n",
       "      <th>22</th>\n",
       "      <td>0.036774</td>\n",
       "      <td>0.052238</td>\n",
       "      <td>0.954545</td>\n",
       "      <td>0.133839</td>\n",
       "      <td>0.625</td>\n",
       "      <td>0.122027</td>\n",
       "      <td>0.501440</td>\n",
       "      <td>49</td>\n",
       "      <td>2.816667</td>\n",
       "    </tr>\n",
       "    <tr>\n",
       "      <th>23</th>\n",
       "      <td>0.021890</td>\n",
       "      <td>0.063692</td>\n",
       "      <td>0.954545</td>\n",
       "      <td>0.108251</td>\n",
       "      <td>0.625</td>\n",
       "      <td>0.128287</td>\n",
       "      <td>0.500678</td>\n",
       "      <td>253</td>\n",
       "      <td>6.666667</td>\n",
       "    </tr>\n",
       "    <tr>\n",
       "      <th>24</th>\n",
       "      <td>0.032560</td>\n",
       "      <td>0.052526</td>\n",
       "      <td>0.954545</td>\n",
       "      <td>0.123223</td>\n",
       "      <td>0.875</td>\n",
       "      <td>0.153756</td>\n",
       "      <td>0.505239</td>\n",
       "      <td>68</td>\n",
       "      <td>3.200000</td>\n",
       "    </tr>\n",
       "    <tr>\n",
       "      <th>25</th>\n",
       "      <td>0.034011</td>\n",
       "      <td>0.061623</td>\n",
       "      <td>1.000000</td>\n",
       "      <td>0.302287</td>\n",
       "      <td>0.875</td>\n",
       "      <td>0.408497</td>\n",
       "      <td>0.484299</td>\n",
       "      <td>41</td>\n",
       "      <td>2.700000</td>\n",
       "    </tr>\n",
       "    <tr>\n",
       "      <th>26</th>\n",
       "      <td>0.027220</td>\n",
       "      <td>0.029364</td>\n",
       "      <td>0.969697</td>\n",
       "      <td>0.140756</td>\n",
       "      <td>1.000</td>\n",
       "      <td>0.131166</td>\n",
       "      <td>0.500466</td>\n",
       "      <td>151</td>\n",
       "      <td>4.800000</td>\n",
       "    </tr>\n",
       "    <tr>\n",
       "      <th>27</th>\n",
       "      <td>0.041727</td>\n",
       "      <td>0.020498</td>\n",
       "      <td>0.969697</td>\n",
       "      <td>0.251025</td>\n",
       "      <td>1.000</td>\n",
       "      <td>0.235911</td>\n",
       "      <td>0.518461</td>\n",
       "      <td>50</td>\n",
       "      <td>2.900000</td>\n",
       "    </tr>\n",
       "    <tr>\n",
       "      <th>28</th>\n",
       "      <td>0.029861</td>\n",
       "      <td>0.085162</td>\n",
       "      <td>0.969697</td>\n",
       "      <td>0.151535</td>\n",
       "      <td>0.875</td>\n",
       "      <td>0.236682</td>\n",
       "      <td>0.500190</td>\n",
       "      <td>70</td>\n",
       "      <td>3.233333</td>\n",
       "    </tr>\n",
       "    <tr>\n",
       "      <th>29</th>\n",
       "      <td>0.032510</td>\n",
       "      <td>0.102030</td>\n",
       "      <td>0.984848</td>\n",
       "      <td>0.192382</td>\n",
       "      <td>0.750</td>\n",
       "      <td>0.264022</td>\n",
       "      <td>0.498682</td>\n",
       "      <td>104</td>\n",
       "      <td>3.900000</td>\n",
       "    </tr>\n",
       "    <tr>\n",
       "      <th>30</th>\n",
       "      <td>0.033792</td>\n",
       "      <td>0.139227</td>\n",
       "      <td>0.969697</td>\n",
       "      <td>0.165207</td>\n",
       "      <td>0.375</td>\n",
       "      <td>0.264015</td>\n",
       "      <td>0.499577</td>\n",
       "      <td>62</td>\n",
       "      <td>3.016667</td>\n",
       "    </tr>\n",
       "    <tr>\n",
       "      <th>31</th>\n",
       "      <td>0.038311</td>\n",
       "      <td>0.033341</td>\n",
       "      <td>0.969697</td>\n",
       "      <td>0.172129</td>\n",
       "      <td>1.000</td>\n",
       "      <td>0.142778</td>\n",
       "      <td>0.498321</td>\n",
       "      <td>66</td>\n",
       "      <td>3.116667</td>\n",
       "    </tr>\n",
       "    <tr>\n",
       "      <th>32</th>\n",
       "      <td>0.033781</td>\n",
       "      <td>0.063165</td>\n",
       "      <td>0.954545</td>\n",
       "      <td>0.130335</td>\n",
       "      <td>0.750</td>\n",
       "      <td>0.151289</td>\n",
       "      <td>0.500027</td>\n",
       "      <td>59</td>\n",
       "      <td>2.966667</td>\n",
       "    </tr>\n",
       "    <tr>\n",
       "      <th>33</th>\n",
       "      <td>0.022739</td>\n",
       "      <td>0.053548</td>\n",
       "      <td>0.969697</td>\n",
       "      <td>0.117311</td>\n",
       "      <td>0.625</td>\n",
       "      <td>0.103319</td>\n",
       "      <td>0.501720</td>\n",
       "      <td>82</td>\n",
       "      <td>3.433333</td>\n",
       "    </tr>\n",
       "    <tr>\n",
       "      <th>34</th>\n",
       "      <td>0.035865</td>\n",
       "      <td>0.069116</td>\n",
       "      <td>0.954545</td>\n",
       "      <td>0.171508</td>\n",
       "      <td>0.875</td>\n",
       "      <td>0.222852</td>\n",
       "      <td>0.509139</td>\n",
       "      <td>60</td>\n",
       "      <td>3.066667</td>\n",
       "    </tr>\n",
       "    <tr>\n",
       "      <th>35</th>\n",
       "      <td>0.045559</td>\n",
       "      <td>0.130382</td>\n",
       "      <td>0.969697</td>\n",
       "      <td>0.252895</td>\n",
       "      <td>1.000</td>\n",
       "      <td>0.435479</td>\n",
       "      <td>0.483777</td>\n",
       "      <td>37</td>\n",
       "      <td>2.600000</td>\n",
       "    </tr>\n",
       "    <tr>\n",
       "      <th>36</th>\n",
       "      <td>0.034301</td>\n",
       "      <td>0.057261</td>\n",
       "      <td>0.969697</td>\n",
       "      <td>0.157063</td>\n",
       "      <td>0.750</td>\n",
       "      <td>0.173278</td>\n",
       "      <td>0.495661</td>\n",
       "      <td>54</td>\n",
       "      <td>2.900000</td>\n",
       "    </tr>\n",
       "    <tr>\n",
       "      <th>37</th>\n",
       "      <td>0.037218</td>\n",
       "      <td>0.034021</td>\n",
       "      <td>0.954545</td>\n",
       "      <td>0.143737</td>\n",
       "      <td>0.750</td>\n",
       "      <td>0.143025</td>\n",
       "      <td>0.521671</td>\n",
       "      <td>33</td>\n",
       "      <td>2.500000</td>\n",
       "    </tr>\n",
       "    <tr>\n",
       "      <th>38</th>\n",
       "      <td>0.029656</td>\n",
       "      <td>0.064380</td>\n",
       "      <td>0.969697</td>\n",
       "      <td>0.167884</td>\n",
       "      <td>0.875</td>\n",
       "      <td>0.231265</td>\n",
       "      <td>0.501220</td>\n",
       "      <td>58</td>\n",
       "      <td>2.983333</td>\n",
       "    </tr>\n",
       "    <tr>\n",
       "      <th>39</th>\n",
       "      <td>0.025581</td>\n",
       "      <td>0.072642</td>\n",
       "      <td>1.000000</td>\n",
       "      <td>0.195200</td>\n",
       "      <td>0.750</td>\n",
       "      <td>0.195163</td>\n",
       "      <td>0.537224</td>\n",
       "      <td>24</td>\n",
       "      <td>2.366667</td>\n",
       "    </tr>\n",
       "    <tr>\n",
       "      <th>40</th>\n",
       "      <td>0.038038</td>\n",
       "      <td>0.175595</td>\n",
       "      <td>0.969697</td>\n",
       "      <td>0.278401</td>\n",
       "      <td>0.750</td>\n",
       "      <td>0.378075</td>\n",
       "      <td>0.542276</td>\n",
       "      <td>27</td>\n",
       "      <td>2.366667</td>\n",
       "    </tr>\n",
       "    <tr>\n",
       "      <th>41</th>\n",
       "      <td>0.024909</td>\n",
       "      <td>0.090752</td>\n",
       "      <td>0.954545</td>\n",
       "      <td>0.131083</td>\n",
       "      <td>0.625</td>\n",
       "      <td>0.173697</td>\n",
       "      <td>0.499611</td>\n",
       "      <td>53</td>\n",
       "      <td>2.766667</td>\n",
       "    </tr>\n",
       "    <tr>\n",
       "      <th>42</th>\n",
       "      <td>0.036850</td>\n",
       "      <td>0.088249</td>\n",
       "      <td>0.969697</td>\n",
       "      <td>0.194716</td>\n",
       "      <td>0.875</td>\n",
       "      <td>0.261526</td>\n",
       "      <td>0.507503</td>\n",
       "      <td>39</td>\n",
       "      <td>2.500000</td>\n",
       "    </tr>\n",
       "    <tr>\n",
       "      <th>43</th>\n",
       "      <td>0.029556</td>\n",
       "      <td>0.089971</td>\n",
       "      <td>0.954545</td>\n",
       "      <td>0.155606</td>\n",
       "      <td>0.625</td>\n",
       "      <td>0.149889</td>\n",
       "      <td>0.495827</td>\n",
       "      <td>81</td>\n",
       "      <td>3.233333</td>\n",
       "    </tr>\n",
       "    <tr>\n",
       "      <th>44</th>\n",
       "      <td>0.029069</td>\n",
       "      <td>0.102750</td>\n",
       "      <td>0.954545</td>\n",
       "      <td>0.134726</td>\n",
       "      <td>0.375</td>\n",
       "      <td>0.162184</td>\n",
       "      <td>0.496890</td>\n",
       "      <td>107</td>\n",
       "      <td>3.616667</td>\n",
       "    </tr>\n",
       "    <tr>\n",
       "      <th>45</th>\n",
       "      <td>0.035763</td>\n",
       "      <td>0.079714</td>\n",
       "      <td>0.954545</td>\n",
       "      <td>0.150811</td>\n",
       "      <td>0.625</td>\n",
       "      <td>0.181866</td>\n",
       "      <td>0.499623</td>\n",
       "      <td>72</td>\n",
       "      <td>3.050000</td>\n",
       "    </tr>\n",
       "    <tr>\n",
       "      <th>46</th>\n",
       "      <td>0.027497</td>\n",
       "      <td>0.067257</td>\n",
       "      <td>0.984848</td>\n",
       "      <td>0.170748</td>\n",
       "      <td>0.875</td>\n",
       "      <td>0.222024</td>\n",
       "      <td>0.508405</td>\n",
       "      <td>77</td>\n",
       "      <td>3.066667</td>\n",
       "    </tr>\n",
       "    <tr>\n",
       "      <th>47</th>\n",
       "      <td>0.022817</td>\n",
       "      <td>0.102992</td>\n",
       "      <td>0.954545</td>\n",
       "      <td>0.123102</td>\n",
       "      <td>0.375</td>\n",
       "      <td>0.196328</td>\n",
       "      <td>0.498546</td>\n",
       "      <td>90</td>\n",
       "      <td>3.316667</td>\n",
       "    </tr>\n",
       "    <tr>\n",
       "      <th>48</th>\n",
       "      <td>0.020564</td>\n",
       "      <td>0.080766</td>\n",
       "      <td>0.969697</td>\n",
       "      <td>0.115584</td>\n",
       "      <td>0.500</td>\n",
       "      <td>0.139699</td>\n",
       "      <td>0.500113</td>\n",
       "      <td>120</td>\n",
       "      <td>3.800000</td>\n",
       "    </tr>\n",
       "    <tr>\n",
       "      <th>49</th>\n",
       "      <td>0.028104</td>\n",
       "      <td>0.061706</td>\n",
       "      <td>0.954545</td>\n",
       "      <td>0.138720</td>\n",
       "      <td>0.875</td>\n",
       "      <td>0.138096</td>\n",
       "      <td>0.497047</td>\n",
       "      <td>110</td>\n",
       "      <td>3.566667</td>\n",
       "    </tr>\n",
       "  </tbody>\n",
       "</table>\n",
       "</div>"
      ],
      "text/plain": [
       "           0         1         2         3      4         5         6    7  \\\n",
       "0   0.034913  0.047451  0.954545  0.157029  0.750  0.191984  0.496191   43   \n",
       "1   0.027101  0.073924  1.000000  0.235909  0.750  0.242438  0.511781   82   \n",
       "2   0.022554  0.048088  0.954545  0.106273  0.875  0.128935  0.497304  105   \n",
       "3   0.031197  0.049128  1.000000  0.288386  1.000  0.313899  0.517904   51   \n",
       "4   0.045130  0.067524  0.954545  0.202552  0.875  0.177931  0.498700   70   \n",
       "5   0.026721  0.040285  1.000000  0.299391  1.000  0.291017  0.517816   57   \n",
       "6   0.020703  0.048682  0.969697  0.096072  0.625  0.125054  0.503265  138   \n",
       "7   0.029363  0.050448  0.954545  0.151854  0.875  0.157927  0.489299  114   \n",
       "8   0.037551  0.049502  0.954545  0.174591  0.875  0.194271  0.499460   70   \n",
       "9   0.030439  0.077528  0.969697  0.121639  0.750  0.148866  0.501568   62   \n",
       "10  0.044955  0.069995  0.969697  0.242519  1.000  0.289717  0.521456   35   \n",
       "11  0.021998  0.043238  0.969697  0.096108  0.750  0.145837  0.493229   89   \n",
       "12  0.030162  0.056872  0.984848  0.196913  0.875  0.192428  0.493758   51   \n",
       "13  0.029534  0.045869  0.954545  0.151898  0.875  0.198628  0.515716   59   \n",
       "14  0.026259  0.034906  0.954545  0.142420  0.875  0.107513  0.495293   61   \n",
       "15  0.028696  0.102392  0.954545  0.116129  0.375  0.129591  0.496360  109   \n",
       "16  0.027238  0.075466  0.969697  0.149176  0.750  0.132860  0.493745   40   \n",
       "17  0.030620  0.135452  0.969697  0.171404  0.375  0.207754  0.498531   76   \n",
       "18  0.022130  0.108105  0.954545  0.144689  0.625  0.167701  0.497470  178   \n",
       "19  0.035050  0.075959  0.969697  0.203227  0.875  0.235656  0.494415   42   \n",
       "20  0.037515  0.089344  0.954545  0.198187  0.750  0.223886  0.506956   55   \n",
       "21  0.035199  0.060943  0.954545  0.152583  0.875  0.185464  0.504203   72   \n",
       "22  0.036774  0.052238  0.954545  0.133839  0.625  0.122027  0.501440   49   \n",
       "23  0.021890  0.063692  0.954545  0.108251  0.625  0.128287  0.500678  253   \n",
       "24  0.032560  0.052526  0.954545  0.123223  0.875  0.153756  0.505239   68   \n",
       "25  0.034011  0.061623  1.000000  0.302287  0.875  0.408497  0.484299   41   \n",
       "26  0.027220  0.029364  0.969697  0.140756  1.000  0.131166  0.500466  151   \n",
       "27  0.041727  0.020498  0.969697  0.251025  1.000  0.235911  0.518461   50   \n",
       "28  0.029861  0.085162  0.969697  0.151535  0.875  0.236682  0.500190   70   \n",
       "29  0.032510  0.102030  0.984848  0.192382  0.750  0.264022  0.498682  104   \n",
       "30  0.033792  0.139227  0.969697  0.165207  0.375  0.264015  0.499577   62   \n",
       "31  0.038311  0.033341  0.969697  0.172129  1.000  0.142778  0.498321   66   \n",
       "32  0.033781  0.063165  0.954545  0.130335  0.750  0.151289  0.500027   59   \n",
       "33  0.022739  0.053548  0.969697  0.117311  0.625  0.103319  0.501720   82   \n",
       "34  0.035865  0.069116  0.954545  0.171508  0.875  0.222852  0.509139   60   \n",
       "35  0.045559  0.130382  0.969697  0.252895  1.000  0.435479  0.483777   37   \n",
       "36  0.034301  0.057261  0.969697  0.157063  0.750  0.173278  0.495661   54   \n",
       "37  0.037218  0.034021  0.954545  0.143737  0.750  0.143025  0.521671   33   \n",
       "38  0.029656  0.064380  0.969697  0.167884  0.875  0.231265  0.501220   58   \n",
       "39  0.025581  0.072642  1.000000  0.195200  0.750  0.195163  0.537224   24   \n",
       "40  0.038038  0.175595  0.969697  0.278401  0.750  0.378075  0.542276   27   \n",
       "41  0.024909  0.090752  0.954545  0.131083  0.625  0.173697  0.499611   53   \n",
       "42  0.036850  0.088249  0.969697  0.194716  0.875  0.261526  0.507503   39   \n",
       "43  0.029556  0.089971  0.954545  0.155606  0.625  0.149889  0.495827   81   \n",
       "44  0.029069  0.102750  0.954545  0.134726  0.375  0.162184  0.496890  107   \n",
       "45  0.035763  0.079714  0.954545  0.150811  0.625  0.181866  0.499623   72   \n",
       "46  0.027497  0.067257  0.984848  0.170748  0.875  0.222024  0.508405   77   \n",
       "47  0.022817  0.102992  0.954545  0.123102  0.375  0.196328  0.498546   90   \n",
       "48  0.020564  0.080766  0.969697  0.115584  0.500  0.139699  0.500113  120   \n",
       "49  0.028104  0.061706  0.954545  0.138720  0.875  0.138096  0.497047  110   \n",
       "\n",
       "           8  \n",
       "0   2.733333  \n",
       "1   3.483333  \n",
       "2   3.933333  \n",
       "3   2.900000  \n",
       "4   3.250000  \n",
       "5   2.983333  \n",
       "6   4.550000  \n",
       "7   4.050000  \n",
       "8   3.250000  \n",
       "9   3.066667  \n",
       "10  2.583333  \n",
       "11  3.633333  \n",
       "12  2.883333  \n",
       "13  3.016667  \n",
       "14  3.066667  \n",
       "15  3.983333  \n",
       "16  2.683333  \n",
       "17  3.383333  \n",
       "18  5.300000  \n",
       "19  2.716667  \n",
       "20  2.950000  \n",
       "21  3.283333  \n",
       "22  2.816667  \n",
       "23  6.666667  \n",
       "24  3.200000  \n",
       "25  2.700000  \n",
       "26  4.800000  \n",
       "27  2.900000  \n",
       "28  3.233333  \n",
       "29  3.900000  \n",
       "30  3.016667  \n",
       "31  3.116667  \n",
       "32  2.966667  \n",
       "33  3.433333  \n",
       "34  3.066667  \n",
       "35  2.600000  \n",
       "36  2.900000  \n",
       "37  2.500000  \n",
       "38  2.983333  \n",
       "39  2.366667  \n",
       "40  2.366667  \n",
       "41  2.766667  \n",
       "42  2.500000  \n",
       "43  3.233333  \n",
       "44  3.616667  \n",
       "45  3.050000  \n",
       "46  3.066667  \n",
       "47  3.316667  \n",
       "48  3.800000  \n",
       "49  3.566667  "
      ]
     },
     "execution_count": 88,
     "metadata": {},
     "output_type": "execute_result"
    }
   ],
   "source": [
    "check"
   ]
  },
  {
   "cell_type": "code",
   "execution_count": 89,
   "id": "4fc1dcac-24b2-45e7-ae4c-e55eca90a6c6",
   "metadata": {},
   "outputs": [],
   "source": [
    "check.columns = [\"train_mae\", \"test_mae\", \"train_coverage\", \"train_width\", \"test_coverage\", \"test_width\", \"lstm_weight\" ,\"exit_iter\", \"time_taken\"]"
   ]
  },
  {
   "cell_type": "code",
   "execution_count": 90,
   "id": "fcf483cf-1d09-4d5d-8c7c-7db62473a356",
   "metadata": {},
   "outputs": [
    {
     "data": {
      "text/plain": [
       "train_mae          0.031231\n",
       "test_mae           0.071501\n",
       "train_coverage     0.966667\n",
       "train_width        0.169380\n",
       "test_coverage      0.765000\n",
       "test_width         0.198711\n",
       "lstm_weight        0.502961\n",
       "exit_iter         75.120000\n",
       "time_taken         3.282667\n",
       "dtype: float64"
      ]
     },
     "execution_count": 90,
     "metadata": {},
     "output_type": "execute_result"
    }
   ],
   "source": [
    "check.mean()"
   ]
  },
  {
   "cell_type": "code",
   "execution_count": 91,
   "id": "e776a220-0227-4460-bd21-5aa40a756b12",
   "metadata": {},
   "outputs": [],
   "source": [
    "check_mean = check.mean().reset_index()"
   ]
  },
  {
   "cell_type": "code",
   "execution_count": 92,
   "id": "1839ab29-f07b-4245-8c57-76f96a51f181",
   "metadata": {},
   "outputs": [],
   "source": [
    "check_mean.to_csv(\"Real_World_mean_metrics_ANN_LSTM_EnKF_LSTM_Doc2Vec_\" + \"var_weights_\" + str(var_weights) + \"_num_ens_\" + str(size_ens) +  \".csv\", index = False)"
   ]
  },
  {
   "cell_type": "code",
   "execution_count": 93,
   "id": "9b520f45-ad8d-453c-80e7-7a6bb711692f",
   "metadata": {},
   "outputs": [
    {
     "data": {
      "text/plain": [
       "train_mae          0.006397\n",
       "test_mae           0.030634\n",
       "train_coverage     0.014358\n",
       "train_width        0.052468\n",
       "test_coverage      0.179711\n",
       "test_width         0.073898\n",
       "lstm_weight        0.011305\n",
       "exit_iter         41.076653\n",
       "time_taken         0.769913\n",
       "dtype: float64"
      ]
     },
     "execution_count": 93,
     "metadata": {},
     "output_type": "execute_result"
    }
   ],
   "source": [
    "check.std()"
   ]
  },
  {
   "cell_type": "code",
   "execution_count": 94,
   "id": "87f0aecc-b638-486c-96ce-5f8d47b4a619",
   "metadata": {},
   "outputs": [],
   "source": [
    "check_std = check.std().reset_index()"
   ]
  },
  {
   "cell_type": "code",
   "execution_count": 95,
   "id": "355e9158-ecd7-48bc-9d13-d715fcb3ceb3",
   "metadata": {},
   "outputs": [],
   "source": [
    "check_std.to_csv(\"Real_World_std_dev_metrics_ANN_LSTM_EnKF_LSTM_Doc2Vec_\" + \"var_weights_\" + str(var_weights) + \"_num_ens_\" + str(size_ens)+  \".csv\", index = False)"
   ]
  },
  {
   "cell_type": "code",
   "execution_count": 96,
   "id": "e3e43629-3a74-4d41-acaf-dea297a3840c",
   "metadata": {},
   "outputs": [
    {
     "data": {
      "text/plain": [
       "train_mae         0.000128\n",
       "test_mae          0.000613\n",
       "train_coverage    0.000287\n",
       "train_width       0.001049\n",
       "test_coverage     0.003594\n",
       "test_width        0.001478\n",
       "lstm_weight       0.000226\n",
       "exit_iter         0.821533\n",
       "time_taken        0.015398\n",
       "dtype: float64"
      ]
     },
     "execution_count": 96,
     "metadata": {},
     "output_type": "execute_result"
    }
   ],
   "source": [
    "check.std()/reps"
   ]
  },
  {
   "cell_type": "code",
   "execution_count": 97,
   "id": "22fedaa0-1553-4f19-a388-552e8685f835",
   "metadata": {},
   "outputs": [],
   "source": [
    "# with open(\"Real_World_EnKF_LSTM_Doc2Vec_\" + \"var_weights_\" + str(var_weights) + \"_num_ens_\" + str(size_ens) + \".pkl\", 'rb') as f:\n",
    "#     catch_coverages = pickle.load(f)  "
   ]
  },
  {
   "cell_type": "code",
   "execution_count": 98,
   "id": "41b8e579-df3e-4937-bb73-16c1d945a952",
   "metadata": {},
   "outputs": [],
   "source": [
    "# catch_coverages[0][-1].mean(0)"
   ]
  },
  {
   "cell_type": "code",
   "execution_count": 99,
   "id": "8782e141-df51-4300-8822-4ac054073197",
   "metadata": {},
   "outputs": [],
   "source": [
    "# expit(catch1[0][2])"
   ]
  },
  {
   "cell_type": "code",
   "execution_count": 108,
   "id": "a83c3d12-b2f0-44b8-9904-7b10c4f513bd",
   "metadata": {},
   "outputs": [],
   "source": [
    "true_preds = []\n",
    "enkf_preds = []\n",
    "for i in range(0,reps):\n",
    "    all_preds = catch_coverages[i][-1]\n",
    "    all_preds = all_preds.mean(0)\n",
    "    catch_test_probs = (expit(catch1[i][2]) + expit(catch2[i][2]))/2\n",
    "    true_probs = catch_test_probs.ravel().tolist()\n",
    "    true_preds.append(true_probs)\n",
    "    enkf_preds.append(all_preds.ravel().tolist())\n",
    "    # plt.scatter(true_probs, all_preds.ravel().tolist())\n",
    "    # plt.show()"
   ]
  },
  {
   "cell_type": "code",
   "execution_count": 109,
   "id": "4089a2ab-43f9-4e24-a7ed-add7bdc14156",
   "metadata": {},
   "outputs": [],
   "source": [
    "true_preds = [inner for item in true_preds for inner in item]"
   ]
  },
  {
   "cell_type": "code",
   "execution_count": 110,
   "id": "65492b8d-d7e4-4375-8577-d79a633680b7",
   "metadata": {},
   "outputs": [],
   "source": [
    "enkf_preds = [inner for item in enkf_preds for inner in item]"
   ]
  },
  {
   "cell_type": "code",
   "execution_count": 103,
   "id": "5e66f450-27b5-4f4c-a831-c868c1f0e541",
   "metadata": {},
   "outputs": [],
   "source": [
    "# len(true_preds)"
   ]
  },
  {
   "cell_type": "code",
   "execution_count": 111,
   "id": "19776731-14c7-43c3-bd48-163aa67e2c76",
   "metadata": {},
   "outputs": [
    {
     "data": {
      "text/plain": [
       "0.07150140367090506"
      ]
     },
     "execution_count": 111,
     "metadata": {},
     "output_type": "execute_result"
    }
   ],
   "source": [
    "np.mean(np.abs(np.array(true_preds)-np.array(enkf_preds)))"
   ]
  },
  {
   "cell_type": "code",
   "execution_count": 112,
   "id": "1ebada74-6fe8-4f58-a939-87ca7399aef8",
   "metadata": {},
   "outputs": [
    {
     "data": {
      "image/png": "[encoded data removed]",
      "text/plain": [
       "<Figure size 640x480 with 1 Axes>"
      ]
     },
     "metadata": {},
     "output_type": "display_data"
    }
   ],
   "source": [
    "plt.scatter(enkf_preds,true_preds, alpha=0.5)\n",
    "plt.xlabel(\"MEnKF-ANN Predictions\", fontsize = 15, fontweight = \"bold\")\n",
    "plt.ylabel(\"Avg (LSTM,Doc2Vec_ANN) Predictions\", fontsize = 13, fontweight = \"bold\")\n",
    "plt.xticks(fontsize = 10, fontweight = \"bold\")\n",
    "plt.yticks(fontsize = 10, fontweight = \"bold\")\n",
    "plt.axline((0, 0), slope=1)\n",
    "plt.show()"
   ]
  },
  {
   "cell_type": "code",
   "execution_count": 106,
   "id": "bc99d01d-0709-457d-88c7-839b0068c062",
   "metadata": {},
   "outputs": [],
   "source": [
    "with open(\"Real_World_ANN_LSTM_EnKF_LSTM_Doc2Vec_\" + \"var_weights_\" + str(var_weights) + \"_num_ens_\" + str(size_ens) + \".pkl\", 'wb') as f:\n",
    "    first_lstm = pickle.dump(catch_coverages, f)  "
   ]
  },
  {
   "cell_type": "code",
   "execution_count": 107,
   "id": "ead27b05-299e-49dc-bb97-236a18cd05e5",
   "metadata": {},
   "outputs": [],
   "source": [
    "# check"
   ]
  }
 ],
 "metadata": {
  "kernelspec": {
   "display_name": "enkf",
   "language": "python",
   "name": "enkf"
  },
  "language_info": {
   "codemirror_mode": {
    "name": "ipython",
    "version": 3
   },
   "file_extension": ".py",
   "mimetype": "text/x-python",
   "name": "python",
   "nbconvert_exporter": "python",
   "pygments_lexer": "ipython3",
   "version": "3.10.8"
  }
 },
 "nbformat": 4,
 "nbformat_minor": 5
}
