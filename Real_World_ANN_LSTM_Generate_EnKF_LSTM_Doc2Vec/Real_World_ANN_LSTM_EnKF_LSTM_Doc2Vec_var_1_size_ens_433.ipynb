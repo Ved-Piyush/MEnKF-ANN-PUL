{
 "cells": [
  {
   "cell_type": "code",
   "execution_count": 1,
   "id": "d7ab5bf3",
   "metadata": {},
   "outputs": [],
   "source": [
    "import pandas as pd\n",
    "from tqdm import tqdm\n",
    "import gensim\n",
    "import os\n",
    "os.environ['TF_CPP_MIN_LOG_LEVEL'] = '3' \n",
    "# os.chdir(r\"D://Proposal_Defense//Simulations\")\n",
    "# from Utils.Script_utils import get_data_splits, first_LSTM_training, get_data_splits_old_algo\n",
    "from joblib import Parallel, delayed\n",
    "import sys\n",
    "from scipy.stats import norm"
   ]
  },
  {
   "cell_type": "code",
   "execution_count": 2,
   "id": "36084258",
   "metadata": {},
   "outputs": [
    {
     "name": "stdout",
     "output_type": "stream",
     "text": [
      "No GPU found\n"
     ]
    }
   ],
   "source": [
    "# Seed value\n",
    "# Apparently you may use different seed values at each stage\n",
    "seed_value= 42\n",
    "\n",
    "# 1. Set the `PYTHONHASHSEED` environment variable at a fixed value\n",
    "import os\n",
    "os.environ['PYTHONHASHSEED']=str(seed_value)\n",
    "\n",
    "# 2. Set the `python` built-in pseudo-random generator at a fixed value\n",
    "import random\n",
    "random.seed(seed_value)\n",
    "\n",
    "# 3. Set the `numpy` pseudo-random generator at a fixed value\n",
    "import numpy as np\n",
    "np.random.seed(seed_value)\n",
    "\n",
    "# # 4. Set the `tensorflow` pseudo-random generator at a fixed value\n",
    "import tensorflow as tf\n",
    "os.environ['CUDA_VISIBLE_DEVICES'] = '-1'\n",
    "\n",
    "if tf.test.gpu_device_name():\n",
    "    print('GPU found')\n",
    "else:\n",
    "    print(\"No GPU found\")\n",
    "# tf.config.set_visible_devices([], 'GPU')\n",
    "\n",
    "from tqdm.notebook import tqdm\n",
    "tf.random.set_seed(seed_value)\n",
    "import multiprocessing\n",
    "# for later versions: \n",
    "# tf.compat.v1.set_random_seed(seed_value)\n",
    "\n",
    "# 5. Configure a new global `tensorflow` session\n",
    "# from keras import backend as K\n",
    "# session_conf = tf.compat.v1.ConfigProto(intra_op_parallelism_threads=1, inter_op_parallelism_threads=1)\n",
    "# sess = tf.compat.v1.Session(graph=tf.compat.v1.get_default_graph(), config=session_conf)\n",
    "# K.set_session(sess)"
   ]
  },
  {
   "cell_type": "code",
   "execution_count": 3,
   "id": "e036b858",
   "metadata": {},
   "outputs": [],
   "source": [
    "import matplotlib.pyplot as plt\n",
    "\n",
    "import pickle"
   ]
  },
  {
   "cell_type": "code",
   "execution_count": 4,
   "id": "058ca9d0",
   "metadata": {},
   "outputs": [],
   "source": [
    "model_cbow = gensim.models.word2vec.Word2Vec.load(r\"..//Data_Generation//word2vec_sg\")"
   ]
  },
  {
   "cell_type": "code",
   "execution_count": 5,
   "id": "d02c4f20-faf2-4e10-86f6-9ca8a295b770",
   "metadata": {},
   "outputs": [],
   "source": [
    "# data[\"high_level_substr\"].value_counts()"
   ]
  },
  {
   "cell_type": "code",
   "execution_count": 6,
   "id": "2bf7066c-ea42-41bd-949d-293de7243bfc",
   "metadata": {},
   "outputs": [],
   "source": [
    "# data.head()"
   ]
  },
  {
   "cell_type": "code",
   "execution_count": 7,
   "id": "88bbd17f",
   "metadata": {},
   "outputs": [],
   "source": [
    "reps = 50"
   ]
  },
  {
   "cell_type": "code",
   "execution_count": 8,
   "id": "440c1a52",
   "metadata": {},
   "outputs": [],
   "source": [
    "with open('..//Data_Generation//Data//train_valid_test_splits_50.pkl', 'rb') as f:\n",
    "    catch = pickle.load(f)  "
   ]
  },
  {
   "cell_type": "code",
   "execution_count": 9,
   "id": "6acf282c-55a4-4100-b49f-79961d64a7a6",
   "metadata": {},
   "outputs": [],
   "source": [
    "with open('..//Data_Generation//LSTM_Heavy_Dropout//heavy_dropout_first_lstm.pkl', 'rb') as f:\n",
    "    first_lstm = pickle.load(f)  "
   ]
  },
  {
   "cell_type": "code",
   "execution_count": 10,
   "id": "6fb71411-e2f7-40a8-846d-d2d86e1e4eda",
   "metadata": {},
   "outputs": [],
   "source": [
    "with open('..//Data_Generation//Doc2Vec_ANN//doc2vec_ann.pkl', 'rb') as f:\n",
    "    first_doc2vec_ann = pickle.load(f)  \n",
    "\n",
    "    \n",
    "# with open('..//Data_Generation//LSTM_Heavy_Dropout//Heavy_Data_train_logits.pkl', 'rb') as f:\n",
    "#     catch_train_logits = (pickle.load(f))    \n",
    "\n",
    "# with open('..//Data_Generation//LSTM_Heavy_Dropout//Heavy_Data_valid_logits.pkl', 'rb') as f:\n",
    "#     catch_valid_logits = (pickle.load( f))      \n",
    "    \n",
    "# with open('..//Data_Generation//LSTM_Heavy_Dropout//Heavy_Data_test_logits.pkl', 'rb') as f:\n",
    "#     catch_test_logits = (pickle.load( f))      \n",
    "    "
   ]
  },
  {
   "cell_type": "code",
   "execution_count": 11,
   "id": "76624ecc-8bb7-4e52-b95d-1a01cecacb5b",
   "metadata": {},
   "outputs": [],
   "source": [
    "def ann(hidden = 10): \n",
    "    input_layer = tf.keras.layers.Input(shape = (X_train_word2vec.shape[1]))\n",
    "    hidden_layer = tf.keras.layers.Dense(hidden)\n",
    "    hidden_output = hidden_layer(input_layer)\n",
    "    pred_layer = tf.keras.layers.Dense(1)\n",
    "    pred_output = pred_layer(hidden_output)\n",
    "#     pred_output = tf.keras.layers.Activation(\"softmax\")(pred_output)\n",
    "    model = tf.keras.models.Model(input_layer, pred_output)\n",
    "    return model"
   ]
  },
  {
   "cell_type": "code",
   "execution_count": 12,
   "id": "5fdce782-35ce-4f39-923d-4314c6901f68",
   "metadata": {},
   "outputs": [],
   "source": [
    "h1, h2 = 16,16"
   ]
  },
  {
   "cell_type": "code",
   "execution_count": 13,
   "id": "b8153ea5-cefc-4075-994d-c51461505e8b",
   "metadata": {},
   "outputs": [],
   "source": [
    "X_train_word2vec = first_lstm[0][3].numpy()"
   ]
  },
  {
   "cell_type": "code",
   "execution_count": 14,
   "id": "b2ff179a-2c64-4bae-bfd5-3ce7f4b40fb5",
   "metadata": {},
   "outputs": [],
   "source": [
    "\n",
    "\n",
    "ann_15 = ann(h1)\n",
    "\n",
    "\n",
    "# In[35]:\n",
    "\n",
    "\n",
    "# ann_15.summary()\n",
    "\n",
    "\n",
    "# In[36]:\n",
    "\n"
   ]
  },
  {
   "cell_type": "code",
   "execution_count": 15,
   "id": "0bf5144e-59f2-413e-af30-39407819094c",
   "metadata": {},
   "outputs": [
    {
     "name": "stdout",
     "output_type": "stream",
     "text": [
      "Model: \"model\"\n",
      "_________________________________________________________________\n",
      " Layer (type)                Output Shape              Param #   \n",
      "=================================================================\n",
      " input_1 (InputLayer)        [(None, 25)]              0         \n",
      "                                                                 \n",
      " dense (Dense)               (None, 16)                416       \n",
      "                                                                 \n",
      " dense_1 (Dense)             (None, 1)                 17        \n",
      "                                                                 \n",
      "=================================================================\n",
      "Total params: 433\n",
      "Trainable params: 433\n",
      "Non-trainable params: 0\n",
      "_________________________________________________________________\n"
     ]
    }
   ],
   "source": [
    "ann_15.summary()"
   ]
  },
  {
   "cell_type": "code",
   "execution_count": 16,
   "id": "a9c45b5a-9f13-4fd9-b90c-ed94e069b9cc",
   "metadata": {},
   "outputs": [],
   "source": [
    "X_train_word2vec = model_cbow.wv.vectors"
   ]
  },
  {
   "cell_type": "code",
   "execution_count": 17,
   "id": "bce5668e-a895-47b4-8f1c-6e5d1fd3c92b",
   "metadata": {},
   "outputs": [],
   "source": [
    "ann_20 = ann(h2)\n",
    "\n",
    "\n",
    "\n",
    "# ann_20.summary()\n",
    "\n"
   ]
  },
  {
   "cell_type": "code",
   "execution_count": 18,
   "id": "6a41f8b5",
   "metadata": {},
   "outputs": [],
   "source": [
    "total_weights_1 = ann_15.count_params()"
   ]
  },
  {
   "cell_type": "code",
   "execution_count": 19,
   "id": "0721ea37",
   "metadata": {},
   "outputs": [],
   "source": [
    "total_weights_2 = ann_20.count_params()"
   ]
  },
  {
   "cell_type": "code",
   "execution_count": 20,
   "id": "4b2ed894",
   "metadata": {},
   "outputs": [],
   "source": [
    "total_weights = total_weights_1 + total_weights_2 + 1 "
   ]
  },
  {
   "cell_type": "code",
   "execution_count": 21,
   "id": "999f5e96",
   "metadata": {},
   "outputs": [
    {
     "data": {
      "text/plain": [
       "1267"
      ]
     },
     "execution_count": 21,
     "metadata": {},
     "output_type": "execute_result"
    }
   ],
   "source": [
    "total_weights"
   ]
  },
  {
   "cell_type": "code",
   "execution_count": 22,
   "id": "feb2ef89",
   "metadata": {},
   "outputs": [],
   "source": [
    "## batch size\n",
    "batch_size = 32"
   ]
  },
  {
   "cell_type": "code",
   "execution_count": 23,
   "id": "4eea8c8e",
   "metadata": {},
   "outputs": [],
   "source": [
    "# var_weights = 0.08\n",
    "# var_targets = 0.08"
   ]
  },
  {
   "cell_type": "code",
   "execution_count": 24,
   "id": "9b49ba9c",
   "metadata": {},
   "outputs": [],
   "source": [
    "from scipy.stats import multivariate_normal as mvn"
   ]
  },
  {
   "cell_type": "code",
   "execution_count": 25,
   "id": "7a60a350",
   "metadata": {},
   "outputs": [],
   "source": [
    "from scipy.stats import invgamma, norm"
   ]
  },
  {
   "cell_type": "code",
   "execution_count": 26,
   "id": "bd888262",
   "metadata": {},
   "outputs": [],
   "source": [
    "from tqdm.notebook import tqdm"
   ]
  },
  {
   "cell_type": "code",
   "execution_count": 27,
   "id": "c3355c48",
   "metadata": {},
   "outputs": [],
   "source": [
    "threshold = 5"
   ]
  },
  {
   "cell_type": "code",
   "execution_count": 28,
   "id": "b1ce82b7",
   "metadata": {},
   "outputs": [],
   "source": [
    "import random"
   ]
  },
  {
   "cell_type": "code",
   "execution_count": 29,
   "id": "7425ecc5",
   "metadata": {},
   "outputs": [],
   "source": [
    "lr = 0.1"
   ]
  },
  {
   "cell_type": "code",
   "execution_count": 30,
   "id": "b7959ab1",
   "metadata": {},
   "outputs": [],
   "source": [
    "import numpy as np"
   ]
  },
  {
   "cell_type": "code",
   "execution_count": 31,
   "id": "1db4063f",
   "metadata": {},
   "outputs": [],
   "source": [
    "weights_ann_1 = ann_15.get_weights()\n",
    "weights_ann_2 = ann_20.get_weights()"
   ]
  },
  {
   "cell_type": "code",
   "execution_count": 32,
   "id": "43a211df",
   "metadata": {},
   "outputs": [],
   "source": [
    "def get_targets_with_weights(batch_data, batch_data1, initial_ensembles, log_sigma_points_1): \n",
    "\n",
    "    n_hidden_1 = len(weights_ann_1[0].ravel())\n",
    "\n",
    "    hidden_weights_1 = initial_ensembles[:,:n_hidden_1].reshape( size_ens, batch_data.shape[1], h1)\n",
    "\n",
    "    \n",
    "    hidden_output_1 = np.einsum('ij,kjl->kil', batch_data, hidden_weights_1)\n",
    "\n",
    "    \n",
    "    hidden_layer_bias_1 = initial_ensembles[:,n_hidden_1:(n_hidden_1 + h1)].reshape(size_ens, 1,  h1)\n",
    "\n",
    "\n",
    "\n",
    "    hidden_output_1 = hidden_output_1 + hidden_layer_bias_1\n",
    "\n",
    "    n_pred_weights_1 = len(weights_ann_1[2].ravel())\n",
    "\n",
    "    output_weights_1 = initial_ensembles[:,(n_hidden_1 + h1):(n_hidden_1 + h1 + n_pred_weights_1) ].reshape(size_ens, h1, 1)\n",
    "\n",
    "    output_1 = np.einsum('ijk,ikl->ijl', hidden_output_1, output_weights_1)\n",
    "\n",
    "\n",
    "    output_layer_bias_1 = initial_ensembles[:,(n_hidden_1 + h1 + n_pred_weights_1):(n_hidden_1 + h1 + n_pred_weights_1 + 1)].reshape(size_ens, 1, 1)\n",
    "\n",
    "\n",
    "\n",
    "    final_output_1 = output_1 + output_layer_bias_1\n",
    "\n",
    "    n_hidden_2 = len(weights_ann_2[0].ravel())\n",
    "\n",
    "    initial_ensembles_1 = initial_ensembles.copy()[:, total_weights_1:(total_weights_1+ total_weights_2)]\n",
    "\n",
    "    hidden_weights_2 = initial_ensembles_1[:,:n_hidden_2].reshape(size_ens, batch_data1.shape[1], h2)\n",
    "\n",
    "\n",
    "\n",
    "    hidden_output_2 = np.einsum('ij,kjl->kil', batch_data1, hidden_weights_2)\n",
    "\n",
    "    hidden_layer_bias_2 = initial_ensembles[:,n_hidden_2:(n_hidden_2 + h2)].reshape(size_ens, 1,  h2)\n",
    "\n",
    "    hidden_output_2 = hidden_output_2+ hidden_layer_bias_2\n",
    "\n",
    "    n_pred_weights_2 = len(weights_ann_2[2].ravel())\n",
    "\n",
    "    output_weights_2 = initial_ensembles_1[:,(n_hidden_2 + h2):(n_hidden_2 + h2 + n_pred_weights_2) ].reshape(size_ens, h2, 1)\n",
    "\n",
    "\n",
    "    output_2 = np.einsum('ijk,ikl->ijl', hidden_output_2, output_weights_2)\n",
    "\n",
    "\n",
    "    output_layer_bias_2 = initial_ensembles_1[:,(n_hidden_2 + h2 + n_pred_weights_2):(n_hidden_2 + h2 + n_pred_weights_2 + 1)].reshape(size_ens, 1, 1)\n",
    "\n",
    "\n",
    "    final_output_2 = output_2 + output_layer_bias_2\n",
    "\n",
    "\n",
    "    weights_1 = initial_ensembles[:, :total_weights_1]\n",
    "\n",
    "    weights_2 = initial_ensembles[:, total_weights_1:(total_weights_1 + total_weights_2)]\n",
    "\n",
    "\n",
    "    avg_weights = initial_ensembles[:, -1].reshape(-1,1)\n",
    "\n",
    "    avg_weights_sig = expit(avg_weights)\n",
    "    \n",
    "    avg_weights_sig = avg_weights_sig.reshape(avg_weights_sig.shape[0], 1, avg_weights_sig.shape[1])\n",
    "    \n",
    "    complement_weights_sig = 1 - expit(avg_weights)\n",
    "    \n",
    "    complement_weights_sig = complement_weights_sig.reshape(complement_weights_sig.shape[0], 1, complement_weights_sig.shape[1])\n",
    "\n",
    "    final_output_1 = final_output_1*complement_weights_sig\n",
    "    \n",
    "    final_output_2 = final_output_2*avg_weights_sig\n",
    "    \n",
    "    output_1_ravel = final_output_1.reshape(size_ens, final_output_1.shape[1]*final_output_1.shape[2])\n",
    "\n",
    "    output_2_ravel = final_output_2.reshape(size_ens, final_output_2.shape[1]*final_output_2.shape[2])\n",
    "\n",
    "\n",
    "    output_1_ravel = output_1_ravel\n",
    "\n",
    "    output_2_ravel = output_2_ravel\n",
    "\n",
    "\n",
    "\n",
    "    weights_1_add = np.zeros((size_ens, (total_weights_2 - total_weights_1)))\n",
    "\n",
    "\n",
    "\n",
    "    weights_1 = np.hstack((weights_1, weights_1_add))\n",
    "    \n",
    "\n",
    "\n",
    "    stack_1 = np.hstack((output_1_ravel, weights_1, np.repeat(0, size_ens).reshape(-1,1), np.repeat(0, size_ens).reshape(-1,1)))\n",
    "\n",
    "\n",
    "\n",
    "    \n",
    "    stack_2 = np.hstack((output_2_ravel, weights_2, avg_weights, log_sigma_points_1))\n",
    "\n",
    "    \n",
    "    initial_aug_state = np.hstack((stack_1, stack_2)) \n",
    "    \n",
    "\n",
    "    return initial_aug_state , output_1_ravel, output_2_ravel, log_sigma_points_1\n",
    "\n"
   ]
  },
  {
   "cell_type": "code",
   "execution_count": 33,
   "id": "4e3ef6e6",
   "metadata": {},
   "outputs": [],
   "source": [
    "import time"
   ]
  },
  {
   "cell_type": "code",
   "execution_count": 34,
   "id": "0eabfdd4",
   "metadata": {},
   "outputs": [],
   "source": [
    "from scipy.stats import multivariate_normal as mvn"
   ]
  },
  {
   "cell_type": "code",
   "execution_count": 35,
   "id": "b982682f",
   "metadata": {},
   "outputs": [],
   "source": [
    "var_weights =1\n",
    "# var_weights_vec = 4\n",
    "# var_targets = 0.04\n",
    "# var_weights = 2"
   ]
  },
  {
   "cell_type": "code",
   "execution_count": 36,
   "id": "10d77915",
   "metadata": {},
   "outputs": [],
   "source": [
    "from scipy.stats import multivariate_normal as mvn"
   ]
  },
  {
   "cell_type": "code",
   "execution_count": 37,
   "id": "a2a6de67",
   "metadata": {},
   "outputs": [],
   "source": [
    "reduction = 4\n",
    "# reduction = 10"
   ]
  },
  {
   "cell_type": "code",
   "execution_count": 38,
   "id": "471e3306",
   "metadata": {},
   "outputs": [],
   "source": [
    "shape_needed = (total_weights + 2*batch_size*1 + 1 + (total_weights_2 - total_weights_1))//reduction"
   ]
  },
  {
   "cell_type": "code",
   "execution_count": 39,
   "id": "63796187",
   "metadata": {},
   "outputs": [],
   "source": [
    "size_ens = shape_needed"
   ]
  },
  {
   "cell_type": "code",
   "execution_count": 40,
   "id": "6aee42b8",
   "metadata": {},
   "outputs": [],
   "source": [
    "size_ens = int(size_ens)"
   ]
  },
  {
   "cell_type": "code",
   "execution_count": 41,
   "id": "bc234219",
   "metadata": {},
   "outputs": [
    {
     "data": {
      "text/plain": [
       "433"
      ]
     },
     "execution_count": 41,
     "metadata": {},
     "output_type": "execute_result"
    }
   ],
   "source": [
    "size_ens"
   ]
  },
  {
   "cell_type": "code",
   "execution_count": 42,
   "id": "ebeb0869-7f0b-4f21-be63-0234896af39f",
   "metadata": {},
   "outputs": [],
   "source": [
    "# train_fudged_probs"
   ]
  },
  {
   "cell_type": "code",
   "execution_count": 43,
   "id": "23d87ffe",
   "metadata": {},
   "outputs": [],
   "source": [
    "import matplotlib.pyplot as plt"
   ]
  },
  {
   "cell_type": "code",
   "execution_count": 44,
   "id": "f5427e43",
   "metadata": {},
   "outputs": [],
   "source": [
    "from scipy.special import expit"
   ]
  },
  {
   "cell_type": "code",
   "execution_count": 45,
   "id": "be0ee1ec",
   "metadata": {},
   "outputs": [],
   "source": [
    "# catch1[0][0]"
   ]
  },
  {
   "cell_type": "code",
   "execution_count": 46,
   "id": "fb492324",
   "metadata": {},
   "outputs": [],
   "source": [
    "# catch_train_logits_second[0]"
   ]
  },
  {
   "cell_type": "code",
   "execution_count": 47,
   "id": "0c2dbaec-3249-404a-9971-c2fc17f68356",
   "metadata": {},
   "outputs": [],
   "source": [
    "from datetime import datetime"
   ]
  },
  {
   "cell_type": "code",
   "execution_count": 48,
   "id": "9cf12935",
   "metadata": {},
   "outputs": [],
   "source": [
    "def expit(x):\n",
    "    \"\"\"Compute softmax values for each sets of scores in x.\"\"\"\n",
    "#     e_x = np.exp(x - np.max(x))\n",
    "    return 1 / (1 + np.exp(-x))"
   ]
  },
  {
   "cell_type": "code",
   "execution_count": 49,
   "id": "ef051014",
   "metadata": {},
   "outputs": [],
   "source": [
    "from scipy.stats import gamma"
   ]
  },
  {
   "cell_type": "code",
   "execution_count": 50,
   "id": "07cb7b8c-4634-46e7-ab75-e865c7116995",
   "metadata": {},
   "outputs": [],
   "source": [
    "# second_lstm[0]"
   ]
  },
  {
   "cell_type": "code",
   "execution_count": 51,
   "id": "5f0e5cb1-4067-46ba-9399-ca30548a10e1",
   "metadata": {},
   "outputs": [],
   "source": [
    "# reduction = 8\n",
    "# var_weights = 1"
   ]
  },
  {
   "cell_type": "code",
   "execution_count": 52,
   "id": "197043a4-b420-4e3b-beaf-699cd7c3db6b",
   "metadata": {},
   "outputs": [],
   "source": [
    "# cur_idx = 16\n",
    "# np.log(catch_test_probs[cur_idx]/(1-catch_test_probs[cur_idx]))"
   ]
  },
  {
   "cell_type": "code",
   "execution_count": 53,
   "id": "5ae6c226-20d1-4a84-ab7b-5c5295748826",
   "metadata": {},
   "outputs": [],
   "source": [
    "# catch_preds_df"
   ]
  },
  {
   "cell_type": "code",
   "execution_count": 54,
   "id": "75f0d45e-6b06-4e9a-8997-5217ab99ebde",
   "metadata": {},
   "outputs": [],
   "source": [
    "# ids = [i for i in range(0, catch_test_probs[cur_idx].shape[0]) if catch_test_probs[cur_idx][i] < 0.5]\n",
    "# ids_more = [i for i in range(0, catch_test_probs[cur_idx].shape[0]) if catch_test_probs[cur_idx][i] > 0.5]"
   ]
  },
  {
   "cell_type": "code",
   "execution_count": 55,
   "id": "7f15dc9d-a59f-4ef8-b93a-8244896352c5",
   "metadata": {},
   "outputs": [],
   "source": [
    "# ids_more"
   ]
  },
  {
   "cell_type": "code",
   "execution_count": 56,
   "id": "1cebfd75-9077-4677-a4f7-05c09ac9f2de",
   "metadata": {},
   "outputs": [],
   "source": [
    "import plotly.express as px"
   ]
  },
  {
   "cell_type": "code",
   "execution_count": 57,
   "id": "22ee79ea-e013-4f80-920e-10e2aeb0eb6b",
   "metadata": {},
   "outputs": [],
   "source": [
    "import seaborn as sns"
   ]
  },
  {
   "cell_type": "code",
   "execution_count": 58,
   "id": "1969c78b-c105-482a-a957-e81329037a09",
   "metadata": {},
   "outputs": [],
   "source": [
    "use_cores = multiprocessing.cpu_count()-1"
   ]
  },
  {
   "cell_type": "code",
   "execution_count": 59,
   "id": "e5e25a8d-c51c-4c1d-9589-5b3b01f267e7",
   "metadata": {},
   "outputs": [],
   "source": [
    "use_cores = 15"
   ]
  },
  {
   "cell_type": "code",
   "execution_count": 60,
   "id": "2f12bf17-643b-4c5b-a2b0-d1f59b99557e",
   "metadata": {},
   "outputs": [],
   "source": [
    "# threshold = 200\n",
    "# cutoff_threshold = 70"
   ]
  },
  {
   "cell_type": "code",
   "execution_count": 61,
   "id": "407034e6-5a33-4332-b56c-f85cd2377b1c",
   "metadata": {},
   "outputs": [],
   "source": [
    "catch1 = first_lstm"
   ]
  },
  {
   "cell_type": "code",
   "execution_count": 62,
   "id": "8c5fda89-9aac-438e-91b5-d4a09cfee5c5",
   "metadata": {},
   "outputs": [],
   "source": [
    "catch2 = first_doc2vec_ann"
   ]
  },
  {
   "cell_type": "code",
   "execution_count": 63,
   "id": "8e5fbcb1-3965-47da-acbe-ccb01078bf20",
   "metadata": {},
   "outputs": [],
   "source": [
    "from datetime import datetime"
   ]
  },
  {
   "cell_type": "code",
   "execution_count": 64,
   "id": "dad3f5bc-9262-43e4-aaa6-27b8b8ceed3f",
   "metadata": {},
   "outputs": [],
   "source": [
    "#     idx = 0\n",
    "#     X_train_logits_lstm = np.vstack((catch1[idx][0], catch1[idx][1]))\n",
    "#     X_train_logits_doc2vec_ann = np.vstack((catch2[idx][0], catch2[idx][1]))\n",
    "    \n",
    "#     X_train_probs_lstm = expit(X_train_logits_lstm)\n",
    "#     X_train_probs_doc2vec_ann = expit(X_train_logits_doc2vec_ann)"
   ]
  },
  {
   "cell_type": "code",
   "execution_count": 65,
   "id": "d399736f-e5df-42b0-b69a-38af915f6f20",
   "metadata": {},
   "outputs": [],
   "source": [
    "# x = (X_train_probs_doc2vec_ann + X_train_probs_lstm)/2"
   ]
  },
  {
   "cell_type": "code",
   "execution_count": 66,
   "id": "bee13c49-1ffd-48cb-a38f-3bcb4864ec66",
   "metadata": {},
   "outputs": [],
   "source": [
    "# X_train_logits_doc2vec_ann"
   ]
  },
  {
   "cell_type": "code",
   "execution_count": 67,
   "id": "54918dae-d4a7-4ec8-bc4d-13b409c60b6a",
   "metadata": {},
   "outputs": [],
   "source": [
    "# X_train_logits_lstm"
   ]
  },
  {
   "cell_type": "code",
   "execution_count": 68,
   "id": "d50e09ab-995d-454d-8182-10dc49943159",
   "metadata": {},
   "outputs": [],
   "source": [
    "# plt.scatter(X_train_logits_doc2vec_ann, X_train_logits_lstm)"
   ]
  },
  {
   "cell_type": "code",
   "execution_count": 69,
   "id": "c1ce2cd9-00c2-404e-a3d2-fe4a727f412a",
   "metadata": {},
   "outputs": [],
   "source": [
    "# np.log(x/(1-x))"
   ]
  },
  {
   "cell_type": "code",
   "execution_count": 70,
   "id": "c1771165-3334-42a1-a720-3c1227cde68f",
   "metadata": {},
   "outputs": [],
   "source": [
    "# X_train_probs_lstm"
   ]
  },
  {
   "cell_type": "code",
   "execution_count": 71,
   "id": "500ae387-695d-4c4e-9ae2-9548776a7fee",
   "metadata": {},
   "outputs": [],
   "source": [
    "# X_test_logits_lstm = catch1[idx][1]\n",
    "# X_test_logits_doc2vec_ann = catch2[idx][1]"
   ]
  },
  {
   "cell_type": "code",
   "execution_count": 72,
   "id": "e892d1fe-9b02-44e0-bec8-68b798ed0381",
   "metadata": {},
   "outputs": [],
   "source": [
    "# X_test_logits_lstm"
   ]
  },
  {
   "cell_type": "code",
   "execution_count": 73,
   "id": "17879bdd-ae32-4d44-a23f-41cca0adb299",
   "metadata": {},
   "outputs": [],
   "source": [
    "# X_test_logits_doc2vec_ann"
   ]
  },
  {
   "cell_type": "code",
   "execution_count": 74,
   "id": "5d2d6656-8df1-4ef1-95d7-cb014128f024",
   "metadata": {},
   "outputs": [],
   "source": [
    "# X_test_logits_doc2vec_ann"
   ]
  },
  {
   "cell_type": "code",
   "execution_count": 75,
   "id": "30552493-de84-4db8-bee6-c44262be8f29",
   "metadata": {},
   "outputs": [],
   "source": [
    "# X_test_logits_lstm"
   ]
  },
  {
   "cell_type": "code",
   "execution_count": 76,
   "id": "75c12e9a-898a-45db-9ee2-eb652adfbee1",
   "metadata": {},
   "outputs": [],
   "source": [
    "def rep_one_real_world(idx, inflation_factor = 0.2, cutoff = 100): \n",
    "#     from scipy.special import expit\n",
    "    patience_smaller = 0\n",
    "# patience_bigger = 0\n",
    "\n",
    "#     best_train_acc = 0\n",
    "#     best_valid_acc = 1000\n",
    "\n",
    "#     best_valid_mae = 10\n",
    "    \n",
    "    best_train_mae = 100\n",
    "    \n",
    "    X_train_logits_lstm = np.vstack((catch1[idx][0], catch1[idx][1]))\n",
    "    X_train_logits_doc2vec_ann = np.vstack((catch2[idx][0], catch2[idx][1]))\n",
    "    \n",
    "    X_train_probs_lstm = expit(X_train_logits_lstm)\n",
    "    X_train_probs_doc2vec_ann = expit(X_train_logits_doc2vec_ann)\n",
    "    \n",
    "    averaged_probs_lstm_doc2vec_ann_train = (X_train_probs_lstm + X_train_probs_doc2vec_ann)/2\n",
    "    X_train_logits = np.log(averaged_probs_lstm_doc2vec_ann_train/(1-averaged_probs_lstm_doc2vec_ann_train))\n",
    "    \n",
    "    # X_train_logits = averaged_probs_lstm_doc2vec_ann_train\n",
    "    \n",
    "    \n",
    "    X_test_logits_lstm = catch1[idx][2]\n",
    "    X_test_logits_doc2vec_ann = catch2[idx][2]\n",
    "    \n",
    "    X_test_probs_lstm = expit(X_test_logits_lstm)\n",
    "    X_test_probs_doc2vec_ann = expit(X_test_logits_doc2vec_ann)\n",
    "    \n",
    "    averaged_probs_lstm_doc2vec_ann_test = (X_test_probs_lstm + X_test_probs_doc2vec_ann)/2\n",
    "    X_test_logits = np.log(averaged_probs_lstm_doc2vec_ann_test/(1-averaged_probs_lstm_doc2vec_ann_test))\n",
    "    # X_test_logits = averaged_probs_lstm_doc2vec_ann_test\n",
    "    \n",
    "    ## create training batch chunks\n",
    "    train_idx = list(range(0, X_train_logits.shape[0]))\n",
    "    batch_chunks = [train_idx[i:i+batch_size] for i in range(0,len(train_idx),batch_size)]\n",
    "\n",
    "    ## generate some augmented variable for iteration 0\n",
    "    initial_aug_state_mean = np.repeat(0, total_weights)\n",
    "    initial_aug_state_mean = initial_aug_state_mean.reshape(-1,1)\n",
    "\n",
    "    initial_aug_state_cov = var_weights*np.identity((total_weights))\n",
    "    initial_ensembles = mvn(initial_aug_state_mean.reshape(initial_aug_state_mean.shape[0],), initial_aug_state_cov).rvs(size = size_ens)\n",
    "\n",
    "    \n",
    "    log_sigma_points_1 = (np.log(gamma(100, scale = 1/100).rvs(size_ens))).reshape(size_ens, 1)\n",
    "    \n",
    "\n",
    "#     y_train = catch_train_labels_second[idx]\n",
    "\n",
    "#     y_valid = catch_valid_labels_second[idx]\n",
    "\n",
    "#     y_test = catch_test_labels_second[idx]\n",
    "    \n",
    "    \n",
    "    train_lstm = catch1[idx][3].numpy()\n",
    "    valid_lstm = catch1[idx][4].numpy()\n",
    "    # valid_word2vec = catch[idx][7].iloc[catch_valid_idxes[idx],:].reset_index(drop = True)\n",
    "    test_lstm = catch1[idx][5].numpy()\n",
    " \n",
    "\n",
    "    train_doc2vec = []\n",
    "    for seq in catch[idx][0]:\n",
    "        seq_txt = seq[0]\n",
    "        seq_split = seq_txt.split(\" \")\n",
    "        train_doc2vec.append(doc2vec_dbow.infer_vector(seq_split))\n",
    "    train_doc2vec = np.array(train_doc2vec)\n",
    "    \n",
    "    valid_doc2vec = []\n",
    "    for seq in catch[idx][1]:\n",
    "        seq_txt = seq[0]\n",
    "        seq_split = seq_txt.split(\" \")\n",
    "        valid_doc2vec.append(doc2vec_dbow.infer_vector(seq_split))\n",
    "    valid_doc2vec = np.array(valid_doc2vec)\n",
    "    \n",
    "    test_doc2vec = []\n",
    "    for seq in catch[idx][2]:\n",
    "        seq_txt = seq[0]\n",
    "        seq_split = seq_txt.split(\" \")\n",
    "        test_doc2vec.append(doc2vec_dbow.infer_vector(seq_split))\n",
    "    test_doc2vec = np.array(test_doc2vec)    \n",
    "    \n",
    "    \n",
    "    \n",
    "    # train_valid_test_lstm = np.vstack((train_lstm, valid_lstm, test_lstm))\n",
    "    # train_valid_test_doc2vec = np.vstack((train_doc2vec, valid_doc2vec, test_doc2vec))\n",
    "    \n",
    "    # train_valid_test_lstm = np.vstack((train_lstm, valid_lstm))\n",
    "    # train_valid_test_doc2vec = np.vstack((train_doc2vec, valid_doc2vec))    \n",
    "    \n",
    "    train_valid_lstm = np.vstack((train_lstm, valid_lstm))\n",
    "    train_valid_doc2vec = np.vstack((train_doc2vec, valid_doc2vec))    \n",
    "\n",
    "    # best_width_train = 100\n",
    "    \n",
    "    # threshold_achieved = False\n",
    "    # satisfactory = False\n",
    "    # satisfactory_counter = 0\n",
    "    \n",
    "    \n",
    "    best_coverage_train = 0\n",
    "    \n",
    "    start = datetime.now()\n",
    "    \n",
    "    for iter1 in range(0,500):\n",
    "\n",
    "        for batch_idx in batch_chunks:\n",
    "\n",
    "            batch_data = train_valid_lstm[batch_idx,:]\n",
    "            batch_data1 = train_valid_doc2vec[batch_idx,:]\n",
    "            # print(batch_data.shape)\n",
    "            batch_targets = X_train_logits[batch_idx,:]\n",
    "            # batch_targets = batch_targets.ravel().reshape(-1,1)\n",
    "\n",
    "            column_mod_2_shape = total_weights_2 + batch_data.shape[0]*1 + 1 + 1\n",
    "        \n",
    "            H_t = np.hstack((np.identity(batch_targets.shape[0]), np.zeros((batch_targets.shape[0], column_mod_2_shape-batch_targets.shape[0]))))\n",
    "\n",
    "            current_aug_state, column_mod_1, column_mod_2, log_sigma_points_1 = get_targets_with_weights(batch_data, batch_data1, initial_ensembles, log_sigma_points_1)\n",
    "            \n",
    "            var_targets_vec = np.log(1 + np.exp(log_sigma_points_1))\n",
    "            \n",
    "            var_targets_vec = var_targets_vec\n",
    "            \n",
    "            # current_aug_state_var = np.cov(current_aug_state.T) + inflation_factor*np.identity(current_aug_state.shape[1])\n",
    "            \n",
    "            current_aug_state_var = np.cov(current_aug_state.T) \n",
    "            \n",
    "            G_t = np.array([1 , 1]).reshape(-1,1)\n",
    "            \n",
    "            scirpt_H_t = np.kron(G_t.T, H_t)\n",
    "            \n",
    "            temp1 = current_aug_state_var@scirpt_H_t.T\n",
    "            \n",
    "            temp2 = scirpt_H_t@current_aug_state_var@scirpt_H_t.T\n",
    "        \n",
    "            for ensemble_idx in range(0, current_aug_state.shape[0]):\n",
    "                \n",
    "                var_targets1 = var_targets_vec[ensemble_idx,:]\n",
    "                \n",
    "                R_t = var_targets1*np.identity(batch_targets.shape[0])\n",
    "            \n",
    "                measurement_error = mvn(np.repeat(0,batch_targets.shape[0]), var_targets1*np.identity(batch_targets.shape[0])).rvs(1).reshape(-1,1)\n",
    "            \n",
    "                target_current = batch_targets + measurement_error\n",
    "                \n",
    "                K_t = temp1@np.linalg.inv(temp2 + R_t)\n",
    "\n",
    "                current_aug_state[ensemble_idx,:] = current_aug_state[ensemble_idx,:] +(K_t@(target_current -scirpt_H_t@current_aug_state[ensemble_idx,:].reshape(-1,1))).reshape(current_aug_state.shape[1],)\n",
    "        \n",
    "\n",
    "            weights_ann_1 = current_aug_state[:,batch_targets.shape[0]:(batch_targets.shape[0] + total_weights_1)]      \n",
    "\n",
    "            weights_ann_2 = current_aug_state[:,-(total_weights_2+1):-2]    \n",
    "\n",
    "            initial_ensembles = np.hstack((weights_ann_1, weights_ann_2, current_aug_state[:,-2].reshape(-1,1)))\n",
    "            \n",
    "            log_sigma_points_1 = current_aug_state[:,-1].reshape(-1,1)\n",
    "               \n",
    "            avg_betas = expit(current_aug_state[:,-2])\n",
    "        \n",
    "            complement = 1-avg_betas\n",
    "\n",
    "            \n",
    "            \n",
    "            \n",
    "            \n",
    "            current_aug_state1, column_mod_11, column_mod_21, log_sigma_points_1 = get_targets_with_weights(train_valid_lstm, train_valid_doc2vec, initial_ensembles, log_sigma_points_1)\n",
    "            \n",
    "            initial_targets = column_mod_11 + column_mod_21\n",
    "            \n",
    "            \n",
    "            initial_targets = initial_targets.reshape(size_ens, train_valid_lstm.shape[0],1)\n",
    "            \n",
    "            initial_targets_train = initial_targets\n",
    "            \n",
    "            \n",
    "            \n",
    "            \n",
    "#             ind = (X_train_logits_true >= np.percentile(initial_targets_train, axis = 0, q = (2.5, 97.5))[0,:,:]) & (X_train_logits_true <= np.percentile(initial_targets_train, axis = 0, q = (2.5, 97.5))[1,:,:])\n",
    "        \n",
    "            initial_targets_softmax = expit(initial_targets)\n",
    "        \n",
    "            initial_softmax_train = initial_targets_softmax\n",
    "            \n",
    "            initial_targets_train_mean = initial_targets_softmax.mean(0)\n",
    "            \n",
    "            li = np.percentile(initial_targets_softmax, axis = 0, q = (2.5, 97.5))[0,:,:]\n",
    "            \n",
    "            ui = np.percentile(initial_targets_softmax, axis = 0, q = (2.5, 97.5))[1,:,:]\n",
    "            \n",
    "            width = ui - li\n",
    "            \n",
    "            avg_width_train = np.mean(width)\n",
    "            \n",
    "            # interim = np.vstack((catch_train_probs[idx] , catch_valid_probs[idx] ))\n",
    "        \n",
    "            interim = expit(X_train_logits)\n",
    "            \n",
    "            ind = (interim >= li) & (interim <= ui)\n",
    "            \n",
    "            coverage_train= np.mean(ind.ravel())  \n",
    "            \n",
    "            train_mae = np.mean(np.abs(interim.ravel() - initial_targets_train_mean.ravel()))\n",
    "        \n",
    "            current_aug_state1, column_mod_11, column_mod_21, log_sigma_points_1 = get_targets_with_weights(test_lstm, test_doc2vec, initial_ensembles, log_sigma_points_1)\n",
    "            \n",
    "            initial_targets = column_mod_11 + column_mod_21\n",
    "            \n",
    "            initial_targets = initial_targets.reshape(size_ens, test_lstm.shape[0],1)\n",
    "            \n",
    "            initial_targets_test = initial_targets\n",
    "            \n",
    "            initial_targets_softmax = expit(initial_targets)    \n",
    "            \n",
    "            initial_targets_test_mean = initial_targets_softmax.mean(0)\n",
    "            \n",
    "            li = np.percentile(initial_targets_softmax, axis = 0, q = (2.5, 97.5))[0,:,:]\n",
    "            \n",
    "            ui = np.percentile(initial_targets_softmax, axis = 0, q = (2.5, 97.5))[1,:,:]\n",
    "            \n",
    "            width = ui - li\n",
    "            \n",
    "            avg_width = np.mean(width)\n",
    "            \n",
    "            catch_test_probs = expit(X_test_logits)\n",
    "            \n",
    "            ind_test = (catch_test_probs >= li) & (catch_test_probs <= ui)\n",
    "               \n",
    "\n",
    "                        \n",
    "            coverage_test = np.mean(ind_test.ravel())    \n",
    "\n",
    "            # initial_targets_test_mean = initial_targets_train.mean(0)\n",
    "    \n",
    "            \n",
    "            \n",
    "            test_mae = np.mean(np.abs(catch_test_probs.ravel() - initial_targets_test_mean.ravel()))\n",
    "       \n",
    "        # print(avg_width_train, best_train_width, coverage_train)\n",
    "        \n",
    "#         print(\"epoch \"+ str(iter1))\n",
    "#         print(\"patience \"+ str(patience_smaller))\n",
    "#         print(\"train mae is \" + str(train_mae))\n",
    "#         print(\"test mae is \" + str(test_mae))\n",
    "        \n",
    "#         print(\"train coverage is \"+ str(coverage_train))\n",
    "#         print(\"train width is \" + str(avg_width_train))        \n",
    "#         print(\"test coverage is \"+ str(coverage_test))\n",
    "#         print(\"test width is \" + str(avg_width))\n",
    "#         print(\"lstm weight is \" + str(np.mean(complement)))\n",
    "        # print(\"threshold \" + str(threshold_achieved))\n",
    "              \n",
    "    \n",
    "        if (train_mae < best_train_mae) & (coverage_train > 0.95): \n",
    "#             cur_best_train_width = avg_width_train\n",
    "#             cur_best_test_width = avg_width\n",
    "\n",
    "#             cur_best_train_coverage = coverage_train\n",
    "#             cur_best_test_coverage = coverage_test \n",
    "#             cur_best_lstm_weight = np.mean(complement)\n",
    "            best_train_mae = train_mae\n",
    "            best_test_mae = test_mae\n",
    "            exit_iter_no_thresh = iter1\n",
    "            best_test_preds = initial_targets_softmax\n",
    "            patience_smaller = 0\n",
    "            best_train_coverage = coverage_train\n",
    "            best_test_coverage = coverage_test\n",
    "            best_train_width = avg_width_train\n",
    "            best_test_width = avg_width\n",
    "            best_lstm_weight = np.mean(complement)\n",
    "            # satisfactory = True\n",
    "            \n",
    "        else:\n",
    "            patience_smaller+=1\n",
    "            \n",
    "        if patience_smaller > threshold:\n",
    "            \n",
    "            break\n",
    "            \n",
    "        if (patience_smaller > cutoff_threshold) & (train_mae < 0.05):\n",
    "            \n",
    "            break\n",
    "            \n",
    "            \n",
    "    print(best_test_mae,best_test_coverage, best_test_width, best_lstm_weight, flush = True)\n",
    "    end = datetime.now()\n",
    "    total = (end-start)\n",
    "    time_taken = total.seconds/60.0\n",
    "    return best_train_mae, best_test_mae, best_train_coverage, best_train_width, best_test_coverage, best_test_width, best_lstm_weight,   exit_iter_no_thresh, time_taken, best_test_preds\n",
    "        \n",
    "    # print(\"something went awry\", flush = True)"
   ]
  },
  {
   "cell_type": "code",
   "execution_count": 77,
   "id": "605540da-2ad3-4d18-b8a4-93dd7c052f20",
   "metadata": {},
   "outputs": [],
   "source": [
    "threshold = 200"
   ]
  },
  {
   "cell_type": "code",
   "execution_count": 78,
   "id": "138d0228-17b7-4019-9abe-458206e8a7df",
   "metadata": {},
   "outputs": [],
   "source": [
    "cutoff_threshold = 100"
   ]
  },
  {
   "cell_type": "code",
   "execution_count": 79,
   "id": "4a8ebf34-6b78-4638-8f94-b0c23816a6c5",
   "metadata": {},
   "outputs": [],
   "source": [
    "doc2vec_dbow = gensim.models.doc2vec.Doc2Vec.load(r\"..//Data_Generation//doc2vec_dbow\")"
   ]
  },
  {
   "cell_type": "code",
   "execution_count": 80,
   "id": "cd36ab0a-bb82-44a5-957a-eb4c807c988c",
   "metadata": {},
   "outputs": [],
   "source": [
    "# best_train_mae, best_test_mae, best_train_coverage, best_train_width, best_test_coverage, best_test_width, best_lstm_weight"
   ]
  },
  {
   "cell_type": "code",
   "execution_count": 81,
   "id": "ca41fae8-f42e-4d58-a748-e9d9dcfd9b0e",
   "metadata": {},
   "outputs": [],
   "source": [
    "# best_train_mae, best_test_mae, best_train_coverage, best_train_width, best_test_coverage, best_test_width, best_lstm_weight,   exit_iter_no_thresh, time_taken, best_test_preds = rep_one_real_world(9)"
   ]
  },
  {
   "cell_type": "code",
   "execution_count": 82,
   "id": "99a723c6",
   "metadata": {},
   "outputs": [
    {
     "name": "stderr",
     "output_type": "stream",
     "text": [
      "[Parallel(n_jobs=15)]: Using backend LokyBackend with 15 concurrent workers.\n"
     ]
    },
    {
     "name": "stdout",
     "output_type": "stream",
     "text": [
      "0.0681040278431981 1.0 0.4032330265830186 0.4023235826090757\n",
      "0.24238862424241536 1.0 0.7861768377972401 0.34701101351902686\n"
     ]
    },
    {
     "name": "stderr",
     "output_type": "stream",
     "text": [
      "[Parallel(n_jobs=15)]: Done   2 tasks      | elapsed:  2.2min\n"
     ]
    },
    {
     "name": "stdout",
     "output_type": "stream",
     "text": [
      "0.04457839488260327 0.875 0.26950021087934495 0.4046106350295102\n",
      "0.08378810761631658 1.0 0.36607304338408725 0.42467863472775447\n",
      "0.07121207392940018 0.875 0.3101983938703496 0.39297634014869764\n",
      "0.08297091640873708 1.0 0.4375857496878378 0.46033662921565655\n",
      "0.03348871682704104 1.0 0.16956260698480807 0.45224782434583255\n",
      "0.0323350465341867 1.0 0.24763467494854197 0.4550893410064932\n",
      "0.01578416903326117 1.0 0.19636866121360286 0.518079334445742\n",
      "0.039788523851417304 1.0 0.24965265353926064 0.5423720098462242\n",
      "0.0846681278256959 1.0 0.4149518574128461 0.453157272706125\n",
      "0.09080441838190532 0.75 0.2893392488832536 0.4726940110383396\n"
     ]
    },
    {
     "name": "stderr",
     "output_type": "stream",
     "text": [
      "[Parallel(n_jobs=15)]: Done  11 tasks      | elapsed:  2.4min\n"
     ]
    },
    {
     "name": "stdout",
     "output_type": "stream",
     "text": [
      "0.06551542228069837 0.75 0.15562412860252928 0.514077747086993\n",
      "0.059984216202267564 0.75 0.1933154557089167 0.5352081664204529\n",
      "0.045938419554836976 0.875 0.18138974447682057 0.5158208719346083\n",
      "0.08808354474886358 1.0 0.3375939341279828 0.39452851487020746\n",
      "0.08621368526511966 0.875 0.3744262241155524 0.44695543687601713\n",
      "0.057121118518533395 1.0 0.3479577737469314 0.466332019473812\n",
      "0.05405071750571894 0.875 0.24840670520506322 0.42242752076328266\n",
      "0.07726847586863109 0.875 0.23313056309477606 0.4449427391824945\n"
     ]
    },
    {
     "name": "stderr",
     "output_type": "stream",
     "text": [
      "[Parallel(n_jobs=15)]: Done  20 tasks      | elapsed:  4.6min\n"
     ]
    },
    {
     "name": "stdout",
     "output_type": "stream",
     "text": [
      "0.048573642232965356 0.75 0.19551496228283788 0.42931187577895785\n",
      "0.10315490177428004 1.0 0.3811924326090352 0.4522489421710261\n",
      "0.08186633919055251 1.0 0.35764333306252466 0.445921890058624\n",
      "0.045957296907678705 1.0 0.3056923691415538 0.43885749509921423\n",
      "0.044068464280881244 1.0 0.24643371103541714 0.46948186564450345\n",
      "0.024084169735866353 1.0 0.23537739605873279 0.49228223938101584\n",
      "0.06024648264496239 1.0 0.2471204391619624 0.5349334538957218\n"
     ]
    },
    {
     "name": "stderr",
     "output_type": "stream",
     "text": [
      "[Parallel(n_jobs=15)]: Done  27 out of  50 | elapsed:  5.0min remaining:  4.2min\n"
     ]
    },
    {
     "name": "stdout",
     "output_type": "stream",
     "text": [
      "0.07741996190239238 1.0 0.3311967008297302 0.4695888993277498\n",
      "0.07771283898694953 0.75 0.18963048861566825 0.4943850736614566\n",
      "0.06155191974000415 0.625 0.1451404223032296 0.49870789471526816\n",
      "0.06212709207748371 0.875 0.37660895703389285 0.4234273099898879\n",
      "0.20953812480100187 1.0 0.8259789467067481 0.373858740938676\n",
      "0.05180654463874754 1.0 0.2500444054203533 0.43128503501552506\n"
     ]
    },
    {
     "name": "stderr",
     "output_type": "stream",
     "text": [
      "[Parallel(n_jobs=15)]: Done  33 out of  50 | elapsed:  6.7min remaining:  3.5min\n"
     ]
    },
    {
     "name": "stdout",
     "output_type": "stream",
     "text": [
      "0.024619136227252376 1.0 0.27984690158068065 0.3736707899028628\n",
      "0.06883640974792585 1.0 0.497477403223032 0.5624652684679484\n",
      "0.08678402971728305 1.0 0.6601824690575095 0.5566768899263872\n",
      "0.05028723239351994 1.0 0.2578792448702085 0.5199346086992461\n",
      "0.08377048680679718 0.625 0.11727934235577442 0.3980489060122727\n",
      "0.07092193317486709 0.875 0.28271986362009005 0.5437074551743347\n",
      "0.05862319900774696 1.0 0.24020659407641526 0.4351154189168532\n"
     ]
    },
    {
     "name": "stderr",
     "output_type": "stream",
     "text": [
      "[Parallel(n_jobs=15)]: Done  39 out of  50 | elapsed:  6.9min remaining:  2.0min\n"
     ]
    },
    {
     "name": "stdout",
     "output_type": "stream",
     "text": [
      "0.15084659213212653 0.75 0.37802655414866737 0.3676730529922796\n",
      "0.06296519667388707 0.875 0.2591381977578872 0.41297777301465793\n",
      "0.09623965914317054 0.625 0.20550047972457236 0.5475158596187212\n",
      "0.17763748534660367 0.875 0.5813708493392342 0.4315239723271063\n",
      "0.08712718343435025 0.625 0.13524505589858105 0.5084600077088309\n"
     ]
    },
    {
     "name": "stderr",
     "output_type": "stream",
     "text": [
      "[Parallel(n_jobs=15)]: Done  45 out of  50 | elapsed:  7.7min remaining:   51.1s\n"
     ]
    },
    {
     "name": "stdout",
     "output_type": "stream",
     "text": [
      "0.07766021266733897 1.0 0.380346397917831 0.43867973126803617\n",
      "0.1168182735715894 0.75 0.2596040120047529 0.5322031306251576\n",
      "0.0947353207022309 0.75 0.30632935916855353 0.4571615707564872\n",
      "0.08500697175434985 0.875 0.2932100286324758 0.4578759555594584\n",
      "0.09377076744396023 1.0 0.3758267872862433 0.4452394696334996\n"
     ]
    },
    {
     "name": "stderr",
     "output_type": "stream",
     "text": [
      "[Parallel(n_jobs=15)]: Done  50 out of  50 | elapsed:  8.9min finished\n"
     ]
    }
   ],
   "source": [
    "catch_coverages = Parallel(n_jobs=15, verbose = 10, backend = \"loky\")(delayed(rep_one_real_world)(i) for i in range(reps))"
   ]
  },
  {
   "cell_type": "code",
   "execution_count": 83,
   "id": "1e8200e5-b784-49c8-9ae9-fd7ee5a2e71d",
   "metadata": {},
   "outputs": [],
   "source": [
    "# catch_coverages"
   ]
  },
  {
   "cell_type": "code",
   "execution_count": 84,
   "id": "647980a7-9ae3-4c5c-b25c-2e37b6a84679",
   "metadata": {},
   "outputs": [],
   "source": [
    "check = pd.DataFrame(catch_coverages).iloc[:,:-1]"
   ]
  },
  {
   "cell_type": "code",
   "execution_count": 85,
   "id": "e061792a-e589-486e-b8d2-336622f6bf34",
   "metadata": {},
   "outputs": [],
   "source": [
    "# check"
   ]
  },
  {
   "cell_type": "code",
   "execution_count": 86,
   "id": "fa101efc-351b-4645-87a3-f008abf1ff3d",
   "metadata": {},
   "outputs": [],
   "source": [
    "# check"
   ]
  },
  {
   "cell_type": "code",
   "execution_count": 87,
   "id": "77536655-0afd-4976-980a-fa7a28b55201",
   "metadata": {},
   "outputs": [],
   "source": [
    "# check.columns = [\"train_mae\", \"test_mae\", \"avg_ci_width_train\", \"avg_ci_width_test\", \"avg_lstm_weight\", \"exit_iter\", \"exit_status\"]"
   ]
  },
  {
   "cell_type": "code",
   "execution_count": 88,
   "id": "cd8cefbd-9076-469e-a5dc-dc4637846308",
   "metadata": {},
   "outputs": [
    {
     "data": {
      "text/html": [
       "<div>\n",
       "<style scoped>\n",
       "    .dataframe tbody tr th:only-of-type {\n",
       "        vertical-align: middle;\n",
       "    }\n",
       "\n",
       "    .dataframe tbody tr th {\n",
       "        vertical-align: top;\n",
       "    }\n",
       "\n",
       "    .dataframe thead th {\n",
       "        text-align: right;\n",
       "    }\n",
       "</style>\n",
       "<table border=\"1\" class=\"dataframe\">\n",
       "  <thead>\n",
       "    <tr style=\"text-align: right;\">\n",
       "      <th></th>\n",
       "      <th>0</th>\n",
       "      <th>1</th>\n",
       "      <th>2</th>\n",
       "      <th>3</th>\n",
       "      <th>4</th>\n",
       "      <th>5</th>\n",
       "      <th>6</th>\n",
       "      <th>7</th>\n",
       "      <th>8</th>\n",
       "    </tr>\n",
       "  </thead>\n",
       "  <tbody>\n",
       "    <tr>\n",
       "      <th>0</th>\n",
       "      <td>0.048855</td>\n",
       "      <td>0.044578</td>\n",
       "      <td>0.954545</td>\n",
       "      <td>0.215229</td>\n",
       "      <td>0.875</td>\n",
       "      <td>0.269500</td>\n",
       "      <td>0.404611</td>\n",
       "      <td>14</td>\n",
       "      <td>2.166667</td>\n",
       "    </tr>\n",
       "    <tr>\n",
       "      <th>1</th>\n",
       "      <td>0.049130</td>\n",
       "      <td>0.090804</td>\n",
       "      <td>0.969697</td>\n",
       "      <td>0.278563</td>\n",
       "      <td>0.750</td>\n",
       "      <td>0.289339</td>\n",
       "      <td>0.472694</td>\n",
       "      <td>23</td>\n",
       "      <td>2.350000</td>\n",
       "    </tr>\n",
       "    <tr>\n",
       "      <th>2</th>\n",
       "      <td>0.031097</td>\n",
       "      <td>0.015784</td>\n",
       "      <td>0.954545</td>\n",
       "      <td>0.179616</td>\n",
       "      <td>1.000</td>\n",
       "      <td>0.196369</td>\n",
       "      <td>0.518079</td>\n",
       "      <td>22</td>\n",
       "      <td>2.316667</td>\n",
       "    </tr>\n",
       "    <tr>\n",
       "      <th>3</th>\n",
       "      <td>0.038668</td>\n",
       "      <td>0.039789</td>\n",
       "      <td>1.000000</td>\n",
       "      <td>0.245109</td>\n",
       "      <td>1.000</td>\n",
       "      <td>0.249653</td>\n",
       "      <td>0.542372</td>\n",
       "      <td>22</td>\n",
       "      <td>2.333333</td>\n",
       "    </tr>\n",
       "    <tr>\n",
       "      <th>4</th>\n",
       "      <td>0.119777</td>\n",
       "      <td>0.082971</td>\n",
       "      <td>0.969697</td>\n",
       "      <td>0.432584</td>\n",
       "      <td>1.000</td>\n",
       "      <td>0.437586</td>\n",
       "      <td>0.460337</td>\n",
       "      <td>17</td>\n",
       "      <td>2.233333</td>\n",
       "    </tr>\n",
       "    <tr>\n",
       "      <th>5</th>\n",
       "      <td>0.045382</td>\n",
       "      <td>0.032335</td>\n",
       "      <td>0.954545</td>\n",
       "      <td>0.264803</td>\n",
       "      <td>1.000</td>\n",
       "      <td>0.247635</td>\n",
       "      <td>0.455089</td>\n",
       "      <td>20</td>\n",
       "      <td>2.300000</td>\n",
       "    </tr>\n",
       "    <tr>\n",
       "      <th>6</th>\n",
       "      <td>0.026143</td>\n",
       "      <td>0.065515</td>\n",
       "      <td>0.954545</td>\n",
       "      <td>0.121186</td>\n",
       "      <td>0.750</td>\n",
       "      <td>0.155624</td>\n",
       "      <td>0.514078</td>\n",
       "      <td>26</td>\n",
       "      <td>2.400000</td>\n",
       "    </tr>\n",
       "    <tr>\n",
       "      <th>7</th>\n",
       "      <td>0.037052</td>\n",
       "      <td>0.045938</td>\n",
       "      <td>0.954545</td>\n",
       "      <td>0.183129</td>\n",
       "      <td>0.875</td>\n",
       "      <td>0.181390</td>\n",
       "      <td>0.515821</td>\n",
       "      <td>43</td>\n",
       "      <td>2.716667</td>\n",
       "    </tr>\n",
       "    <tr>\n",
       "      <th>8</th>\n",
       "      <td>0.070860</td>\n",
       "      <td>0.084668</td>\n",
       "      <td>0.954545</td>\n",
       "      <td>0.401688</td>\n",
       "      <td>1.000</td>\n",
       "      <td>0.414952</td>\n",
       "      <td>0.453157</td>\n",
       "      <td>21</td>\n",
       "      <td>2.350000</td>\n",
       "    </tr>\n",
       "    <tr>\n",
       "      <th>9</th>\n",
       "      <td>0.086789</td>\n",
       "      <td>0.068104</td>\n",
       "      <td>1.000000</td>\n",
       "      <td>0.409462</td>\n",
       "      <td>1.000</td>\n",
       "      <td>0.403233</td>\n",
       "      <td>0.402324</td>\n",
       "      <td>13</td>\n",
       "      <td>2.133333</td>\n",
       "    </tr>\n",
       "    <tr>\n",
       "      <th>10</th>\n",
       "      <td>0.056155</td>\n",
       "      <td>0.071212</td>\n",
       "      <td>0.969697</td>\n",
       "      <td>0.259615</td>\n",
       "      <td>0.875</td>\n",
       "      <td>0.310198</td>\n",
       "      <td>0.392976</td>\n",
       "      <td>14</td>\n",
       "      <td>2.200000</td>\n",
       "    </tr>\n",
       "    <tr>\n",
       "      <th>11</th>\n",
       "      <td>0.026975</td>\n",
       "      <td>0.059984</td>\n",
       "      <td>0.954545</td>\n",
       "      <td>0.118548</td>\n",
       "      <td>0.750</td>\n",
       "      <td>0.193315</td>\n",
       "      <td>0.535208</td>\n",
       "      <td>30</td>\n",
       "      <td>2.500000</td>\n",
       "    </tr>\n",
       "    <tr>\n",
       "      <th>12</th>\n",
       "      <td>0.238470</td>\n",
       "      <td>0.242389</td>\n",
       "      <td>1.000000</td>\n",
       "      <td>0.787538</td>\n",
       "      <td>1.000</td>\n",
       "      <td>0.786177</td>\n",
       "      <td>0.347011</td>\n",
       "      <td>11</td>\n",
       "      <td>2.133333</td>\n",
       "    </tr>\n",
       "    <tr>\n",
       "      <th>13</th>\n",
       "      <td>0.068447</td>\n",
       "      <td>0.083788</td>\n",
       "      <td>0.954545</td>\n",
       "      <td>0.286065</td>\n",
       "      <td>1.000</td>\n",
       "      <td>0.366073</td>\n",
       "      <td>0.424679</td>\n",
       "      <td>13</td>\n",
       "      <td>2.166667</td>\n",
       "    </tr>\n",
       "    <tr>\n",
       "      <th>14</th>\n",
       "      <td>0.038395</td>\n",
       "      <td>0.033489</td>\n",
       "      <td>0.954545</td>\n",
       "      <td>0.183011</td>\n",
       "      <td>1.000</td>\n",
       "      <td>0.169563</td>\n",
       "      <td>0.452248</td>\n",
       "      <td>19</td>\n",
       "      <td>2.283333</td>\n",
       "    </tr>\n",
       "    <tr>\n",
       "      <th>15</th>\n",
       "      <td>0.048844</td>\n",
       "      <td>0.057121</td>\n",
       "      <td>0.954545</td>\n",
       "      <td>0.294380</td>\n",
       "      <td>1.000</td>\n",
       "      <td>0.347958</td>\n",
       "      <td>0.466332</td>\n",
       "      <td>19</td>\n",
       "      <td>2.266667</td>\n",
       "    </tr>\n",
       "    <tr>\n",
       "      <th>16</th>\n",
       "      <td>0.045176</td>\n",
       "      <td>0.088084</td>\n",
       "      <td>1.000000</td>\n",
       "      <td>0.222295</td>\n",
       "      <td>1.000</td>\n",
       "      <td>0.337594</td>\n",
       "      <td>0.394529</td>\n",
       "      <td>11</td>\n",
       "      <td>2.133333</td>\n",
       "    </tr>\n",
       "    <tr>\n",
       "      <th>17</th>\n",
       "      <td>0.060344</td>\n",
       "      <td>0.086214</td>\n",
       "      <td>0.984848</td>\n",
       "      <td>0.316279</td>\n",
       "      <td>0.875</td>\n",
       "      <td>0.374426</td>\n",
       "      <td>0.446955</td>\n",
       "      <td>16</td>\n",
       "      <td>2.216667</td>\n",
       "    </tr>\n",
       "    <tr>\n",
       "      <th>18</th>\n",
       "      <td>0.027936</td>\n",
       "      <td>0.077713</td>\n",
       "      <td>0.954545</td>\n",
       "      <td>0.154696</td>\n",
       "      <td>0.750</td>\n",
       "      <td>0.189630</td>\n",
       "      <td>0.494385</td>\n",
       "      <td>46</td>\n",
       "      <td>2.950000</td>\n",
       "    </tr>\n",
       "    <tr>\n",
       "      <th>19</th>\n",
       "      <td>0.053297</td>\n",
       "      <td>0.077268</td>\n",
       "      <td>0.954545</td>\n",
       "      <td>0.192442</td>\n",
       "      <td>0.875</td>\n",
       "      <td>0.233131</td>\n",
       "      <td>0.444943</td>\n",
       "      <td>16</td>\n",
       "      <td>2.233333</td>\n",
       "    </tr>\n",
       "    <tr>\n",
       "      <th>20</th>\n",
       "      <td>0.056417</td>\n",
       "      <td>0.054051</td>\n",
       "      <td>0.954545</td>\n",
       "      <td>0.247990</td>\n",
       "      <td>0.875</td>\n",
       "      <td>0.248407</td>\n",
       "      <td>0.422428</td>\n",
       "      <td>14</td>\n",
       "      <td>2.183333</td>\n",
       "    </tr>\n",
       "    <tr>\n",
       "      <th>21</th>\n",
       "      <td>0.057714</td>\n",
       "      <td>0.044068</td>\n",
       "      <td>0.954545</td>\n",
       "      <td>0.223530</td>\n",
       "      <td>1.000</td>\n",
       "      <td>0.246434</td>\n",
       "      <td>0.469482</td>\n",
       "      <td>25</td>\n",
       "      <td>2.400000</td>\n",
       "    </tr>\n",
       "    <tr>\n",
       "      <th>22</th>\n",
       "      <td>0.047778</td>\n",
       "      <td>0.048574</td>\n",
       "      <td>0.954545</td>\n",
       "      <td>0.210339</td>\n",
       "      <td>0.750</td>\n",
       "      <td>0.195515</td>\n",
       "      <td>0.429312</td>\n",
       "      <td>15</td>\n",
       "      <td>2.200000</td>\n",
       "    </tr>\n",
       "    <tr>\n",
       "      <th>23</th>\n",
       "      <td>0.024643</td>\n",
       "      <td>0.061552</td>\n",
       "      <td>0.954545</td>\n",
       "      <td>0.107371</td>\n",
       "      <td>0.625</td>\n",
       "      <td>0.145140</td>\n",
       "      <td>0.498708</td>\n",
       "      <td>52</td>\n",
       "      <td>2.883333</td>\n",
       "    </tr>\n",
       "    <tr>\n",
       "      <th>24</th>\n",
       "      <td>0.093788</td>\n",
       "      <td>0.103155</td>\n",
       "      <td>0.954545</td>\n",
       "      <td>0.379561</td>\n",
       "      <td>1.000</td>\n",
       "      <td>0.381192</td>\n",
       "      <td>0.452249</td>\n",
       "      <td>16</td>\n",
       "      <td>2.216667</td>\n",
       "    </tr>\n",
       "    <tr>\n",
       "      <th>25</th>\n",
       "      <td>0.051117</td>\n",
       "      <td>0.081866</td>\n",
       "      <td>0.969697</td>\n",
       "      <td>0.269097</td>\n",
       "      <td>1.000</td>\n",
       "      <td>0.357643</td>\n",
       "      <td>0.445922</td>\n",
       "      <td>17</td>\n",
       "      <td>2.250000</td>\n",
       "    </tr>\n",
       "    <tr>\n",
       "      <th>26</th>\n",
       "      <td>0.043859</td>\n",
       "      <td>0.024084</td>\n",
       "      <td>0.954545</td>\n",
       "      <td>0.230436</td>\n",
       "      <td>1.000</td>\n",
       "      <td>0.235377</td>\n",
       "      <td>0.492282</td>\n",
       "      <td>22</td>\n",
       "      <td>2.333333</td>\n",
       "    </tr>\n",
       "    <tr>\n",
       "      <th>27</th>\n",
       "      <td>0.060696</td>\n",
       "      <td>0.045957</td>\n",
       "      <td>0.984848</td>\n",
       "      <td>0.337877</td>\n",
       "      <td>1.000</td>\n",
       "      <td>0.305692</td>\n",
       "      <td>0.438857</td>\n",
       "      <td>17</td>\n",
       "      <td>2.216667</td>\n",
       "    </tr>\n",
       "    <tr>\n",
       "      <th>28</th>\n",
       "      <td>0.055396</td>\n",
       "      <td>0.060246</td>\n",
       "      <td>0.969697</td>\n",
       "      <td>0.253876</td>\n",
       "      <td>1.000</td>\n",
       "      <td>0.247120</td>\n",
       "      <td>0.534933</td>\n",
       "      <td>21</td>\n",
       "      <td>2.333333</td>\n",
       "    </tr>\n",
       "    <tr>\n",
       "      <th>29</th>\n",
       "      <td>0.046369</td>\n",
       "      <td>0.077420</td>\n",
       "      <td>0.969697</td>\n",
       "      <td>0.260717</td>\n",
       "      <td>1.000</td>\n",
       "      <td>0.331197</td>\n",
       "      <td>0.469589</td>\n",
       "      <td>18</td>\n",
       "      <td>2.250000</td>\n",
       "    </tr>\n",
       "    <tr>\n",
       "      <th>30</th>\n",
       "      <td>0.067203</td>\n",
       "      <td>0.062127</td>\n",
       "      <td>0.954545</td>\n",
       "      <td>0.323073</td>\n",
       "      <td>0.875</td>\n",
       "      <td>0.376609</td>\n",
       "      <td>0.423427</td>\n",
       "      <td>15</td>\n",
       "      <td>2.150000</td>\n",
       "    </tr>\n",
       "    <tr>\n",
       "      <th>31</th>\n",
       "      <td>0.055288</td>\n",
       "      <td>0.050287</td>\n",
       "      <td>0.969697</td>\n",
       "      <td>0.259976</td>\n",
       "      <td>1.000</td>\n",
       "      <td>0.257879</td>\n",
       "      <td>0.519935</td>\n",
       "      <td>24</td>\n",
       "      <td>2.333333</td>\n",
       "    </tr>\n",
       "    <tr>\n",
       "      <th>32</th>\n",
       "      <td>0.206565</td>\n",
       "      <td>0.209538</td>\n",
       "      <td>1.000000</td>\n",
       "      <td>0.803981</td>\n",
       "      <td>1.000</td>\n",
       "      <td>0.825979</td>\n",
       "      <td>0.373859</td>\n",
       "      <td>10</td>\n",
       "      <td>2.050000</td>\n",
       "    </tr>\n",
       "    <tr>\n",
       "      <th>33</th>\n",
       "      <td>0.051360</td>\n",
       "      <td>0.051807</td>\n",
       "      <td>0.969697</td>\n",
       "      <td>0.247160</td>\n",
       "      <td>1.000</td>\n",
       "      <td>0.250044</td>\n",
       "      <td>0.431285</td>\n",
       "      <td>14</td>\n",
       "      <td>2.133333</td>\n",
       "    </tr>\n",
       "    <tr>\n",
       "      <th>34</th>\n",
       "      <td>0.048097</td>\n",
       "      <td>0.070922</td>\n",
       "      <td>0.969697</td>\n",
       "      <td>0.259323</td>\n",
       "      <td>0.875</td>\n",
       "      <td>0.282720</td>\n",
       "      <td>0.543707</td>\n",
       "      <td>25</td>\n",
       "      <td>2.350000</td>\n",
       "    </tr>\n",
       "    <tr>\n",
       "      <th>35</th>\n",
       "      <td>0.079289</td>\n",
       "      <td>0.068836</td>\n",
       "      <td>1.000000</td>\n",
       "      <td>0.436260</td>\n",
       "      <td>1.000</td>\n",
       "      <td>0.497477</td>\n",
       "      <td>0.562465</td>\n",
       "      <td>16</td>\n",
       "      <td>2.183333</td>\n",
       "    </tr>\n",
       "    <tr>\n",
       "      <th>36</th>\n",
       "      <td>0.127756</td>\n",
       "      <td>0.086784</td>\n",
       "      <td>1.000000</td>\n",
       "      <td>0.700442</td>\n",
       "      <td>1.000</td>\n",
       "      <td>0.660182</td>\n",
       "      <td>0.556677</td>\n",
       "      <td>15</td>\n",
       "      <td>2.150000</td>\n",
       "    </tr>\n",
       "    <tr>\n",
       "      <th>37</th>\n",
       "      <td>0.065985</td>\n",
       "      <td>0.024619</td>\n",
       "      <td>1.000000</td>\n",
       "      <td>0.316279</td>\n",
       "      <td>1.000</td>\n",
       "      <td>0.279847</td>\n",
       "      <td>0.373671</td>\n",
       "      <td>10</td>\n",
       "      <td>2.083333</td>\n",
       "    </tr>\n",
       "    <tr>\n",
       "      <th>38</th>\n",
       "      <td>0.045031</td>\n",
       "      <td>0.058623</td>\n",
       "      <td>0.969697</td>\n",
       "      <td>0.209432</td>\n",
       "      <td>1.000</td>\n",
       "      <td>0.240207</td>\n",
       "      <td>0.435115</td>\n",
       "      <td>16</td>\n",
       "      <td>2.166667</td>\n",
       "    </tr>\n",
       "    <tr>\n",
       "      <th>39</th>\n",
       "      <td>0.033933</td>\n",
       "      <td>0.083770</td>\n",
       "      <td>0.969697</td>\n",
       "      <td>0.149625</td>\n",
       "      <td>0.625</td>\n",
       "      <td>0.117279</td>\n",
       "      <td>0.398049</td>\n",
       "      <td>12</td>\n",
       "      <td>2.100000</td>\n",
       "    </tr>\n",
       "    <tr>\n",
       "      <th>40</th>\n",
       "      <td>0.065797</td>\n",
       "      <td>0.150847</td>\n",
       "      <td>0.954545</td>\n",
       "      <td>0.356403</td>\n",
       "      <td>0.750</td>\n",
       "      <td>0.378027</td>\n",
       "      <td>0.367673</td>\n",
       "      <td>12</td>\n",
       "      <td>2.100000</td>\n",
       "    </tr>\n",
       "    <tr>\n",
       "      <th>41</th>\n",
       "      <td>0.042991</td>\n",
       "      <td>0.062965</td>\n",
       "      <td>0.969697</td>\n",
       "      <td>0.196123</td>\n",
       "      <td>0.875</td>\n",
       "      <td>0.259138</td>\n",
       "      <td>0.412978</td>\n",
       "      <td>12</td>\n",
       "      <td>2.100000</td>\n",
       "    </tr>\n",
       "    <tr>\n",
       "      <th>42</th>\n",
       "      <td>0.040883</td>\n",
       "      <td>0.096240</td>\n",
       "      <td>0.954545</td>\n",
       "      <td>0.182318</td>\n",
       "      <td>0.625</td>\n",
       "      <td>0.205500</td>\n",
       "      <td>0.547516</td>\n",
       "      <td>21</td>\n",
       "      <td>2.266667</td>\n",
       "    </tr>\n",
       "    <tr>\n",
       "      <th>43</th>\n",
       "      <td>0.037315</td>\n",
       "      <td>0.087127</td>\n",
       "      <td>0.954545</td>\n",
       "      <td>0.140422</td>\n",
       "      <td>0.625</td>\n",
       "      <td>0.135245</td>\n",
       "      <td>0.508460</td>\n",
       "      <td>24</td>\n",
       "      <td>2.400000</td>\n",
       "    </tr>\n",
       "    <tr>\n",
       "      <th>44</th>\n",
       "      <td>0.138673</td>\n",
       "      <td>0.177637</td>\n",
       "      <td>0.969697</td>\n",
       "      <td>0.518532</td>\n",
       "      <td>0.875</td>\n",
       "      <td>0.581371</td>\n",
       "      <td>0.431524</td>\n",
       "      <td>16</td>\n",
       "      <td>2.116667</td>\n",
       "    </tr>\n",
       "    <tr>\n",
       "      <th>45</th>\n",
       "      <td>0.060828</td>\n",
       "      <td>0.094735</td>\n",
       "      <td>0.954545</td>\n",
       "      <td>0.277794</td>\n",
       "      <td>0.750</td>\n",
       "      <td>0.306329</td>\n",
       "      <td>0.457162</td>\n",
       "      <td>25</td>\n",
       "      <td>2.166667</td>\n",
       "    </tr>\n",
       "    <tr>\n",
       "      <th>46</th>\n",
       "      <td>0.043133</td>\n",
       "      <td>0.116818</td>\n",
       "      <td>0.969697</td>\n",
       "      <td>0.259549</td>\n",
       "      <td>0.750</td>\n",
       "      <td>0.259604</td>\n",
       "      <td>0.532203</td>\n",
       "      <td>25</td>\n",
       "      <td>2.133333</td>\n",
       "    </tr>\n",
       "    <tr>\n",
       "      <th>47</th>\n",
       "      <td>0.073876</td>\n",
       "      <td>0.077660</td>\n",
       "      <td>0.984848</td>\n",
       "      <td>0.361225</td>\n",
       "      <td>1.000</td>\n",
       "      <td>0.380346</td>\n",
       "      <td>0.438680</td>\n",
       "      <td>17</td>\n",
       "      <td>2.016667</td>\n",
       "    </tr>\n",
       "    <tr>\n",
       "      <th>48</th>\n",
       "      <td>0.051558</td>\n",
       "      <td>0.085007</td>\n",
       "      <td>0.984848</td>\n",
       "      <td>0.277689</td>\n",
       "      <td>0.875</td>\n",
       "      <td>0.293210</td>\n",
       "      <td>0.457876</td>\n",
       "      <td>18</td>\n",
       "      <td>2.016667</td>\n",
       "    </tr>\n",
       "    <tr>\n",
       "      <th>49</th>\n",
       "      <td>0.071899</td>\n",
       "      <td>0.093771</td>\n",
       "      <td>1.000000</td>\n",
       "      <td>0.368283</td>\n",
       "      <td>1.000</td>\n",
       "      <td>0.375827</td>\n",
       "      <td>0.445239</td>\n",
       "      <td>19</td>\n",
       "      <td>2.033333</td>\n",
       "    </tr>\n",
       "  </tbody>\n",
       "</table>\n",
       "</div>"
      ],
      "text/plain": [
       "           0         1         2         3      4         5         6   7  \\\n",
       "0   0.048855  0.044578  0.954545  0.215229  0.875  0.269500  0.404611  14   \n",
       "1   0.049130  0.090804  0.969697  0.278563  0.750  0.289339  0.472694  23   \n",
       "2   0.031097  0.015784  0.954545  0.179616  1.000  0.196369  0.518079  22   \n",
       "3   0.038668  0.039789  1.000000  0.245109  1.000  0.249653  0.542372  22   \n",
       "4   0.119777  0.082971  0.969697  0.432584  1.000  0.437586  0.460337  17   \n",
       "5   0.045382  0.032335  0.954545  0.264803  1.000  0.247635  0.455089  20   \n",
       "6   0.026143  0.065515  0.954545  0.121186  0.750  0.155624  0.514078  26   \n",
       "7   0.037052  0.045938  0.954545  0.183129  0.875  0.181390  0.515821  43   \n",
       "8   0.070860  0.084668  0.954545  0.401688  1.000  0.414952  0.453157  21   \n",
       "9   0.086789  0.068104  1.000000  0.409462  1.000  0.403233  0.402324  13   \n",
       "10  0.056155  0.071212  0.969697  0.259615  0.875  0.310198  0.392976  14   \n",
       "11  0.026975  0.059984  0.954545  0.118548  0.750  0.193315  0.535208  30   \n",
       "12  0.238470  0.242389  1.000000  0.787538  1.000  0.786177  0.347011  11   \n",
       "13  0.068447  0.083788  0.954545  0.286065  1.000  0.366073  0.424679  13   \n",
       "14  0.038395  0.033489  0.954545  0.183011  1.000  0.169563  0.452248  19   \n",
       "15  0.048844  0.057121  0.954545  0.294380  1.000  0.347958  0.466332  19   \n",
       "16  0.045176  0.088084  1.000000  0.222295  1.000  0.337594  0.394529  11   \n",
       "17  0.060344  0.086214  0.984848  0.316279  0.875  0.374426  0.446955  16   \n",
       "18  0.027936  0.077713  0.954545  0.154696  0.750  0.189630  0.494385  46   \n",
       "19  0.053297  0.077268  0.954545  0.192442  0.875  0.233131  0.444943  16   \n",
       "20  0.056417  0.054051  0.954545  0.247990  0.875  0.248407  0.422428  14   \n",
       "21  0.057714  0.044068  0.954545  0.223530  1.000  0.246434  0.469482  25   \n",
       "22  0.047778  0.048574  0.954545  0.210339  0.750  0.195515  0.429312  15   \n",
       "23  0.024643  0.061552  0.954545  0.107371  0.625  0.145140  0.498708  52   \n",
       "24  0.093788  0.103155  0.954545  0.379561  1.000  0.381192  0.452249  16   \n",
       "25  0.051117  0.081866  0.969697  0.269097  1.000  0.357643  0.445922  17   \n",
       "26  0.043859  0.024084  0.954545  0.230436  1.000  0.235377  0.492282  22   \n",
       "27  0.060696  0.045957  0.984848  0.337877  1.000  0.305692  0.438857  17   \n",
       "28  0.055396  0.060246  0.969697  0.253876  1.000  0.247120  0.534933  21   \n",
       "29  0.046369  0.077420  0.969697  0.260717  1.000  0.331197  0.469589  18   \n",
       "30  0.067203  0.062127  0.954545  0.323073  0.875  0.376609  0.423427  15   \n",
       "31  0.055288  0.050287  0.969697  0.259976  1.000  0.257879  0.519935  24   \n",
       "32  0.206565  0.209538  1.000000  0.803981  1.000  0.825979  0.373859  10   \n",
       "33  0.051360  0.051807  0.969697  0.247160  1.000  0.250044  0.431285  14   \n",
       "34  0.048097  0.070922  0.969697  0.259323  0.875  0.282720  0.543707  25   \n",
       "35  0.079289  0.068836  1.000000  0.436260  1.000  0.497477  0.562465  16   \n",
       "36  0.127756  0.086784  1.000000  0.700442  1.000  0.660182  0.556677  15   \n",
       "37  0.065985  0.024619  1.000000  0.316279  1.000  0.279847  0.373671  10   \n",
       "38  0.045031  0.058623  0.969697  0.209432  1.000  0.240207  0.435115  16   \n",
       "39  0.033933  0.083770  0.969697  0.149625  0.625  0.117279  0.398049  12   \n",
       "40  0.065797  0.150847  0.954545  0.356403  0.750  0.378027  0.367673  12   \n",
       "41  0.042991  0.062965  0.969697  0.196123  0.875  0.259138  0.412978  12   \n",
       "42  0.040883  0.096240  0.954545  0.182318  0.625  0.205500  0.547516  21   \n",
       "43  0.037315  0.087127  0.954545  0.140422  0.625  0.135245  0.508460  24   \n",
       "44  0.138673  0.177637  0.969697  0.518532  0.875  0.581371  0.431524  16   \n",
       "45  0.060828  0.094735  0.954545  0.277794  0.750  0.306329  0.457162  25   \n",
       "46  0.043133  0.116818  0.969697  0.259549  0.750  0.259604  0.532203  25   \n",
       "47  0.073876  0.077660  0.984848  0.361225  1.000  0.380346  0.438680  17   \n",
       "48  0.051558  0.085007  0.984848  0.277689  0.875  0.293210  0.457876  18   \n",
       "49  0.071899  0.093771  1.000000  0.368283  1.000  0.375827  0.445239  19   \n",
       "\n",
       "           8  \n",
       "0   2.166667  \n",
       "1   2.350000  \n",
       "2   2.316667  \n",
       "3   2.333333  \n",
       "4   2.233333  \n",
       "5   2.300000  \n",
       "6   2.400000  \n",
       "7   2.716667  \n",
       "8   2.350000  \n",
       "9   2.133333  \n",
       "10  2.200000  \n",
       "11  2.500000  \n",
       "12  2.133333  \n",
       "13  2.166667  \n",
       "14  2.283333  \n",
       "15  2.266667  \n",
       "16  2.133333  \n",
       "17  2.216667  \n",
       "18  2.950000  \n",
       "19  2.233333  \n",
       "20  2.183333  \n",
       "21  2.400000  \n",
       "22  2.200000  \n",
       "23  2.883333  \n",
       "24  2.216667  \n",
       "25  2.250000  \n",
       "26  2.333333  \n",
       "27  2.216667  \n",
       "28  2.333333  \n",
       "29  2.250000  \n",
       "30  2.150000  \n",
       "31  2.333333  \n",
       "32  2.050000  \n",
       "33  2.133333  \n",
       "34  2.350000  \n",
       "35  2.183333  \n",
       "36  2.150000  \n",
       "37  2.083333  \n",
       "38  2.166667  \n",
       "39  2.100000  \n",
       "40  2.100000  \n",
       "41  2.100000  \n",
       "42  2.266667  \n",
       "43  2.400000  \n",
       "44  2.116667  \n",
       "45  2.166667  \n",
       "46  2.133333  \n",
       "47  2.016667  \n",
       "48  2.016667  \n",
       "49  2.033333  "
      ]
     },
     "execution_count": 88,
     "metadata": {},
     "output_type": "execute_result"
    }
   ],
   "source": [
    "check"
   ]
  },
  {
   "cell_type": "code",
   "execution_count": 89,
   "id": "4fc1dcac-24b2-45e7-ae4c-e55eca90a6c6",
   "metadata": {},
   "outputs": [],
   "source": [
    "check.columns = [\"train_mae\", \"test_mae\", \"train_coverage\", \"train_width\", \"test_coverage\", \"test_width\", \"lstm_weight\" ,\"exit_iter\", \"time_taken\"]"
   ]
  },
  {
   "cell_type": "code",
   "execution_count": 90,
   "id": "fcf483cf-1d09-4d5d-8c7c-7db62473a356",
   "metadata": {},
   "outputs": [
    {
     "data": {
      "text/plain": [
       "train_mae          0.063261\n",
       "test_mae           0.077177\n",
       "train_coverage     0.969394\n",
       "train_width        0.294218\n",
       "test_coverage      0.902500\n",
       "test_width         0.316198\n",
       "lstm_weight        0.460182\n",
       "exit_iter         19.580000\n",
       "time_taken         2.254000\n",
       "dtype: float64"
      ]
     },
     "execution_count": 90,
     "metadata": {},
     "output_type": "execute_result"
    }
   ],
   "source": [
    "check.mean()"
   ]
  },
  {
   "cell_type": "code",
   "execution_count": 91,
   "id": "e776a220-0227-4460-bd21-5aa40a756b12",
   "metadata": {},
   "outputs": [],
   "source": [
    "check_mean = check.mean().reset_index()"
   ]
  },
  {
   "cell_type": "code",
   "execution_count": 92,
   "id": "1839ab29-f07b-4245-8c57-76f96a51f181",
   "metadata": {},
   "outputs": [],
   "source": [
    "check_mean.to_csv(\"Real_World_mean_metrics_ANN_LSTM_EnKF_LSTM_Doc2Vec_\" + \"var_weights_\" + str(var_weights) + \"_num_ens_\" + str(size_ens) +  \".csv\", index = False)"
   ]
  },
  {
   "cell_type": "code",
   "execution_count": 93,
   "id": "9b520f45-ad8d-453c-80e7-7a6bb711692f",
   "metadata": {},
   "outputs": [
    {
     "data": {
      "text/plain": [
       "train_mae         0.040676\n",
       "test_mae          0.042433\n",
       "train_coverage    0.017177\n",
       "train_width       0.149078\n",
       "test_coverage     0.124463\n",
       "test_width        0.147443\n",
       "lstm_weight       0.054161\n",
       "exit_iter         8.483092\n",
       "time_taken        0.188819\n",
       "dtype: float64"
      ]
     },
     "execution_count": 93,
     "metadata": {},
     "output_type": "execute_result"
    }
   ],
   "source": [
    "check.std()"
   ]
  },
  {
   "cell_type": "code",
   "execution_count": 94,
   "id": "87f0aecc-b638-486c-96ce-5f8d47b4a619",
   "metadata": {},
   "outputs": [],
   "source": [
    "check_std = check.std().reset_index()"
   ]
  },
  {
   "cell_type": "code",
   "execution_count": 95,
   "id": "355e9158-ecd7-48bc-9d13-d715fcb3ceb3",
   "metadata": {},
   "outputs": [],
   "source": [
    "check_std.to_csv(\"Real_World_std_dev_metrics_ANN_LSTM_EnKF_LSTM_Doc2Vec_\" + \"var_weights_\" + str(var_weights) + \"_num_ens_\" + str(size_ens)+  \".csv\", index = False)"
   ]
  },
  {
   "cell_type": "code",
   "execution_count": 96,
   "id": "e3e43629-3a74-4d41-acaf-dea297a3840c",
   "metadata": {},
   "outputs": [
    {
     "data": {
      "text/plain": [
       "train_mae         0.000814\n",
       "test_mae          0.000849\n",
       "train_coverage    0.000344\n",
       "train_width       0.002982\n",
       "test_coverage     0.002489\n",
       "test_width        0.002949\n",
       "lstm_weight       0.001083\n",
       "exit_iter         0.169662\n",
       "time_taken        0.003776\n",
       "dtype: float64"
      ]
     },
     "execution_count": 96,
     "metadata": {},
     "output_type": "execute_result"
    }
   ],
   "source": [
    "check.std()/reps"
   ]
  },
  {
   "cell_type": "code",
   "execution_count": 97,
   "id": "22fedaa0-1553-4f19-a388-552e8685f835",
   "metadata": {},
   "outputs": [],
   "source": [
    "# with open(\"Real_World_EnKF_LSTM_Doc2Vec_\" + \"var_weights_\" + str(var_weights) + \"_num_ens_\" + str(size_ens) + \".pkl\", 'rb') as f:\n",
    "#     catch_coverages = pickle.load(f)  "
   ]
  },
  {
   "cell_type": "code",
   "execution_count": 98,
   "id": "41b8e579-df3e-4937-bb73-16c1d945a952",
   "metadata": {},
   "outputs": [],
   "source": [
    "# catch_coverages[0][-1].mean(0)"
   ]
  },
  {
   "cell_type": "code",
   "execution_count": 99,
   "id": "8782e141-df51-4300-8822-4ac054073197",
   "metadata": {},
   "outputs": [],
   "source": [
    "# expit(catch1[0][2])"
   ]
  },
  {
   "cell_type": "code",
   "execution_count": 100,
   "id": "a83c3d12-b2f0-44b8-9904-7b10c4f513bd",
   "metadata": {},
   "outputs": [],
   "source": [
    "true_preds = []\n",
    "enkf_preds = []\n",
    "for i in range(0,reps):\n",
    "    all_preds = catch_coverages[i][-1]\n",
    "    all_preds = all_preds.mean(0)\n",
    "    catch_test_probs = (expit(catch1[i][2]) + expit(catch2[i][2]))/2\n",
    "    true_probs = catch_test_probs.ravel().tolist()\n",
    "    true_preds.append(true_probs)\n",
    "    enkf_preds.append(all_preds.ravel().tolist())\n",
    "    # plt.scatter(true_probs, all_preds.ravel().tolist())\n",
    "    # plt.show()"
   ]
  },
  {
   "cell_type": "code",
   "execution_count": 101,
   "id": "4089a2ab-43f9-4e24-a7ed-add7bdc14156",
   "metadata": {},
   "outputs": [],
   "source": [
    "true_preds = [inner for item in true_preds for inner in item]"
   ]
  },
  {
   "cell_type": "code",
   "execution_count": 102,
   "id": "65492b8d-d7e4-4375-8577-d79a633680b7",
   "metadata": {},
   "outputs": [],
   "source": [
    "enkf_preds = [inner for item in enkf_preds for inner in item]"
   ]
  },
  {
   "cell_type": "code",
   "execution_count": 103,
   "id": "5e66f450-27b5-4f4c-a831-c868c1f0e541",
   "metadata": {},
   "outputs": [],
   "source": [
    "# len(true_preds)"
   ]
  },
  {
   "cell_type": "code",
   "execution_count": 104,
   "id": "19776731-14c7-43c3-bd48-163aa67e2c76",
   "metadata": {},
   "outputs": [
    {
     "data": {
      "text/plain": [
       "0.07717689235618855"
      ]
     },
     "execution_count": 104,
     "metadata": {},
     "output_type": "execute_result"
    }
   ],
   "source": [
    "np.mean(np.abs(np.array(true_preds)-np.array(enkf_preds)))"
   ]
  },
  {
   "cell_type": "code",
   "execution_count": 105,
   "id": "1ebada74-6fe8-4f58-a939-87ca7399aef8",
   "metadata": {},
   "outputs": [
    {
     "data": {
      "image/png": "[encoded data removed]",
      "text/plain": [
       "<Figure size 640x480 with 1 Axes>"
      ]
     },
     "metadata": {},
     "output_type": "display_data"
    }
   ],
   "source": [
    "plt.scatter(enkf_preds,true_preds, alpha=0.5)\n",
    "plt.xlabel(\"MEnKF-ANN Predictions\", fontsize = 15, fontweight = \"bold\")\n",
    "plt.ylabel(\"Avg (LSTM,Doc2Vec_ANN) Predictions\", fontsize = 13, fontweight = \"bold\")\n",
    "plt.xticks(fontsize = 10, fontweight = \"bold\")\n",
    "plt.yticks(fontsize = 10, fontweight = \"bold\")\n",
    "plt.axline((0, 0), slope=1)\n",
    "plt.show()"
   ]
  },
  {
   "cell_type": "code",
   "execution_count": 106,
   "id": "bc99d01d-0709-457d-88c7-839b0068c062",
   "metadata": {},
   "outputs": [],
   "source": [
    "with open(\"Real_World_ANN_LSTM_EnKF_LSTM_Doc2Vec_\" + \"var_weights_\" + str(var_weights) + \"_num_ens_\" + str(size_ens) + \".pkl\", 'wb') as f:\n",
    "    first_lstm = pickle.dump(catch_coverages, f)  "
   ]
  },
  {
   "cell_type": "code",
   "execution_count": 107,
   "id": "ead27b05-299e-49dc-bb97-236a18cd05e5",
   "metadata": {},
   "outputs": [],
   "source": [
    "# check"
   ]
  }
 ],
 "metadata": {
  "kernelspec": {
   "display_name": "enkf",
   "language": "python",
   "name": "enkf"
  },
  "language_info": {
   "codemirror_mode": {
    "name": "ipython",
    "version": 3
   },
   "file_extension": ".py",
   "mimetype": "text/x-python",
   "name": "python",
   "nbconvert_exporter": "python",
   "pygments_lexer": "ipython3",
   "version": "3.10.8"
  }
 },
 "nbformat": 4,
 "nbformat_minor": 5
}
