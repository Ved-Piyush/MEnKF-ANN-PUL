{
 "cells": [
  {
   "cell_type": "code",
   "execution_count": 1,
   "id": "d7ab5bf3",
   "metadata": {},
   "outputs": [
    {
     "name": "stdout",
     "output_type": "stream",
     "text": [
      "Ram is 188\n"
     ]
    }
   ],
   "source": [
    "import pandas as pd\n",
    "from tqdm import tqdm\n",
    "import gensim\n",
    "import os\n",
    "os.environ['TF_CPP_MIN_LOG_LEVEL'] = '3' \n",
    "# os.chdir(r\"D://Proposal_Defense//Simulations\")\n",
    "#from Utils.Script_utils import get_data_splits, first_LSTM_training, get_data_splits_old_algo\n",
    "from joblib import Parallel, delayed\n",
    "import sys\n",
    "from scipy.stats import norm\n",
    "import numpy as np\n",
    "import psutil\n",
    "    \n",
    "ram_gb = int(np.round(psutil.virtual_memory().total / (1024. **3)))\n",
    "print(\"Ram is \" + str(ram_gb), flush = True)\n",
    "import multiprocessing\n",
    "use_cores = multiprocessing.cpu_count()-1\n"
   ]
  },
  {
   "cell_type": "code",
   "execution_count": 2,
   "id": "ede1177b-8f64-4e6d-adc7-097f20c37da1",
   "metadata": {},
   "outputs": [
    {
     "data": {
      "text/plain": [
       "47"
      ]
     },
     "execution_count": 2,
     "metadata": {},
     "output_type": "execute_result"
    }
   ],
   "source": [
    "use_cores"
   ]
  },
  {
   "cell_type": "code",
   "execution_count": 3,
   "id": "36084258",
   "metadata": {},
   "outputs": [
    {
     "name": "stdout",
     "output_type": "stream",
     "text": [
      "No GPU found\n"
     ]
    }
   ],
   "source": [
    "# Seed value\n",
    "# Apparently you may use different seed values at each stage\n",
    "seed_value= 42\n",
    "\n",
    "# 1. Set the `PYTHONHASHSEED` environment variable at a fixed value\n",
    "import os\n",
    "os.environ['PYTHONHASHSEED']=str(seed_value)\n",
    "\n",
    "# 2. Set the `python` built-in pseudo-random generator at a fixed value\n",
    "import random\n",
    "random.seed(seed_value)\n",
    "\n",
    "# 3. Set the `numpy` pseudo-random generator at a fixed value\n",
    "import numpy as np\n",
    "np.random.seed(seed_value)\n",
    "\n",
    "# # 4. Set the `tensorflow` pseudo-random generator at a fixed value\n",
    "import tensorflow as tf\n",
    "os.environ['CUDA_VISIBLE_DEVICES'] = '-1'\n",
    "\n",
    "if tf.test.gpu_device_name():\n",
    "    print('GPU found')\n",
    "else:\n",
    "    print(\"No GPU found\")\n",
    "# tf.config.set_visible_devices([], 'GPU')\n",
    "\n",
    "from tqdm.notebook import tqdm\n",
    "tf.random.set_seed(seed_value)"
   ]
  },
  {
   "cell_type": "code",
   "execution_count": 4,
   "id": "e036b858",
   "metadata": {},
   "outputs": [],
   "source": [
    "import matplotlib.pyplot as plt\n",
    "\n",
    "import pickle\n",
    "\n"
   ]
  },
  {
   "cell_type": "code",
   "execution_count": 5,
   "id": "058ca9d0",
   "metadata": {},
   "outputs": [],
   "source": [
    "model_cbow = gensim.models.word2vec.Word2Vec.load(r\"..//Data_Generation//word2vec_sg\")"
   ]
  },
  {
   "cell_type": "code",
   "execution_count": 6,
   "id": "72fbb06e",
   "metadata": {},
   "outputs": [],
   "source": [
    "lr = 1e-3\n",
    "# from sklearn.model_selection import train_test_split\n"
   ]
  },
  {
   "cell_type": "code",
   "execution_count": 7,
   "id": "88bbd17f",
   "metadata": {},
   "outputs": [],
   "source": [
    "reps = 50"
   ]
  },
  {
   "cell_type": "code",
   "execution_count": 8,
   "id": "440c1a52",
   "metadata": {},
   "outputs": [],
   "source": [
    "## generate 100 realizations of train valid and test\n",
    "# catch = Parallel(n_jobs=15, verbose = 10, backend = \"loky\")(delayed(get_data_splits_old_algo)(data,  features,  i) for i in range(reps)) "
   ]
  },
  {
   "cell_type": "code",
   "execution_count": 9,
   "id": "51a5cacd-3ebc-4872-9110-8abf4f697b56",
   "metadata": {},
   "outputs": [],
   "source": [
    "with open('..//Data_Generation//Data//train_valid_test_splits_50.pkl', 'rb') as f:\n",
    "    catch = pickle.load(f)  "
   ]
  },
  {
   "cell_type": "code",
   "execution_count": 10,
   "id": "0f2de221-40c9-4243-af58-d3961efea8cc",
   "metadata": {},
   "outputs": [],
   "source": [
    "with open('..//Data_Generation//LSTM_Heavy_Dropout//heavy_dropout_first_lstm.pkl', 'rb') as f:\n",
    "    first_lstm = pickle.load(f)  \n",
    "\n",
    "    \n",
    "with open('..//Data_Generation//LSTM_Heavy_Dropout//Heavy_Data_train_logits.pkl', 'rb') as f:\n",
    "    catch_train_logits = (pickle.load(f))    \n",
    "\n",
    "with open('..//Data_Generation//LSTM_Heavy_Dropout//Heavy_Data_valid_logits.pkl', 'rb') as f:\n",
    "    catch_valid_logits = (pickle.load( f))      \n",
    "    \n",
    "with open('..//Data_Generation//LSTM_Heavy_Dropout//Heavy_Data_test_logits.pkl', 'rb') as f:\n",
    "    catch_test_logits = (pickle.load( f))      \n",
    "    "
   ]
  },
  {
   "cell_type": "code",
   "execution_count": 11,
   "id": "55f0f415",
   "metadata": {},
   "outputs": [],
   "source": [
    "with open('..//Data_Generation//LSTM_Heavy_Dropout//heavy_dropout_second_lstm.pkl', 'rb') as f:\n",
    "    second_lstm = pickle.load(f)  "
   ]
  },
  {
   "cell_type": "code",
   "execution_count": 12,
   "id": "533c1d43-8dd2-477d-b9d4-dad3fadf4823",
   "metadata": {},
   "outputs": [],
   "source": [
    "h1, h2 = 16,16\n",
    "\n",
    "## batch size\n",
    "batch_size = 32"
   ]
  },
  {
   "cell_type": "code",
   "execution_count": 13,
   "id": "e64afd6e-9d03-4206-9045-fe622f2ece4f",
   "metadata": {},
   "outputs": [],
   "source": [
    "from scipy.stats import multivariate_normal as mvn\n",
    "\n",
    "\n",
    "from scipy.stats import invgamma, norm\n",
    "\n",
    "\n",
    "from tqdm.notebook import tqdm\n",
    "\n",
    "\n",
    "import random\n",
    "\n",
    "lr = 0.1\n",
    "\n",
    "\n",
    "import numpy as np\n",
    "\n",
    "\n",
    "import time\n",
    "\n",
    "from scipy.stats import multivariate_normal as mvn\n",
    "\n",
    "\n",
    "\n",
    "from scipy.stats import multivariate_normal as mvn\n",
    "\n",
    "\n",
    "import matplotlib.pyplot as plt\n",
    "\n",
    "from scipy.special import expit"
   ]
  },
  {
   "cell_type": "code",
   "execution_count": 14,
   "id": "7425ecc5",
   "metadata": {},
   "outputs": [],
   "source": [
    "lr = 0.1"
   ]
  },
  {
   "cell_type": "code",
   "execution_count": 15,
   "id": "b7959ab1",
   "metadata": {},
   "outputs": [],
   "source": [
    "import numpy as np"
   ]
  },
  {
   "cell_type": "code",
   "execution_count": 16,
   "id": "2558929a-05a6-494d-9285-58f37943c88b",
   "metadata": {},
   "outputs": [],
   "source": [
    "catch1 = second_lstm"
   ]
  },
  {
   "cell_type": "code",
   "execution_count": 17,
   "id": "1bfe23ff-d473-4d54-9616-703fcf939cdb",
   "metadata": {},
   "outputs": [],
   "source": [
    "var_targets = 0.0001\n",
    "rate = 0.5\n",
    "bnn_reps = 100"
   ]
  },
  {
   "cell_type": "code",
   "execution_count": 18,
   "id": "a619fc09-b1d2-4000-a54d-4f5e1ed025ec",
   "metadata": {},
   "outputs": [],
   "source": [
    "def attention_lstm_model(rate, training): \n",
    "    padding_vector = np.zeros((1, model_cbow.wv.vectors.shape[1]))\n",
    "    unknown_vector = np.zeros((1, model_cbow.wv.vectors.shape[1]))\n",
    "    weight_vectors = np.vstack((padding_vector, unknown_vector))\n",
    "    weight_vectors = np.vstack((weight_vectors, model_cbow.wv.vectors))\n",
    "    embedding_layer = tf.keras.layers.Embedding(len(weight_vectors),\n",
    "                            weight_vectors.shape[1],\n",
    "                            weights=[weight_vectors],\n",
    "                            mask_zero = False,\n",
    "                            trainable=False)\n",
    "\n",
    "    \n",
    "    vectorize_layer = tf.keras.layers.TextVectorization(\n",
    "                     output_mode='int',\n",
    "                     vocabulary=model_cbow.wv.index_to_key, \n",
    "                     standardize = None)\n",
    "    \n",
    "    input_layer = tf.keras.layers.Input(shape = (1,), dtype = tf.string)\n",
    "\n",
    "    vectorize = vectorize_layer(input_layer)\n",
    "\n",
    "    vectorize.shape\n",
    "\n",
    "    emb_output = embedding_layer(vectorize)\n",
    "\n",
    "    emb_output.shape\n",
    "    \n",
    "    # spatial_drop = tf.keras.layers.SpatialDropout1D(0.5)\n",
    "    \n",
    "    # spatial_out = spatial_drop(emb_output, training = training)\n",
    "\n",
    "    lstm_layer = tf.keras.layers.LSTM(25, return_sequences = True, dropout = rate)\n",
    "\n",
    "    lstm_output = lstm_layer(emb_output, training = training)\n",
    "\n",
    "#     x_a = tf.keras.layers.Dense(lstm_output.get_shape()[-1]//2, kernel_initializer = 'glorot_uniform', activation=\"tanh\", name=\"tanh_mlp\")(lstm_output) \n",
    "    \n",
    "    # x_a = tf.keras.layers.SpatialDropout1D(0.75)(lstm_output, training = training)\n",
    "    \n",
    "    x_a = tf.keras.layers.Dense(1, kernel_initializer = 'glorot_uniform', activation='linear', name=\"word-level_context\", kernel_regularizer=tf.keras.regularizers.L2())(lstm_output)\n",
    "\n",
    "    x_a = tf.keras.layers.Flatten()(x_a)\n",
    "\n",
    "    att_out = tf.keras.layers.Activation('softmax')(x_a) \n",
    "\n",
    "    x_a2 = tf.keras.layers.RepeatVector(lstm_output.get_shape()[-1])(att_out)\n",
    "\n",
    "    x_a2 = tf.keras.layers.Permute([2,1])(x_a2)\n",
    "\n",
    "    out = tf.keras.layers.Multiply()([lstm_output,x_a2])\n",
    "    \n",
    "    out = tf.keras.layers.Lambda(lambda x : tf.math.reduce_sum(x, axis = 1), name='expectation_over_words')(out)\n",
    "    \n",
    "    dropout_layer = tf.keras.layers.Dropout(rate)(out, training = training)\n",
    "    \n",
    "    # out = dropout_layer(out)\n",
    "\n",
    "    pred_head = tf.keras.layers.Dense(1, kernel_regularizer=tf.keras.regularizers.L2())\n",
    "\n",
    "    pred_output = pred_head(dropout_layer)\n",
    "\n",
    "    model = tf.keras.models.Model(input_layer, pred_output)\n",
    "    \n",
    "    model.compile(loss = tf.keras.losses.BinaryCrossentropy(from_logits=True), \n",
    "                 optimizer = tf.keras.optimizers.Adam(learning_rate = lr), \n",
    "                 metrics=tf.keras.metrics.BinaryAccuracy())\n",
    "    \n",
    "    return model"
   ]
  },
  {
   "cell_type": "code",
   "execution_count": 19,
   "id": "4e3ef6e6",
   "metadata": {},
   "outputs": [],
   "source": [
    "import time"
   ]
  },
  {
   "cell_type": "code",
   "execution_count": 20,
   "id": "0eabfdd4",
   "metadata": {},
   "outputs": [],
   "source": [
    "from scipy.stats import multivariate_normal as mvn"
   ]
  },
  {
   "cell_type": "code",
   "execution_count": 21,
   "id": "b982682f",
   "metadata": {},
   "outputs": [],
   "source": [
    "# var_weights =6\n",
    "# var_weights_vec = 4\n",
    "# var_targets = 0.04"
   ]
  },
  {
   "cell_type": "code",
   "execution_count": 22,
   "id": "10d77915",
   "metadata": {},
   "outputs": [],
   "source": [
    "from scipy.stats import multivariate_normal as mvn"
   ]
  },
  {
   "cell_type": "code",
   "execution_count": 23,
   "id": "c987219b-dfad-4883-b854-12cb58faa5eb",
   "metadata": {},
   "outputs": [],
   "source": [
    "threshold = 25"
   ]
  },
  {
   "cell_type": "code",
   "execution_count": 24,
   "id": "ebeb0869-7f0b-4f21-be63-0234896af39f",
   "metadata": {},
   "outputs": [],
   "source": [
    "# train_fudged_probs"
   ]
  },
  {
   "cell_type": "code",
   "execution_count": 25,
   "id": "23d87ffe",
   "metadata": {},
   "outputs": [],
   "source": [
    "import matplotlib.pyplot as plt"
   ]
  },
  {
   "cell_type": "code",
   "execution_count": 26,
   "id": "f5427e43",
   "metadata": {},
   "outputs": [],
   "source": [
    "from scipy.special import expit"
   ]
  },
  {
   "cell_type": "code",
   "execution_count": 27,
   "id": "ba10be79-7c26-43e3-a586-72f138d2e01f",
   "metadata": {},
   "outputs": [],
   "source": [
    "from datetime import datetime "
   ]
  },
  {
   "cell_type": "code",
   "execution_count": 28,
   "id": "f88c5443-fe08-4fa9-a5df-73d07b2cc0b5",
   "metadata": {},
   "outputs": [],
   "source": [
    "doc2vec_dbow = gensim.models.doc2vec.Doc2Vec.load(r\"..//Data_Generation//doc2vec_dbow\")"
   ]
  },
  {
   "cell_type": "code",
   "execution_count": 29,
   "id": "2378e359-92f7-433c-b98e-53eb2b656101",
   "metadata": {},
   "outputs": [],
   "source": [
    "def rep_one(idx, inflation_factor = 0.2, cutoff = 600): \n",
    "\n",
    "#     from scipy.special import expit\n",
    "    patience_smaller = 0\n",
    "    patience_uns = 0\n",
    "# patience_bigger = 0\n",
    "\n",
    "#     best_train_acc = 0\n",
    "#     best_valid_acc = 1000\n",
    "\n",
    "#     best_valid_mae = 10\n",
    "    \n",
    "    best_train_width = 100\n",
    "\n",
    "    \n",
    "    # best_width_train = 100\n",
    "    \n",
    "    threshold_achieved = False\n",
    "\n",
    "    best_coverage_train = 0\n",
    "    \n",
    "    train_valid_seqs = np.vstack((catch[idx][0], catch[idx][1]))\n",
    "    # train_valid_labels = np.vstack((y_train, y_valid))\n",
    "    \n",
    "    test_seqs = catch[idx][2]\n",
    "\n",
    "    \n",
    "    start = datetime.now()\n",
    "    \n",
    "    base_model = tf.keras.models.load_model(\"..//Data_Generation//LSTM_Heavy_Dropout//Real_World_Second_LSTM_Models_Heavy_Dropout\" + \"//\" + \"Model_\" + str(idx))\n",
    "    ens_model = attention_lstm_model(rate, True)\n",
    "    ens_model.set_weights(base_model.get_weights())\n",
    "    \n",
    "            \n",
    "    all_preds1 = [np.array(ens_model(train_valid_seqs)) for i in (range(0, bnn_reps))]\n",
    "    all_preds1 = np.hstack(all_preds1)\n",
    "\n",
    "    all_preds2 = expit(all_preds1)\n",
    "    all_preds3 = all_preds2.mean(1).reshape(-1,1)\n",
    "        \n",
    "        \n",
    "\n",
    "    li = np.percentile(all_preds2, axis = 1, q = (2.5, 97.5))[0,:].reshape(-1,1)\n",
    "            \n",
    "    ui = np.percentile(all_preds2, axis = 1, q = (2.5, 97.5))[1,:].reshape(-1,1)\n",
    "            \n",
    "    width = ui - li\n",
    "            \n",
    "    avg_width_train = np.mean(width)\n",
    "        \n",
    "    interim = expit(np.vstack((catch_train_logits[idx], catch_valid_logits[idx])))\n",
    "        \n",
    "    train_mae = np.mean(np.abs(interim.ravel() - all_preds3.ravel()))\n",
    "        \n",
    "            \n",
    "    temp = interim\n",
    "            \n",
    "    ind = (temp >= li) & (temp <= ui)\n",
    "            \n",
    "    coverage_train= np.mean(ind.ravel())  \n",
    "            \n",
    "            \n",
    "    all_preds1 = [np.array(ens_model(test_seqs)) for i in (range(0, bnn_reps))]\n",
    "    all_preds1 = np.hstack(all_preds1)\n",
    "    all_preds2 = expit(all_preds1)\n",
    "    all_preds3 = all_preds2.mean(1).reshape(-1,1)\n",
    "            \n",
    "    li = np.percentile(all_preds2, axis = 1, q = (2.5, 97.5))[0,:].reshape(-1,1)\n",
    "            \n",
    "    ui = np.percentile(all_preds2, axis = 1, q = (2.5, 97.5))[1,:].reshape(-1,1)\n",
    "            \n",
    "    width = ui - li\n",
    "            \n",
    "    avg_width = np.mean(width)\n",
    "        \n",
    "    catch_test_probs = expit(catch_test_logits[idx])\n",
    "            \n",
    "    ind_test = (catch_test_probs >= li) & (catch_test_probs <= ui)\n",
    "               \n",
    " \n",
    "    coverage_test = np.mean(ind_test.ravel())    \n",
    "    \n",
    "    test_mae = np.mean(np.abs(catch_test_probs.ravel() - all_preds3.ravel()))\n",
    "            \n",
    "\n",
    "    \n",
    "\n",
    "    return coverage_train, coverage_test, avg_width_train, avg_width\n",
    "        \n"
   ]
  },
  {
   "cell_type": "code",
   "execution_count": 30,
   "id": "fb2ae5fe-5ecd-4b45-a492-883966cf79e7",
   "metadata": {},
   "outputs": [],
   "source": [
    "catch1 = second_lstm"
   ]
  },
  {
   "cell_type": "code",
   "execution_count": 31,
   "id": "be0ee1ec",
   "metadata": {},
   "outputs": [],
   "source": [
    "# catch1[0][0]"
   ]
  },
  {
   "cell_type": "code",
   "execution_count": 32,
   "id": "fb492324",
   "metadata": {},
   "outputs": [],
   "source": [
    "# catch_train_logits_second[0]"
   ]
  },
  {
   "cell_type": "code",
   "execution_count": 33,
   "id": "9cf12935",
   "metadata": {},
   "outputs": [],
   "source": [
    "def expit(x):\n",
    "    \"\"\"Compute softmax values for each sets of scores in x.\"\"\"\n",
    "#     e_x = np.exp(x - np.max(x))\n",
    "    return 1 / (1 + np.exp(-x))"
   ]
  },
  {
   "cell_type": "code",
   "execution_count": 34,
   "id": "ef051014",
   "metadata": {},
   "outputs": [],
   "source": [
    "from scipy.stats import gamma"
   ]
  },
  {
   "cell_type": "code",
   "execution_count": 35,
   "id": "07cb7b8c-4634-46e7-ab75-e865c7116995",
   "metadata": {},
   "outputs": [],
   "source": [
    "# second_lstm[0]"
   ]
  },
  {
   "cell_type": "code",
   "execution_count": 36,
   "id": "107be4f2-7350-45cb-b00f-ce242ca16f87",
   "metadata": {},
   "outputs": [],
   "source": [
    "cur_idx =30"
   ]
  },
  {
   "cell_type": "code",
   "execution_count": 37,
   "id": "bca25306-fb43-479f-96f2-a3c55c984ee0",
   "metadata": {},
   "outputs": [],
   "source": [
    "# uns_iter_threshold = 30\n",
    "# threshold = 20\n",
    "# cutoff_threshold = 50"
   ]
  },
  {
   "cell_type": "code",
   "execution_count": 38,
   "id": "4c8965a0-55b0-4188-af15-1ea906d3e6c0",
   "metadata": {},
   "outputs": [],
   "source": [
    "# var_targets = 0.0001\n",
    "# rate = 0.5\n",
    "# bnn_reps = 50"
   ]
  },
  {
   "cell_type": "code",
   "execution_count": 39,
   "id": "58be9365-d3a9-40d6-bc0c-d4da6cbb864a",
   "metadata": {},
   "outputs": [],
   "source": [
    "# coverage_train, coverage_test, avg_width_train, avg_width "
   ]
  },
  {
   "cell_type": "code",
   "execution_count": 40,
   "id": "c319e243-394f-4dc8-8af3-db37ed80811e",
   "metadata": {},
   "outputs": [],
   "source": [
    "coverage_train, coverage_test, avg_width_train, avg_width  = rep_one(cur_idx)"
   ]
  },
  {
   "cell_type": "code",
   "execution_count": 41,
   "id": "a180a64d-57f5-4a8b-9353-f923f47f0ede",
   "metadata": {},
   "outputs": [],
   "source": [
    "# best_coverage, best_test_coverage, avg_width = rep_one(cur_idx, second_lstm[cur_idx][0], second_lstm[cur_idx][1], second_lstm[cur_idx][2])"
   ]
  },
  {
   "cell_type": "code",
   "execution_count": 42,
   "id": "2b347dd0-3d11-450a-846f-11672e0f9854",
   "metadata": {},
   "outputs": [],
   "source": [
    "# best_train_coverage, best_test_coverage, best_train_width, best_test_width, avg_lstm_weight, exit_iter, exit_status, mins_taken"
   ]
  },
  {
   "cell_type": "code",
   "execution_count": 43,
   "id": "939e77e3-e29f-4d62-b141-10c2edda5205",
   "metadata": {},
   "outputs": [],
   "source": [
    "# best_train_coverage, best_test_coverage, best_train_width, best_test_width"
   ]
  },
  {
   "cell_type": "code",
   "execution_count": 44,
   "id": "b1322704-6836-43b6-9777-97501050b15d",
   "metadata": {},
   "outputs": [],
   "source": [
    "# best_initial_targets_softmax.shape[1]"
   ]
  },
  {
   "cell_type": "code",
   "execution_count": 45,
   "id": "a8c79ef5-713a-4d91-baf5-686dad6fb7ab",
   "metadata": {},
   "outputs": [],
   "source": [
    "# random.seed(42)\n",
    "# random_range = random.sample(range(0,best_initial_targets_test.shape[1]), k = 20)"
   ]
  },
  {
   "cell_type": "code",
   "execution_count": 46,
   "id": "7318795a-840a-4e80-b305-9ed644491588",
   "metadata": {},
   "outputs": [],
   "source": [
    "# random_range"
   ]
  },
  {
   "cell_type": "code",
   "execution_count": 47,
   "id": "f6112119-471c-4d3a-b506-cb2bc45b944e",
   "metadata": {},
   "outputs": [],
   "source": [
    "# import arviz as az\n",
    "# a = norm.rvs(size=10000)\n",
    "# # from hpd import hpd_grid\n",
    "# ci_95 = az.hdi(a, hdi_prob=0.95)\n",
    "# intervals, x, y, modes = hpd_grid(a, alpha=0.05)"
   ]
  },
  {
   "cell_type": "code",
   "execution_count": 48,
   "id": "37067474-4d72-4b78-a179-ee583b92d62e",
   "metadata": {},
   "outputs": [],
   "source": [
    "# expit(az.hdi(best_initial_targets_test[:, i, :], hdi_prob=0.95))"
   ]
  },
  {
   "cell_type": "code",
   "execution_count": 49,
   "id": "dd88561e-e265-42a7-89e4-74cd0f80a400",
   "metadata": {},
   "outputs": [],
   "source": [
    "# .shape"
   ]
  },
  {
   "cell_type": "code",
   "execution_count": 50,
   "id": "1c6ab0ec-fd6b-4eda-bb06-e8763fb1eccf",
   "metadata": {},
   "outputs": [],
   "source": [
    "# fig, axes = plt.subplots(5, 4, figsize=(10, 10))\n",
    "# axes = axes.flatten()\n",
    "# counter = 0\n",
    "# for i in random_range: \n",
    "# #     plt.figure(figsize = (10, 10))\n",
    "#     axes[counter].hist(best_initial_targets_test[:, i, :])\n",
    "#     axes[counter].axvline(x= catch_test_logits[cur_idx][i], color = \"red\")\n",
    "#     u, l = np.percentile(best_initial_targets_test[:, i, :], q = (2.5, 97.5))\n",
    "#     axes[counter].axvline(x= u, color = \"green\")\n",
    "#     axes[counter].axvline(x= l, color = \"green\")    \n",
    "#     # ax[1].hist(soft_train[:, i, :][:,1])\n",
    "#     # ax[1].axvline(x= X_train_logits_true[i][1], color = \"red\")\n",
    "# #     ax[2].hist(soft_train[:, i, :][:,2])\n",
    "# #     ax[2].axvline(x= X_train_logits_true[i][2], color = \"red\")    \n",
    "#     counter += 1\n",
    "#     # plt.show()"
   ]
  },
  {
   "cell_type": "code",
   "execution_count": 51,
   "id": "e5ffc1f6-8bdb-4094-af42-515f3f7349a7",
   "metadata": {},
   "outputs": [],
   "source": [
    "# fig, axes = plt.subplots(5, 4, figsize=(10, 10))\n",
    "# axes = axes.flatten()\n",
    "# counter = 0\n",
    "# for i in random_range: \n",
    "# #     plt.figure(figsize = (10, 10))\n",
    "#     axes[counter].hist(best_initial_targets_softmax[:, i, :])\n",
    "#     axes[counter].axvline(x= catch_test_probs[cur_idx][i], color = \"red\")\n",
    "#     u, l = np.percentile(best_initial_targets_softmax[:, i, :], q = (2.5, 97.5))\n",
    "#     axes[counter].axvline(x= u, color = \"green\")\n",
    "#     axes[counter].axvline(x= l, color = \"green\")\n",
    "#     # ax[1].hist(soft_train[:, i, :][:,1])\n",
    "#     # ax[1].axvline(x= X_train_logits_true[i][1], color = \"red\")\n",
    "# #     ax[2].hist(soft_train[:, i, :][:,2])\n",
    "# #     ax[2].axvline(x= X_train_logits_true[i][2], color = \"red\")    \n",
    "#     counter += 1\n",
    "#     # plt.show()"
   ]
  },
  {
   "cell_type": "code",
   "execution_count": 52,
   "id": "99a723c6",
   "metadata": {},
   "outputs": [
    {
     "name": "stderr",
     "output_type": "stream",
     "text": [
      "[Parallel(n_jobs=15)]: Using backend LokyBackend with 15 concurrent workers.\n",
      "[Parallel(n_jobs=15)]: Done   2 tasks      | elapsed:   16.6s\n",
      "[Parallel(n_jobs=15)]: Done  11 tasks      | elapsed:   19.2s\n",
      "[Parallel(n_jobs=15)]: Done  20 tasks      | elapsed:   32.0s\n",
      "[Parallel(n_jobs=15)]: Done  27 out of  50 | elapsed:   34.9s remaining:   29.8s\n",
      "[Parallel(n_jobs=15)]: Done  33 out of  50 | elapsed:   45.2s remaining:   23.3s\n",
      "[Parallel(n_jobs=15)]: Done  39 out of  50 | elapsed:   48.4s remaining:   13.6s\n",
      "[Parallel(n_jobs=15)]: Done  45 out of  50 | elapsed:   51.3s remaining:    5.7s\n",
      "[Parallel(n_jobs=15)]: Done  50 out of  50 | elapsed:  1.0min finished\n"
     ]
    }
   ],
   "source": [
    "catch_coverages = Parallel(n_jobs=15, verbose = 10, backend = \"loky\")(delayed(rep_one)(i) for i in range(reps))"
   ]
  },
  {
   "cell_type": "code",
   "execution_count": 53,
   "id": "1e8200e5-b784-49c8-9ae9-fd7ee5a2e71d",
   "metadata": {},
   "outputs": [],
   "source": [
    "# catch_coverages"
   ]
  },
  {
   "cell_type": "code",
   "execution_count": 54,
   "id": "647980a7-9ae3-4c5c-b25c-2e37b6a84679",
   "metadata": {},
   "outputs": [],
   "source": [
    "check = pd.DataFrame(catch_coverages)"
   ]
  },
  {
   "cell_type": "code",
   "execution_count": 55,
   "id": "fa101efc-351b-4645-87a3-f008abf1ff3d",
   "metadata": {},
   "outputs": [],
   "source": [
    "# check"
   ]
  },
  {
   "cell_type": "code",
   "execution_count": 56,
   "id": "77536655-0afd-4976-980a-fa7a28b55201",
   "metadata": {},
   "outputs": [],
   "source": [
    "check.columns = [\"train_coverage\", \"test_coverage\", \"avg_ci_width_train\", \"avg_ci_width_test\"]"
   ]
  },
  {
   "cell_type": "code",
   "execution_count": 57,
   "id": "4fc1dcac-24b2-45e7-ae4c-e55eca90a6c6",
   "metadata": {},
   "outputs": [],
   "source": [
    "# check.columns = [\"train_coverage\", \"test_coverage\", \"avg_ci_width_train\", \"avg_ci_width_test\", \"avg_lstm_weight\"]"
   ]
  },
  {
   "cell_type": "code",
   "execution_count": 58,
   "id": "ead27b05-299e-49dc-bb97-236a18cd05e5",
   "metadata": {},
   "outputs": [],
   "source": [
    "# check"
   ]
  },
  {
   "cell_type": "code",
   "execution_count": 59,
   "id": "ddb8e056-7721-487d-9764-eee11fce3445",
   "metadata": {},
   "outputs": [],
   "source": [
    "# es = check[[\"exit_status\"]].value_counts().reset_index()"
   ]
  },
  {
   "cell_type": "code",
   "execution_count": 60,
   "id": "95d71865-e7f8-4369-b057-db6f06ab0d10",
   "metadata": {},
   "outputs": [],
   "source": [
    "# es.columns = [\"exit_status\", \"frequency\"]"
   ]
  },
  {
   "cell_type": "code",
   "execution_count": 61,
   "id": "1fe8c393-4728-443c-a448-a1c12da5cbad",
   "metadata": {},
   "outputs": [],
   "source": [
    "# es.to_csv(\"exit_status_MCD_LSTM_Doc2Vec_\" + \"rate_\" + str(rate) + \"_bnn_reps_\" + str(bnn_reps) + \".csv\", index = False)"
   ]
  },
  {
   "cell_type": "code",
   "execution_count": 62,
   "id": "8d22f4de-6617-402c-8e45-42f4fd668269",
   "metadata": {},
   "outputs": [],
   "source": [
    "# check = check.drop([\"exit_status\"],1)"
   ]
  },
  {
   "cell_type": "code",
   "execution_count": 63,
   "id": "48be9e74-4d3c-4848-a5eb-6830bc11dfc5",
   "metadata": {},
   "outputs": [],
   "source": [
    "check_mean = check.mean(0).reset_index()"
   ]
  },
  {
   "cell_type": "code",
   "execution_count": 64,
   "id": "1a209afc-6752-4449-8e7b-53790d143148",
   "metadata": {},
   "outputs": [],
   "source": [
    "check_mean.columns = [\"metrics\", \"value\"]"
   ]
  },
  {
   "cell_type": "code",
   "execution_count": 65,
   "id": "471094f4-a80d-4843-81c9-c7c3cafacae7",
   "metadata": {},
   "outputs": [
    {
     "data": {
      "text/html": [
       "<div>\n",
       "<style scoped>\n",
       "    .dataframe tbody tr th:only-of-type {\n",
       "        vertical-align: middle;\n",
       "    }\n",
       "\n",
       "    .dataframe tbody tr th {\n",
       "        vertical-align: top;\n",
       "    }\n",
       "\n",
       "    .dataframe thead th {\n",
       "        text-align: right;\n",
       "    }\n",
       "</style>\n",
       "<table border=\"1\" class=\"dataframe\">\n",
       "  <thead>\n",
       "    <tr style=\"text-align: right;\">\n",
       "      <th></th>\n",
       "      <th>metrics</th>\n",
       "      <th>value</th>\n",
       "    </tr>\n",
       "  </thead>\n",
       "  <tbody>\n",
       "    <tr>\n",
       "      <th>0</th>\n",
       "      <td>train_coverage</td>\n",
       "      <td>0.813333</td>\n",
       "    </tr>\n",
       "    <tr>\n",
       "      <th>1</th>\n",
       "      <td>test_coverage</td>\n",
       "      <td>0.842500</td>\n",
       "    </tr>\n",
       "    <tr>\n",
       "      <th>2</th>\n",
       "      <td>avg_ci_width_train</td>\n",
       "      <td>0.544398</td>\n",
       "    </tr>\n",
       "    <tr>\n",
       "      <th>3</th>\n",
       "      <td>avg_ci_width_test</td>\n",
       "      <td>0.554002</td>\n",
       "    </tr>\n",
       "  </tbody>\n",
       "</table>\n",
       "</div>"
      ],
      "text/plain": [
       "              metrics     value\n",
       "0      train_coverage  0.813333\n",
       "1       test_coverage  0.842500\n",
       "2  avg_ci_width_train  0.544398\n",
       "3   avg_ci_width_test  0.554002"
      ]
     },
     "execution_count": 65,
     "metadata": {},
     "output_type": "execute_result"
    }
   ],
   "source": [
    "check_mean"
   ]
  },
  {
   "cell_type": "code",
   "execution_count": 66,
   "id": "cc1ce72a-636c-41af-8cb2-9b93acd820a3",
   "metadata": {},
   "outputs": [],
   "source": [
    "check_mean.to_csv(\"mean_metrics_MCD_Just_LSTM\" + \"rate\" + str(rate) + \"_bnn_reps_\" + str(bnn_reps) +  \".csv\", index = False)"
   ]
  },
  {
   "cell_type": "code",
   "execution_count": 67,
   "id": "a4e9b60b-2887-430d-b77b-ad0fc442d926",
   "metadata": {},
   "outputs": [],
   "source": [
    "check_std = check.std(0).reset_index()"
   ]
  },
  {
   "cell_type": "code",
   "execution_count": 68,
   "id": "40cac1af-b4a0-4a07-8204-b8bc9f0d8dea",
   "metadata": {},
   "outputs": [],
   "source": [
    "check_std.columns = [\"metrics\", \"value\"]"
   ]
  },
  {
   "cell_type": "code",
   "execution_count": 69,
   "id": "05eac583-9f15-43d6-b18c-e20a89d443b9",
   "metadata": {},
   "outputs": [],
   "source": [
    "check_std.to_csv(\"std_dev_metrics_MCD_Just_LSTM_\" + \"rate\" + str(rate) + \"_bnn_reps_\" + str(bnn_reps)+  \".csv\", index = False)"
   ]
  },
  {
   "cell_type": "code",
   "execution_count": 70,
   "id": "f547c9a6-4eed-460e-ade6-8b0f962885b8",
   "metadata": {},
   "outputs": [],
   "source": [
    "# check.std(0)/np.sqrt(reps)"
   ]
  },
  {
   "cell_type": "code",
   "execution_count": 71,
   "id": "0aed4c51-8860-4423-ad7b-d634bd950b3c",
   "metadata": {},
   "outputs": [],
   "source": [
    "# import plotly.express as px\n",
    "# # df = px.data.tips()\n",
    "# fig = px.histogram(check_melt, x=\"variable\", color=\"value\")\n",
    "# fig.show()"
   ]
  },
  {
   "cell_type": "code",
   "execution_count": 72,
   "id": "52816d03",
   "metadata": {},
   "outputs": [],
   "source": [
    "# rep_one(0, second_lstm[0][0], second_lstm[0][1], second_lstm[0][2])"
   ]
  },
  {
   "cell_type": "code",
   "execution_count": 73,
   "id": "1ab57b90",
   "metadata": {},
   "outputs": [],
   "source": [
    "# rep_one(1, second_pred_train_logits[i], second_pred_valid_logits[i], second_pred_test_logits[i])"
   ]
  },
  {
   "cell_type": "code",
   "execution_count": 74,
   "id": "7ec6b6f0",
   "metadata": {},
   "outputs": [],
   "source": [
    "# rep_one(3, second_pred_train_logits[i], second_pred_valid_logits[i], second_pred_test_logits[i])"
   ]
  },
  {
   "cell_type": "code",
   "execution_count": 75,
   "id": "85e4fcba",
   "metadata": {
    "scrolled": true
   },
   "outputs": [],
   "source": [
    "# catch_all = []\n",
    "\n",
    "# for i in range(reps): \n",
    "#     catch_all.append(rep_one(i, second_pred_train_logits[i], second_pred_valid_logits[i], second_pred_test_logits[i])[0])"
   ]
  },
  {
   "cell_type": "code",
   "execution_count": 76,
   "id": "f1ad7b06",
   "metadata": {},
   "outputs": [],
   "source": [
    "# catch_all"
   ]
  },
  {
   "cell_type": "code",
   "execution_count": 77,
   "id": "d94a8d31",
   "metadata": {},
   "outputs": [],
   "source": [
    "# np.mean(catch_all)"
   ]
  },
  {
   "cell_type": "code",
   "execution_count": 78,
   "id": "be901ed5",
   "metadata": {},
   "outputs": [],
   "source": [
    "# np.std(catch_all)/np.sqrt(reps)"
   ]
  },
  {
   "cell_type": "code",
   "execution_count": null,
   "id": "fcf69748",
   "metadata": {},
   "outputs": [],
   "source": []
  },
  {
   "cell_type": "code",
   "execution_count": 79,
   "id": "162059fd",
   "metadata": {},
   "outputs": [],
   "source": [
    "# catch_coverages = []\n",
    "# for i in tqdm(range(reps)): \n",
    "#     best_coverage, best_train_acc, best_valid_acc, best_test_acc = rep_one(i, second_lstm[i][0], second_lstm[i][1], second_lstm[i][2])\n",
    "#     print(best_coverage, best_train_acc, best_valid_acc, best_test_acc)\n",
    "#     catch_coverages.append([best_coverage, best_train_acc, best_valid_acc, best_test_acc])"
   ]
  }
 ],
 "metadata": {
  "kernelspec": {
   "display_name": "enkf",
   "language": "python",
   "name": "enkf"
  },
  "language_info": {
   "codemirror_mode": {
    "name": "ipython",
    "version": 3
   },
   "file_extension": ".py",
   "mimetype": "text/x-python",
   "name": "python",
   "nbconvert_exporter": "python",
   "pygments_lexer": "ipython3",
   "version": "3.10.8"
  }
 },
 "nbformat": 4,
 "nbformat_minor": 5
}
