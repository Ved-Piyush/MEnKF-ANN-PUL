{
 "cells": [
  {
   "cell_type": "code",
   "execution_count": 42,
   "id": "d7ab5bf3",
   "metadata": {},
   "outputs": [],
   "source": [
    "import pandas as pd\n",
    "from tqdm import tqdm\n",
    "import gensim\n",
    "import os\n",
    "os.environ['TF_CPP_MIN_LOG_LEVEL'] = '3' \n",
    "# os.chdir(r\"D://Proposal_Defense//Simulations\")\n",
    "from Utils.Script_utils import get_data_splits, first_LSTM_training, get_data_splits_old_algo\n",
    "from joblib import Parallel, delayed\n",
    "import sys\n",
    "from scipy.stats import norm"
   ]
  },
  {
   "cell_type": "code",
   "execution_count": 43,
   "id": "36084258",
   "metadata": {},
   "outputs": [
    {
     "name": "stdout",
     "output_type": "stream",
     "text": [
      "No GPU found\n"
     ]
    }
   ],
   "source": [
    "# Seed value\n",
    "# Apparently you may use different seed values at each stage\n",
    "seed_value= 42\n",
    "\n",
    "# 1. Set the `PYTHONHASHSEED` environment variable at a fixed value\n",
    "import os\n",
    "os.environ['PYTHONHASHSEED']=str(seed_value)\n",
    "\n",
    "# 2. Set the `python` built-in pseudo-random generator at a fixed value\n",
    "import random\n",
    "random.seed(seed_value)\n",
    "\n",
    "# 3. Set the `numpy` pseudo-random generator at a fixed value\n",
    "import numpy as np\n",
    "np.random.seed(seed_value)\n",
    "\n",
    "# # 4. Set the `tensorflow` pseudo-random generator at a fixed value\n",
    "import tensorflow as tf\n",
    "os.environ['CUDA_VISIBLE_DEVICES'] = '-1'\n",
    "\n",
    "if tf.test.gpu_device_name():\n",
    "    print('GPU found')\n",
    "else:\n",
    "    print(\"No GPU found\")\n",
    "# tf.config.set_visible_devices([], 'GPU')\n",
    "\n",
    "from tqdm.notebook import tqdm\n",
    "tf.random.set_seed(seed_value)\n",
    "# for later versions: \n",
    "# tf.compat.v1.set_random_seed(seed_value)\n",
    "\n",
    "# 5. Configure a new global `tensorflow` session\n",
    "# from keras import backend as K\n",
    "# session_conf = tf.compat.v1.ConfigProto(intra_op_parallelism_threads=1, inter_op_parallelism_threads=1)\n",
    "# sess = tf.compat.v1.Session(graph=tf.compat.v1.get_default_graph(), config=session_conf)\n",
    "# K.set_session(sess)"
   ]
  },
  {
   "cell_type": "code",
   "execution_count": 44,
   "id": "e036b858",
   "metadata": {},
   "outputs": [],
   "source": [
    "import matplotlib.pyplot as plt\n",
    "\n",
    "import pickle"
   ]
  },
  {
   "cell_type": "code",
   "execution_count": 45,
   "id": "058ca9d0",
   "metadata": {},
   "outputs": [],
   "source": [
    "model_cbow = gensim.models.word2vec.Word2Vec.load(r\"word2vec_sg\")"
   ]
  },
  {
   "cell_type": "code",
   "execution_count": 46,
   "id": "72fbb06e",
   "metadata": {},
   "outputs": [],
   "source": [
    "lr = 1e-3\n",
    "# from sklearn.model_selection import train_test_split\n",
    "\n",
    "\n",
    "## Read the data\n",
    "data = pd.read_csv(r\"doc2vec_dbow.csv\")\n",
    "\n",
    "## We only using xylan and pectin\n",
    "to_keep = [\"pectin\", \"xylan\"]\n",
    "\n",
    "data = data[data[\"high_level_substr\"].isin(to_keep)]\n",
    "\n",
    "data = data.reset_index(drop = True)\n",
    "\n",
    "features = [seq.replace(\"|\", \",\").replace(\",\", \" \") for seq in data[\"sig_gene_seq\"].values]\n",
    "\n",
    "features  = np.array(features)\n",
    "\n",
    "features = features.reshape(-1,1)"
   ]
  },
  {
   "cell_type": "code",
   "execution_count": 47,
   "id": "d02c4f20-faf2-4e10-86f6-9ca8a295b770",
   "metadata": {},
   "outputs": [
    {
     "data": {
      "text/plain": [
       "pectin    39\n",
       "xylan     35\n",
       "Name: high_level_substr, dtype: int64"
      ]
     },
     "execution_count": 47,
     "metadata": {},
     "output_type": "execute_result"
    }
   ],
   "source": [
    "data[\"high_level_substr\"].value_counts()"
   ]
  },
  {
   "cell_type": "code",
   "execution_count": 48,
   "id": "2bf7066c-ea42-41bd-949d-293de7243bfc",
   "metadata": {},
   "outputs": [
    {
     "data": {
      "text/html": [
       "<div>\n",
       "<style scoped>\n",
       "    .dataframe tbody tr th:only-of-type {\n",
       "        vertical-align: middle;\n",
       "    }\n",
       "\n",
       "    .dataframe tbody tr th {\n",
       "        vertical-align: top;\n",
       "    }\n",
       "\n",
       "    .dataframe thead th {\n",
       "        text-align: right;\n",
       "    }\n",
       "</style>\n",
       "<table border=\"1\" class=\"dataframe\">\n",
       "  <thead>\n",
       "    <tr style=\"text-align: right;\">\n",
       "      <th></th>\n",
       "      <th>sig_gene_seq</th>\n",
       "      <th>high_level_substr</th>\n",
       "      <th>0</th>\n",
       "      <th>1</th>\n",
       "      <th>2</th>\n",
       "      <th>3</th>\n",
       "      <th>4</th>\n",
       "      <th>5</th>\n",
       "      <th>6</th>\n",
       "      <th>7</th>\n",
       "      <th>...</th>\n",
       "      <th>40</th>\n",
       "      <th>41</th>\n",
       "      <th>42</th>\n",
       "      <th>43</th>\n",
       "      <th>44</th>\n",
       "      <th>45</th>\n",
       "      <th>46</th>\n",
       "      <th>47</th>\n",
       "      <th>48</th>\n",
       "      <th>49</th>\n",
       "    </tr>\n",
       "  </thead>\n",
       "  <tbody>\n",
       "    <tr>\n",
       "      <th>0</th>\n",
       "      <td>null,null,HTH_DeoR,HTH_AraC|HTH_AraC,8.A.59,PL...</td>\n",
       "      <td>pectin</td>\n",
       "      <td>0.098224</td>\n",
       "      <td>-0.016721</td>\n",
       "      <td>0.340086</td>\n",
       "      <td>-0.103025</td>\n",
       "      <td>-0.108523</td>\n",
       "      <td>-0.186498</td>\n",
       "      <td>-0.142543</td>\n",
       "      <td>0.572389</td>\n",
       "      <td>...</td>\n",
       "      <td>0.169946</td>\n",
       "      <td>-0.143168</td>\n",
       "      <td>0.421863</td>\n",
       "      <td>0.088525</td>\n",
       "      <td>0.044629</td>\n",
       "      <td>0.218964</td>\n",
       "      <td>0.507033</td>\n",
       "      <td>-0.179407</td>\n",
       "      <td>-0.099657</td>\n",
       "      <td>0.128027</td>\n",
       "    </tr>\n",
       "    <tr>\n",
       "      <th>1</th>\n",
       "      <td>CE10,1.B.35</td>\n",
       "      <td>pectin</td>\n",
       "      <td>-0.114699</td>\n",
       "      <td>0.105488</td>\n",
       "      <td>0.111531</td>\n",
       "      <td>-0.116430</td>\n",
       "      <td>-0.133199</td>\n",
       "      <td>0.259120</td>\n",
       "      <td>0.133353</td>\n",
       "      <td>0.196669</td>\n",
       "      <td>...</td>\n",
       "      <td>-0.042859</td>\n",
       "      <td>0.027520</td>\n",
       "      <td>0.208792</td>\n",
       "      <td>-0.271193</td>\n",
       "      <td>0.064108</td>\n",
       "      <td>0.049114</td>\n",
       "      <td>-0.236957</td>\n",
       "      <td>0.039852</td>\n",
       "      <td>0.002365</td>\n",
       "      <td>0.016162</td>\n",
       "    </tr>\n",
       "    <tr>\n",
       "      <th>2</th>\n",
       "      <td>3.A.1,3.A.1,3.A.1,3.A.1,PL2_2</td>\n",
       "      <td>pectin</td>\n",
       "      <td>-0.278164</td>\n",
       "      <td>0.085645</td>\n",
       "      <td>0.272704</td>\n",
       "      <td>-0.028930</td>\n",
       "      <td>0.022241</td>\n",
       "      <td>0.520536</td>\n",
       "      <td>0.059369</td>\n",
       "      <td>0.058101</td>\n",
       "      <td>...</td>\n",
       "      <td>-0.059951</td>\n",
       "      <td>-0.108473</td>\n",
       "      <td>0.103364</td>\n",
       "      <td>-0.210818</td>\n",
       "      <td>0.063985</td>\n",
       "      <td>-0.065916</td>\n",
       "      <td>-0.171995</td>\n",
       "      <td>-0.132060</td>\n",
       "      <td>-0.036154</td>\n",
       "      <td>-0.029065</td>\n",
       "    </tr>\n",
       "    <tr>\n",
       "      <th>3</th>\n",
       "      <td>MarR,null,null,AraC_binding,null,null,PfkB,nul...</td>\n",
       "      <td>pectin</td>\n",
       "      <td>-0.195133</td>\n",
       "      <td>-0.111228</td>\n",
       "      <td>0.434263</td>\n",
       "      <td>-0.097529</td>\n",
       "      <td>-0.028071</td>\n",
       "      <td>0.497665</td>\n",
       "      <td>0.207075</td>\n",
       "      <td>0.449561</td>\n",
       "      <td>...</td>\n",
       "      <td>0.175302</td>\n",
       "      <td>0.190835</td>\n",
       "      <td>0.102370</td>\n",
       "      <td>-0.651666</td>\n",
       "      <td>-0.101355</td>\n",
       "      <td>-0.007362</td>\n",
       "      <td>-0.107131</td>\n",
       "      <td>-0.218027</td>\n",
       "      <td>0.537375</td>\n",
       "      <td>0.115762</td>\n",
       "    </tr>\n",
       "    <tr>\n",
       "      <th>4</th>\n",
       "      <td>PL10_1,CE8,PL11</td>\n",
       "      <td>pectin</td>\n",
       "      <td>-0.289301</td>\n",
       "      <td>0.035218</td>\n",
       "      <td>0.544027</td>\n",
       "      <td>0.116612</td>\n",
       "      <td>-0.201045</td>\n",
       "      <td>0.170767</td>\n",
       "      <td>-0.295381</td>\n",
       "      <td>0.142336</td>\n",
       "      <td>...</td>\n",
       "      <td>-0.043412</td>\n",
       "      <td>0.048884</td>\n",
       "      <td>0.392662</td>\n",
       "      <td>-0.174932</td>\n",
       "      <td>0.163090</td>\n",
       "      <td>0.252030</td>\n",
       "      <td>0.078837</td>\n",
       "      <td>-0.145878</td>\n",
       "      <td>0.054710</td>\n",
       "      <td>-0.264735</td>\n",
       "    </tr>\n",
       "  </tbody>\n",
       "</table>\n",
       "<p>5 rows × 52 columns</p>\n",
       "</div>"
      ],
      "text/plain": [
       "                                        sig_gene_seq high_level_substr  \\\n",
       "0  null,null,HTH_DeoR,HTH_AraC|HTH_AraC,8.A.59,PL...            pectin   \n",
       "1                                        CE10,1.B.35            pectin   \n",
       "2                      3.A.1,3.A.1,3.A.1,3.A.1,PL2_2            pectin   \n",
       "3  MarR,null,null,AraC_binding,null,null,PfkB,nul...            pectin   \n",
       "4                                    PL10_1,CE8,PL11            pectin   \n",
       "\n",
       "          0         1         2         3         4         5         6  \\\n",
       "0  0.098224 -0.016721  0.340086 -0.103025 -0.108523 -0.186498 -0.142543   \n",
       "1 -0.114699  0.105488  0.111531 -0.116430 -0.133199  0.259120  0.133353   \n",
       "2 -0.278164  0.085645  0.272704 -0.028930  0.022241  0.520536  0.059369   \n",
       "3 -0.195133 -0.111228  0.434263 -0.097529 -0.028071  0.497665  0.207075   \n",
       "4 -0.289301  0.035218  0.544027  0.116612 -0.201045  0.170767 -0.295381   \n",
       "\n",
       "          7  ...        40        41        42        43        44        45  \\\n",
       "0  0.572389  ...  0.169946 -0.143168  0.421863  0.088525  0.044629  0.218964   \n",
       "1  0.196669  ... -0.042859  0.027520  0.208792 -0.271193  0.064108  0.049114   \n",
       "2  0.058101  ... -0.059951 -0.108473  0.103364 -0.210818  0.063985 -0.065916   \n",
       "3  0.449561  ...  0.175302  0.190835  0.102370 -0.651666 -0.101355 -0.007362   \n",
       "4  0.142336  ... -0.043412  0.048884  0.392662 -0.174932  0.163090  0.252030   \n",
       "\n",
       "         46        47        48        49  \n",
       "0  0.507033 -0.179407 -0.099657  0.128027  \n",
       "1 -0.236957  0.039852  0.002365  0.016162  \n",
       "2 -0.171995 -0.132060 -0.036154 -0.029065  \n",
       "3 -0.107131 -0.218027  0.537375  0.115762  \n",
       "4  0.078837 -0.145878  0.054710 -0.264735  \n",
       "\n",
       "[5 rows x 52 columns]"
      ]
     },
     "execution_count": 48,
     "metadata": {},
     "output_type": "execute_result"
    }
   ],
   "source": [
    "data.head()"
   ]
  },
  {
   "cell_type": "code",
   "execution_count": 49,
   "id": "88bbd17f",
   "metadata": {},
   "outputs": [],
   "source": [
    "reps = 50"
   ]
  },
  {
   "cell_type": "code",
   "execution_count": 50,
   "id": "440c1a52",
   "metadata": {},
   "outputs": [],
   "source": [
    "## generate 100 realizations of train valid and test\n",
    "# catch = Parallel(n_jobs=15, verbose = 10, backend = \"loky\")(delayed(get_data_splits_old_algo)(data,  features,  i) for i in range(reps)) "
   ]
  },
  {
   "cell_type": "code",
   "execution_count": 51,
   "id": "ec3e533a-25bf-4d79-92d4-70f6ef41731e",
   "metadata": {},
   "outputs": [],
   "source": [
    "# os.getcwd()"
   ]
  },
  {
   "cell_type": "code",
   "execution_count": 52,
   "id": "dc2a3de8-96a4-4ee8-89bf-8f15e7499b7e",
   "metadata": {},
   "outputs": [],
   "source": [
    "with open('true_data_doc2vec_lstm_var_0.0001.pkl', 'rb') as f:\n",
    "    catch = pickle.load(f)\n",
    "\n",
    "\n",
    "# with open('true_data_lstm.pkl', 'rb') as f:\n",
    "#     catch = pickle.load(f)  "
   ]
  },
  {
   "cell_type": "code",
   "execution_count": 53,
   "id": "55f0f415",
   "metadata": {},
   "outputs": [],
   "source": [
    "def attention_lstm_model(rate, training): \n",
    "    padding_vector = np.zeros((1, model_cbow.wv.vectors.shape[1]))\n",
    "    unknown_vector = np.zeros((1, model_cbow.wv.vectors.shape[1]))\n",
    "    weight_vectors = np.vstack((padding_vector, unknown_vector))\n",
    "    weight_vectors = np.vstack((weight_vectors, model_cbow.wv.vectors))\n",
    "    embedding_layer = tf.keras.layers.Embedding(len(weight_vectors),\n",
    "                            weight_vectors.shape[1],\n",
    "                            weights=[weight_vectors],\n",
    "                            mask_zero = False,\n",
    "                            trainable=False)\n",
    "\n",
    "    \n",
    "    vectorize_layer = tf.keras.layers.TextVectorization(\n",
    "                     output_mode='int',\n",
    "                     vocabulary=model_cbow.wv.index_to_key, \n",
    "                     standardize = None)\n",
    "    \n",
    "    input_layer = tf.keras.layers.Input(shape = (1,), dtype = tf.string)\n",
    "\n",
    "    vectorize = vectorize_layer(input_layer)\n",
    "\n",
    "    vectorize.shape\n",
    "\n",
    "    emb_output = embedding_layer(vectorize)\n",
    "\n",
    "    emb_output.shape\n",
    "    \n",
    "    # spatial_drop = tf.keras.layers.SpatialDropout1D(rate)\n",
    "    \n",
    "    # spatial_out = spatial_drop(emb_output, training = training)\n",
    "\n",
    "    lstm_layer = tf.keras.layers.LSTM(25, return_sequences = True, dropout =rate)\n",
    "\n",
    "    lstm_output = lstm_layer(emb_output, training = training)\n",
    "\n",
    "#     x_a = tf.keras.layers.Dense(lstm_output.get_shape()[-1]//2, kernel_initializer = 'glorot_uniform', activation=\"tanh\", name=\"tanh_mlp\")(lstm_output) \n",
    "    \n",
    "    # x_a = tf.keras.layers.SpatialDropout1D(0.75)(lstm_output, training = training)\n",
    "    \n",
    "    x_a = tf.keras.layers.Dense(1, kernel_initializer = 'glorot_uniform', activation='linear', name=\"word-level_context\", kernel_regularizer=tf.keras.regularizers.L2())(lstm_output)\n",
    "\n",
    "    x_a = tf.keras.layers.Flatten()(x_a)\n",
    "\n",
    "    att_out = tf.keras.layers.Activation('softmax')(x_a) \n",
    "\n",
    "    x_a2 = tf.keras.layers.RepeatVector(lstm_output.get_shape()[-1])(att_out)\n",
    "\n",
    "    x_a2 = tf.keras.layers.Permute([2,1])(x_a2)\n",
    "\n",
    "    out = tf.keras.layers.Multiply()([lstm_output,x_a2])\n",
    "    \n",
    "    out = tf.keras.layers.Lambda(lambda x : tf.math.reduce_sum(x, axis = 1), name='expectation_over_words')(out)\n",
    "    \n",
    "    dropout_layer = tf.keras.layers.Dropout(rate)(out, training = training)\n",
    "\n",
    "    pred_head = tf.keras.layers.Dense(1, kernel_regularizer=tf.keras.regularizers.L2())\n",
    "\n",
    "    pred_output = pred_head(dropout_layer)\n",
    "\n",
    "    model = tf.keras.models.Model(input_layer, pred_output)\n",
    "    \n",
    "    model.compile(loss = tf.keras.losses.BinaryCrossentropy(from_logits=True), \n",
    "                 optimizer = tf.keras.optimizers.Adam(learning_rate = lr), \n",
    "                 metrics=tf.keras.metrics.BinaryAccuracy())\n",
    "    \n",
    "    return model"
   ]
  },
  {
   "cell_type": "code",
   "execution_count": 54,
   "id": "f8d97121",
   "metadata": {},
   "outputs": [],
   "source": [
    "# def first_LSTM_training(idx):\n",
    "\n",
    "#     first_lstm = attention_lstm_model(False)\n",
    "#     # model_word2vec = simple_lstm(False, model_cbow)\n",
    "#     init_weights = first_lstm.get_weights()\n",
    "    \n",
    "#     first_lstm.fit(catch[idx][0], catch[idx][3], epochs = 2000, verbose = 0, \n",
    "#                   callbacks = tf.keras.callbacks.EarlyStopping(monitor = \"val_loss\", patience = 30,\n",
    "#                                                               restore_best_weights=True), \n",
    "#                       validation_data = (catch[idx][1], catch[idx][4]))\n",
    "    \n",
    "#     X_train_logits = first_lstm.predict(catch[idx][0], verbose = 0)\n",
    "#     X_valid_logits = first_lstm.predict(catch[idx][1], verbose = 0)\n",
    "#     X_test_logits = first_lstm.predict(catch[idx][2], verbose = 0)\n",
    "    \n",
    "#     # train_acc = first_lstm.evaluate(catch[idx][0], catch[idx][2], verbose = 0)[1]\n",
    "#     # # valid_acc = model_word2vec.evaluate(catch[idx][1], catch[idx][], verbose = 0)[1]\n",
    "#     # test_acc = first_lstm.evaluate(catch[idx][1], catch[idx][3], verbose = 0)[1]\n",
    "    \n",
    "#     return X_train_logits, X_valid_logits , X_test_logits,  init_weights"
   ]
  },
  {
   "cell_type": "code",
   "execution_count": 55,
   "id": "f36db5a9",
   "metadata": {},
   "outputs": [],
   "source": [
    "# first_lstm = Parallel(n_jobs=15, verbose = 10, backend = \"loky\")(delayed(first_LSTM_training)( i) for i in range(reps))"
   ]
  },
  {
   "cell_type": "code",
   "execution_count": 56,
   "id": "4bfed45e-ddfc-4f2e-9b0f-ddf5c8315b07",
   "metadata": {},
   "outputs": [],
   "source": [
    "import os"
   ]
  },
  {
   "cell_type": "code",
   "execution_count": 57,
   "id": "986542dd-886d-43d8-8065-40db3cdf3c0d",
   "metadata": {},
   "outputs": [],
   "source": [
    "# os.getcwd()"
   ]
  },
  {
   "cell_type": "code",
   "execution_count": 58,
   "id": "6339522d-c977-47fc-a26b-857a0708211e",
   "metadata": {},
   "outputs": [],
   "source": [
    "with open('first_lstm_with_doc2vec_lstm_var_0.0001_real_world_heavy_dropout.pkl', 'rb') as f:\n",
    "    first_lstm = pickle.load(f)\n",
    "\n",
    "\n",
    "# with open('first_lstm_with_lstm.pkl', 'rb') as f:\n",
    "#     first_lstm = pickle.load(f)  "
   ]
  },
  {
   "cell_type": "code",
   "execution_count": 59,
   "id": "efbbc245-f380-4ab0-81f8-1ff837004056",
   "metadata": {},
   "outputs": [],
   "source": [
    "catch_train_logits = []\n",
    "catch_train_probs = []\n",
    "catch_train_labels = []\n",
    "catch_train_word2vec = []\n",
    "catch_train_seqs = []\n",
    "# catch_train_word2vec = []\n",
    "for i in range(0, reps):\n",
    "    train_true_probs = tf.math.sigmoid(first_lstm[i][0])\n",
    "#     idxes = ((train_true_probs >= 0.05) & (train_true_probs <= 0.95)).numpy().nonzero()[0]\n",
    "#     catch_train_idxes.append(idxes)\n",
    "    train_logits = first_lstm[i][0]\n",
    "    catch_train_logits.append(train_logits)\n",
    "    train_probs = train_true_probs.numpy()\n",
    "    catch_train_probs.append(train_probs)\n",
    "    train_labels = catch[i][3]\n",
    "    catch_train_labels.append(train_labels)\n",
    "    # catch_train_word2vec.append(catch[i][6])\n",
    "    catch_train_seqs.append(catch[i][0])"
   ]
  },
  {
   "cell_type": "code",
   "execution_count": 60,
   "id": "760649b1-5038-4486-8d8e-c8faeb1685e9",
   "metadata": {},
   "outputs": [],
   "source": [
    "catch_valid_logits = []\n",
    "catch_valid_probs = []\n",
    "catch_valid_labels = []\n",
    "catch_valid_word2vec = []\n",
    "catch_valid_seqs = []\n",
    "# catch_train_word2vec = \n",
    "for i in range(0, reps):\n",
    "    valid_true_probs = tf.math.sigmoid(first_lstm[i][1])\n",
    "    valid_logits = first_lstm[i][1]\n",
    "    catch_valid_logits.append(valid_logits)\n",
    "    valid_probs = valid_true_probs.numpy()\n",
    "    catch_valid_probs.append(valid_probs)\n",
    "    valid_labels = catch[i][4]\n",
    "    catch_valid_labels.append(valid_labels)\n",
    "    # catch_valid_word2vec.append(catch[i][4])\n",
    "    catch_valid_seqs.append(catch[i][1])"
   ]
  },
  {
   "cell_type": "code",
   "execution_count": 61,
   "id": "fe184bf4-e1b4-48d6-ab25-9ffcd30a85b3",
   "metadata": {},
   "outputs": [],
   "source": [
    "catch_test_logits = []\n",
    "catch_test_probs = []\n",
    "catch_test_labels = []\n",
    "# catch_test_word2vec = []\n",
    "catch_test_seqs = []\n",
    "for i in range(0, reps):\n",
    "    test_true_probs = tf.math.sigmoid(first_lstm[i][2])\n",
    "#     idxes = ((test_true_probs >= 0.05) & (test_true_probs <= 0.95)).numpy().nonzero()[0]\n",
    "#     catch_test_idxes.append(idxes)\n",
    "    test_logits = first_lstm[i][2]\n",
    "    catch_test_logits.append(test_logits)\n",
    "    test_probs = test_true_probs.numpy()\n",
    "    catch_test_probs.append(test_probs)\n",
    "    test_labels = catch[i][5]\n",
    "    catch_test_labels.append(test_labels)\n",
    "    # catch_test_word2vec.append(catch[i][5])\n",
    "    catch_test_seqs.append(catch[i][2])"
   ]
  },
  {
   "cell_type": "code",
   "execution_count": 62,
   "id": "84eb1ee9-9582-42cf-b14e-2b49a59cc941",
   "metadata": {},
   "outputs": [],
   "source": [
    "with open('true_data_doc2vec_lstm_var_0.0001_train_probs.pkl', 'wb') as f:\n",
    "    pickle.dump(catch_train_probs, f)"
   ]
  },
  {
   "cell_type": "code",
   "execution_count": 63,
   "id": "eb6a75d2-be9e-4822-ad20-46153d1ca235",
   "metadata": {},
   "outputs": [],
   "source": [
    "with open('true_data_doc2vec_lstm_var_0.0001_valid_probs.pkl', 'wb') as f:\n",
    "    pickle.dump(catch_valid_probs, f)"
   ]
  },
  {
   "cell_type": "code",
   "execution_count": 64,
   "id": "1a63996c-ca9f-411b-9076-1b1121f082c1",
   "metadata": {},
   "outputs": [],
   "source": [
    "with open('true_data_doc2vec_lstm_var_0.0001_test_probs.pkl', 'wb') as f:\n",
    "    pickle.dump(catch_test_probs, f)"
   ]
  },
  {
   "cell_type": "code",
   "execution_count": 65,
   "id": "666b377f-4c14-4161-b73a-11094e72717b",
   "metadata": {},
   "outputs": [
    {
     "data": {
      "image/png": "[encoded data removed]",
      "text/plain": [
       "<Figure size 640x480 with 1 Axes>"
      ]
     },
     "metadata": {},
     "output_type": "display_data"
    }
   ],
   "source": [
    "plt.hist(catch_train_probs[0].ravel())\n",
    "plt.show()"
   ]
  },
  {
   "cell_type": "code",
   "execution_count": 66,
   "id": "3b755c10",
   "metadata": {},
   "outputs": [],
   "source": [
    "# var_targets = float(sys.argv[1])\n",
    "var_targets = 0.0001"
   ]
  },
  {
   "cell_type": "code",
   "execution_count": 67,
   "id": "8d6e1d40-7253-4b11-a567-92273b9a1567",
   "metadata": {},
   "outputs": [],
   "source": [
    "catch_train_logits_second = []\n",
    "catch_train_probs_second = []\n",
    "catch_train_labels_second = []\n",
    "for i in range(0, reps):\n",
    "    train_true_logits = catch_train_logits[i]\n",
    "    train_logits_noise = norm(0,var_targets).rvs(train_true_logits.shape[0]).reshape(-1,1)\n",
    "    train_logits_second = train_true_logits + train_logits_noise\n",
    "    train_fudged_probs = tf.nn.sigmoid(train_logits_second).numpy()\n",
    "    train_fudged_labels = (train_fudged_probs >= 0.5).astype(float)\n",
    "    # train_fudged_labels = np.random.binomial(1, p=train_fudged_probs)\n",
    "    catch_train_logits_second.append(train_logits_second)\n",
    "    catch_train_probs_second.append(train_fudged_probs)\n",
    "    catch_train_labels_second.append(train_fudged_labels)"
   ]
  },
  {
   "cell_type": "code",
   "execution_count": 68,
   "id": "af077138-6efb-461b-ae97-6b4805bf0239",
   "metadata": {},
   "outputs": [],
   "source": [
    "catch_valid_logits_second = []\n",
    "catch_valid_probs_second = []\n",
    "catch_valid_labels_second = []\n",
    "for i in range(0, reps):\n",
    "    valid_true_logits = catch_valid_logits[i]\n",
    "    valid_logits_noise = norm(0,var_targets).rvs(valid_true_logits.shape[0]).reshape(-1,1)\n",
    "    valid_logits_second = valid_true_logits + valid_logits_noise\n",
    "    valid_fudged_probs = tf.nn.sigmoid(valid_logits_second).numpy()\n",
    "    valid_fudged_labels = (valid_fudged_probs >= 0.5).astype(float)\n",
    "    catch_valid_logits_second.append(valid_logits_second)\n",
    "    catch_valid_probs_second.append(valid_fudged_probs)\n",
    "    catch_valid_labels_second.append(valid_fudged_labels)"
   ]
  },
  {
   "cell_type": "code",
   "execution_count": 69,
   "id": "bf7f57fc-d68b-487d-ac36-6ea16d75521a",
   "metadata": {},
   "outputs": [],
   "source": [
    "catch_test_logits_second = []\n",
    "catch_test_probs_second = []\n",
    "catch_test_labels_second = []\n",
    "for i in range(0, reps):\n",
    "    test_true_logits = catch_test_logits[i]\n",
    "    test_logits_noise = norm(0,var_targets).rvs(test_true_logits.shape[0]).reshape(-1,1)\n",
    "    test_logits_second = test_true_logits + test_logits_noise\n",
    "    test_fudged_probs = tf.nn.sigmoid(test_logits_second).numpy()\n",
    "    test_fudged_labels = (test_fudged_probs >= 0.5).astype(float)\n",
    "    # test_fudged_labels = np.random.binomial(1, p=test_fudged_probs)\n",
    "    catch_test_logits_second.append(test_logits_second)\n",
    "    catch_test_probs_second.append(test_fudged_probs)\n",
    "    catch_test_labels_second.append(test_fudged_labels)"
   ]
  },
  {
   "cell_type": "code",
   "execution_count": 70,
   "id": "39c43198-ddef-4dd4-8901-214e8d5333c2",
   "metadata": {},
   "outputs": [],
   "source": [
    "with open('true_data_doc2vec_lstm_var_0.0001_train_labels.pkl', 'wb') as f:\n",
    "    pickle.dump(catch_train_labels_second, f)"
   ]
  },
  {
   "cell_type": "code",
   "execution_count": 71,
   "id": "87fe97af-a72e-48c3-bf18-541fc9304760",
   "metadata": {},
   "outputs": [],
   "source": [
    "with open('true_data_doc2vec_lstm_var_0.0001_valid_labels.pkl', 'wb') as f:\n",
    "    pickle.dump(catch_valid_labels_second, f)"
   ]
  },
  {
   "cell_type": "code",
   "execution_count": 72,
   "id": "0b4deeef-f9f8-471d-891b-879719091360",
   "metadata": {},
   "outputs": [],
   "source": [
    "with open('true_data_doc2vec_lstm_var_0.0001_test_labels.pkl', 'wb') as f:\n",
    "    pickle.dump(catch_test_labels_second, f)"
   ]
  },
  {
   "cell_type": "code",
   "execution_count": 73,
   "id": "700312ef-f7e0-4014-ae10-209b7a8d4112",
   "metadata": {},
   "outputs": [
    {
     "name": "stdout",
     "output_type": "stream",
     "text": [
      "0.9607843137254902\n",
      "0.9803921568627451\n",
      "1.0\n",
      "0.9607843137254902\n",
      "0.9019607843137255\n",
      "1.0\n",
      "0.9803921568627451\n",
      "0.9803921568627451\n",
      "1.0\n",
      "0.9607843137254902\n",
      "0.9803921568627451\n",
      "1.0\n",
      "0.9607843137254902\n",
      "1.0\n",
      "1.0\n",
      "0.9215686274509803\n",
      "0.9803921568627451\n",
      "0.9803921568627451\n",
      "0.9607843137254902\n",
      "0.9607843137254902\n",
      "0.9215686274509803\n",
      "0.8823529411764706\n",
      "0.9019607843137255\n",
      "0.9607843137254902\n",
      "0.8823529411764706\n",
      "0.9803921568627451\n",
      "0.9607843137254902\n",
      "0.9607843137254902\n",
      "0.9411764705882353\n",
      "0.9607843137254902\n",
      "0.9803921568627451\n",
      "0.9019607843137255\n",
      "0.9607843137254902\n",
      "0.8627450980392157\n",
      "0.9411764705882353\n",
      "0.9607843137254902\n",
      "0.9803921568627451\n",
      "0.9411764705882353\n",
      "0.9607843137254902\n",
      "0.9215686274509803\n",
      "0.9411764705882353\n",
      "0.9803921568627451\n",
      "0.9607843137254902\n",
      "0.9803921568627451\n",
      "0.9607843137254902\n",
      "0.8823529411764706\n",
      "0.9607843137254902\n",
      "0.9215686274509803\n",
      "0.9607843137254902\n",
      "0.9215686274509803\n"
     ]
    }
   ],
   "source": [
    "for i in range(0, reps):\n",
    "    print(np.mean(catch_train_labels_second[i] == catch[i][3].reshape(-1,1)))"
   ]
  },
  {
   "cell_type": "code",
   "execution_count": 74,
   "id": "6695b48b",
   "metadata": {},
   "outputs": [
    {
     "name": "stdout",
     "output_type": "stream",
     "text": [
      "1.0\n",
      "1.0\n",
      "1.0\n",
      "1.0\n",
      "1.0\n",
      "1.0\n",
      "1.0\n",
      "1.0\n",
      "1.0\n",
      "1.0\n",
      "1.0\n",
      "1.0\n",
      "1.0\n",
      "1.0\n",
      "1.0\n",
      "1.0\n",
      "1.0\n",
      "1.0\n",
      "1.0\n",
      "1.0\n",
      "1.0\n",
      "1.0\n",
      "1.0\n",
      "1.0\n",
      "1.0\n",
      "1.0\n",
      "1.0\n",
      "1.0\n",
      "1.0\n",
      "1.0\n",
      "1.0\n",
      "1.0\n",
      "1.0\n",
      "1.0\n",
      "1.0\n",
      "1.0\n",
      "1.0\n",
      "1.0\n",
      "1.0\n",
      "1.0\n",
      "1.0\n",
      "1.0\n",
      "1.0\n",
      "1.0\n",
      "1.0\n",
      "1.0\n",
      "1.0\n",
      "1.0\n",
      "1.0\n",
      "1.0\n"
     ]
    }
   ],
   "source": [
    "for i in range(0, reps):\n",
    "    print(np.mean(catch[i][0] == catch_train_seqs[i]))"
   ]
  },
  {
   "cell_type": "code",
   "execution_count": 75,
   "id": "be5926e4-84fa-4ee8-9e49-ba7842947c33",
   "metadata": {},
   "outputs": [],
   "source": [
    "rate = 0.5"
   ]
  },
  {
   "cell_type": "code",
   "execution_count": 76,
   "id": "8766ab50-e42b-4e81-8877-8e17d4ebdb8b",
   "metadata": {},
   "outputs": [],
   "source": [
    "second_lstm = attention_lstm_model(rate, False)"
   ]
  },
  {
   "cell_type": "code",
   "execution_count": 77,
   "id": "e4086f53-4ec0-4e9d-9ee2-f450d95570cc",
   "metadata": {},
   "outputs": [
    {
     "data": {
      "text/plain": [
       "[<keras.engine.input_layer.InputLayer at 0x1497704bcb50>,\n",
       " <keras.layers.preprocessing.text_vectorization.TextVectorization at 0x1497704bd1e0>,\n",
       " <keras.layers.core.embedding.Embedding at 0x1497704bddb0>,\n",
       " <keras.layers.rnn.lstm.LSTM at 0x1497704bfee0>,\n",
       " <keras.layers.core.dense.Dense at 0x149770300520>,\n",
       " <keras.layers.reshaping.flatten.Flatten at 0x149770300e20>,\n",
       " <keras.layers.core.activation.Activation at 0x149770339cf0>,\n",
       " <keras.layers.reshaping.repeat_vector.RepeatVector at 0x1497704db070>,\n",
       " <keras.layers.reshaping.permute.Permute at 0x1497704dab00>,\n",
       " <keras.layers.merging.multiply.Multiply at 0x149770339ff0>,\n",
       " <keras.layers.core.lambda_layer.Lambda at 0x14977033b490>,\n",
       " <keras.layers.regularization.dropout.Dropout at 0x14977033b730>,\n",
       " <keras.layers.core.dense.Dense at 0x14977033b8b0>]"
      ]
     },
     "execution_count": 77,
     "metadata": {},
     "output_type": "execute_result"
    }
   ],
   "source": [
    "second_lstm.layers"
   ]
  },
  {
   "cell_type": "code",
   "execution_count": 78,
   "id": "68010faf-616d-472c-94cd-f2242ef51b37",
   "metadata": {},
   "outputs": [],
   "source": [
    "# second_lstm.layers"
   ]
  },
  {
   "cell_type": "code",
   "execution_count": 79,
   "id": "298e773e-33df-4fee-b357-0d49c1df3965",
   "metadata": {},
   "outputs": [],
   "source": [
    "# @tf.function\n",
    "def second_LSTM_training( idx):\n",
    "#     @tf.function\n",
    "    second_lstm = attention_lstm_model(rate, False)\n",
    "    # second_lstm.set_weights(first_lstm[idx][-1])\n",
    "    # second_lstm = simple_lstm(False, model_cbow)\n",
    "    \n",
    "#     train_idx = catch_train_idxes[idx]\n",
    "    # valid_idx = catch_valid_idxes[idx]\n",
    "#     test_idx = catch_test_idxes[idx]\n",
    "    second_lstm.fit(catch_train_seqs[idx], catch_train_labels_second[idx], epochs = 2000, verbose = 0, \n",
    "                  callbacks = tf.keras.callbacks.EarlyStopping(monitor = \"val_loss\", patience = 30,\n",
    "                                                              restore_best_weights=True), \n",
    "                   validation_data = (catch_valid_seqs[idx], catch_valid_labels_second[idx]))\n",
    "    \n",
    "    second_pred_train_logits = second_lstm.predict(catch_train_seqs[idx], verbose = 0)\n",
    "    second_pred_valid_logits = second_lstm.predict(catch_valid_seqs[idx], verbose = 0)\n",
    "    second_pred_test_logits = second_lstm.predict(catch_test_seqs[idx], verbose = 0)\n",
    "    \n",
    "    lstm_extract = tf.keras.models.Model(second_lstm.input, second_lstm.layers[-3].output)\n",
    "    \n",
    "    train_lstm_extract = lstm_extract(catch_train_seqs[idx])\n",
    "    valid_lstm_extract = lstm_extract(catch_valid_seqs[idx])\n",
    "    test_lstm_extract = lstm_extract(catch_test_seqs[idx])\n",
    "    \n",
    "    return second_pred_train_logits, second_pred_valid_logits, second_pred_test_logits, train_lstm_extract, valid_lstm_extract, test_lstm_extract"
   ]
  },
  {
   "cell_type": "code",
   "execution_count": 80,
   "id": "5daaa27b",
   "metadata": {},
   "outputs": [
    {
     "name": "stderr",
     "output_type": "stream",
     "text": [
      "[Parallel(n_jobs=15)]: Using backend LokyBackend with 15 concurrent workers.\n",
      "[Parallel(n_jobs=15)]: Done   2 tasks      | elapsed:   14.5s\n",
      "[Parallel(n_jobs=15)]: Done  11 tasks      | elapsed:   18.7s\n",
      "[Parallel(n_jobs=15)]: Done  20 tasks      | elapsed:   30.9s\n",
      "[Parallel(n_jobs=15)]: Done  27 out of  50 | elapsed:   39.3s remaining:   33.5s\n",
      "[Parallel(n_jobs=15)]: Done  33 out of  50 | elapsed:   49.9s remaining:   25.7s\n",
      "[Parallel(n_jobs=15)]: Done  39 out of  50 | elapsed:   57.0s remaining:   16.1s\n",
      "[Parallel(n_jobs=15)]: Done  45 out of  50 | elapsed:  1.1min remaining:    7.2s\n",
      "[Parallel(n_jobs=15)]: Done  50 out of  50 | elapsed:  3.7min finished\n"
     ]
    }
   ],
   "source": [
    "second_lstm = Parallel(n_jobs=15, verbose = 10, backend = \"loky\")(delayed(second_LSTM_training)( i) for i in range(reps))"
   ]
  },
  {
   "cell_type": "code",
   "execution_count": 81,
   "id": "f609781c-7a13-4b7f-8c78-7d70cbca0bc4",
   "metadata": {},
   "outputs": [],
   "source": [
    "# with open('second_lstm_with_doc2vec_lstm_var_0.0001.pkl', 'rb') as f:\n",
    "#     ck = pickle.load( f)"
   ]
  },
  {
   "cell_type": "code",
   "execution_count": 82,
   "id": "59c2bbfe-202f-4c16-be58-5a2f407effe5",
   "metadata": {},
   "outputs": [],
   "source": [
    "# len(second_lstm)"
   ]
  },
  {
   "cell_type": "code",
   "execution_count": 83,
   "id": "e87ffd11-5255-4b22-961a-e514b7421f02",
   "metadata": {},
   "outputs": [],
   "source": [
    "with open('second_lstm_with_doc2vec_lstm_var_0.0001_heavy_dropout.pkl', 'wb') as f:\n",
    "    pickle.dump(second_lstm, f)\n",
    "\n",
    "# with open('second_lstm_with_lstm.pkl', 'rb') as f:\n",
    "#     second_lstm = pickle.load(f)  "
   ]
  },
  {
   "cell_type": "code",
   "execution_count": 84,
   "id": "f39f9622-56ec-4dff-bdf0-8a0c3437a45b",
   "metadata": {},
   "outputs": [],
   "source": [
    "# with open('second_lstm_output_all_50.pkl', 'wb') as f:\n",
    "#     pickle.dump(second_lstm, f)\n",
    "    \n",
    "# with open('second_lstm_output_all_50.pkl', 'rb') as f:\n",
    "#     second_lstm = pickle.load(f)  "
   ]
  },
  {
   "cell_type": "code",
   "execution_count": 85,
   "id": "579c6183",
   "metadata": {},
   "outputs": [
    {
     "data": {
      "image/png": "[encoded data removed]",
      "text/plain": [
       "<Figure size 640x480 with 1 Axes>"
      ]
     },
     "metadata": {},
     "output_type": "display_data"
    }
   ],
   "source": [
    "plt.scatter(catch_train_logits_second[0], catch_train_logits[0])\n",
    "plt.xlabel(\"fudged logits\")\n",
    "plt.ylabel(\"predicted logits\")\n",
    "plt.show()"
   ]
  },
  {
   "cell_type": "code",
   "execution_count": 86,
   "id": "ec79da6d-c392-4f20-b53e-0be77678082f",
   "metadata": {},
   "outputs": [
    {
     "data": {
      "image/png": "[encoded data removed]",
      "text/plain": [
       "<Figure size 640x480 with 1 Axes>"
      ]
     },
     "metadata": {},
     "output_type": "display_data"
    }
   ],
   "source": [
    "plt.scatter(catch_train_logits_second[0], second_lstm[0][0])\n",
    "plt.xlabel(\"fudged logits\")\n",
    "plt.ylabel(\"predicted logits\")\n",
    "plt.show()"
   ]
  },
  {
   "cell_type": "code",
   "execution_count": 87,
   "id": "ac3b10d3",
   "metadata": {},
   "outputs": [
    {
     "data": {
      "image/png": "[encoded data removed]",
      "text/plain": [
       "<Figure size 640x480 with 1 Axes>"
      ]
     },
     "metadata": {},
     "output_type": "display_data"
    }
   ],
   "source": [
    "plt.scatter(catch_test_logits_second[0], second_lstm[0][2])\n",
    "plt.xlabel(\"fudged logits\")\n",
    "plt.ylabel(\"predicted logits\")\n",
    "plt.show()"
   ]
  }
 ],
 "metadata": {
  "kernelspec": {
   "display_name": "enkf",
   "language": "python",
   "name": "enkf"
  },
  "language_info": {
   "codemirror_mode": {
    "name": "ipython",
    "version": 3
   },
   "file_extension": ".py",
   "mimetype": "text/x-python",
   "name": "python",
   "nbconvert_exporter": "python",
   "pygments_lexer": "ipython3",
   "version": "3.10.8"
  }
 },
 "nbformat": 4,
 "nbformat_minor": 5
}
