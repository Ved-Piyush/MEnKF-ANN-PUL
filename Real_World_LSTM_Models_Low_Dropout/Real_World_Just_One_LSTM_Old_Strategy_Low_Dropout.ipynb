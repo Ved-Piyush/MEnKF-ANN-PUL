{
 "cells": [
  {
   "cell_type": "code",
   "execution_count": 1,
   "id": "d7ab5bf3",
   "metadata": {},
   "outputs": [],
   "source": [
    "import pandas as pd\n",
    "from tqdm import tqdm\n",
    "import gensim\n",
    "import os\n",
    "os.environ['TF_CPP_MIN_LOG_LEVEL'] = '3' \n",
    "# os.chdir(r\"D://Proposal_Defense//Simulations\")\n",
    "# from Utils.Script_utils import get_data_splits, first_LSTM_training, get_data_splits_old_algo\n",
    "from joblib import Parallel, delayed\n",
    "import sys\n",
    "from scipy.stats import norm"
   ]
  },
  {
   "cell_type": "code",
   "execution_count": 2,
   "id": "36084258",
   "metadata": {},
   "outputs": [
    {
     "name": "stdout",
     "output_type": "stream",
     "text": [
      "No GPU found\n"
     ]
    }
   ],
   "source": [
    "# Seed value\n",
    "# Apparently you may use different seed values at each stage\n",
    "seed_value= 42\n",
    "\n",
    "# 1. Set the `PYTHONHASHSEED` environment variable at a fixed value\n",
    "import os\n",
    "os.environ['PYTHONHASHSEED']=str(seed_value)\n",
    "\n",
    "# 2. Set the `python` built-in pseudo-random generator at a fixed value\n",
    "import random\n",
    "random.seed(seed_value)\n",
    "\n",
    "# 3. Set the `numpy` pseudo-random generator at a fixed value\n",
    "import numpy as np\n",
    "np.random.seed(seed_value)\n",
    "\n",
    "# # 4. Set the `tensorflow` pseudo-random generator at a fixed value\n",
    "import tensorflow as tf\n",
    "os.environ['CUDA_VISIBLE_DEVICES'] = '-1'\n",
    "\n",
    "if tf.test.gpu_device_name():\n",
    "    print('GPU found')\n",
    "else:\n",
    "    print(\"No GPU found\")\n",
    "# tf.config.set_visible_devices([], 'GPU')\n",
    "\n",
    "from tqdm.notebook import tqdm\n",
    "tf.random.set_seed(seed_value)\n",
    "import multiprocessing\n",
    "# for later versions: \n",
    "# tf.compat.v1.set_random_seed(seed_value)\n",
    "\n",
    "# 5. Configure a new global `tensorflow` session\n",
    "# from keras import backend as K\n",
    "# session_conf = tf.compat.v1.ConfigProto(intra_op_parallelism_threads=1, inter_op_parallelism_threads=1)\n",
    "# sess = tf.compat.v1.Session(graph=tf.compat.v1.get_default_graph(), config=session_conf)\n",
    "# K.set_session(sess)"
   ]
  },
  {
   "cell_type": "code",
   "execution_count": 3,
   "id": "e036b858",
   "metadata": {},
   "outputs": [],
   "source": [
    "import matplotlib.pyplot as plt\n",
    "\n",
    "import pickle"
   ]
  },
  {
   "cell_type": "code",
   "execution_count": 4,
   "id": "440c1a52",
   "metadata": {},
   "outputs": [],
   "source": [
    "with open('true_data_doc2vec_lstm_var_0.0001.pkl', 'rb') as f:\n",
    "    catch = pickle.load(f)  "
   ]
  },
  {
   "cell_type": "code",
   "execution_count": 5,
   "id": "4eea8c8e",
   "metadata": {},
   "outputs": [],
   "source": [
    "# var_weights = 0.08\n",
    "# var_targets = 0.08"
   ]
  },
  {
   "cell_type": "code",
   "execution_count": 6,
   "id": "bd888262",
   "metadata": {},
   "outputs": [],
   "source": [
    "from tqdm.notebook import tqdm"
   ]
  },
  {
   "cell_type": "code",
   "execution_count": 7,
   "id": "b1ce82b7",
   "metadata": {},
   "outputs": [],
   "source": [
    "import random"
   ]
  },
  {
   "cell_type": "code",
   "execution_count": 8,
   "id": "b7959ab1",
   "metadata": {},
   "outputs": [],
   "source": [
    "import numpy as np"
   ]
  },
  {
   "cell_type": "code",
   "execution_count": 9,
   "id": "4e3ef6e6",
   "metadata": {},
   "outputs": [],
   "source": [
    "import time"
   ]
  },
  {
   "cell_type": "code",
   "execution_count": 10,
   "id": "0eabfdd4",
   "metadata": {},
   "outputs": [],
   "source": [
    "from scipy.stats import multivariate_normal as mvn"
   ]
  },
  {
   "cell_type": "code",
   "execution_count": 11,
   "id": "10d77915",
   "metadata": {},
   "outputs": [],
   "source": [
    "from scipy.stats import multivariate_normal as mvn"
   ]
  },
  {
   "cell_type": "code",
   "execution_count": 12,
   "id": "ebeb0869-7f0b-4f21-be63-0234896af39f",
   "metadata": {},
   "outputs": [],
   "source": [
    "# train_fudged_probs"
   ]
  },
  {
   "cell_type": "code",
   "execution_count": 13,
   "id": "23d87ffe",
   "metadata": {},
   "outputs": [],
   "source": [
    "import matplotlib.pyplot as plt"
   ]
  },
  {
   "cell_type": "code",
   "execution_count": 14,
   "id": "f5427e43",
   "metadata": {},
   "outputs": [],
   "source": [
    "from scipy.special import expit"
   ]
  },
  {
   "cell_type": "code",
   "execution_count": 15,
   "id": "be0ee1ec",
   "metadata": {},
   "outputs": [],
   "source": [
    "# catch1[0][0]"
   ]
  },
  {
   "cell_type": "code",
   "execution_count": 16,
   "id": "fb492324",
   "metadata": {},
   "outputs": [],
   "source": [
    "# catch_train_logits_second[0]"
   ]
  },
  {
   "cell_type": "code",
   "execution_count": 17,
   "id": "0c2dbaec-3249-404a-9971-c2fc17f68356",
   "metadata": {},
   "outputs": [],
   "source": [
    "from datetime import datetime"
   ]
  },
  {
   "cell_type": "code",
   "execution_count": 18,
   "id": "9cf12935",
   "metadata": {},
   "outputs": [],
   "source": [
    "def expit(x):\n",
    "    \"\"\"Compute softmax values for each sets of scores in x.\"\"\"\n",
    "#     e_x = np.exp(x - np.max(x))\n",
    "    return 1 / (1 + np.exp(-x))"
   ]
  },
  {
   "cell_type": "code",
   "execution_count": 19,
   "id": "ef051014",
   "metadata": {},
   "outputs": [],
   "source": [
    "from scipy.stats import gamma"
   ]
  },
  {
   "cell_type": "code",
   "execution_count": 20,
   "id": "07cb7b8c-4634-46e7-ab75-e865c7116995",
   "metadata": {},
   "outputs": [],
   "source": [
    "# second_lstm[0]"
   ]
  },
  {
   "cell_type": "code",
   "execution_count": 21,
   "id": "5f0e5cb1-4067-46ba-9399-ca30548a10e1",
   "metadata": {},
   "outputs": [],
   "source": [
    "# reduction = 8\n",
    "# var_weights = 1"
   ]
  },
  {
   "cell_type": "code",
   "execution_count": 22,
   "id": "197043a4-b420-4e3b-beaf-699cd7c3db6b",
   "metadata": {},
   "outputs": [],
   "source": [
    "# cur_idx = 16\n",
    "# np.log(catch_test_probs[cur_idx]/(1-catch_test_probs[cur_idx]))"
   ]
  },
  {
   "cell_type": "code",
   "execution_count": 23,
   "id": "5ae6c226-20d1-4a84-ab7b-5c5295748826",
   "metadata": {},
   "outputs": [],
   "source": [
    "# catch_preds_df"
   ]
  },
  {
   "cell_type": "code",
   "execution_count": 24,
   "id": "75f0d45e-6b06-4e9a-8997-5217ab99ebde",
   "metadata": {},
   "outputs": [],
   "source": [
    "# ids = [i for i in range(0, catch_test_probs[cur_idx].shape[0]) if catch_test_probs[cur_idx][i] < 0.5]\n",
    "# ids_more = [i for i in range(0, catch_test_probs[cur_idx].shape[0]) if catch_test_probs[cur_idx][i] > 0.5]"
   ]
  },
  {
   "cell_type": "code",
   "execution_count": 25,
   "id": "7f15dc9d-a59f-4ef8-b93a-8244896352c5",
   "metadata": {},
   "outputs": [],
   "source": [
    "# ids_more"
   ]
  },
  {
   "cell_type": "code",
   "execution_count": 26,
   "id": "1cebfd75-9077-4677-a4f7-05c09ac9f2de",
   "metadata": {},
   "outputs": [],
   "source": [
    "import plotly.express as px"
   ]
  },
  {
   "cell_type": "code",
   "execution_count": 27,
   "id": "22ee79ea-e013-4f80-920e-10e2aeb0eb6b",
   "metadata": {},
   "outputs": [],
   "source": [
    "import seaborn as sns"
   ]
  },
  {
   "cell_type": "code",
   "execution_count": 28,
   "id": "1969c78b-c105-482a-a957-e81329037a09",
   "metadata": {},
   "outputs": [],
   "source": [
    "use_cores = 15"
   ]
  },
  {
   "cell_type": "code",
   "execution_count": null,
   "id": "e5e25a8d-c51c-4c1d-9589-5b3b01f267e7",
   "metadata": {},
   "outputs": [],
   "source": []
  },
  {
   "cell_type": "code",
   "execution_count": 29,
   "id": "b9d651b2-15fa-4542-84ab-106c958569cc",
   "metadata": {},
   "outputs": [],
   "source": [
    "# with open('first_lstm_with_doc2vec_lstm_var_0.0001_real_world.pkl', 'rb') as f:\n",
    "#     first_lstm = pickle.load(f)  "
   ]
  },
  {
   "cell_type": "code",
   "execution_count": 30,
   "id": "2f12bf17-643b-4c5b-a2b0-d1f59b99557e",
   "metadata": {},
   "outputs": [],
   "source": [
    "# threshold = 200\n",
    "# cutoff_threshold = 70"
   ]
  },
  {
   "cell_type": "code",
   "execution_count": 31,
   "id": "407034e6-5a33-4332-b56c-f85cd2377b1c",
   "metadata": {},
   "outputs": [],
   "source": [
    "# catch1 = first_lstm"
   ]
  },
  {
   "cell_type": "code",
   "execution_count": 32,
   "id": "15d0a2c3-65ed-4be6-b837-fa43a7b851a7",
   "metadata": {},
   "outputs": [],
   "source": [
    "# padding_vector = np.zeros((1, model_cbow.wv.vectors.shape[1]))\n",
    "# unknown_vector = np.zeros((1, model_cbow.wv.vectors.shape[1]))"
   ]
  },
  {
   "cell_type": "code",
   "execution_count": 33,
   "id": "b1c783f4-c2b1-437b-bbc4-b8b760335718",
   "metadata": {},
   "outputs": [],
   "source": [
    "# vocabulary = model_cbow.wv.index_to_key"
   ]
  },
  {
   "cell_type": "code",
   "execution_count": 34,
   "id": "32c3b4a1-cfc7-4e68-b60b-f5afc47c7952",
   "metadata": {},
   "outputs": [],
   "source": [
    "# other_weights = model_cbow.wv.vectors"
   ]
  },
  {
   "cell_type": "code",
   "execution_count": 35,
   "id": "dcc583b5-a4bd-4fad-ae07-378fe9f01701",
   "metadata": {},
   "outputs": [],
   "source": [
    "rate = 0.5"
   ]
  },
  {
   "cell_type": "code",
   "execution_count": 36,
   "id": "0a3353fe-5c23-44b0-adcc-f72c6e25cebe",
   "metadata": {},
   "outputs": [],
   "source": [
    "with open('first_lstm_with_doc2vec_lstm_var_0.0001_real_world_low_dropout.pkl', 'rb') as f:\n",
    "    first_lstm = pickle.load(f)  "
   ]
  },
  {
   "cell_type": "code",
   "execution_count": 37,
   "id": "d011ba74-c33b-465a-90ce-6a38b076f6f6",
   "metadata": {},
   "outputs": [],
   "source": [
    "catch1 = first_lstm"
   ]
  },
  {
   "cell_type": "code",
   "execution_count": 38,
   "id": "e343ffb7-87d1-4974-a13f-d9a26c8a0530",
   "metadata": {},
   "outputs": [],
   "source": [
    "# catch1[0]"
   ]
  },
  {
   "cell_type": "code",
   "execution_count": 39,
   "id": "81d40f6a-0f26-41d2-b60b-592d1c7f332a",
   "metadata": {},
   "outputs": [],
   "source": [
    "bnn_reps = 200"
   ]
  },
  {
   "cell_type": "code",
   "execution_count": 40,
   "id": "15570152-7049-4460-95b8-0c66e2c5f954",
   "metadata": {},
   "outputs": [],
   "source": [
    "from datetime import datetime"
   ]
  },
  {
   "cell_type": "code",
   "execution_count": 41,
   "id": "470ee1e6-3941-499b-a140-8f42ca9afa57",
   "metadata": {},
   "outputs": [],
   "source": [
    "model_cbow = gensim.models.word2vec.Word2Vec.load(r\"word2vec_sg\")"
   ]
  },
  {
   "cell_type": "code",
   "execution_count": 42,
   "id": "59240ebf-b230-4429-a74c-bae2d1850f5e",
   "metadata": {},
   "outputs": [],
   "source": [
    "lr = 1e-3"
   ]
  },
  {
   "cell_type": "code",
   "execution_count": 43,
   "id": "4bfc69bb-24d1-4b2e-a0ed-d55f656b477e",
   "metadata": {},
   "outputs": [],
   "source": [
    "def attention_lstm_model_low(training): \n",
    "    padding_vector = np.zeros((1, model_cbow.wv.vectors.shape[1]))\n",
    "    unknown_vector = np.zeros((1, model_cbow.wv.vectors.shape[1]))\n",
    "    weight_vectors = np.vstack((padding_vector, unknown_vector))\n",
    "    weight_vectors = np.vstack((weight_vectors, model_cbow.wv.vectors))\n",
    "    embedding_layer = tf.keras.layers.Embedding(len(weight_vectors),\n",
    "                            weight_vectors.shape[1],\n",
    "                            weights=[weight_vectors],\n",
    "                            mask_zero = False,\n",
    "                            trainable=False)\n",
    "\n",
    "    \n",
    "    vectorize_layer = tf.keras.layers.TextVectorization(\n",
    "                     output_mode='int',\n",
    "                     vocabulary=model_cbow.wv.index_to_key, \n",
    "                     standardize = None)\n",
    "    \n",
    "    input_layer = tf.keras.layers.Input(shape = (1,), dtype = tf.string)\n",
    "\n",
    "    vectorize = vectorize_layer(input_layer)\n",
    "\n",
    "    vectorize.shape\n",
    "\n",
    "    emb_output = embedding_layer(vectorize)\n",
    "\n",
    "    emb_output.shape\n",
    "    \n",
    "    # spatial_drop = tf.keras.layers.SpatialDropout1D(0.5)\n",
    "    \n",
    "    # spatial_out = spatial_drop(emb_output, training = training)\n",
    "\n",
    "    lstm_layer = tf.keras.layers.LSTM(25, return_sequences = True, dropout = rate)\n",
    "\n",
    "    lstm_output = lstm_layer(emb_output, training = training)\n",
    "\n",
    "#     x_a = tf.keras.layers.Dense(lstm_output.get_shape()[-1]//2, kernel_initializer = 'glorot_uniform', activation=\"tanh\", name=\"tanh_mlp\")(lstm_output) \n",
    "    \n",
    "    # x_a = tf.keras.layers.SpatialDropout1D(0.75)(lstm_output, training = training)\n",
    "    \n",
    "    x_a = tf.keras.layers.Dense(1, kernel_initializer = 'glorot_uniform', activation='linear', name=\"word-level_context\", kernel_regularizer=tf.keras.regularizers.L2())(lstm_output)\n",
    "\n",
    "    x_a = tf.keras.layers.Flatten()(x_a)\n",
    "\n",
    "    att_out = tf.keras.layers.Activation('softmax')(x_a) \n",
    "\n",
    "    x_a2 = tf.keras.layers.RepeatVector(lstm_output.get_shape()[-1])(att_out)\n",
    "\n",
    "    x_a2 = tf.keras.layers.Permute([2,1])(x_a2)\n",
    "\n",
    "    out = tf.keras.layers.Multiply()([lstm_output,x_a2])\n",
    "    \n",
    "    out = tf.keras.layers.Lambda(lambda x : tf.math.reduce_sum(x, axis = 1), name='expectation_over_words')(out)\n",
    "    \n",
    "    # dropout_layer = tf.keras.layers.Dropout(0.65)(out, training = training)\n",
    "\n",
    "    pred_head = tf.keras.layers.Dense(1, kernel_regularizer=tf.keras.regularizers.L2())\n",
    "\n",
    "    pred_output = pred_head(out)\n",
    "\n",
    "    model = tf.keras.models.Model(input_layer, pred_output)\n",
    "    \n",
    "    model.compile(loss = tf.keras.losses.BinaryCrossentropy(from_logits=True), \n",
    "                 optimizer = tf.keras.optimizers.Adam(learning_rate = lr), \n",
    "                 metrics=tf.keras.metrics.BinaryAccuracy())\n",
    "    \n",
    "    return model"
   ]
  },
  {
   "cell_type": "code",
   "execution_count": 44,
   "id": "f4b3ded5-bbb9-4712-9695-85fbf12939a9",
   "metadata": {},
   "outputs": [],
   "source": [
    "rate = 0.15"
   ]
  },
  {
   "cell_type": "code",
   "execution_count": 45,
   "id": "a7351dc4-5d8e-4792-be64-352d7f2ec01f",
   "metadata": {},
   "outputs": [],
   "source": [
    "# def attention_lstm_model_less(training): \n",
    "#     padding_vector = np.zeros((1, model_cbow.wv.vectors.shape[1]))\n",
    "#     unknown_vector = np.zeros((1, model_cbow.wv.vectors.shape[1]))\n",
    "#     weight_vectors = np.vstack((padding_vector, unknown_vector))\n",
    "#     weight_vectors = np.vstack((weight_vectors, model_cbow.wv.vectors))\n",
    "#     embedding_layer = tf.keras.layers.Embedding(len(weight_vectors),\n",
    "#                             weight_vectors.shape[1],\n",
    "#                             weights=[weight_vectors],\n",
    "#                             mask_zero = False,\n",
    "#                             trainable=False)\n",
    "\n",
    "    \n",
    "#     vectorize_layer = tf.keras.layers.TextVectorization(\n",
    "#                      output_mode='int',\n",
    "#                      vocabulary=model_cbow.wv.index_to_key, \n",
    "#                      standardize = None)\n",
    "    \n",
    "#     input_layer = tf.keras.layers.Input(shape = (1,), dtype = tf.string)\n",
    "\n",
    "#     vectorize = vectorize_layer(input_layer)\n",
    "\n",
    "#     vectorize.shape\n",
    "\n",
    "#     emb_output = embedding_layer(vectorize)\n",
    "\n",
    "#     emb_output.shape\n",
    "    \n",
    "#     spatial_drop = tf.keras.layers.SpatialDropout1D(0.5)\n",
    "    \n",
    "#     spatial_out = spatial_drop(emb_output)\n",
    "\n",
    "#     lstm_layer = tf.keras.layers.LSTM(25, return_sequences = True, dropout = rate)\n",
    "\n",
    "#     lstm_output = lstm_layer(spatial_out, training = training)\n",
    "\n",
    "# #     x_a = tf.keras.layers.Dense(lstm_output.get_shape()[-1]//2, kernel_initializer = 'glorot_uniform', activation=\"tanh\", name=\"tanh_mlp\")(lstm_output) \n",
    "    \n",
    "#     # x_a = tf.keras.layers.SpatialDropout1D(0.75)(lstm_output, training = training)\n",
    "    \n",
    "#     x_a = tf.keras.layers.Dense(1, kernel_initializer = 'glorot_uniform', activation='linear', name=\"word-level_context\", kernel_regularizer=tf.keras.regularizers.L2())(lstm_output)\n",
    "\n",
    "#     x_a = tf.keras.layers.Flatten()(x_a)\n",
    "\n",
    "#     att_out = tf.keras.layers.Activation('softmax')(x_a) \n",
    "\n",
    "#     x_a2 = tf.keras.layers.RepeatVector(lstm_output.get_shape()[-1])(att_out)\n",
    "\n",
    "#     x_a2 = tf.keras.layers.Permute([2,1])(x_a2)\n",
    "\n",
    "#     out = tf.keras.layers.Multiply()([lstm_output,x_a2])\n",
    "    \n",
    "#     out = tf.keras.layers.Lambda(lambda x : tf.math.reduce_sum(x, axis = 1), name='expectation_over_words')(out)\n",
    "    \n",
    "#     dropout_layer = tf.keras.layers.Dropout(rate)(out)\n",
    "\n",
    "#     pred_head = tf.keras.layers.Dense(1, kernel_regularizer=tf.keras.regularizers.L2())\n",
    "\n",
    "#     pred_output = pred_head(dropout_layer)\n",
    "\n",
    "#     model = tf.keras.models.Model(input_layer, pred_output)\n",
    "    \n",
    "#     model.compile(loss = tf.keras.losses.BinaryCrossentropy(from_logits=True), \n",
    "#                  optimizer = tf.keras.optimizers.Adam(learning_rate = lr), \n",
    "#                  metrics=tf.keras.metrics.BinaryAccuracy())\n",
    "    \n",
    "#     return model"
   ]
  },
  {
   "cell_type": "code",
   "execution_count": 46,
   "id": "75c12e9a-898a-45db-9ee2-eb652adfbee1",
   "metadata": {},
   "outputs": [],
   "source": [
    "def rep_one_real_world(idx, inflation_factor = 0.2, cutoff = 100): \n",
    "    catch_1 = []\n",
    "    catch_2 = []\n",
    "    catch_3 = []\n",
    "    catch_4 = []\n",
    "    catch_5 = []\n",
    "#     from scipy.special import expit\n",
    "    patience_smaller = 0\n",
    "# patience_bigger = 0\n",
    "\n",
    "#     best_train_acc = 0\n",
    "#     best_valid_acc = 1000\n",
    "\n",
    "#     best_valid_mae = 10\n",
    "    \n",
    "    best_train_mae = 100\n",
    "    \n",
    "    X_train_logits = np.vstack((catch1[idx][0], catch1[idx][1]))\n",
    "#     X_train_logits = catch_train_logits_second[idx]\n",
    "    \n",
    "    \n",
    "    X_test_logits = catch1[idx][2]\n",
    "    \n",
    "    ## create training batch chunks\n",
    "    # train_idx = list(range(0, X_train_logits.shape[0]))\n",
    "    # batch_chunks = [train_idx[i:i+batch_size] for i in range(0,len(train_idx),batch_size)]\n",
    "\n",
    "#     y_train = catch[idx][3].reshape(-1,1)\n",
    "\n",
    "#     y_valid = catch[idx][4].reshape(-1,1)\n",
    "\n",
    "#     y_test = catch[idx][5].reshape(-1,1)\n",
    "\n",
    "    \n",
    "    train_valid_seqs = np.vstack((catch[idx][0], catch[idx][1]))\n",
    "    # train_valid_labels = np.vstack((y_train, y_valid))\n",
    "    \n",
    "    test_seqs = catch[idx][2]\n",
    "\n",
    "    \n",
    "    start = datetime.now()\n",
    "    \n",
    "    base_model = tf.keras.models.load_model(\"Real_World_LSTM_Models_Low_Dropout\" + \"//\" + \"Model_\" + str(idx))\n",
    "    ens_model = attention_lstm_model_low(True)\n",
    "    ens_model.set_weights(base_model.get_weights())\n",
    "    \n",
    "            \n",
    "    all_preds1 = [np.array(ens_model(train_valid_seqs)) for i in (range(0, bnn_reps))]\n",
    "    all_preds1 = np.hstack(all_preds1)\n",
    "\n",
    "    all_preds2 = expit(all_preds1)\n",
    "    all_preds3 = all_preds2.mean(1).reshape(-1,1)\n",
    "        \n",
    "        \n",
    "\n",
    "    li = np.percentile(all_preds2, axis = 1, q = (2.5, 97.5))[0,:].reshape(-1,1)\n",
    "            \n",
    "    ui = np.percentile(all_preds2, axis = 1, q = (2.5, 97.5))[1,:].reshape(-1,1)\n",
    "            \n",
    "    width = ui - li\n",
    "            \n",
    "    avg_width_train = np.mean(width)\n",
    "        \n",
    "    interim = expit(X_train_logits)\n",
    "        \n",
    "    train_mae = np.mean(np.abs(interim.ravel() - all_preds3.ravel()))\n",
    "        \n",
    "            \n",
    "    temp = interim\n",
    "            \n",
    "    ind = (temp >= li) & (temp <= ui)\n",
    "            \n",
    "    coverage_train= np.mean(ind.ravel())  \n",
    "            \n",
    "            \n",
    "    all_preds1 = [np.array(ens_model(test_seqs)) for i in (range(0, bnn_reps))]\n",
    "    all_preds1 = np.hstack(all_preds1)\n",
    "    all_preds2 = expit(all_preds1)\n",
    "    all_preds3 = all_preds2.mean(1).reshape(-1,1)\n",
    "            \n",
    "    li = np.percentile(all_preds2, axis = 1, q = (2.5, 97.5))[0,:].reshape(-1,1)\n",
    "            \n",
    "    ui = np.percentile(all_preds2, axis = 1, q = (2.5, 97.5))[1,:].reshape(-1,1)\n",
    "            \n",
    "    width = ui - li\n",
    "            \n",
    "    avg_width = np.mean(width)\n",
    "        \n",
    "    catch_test_probs = expit(X_test_logits)\n",
    "            \n",
    "    ind_test = (catch_test_probs >= li) & (catch_test_probs <= ui)\n",
    "               \n",
    " \n",
    "    coverage_test = np.mean(ind_test.ravel())    \n",
    "    \n",
    "    test_mae = np.mean(np.abs(catch_test_probs.ravel() - all_preds3.ravel()))\n",
    "            \n",
    "\n",
    "            \n",
    "    end = datetime.now()      \n",
    "    total = (end-start)\n",
    "    time_taken = total.seconds/60.0\n",
    "            \n",
    "            \n",
    "    print(test_mae,coverage_test, avg_width, flush = True)\n",
    "    return train_mae, test_mae, coverage_train, avg_width_train, coverage_test, avg_width, time_taken, all_preds2\n",
    "        \n",
    "    # print(\"something went awry\", flush = True)"
   ]
  },
  {
   "cell_type": "code",
   "execution_count": 47,
   "id": "7761cf2f-2827-4059-83b6-a97d6f60d760",
   "metadata": {},
   "outputs": [],
   "source": [
    "# rep_one_real_world(0, inflation_factor = 0.2, cutoff = 100)"
   ]
  },
  {
   "cell_type": "code",
   "execution_count": 48,
   "id": "605540da-2ad3-4d18-b8a4-93dd7c052f20",
   "metadata": {},
   "outputs": [],
   "source": [
    "# threshold = 10"
   ]
  },
  {
   "cell_type": "code",
   "execution_count": 49,
   "id": "138d0228-17b7-4019-9abe-458206e8a7df",
   "metadata": {},
   "outputs": [],
   "source": [
    "# cutoff_threshold = 10"
   ]
  },
  {
   "cell_type": "code",
   "execution_count": 50,
   "id": "879e0642-2387-46a1-8ea4-1e42e9e46819",
   "metadata": {},
   "outputs": [],
   "source": [
    "# best_train_mae, best_test_mae, best_train_coverage, best_train_width, best_test_coverage, best_test_width,  exit_iter_no_thresh,time_taken,  best_test_preds = rep_one_real_world(30)"
   ]
  },
  {
   "cell_type": "code",
   "execution_count": 51,
   "id": "7885566c-6100-4212-b604-bdffbb97b025",
   "metadata": {},
   "outputs": [],
   "source": [
    "# best_train_mae, best_test_mae, best_train_coverage, best_train_width, best_test_coverage, best_test_width,  exit_iter_no_thresh, time_taken"
   ]
  },
  {
   "cell_type": "code",
   "execution_count": 52,
   "id": "e294790b-8dc6-4f99-ba83-dfcea5f75845",
   "metadata": {},
   "outputs": [],
   "source": [
    "reps = 50"
   ]
  },
  {
   "cell_type": "code",
   "execution_count": 53,
   "id": "99a723c6",
   "metadata": {},
   "outputs": [
    {
     "name": "stderr",
     "output_type": "stream",
     "text": [
      "[Parallel(n_jobs=15)]: Using backend LokyBackend with 15 concurrent workers.\n"
     ]
    },
    {
     "name": "stdout",
     "output_type": "stream",
     "text": [
      "0.11171851 1.0 0.25121986304293376\n",
      "0.061573222 1.0 0.4225282075989526\n"
     ]
    },
    {
     "name": "stderr",
     "output_type": "stream",
     "text": [
      "[Parallel(n_jobs=15)]: Done   2 tasks      | elapsed:   33.5s\n"
     ]
    },
    {
     "name": "stdout",
     "output_type": "stream",
     "text": [
      "0.031401064 1.0 0.2426246864255518\n",
      "0.027511397 1.0 0.44307624077191576\n",
      "0.078192845 1.0 0.3700633197309799\n",
      "0.092925936 1.0 0.6133323009300511\n",
      "0.032838553 1.0 0.4674125719233416\n",
      "0.028948784 1.0 0.3372976061422378\n",
      "0.13067305 1.0 0.4356292571173981\n",
      "0.06478864 1.0 0.4042641145410016\n",
      "0.12716065 1.0 0.4916608016981627\n",
      "0.06531185 1.0 0.34738045730628075\n"
     ]
    },
    {
     "name": "stderr",
     "output_type": "stream",
     "text": [
      "[Parallel(n_jobs=15)]: Done  11 tasks      | elapsed:   37.8s\n"
     ]
    },
    {
     "name": "stdout",
     "output_type": "stream",
     "text": [
      "0.14501333 1.0 0.39147859015793074\n",
      "0.056332845 1.0 0.439277992863208\n",
      "0.022541836 1.0 0.23092407353688033\n",
      "0.028896851 1.0 0.2512656621169299\n",
      "0.046748616 1.0 0.3532043880200946\n",
      "0.029817078 1.0 0.28031333312392237\n",
      "0.005507754 1.0 0.08983082706108689\n"
     ]
    },
    {
     "name": "stderr",
     "output_type": "stream",
     "text": [
      "[Parallel(n_jobs=15)]: Done  20 tasks      | elapsed:  1.1min\n"
     ]
    },
    {
     "name": "stdout",
     "output_type": "stream",
     "text": [
      "0.027480226 1.0 0.2777974262833595\n",
      "0.05527983 1.0 0.3992236727382988\n",
      "0.027119093 1.0 0.31498732659965756\n",
      "0.047445633 1.0 0.3101218002848327\n",
      "0.05559753 1.0 0.38385570950340475\n",
      "0.024274684 1.0 0.20923379096202555\n",
      "0.016550452 1.0 0.20363486012211074\n",
      "0.018997408 1.0 0.10208257697522641\n"
     ]
    },
    {
     "name": "stderr",
     "output_type": "stream",
     "text": [
      "[Parallel(n_jobs=15)]: Done  27 out of  50 | elapsed:  1.2min remaining:   59.7s\n"
     ]
    },
    {
     "name": "stdout",
     "output_type": "stream",
     "text": [
      "0.012888264 1.0 0.1331439166096971\n",
      "0.026044697 1.0 0.11355039721820503\n",
      "0.019400805 1.0 0.293539472820703\n",
      "0.011236958 1.0 0.13202241298276932\n",
      "0.0060152626 1.0 0.11031252362299716\n",
      "0.017580986 1.0 0.1855011900421232\n"
     ]
    },
    {
     "name": "stderr",
     "output_type": "stream",
     "text": [
      "[Parallel(n_jobs=15)]: Done  33 out of  50 | elapsed:  1.4min remaining:   44.5s\n"
     ]
    },
    {
     "name": "stdout",
     "output_type": "stream",
     "text": [
      "0.023968302 1.0 0.10626260109711438\n",
      "0.0030546524 1.0 0.02569232654059308\n",
      "0.031736717 1.0 0.2496833106619306\n",
      "0.019140994 1.0 0.2008104584994726\n",
      "0.018728338 1.0 0.17038709279149775\n",
      "0.06034932 1.0 0.44736486973706635\n"
     ]
    },
    {
     "name": "stderr",
     "output_type": "stream",
     "text": [
      "[Parallel(n_jobs=15)]: Done  39 out of  50 | elapsed:  1.6min remaining:   27.8s\n"
     ]
    },
    {
     "name": "stdout",
     "output_type": "stream",
     "text": [
      "0.027292121 1.0 0.3174664572812617\n",
      "0.05430933 1.0 0.22203446296043694\n",
      "0.007914642 1.0 0.07911605034023522\n",
      "0.02345662 1.0 0.19267686061793934\n",
      "0.007891476 1.0 0.06830305634066462\n",
      "0.0204787 1.0 0.09518903894349934\n"
     ]
    },
    {
     "name": "stderr",
     "output_type": "stream",
     "text": [
      "[Parallel(n_jobs=15)]: Done  45 out of  50 | elapsed:  1.7min remaining:   11.6s\n"
     ]
    },
    {
     "name": "stdout",
     "output_type": "stream",
     "text": [
      "0.022234093 1.0 0.20871179401874546\n",
      "0.010681307 1.0 0.14093925748020414\n",
      "0.041098364 1.0 0.3188775489572436\n",
      "0.024425047 1.0 0.19497564416378738\n",
      "0.016249117 1.0 0.20634777324739845\n"
     ]
    },
    {
     "name": "stderr",
     "output_type": "stream",
     "text": [
      "[Parallel(n_jobs=15)]: Done  50 out of  50 | elapsed:  2.1min finished\n"
     ]
    }
   ],
   "source": [
    "catch_coverages = Parallel(n_jobs=use_cores, verbose = 10, backend = \"loky\")(delayed(rep_one_real_world)(i) for i in range(reps))"
   ]
  },
  {
   "cell_type": "code",
   "execution_count": 54,
   "id": "1e8200e5-b784-49c8-9ae9-fd7ee5a2e71d",
   "metadata": {},
   "outputs": [],
   "source": [
    "# catch_coverages"
   ]
  },
  {
   "cell_type": "code",
   "execution_count": 55,
   "id": "647980a7-9ae3-4c5c-b25c-2e37b6a84679",
   "metadata": {},
   "outputs": [],
   "source": [
    "check = pd.DataFrame(catch_coverages).iloc[:, :-1]"
   ]
  },
  {
   "cell_type": "code",
   "execution_count": 56,
   "id": "e45525f0-de06-47bf-8cca-da34b95705f4",
   "metadata": {},
   "outputs": [
    {
     "data": {
      "text/html": [
       "<div>\n",
       "<style scoped>\n",
       "    .dataframe tbody tr th:only-of-type {\n",
       "        vertical-align: middle;\n",
       "    }\n",
       "\n",
       "    .dataframe tbody tr th {\n",
       "        vertical-align: top;\n",
       "    }\n",
       "\n",
       "    .dataframe thead th {\n",
       "        text-align: right;\n",
       "    }\n",
       "</style>\n",
       "<table border=\"1\" class=\"dataframe\">\n",
       "  <thead>\n",
       "    <tr style=\"text-align: right;\">\n",
       "      <th></th>\n",
       "      <th>0</th>\n",
       "      <th>1</th>\n",
       "      <th>2</th>\n",
       "      <th>3</th>\n",
       "      <th>4</th>\n",
       "      <th>5</th>\n",
       "      <th>6</th>\n",
       "    </tr>\n",
       "  </thead>\n",
       "  <tbody>\n",
       "    <tr>\n",
       "      <th>0</th>\n",
       "      <td>0.065505</td>\n",
       "      <td>0.078193</td>\n",
       "      <td>0.893939</td>\n",
       "      <td>0.344502</td>\n",
       "      <td>1.0</td>\n",
       "      <td>0.370063</td>\n",
       "      <td>0.566667</td>\n",
       "    </tr>\n",
       "    <tr>\n",
       "      <th>1</th>\n",
       "      <td>0.021939</td>\n",
       "      <td>0.028949</td>\n",
       "      <td>0.863636</td>\n",
       "      <td>0.147689</td>\n",
       "      <td>1.0</td>\n",
       "      <td>0.337298</td>\n",
       "      <td>0.566667</td>\n",
       "    </tr>\n",
       "    <tr>\n",
       "      <th>2</th>\n",
       "      <td>0.055700</td>\n",
       "      <td>0.092926</td>\n",
       "      <td>0.909091</td>\n",
       "      <td>0.387493</td>\n",
       "      <td>1.0</td>\n",
       "      <td>0.613332</td>\n",
       "      <td>0.566667</td>\n",
       "    </tr>\n",
       "    <tr>\n",
       "      <th>3</th>\n",
       "      <td>0.030309</td>\n",
       "      <td>0.032839</td>\n",
       "      <td>0.924242</td>\n",
       "      <td>0.229783</td>\n",
       "      <td>1.0</td>\n",
       "      <td>0.467413</td>\n",
       "      <td>0.566667</td>\n",
       "    </tr>\n",
       "    <tr>\n",
       "      <th>4</th>\n",
       "      <td>0.048854</td>\n",
       "      <td>0.111719</td>\n",
       "      <td>0.939394</td>\n",
       "      <td>0.285307</td>\n",
       "      <td>1.0</td>\n",
       "      <td>0.251220</td>\n",
       "      <td>0.483333</td>\n",
       "    </tr>\n",
       "    <tr>\n",
       "      <th>5</th>\n",
       "      <td>0.019259</td>\n",
       "      <td>0.064789</td>\n",
       "      <td>0.848485</td>\n",
       "      <td>0.134320</td>\n",
       "      <td>1.0</td>\n",
       "      <td>0.404264</td>\n",
       "      <td>0.566667</td>\n",
       "    </tr>\n",
       "    <tr>\n",
       "      <th>6</th>\n",
       "      <td>0.046046</td>\n",
       "      <td>0.065312</td>\n",
       "      <td>0.924242</td>\n",
       "      <td>0.264785</td>\n",
       "      <td>1.0</td>\n",
       "      <td>0.347380</td>\n",
       "      <td>0.566667</td>\n",
       "    </tr>\n",
       "    <tr>\n",
       "      <th>7</th>\n",
       "      <td>0.024216</td>\n",
       "      <td>0.145013</td>\n",
       "      <td>0.909091</td>\n",
       "      <td>0.195219</td>\n",
       "      <td>1.0</td>\n",
       "      <td>0.391479</td>\n",
       "      <td>0.566667</td>\n",
       "    </tr>\n",
       "    <tr>\n",
       "      <th>8</th>\n",
       "      <td>0.044361</td>\n",
       "      <td>0.127161</td>\n",
       "      <td>0.924242</td>\n",
       "      <td>0.269523</td>\n",
       "      <td>1.0</td>\n",
       "      <td>0.491661</td>\n",
       "      <td>0.566667</td>\n",
       "    </tr>\n",
       "    <tr>\n",
       "      <th>9</th>\n",
       "      <td>0.027719</td>\n",
       "      <td>0.027511</td>\n",
       "      <td>0.909091</td>\n",
       "      <td>0.198012</td>\n",
       "      <td>1.0</td>\n",
       "      <td>0.443076</td>\n",
       "      <td>0.533333</td>\n",
       "    </tr>\n",
       "    <tr>\n",
       "      <th>10</th>\n",
       "      <td>0.025142</td>\n",
       "      <td>0.061573</td>\n",
       "      <td>0.909091</td>\n",
       "      <td>0.198141</td>\n",
       "      <td>1.0</td>\n",
       "      <td>0.422528</td>\n",
       "      <td>0.500000</td>\n",
       "    </tr>\n",
       "    <tr>\n",
       "      <th>11</th>\n",
       "      <td>0.032737</td>\n",
       "      <td>0.031401</td>\n",
       "      <td>0.954545</td>\n",
       "      <td>0.211107</td>\n",
       "      <td>1.0</td>\n",
       "      <td>0.242625</td>\n",
       "      <td>0.516667</td>\n",
       "    </tr>\n",
       "    <tr>\n",
       "      <th>12</th>\n",
       "      <td>0.024868</td>\n",
       "      <td>0.130673</td>\n",
       "      <td>0.924242</td>\n",
       "      <td>0.164931</td>\n",
       "      <td>1.0</td>\n",
       "      <td>0.435629</td>\n",
       "      <td>0.566667</td>\n",
       "    </tr>\n",
       "    <tr>\n",
       "      <th>13</th>\n",
       "      <td>0.029028</td>\n",
       "      <td>0.056333</td>\n",
       "      <td>0.893939</td>\n",
       "      <td>0.178650</td>\n",
       "      <td>1.0</td>\n",
       "      <td>0.439278</td>\n",
       "      <td>0.566667</td>\n",
       "    </tr>\n",
       "    <tr>\n",
       "      <th>14</th>\n",
       "      <td>0.030895</td>\n",
       "      <td>0.022542</td>\n",
       "      <td>0.893939</td>\n",
       "      <td>0.193171</td>\n",
       "      <td>1.0</td>\n",
       "      <td>0.230924</td>\n",
       "      <td>0.566667</td>\n",
       "    </tr>\n",
       "    <tr>\n",
       "      <th>15</th>\n",
       "      <td>0.022837</td>\n",
       "      <td>0.028897</td>\n",
       "      <td>0.833333</td>\n",
       "      <td>0.212295</td>\n",
       "      <td>1.0</td>\n",
       "      <td>0.251266</td>\n",
       "      <td>0.400000</td>\n",
       "    </tr>\n",
       "    <tr>\n",
       "      <th>16</th>\n",
       "      <td>0.022685</td>\n",
       "      <td>0.046749</td>\n",
       "      <td>0.878788</td>\n",
       "      <td>0.200595</td>\n",
       "      <td>1.0</td>\n",
       "      <td>0.353204</td>\n",
       "      <td>0.400000</td>\n",
       "    </tr>\n",
       "    <tr>\n",
       "      <th>17</th>\n",
       "      <td>0.028391</td>\n",
       "      <td>0.029817</td>\n",
       "      <td>0.818182</td>\n",
       "      <td>0.166741</td>\n",
       "      <td>1.0</td>\n",
       "      <td>0.280313</td>\n",
       "      <td>0.400000</td>\n",
       "    </tr>\n",
       "    <tr>\n",
       "      <th>18</th>\n",
       "      <td>0.018104</td>\n",
       "      <td>0.005508</td>\n",
       "      <td>0.712121</td>\n",
       "      <td>0.093934</td>\n",
       "      <td>1.0</td>\n",
       "      <td>0.089831</td>\n",
       "      <td>0.466667</td>\n",
       "    </tr>\n",
       "    <tr>\n",
       "      <th>19</th>\n",
       "      <td>0.025849</td>\n",
       "      <td>0.027480</td>\n",
       "      <td>0.833333</td>\n",
       "      <td>0.148560</td>\n",
       "      <td>1.0</td>\n",
       "      <td>0.277797</td>\n",
       "      <td>0.466667</td>\n",
       "    </tr>\n",
       "    <tr>\n",
       "      <th>20</th>\n",
       "      <td>0.025159</td>\n",
       "      <td>0.055280</td>\n",
       "      <td>0.893939</td>\n",
       "      <td>0.195806</td>\n",
       "      <td>1.0</td>\n",
       "      <td>0.399224</td>\n",
       "      <td>0.466667</td>\n",
       "    </tr>\n",
       "    <tr>\n",
       "      <th>21</th>\n",
       "      <td>0.022953</td>\n",
       "      <td>0.024275</td>\n",
       "      <td>0.727273</td>\n",
       "      <td>0.204323</td>\n",
       "      <td>1.0</td>\n",
       "      <td>0.209234</td>\n",
       "      <td>0.516667</td>\n",
       "    </tr>\n",
       "    <tr>\n",
       "      <th>22</th>\n",
       "      <td>0.023593</td>\n",
       "      <td>0.018997</td>\n",
       "      <td>0.742424</td>\n",
       "      <td>0.174586</td>\n",
       "      <td>1.0</td>\n",
       "      <td>0.102083</td>\n",
       "      <td>0.516667</td>\n",
       "    </tr>\n",
       "    <tr>\n",
       "      <th>23</th>\n",
       "      <td>0.016912</td>\n",
       "      <td>0.027119</td>\n",
       "      <td>0.878788</td>\n",
       "      <td>0.162034</td>\n",
       "      <td>1.0</td>\n",
       "      <td>0.314987</td>\n",
       "      <td>0.466667</td>\n",
       "    </tr>\n",
       "    <tr>\n",
       "      <th>24</th>\n",
       "      <td>0.017984</td>\n",
       "      <td>0.016550</td>\n",
       "      <td>0.818182</td>\n",
       "      <td>0.157159</td>\n",
       "      <td>1.0</td>\n",
       "      <td>0.203635</td>\n",
       "      <td>0.516667</td>\n",
       "    </tr>\n",
       "    <tr>\n",
       "      <th>25</th>\n",
       "      <td>0.030365</td>\n",
       "      <td>0.047446</td>\n",
       "      <td>0.878788</td>\n",
       "      <td>0.195517</td>\n",
       "      <td>1.0</td>\n",
       "      <td>0.310122</td>\n",
       "      <td>0.466667</td>\n",
       "    </tr>\n",
       "    <tr>\n",
       "      <th>26</th>\n",
       "      <td>0.028463</td>\n",
       "      <td>0.026045</td>\n",
       "      <td>0.681818</td>\n",
       "      <td>0.197744</td>\n",
       "      <td>1.0</td>\n",
       "      <td>0.113550</td>\n",
       "      <td>0.516667</td>\n",
       "    </tr>\n",
       "    <tr>\n",
       "      <th>27</th>\n",
       "      <td>0.022014</td>\n",
       "      <td>0.012888</td>\n",
       "      <td>0.727273</td>\n",
       "      <td>0.101756</td>\n",
       "      <td>1.0</td>\n",
       "      <td>0.133144</td>\n",
       "      <td>0.516667</td>\n",
       "    </tr>\n",
       "    <tr>\n",
       "      <th>28</th>\n",
       "      <td>0.023946</td>\n",
       "      <td>0.055598</td>\n",
       "      <td>0.893939</td>\n",
       "      <td>0.193907</td>\n",
       "      <td>1.0</td>\n",
       "      <td>0.383856</td>\n",
       "      <td>0.466667</td>\n",
       "    </tr>\n",
       "    <tr>\n",
       "      <th>29</th>\n",
       "      <td>0.038388</td>\n",
       "      <td>0.019401</td>\n",
       "      <td>0.787879</td>\n",
       "      <td>0.245500</td>\n",
       "      <td>1.0</td>\n",
       "      <td>0.293539</td>\n",
       "      <td>0.516667</td>\n",
       "    </tr>\n",
       "    <tr>\n",
       "      <th>30</th>\n",
       "      <td>0.025539</td>\n",
       "      <td>0.011237</td>\n",
       "      <td>0.863636</td>\n",
       "      <td>0.252673</td>\n",
       "      <td>1.0</td>\n",
       "      <td>0.132022</td>\n",
       "      <td>0.450000</td>\n",
       "    </tr>\n",
       "    <tr>\n",
       "      <th>31</th>\n",
       "      <td>0.025698</td>\n",
       "      <td>0.006015</td>\n",
       "      <td>0.742424</td>\n",
       "      <td>0.165131</td>\n",
       "      <td>1.0</td>\n",
       "      <td>0.110313</td>\n",
       "      <td>0.433333</td>\n",
       "    </tr>\n",
       "    <tr>\n",
       "      <th>32</th>\n",
       "      <td>0.021882</td>\n",
       "      <td>0.017581</td>\n",
       "      <td>0.818182</td>\n",
       "      <td>0.182265</td>\n",
       "      <td>1.0</td>\n",
       "      <td>0.185501</td>\n",
       "      <td>0.433333</td>\n",
       "    </tr>\n",
       "    <tr>\n",
       "      <th>33</th>\n",
       "      <td>0.043345</td>\n",
       "      <td>0.023968</td>\n",
       "      <td>0.696970</td>\n",
       "      <td>0.253868</td>\n",
       "      <td>1.0</td>\n",
       "      <td>0.106263</td>\n",
       "      <td>0.433333</td>\n",
       "    </tr>\n",
       "    <tr>\n",
       "      <th>34</th>\n",
       "      <td>0.025297</td>\n",
       "      <td>0.054309</td>\n",
       "      <td>0.863636</td>\n",
       "      <td>0.203677</td>\n",
       "      <td>1.0</td>\n",
       "      <td>0.222034</td>\n",
       "      <td>0.550000</td>\n",
       "    </tr>\n",
       "    <tr>\n",
       "      <th>35</th>\n",
       "      <td>0.034927</td>\n",
       "      <td>0.003055</td>\n",
       "      <td>0.878788</td>\n",
       "      <td>0.224619</td>\n",
       "      <td>1.0</td>\n",
       "      <td>0.025692</td>\n",
       "      <td>0.500000</td>\n",
       "    </tr>\n",
       "    <tr>\n",
       "      <th>36</th>\n",
       "      <td>0.028722</td>\n",
       "      <td>0.031737</td>\n",
       "      <td>0.742424</td>\n",
       "      <td>0.199063</td>\n",
       "      <td>1.0</td>\n",
       "      <td>0.249683</td>\n",
       "      <td>0.500000</td>\n",
       "    </tr>\n",
       "    <tr>\n",
       "      <th>37</th>\n",
       "      <td>0.012231</td>\n",
       "      <td>0.007915</td>\n",
       "      <td>0.833333</td>\n",
       "      <td>0.116530</td>\n",
       "      <td>1.0</td>\n",
       "      <td>0.079116</td>\n",
       "      <td>0.550000</td>\n",
       "    </tr>\n",
       "    <tr>\n",
       "      <th>38</th>\n",
       "      <td>0.021803</td>\n",
       "      <td>0.018728</td>\n",
       "      <td>0.833333</td>\n",
       "      <td>0.185779</td>\n",
       "      <td>1.0</td>\n",
       "      <td>0.170387</td>\n",
       "      <td>0.516667</td>\n",
       "    </tr>\n",
       "    <tr>\n",
       "      <th>39</th>\n",
       "      <td>0.020155</td>\n",
       "      <td>0.019141</td>\n",
       "      <td>0.878788</td>\n",
       "      <td>0.156424</td>\n",
       "      <td>1.0</td>\n",
       "      <td>0.200810</td>\n",
       "      <td>0.466667</td>\n",
       "    </tr>\n",
       "    <tr>\n",
       "      <th>40</th>\n",
       "      <td>0.015808</td>\n",
       "      <td>0.007891</td>\n",
       "      <td>0.757576</td>\n",
       "      <td>0.086315</td>\n",
       "      <td>1.0</td>\n",
       "      <td>0.068303</td>\n",
       "      <td>0.550000</td>\n",
       "    </tr>\n",
       "    <tr>\n",
       "      <th>41</th>\n",
       "      <td>0.021440</td>\n",
       "      <td>0.020479</td>\n",
       "      <td>0.757576</td>\n",
       "      <td>0.121077</td>\n",
       "      <td>1.0</td>\n",
       "      <td>0.095189</td>\n",
       "      <td>0.566667</td>\n",
       "    </tr>\n",
       "    <tr>\n",
       "      <th>42</th>\n",
       "      <td>0.020187</td>\n",
       "      <td>0.023457</td>\n",
       "      <td>0.833333</td>\n",
       "      <td>0.169706</td>\n",
       "      <td>1.0</td>\n",
       "      <td>0.192677</td>\n",
       "      <td>0.516667</td>\n",
       "    </tr>\n",
       "    <tr>\n",
       "      <th>43</th>\n",
       "      <td>0.030317</td>\n",
       "      <td>0.060349</td>\n",
       "      <td>0.878788</td>\n",
       "      <td>0.202078</td>\n",
       "      <td>1.0</td>\n",
       "      <td>0.447365</td>\n",
       "      <td>0.466667</td>\n",
       "    </tr>\n",
       "    <tr>\n",
       "      <th>44</th>\n",
       "      <td>0.023885</td>\n",
       "      <td>0.027292</td>\n",
       "      <td>0.909091</td>\n",
       "      <td>0.193266</td>\n",
       "      <td>1.0</td>\n",
       "      <td>0.317466</td>\n",
       "      <td>0.466667</td>\n",
       "    </tr>\n",
       "    <tr>\n",
       "      <th>45</th>\n",
       "      <td>0.034370</td>\n",
       "      <td>0.041098</td>\n",
       "      <td>0.863636</td>\n",
       "      <td>0.195403</td>\n",
       "      <td>1.0</td>\n",
       "      <td>0.318878</td>\n",
       "      <td>0.500000</td>\n",
       "    </tr>\n",
       "    <tr>\n",
       "      <th>46</th>\n",
       "      <td>0.022101</td>\n",
       "      <td>0.010681</td>\n",
       "      <td>0.848485</td>\n",
       "      <td>0.186175</td>\n",
       "      <td>1.0</td>\n",
       "      <td>0.140939</td>\n",
       "      <td>0.450000</td>\n",
       "    </tr>\n",
       "    <tr>\n",
       "      <th>47</th>\n",
       "      <td>0.031465</td>\n",
       "      <td>0.022234</td>\n",
       "      <td>0.909091</td>\n",
       "      <td>0.210053</td>\n",
       "      <td>1.0</td>\n",
       "      <td>0.208712</td>\n",
       "      <td>0.416667</td>\n",
       "    </tr>\n",
       "    <tr>\n",
       "      <th>48</th>\n",
       "      <td>0.024536</td>\n",
       "      <td>0.024425</td>\n",
       "      <td>0.818182</td>\n",
       "      <td>0.192504</td>\n",
       "      <td>1.0</td>\n",
       "      <td>0.194976</td>\n",
       "      <td>0.416667</td>\n",
       "    </tr>\n",
       "    <tr>\n",
       "      <th>49</th>\n",
       "      <td>0.016299</td>\n",
       "      <td>0.016249</td>\n",
       "      <td>0.833333</td>\n",
       "      <td>0.148752</td>\n",
       "      <td>1.0</td>\n",
       "      <td>0.206348</td>\n",
       "      <td>0.516667</td>\n",
       "    </tr>\n",
       "  </tbody>\n",
       "</table>\n",
       "</div>"
      ],
      "text/plain": [
       "           0         1         2         3    4         5         6\n",
       "0   0.065505  0.078193  0.893939  0.344502  1.0  0.370063  0.566667\n",
       "1   0.021939  0.028949  0.863636  0.147689  1.0  0.337298  0.566667\n",
       "2   0.055700  0.092926  0.909091  0.387493  1.0  0.613332  0.566667\n",
       "3   0.030309  0.032839  0.924242  0.229783  1.0  0.467413  0.566667\n",
       "4   0.048854  0.111719  0.939394  0.285307  1.0  0.251220  0.483333\n",
       "5   0.019259  0.064789  0.848485  0.134320  1.0  0.404264  0.566667\n",
       "6   0.046046  0.065312  0.924242  0.264785  1.0  0.347380  0.566667\n",
       "7   0.024216  0.145013  0.909091  0.195219  1.0  0.391479  0.566667\n",
       "8   0.044361  0.127161  0.924242  0.269523  1.0  0.491661  0.566667\n",
       "9   0.027719  0.027511  0.909091  0.198012  1.0  0.443076  0.533333\n",
       "10  0.025142  0.061573  0.909091  0.198141  1.0  0.422528  0.500000\n",
       "11  0.032737  0.031401  0.954545  0.211107  1.0  0.242625  0.516667\n",
       "12  0.024868  0.130673  0.924242  0.164931  1.0  0.435629  0.566667\n",
       "13  0.029028  0.056333  0.893939  0.178650  1.0  0.439278  0.566667\n",
       "14  0.030895  0.022542  0.893939  0.193171  1.0  0.230924  0.566667\n",
       "15  0.022837  0.028897  0.833333  0.212295  1.0  0.251266  0.400000\n",
       "16  0.022685  0.046749  0.878788  0.200595  1.0  0.353204  0.400000\n",
       "17  0.028391  0.029817  0.818182  0.166741  1.0  0.280313  0.400000\n",
       "18  0.018104  0.005508  0.712121  0.093934  1.0  0.089831  0.466667\n",
       "19  0.025849  0.027480  0.833333  0.148560  1.0  0.277797  0.466667\n",
       "20  0.025159  0.055280  0.893939  0.195806  1.0  0.399224  0.466667\n",
       "21  0.022953  0.024275  0.727273  0.204323  1.0  0.209234  0.516667\n",
       "22  0.023593  0.018997  0.742424  0.174586  1.0  0.102083  0.516667\n",
       "23  0.016912  0.027119  0.878788  0.162034  1.0  0.314987  0.466667\n",
       "24  0.017984  0.016550  0.818182  0.157159  1.0  0.203635  0.516667\n",
       "25  0.030365  0.047446  0.878788  0.195517  1.0  0.310122  0.466667\n",
       "26  0.028463  0.026045  0.681818  0.197744  1.0  0.113550  0.516667\n",
       "27  0.022014  0.012888  0.727273  0.101756  1.0  0.133144  0.516667\n",
       "28  0.023946  0.055598  0.893939  0.193907  1.0  0.383856  0.466667\n",
       "29  0.038388  0.019401  0.787879  0.245500  1.0  0.293539  0.516667\n",
       "30  0.025539  0.011237  0.863636  0.252673  1.0  0.132022  0.450000\n",
       "31  0.025698  0.006015  0.742424  0.165131  1.0  0.110313  0.433333\n",
       "32  0.021882  0.017581  0.818182  0.182265  1.0  0.185501  0.433333\n",
       "33  0.043345  0.023968  0.696970  0.253868  1.0  0.106263  0.433333\n",
       "34  0.025297  0.054309  0.863636  0.203677  1.0  0.222034  0.550000\n",
       "35  0.034927  0.003055  0.878788  0.224619  1.0  0.025692  0.500000\n",
       "36  0.028722  0.031737  0.742424  0.199063  1.0  0.249683  0.500000\n",
       "37  0.012231  0.007915  0.833333  0.116530  1.0  0.079116  0.550000\n",
       "38  0.021803  0.018728  0.833333  0.185779  1.0  0.170387  0.516667\n",
       "39  0.020155  0.019141  0.878788  0.156424  1.0  0.200810  0.466667\n",
       "40  0.015808  0.007891  0.757576  0.086315  1.0  0.068303  0.550000\n",
       "41  0.021440  0.020479  0.757576  0.121077  1.0  0.095189  0.566667\n",
       "42  0.020187  0.023457  0.833333  0.169706  1.0  0.192677  0.516667\n",
       "43  0.030317  0.060349  0.878788  0.202078  1.0  0.447365  0.466667\n",
       "44  0.023885  0.027292  0.909091  0.193266  1.0  0.317466  0.466667\n",
       "45  0.034370  0.041098  0.863636  0.195403  1.0  0.318878  0.500000\n",
       "46  0.022101  0.010681  0.848485  0.186175  1.0  0.140939  0.450000\n",
       "47  0.031465  0.022234  0.909091  0.210053  1.0  0.208712  0.416667\n",
       "48  0.024536  0.024425  0.818182  0.192504  1.0  0.194976  0.416667\n",
       "49  0.016299  0.016249  0.833333  0.148752  1.0  0.206348  0.516667"
      ]
     },
     "execution_count": 56,
     "metadata": {},
     "output_type": "execute_result"
    }
   ],
   "source": [
    "check"
   ]
  },
  {
   "cell_type": "code",
   "execution_count": 57,
   "id": "e061792a-e589-486e-b8d2-336622f6bf34",
   "metadata": {},
   "outputs": [],
   "source": [
    "# check"
   ]
  },
  {
   "cell_type": "code",
   "execution_count": 58,
   "id": "fa101efc-351b-4645-87a3-f008abf1ff3d",
   "metadata": {},
   "outputs": [],
   "source": [
    "# check"
   ]
  },
  {
   "cell_type": "code",
   "execution_count": 59,
   "id": "77536655-0afd-4976-980a-fa7a28b55201",
   "metadata": {},
   "outputs": [],
   "source": [
    "# check.columns = [\"train_mae\", \"test_mae\", \"avg_ci_width_train\", \"avg_ci_width_test\", \"avg_lstm_weight\", \"exit_iter\", \"exit_status\"]"
   ]
  },
  {
   "cell_type": "code",
   "execution_count": 60,
   "id": "cd8cefbd-9076-469e-a5dc-dc4637846308",
   "metadata": {},
   "outputs": [],
   "source": [
    "# check"
   ]
  },
  {
   "cell_type": "code",
   "execution_count": 61,
   "id": "4fc1dcac-24b2-45e7-ae4c-e55eca90a6c6",
   "metadata": {},
   "outputs": [],
   "source": [
    "check.columns = [\"train_mae\", \"test_mae\", \"train_coverage\", \"train_width\", \"test_coverage\", \"test_width\", \"time_taken\"]"
   ]
  },
  {
   "cell_type": "code",
   "execution_count": 62,
   "id": "fcf483cf-1d09-4d5d-8c7c-7db62473a356",
   "metadata": {},
   "outputs": [],
   "source": [
    "check_mean = check.mean().reset_index()"
   ]
  },
  {
   "cell_type": "code",
   "execution_count": 63,
   "id": "b33d52b3-1a70-48ad-9b9d-3f259d4b68c7",
   "metadata": {},
   "outputs": [
    {
     "data": {
      "text/html": [
       "<div>\n",
       "<style scoped>\n",
       "    .dataframe tbody tr th:only-of-type {\n",
       "        vertical-align: middle;\n",
       "    }\n",
       "\n",
       "    .dataframe tbody tr th {\n",
       "        vertical-align: top;\n",
       "    }\n",
       "\n",
       "    .dataframe thead th {\n",
       "        text-align: right;\n",
       "    }\n",
       "</style>\n",
       "<table border=\"1\" class=\"dataframe\">\n",
       "  <thead>\n",
       "    <tr style=\"text-align: right;\">\n",
       "      <th></th>\n",
       "      <th>index</th>\n",
       "      <th>0</th>\n",
       "    </tr>\n",
       "  </thead>\n",
       "  <tbody>\n",
       "    <tr>\n",
       "      <th>0</th>\n",
       "      <td>train_mae</td>\n",
       "      <td>0.027885</td>\n",
       "    </tr>\n",
       "    <tr>\n",
       "      <th>1</th>\n",
       "      <td>test_mae</td>\n",
       "      <td>0.039336</td>\n",
       "    </tr>\n",
       "    <tr>\n",
       "      <th>2</th>\n",
       "      <td>train_coverage</td>\n",
       "      <td>0.845758</td>\n",
       "    </tr>\n",
       "    <tr>\n",
       "      <th>3</th>\n",
       "      <td>train_width</td>\n",
       "      <td>0.193969</td>\n",
       "    </tr>\n",
       "    <tr>\n",
       "      <th>4</th>\n",
       "      <td>test_coverage</td>\n",
       "      <td>1.000000</td>\n",
       "    </tr>\n",
       "    <tr>\n",
       "      <th>5</th>\n",
       "      <td>test_width</td>\n",
       "      <td>0.265533</td>\n",
       "    </tr>\n",
       "    <tr>\n",
       "      <th>6</th>\n",
       "      <td>time_taken</td>\n",
       "      <td>0.501333</td>\n",
       "    </tr>\n",
       "  </tbody>\n",
       "</table>\n",
       "</div>"
      ],
      "text/plain": [
       "            index         0\n",
       "0       train_mae  0.027885\n",
       "1        test_mae  0.039336\n",
       "2  train_coverage  0.845758\n",
       "3     train_width  0.193969\n",
       "4   test_coverage  1.000000\n",
       "5      test_width  0.265533\n",
       "6      time_taken  0.501333"
      ]
     },
     "execution_count": 63,
     "metadata": {},
     "output_type": "execute_result"
    }
   ],
   "source": [
    "check_mean"
   ]
  },
  {
   "cell_type": "code",
   "execution_count": 64,
   "id": "694cfd02-a953-4fc5-888e-a196be3dd80f",
   "metadata": {},
   "outputs": [],
   "source": [
    "check_mean.to_csv(\"mean_metrics_real_world_just_lstm_low_dropout_\"  + \"drop_rate_\"  + str(rate) +  \"_bnn_reps_\" + str(bnn_reps) +  \".csv\", index = False)"
   ]
  },
  {
   "cell_type": "code",
   "execution_count": 65,
   "id": "9b520f45-ad8d-453c-80e7-7a6bb711692f",
   "metadata": {},
   "outputs": [],
   "source": [
    "check_std = check.std().reset_index()"
   ]
  },
  {
   "cell_type": "code",
   "execution_count": 66,
   "id": "bad06d4d-316c-497c-be10-ea06c9b8468f",
   "metadata": {},
   "outputs": [],
   "source": [
    "check_std.to_csv(\"std_dev_metrics_real_world_just_lstm_low_dropout_\"  + \"drop_rate_\"  + str(rate) +  \"_bnn_reps_\" + str(bnn_reps) +  \".csv\", index = False)"
   ]
  },
  {
   "cell_type": "code",
   "execution_count": 67,
   "id": "476c963d-dfc3-42cf-90ff-7f801920fc08",
   "metadata": {},
   "outputs": [],
   "source": [
    "# std_df.to_csv(\"std_dev_metrics_just_lstm_\"  + \"drop_rate_\"  + str(rate) +  \"_bnn_reps_\"+ str(bnn_reps) +  \".csv\")\n"
   ]
  },
  {
   "cell_type": "code",
   "execution_count": 68,
   "id": "e3e43629-3a74-4d41-acaf-dea297a3840c",
   "metadata": {},
   "outputs": [],
   "source": [
    "# check.std()/reps"
   ]
  },
  {
   "cell_type": "code",
   "execution_count": 69,
   "id": "d9e6815f-6e3b-47c0-8383-5931dbe8d2d2",
   "metadata": {},
   "outputs": [],
   "source": [
    "# catch_coverages[i][-1].shape"
   ]
  },
  {
   "cell_type": "code",
   "execution_count": 70,
   "id": "a83c3d12-b2f0-44b8-9904-7b10c4f513bd",
   "metadata": {},
   "outputs": [],
   "source": [
    "true_preds = []\n",
    "enkf_preds = []\n",
    "for i in range(0,reps):\n",
    "    all_preds = catch_coverages[i][-1]\n",
    "    all_preds = all_preds.mean(1)\n",
    "    catch_test_probs = expit(catch1[i][2])\n",
    "    true_probs = catch_test_probs.ravel().tolist()\n",
    "    true_preds.append(true_probs)\n",
    "    enkf_preds.append(all_preds.ravel().tolist())\n",
    "    # plt.scatter(true_probs, all_preds.ravel().tolist())\n",
    "    # plt.show()"
   ]
  },
  {
   "cell_type": "code",
   "execution_count": 71,
   "id": "4089a2ab-43f9-4e24-a7ed-add7bdc14156",
   "metadata": {},
   "outputs": [],
   "source": [
    "true_preds = [inner for item in true_preds for inner in item]"
   ]
  },
  {
   "cell_type": "code",
   "execution_count": 72,
   "id": "65492b8d-d7e4-4375-8577-d79a633680b7",
   "metadata": {},
   "outputs": [],
   "source": [
    "enkf_preds = [inner for item in enkf_preds for inner in item]"
   ]
  },
  {
   "cell_type": "code",
   "execution_count": 73,
   "id": "19776731-14c7-43c3-bd48-163aa67e2c76",
   "metadata": {},
   "outputs": [
    {
     "data": {
      "text/plain": [
       "0.03933647620840929"
      ]
     },
     "execution_count": 73,
     "metadata": {},
     "output_type": "execute_result"
    }
   ],
   "source": [
    "np.mean(np.abs(np.array(true_preds)-np.array(enkf_preds)))"
   ]
  },
  {
   "cell_type": "code",
   "execution_count": 74,
   "id": "1ebada74-6fe8-4f58-a939-87ca7399aef8",
   "metadata": {},
   "outputs": [
    {
     "data": {
      "text/plain": [
       "<matplotlib.lines._AxLine at 0x150ddc74aa70>"
      ]
     },
     "execution_count": 74,
     "metadata": {},
     "output_type": "execute_result"
    },
    {
     "data": {
      "image/png": "[encoded data removed]",
      "text/plain": [
       "<Figure size 640x480 with 1 Axes>"
      ]
     },
     "metadata": {},
     "output_type": "display_data"
    }
   ],
   "source": [
    "plt.scatter(enkf_preds,true_preds, alpha=0.5)\n",
    "plt.xlabel(\"EnKF Predictions\", fontsize = 15, fontweight = \"bold\")\n",
    "plt.ylabel(\"LSTM Predictions\", fontsize = 15, fontweight = \"bold\")\n",
    "plt.xticks(fontsize = 10, fontweight = \"bold\")\n",
    "plt.yticks(fontsize = 10, fontweight = \"bold\")\n",
    "plt.axline((0, 0), slope=1)"
   ]
  },
  {
   "cell_type": "code",
   "execution_count": 75,
   "id": "ead27b05-299e-49dc-bb97-236a18cd05e5",
   "metadata": {},
   "outputs": [],
   "source": [
    "# check"
   ]
  },
  {
   "cell_type": "code",
   "execution_count": 76,
   "id": "c3c59615-d33c-451c-8eb1-d8a93374c3d7",
   "metadata": {},
   "outputs": [],
   "source": [
    "with open('first_lstm_just_lstm_real_world_low_dropout.pkl', 'wb') as f:\n",
    "    pickle.dump(catch_coverages, f)"
   ]
  }
 ],
 "metadata": {
  "kernelspec": {
   "display_name": "enkf",
   "language": "python",
   "name": "enkf"
  },
  "language_info": {
   "codemirror_mode": {
    "name": "ipython",
    "version": 3
   },
   "file_extension": ".py",
   "mimetype": "text/x-python",
   "name": "python",
   "nbconvert_exporter": "python",
   "pygments_lexer": "ipython3",
   "version": "3.10.8"
  }
 },
 "nbformat": 4,
 "nbformat_minor": 5
}
