{
 "cells": [
  {
   "cell_type": "code",
   "execution_count": 55,
   "id": "d7ab5bf3",
   "metadata": {},
   "outputs": [],
   "source": [
    "import pandas as pd\n",
    "from tqdm import tqdm\n",
    "import gensim\n",
    "import os\n",
    "os.environ['TF_CPP_MIN_LOG_LEVEL'] = '3' \n",
    "# os.chdir(r\"D://Proposal_Defense//Simulations\")\n",
    "# from Utils.Script_utils import get_data_splits, first_LSTM_training, get_data_splits_old_algo\n",
    "from joblib import Parallel, delayed\n",
    "import sys\n",
    "from scipy.stats import norm"
   ]
  },
  {
   "cell_type": "code",
   "execution_count": 56,
   "id": "36084258",
   "metadata": {},
   "outputs": [
    {
     "name": "stdout",
     "output_type": "stream",
     "text": [
      "No GPU found\n"
     ]
    }
   ],
   "source": [
    "# Seed value\n",
    "# Apparently you may use different seed values at each stage\n",
    "seed_value= 42\n",
    "\n",
    "# 1. Set the `PYTHONHASHSEED` environment variable at a fixed value\n",
    "import os\n",
    "os.environ['PYTHONHASHSEED']=str(seed_value)\n",
    "\n",
    "# 2. Set the `python` built-in pseudo-random generator at a fixed value\n",
    "import random\n",
    "random.seed(seed_value)\n",
    "\n",
    "# 3. Set the `numpy` pseudo-random generator at a fixed value\n",
    "import numpy as np\n",
    "np.random.seed(seed_value)\n",
    "\n",
    "# # 4. Set the `tensorflow` pseudo-random generator at a fixed value\n",
    "import tensorflow as tf\n",
    "os.environ['CUDA_VISIBLE_DEVICES'] = '-1'\n",
    "\n",
    "if tf.test.gpu_device_name():\n",
    "    print('GPU found')\n",
    "else:\n",
    "    print(\"No GPU found\")\n",
    "# tf.config.set_visible_devices([], 'GPU')\n",
    "\n",
    "from tqdm.notebook import tqdm\n",
    "tf.random.set_seed(seed_value)\n",
    "import multiprocessing\n",
    "# for later versions: \n",
    "# tf.compat.v1.set_random_seed(seed_value)\n",
    "\n",
    "# 5. Configure a new global `tensorflow` session\n",
    "# from keras import backend as K\n",
    "# session_conf = tf.compat.v1.ConfigProto(intra_op_parallelism_threads=1, inter_op_parallelism_threads=1)\n",
    "# sess = tf.compat.v1.Session(graph=tf.compat.v1.get_default_graph(), config=session_conf)\n",
    "# K.set_session(sess)"
   ]
  },
  {
   "cell_type": "code",
   "execution_count": 57,
   "id": "e036b858",
   "metadata": {},
   "outputs": [],
   "source": [
    "import matplotlib.pyplot as plt\n",
    "\n",
    "import pickle"
   ]
  },
  {
   "cell_type": "code",
   "execution_count": 58,
   "id": "440c1a52",
   "metadata": {},
   "outputs": [],
   "source": [
    "with open('..//Data_Generation//Data//train_valid_test_splits_50.pkl', 'rb') as f:\n",
    "    catch = pickle.load(f)  "
   ]
  },
  {
   "cell_type": "code",
   "execution_count": 59,
   "id": "4eea8c8e",
   "metadata": {},
   "outputs": [],
   "source": [
    "# var_weights = 0.08\n",
    "# var_targets = 0.08"
   ]
  },
  {
   "cell_type": "code",
   "execution_count": 60,
   "id": "bd888262",
   "metadata": {},
   "outputs": [],
   "source": [
    "from tqdm.notebook import tqdm"
   ]
  },
  {
   "cell_type": "code",
   "execution_count": 61,
   "id": "b1ce82b7",
   "metadata": {},
   "outputs": [],
   "source": [
    "import random"
   ]
  },
  {
   "cell_type": "code",
   "execution_count": 62,
   "id": "b7959ab1",
   "metadata": {},
   "outputs": [],
   "source": [
    "import numpy as np"
   ]
  },
  {
   "cell_type": "code",
   "execution_count": 63,
   "id": "4e3ef6e6",
   "metadata": {},
   "outputs": [],
   "source": [
    "import time"
   ]
  },
  {
   "cell_type": "code",
   "execution_count": 64,
   "id": "0eabfdd4",
   "metadata": {},
   "outputs": [],
   "source": [
    "from scipy.stats import multivariate_normal as mvn"
   ]
  },
  {
   "cell_type": "code",
   "execution_count": 65,
   "id": "10d77915",
   "metadata": {},
   "outputs": [],
   "source": [
    "from scipy.stats import multivariate_normal as mvn"
   ]
  },
  {
   "cell_type": "code",
   "execution_count": 66,
   "id": "ebeb0869-7f0b-4f21-be63-0234896af39f",
   "metadata": {},
   "outputs": [],
   "source": [
    "# train_fudged_probs"
   ]
  },
  {
   "cell_type": "code",
   "execution_count": 67,
   "id": "23d87ffe",
   "metadata": {},
   "outputs": [],
   "source": [
    "import matplotlib.pyplot as plt"
   ]
  },
  {
   "cell_type": "code",
   "execution_count": 68,
   "id": "f5427e43",
   "metadata": {},
   "outputs": [],
   "source": [
    "from scipy.special import expit"
   ]
  },
  {
   "cell_type": "code",
   "execution_count": 69,
   "id": "be0ee1ec",
   "metadata": {},
   "outputs": [],
   "source": [
    "# catch1[0][0]"
   ]
  },
  {
   "cell_type": "code",
   "execution_count": 70,
   "id": "fb492324",
   "metadata": {},
   "outputs": [],
   "source": [
    "# catch_train_logits_second[0]"
   ]
  },
  {
   "cell_type": "code",
   "execution_count": 71,
   "id": "0c2dbaec-3249-404a-9971-c2fc17f68356",
   "metadata": {},
   "outputs": [],
   "source": [
    "from datetime import datetime"
   ]
  },
  {
   "cell_type": "code",
   "execution_count": 72,
   "id": "9cf12935",
   "metadata": {},
   "outputs": [],
   "source": [
    "def expit(x):\n",
    "    \"\"\"Compute softmax values for each sets of scores in x.\"\"\"\n",
    "#     e_x = np.exp(x - np.max(x))\n",
    "    return 1 / (1 + np.exp(-x))"
   ]
  },
  {
   "cell_type": "code",
   "execution_count": 73,
   "id": "ef051014",
   "metadata": {},
   "outputs": [],
   "source": [
    "from scipy.stats import gamma"
   ]
  },
  {
   "cell_type": "code",
   "execution_count": 74,
   "id": "07cb7b8c-4634-46e7-ab75-e865c7116995",
   "metadata": {},
   "outputs": [],
   "source": [
    "# second_lstm[0]"
   ]
  },
  {
   "cell_type": "code",
   "execution_count": 75,
   "id": "5f0e5cb1-4067-46ba-9399-ca30548a10e1",
   "metadata": {},
   "outputs": [],
   "source": [
    "# reduction = 8\n",
    "# var_weights = 1"
   ]
  },
  {
   "cell_type": "code",
   "execution_count": 76,
   "id": "197043a4-b420-4e3b-beaf-699cd7c3db6b",
   "metadata": {},
   "outputs": [],
   "source": [
    "# cur_idx = 16\n",
    "# np.log(catch_test_probs[cur_idx]/(1-catch_test_probs[cur_idx]))"
   ]
  },
  {
   "cell_type": "code",
   "execution_count": 77,
   "id": "5ae6c226-20d1-4a84-ab7b-5c5295748826",
   "metadata": {},
   "outputs": [],
   "source": [
    "# catch_preds_df"
   ]
  },
  {
   "cell_type": "code",
   "execution_count": 78,
   "id": "75f0d45e-6b06-4e9a-8997-5217ab99ebde",
   "metadata": {},
   "outputs": [],
   "source": [
    "# ids = [i for i in range(0, catch_test_probs[cur_idx].shape[0]) if catch_test_probs[cur_idx][i] < 0.5]\n",
    "# ids_more = [i for i in range(0, catch_test_probs[cur_idx].shape[0]) if catch_test_probs[cur_idx][i] > 0.5]"
   ]
  },
  {
   "cell_type": "code",
   "execution_count": 79,
   "id": "7f15dc9d-a59f-4ef8-b93a-8244896352c5",
   "metadata": {},
   "outputs": [],
   "source": [
    "# ids_more"
   ]
  },
  {
   "cell_type": "code",
   "execution_count": 80,
   "id": "1cebfd75-9077-4677-a4f7-05c09ac9f2de",
   "metadata": {},
   "outputs": [],
   "source": [
    "import plotly.express as px"
   ]
  },
  {
   "cell_type": "code",
   "execution_count": 81,
   "id": "22ee79ea-e013-4f80-920e-10e2aeb0eb6b",
   "metadata": {},
   "outputs": [],
   "source": [
    "import seaborn as sns"
   ]
  },
  {
   "cell_type": "code",
   "execution_count": 82,
   "id": "1969c78b-c105-482a-a957-e81329037a09",
   "metadata": {},
   "outputs": [],
   "source": [
    "use_cores = 15"
   ]
  },
  {
   "cell_type": "code",
   "execution_count": null,
   "id": "e5e25a8d-c51c-4c1d-9589-5b3b01f267e7",
   "metadata": {},
   "outputs": [],
   "source": []
  },
  {
   "cell_type": "code",
   "execution_count": 83,
   "id": "b9d651b2-15fa-4542-84ab-106c958569cc",
   "metadata": {},
   "outputs": [],
   "source": [
    "# with open('first_lstm_with_doc2vec_lstm_var_0.0001_real_world.pkl', 'rb') as f:\n",
    "#     first_lstm = pickle.load(f)  "
   ]
  },
  {
   "cell_type": "code",
   "execution_count": 84,
   "id": "2f12bf17-643b-4c5b-a2b0-d1f59b99557e",
   "metadata": {},
   "outputs": [],
   "source": [
    "# threshold = 200\n",
    "# cutoff_threshold = 70"
   ]
  },
  {
   "cell_type": "code",
   "execution_count": 85,
   "id": "407034e6-5a33-4332-b56c-f85cd2377b1c",
   "metadata": {},
   "outputs": [],
   "source": [
    "# catch1 = first_lstm"
   ]
  },
  {
   "cell_type": "code",
   "execution_count": 86,
   "id": "15d0a2c3-65ed-4be6-b837-fa43a7b851a7",
   "metadata": {},
   "outputs": [],
   "source": [
    "# padding_vector = np.zeros((1, model_cbow.wv.vectors.shape[1]))\n",
    "# unknown_vector = np.zeros((1, model_cbow.wv.vectors.shape[1]))"
   ]
  },
  {
   "cell_type": "code",
   "execution_count": 87,
   "id": "b1c783f4-c2b1-437b-bbc4-b8b760335718",
   "metadata": {},
   "outputs": [],
   "source": [
    "# vocabulary = model_cbow.wv.index_to_key"
   ]
  },
  {
   "cell_type": "code",
   "execution_count": 88,
   "id": "32c3b4a1-cfc7-4e68-b60b-f5afc47c7952",
   "metadata": {},
   "outputs": [],
   "source": [
    "# other_weights = model_cbow.wv.vectors"
   ]
  },
  {
   "cell_type": "code",
   "execution_count": 89,
   "id": "dcc583b5-a4bd-4fad-ae07-378fe9f01701",
   "metadata": {},
   "outputs": [],
   "source": [
    "rate = 0.5"
   ]
  },
  {
   "cell_type": "code",
   "execution_count": 90,
   "id": "0a3353fe-5c23-44b0-adcc-f72c6e25cebe",
   "metadata": {},
   "outputs": [],
   "source": [
    "with open('..//Data_Generation//LSTM_Low_Dropout//low_dropout_first_lstm.pkl', 'rb') as f:\n",
    "    first_lstm = pickle.load(f)  "
   ]
  },
  {
   "cell_type": "code",
   "execution_count": 91,
   "id": "d011ba74-c33b-465a-90ce-6a38b076f6f6",
   "metadata": {},
   "outputs": [],
   "source": [
    "catch1 = first_lstm"
   ]
  },
  {
   "cell_type": "code",
   "execution_count": 92,
   "id": "e343ffb7-87d1-4974-a13f-d9a26c8a0530",
   "metadata": {},
   "outputs": [],
   "source": [
    "# catch1[0]"
   ]
  },
  {
   "cell_type": "code",
   "execution_count": 93,
   "id": "81d40f6a-0f26-41d2-b60b-592d1c7f332a",
   "metadata": {},
   "outputs": [],
   "source": [
    "bnn_reps = 200"
   ]
  },
  {
   "cell_type": "code",
   "execution_count": 94,
   "id": "15570152-7049-4460-95b8-0c66e2c5f954",
   "metadata": {},
   "outputs": [],
   "source": [
    "from datetime import datetime"
   ]
  },
  {
   "cell_type": "code",
   "execution_count": 95,
   "id": "470ee1e6-3941-499b-a140-8f42ca9afa57",
   "metadata": {},
   "outputs": [],
   "source": [
    "model_cbow = gensim.models.word2vec.Word2Vec.load(r\"..//Data_Generation//word2vec_sg\")"
   ]
  },
  {
   "cell_type": "code",
   "execution_count": 96,
   "id": "59240ebf-b230-4429-a74c-bae2d1850f5e",
   "metadata": {},
   "outputs": [],
   "source": [
    "lr = 1e-3"
   ]
  },
  {
   "cell_type": "code",
   "execution_count": 97,
   "id": "4bfc69bb-24d1-4b2e-a0ed-d55f656b477e",
   "metadata": {},
   "outputs": [],
   "source": [
    "def attention_lstm_model(rate, training): \n",
    "    padding_vector = np.zeros((1, model_cbow.wv.vectors.shape[1]))\n",
    "    unknown_vector = np.zeros((1, model_cbow.wv.vectors.shape[1]))\n",
    "    weight_vectors = np.vstack((padding_vector, unknown_vector))\n",
    "    weight_vectors = np.vstack((weight_vectors, model_cbow.wv.vectors))\n",
    "    embedding_layer = tf.keras.layers.Embedding(len(weight_vectors),\n",
    "                            weight_vectors.shape[1],\n",
    "                            weights=[weight_vectors],\n",
    "                            mask_zero = False,\n",
    "                            trainable=False)\n",
    "\n",
    "    \n",
    "    vectorize_layer = tf.keras.layers.TextVectorization(\n",
    "                     output_mode='int',\n",
    "                     vocabulary=model_cbow.wv.index_to_key, \n",
    "                     standardize = None)\n",
    "    \n",
    "    input_layer = tf.keras.layers.Input(shape = (1,), dtype = tf.string)\n",
    "\n",
    "    vectorize = vectorize_layer(input_layer)\n",
    "\n",
    "    vectorize.shape\n",
    "\n",
    "    emb_output = embedding_layer(vectorize)\n",
    "\n",
    "    emb_output.shape\n",
    "    \n",
    "    # spatial_drop = tf.keras.layers.SpatialDropout1D(0.5)\n",
    "    \n",
    "    # spatial_out = spatial_drop(emb_output, training = training)\n",
    "\n",
    "    lstm_layer = tf.keras.layers.LSTM(25, return_sequences = True, dropout = rate)\n",
    "\n",
    "    lstm_output = lstm_layer(emb_output, training = training)\n",
    "\n",
    "#     x_a = tf.keras.layers.Dense(lstm_output.get_shape()[-1]//2, kernel_initializer = 'glorot_uniform', activation=\"tanh\", name=\"tanh_mlp\")(lstm_output) \n",
    "    \n",
    "    # x_a = tf.keras.layers.SpatialDropout1D(0.75)(lstm_output, training = training)\n",
    "    \n",
    "    x_a = tf.keras.layers.Dense(1, kernel_initializer = 'glorot_uniform', activation='linear', name=\"word-level_context\", kernel_regularizer=tf.keras.regularizers.L2())(lstm_output)\n",
    "\n",
    "    x_a = tf.keras.layers.Flatten()(x_a)\n",
    "\n",
    "    att_out = tf.keras.layers.Activation('softmax')(x_a) \n",
    "\n",
    "    x_a2 = tf.keras.layers.RepeatVector(lstm_output.get_shape()[-1])(att_out)\n",
    "\n",
    "    x_a2 = tf.keras.layers.Permute([2,1])(x_a2)\n",
    "\n",
    "    out = tf.keras.layers.Multiply()([lstm_output,x_a2])\n",
    "    \n",
    "    out = tf.keras.layers.Lambda(lambda x : tf.math.reduce_sum(x, axis = 1), name='expectation_over_words')(out)\n",
    "    \n",
    "    # dropout_layer = tf.keras.layers.Dropout(0.65)(out, training = training)\n",
    "\n",
    "    pred_head = tf.keras.layers.Dense(1, kernel_regularizer=tf.keras.regularizers.L2())\n",
    "\n",
    "    pred_output = pred_head(out)\n",
    "\n",
    "    model = tf.keras.models.Model(input_layer, pred_output)\n",
    "    \n",
    "    model.compile(loss = tf.keras.losses.BinaryCrossentropy(from_logits=True), \n",
    "                 optimizer = tf.keras.optimizers.Adam(learning_rate = lr), \n",
    "                 metrics=tf.keras.metrics.BinaryAccuracy())\n",
    "    \n",
    "    return model"
   ]
  },
  {
   "cell_type": "code",
   "execution_count": 98,
   "id": "f4b3ded5-bbb9-4712-9695-85fbf12939a9",
   "metadata": {},
   "outputs": [],
   "source": [
    "rate = 0.5"
   ]
  },
  {
   "cell_type": "code",
   "execution_count": 99,
   "id": "a7351dc4-5d8e-4792-be64-352d7f2ec01f",
   "metadata": {},
   "outputs": [],
   "source": [
    "# def attention_lstm_model_less(training): \n",
    "#     padding_vector = np.zeros((1, model_cbow.wv.vectors.shape[1]))\n",
    "#     unknown_vector = np.zeros((1, model_cbow.wv.vectors.shape[1]))\n",
    "#     weight_vectors = np.vstack((padding_vector, unknown_vector))\n",
    "#     weight_vectors = np.vstack((weight_vectors, model_cbow.wv.vectors))\n",
    "#     embedding_layer = tf.keras.layers.Embedding(len(weight_vectors),\n",
    "#                             weight_vectors.shape[1],\n",
    "#                             weights=[weight_vectors],\n",
    "#                             mask_zero = False,\n",
    "#                             trainable=False)\n",
    "\n",
    "    \n",
    "#     vectorize_layer = tf.keras.layers.TextVectorization(\n",
    "#                      output_mode='int',\n",
    "#                      vocabulary=model_cbow.wv.index_to_key, \n",
    "#                      standardize = None)\n",
    "    \n",
    "#     input_layer = tf.keras.layers.Input(shape = (1,), dtype = tf.string)\n",
    "\n",
    "#     vectorize = vectorize_layer(input_layer)\n",
    "\n",
    "#     vectorize.shape\n",
    "\n",
    "#     emb_output = embedding_layer(vectorize)\n",
    "\n",
    "#     emb_output.shape\n",
    "    \n",
    "#     spatial_drop = tf.keras.layers.SpatialDropout1D(0.5)\n",
    "    \n",
    "#     spatial_out = spatial_drop(emb_output)\n",
    "\n",
    "#     lstm_layer = tf.keras.layers.LSTM(25, return_sequences = True, dropout = rate)\n",
    "\n",
    "#     lstm_output = lstm_layer(spatial_out, training = training)\n",
    "\n",
    "# #     x_a = tf.keras.layers.Dense(lstm_output.get_shape()[-1]//2, kernel_initializer = 'glorot_uniform', activation=\"tanh\", name=\"tanh_mlp\")(lstm_output) \n",
    "    \n",
    "#     # x_a = tf.keras.layers.SpatialDropout1D(0.75)(lstm_output, training = training)\n",
    "    \n",
    "#     x_a = tf.keras.layers.Dense(1, kernel_initializer = 'glorot_uniform', activation='linear', name=\"word-level_context\", kernel_regularizer=tf.keras.regularizers.L2())(lstm_output)\n",
    "\n",
    "#     x_a = tf.keras.layers.Flatten()(x_a)\n",
    "\n",
    "#     att_out = tf.keras.layers.Activation('softmax')(x_a) \n",
    "\n",
    "#     x_a2 = tf.keras.layers.RepeatVector(lstm_output.get_shape()[-1])(att_out)\n",
    "\n",
    "#     x_a2 = tf.keras.layers.Permute([2,1])(x_a2)\n",
    "\n",
    "#     out = tf.keras.layers.Multiply()([lstm_output,x_a2])\n",
    "    \n",
    "#     out = tf.keras.layers.Lambda(lambda x : tf.math.reduce_sum(x, axis = 1), name='expectation_over_words')(out)\n",
    "    \n",
    "#     dropout_layer = tf.keras.layers.Dropout(rate)(out)\n",
    "\n",
    "#     pred_head = tf.keras.layers.Dense(1, kernel_regularizer=tf.keras.regularizers.L2())\n",
    "\n",
    "#     pred_output = pred_head(dropout_layer)\n",
    "\n",
    "#     model = tf.keras.models.Model(input_layer, pred_output)\n",
    "    \n",
    "#     model.compile(loss = tf.keras.losses.BinaryCrossentropy(from_logits=True), \n",
    "#                  optimizer = tf.keras.optimizers.Adam(learning_rate = lr), \n",
    "#                  metrics=tf.keras.metrics.BinaryAccuracy())\n",
    "    \n",
    "#     return model"
   ]
  },
  {
   "cell_type": "code",
   "execution_count": 100,
   "id": "75c12e9a-898a-45db-9ee2-eb652adfbee1",
   "metadata": {},
   "outputs": [],
   "source": [
    "def rep_one_real_world(idx, inflation_factor = 0.2, cutoff = 100): \n",
    "\n",
    "#     from scipy.special import expit\n",
    "    patience_smaller = 0\n",
    "# patience_bigger = 0\n",
    "\n",
    "#     best_train_acc = 0\n",
    "#     best_valid_acc = 1000\n",
    "\n",
    "#     best_valid_mae = 10\n",
    "    \n",
    "    best_train_mae = 100\n",
    "    \n",
    "    X_train_logits = np.vstack((catch1[idx][0], catch1[idx][1]))\n",
    "#     X_train_logits = catch_train_logits_second[idx]\n",
    "    \n",
    "    \n",
    "    X_test_logits = catch1[idx][2]\n",
    "    \n",
    "    ## create training batch chunks\n",
    "    # train_idx = list(range(0, X_train_logits.shape[0]))\n",
    "    # batch_chunks = [train_idx[i:i+batch_size] for i in range(0,len(train_idx),batch_size)]\n",
    "\n",
    "#     y_train = catch[idx][3].reshape(-1,1)\n",
    "\n",
    "#     y_valid = catch[idx][4].reshape(-1,1)\n",
    "\n",
    "#     y_test = catch[idx][5].reshape(-1,1)\n",
    "\n",
    "    \n",
    "    train_valid_seqs = np.vstack((catch[idx][0], catch[idx][1]))\n",
    "    # train_valid_labels = np.vstack((y_train, y_valid))\n",
    "    \n",
    "    test_seqs = catch[idx][2]\n",
    "\n",
    "    \n",
    "    start = datetime.now()\n",
    "    \n",
    "    base_model = tf.keras.models.load_model(\"..//Data_Generation//LSTM_Low_Dropout//Real_World_LSTM_Models_Low_Dropout\" + \"//\" + \"Model_\" + str(idx))\n",
    "    ens_model = attention_lstm_model(rate, True)\n",
    "    ens_model.set_weights(base_model.get_weights())\n",
    "    \n",
    "            \n",
    "    all_preds1 = [np.array(ens_model(train_valid_seqs)) for i in (range(0, bnn_reps))]\n",
    "    all_preds1 = np.hstack(all_preds1)\n",
    "\n",
    "    all_preds2 = expit(all_preds1)\n",
    "    all_preds3 = all_preds2.mean(1).reshape(-1,1)\n",
    "        \n",
    "        \n",
    "\n",
    "    li = np.percentile(all_preds2, axis = 1, q = (2.5, 97.5))[0,:].reshape(-1,1)\n",
    "            \n",
    "    ui = np.percentile(all_preds2, axis = 1, q = (2.5, 97.5))[1,:].reshape(-1,1)\n",
    "            \n",
    "    width = ui - li\n",
    "            \n",
    "    avg_width_train = np.mean(width)\n",
    "        \n",
    "    interim = expit(X_train_logits)\n",
    "        \n",
    "    train_mae = np.mean(np.abs(interim.ravel() - all_preds3.ravel()))\n",
    "        \n",
    "            \n",
    "    temp = interim\n",
    "            \n",
    "    ind = (temp >= li) & (temp <= ui)\n",
    "            \n",
    "    coverage_train= np.mean(ind.ravel())  \n",
    "            \n",
    "            \n",
    "    all_preds1 = [np.array(ens_model(test_seqs)) for i in (range(0, bnn_reps))]\n",
    "    all_preds1 = np.hstack(all_preds1)\n",
    "    all_preds2 = expit(all_preds1)\n",
    "    all_preds3 = all_preds2.mean(1).reshape(-1,1)\n",
    "            \n",
    "    li = np.percentile(all_preds2, axis = 1, q = (2.5, 97.5))[0,:].reshape(-1,1)\n",
    "            \n",
    "    ui = np.percentile(all_preds2, axis = 1, q = (2.5, 97.5))[1,:].reshape(-1,1)\n",
    "            \n",
    "    width = ui - li\n",
    "            \n",
    "    avg_width = np.mean(width)\n",
    "        \n",
    "    catch_test_probs = expit(X_test_logits)\n",
    "            \n",
    "    ind_test = (catch_test_probs >= li) & (catch_test_probs <= ui)\n",
    "               \n",
    " \n",
    "    coverage_test = np.mean(ind_test.ravel())    \n",
    "    \n",
    "    test_mae = np.mean(np.abs(catch_test_probs.ravel() - all_preds3.ravel()))\n",
    "            \n",
    "\n",
    "            \n",
    "    end = datetime.now()      \n",
    "    total = (end-start)\n",
    "    time_taken = total.seconds/60.0\n",
    "            \n",
    "            \n",
    "    print(test_mae,coverage_test, avg_width, flush = True)\n",
    "    return train_mae, test_mae, coverage_train, avg_width_train, coverage_test, avg_width, time_taken, all_preds2\n",
    "        \n",
    "    # print(\"something went awry\", flush = True)"
   ]
  },
  {
   "cell_type": "code",
   "execution_count": 101,
   "id": "7761cf2f-2827-4059-83b6-a97d6f60d760",
   "metadata": {},
   "outputs": [],
   "source": [
    "# rep_one_real_world(0, inflation_factor = 0.2, cutoff = 100)"
   ]
  },
  {
   "cell_type": "code",
   "execution_count": 102,
   "id": "605540da-2ad3-4d18-b8a4-93dd7c052f20",
   "metadata": {},
   "outputs": [],
   "source": [
    "# threshold = 10"
   ]
  },
  {
   "cell_type": "code",
   "execution_count": 103,
   "id": "138d0228-17b7-4019-9abe-458206e8a7df",
   "metadata": {},
   "outputs": [],
   "source": [
    "# cutoff_threshold = 10"
   ]
  },
  {
   "cell_type": "code",
   "execution_count": 104,
   "id": "879e0642-2387-46a1-8ea4-1e42e9e46819",
   "metadata": {},
   "outputs": [],
   "source": [
    "# best_train_mae, best_test_mae, best_train_coverage, best_train_width, best_test_coverage, best_test_width,  exit_iter_no_thresh,time_taken,  best_test_preds = rep_one_real_world(30)"
   ]
  },
  {
   "cell_type": "code",
   "execution_count": 105,
   "id": "7885566c-6100-4212-b604-bdffbb97b025",
   "metadata": {},
   "outputs": [],
   "source": [
    "# best_train_mae, best_test_mae, best_train_coverage, best_train_width, best_test_coverage, best_test_width,  exit_iter_no_thresh, time_taken"
   ]
  },
  {
   "cell_type": "code",
   "execution_count": 106,
   "id": "e294790b-8dc6-4f99-ba83-dfcea5f75845",
   "metadata": {},
   "outputs": [],
   "source": [
    "reps = 50"
   ]
  },
  {
   "cell_type": "code",
   "execution_count": 107,
   "id": "99a723c6",
   "metadata": {},
   "outputs": [
    {
     "name": "stderr",
     "output_type": "stream",
     "text": [
      "[Parallel(n_jobs=15)]: Using backend LokyBackend with 15 concurrent workers.\n"
     ]
    },
    {
     "name": "stdout",
     "output_type": "stream",
     "text": [
      "0.024843497 0.875 0.17987154133152217\n",
      "0.056155402 1.0 0.3745221918448806\n"
     ]
    },
    {
     "name": "stderr",
     "output_type": "stream",
     "text": [
      "[Parallel(n_jobs=15)]: Done   2 tasks      | elapsed:   29.8s\n"
     ]
    },
    {
     "name": "stdout",
     "output_type": "stream",
     "text": [
      "0.041912764 0.875 0.33865356368478433\n",
      "0.06938347 1.0 0.38317818403593273\n",
      "0.04670226 1.0 0.28847420592792333\n",
      "0.07280859 1.0 0.40927880257368093\n",
      "0.045782384 0.875 0.24333962518721824\n",
      "0.039390877 0.875 0.2489929449744523\n",
      "0.032454915 1.0 0.21111526251770557\n",
      "0.11274095 1.0 0.4821850229753182\n",
      "0.09219519 1.0 0.4313013739883899\n",
      "0.14203835 0.875 0.3707560958107933\n"
     ]
    },
    {
     "name": "stderr",
     "output_type": "stream",
     "text": [
      "[Parallel(n_jobs=15)]: Done  11 tasks      | elapsed:   37.0s\n"
     ]
    },
    {
     "name": "stdout",
     "output_type": "stream",
     "text": [
      "0.110949576 1.0 0.3496092907385901\n",
      "0.05500111 0.875 0.2832746161147952\n",
      "0.08740729 1.0 0.41995348313357683\n",
      "0.078722 1.0 0.5073602816672065\n",
      "0.06733196 1.0 0.3601842714531813\n",
      "0.057652377 1.0 0.3907484761672094\n",
      "0.067599386 1.0 0.36612034323625275\n",
      "0.12528922 1.0 0.5213990768417716\n"
     ]
    },
    {
     "name": "stderr",
     "output_type": "stream",
     "text": [
      "[Parallel(n_jobs=15)]: Done  20 tasks      | elapsed:  1.0min\n"
     ]
    },
    {
     "name": "stdout",
     "output_type": "stream",
     "text": [
      "0.048930828 1.0 0.32180553181096916\n",
      "0.04663617 1.0 0.23206803241046142\n",
      "0.08046894 1.0 0.42722772343549875\n",
      "0.034468498 1.0 0.3751444269204513\n",
      "0.10550575 1.0 0.6007171394187025\n",
      "0.08516224 1.0 0.4755737993866206\n",
      "0.034306947 1.0 0.20194139503873887\n"
     ]
    },
    {
     "name": "stderr",
     "output_type": "stream",
     "text": [
      "[Parallel(n_jobs=15)]: Done  27 out of  50 | elapsed:  1.1min remaining:   57.3s\n"
     ]
    },
    {
     "name": "stdout",
     "output_type": "stream",
     "text": [
      "0.06421197 1.0 0.3886472214944661\n",
      "0.03494232 1.0 0.2650915874168277\n",
      "0.042016953 1.0 0.19073564312420788\n",
      "0.09130922 1.0 0.6550869632977994\n",
      "0.054371826 1.0 0.3570198968052869\n",
      "0.10977943 1.0 0.4568726257421076\n"
     ]
    },
    {
     "name": "stderr",
     "output_type": "stream",
     "text": [
      "[Parallel(n_jobs=15)]: Done  33 out of  50 | elapsed:  1.5min remaining:   44.9s\n"
     ]
    },
    {
     "name": "stdout",
     "output_type": "stream",
     "text": [
      "0.049008865 1.0 0.2636673967354\n",
      "0.03931579 1.0 0.27173924518283454\n",
      "0.12138661 0.875 0.4718093418516218\n",
      "0.06774093 1.0 0.35508828888414434\n",
      "0.07004318 1.0 0.39206380376126615\n",
      "0.09852268 1.0 0.39564665665384413\n"
     ]
    },
    {
     "name": "stderr",
     "output_type": "stream",
     "text": [
      "[Parallel(n_jobs=15)]: Done  39 out of  50 | elapsed:  1.6min remaining:   27.0s\n"
     ]
    },
    {
     "name": "stdout",
     "output_type": "stream",
     "text": [
      "0.08556858 1.0 0.41831649765954354\n",
      "0.095360585 0.875 0.43754930978175255\n",
      "0.07854261 1.0 0.3521262357477103\n",
      "0.05970729 1.0 0.3064883830607869\n",
      "0.10694109 1.0 0.5179753688746133\n",
      "0.03142523 1.0 0.21014592793071643\n"
     ]
    },
    {
     "name": "stderr",
     "output_type": "stream",
     "text": [
      "[Parallel(n_jobs=15)]: Done  45 out of  50 | elapsed:  1.7min remaining:   11.6s\n"
     ]
    },
    {
     "name": "stdout",
     "output_type": "stream",
     "text": [
      "0.056354072 1.0 0.4926427505677566\n",
      "0.031125898 0.875 0.2511928021907807\n",
      "0.10596438 1.0 0.5875021463260055\n",
      "0.049688637 1.0 0.30050559095107016\n",
      "0.051762767 1.0 0.41205522138625383\n"
     ]
    },
    {
     "name": "stderr",
     "output_type": "stream",
     "text": [
      "[Parallel(n_jobs=15)]: Done  50 out of  50 | elapsed:  2.0min finished\n"
     ]
    }
   ],
   "source": [
    "catch_coverages = Parallel(n_jobs=use_cores, verbose = 10, backend = \"loky\")(delayed(rep_one_real_world)(i) for i in range(reps))"
   ]
  },
  {
   "cell_type": "code",
   "execution_count": 108,
   "id": "1e8200e5-b784-49c8-9ae9-fd7ee5a2e71d",
   "metadata": {},
   "outputs": [],
   "source": [
    "# catch_coverages"
   ]
  },
  {
   "cell_type": "code",
   "execution_count": 109,
   "id": "647980a7-9ae3-4c5c-b25c-2e37b6a84679",
   "metadata": {},
   "outputs": [],
   "source": [
    "check = pd.DataFrame(catch_coverages).iloc[:, :-1]"
   ]
  },
  {
   "cell_type": "code",
   "execution_count": 110,
   "id": "e45525f0-de06-47bf-8cca-da34b95705f4",
   "metadata": {},
   "outputs": [
    {
     "data": {
      "text/html": [
       "<div>\n",
       "<style scoped>\n",
       "    .dataframe tbody tr th:only-of-type {\n",
       "        vertical-align: middle;\n",
       "    }\n",
       "\n",
       "    .dataframe tbody tr th {\n",
       "        vertical-align: top;\n",
       "    }\n",
       "\n",
       "    .dataframe thead th {\n",
       "        text-align: right;\n",
       "    }\n",
       "</style>\n",
       "<table border=\"1\" class=\"dataframe\">\n",
       "  <thead>\n",
       "    <tr style=\"text-align: right;\">\n",
       "      <th></th>\n",
       "      <th>0</th>\n",
       "      <th>1</th>\n",
       "      <th>2</th>\n",
       "      <th>3</th>\n",
       "      <th>4</th>\n",
       "      <th>5</th>\n",
       "      <th>6</th>\n",
       "    </tr>\n",
       "  </thead>\n",
       "  <tbody>\n",
       "    <tr>\n",
       "      <th>0</th>\n",
       "      <td>0.078605</td>\n",
       "      <td>0.072809</td>\n",
       "      <td>0.969697</td>\n",
       "      <td>0.468333</td>\n",
       "      <td>1.000</td>\n",
       "      <td>0.409279</td>\n",
       "      <td>0.483333</td>\n",
       "    </tr>\n",
       "    <tr>\n",
       "      <th>1</th>\n",
       "      <td>0.042006</td>\n",
       "      <td>0.055001</td>\n",
       "      <td>0.772727</td>\n",
       "      <td>0.226709</td>\n",
       "      <td>0.875</td>\n",
       "      <td>0.283275</td>\n",
       "      <td>0.583333</td>\n",
       "    </tr>\n",
       "    <tr>\n",
       "      <th>2</th>\n",
       "      <td>0.041305</td>\n",
       "      <td>0.046702</td>\n",
       "      <td>0.757576</td>\n",
       "      <td>0.201504</td>\n",
       "      <td>1.000</td>\n",
       "      <td>0.288474</td>\n",
       "      <td>0.483333</td>\n",
       "    </tr>\n",
       "    <tr>\n",
       "      <th>3</th>\n",
       "      <td>0.070309</td>\n",
       "      <td>0.024843</td>\n",
       "      <td>0.833333</td>\n",
       "      <td>0.418443</td>\n",
       "      <td>0.875</td>\n",
       "      <td>0.179872</td>\n",
       "      <td>0.433333</td>\n",
       "    </tr>\n",
       "    <tr>\n",
       "      <th>4</th>\n",
       "      <td>0.078773</td>\n",
       "      <td>0.110950</td>\n",
       "      <td>0.833333</td>\n",
       "      <td>0.489013</td>\n",
       "      <td>1.000</td>\n",
       "      <td>0.349609</td>\n",
       "      <td>0.566667</td>\n",
       "    </tr>\n",
       "    <tr>\n",
       "      <th>5</th>\n",
       "      <td>0.038850</td>\n",
       "      <td>0.032455</td>\n",
       "      <td>0.621212</td>\n",
       "      <td>0.170524</td>\n",
       "      <td>1.000</td>\n",
       "      <td>0.211115</td>\n",
       "      <td>0.533333</td>\n",
       "    </tr>\n",
       "    <tr>\n",
       "      <th>6</th>\n",
       "      <td>0.050539</td>\n",
       "      <td>0.069383</td>\n",
       "      <td>0.878788</td>\n",
       "      <td>0.396960</td>\n",
       "      <td>1.000</td>\n",
       "      <td>0.383178</td>\n",
       "      <td>0.466667</td>\n",
       "    </tr>\n",
       "    <tr>\n",
       "      <th>7</th>\n",
       "      <td>0.059796</td>\n",
       "      <td>0.056155</td>\n",
       "      <td>0.818182</td>\n",
       "      <td>0.328008</td>\n",
       "      <td>1.000</td>\n",
       "      <td>0.374522</td>\n",
       "      <td>0.433333</td>\n",
       "    </tr>\n",
       "    <tr>\n",
       "      <th>8</th>\n",
       "      <td>0.065441</td>\n",
       "      <td>0.045782</td>\n",
       "      <td>0.924242</td>\n",
       "      <td>0.381155</td>\n",
       "      <td>0.875</td>\n",
       "      <td>0.243340</td>\n",
       "      <td>0.500000</td>\n",
       "    </tr>\n",
       "    <tr>\n",
       "      <th>9</th>\n",
       "      <td>0.078316</td>\n",
       "      <td>0.142038</td>\n",
       "      <td>0.787879</td>\n",
       "      <td>0.454777</td>\n",
       "      <td>0.875</td>\n",
       "      <td>0.370756</td>\n",
       "      <td>0.566667</td>\n",
       "    </tr>\n",
       "    <tr>\n",
       "      <th>10</th>\n",
       "      <td>0.078624</td>\n",
       "      <td>0.041913</td>\n",
       "      <td>0.954545</td>\n",
       "      <td>0.412639</td>\n",
       "      <td>0.875</td>\n",
       "      <td>0.338654</td>\n",
       "      <td>0.466667</td>\n",
       "    </tr>\n",
       "    <tr>\n",
       "      <th>11</th>\n",
       "      <td>0.048501</td>\n",
       "      <td>0.087407</td>\n",
       "      <td>0.803030</td>\n",
       "      <td>0.340691</td>\n",
       "      <td>1.000</td>\n",
       "      <td>0.419953</td>\n",
       "      <td>0.566667</td>\n",
       "    </tr>\n",
       "    <tr>\n",
       "      <th>12</th>\n",
       "      <td>0.053448</td>\n",
       "      <td>0.112741</td>\n",
       "      <td>0.772727</td>\n",
       "      <td>0.351534</td>\n",
       "      <td>1.000</td>\n",
       "      <td>0.482185</td>\n",
       "      <td>0.533333</td>\n",
       "    </tr>\n",
       "    <tr>\n",
       "      <th>13</th>\n",
       "      <td>0.044217</td>\n",
       "      <td>0.039391</td>\n",
       "      <td>0.757576</td>\n",
       "      <td>0.231364</td>\n",
       "      <td>0.875</td>\n",
       "      <td>0.248993</td>\n",
       "      <td>0.516667</td>\n",
       "    </tr>\n",
       "    <tr>\n",
       "      <th>14</th>\n",
       "      <td>0.058258</td>\n",
       "      <td>0.092195</td>\n",
       "      <td>0.893939</td>\n",
       "      <td>0.370129</td>\n",
       "      <td>1.000</td>\n",
       "      <td>0.431301</td>\n",
       "      <td>0.550000</td>\n",
       "    </tr>\n",
       "    <tr>\n",
       "      <th>15</th>\n",
       "      <td>0.079653</td>\n",
       "      <td>0.067332</td>\n",
       "      <td>0.909091</td>\n",
       "      <td>0.444489</td>\n",
       "      <td>1.000</td>\n",
       "      <td>0.360184</td>\n",
       "      <td>0.450000</td>\n",
       "    </tr>\n",
       "    <tr>\n",
       "      <th>16</th>\n",
       "      <td>0.044275</td>\n",
       "      <td>0.078722</td>\n",
       "      <td>0.878788</td>\n",
       "      <td>0.316880</td>\n",
       "      <td>1.000</td>\n",
       "      <td>0.507360</td>\n",
       "      <td>0.416667</td>\n",
       "    </tr>\n",
       "    <tr>\n",
       "      <th>17</th>\n",
       "      <td>0.067761</td>\n",
       "      <td>0.125289</td>\n",
       "      <td>0.924242</td>\n",
       "      <td>0.496007</td>\n",
       "      <td>1.000</td>\n",
       "      <td>0.521399</td>\n",
       "      <td>0.483333</td>\n",
       "    </tr>\n",
       "    <tr>\n",
       "      <th>18</th>\n",
       "      <td>0.051722</td>\n",
       "      <td>0.067599</td>\n",
       "      <td>0.893939</td>\n",
       "      <td>0.309807</td>\n",
       "      <td>1.000</td>\n",
       "      <td>0.366120</td>\n",
       "      <td>0.483333</td>\n",
       "    </tr>\n",
       "    <tr>\n",
       "      <th>19</th>\n",
       "      <td>0.072950</td>\n",
       "      <td>0.034468</td>\n",
       "      <td>0.969697</td>\n",
       "      <td>0.420724</td>\n",
       "      <td>1.000</td>\n",
       "      <td>0.375144</td>\n",
       "      <td>0.533333</td>\n",
       "    </tr>\n",
       "    <tr>\n",
       "      <th>20</th>\n",
       "      <td>0.078472</td>\n",
       "      <td>0.080469</td>\n",
       "      <td>0.924242</td>\n",
       "      <td>0.462039</td>\n",
       "      <td>1.000</td>\n",
       "      <td>0.427228</td>\n",
       "      <td>0.516667</td>\n",
       "    </tr>\n",
       "    <tr>\n",
       "      <th>21</th>\n",
       "      <td>0.057523</td>\n",
       "      <td>0.048931</td>\n",
       "      <td>0.833333</td>\n",
       "      <td>0.393954</td>\n",
       "      <td>1.000</td>\n",
       "      <td>0.321806</td>\n",
       "      <td>0.466667</td>\n",
       "    </tr>\n",
       "    <tr>\n",
       "      <th>22</th>\n",
       "      <td>0.092785</td>\n",
       "      <td>0.105506</td>\n",
       "      <td>0.954545</td>\n",
       "      <td>0.506951</td>\n",
       "      <td>1.000</td>\n",
       "      <td>0.600717</td>\n",
       "      <td>0.516667</td>\n",
       "    </tr>\n",
       "    <tr>\n",
       "      <th>23</th>\n",
       "      <td>0.049633</td>\n",
       "      <td>0.057652</td>\n",
       "      <td>0.893939</td>\n",
       "      <td>0.331146</td>\n",
       "      <td>1.000</td>\n",
       "      <td>0.390748</td>\n",
       "      <td>0.400000</td>\n",
       "    </tr>\n",
       "    <tr>\n",
       "      <th>24</th>\n",
       "      <td>0.070474</td>\n",
       "      <td>0.046636</td>\n",
       "      <td>0.878788</td>\n",
       "      <td>0.413782</td>\n",
       "      <td>1.000</td>\n",
       "      <td>0.232068</td>\n",
       "      <td>0.450000</td>\n",
       "    </tr>\n",
       "    <tr>\n",
       "      <th>25</th>\n",
       "      <td>0.043485</td>\n",
       "      <td>0.064212</td>\n",
       "      <td>0.803030</td>\n",
       "      <td>0.283631</td>\n",
       "      <td>1.000</td>\n",
       "      <td>0.388647</td>\n",
       "      <td>0.566667</td>\n",
       "    </tr>\n",
       "    <tr>\n",
       "      <th>26</th>\n",
       "      <td>0.042578</td>\n",
       "      <td>0.034942</td>\n",
       "      <td>0.666667</td>\n",
       "      <td>0.225493</td>\n",
       "      <td>1.000</td>\n",
       "      <td>0.265092</td>\n",
       "      <td>0.583333</td>\n",
       "    </tr>\n",
       "    <tr>\n",
       "      <th>27</th>\n",
       "      <td>0.046468</td>\n",
       "      <td>0.042017</td>\n",
       "      <td>0.651515</td>\n",
       "      <td>0.255098</td>\n",
       "      <td>1.000</td>\n",
       "      <td>0.190736</td>\n",
       "      <td>0.583333</td>\n",
       "    </tr>\n",
       "    <tr>\n",
       "      <th>28</th>\n",
       "      <td>0.029693</td>\n",
       "      <td>0.034307</td>\n",
       "      <td>0.803030</td>\n",
       "      <td>0.161794</td>\n",
       "      <td>1.000</td>\n",
       "      <td>0.201941</td>\n",
       "      <td>0.483333</td>\n",
       "    </tr>\n",
       "    <tr>\n",
       "      <th>29</th>\n",
       "      <td>0.047791</td>\n",
       "      <td>0.085162</td>\n",
       "      <td>0.924242</td>\n",
       "      <td>0.329489</td>\n",
       "      <td>1.000</td>\n",
       "      <td>0.475574</td>\n",
       "      <td>0.483333</td>\n",
       "    </tr>\n",
       "    <tr>\n",
       "      <th>30</th>\n",
       "      <td>0.067821</td>\n",
       "      <td>0.091309</td>\n",
       "      <td>0.863636</td>\n",
       "      <td>0.321378</td>\n",
       "      <td>1.000</td>\n",
       "      <td>0.655087</td>\n",
       "      <td>0.400000</td>\n",
       "    </tr>\n",
       "    <tr>\n",
       "      <th>31</th>\n",
       "      <td>0.085225</td>\n",
       "      <td>0.054372</td>\n",
       "      <td>0.833333</td>\n",
       "      <td>0.474722</td>\n",
       "      <td>1.000</td>\n",
       "      <td>0.357020</td>\n",
       "      <td>0.466667</td>\n",
       "    </tr>\n",
       "    <tr>\n",
       "      <th>32</th>\n",
       "      <td>0.079943</td>\n",
       "      <td>0.109779</td>\n",
       "      <td>0.848485</td>\n",
       "      <td>0.515346</td>\n",
       "      <td>1.000</td>\n",
       "      <td>0.456873</td>\n",
       "      <td>0.433333</td>\n",
       "    </tr>\n",
       "    <tr>\n",
       "      <th>33</th>\n",
       "      <td>0.089055</td>\n",
       "      <td>0.121387</td>\n",
       "      <td>0.939394</td>\n",
       "      <td>0.513393</td>\n",
       "      <td>0.875</td>\n",
       "      <td>0.471809</td>\n",
       "      <td>0.466667</td>\n",
       "    </tr>\n",
       "    <tr>\n",
       "      <th>34</th>\n",
       "      <td>0.068097</td>\n",
       "      <td>0.098523</td>\n",
       "      <td>0.893939</td>\n",
       "      <td>0.376933</td>\n",
       "      <td>1.000</td>\n",
       "      <td>0.395647</td>\n",
       "      <td>0.566667</td>\n",
       "    </tr>\n",
       "    <tr>\n",
       "      <th>35</th>\n",
       "      <td>0.052542</td>\n",
       "      <td>0.039316</td>\n",
       "      <td>0.787879</td>\n",
       "      <td>0.313755</td>\n",
       "      <td>1.000</td>\n",
       "      <td>0.271739</td>\n",
       "      <td>0.433333</td>\n",
       "    </tr>\n",
       "    <tr>\n",
       "      <th>36</th>\n",
       "      <td>0.077871</td>\n",
       "      <td>0.049009</td>\n",
       "      <td>0.939394</td>\n",
       "      <td>0.418116</td>\n",
       "      <td>1.000</td>\n",
       "      <td>0.263667</td>\n",
       "      <td>0.416667</td>\n",
       "    </tr>\n",
       "    <tr>\n",
       "      <th>37</th>\n",
       "      <td>0.065445</td>\n",
       "      <td>0.067741</td>\n",
       "      <td>0.893939</td>\n",
       "      <td>0.391858</td>\n",
       "      <td>1.000</td>\n",
       "      <td>0.355088</td>\n",
       "      <td>0.433333</td>\n",
       "    </tr>\n",
       "    <tr>\n",
       "      <th>38</th>\n",
       "      <td>0.065923</td>\n",
       "      <td>0.070043</td>\n",
       "      <td>0.939394</td>\n",
       "      <td>0.386637</td>\n",
       "      <td>1.000</td>\n",
       "      <td>0.392064</td>\n",
       "      <td>0.466667</td>\n",
       "    </tr>\n",
       "    <tr>\n",
       "      <th>39</th>\n",
       "      <td>0.105843</td>\n",
       "      <td>0.095361</td>\n",
       "      <td>0.924242</td>\n",
       "      <td>0.621993</td>\n",
       "      <td>0.875</td>\n",
       "      <td>0.437549</td>\n",
       "      <td>0.516667</td>\n",
       "    </tr>\n",
       "    <tr>\n",
       "      <th>40</th>\n",
       "      <td>0.059896</td>\n",
       "      <td>0.106941</td>\n",
       "      <td>0.893939</td>\n",
       "      <td>0.359468</td>\n",
       "      <td>1.000</td>\n",
       "      <td>0.517975</td>\n",
       "      <td>0.566667</td>\n",
       "    </tr>\n",
       "    <tr>\n",
       "      <th>41</th>\n",
       "      <td>0.060085</td>\n",
       "      <td>0.085569</td>\n",
       "      <td>0.893939</td>\n",
       "      <td>0.360684</td>\n",
       "      <td>1.000</td>\n",
       "      <td>0.418316</td>\n",
       "      <td>0.483333</td>\n",
       "    </tr>\n",
       "    <tr>\n",
       "      <th>42</th>\n",
       "      <td>0.073167</td>\n",
       "      <td>0.078543</td>\n",
       "      <td>0.878788</td>\n",
       "      <td>0.392379</td>\n",
       "      <td>1.000</td>\n",
       "      <td>0.352126</td>\n",
       "      <td>0.450000</td>\n",
       "    </tr>\n",
       "    <tr>\n",
       "      <th>43</th>\n",
       "      <td>0.061213</td>\n",
       "      <td>0.059707</td>\n",
       "      <td>0.924242</td>\n",
       "      <td>0.428135</td>\n",
       "      <td>1.000</td>\n",
       "      <td>0.306488</td>\n",
       "      <td>0.466667</td>\n",
       "    </tr>\n",
       "    <tr>\n",
       "      <th>44</th>\n",
       "      <td>0.046041</td>\n",
       "      <td>0.031425</td>\n",
       "      <td>0.818182</td>\n",
       "      <td>0.253199</td>\n",
       "      <td>1.000</td>\n",
       "      <td>0.210146</td>\n",
       "      <td>0.516667</td>\n",
       "    </tr>\n",
       "    <tr>\n",
       "      <th>45</th>\n",
       "      <td>0.067239</td>\n",
       "      <td>0.056354</td>\n",
       "      <td>0.848485</td>\n",
       "      <td>0.409755</td>\n",
       "      <td>1.000</td>\n",
       "      <td>0.492643</td>\n",
       "      <td>0.450000</td>\n",
       "    </tr>\n",
       "    <tr>\n",
       "      <th>46</th>\n",
       "      <td>0.035937</td>\n",
       "      <td>0.031126</td>\n",
       "      <td>0.772727</td>\n",
       "      <td>0.197446</td>\n",
       "      <td>0.875</td>\n",
       "      <td>0.251193</td>\n",
       "      <td>0.400000</td>\n",
       "    </tr>\n",
       "    <tr>\n",
       "      <th>47</th>\n",
       "      <td>0.078637</td>\n",
       "      <td>0.105964</td>\n",
       "      <td>0.939394</td>\n",
       "      <td>0.434313</td>\n",
       "      <td>1.000</td>\n",
       "      <td>0.587502</td>\n",
       "      <td>0.400000</td>\n",
       "    </tr>\n",
       "    <tr>\n",
       "      <th>48</th>\n",
       "      <td>0.061924</td>\n",
       "      <td>0.049689</td>\n",
       "      <td>0.863636</td>\n",
       "      <td>0.403781</td>\n",
       "      <td>1.000</td>\n",
       "      <td>0.300506</td>\n",
       "      <td>0.433333</td>\n",
       "    </tr>\n",
       "    <tr>\n",
       "      <th>49</th>\n",
       "      <td>0.058123</td>\n",
       "      <td>0.051763</td>\n",
       "      <td>0.848485</td>\n",
       "      <td>0.329196</td>\n",
       "      <td>1.000</td>\n",
       "      <td>0.412055</td>\n",
       "      <td>0.500000</td>\n",
       "    </tr>\n",
       "  </tbody>\n",
       "</table>\n",
       "</div>"
      ],
      "text/plain": [
       "           0         1         2         3      4         5         6\n",
       "0   0.078605  0.072809  0.969697  0.468333  1.000  0.409279  0.483333\n",
       "1   0.042006  0.055001  0.772727  0.226709  0.875  0.283275  0.583333\n",
       "2   0.041305  0.046702  0.757576  0.201504  1.000  0.288474  0.483333\n",
       "3   0.070309  0.024843  0.833333  0.418443  0.875  0.179872  0.433333\n",
       "4   0.078773  0.110950  0.833333  0.489013  1.000  0.349609  0.566667\n",
       "5   0.038850  0.032455  0.621212  0.170524  1.000  0.211115  0.533333\n",
       "6   0.050539  0.069383  0.878788  0.396960  1.000  0.383178  0.466667\n",
       "7   0.059796  0.056155  0.818182  0.328008  1.000  0.374522  0.433333\n",
       "8   0.065441  0.045782  0.924242  0.381155  0.875  0.243340  0.500000\n",
       "9   0.078316  0.142038  0.787879  0.454777  0.875  0.370756  0.566667\n",
       "10  0.078624  0.041913  0.954545  0.412639  0.875  0.338654  0.466667\n",
       "11  0.048501  0.087407  0.803030  0.340691  1.000  0.419953  0.566667\n",
       "12  0.053448  0.112741  0.772727  0.351534  1.000  0.482185  0.533333\n",
       "13  0.044217  0.039391  0.757576  0.231364  0.875  0.248993  0.516667\n",
       "14  0.058258  0.092195  0.893939  0.370129  1.000  0.431301  0.550000\n",
       "15  0.079653  0.067332  0.909091  0.444489  1.000  0.360184  0.450000\n",
       "16  0.044275  0.078722  0.878788  0.316880  1.000  0.507360  0.416667\n",
       "17  0.067761  0.125289  0.924242  0.496007  1.000  0.521399  0.483333\n",
       "18  0.051722  0.067599  0.893939  0.309807  1.000  0.366120  0.483333\n",
       "19  0.072950  0.034468  0.969697  0.420724  1.000  0.375144  0.533333\n",
       "20  0.078472  0.080469  0.924242  0.462039  1.000  0.427228  0.516667\n",
       "21  0.057523  0.048931  0.833333  0.393954  1.000  0.321806  0.466667\n",
       "22  0.092785  0.105506  0.954545  0.506951  1.000  0.600717  0.516667\n",
       "23  0.049633  0.057652  0.893939  0.331146  1.000  0.390748  0.400000\n",
       "24  0.070474  0.046636  0.878788  0.413782  1.000  0.232068  0.450000\n",
       "25  0.043485  0.064212  0.803030  0.283631  1.000  0.388647  0.566667\n",
       "26  0.042578  0.034942  0.666667  0.225493  1.000  0.265092  0.583333\n",
       "27  0.046468  0.042017  0.651515  0.255098  1.000  0.190736  0.583333\n",
       "28  0.029693  0.034307  0.803030  0.161794  1.000  0.201941  0.483333\n",
       "29  0.047791  0.085162  0.924242  0.329489  1.000  0.475574  0.483333\n",
       "30  0.067821  0.091309  0.863636  0.321378  1.000  0.655087  0.400000\n",
       "31  0.085225  0.054372  0.833333  0.474722  1.000  0.357020  0.466667\n",
       "32  0.079943  0.109779  0.848485  0.515346  1.000  0.456873  0.433333\n",
       "33  0.089055  0.121387  0.939394  0.513393  0.875  0.471809  0.466667\n",
       "34  0.068097  0.098523  0.893939  0.376933  1.000  0.395647  0.566667\n",
       "35  0.052542  0.039316  0.787879  0.313755  1.000  0.271739  0.433333\n",
       "36  0.077871  0.049009  0.939394  0.418116  1.000  0.263667  0.416667\n",
       "37  0.065445  0.067741  0.893939  0.391858  1.000  0.355088  0.433333\n",
       "38  0.065923  0.070043  0.939394  0.386637  1.000  0.392064  0.466667\n",
       "39  0.105843  0.095361  0.924242  0.621993  0.875  0.437549  0.516667\n",
       "40  0.059896  0.106941  0.893939  0.359468  1.000  0.517975  0.566667\n",
       "41  0.060085  0.085569  0.893939  0.360684  1.000  0.418316  0.483333\n",
       "42  0.073167  0.078543  0.878788  0.392379  1.000  0.352126  0.450000\n",
       "43  0.061213  0.059707  0.924242  0.428135  1.000  0.306488  0.466667\n",
       "44  0.046041  0.031425  0.818182  0.253199  1.000  0.210146  0.516667\n",
       "45  0.067239  0.056354  0.848485  0.409755  1.000  0.492643  0.450000\n",
       "46  0.035937  0.031126  0.772727  0.197446  0.875  0.251193  0.400000\n",
       "47  0.078637  0.105964  0.939394  0.434313  1.000  0.587502  0.400000\n",
       "48  0.061924  0.049689  0.863636  0.403781  1.000  0.300506  0.433333\n",
       "49  0.058123  0.051763  0.848485  0.329196  1.000  0.412055  0.500000"
      ]
     },
     "execution_count": 110,
     "metadata": {},
     "output_type": "execute_result"
    }
   ],
   "source": [
    "check"
   ]
  },
  {
   "cell_type": "code",
   "execution_count": 111,
   "id": "e061792a-e589-486e-b8d2-336622f6bf34",
   "metadata": {},
   "outputs": [],
   "source": [
    "# check"
   ]
  },
  {
   "cell_type": "code",
   "execution_count": 112,
   "id": "fa101efc-351b-4645-87a3-f008abf1ff3d",
   "metadata": {},
   "outputs": [],
   "source": [
    "# check"
   ]
  },
  {
   "cell_type": "code",
   "execution_count": 113,
   "id": "77536655-0afd-4976-980a-fa7a28b55201",
   "metadata": {},
   "outputs": [],
   "source": [
    "# check.columns = [\"train_mae\", \"test_mae\", \"avg_ci_width_train\", \"avg_ci_width_test\", \"avg_lstm_weight\", \"exit_iter\", \"exit_status\"]"
   ]
  },
  {
   "cell_type": "code",
   "execution_count": 114,
   "id": "cd8cefbd-9076-469e-a5dc-dc4637846308",
   "metadata": {},
   "outputs": [],
   "source": [
    "# check"
   ]
  },
  {
   "cell_type": "code",
   "execution_count": 115,
   "id": "4fc1dcac-24b2-45e7-ae4c-e55eca90a6c6",
   "metadata": {},
   "outputs": [],
   "source": [
    "check.columns = [\"train_mae\", \"test_mae\", \"train_coverage\", \"train_width\", \"test_coverage\", \"test_width\", \"time_taken\"]"
   ]
  },
  {
   "cell_type": "code",
   "execution_count": 116,
   "id": "fcf483cf-1d09-4d5d-8c7c-7db62473a356",
   "metadata": {},
   "outputs": [],
   "source": [
    "check_mean = check.mean().reset_index()"
   ]
  },
  {
   "cell_type": "code",
   "execution_count": 117,
   "id": "b33d52b3-1a70-48ad-9b9d-3f259d4b68c7",
   "metadata": {},
   "outputs": [
    {
     "data": {
      "text/html": [
       "<div>\n",
       "<style scoped>\n",
       "    .dataframe tbody tr th:only-of-type {\n",
       "        vertical-align: middle;\n",
       "    }\n",
       "\n",
       "    .dataframe tbody tr th {\n",
       "        vertical-align: top;\n",
       "    }\n",
       "\n",
       "    .dataframe thead th {\n",
       "        text-align: right;\n",
       "    }\n",
       "</style>\n",
       "<table border=\"1\" class=\"dataframe\">\n",
       "  <thead>\n",
       "    <tr style=\"text-align: right;\">\n",
       "      <th></th>\n",
       "      <th>index</th>\n",
       "      <th>0</th>\n",
       "    </tr>\n",
       "  </thead>\n",
       "  <tbody>\n",
       "    <tr>\n",
       "      <th>0</th>\n",
       "      <td>train_mae</td>\n",
       "      <td>0.062446</td>\n",
       "    </tr>\n",
       "    <tr>\n",
       "      <th>1</th>\n",
       "      <td>test_mae</td>\n",
       "      <td>0.069139</td>\n",
       "    </tr>\n",
       "    <tr>\n",
       "      <th>2</th>\n",
       "      <td>train_coverage</td>\n",
       "      <td>0.856667</td>\n",
       "    </tr>\n",
       "    <tr>\n",
       "      <th>3</th>\n",
       "      <td>train_width</td>\n",
       "      <td>0.369911</td>\n",
       "    </tr>\n",
       "    <tr>\n",
       "      <th>4</th>\n",
       "      <td>test_coverage</td>\n",
       "      <td>0.977500</td>\n",
       "    </tr>\n",
       "    <tr>\n",
       "      <th>5</th>\n",
       "      <td>test_width</td>\n",
       "      <td>0.370895</td>\n",
       "    </tr>\n",
       "    <tr>\n",
       "      <th>6</th>\n",
       "      <td>time_taken</td>\n",
       "      <td>0.487333</td>\n",
       "    </tr>\n",
       "  </tbody>\n",
       "</table>\n",
       "</div>"
      ],
      "text/plain": [
       "            index         0\n",
       "0       train_mae  0.062446\n",
       "1        test_mae  0.069139\n",
       "2  train_coverage  0.856667\n",
       "3     train_width  0.369911\n",
       "4   test_coverage  0.977500\n",
       "5      test_width  0.370895\n",
       "6      time_taken  0.487333"
      ]
     },
     "execution_count": 117,
     "metadata": {},
     "output_type": "execute_result"
    }
   ],
   "source": [
    "check_mean"
   ]
  },
  {
   "cell_type": "code",
   "execution_count": 118,
   "id": "694cfd02-a953-4fc5-888e-a196be3dd80f",
   "metadata": {},
   "outputs": [],
   "source": [
    "check_mean.to_csv(\"mean_metrics_real_world_just_lstm_low_dropout_\"  + \"drop_rate_\"  + str(rate) +  \"_bnn_reps_\" + str(bnn_reps) +  \".csv\", index = False)"
   ]
  },
  {
   "cell_type": "code",
   "execution_count": 119,
   "id": "9b520f45-ad8d-453c-80e7-7a6bb711692f",
   "metadata": {},
   "outputs": [],
   "source": [
    "check_std = check.std().reset_index()"
   ]
  },
  {
   "cell_type": "code",
   "execution_count": 120,
   "id": "bad06d4d-316c-497c-be10-ea06c9b8468f",
   "metadata": {},
   "outputs": [],
   "source": [
    "check_std.to_csv(\"std_dev_metrics_real_world_just_lstm_low_dropout_\"  + \"drop_rate_\"  + str(rate) +  \"_bnn_reps_\" + str(bnn_reps) +  \".csv\", index = False)"
   ]
  },
  {
   "cell_type": "code",
   "execution_count": 121,
   "id": "476c963d-dfc3-42cf-90ff-7f801920fc08",
   "metadata": {},
   "outputs": [],
   "source": [
    "# std_df.to_csv(\"std_dev_metrics_just_lstm_\"  + \"drop_rate_\"  + str(rate) +  \"_bnn_reps_\"+ str(bnn_reps) +  \".csv\")\n"
   ]
  },
  {
   "cell_type": "code",
   "execution_count": 122,
   "id": "e3e43629-3a74-4d41-acaf-dea297a3840c",
   "metadata": {},
   "outputs": [],
   "source": [
    "# check.std()/reps"
   ]
  },
  {
   "cell_type": "code",
   "execution_count": 123,
   "id": "d9e6815f-6e3b-47c0-8383-5931dbe8d2d2",
   "metadata": {},
   "outputs": [],
   "source": [
    "# catch_coverages[i][-1].shape"
   ]
  },
  {
   "cell_type": "code",
   "execution_count": 124,
   "id": "a83c3d12-b2f0-44b8-9904-7b10c4f513bd",
   "metadata": {},
   "outputs": [],
   "source": [
    "true_preds = []\n",
    "enkf_preds = []\n",
    "for i in range(0,reps):\n",
    "    all_preds = catch_coverages[i][-1]\n",
    "    all_preds = all_preds.mean(1)\n",
    "    catch_test_probs = expit(catch1[i][2])\n",
    "    true_probs = catch_test_probs.ravel().tolist()\n",
    "    true_preds.append(true_probs)\n",
    "    enkf_preds.append(all_preds.ravel().tolist())\n",
    "    # plt.scatter(true_probs, all_preds.ravel().tolist())\n",
    "    # plt.show()"
   ]
  },
  {
   "cell_type": "code",
   "execution_count": 125,
   "id": "4089a2ab-43f9-4e24-a7ed-add7bdc14156",
   "metadata": {},
   "outputs": [],
   "source": [
    "true_preds = [inner for item in true_preds for inner in item]"
   ]
  },
  {
   "cell_type": "code",
   "execution_count": 126,
   "id": "65492b8d-d7e4-4375-8577-d79a633680b7",
   "metadata": {},
   "outputs": [],
   "source": [
    "enkf_preds = [inner for item in enkf_preds for inner in item]"
   ]
  },
  {
   "cell_type": "code",
   "execution_count": 127,
   "id": "19776731-14c7-43c3-bd48-163aa67e2c76",
   "metadata": {},
   "outputs": [
    {
     "data": {
      "text/plain": [
       "0.06913863703841344"
      ]
     },
     "execution_count": 127,
     "metadata": {},
     "output_type": "execute_result"
    }
   ],
   "source": [
    "np.mean(np.abs(np.array(true_preds)-np.array(enkf_preds)))"
   ]
  },
  {
   "cell_type": "code",
   "execution_count": 128,
   "id": "1ebada74-6fe8-4f58-a939-87ca7399aef8",
   "metadata": {},
   "outputs": [
    {
     "data": {
      "text/plain": [
       "<matplotlib.lines._AxLine at 0x1520d8801240>"
      ]
     },
     "execution_count": 128,
     "metadata": {},
     "output_type": "execute_result"
    },
    {
     "data": {
      "image/png": "[encoded data removed]",
      "text/plain": [
       "<Figure size 640x480 with 1 Axes>"
      ]
     },
     "metadata": {},
     "output_type": "display_data"
    }
   ],
   "source": [
    "plt.scatter(enkf_preds,true_preds, alpha=0.5)\n",
    "plt.xlabel(\"EnKF Predictions\", fontsize = 15, fontweight = \"bold\")\n",
    "plt.ylabel(\"LSTM Predictions\", fontsize = 15, fontweight = \"bold\")\n",
    "plt.xticks(fontsize = 10, fontweight = \"bold\")\n",
    "plt.yticks(fontsize = 10, fontweight = \"bold\")\n",
    "plt.axline((0, 0), slope=1)"
   ]
  },
  {
   "cell_type": "code",
   "execution_count": 129,
   "id": "ead27b05-299e-49dc-bb97-236a18cd05e5",
   "metadata": {},
   "outputs": [],
   "source": [
    "# check"
   ]
  },
  {
   "cell_type": "code",
   "execution_count": 130,
   "id": "c3c59615-d33c-451c-8eb1-d8a93374c3d7",
   "metadata": {},
   "outputs": [],
   "source": [
    "with open('first_lstm_just_lstm_real_world_low_dropout.pkl', 'wb') as f:\n",
    "    pickle.dump(catch_coverages, f)"
   ]
  }
 ],
 "metadata": {
  "kernelspec": {
   "display_name": "enkf",
   "language": "python",
   "name": "enkf"
  },
  "language_info": {
   "codemirror_mode": {
    "name": "ipython",
    "version": 3
   },
   "file_extension": ".py",
   "mimetype": "text/x-python",
   "name": "python",
   "nbconvert_exporter": "python",
   "pygments_lexer": "ipython3",
   "version": "3.10.8"
  }
 },
 "nbformat": 4,
 "nbformat_minor": 5
}
