{
 "cells": [
  {
   "cell_type": "code",
   "execution_count": 51,
   "id": "d7ab5bf3",
   "metadata": {},
   "outputs": [],
   "source": [
    "import pandas as pd\n",
    "from tqdm import tqdm\n",
    "import gensim\n",
    "import os\n",
    "os.environ['TF_CPP_MIN_LOG_LEVEL'] = '3' \n",
    "# os.chdir(r\"D://Proposal_Defense//Simulations\")\n",
    "# from Utils.Script_utils import get_data_splits, first_LSTM_training, get_data_splits_old_algo\n",
    "from joblib import Parallel, delayed\n",
    "import sys\n",
    "from scipy.stats import norm"
   ]
  },
  {
   "cell_type": "code",
   "execution_count": 52,
   "id": "36084258",
   "metadata": {},
   "outputs": [
    {
     "name": "stdout",
     "output_type": "stream",
     "text": [
      "No GPU found\n"
     ]
    }
   ],
   "source": [
    "# Seed value\n",
    "# Apparently you may use different seed values at each stage\n",
    "seed_value= 42\n",
    "\n",
    "# 1. Set the `PYTHONHASHSEED` environment variable at a fixed value\n",
    "import os\n",
    "os.environ['PYTHONHASHSEED']=str(seed_value)\n",
    "\n",
    "# 2. Set the `python` built-in pseudo-random generator at a fixed value\n",
    "import random\n",
    "random.seed(seed_value)\n",
    "\n",
    "# 3. Set the `numpy` pseudo-random generator at a fixed value\n",
    "import numpy as np\n",
    "np.random.seed(seed_value)\n",
    "\n",
    "# # 4. Set the `tensorflow` pseudo-random generator at a fixed value\n",
    "import tensorflow as tf\n",
    "os.environ['CUDA_VISIBLE_DEVICES'] = '-1'\n",
    "\n",
    "if tf.test.gpu_device_name():\n",
    "    print('GPU found')\n",
    "else:\n",
    "    print(\"No GPU found\")\n",
    "# tf.config.set_visible_devices([], 'GPU')\n",
    "\n",
    "from tqdm.notebook import tqdm\n",
    "tf.random.set_seed(seed_value)\n",
    "import multiprocessing\n",
    "# for later versions: \n",
    "# tf.compat.v1.set_random_seed(seed_value)\n",
    "\n",
    "# 5. Configure a new global `tensorflow` session\n",
    "# from keras import backend as K\n",
    "# session_conf = tf.compat.v1.ConfigProto(intra_op_parallelism_threads=1, inter_op_parallelism_threads=1)\n",
    "# sess = tf.compat.v1.Session(graph=tf.compat.v1.get_default_graph(), config=session_conf)\n",
    "# K.set_session(sess)"
   ]
  },
  {
   "cell_type": "code",
   "execution_count": 53,
   "id": "e036b858",
   "metadata": {},
   "outputs": [],
   "source": [
    "import matplotlib.pyplot as plt\n",
    "\n",
    "import pickle"
   ]
  },
  {
   "cell_type": "code",
   "execution_count": 54,
   "id": "440c1a52",
   "metadata": {},
   "outputs": [],
   "source": [
    "with open('true_data_doc2vec_lstm_var_0.0001.pkl', 'rb') as f:\n",
    "    catch = pickle.load(f)  "
   ]
  },
  {
   "cell_type": "code",
   "execution_count": 55,
   "id": "4eea8c8e",
   "metadata": {},
   "outputs": [],
   "source": [
    "# var_weights = 0.08\n",
    "# var_targets = 0.08"
   ]
  },
  {
   "cell_type": "code",
   "execution_count": 56,
   "id": "bd888262",
   "metadata": {},
   "outputs": [],
   "source": [
    "from tqdm.notebook import tqdm"
   ]
  },
  {
   "cell_type": "code",
   "execution_count": 57,
   "id": "b1ce82b7",
   "metadata": {},
   "outputs": [],
   "source": [
    "import random"
   ]
  },
  {
   "cell_type": "code",
   "execution_count": 58,
   "id": "b7959ab1",
   "metadata": {},
   "outputs": [],
   "source": [
    "import numpy as np"
   ]
  },
  {
   "cell_type": "code",
   "execution_count": 59,
   "id": "4e3ef6e6",
   "metadata": {},
   "outputs": [],
   "source": [
    "import time"
   ]
  },
  {
   "cell_type": "code",
   "execution_count": 60,
   "id": "0eabfdd4",
   "metadata": {},
   "outputs": [],
   "source": [
    "from scipy.stats import multivariate_normal as mvn"
   ]
  },
  {
   "cell_type": "code",
   "execution_count": 61,
   "id": "10d77915",
   "metadata": {},
   "outputs": [],
   "source": [
    "from scipy.stats import multivariate_normal as mvn"
   ]
  },
  {
   "cell_type": "code",
   "execution_count": 62,
   "id": "ebeb0869-7f0b-4f21-be63-0234896af39f",
   "metadata": {},
   "outputs": [],
   "source": [
    "# train_fudged_probs"
   ]
  },
  {
   "cell_type": "code",
   "execution_count": 63,
   "id": "23d87ffe",
   "metadata": {},
   "outputs": [],
   "source": [
    "import matplotlib.pyplot as plt"
   ]
  },
  {
   "cell_type": "code",
   "execution_count": 64,
   "id": "f5427e43",
   "metadata": {},
   "outputs": [],
   "source": [
    "from scipy.special import expit"
   ]
  },
  {
   "cell_type": "code",
   "execution_count": 65,
   "id": "be0ee1ec",
   "metadata": {},
   "outputs": [],
   "source": [
    "# catch1[0][0]"
   ]
  },
  {
   "cell_type": "code",
   "execution_count": 66,
   "id": "fb492324",
   "metadata": {},
   "outputs": [],
   "source": [
    "# catch_train_logits_second[0]"
   ]
  },
  {
   "cell_type": "code",
   "execution_count": 67,
   "id": "0c2dbaec-3249-404a-9971-c2fc17f68356",
   "metadata": {},
   "outputs": [],
   "source": [
    "from datetime import datetime"
   ]
  },
  {
   "cell_type": "code",
   "execution_count": 68,
   "id": "9cf12935",
   "metadata": {},
   "outputs": [],
   "source": [
    "def expit(x):\n",
    "    \"\"\"Compute softmax values for each sets of scores in x.\"\"\"\n",
    "#     e_x = np.exp(x - np.max(x))\n",
    "    return 1 / (1 + np.exp(-x))"
   ]
  },
  {
   "cell_type": "code",
   "execution_count": 69,
   "id": "ef051014",
   "metadata": {},
   "outputs": [],
   "source": [
    "from scipy.stats import gamma"
   ]
  },
  {
   "cell_type": "code",
   "execution_count": 70,
   "id": "07cb7b8c-4634-46e7-ab75-e865c7116995",
   "metadata": {},
   "outputs": [],
   "source": [
    "# second_lstm[0]"
   ]
  },
  {
   "cell_type": "code",
   "execution_count": 71,
   "id": "5f0e5cb1-4067-46ba-9399-ca30548a10e1",
   "metadata": {},
   "outputs": [],
   "source": [
    "# reduction = 8\n",
    "# var_weights = 1"
   ]
  },
  {
   "cell_type": "code",
   "execution_count": 72,
   "id": "197043a4-b420-4e3b-beaf-699cd7c3db6b",
   "metadata": {},
   "outputs": [],
   "source": [
    "# cur_idx = 16\n",
    "# np.log(catch_test_probs[cur_idx]/(1-catch_test_probs[cur_idx]))"
   ]
  },
  {
   "cell_type": "code",
   "execution_count": 73,
   "id": "5ae6c226-20d1-4a84-ab7b-5c5295748826",
   "metadata": {},
   "outputs": [],
   "source": [
    "# catch_preds_df"
   ]
  },
  {
   "cell_type": "code",
   "execution_count": 74,
   "id": "75f0d45e-6b06-4e9a-8997-5217ab99ebde",
   "metadata": {},
   "outputs": [],
   "source": [
    "# ids = [i for i in range(0, catch_test_probs[cur_idx].shape[0]) if catch_test_probs[cur_idx][i] < 0.5]\n",
    "# ids_more = [i for i in range(0, catch_test_probs[cur_idx].shape[0]) if catch_test_probs[cur_idx][i] > 0.5]"
   ]
  },
  {
   "cell_type": "code",
   "execution_count": 75,
   "id": "7f15dc9d-a59f-4ef8-b93a-8244896352c5",
   "metadata": {},
   "outputs": [],
   "source": [
    "# ids_more"
   ]
  },
  {
   "cell_type": "code",
   "execution_count": 76,
   "id": "1cebfd75-9077-4677-a4f7-05c09ac9f2de",
   "metadata": {},
   "outputs": [],
   "source": [
    "import plotly.express as px"
   ]
  },
  {
   "cell_type": "code",
   "execution_count": 77,
   "id": "22ee79ea-e013-4f80-920e-10e2aeb0eb6b",
   "metadata": {},
   "outputs": [],
   "source": [
    "import seaborn as sns"
   ]
  },
  {
   "cell_type": "code",
   "execution_count": 78,
   "id": "1969c78b-c105-482a-a957-e81329037a09",
   "metadata": {},
   "outputs": [],
   "source": [
    "use_cores = 15"
   ]
  },
  {
   "cell_type": "code",
   "execution_count": null,
   "id": "e5e25a8d-c51c-4c1d-9589-5b3b01f267e7",
   "metadata": {},
   "outputs": [],
   "source": []
  },
  {
   "cell_type": "code",
   "execution_count": 79,
   "id": "b9d651b2-15fa-4542-84ab-106c958569cc",
   "metadata": {},
   "outputs": [],
   "source": [
    "# with open('first_lstm_with_doc2vec_lstm_var_0.0001_real_world.pkl', 'rb') as f:\n",
    "#     first_lstm = pickle.load(f)  "
   ]
  },
  {
   "cell_type": "code",
   "execution_count": 80,
   "id": "2f12bf17-643b-4c5b-a2b0-d1f59b99557e",
   "metadata": {},
   "outputs": [],
   "source": [
    "# threshold = 200\n",
    "# cutoff_threshold = 70"
   ]
  },
  {
   "cell_type": "code",
   "execution_count": 81,
   "id": "407034e6-5a33-4332-b56c-f85cd2377b1c",
   "metadata": {},
   "outputs": [],
   "source": [
    "# catch1 = first_lstm"
   ]
  },
  {
   "cell_type": "code",
   "execution_count": 82,
   "id": "15d0a2c3-65ed-4be6-b837-fa43a7b851a7",
   "metadata": {},
   "outputs": [],
   "source": [
    "# padding_vector = np.zeros((1, model_cbow.wv.vectors.shape[1]))\n",
    "# unknown_vector = np.zeros((1, model_cbow.wv.vectors.shape[1]))"
   ]
  },
  {
   "cell_type": "code",
   "execution_count": 83,
   "id": "b1c783f4-c2b1-437b-bbc4-b8b760335718",
   "metadata": {},
   "outputs": [],
   "source": [
    "# vocabulary = model_cbow.wv.index_to_key"
   ]
  },
  {
   "cell_type": "code",
   "execution_count": 84,
   "id": "32c3b4a1-cfc7-4e68-b60b-f5afc47c7952",
   "metadata": {},
   "outputs": [],
   "source": [
    "# other_weights = model_cbow.wv.vectors"
   ]
  },
  {
   "cell_type": "code",
   "execution_count": 85,
   "id": "dcc583b5-a4bd-4fad-ae07-378fe9f01701",
   "metadata": {},
   "outputs": [],
   "source": [
    "# rate = 0.15"
   ]
  },
  {
   "cell_type": "code",
   "execution_count": 86,
   "id": "0a3353fe-5c23-44b0-adcc-f72c6e25cebe",
   "metadata": {},
   "outputs": [],
   "source": [
    "with open('first_lstm_with_doc2vec_lstm_var_0.0001_real_world_heavy_dropout.pkl', 'rb') as f:\n",
    "    first_lstm = pickle.load(f)  "
   ]
  },
  {
   "cell_type": "code",
   "execution_count": 87,
   "id": "d011ba74-c33b-465a-90ce-6a38b076f6f6",
   "metadata": {},
   "outputs": [],
   "source": [
    "catch1 = first_lstm"
   ]
  },
  {
   "cell_type": "code",
   "execution_count": 88,
   "id": "bb03fb24-5b1b-443d-a6ef-f54e874a6f2b",
   "metadata": {},
   "outputs": [],
   "source": [
    "# catch1[0][0].shape"
   ]
  },
  {
   "cell_type": "code",
   "execution_count": 89,
   "id": "4986b902-e971-4544-a0c7-8cf62192760b",
   "metadata": {},
   "outputs": [],
   "source": [
    "# catch1[0][1].shape"
   ]
  },
  {
   "cell_type": "code",
   "execution_count": 90,
   "id": "6ac92e74-3dfd-4ac6-8fd8-9cbd20b0b8d3",
   "metadata": {},
   "outputs": [],
   "source": [
    "# catch1[0][2].shape"
   ]
  },
  {
   "cell_type": "code",
   "execution_count": 91,
   "id": "e343ffb7-87d1-4974-a13f-d9a26c8a0530",
   "metadata": {},
   "outputs": [],
   "source": [
    "# catch1[0]"
   ]
  },
  {
   "cell_type": "code",
   "execution_count": 92,
   "id": "81d40f6a-0f26-41d2-b60b-592d1c7f332a",
   "metadata": {},
   "outputs": [],
   "source": [
    "bnn_reps = 200"
   ]
  },
  {
   "cell_type": "code",
   "execution_count": 93,
   "id": "15570152-7049-4460-95b8-0c66e2c5f954",
   "metadata": {},
   "outputs": [],
   "source": [
    "from datetime import datetime"
   ]
  },
  {
   "cell_type": "code",
   "execution_count": 94,
   "id": "470ee1e6-3941-499b-a140-8f42ca9afa57",
   "metadata": {},
   "outputs": [],
   "source": [
    "model_cbow = gensim.models.word2vec.Word2Vec.load(r\"word2vec_sg\")"
   ]
  },
  {
   "cell_type": "code",
   "execution_count": 95,
   "id": "59240ebf-b230-4429-a74c-bae2d1850f5e",
   "metadata": {},
   "outputs": [],
   "source": [
    "lr = 1e-3"
   ]
  },
  {
   "cell_type": "code",
   "execution_count": 96,
   "id": "4bfc69bb-24d1-4b2e-a0ed-d55f656b477e",
   "metadata": {},
   "outputs": [],
   "source": [
    "def attention_lstm_model_heavy(rate, training): \n",
    "    padding_vector = np.zeros((1, model_cbow.wv.vectors.shape[1]))\n",
    "    unknown_vector = np.zeros((1, model_cbow.wv.vectors.shape[1]))\n",
    "    weight_vectors = np.vstack((padding_vector, unknown_vector))\n",
    "    weight_vectors = np.vstack((weight_vectors, model_cbow.wv.vectors))\n",
    "    embedding_layer = tf.keras.layers.Embedding(len(weight_vectors),\n",
    "                            weight_vectors.shape[1],\n",
    "                            weights=[weight_vectors],\n",
    "                            mask_zero = False,\n",
    "                            trainable=False)\n",
    "\n",
    "    \n",
    "    vectorize_layer = tf.keras.layers.TextVectorization(\n",
    "                     output_mode='int',\n",
    "                     vocabulary=model_cbow.wv.index_to_key, \n",
    "                     standardize = None)\n",
    "    \n",
    "    input_layer = tf.keras.layers.Input(shape = (1,), dtype = tf.string)\n",
    "\n",
    "    vectorize = vectorize_layer(input_layer)\n",
    "\n",
    "    vectorize.shape\n",
    "\n",
    "    emb_output = embedding_layer(vectorize)\n",
    "\n",
    "    emb_output.shape\n",
    "    \n",
    "#     spatial_drop = tf.keras.layers.SpatialDropout1D(0.5)\n",
    "    \n",
    "#     spatial_out = spatial_drop(emb_output, training = training)\n",
    "\n",
    "    lstm_layer = tf.keras.layers.LSTM(25, return_sequences = True, dropout = rate)\n",
    "\n",
    "    lstm_output = lstm_layer(emb_output, training = training)\n",
    "\n",
    "#     x_a = tf.keras.layers.Dense(lstm_output.get_shape()[-1]//2, kernel_initializer = 'glorot_uniform', activation=\"tanh\", name=\"tanh_mlp\")(lstm_output) \n",
    "    \n",
    "    # x_a = tf.keras.layers.SpatialDropout1D(0.75)(lstm_output, training = training)\n",
    "    \n",
    "    x_a = tf.keras.layers.Dense(1, kernel_initializer = 'glorot_uniform', activation='linear', name=\"word-level_context\", kernel_regularizer=tf.keras.regularizers.L2())(lstm_output)\n",
    "\n",
    "    x_a = tf.keras.layers.Flatten()(x_a)\n",
    "\n",
    "    att_out = tf.keras.layers.Activation('softmax')(x_a) \n",
    "\n",
    "    x_a2 = tf.keras.layers.RepeatVector(lstm_output.get_shape()[-1])(att_out)\n",
    "\n",
    "    x_a2 = tf.keras.layers.Permute([2,1])(x_a2)\n",
    "\n",
    "    out = tf.keras.layers.Multiply()([lstm_output,x_a2])\n",
    "    \n",
    "    out = tf.keras.layers.Lambda(lambda x : tf.math.reduce_sum(x, axis = 1), name='expectation_over_words')(out)\n",
    "    \n",
    "    dropout_layer = tf.keras.layers.Dropout(rate)(out, training = training)\n",
    "\n",
    "    pred_head = tf.keras.layers.Dense(1, kernel_regularizer=tf.keras.regularizers.L2())\n",
    "\n",
    "    pred_output = pred_head(dropout_layer)\n",
    "\n",
    "    model = tf.keras.models.Model(input_layer, pred_output)\n",
    "    \n",
    "    model.compile(loss = tf.keras.losses.BinaryCrossentropy(from_logits=True), \n",
    "                 optimizer = tf.keras.optimizers.Adam(learning_rate = lr), \n",
    "                 metrics=tf.keras.metrics.BinaryAccuracy())\n",
    "    \n",
    "    return model"
   ]
  },
  {
   "cell_type": "code",
   "execution_count": 97,
   "id": "f4b3ded5-bbb9-4712-9695-85fbf12939a9",
   "metadata": {},
   "outputs": [],
   "source": [
    "rate = 0.5"
   ]
  },
  {
   "cell_type": "code",
   "execution_count": 98,
   "id": "a7351dc4-5d8e-4792-be64-352d7f2ec01f",
   "metadata": {},
   "outputs": [],
   "source": [
    "# def attention_lstm_model_less(training): \n",
    "#     padding_vector = np.zeros((1, model_cbow.wv.vectors.shape[1]))\n",
    "#     unknown_vector = np.zeros((1, model_cbow.wv.vectors.shape[1]))\n",
    "#     weight_vectors = np.vstack((padding_vector, unknown_vector))\n",
    "#     weight_vectors = np.vstack((weight_vectors, model_cbow.wv.vectors))\n",
    "#     embedding_layer = tf.keras.layers.Embedding(len(weight_vectors),\n",
    "#                             weight_vectors.shape[1],\n",
    "#                             weights=[weight_vectors],\n",
    "#                             mask_zero = False,\n",
    "#                             trainable=False)\n",
    "\n",
    "    \n",
    "#     vectorize_layer = tf.keras.layers.TextVectorization(\n",
    "#                      output_mode='int',\n",
    "#                      vocabulary=model_cbow.wv.index_to_key, \n",
    "#                      standardize = None)\n",
    "    \n",
    "#     input_layer = tf.keras.layers.Input(shape = (1,), dtype = tf.string)\n",
    "\n",
    "#     vectorize = vectorize_layer(input_layer)\n",
    "\n",
    "#     vectorize.shape\n",
    "\n",
    "#     emb_output = embedding_layer(vectorize)\n",
    "\n",
    "#     emb_output.shape\n",
    "    \n",
    "#     spatial_drop = tf.keras.layers.SpatialDropout1D(0.5)\n",
    "    \n",
    "#     spatial_out = spatial_drop(emb_output)\n",
    "\n",
    "#     lstm_layer = tf.keras.layers.LSTM(25, return_sequences = True, dropout = rate)\n",
    "\n",
    "#     lstm_output = lstm_layer(spatial_out, training = training)\n",
    "\n",
    "# #     x_a = tf.keras.layers.Dense(lstm_output.get_shape()[-1]//2, kernel_initializer = 'glorot_uniform', activation=\"tanh\", name=\"tanh_mlp\")(lstm_output) \n",
    "    \n",
    "#     # x_a = tf.keras.layers.SpatialDropout1D(0.75)(lstm_output, training = training)\n",
    "    \n",
    "#     x_a = tf.keras.layers.Dense(1, kernel_initializer = 'glorot_uniform', activation='linear', name=\"word-level_context\", kernel_regularizer=tf.keras.regularizers.L2())(lstm_output)\n",
    "\n",
    "#     x_a = tf.keras.layers.Flatten()(x_a)\n",
    "\n",
    "#     att_out = tf.keras.layers.Activation('softmax')(x_a) \n",
    "\n",
    "#     x_a2 = tf.keras.layers.RepeatVector(lstm_output.get_shape()[-1])(att_out)\n",
    "\n",
    "#     x_a2 = tf.keras.layers.Permute([2,1])(x_a2)\n",
    "\n",
    "#     out = tf.keras.layers.Multiply()([lstm_output,x_a2])\n",
    "    \n",
    "#     out = tf.keras.layers.Lambda(lambda x : tf.math.reduce_sum(x, axis = 1), name='expectation_over_words')(out)\n",
    "    \n",
    "#     dropout_layer = tf.keras.layers.Dropout(rate)(out)\n",
    "\n",
    "#     pred_head = tf.keras.layers.Dense(1, kernel_regularizer=tf.keras.regularizers.L2())\n",
    "\n",
    "#     pred_output = pred_head(dropout_layer)\n",
    "\n",
    "#     model = tf.keras.models.Model(input_layer, pred_output)\n",
    "    \n",
    "#     model.compile(loss = tf.keras.losses.BinaryCrossentropy(from_logits=True), \n",
    "#                  optimizer = tf.keras.optimizers.Adam(learning_rate = lr), \n",
    "#                  metrics=tf.keras.metrics.BinaryAccuracy())\n",
    "    \n",
    "#     return model"
   ]
  },
  {
   "cell_type": "code",
   "execution_count": 99,
   "id": "75c12e9a-898a-45db-9ee2-eb652adfbee1",
   "metadata": {},
   "outputs": [],
   "source": [
    "def rep_one_real_world(idx, inflation_factor = 0.2, cutoff = 100): \n",
    "    catch_1 = []\n",
    "    catch_2 = []\n",
    "    catch_3 = []\n",
    "    catch_4 = []\n",
    "    catch_5 = []\n",
    "#     from scipy.special import expit\n",
    "    patience_smaller = 0\n",
    "# patience_bigger = 0\n",
    "\n",
    "#     best_train_acc = 0\n",
    "#     best_valid_acc = 1000\n",
    "\n",
    "#     best_valid_mae = 10\n",
    "    \n",
    "    best_train_mae = 100\n",
    "    \n",
    "    X_train_logits = np.vstack((catch1[idx][0], catch1[idx][1]))\n",
    "#     X_train_logits = catch_train_logits_second[idx]\n",
    "    \n",
    "    \n",
    "    X_test_logits = catch1[idx][2]\n",
    "    \n",
    "    ## create training batch chunks\n",
    "    # train_idx = list(range(0, X_train_logits.shape[0]))\n",
    "    # batch_chunks = [train_idx[i:i+batch_size] for i in range(0,len(train_idx),batch_size)]\n",
    "\n",
    "#     y_train = catch[idx][3].reshape(-1,1)\n",
    "\n",
    "#     y_valid = catch[idx][4].reshape(-1,1)\n",
    "\n",
    "#     y_test = catch[idx][5].reshape(-1,1)\n",
    "\n",
    "    \n",
    "    train_valid_seqs = np.vstack((catch[idx][0], catch[idx][1]))\n",
    "    # train_valid_labels = np.vstack((y_train, y_valid))\n",
    "    \n",
    "    test_seqs = catch[idx][2]\n",
    "\n",
    "    \n",
    "    start = datetime.now()\n",
    "    \n",
    "    base_model = tf.keras.models.load_model(\"Real_World_LSTM_Models_Heavy_Dropout\" + \"//\" + \"Model_\" + str(idx))\n",
    "    ens_model = attention_lstm_model_heavy(rate, True)\n",
    "    ens_model.set_weights(base_model.get_weights())\n",
    "    \n",
    "            \n",
    "    all_preds1 = [np.array(ens_model(train_valid_seqs)) for i in (range(0, bnn_reps))]\n",
    "    all_preds1 = np.hstack(all_preds1)\n",
    "\n",
    "    all_preds2 = expit(all_preds1)\n",
    "    all_preds3 = all_preds2.mean(1).reshape(-1,1)\n",
    "        \n",
    "        \n",
    "\n",
    "    li = np.percentile(all_preds2, axis = 1, q = (2.5, 97.5))[0,:].reshape(-1,1)\n",
    "            \n",
    "    ui = np.percentile(all_preds2, axis = 1, q = (2.5, 97.5))[1,:].reshape(-1,1)\n",
    "            \n",
    "    width = ui - li\n",
    "            \n",
    "    avg_width_train = np.mean(width)\n",
    "        \n",
    "    interim = expit(X_train_logits)\n",
    "        \n",
    "    train_mae = np.mean(np.abs(interim.ravel() - all_preds3.ravel()))\n",
    "        \n",
    "            \n",
    "    temp = interim\n",
    "            \n",
    "    ind = (temp >= li) & (temp <= ui)\n",
    "            \n",
    "    coverage_train= np.mean(ind.ravel())  \n",
    "            \n",
    "            \n",
    "    all_preds1 = [np.array(ens_model(test_seqs)) for i in (range(0, bnn_reps))]\n",
    "    all_preds1 = np.hstack(all_preds1)\n",
    "    all_preds2 = expit(all_preds1)\n",
    "    all_preds3 = all_preds2.mean(1).reshape(-1,1)\n",
    "            \n",
    "    li = np.percentile(all_preds2, axis = 1, q = (2.5, 97.5))[0,:].reshape(-1,1)\n",
    "            \n",
    "    ui = np.percentile(all_preds2, axis = 1, q = (2.5, 97.5))[1,:].reshape(-1,1)\n",
    "            \n",
    "    width = ui - li\n",
    "            \n",
    "    avg_width = np.mean(width)\n",
    "        \n",
    "    catch_test_probs = expit(X_test_logits)\n",
    "            \n",
    "    ind_test = (catch_test_probs >= li) & (catch_test_probs <= ui)\n",
    "               \n",
    " \n",
    "    coverage_test = np.mean(ind_test.ravel())    \n",
    "    \n",
    "    test_mae = np.mean(np.abs(catch_test_probs.ravel() - all_preds3.ravel()))\n",
    "            \n",
    "\n",
    "            \n",
    "    end = datetime.now()      \n",
    "    total = (end-start)\n",
    "    time_taken = total.seconds/60.0\n",
    "            \n",
    "            \n",
    "    print(test_mae,coverage_test, avg_width, flush = True)\n",
    "    return train_mae, test_mae, coverage_train, avg_width_train, coverage_test, avg_width, time_taken, all_preds2\n",
    "        \n",
    "    # print(\"something went awry\", flush = True)"
   ]
  },
  {
   "cell_type": "code",
   "execution_count": 100,
   "id": "7761cf2f-2827-4059-83b6-a97d6f60d760",
   "metadata": {},
   "outputs": [],
   "source": [
    "# rep_one_real_world(0, inflation_factor = 0.2, cutoff = 100)"
   ]
  },
  {
   "cell_type": "code",
   "execution_count": 101,
   "id": "605540da-2ad3-4d18-b8a4-93dd7c052f20",
   "metadata": {},
   "outputs": [],
   "source": [
    "# threshold = 10"
   ]
  },
  {
   "cell_type": "code",
   "execution_count": 102,
   "id": "138d0228-17b7-4019-9abe-458206e8a7df",
   "metadata": {},
   "outputs": [],
   "source": [
    "# cutoff_threshold = 10"
   ]
  },
  {
   "cell_type": "code",
   "execution_count": 103,
   "id": "879e0642-2387-46a1-8ea4-1e42e9e46819",
   "metadata": {},
   "outputs": [],
   "source": [
    "# best_train_mae, best_test_mae, best_train_coverage, best_train_width, best_test_coverage, best_test_width,  exit_iter_no_thresh,time_taken,  best_test_preds = rep_one_real_world(30)"
   ]
  },
  {
   "cell_type": "code",
   "execution_count": 104,
   "id": "7885566c-6100-4212-b604-bdffbb97b025",
   "metadata": {},
   "outputs": [],
   "source": [
    "# best_train_mae, best_test_mae, best_train_coverage, best_train_width, best_test_coverage, best_test_width,  exit_iter_no_thresh, time_taken"
   ]
  },
  {
   "cell_type": "code",
   "execution_count": 105,
   "id": "e294790b-8dc6-4f99-ba83-dfcea5f75845",
   "metadata": {},
   "outputs": [],
   "source": [
    "reps = 50"
   ]
  },
  {
   "cell_type": "code",
   "execution_count": 106,
   "id": "99a723c6",
   "metadata": {},
   "outputs": [
    {
     "name": "stderr",
     "output_type": "stream",
     "text": [
      "[Parallel(n_jobs=15)]: Using backend LokyBackend with 15 concurrent workers.\n"
     ]
    },
    {
     "name": "stdout",
     "output_type": "stream",
     "text": [
      "0.16815507 1.0 0.5363101529423147\n",
      "0.16567847 1.0 0.7635692833300709\n"
     ]
    },
    {
     "name": "stderr",
     "output_type": "stream",
     "text": [
      "[Parallel(n_jobs=15)]: Done   2 tasks      | elapsed:   32.4s\n"
     ]
    },
    {
     "name": "stdout",
     "output_type": "stream",
     "text": [
      "0.19034272 1.0 0.7620030343821782\n",
      "0.14328277 1.0 0.6518981409957633\n",
      "0.07438929 1.0 0.4301217458676547\n",
      "0.1680881 1.0 0.7556820820941539\n",
      "0.15761374 1.0 0.6409000458486844\n",
      "0.12294535 1.0 0.6554543902573642\n",
      "0.18561015 1.0 0.7644539887171049\n",
      "0.10008131 1.0 0.6472397624718726\n",
      "0.20204237 1.0 0.6667538203371806\n",
      "0.17584148 1.0 0.759468590770848\n",
      "0.12997983 1.0 0.6537342404481024\n",
      "0.14608939 1.0 0.6600515184109099\n"
     ]
    },
    {
     "name": "stderr",
     "output_type": "stream",
     "text": [
      "[Parallel(n_jobs=15)]: Done  11 tasks      | elapsed:   36.4s\n"
     ]
    },
    {
     "name": "stdout",
     "output_type": "stream",
     "text": [
      "0.2050856 1.0 0.7593029520226992\n",
      "0.09133974 1.0 0.6290967075619847\n",
      "0.12049532 1.0 0.7543684132979251\n",
      "0.16187668 1.0 0.8161216158943717\n",
      "0.117612824 1.0 0.6496575281664263\n",
      "0.075503975 1.0 0.41856910328497177\n"
     ]
    },
    {
     "name": "stderr",
     "output_type": "stream",
     "text": [
      "[Parallel(n_jobs=15)]: Done  20 tasks      | elapsed:  1.1min\n"
     ]
    },
    {
     "name": "stdout",
     "output_type": "stream",
     "text": [
      "0.10800296 1.0 0.670255527063273\n",
      "0.12163702 1.0 0.6974840718030464\n",
      "0.108496994 1.0 0.6942925476760138\n",
      "0.044239365 1.0 0.5192920869099907\n",
      "0.10326385 1.0 0.45137235382571816\n",
      "0.04958331 1.0 0.3760431189468364\n"
     ]
    },
    {
     "name": "stderr",
     "output_type": "stream",
     "text": [
      "[Parallel(n_jobs=15)]: Done  27 out of  50 | elapsed:  1.1min remaining:   58.0s\n"
     ]
    },
    {
     "name": "stdout",
     "output_type": "stream",
     "text": [
      "0.07216128 1.0 0.41829547424567864\n",
      "0.06846963 1.0 0.42986124622402716\n",
      "0.054263905 1.0 0.37424868157249874\n",
      "0.04987877 1.0 0.38166319467418375\n",
      "0.058244474 1.0 0.42843940758029936\n",
      "0.058478773 1.0 0.4453638207662153\n",
      "0.092176184 1.0 0.3707897089567268\n"
     ]
    },
    {
     "name": "stderr",
     "output_type": "stream",
     "text": [
      "[Parallel(n_jobs=15)]: Done  33 out of  50 | elapsed:  1.5min remaining:   46.5s\n"
     ]
    },
    {
     "name": "stdout",
     "output_type": "stream",
     "text": [
      "0.044818893 1.0 0.39600569135509434\n",
      "0.06791611 1.0 0.4492192142293789\n",
      "0.06702074 1.0 0.4974045925482643\n",
      "0.07975598 1.0 0.6320483355375474\n",
      "0.11784164 1.0 0.5354288398681093\n",
      "0.08470823 1.0 0.4495497287134641\n"
     ]
    },
    {
     "name": "stderr",
     "output_type": "stream",
     "text": [
      "[Parallel(n_jobs=15)]: Done  39 out of  50 | elapsed:  1.6min remaining:   27.7s\n"
     ]
    },
    {
     "name": "stdout",
     "output_type": "stream",
     "text": [
      "0.08796832 1.0 0.5453893748606788\n",
      "0.11656205 1.0 0.6444680284941569\n",
      "0.035417415 1.0 0.2979891116730869\n",
      "0.04595555 1.0 0.44015334576834\n",
      "0.13159439 1.0 0.4796383848937694\n",
      "0.10983311 1.0 0.6431194961071015\n"
     ]
    },
    {
     "name": "stderr",
     "output_type": "stream",
     "text": [
      "[Parallel(n_jobs=15)]: Done  45 out of  50 | elapsed:  1.7min remaining:   11.5s\n"
     ]
    },
    {
     "name": "stdout",
     "output_type": "stream",
     "text": [
      "0.047447998 1.0 0.3442894117208198\n",
      "0.12525201 1.0 0.6570044747437351\n",
      "0.06617882 1.0 0.4259293308947235\n",
      "0.08899924 1.0 0.49412102871574465\n",
      "0.067691244 1.0 0.5409859535691794\n"
     ]
    },
    {
     "name": "stderr",
     "output_type": "stream",
     "text": [
      "[Parallel(n_jobs=15)]: Done  50 out of  50 | elapsed:  2.1min finished\n"
     ]
    }
   ],
   "source": [
    "catch_coverages = Parallel(n_jobs=use_cores, verbose = 10, backend = \"loky\")(delayed(rep_one_real_world)(i) for i in range(reps))"
   ]
  },
  {
   "cell_type": "code",
   "execution_count": 107,
   "id": "1e8200e5-b784-49c8-9ae9-fd7ee5a2e71d",
   "metadata": {},
   "outputs": [],
   "source": [
    "# catch_coverages"
   ]
  },
  {
   "cell_type": "code",
   "execution_count": 108,
   "id": "647980a7-9ae3-4c5c-b25c-2e37b6a84679",
   "metadata": {},
   "outputs": [],
   "source": [
    "check = pd.DataFrame(catch_coverages).iloc[:, :-1]"
   ]
  },
  {
   "cell_type": "code",
   "execution_count": 109,
   "id": "e45525f0-de06-47bf-8cca-da34b95705f4",
   "metadata": {},
   "outputs": [
    {
     "data": {
      "text/html": [
       "<div>\n",
       "<style scoped>\n",
       "    .dataframe tbody tr th:only-of-type {\n",
       "        vertical-align: middle;\n",
       "    }\n",
       "\n",
       "    .dataframe tbody tr th {\n",
       "        vertical-align: top;\n",
       "    }\n",
       "\n",
       "    .dataframe thead th {\n",
       "        text-align: right;\n",
       "    }\n",
       "</style>\n",
       "<table border=\"1\" class=\"dataframe\">\n",
       "  <thead>\n",
       "    <tr style=\"text-align: right;\">\n",
       "      <th></th>\n",
       "      <th>0</th>\n",
       "      <th>1</th>\n",
       "      <th>2</th>\n",
       "      <th>3</th>\n",
       "      <th>4</th>\n",
       "      <th>5</th>\n",
       "      <th>6</th>\n",
       "    </tr>\n",
       "  </thead>\n",
       "  <tbody>\n",
       "    <tr>\n",
       "      <th>0</th>\n",
       "      <td>0.082431</td>\n",
       "      <td>0.157614</td>\n",
       "      <td>1.000000</td>\n",
       "      <td>0.519217</td>\n",
       "      <td>1.0</td>\n",
       "      <td>0.640900</td>\n",
       "      <td>0.600000</td>\n",
       "    </tr>\n",
       "    <tr>\n",
       "      <th>1</th>\n",
       "      <td>0.097282</td>\n",
       "      <td>0.122945</td>\n",
       "      <td>1.000000</td>\n",
       "      <td>0.613035</td>\n",
       "      <td>1.0</td>\n",
       "      <td>0.655454</td>\n",
       "      <td>0.600000</td>\n",
       "    </tr>\n",
       "    <tr>\n",
       "      <th>2</th>\n",
       "      <td>0.118206</td>\n",
       "      <td>0.185610</td>\n",
       "      <td>1.000000</td>\n",
       "      <td>0.685593</td>\n",
       "      <td>1.0</td>\n",
       "      <td>0.764454</td>\n",
       "      <td>0.600000</td>\n",
       "    </tr>\n",
       "    <tr>\n",
       "      <th>3</th>\n",
       "      <td>0.101010</td>\n",
       "      <td>0.129980</td>\n",
       "      <td>1.000000</td>\n",
       "      <td>0.575312</td>\n",
       "      <td>1.0</td>\n",
       "      <td>0.653734</td>\n",
       "      <td>0.583333</td>\n",
       "    </tr>\n",
       "    <tr>\n",
       "      <th>4</th>\n",
       "      <td>0.042861</td>\n",
       "      <td>0.074389</td>\n",
       "      <td>1.000000</td>\n",
       "      <td>0.351095</td>\n",
       "      <td>1.0</td>\n",
       "      <td>0.430122</td>\n",
       "      <td>0.550000</td>\n",
       "    </tr>\n",
       "    <tr>\n",
       "      <th>5</th>\n",
       "      <td>0.162148</td>\n",
       "      <td>0.205086</td>\n",
       "      <td>1.000000</td>\n",
       "      <td>0.763872</td>\n",
       "      <td>1.0</td>\n",
       "      <td>0.759303</td>\n",
       "      <td>0.600000</td>\n",
       "    </tr>\n",
       "    <tr>\n",
       "      <th>6</th>\n",
       "      <td>0.111316</td>\n",
       "      <td>0.202042</td>\n",
       "      <td>1.000000</td>\n",
       "      <td>0.640160</td>\n",
       "      <td>1.0</td>\n",
       "      <td>0.666754</td>\n",
       "      <td>0.600000</td>\n",
       "    </tr>\n",
       "    <tr>\n",
       "      <th>7</th>\n",
       "      <td>0.095049</td>\n",
       "      <td>0.146089</td>\n",
       "      <td>1.000000</td>\n",
       "      <td>0.604789</td>\n",
       "      <td>1.0</td>\n",
       "      <td>0.660052</td>\n",
       "      <td>0.600000</td>\n",
       "    </tr>\n",
       "    <tr>\n",
       "      <th>8</th>\n",
       "      <td>0.127154</td>\n",
       "      <td>0.175841</td>\n",
       "      <td>1.000000</td>\n",
       "      <td>0.697500</td>\n",
       "      <td>1.0</td>\n",
       "      <td>0.759469</td>\n",
       "      <td>0.600000</td>\n",
       "    </tr>\n",
       "    <tr>\n",
       "      <th>9</th>\n",
       "      <td>0.069074</td>\n",
       "      <td>0.100081</td>\n",
       "      <td>1.000000</td>\n",
       "      <td>0.493641</td>\n",
       "      <td>1.0</td>\n",
       "      <td>0.647240</td>\n",
       "      <td>0.583333</td>\n",
       "    </tr>\n",
       "    <tr>\n",
       "      <th>10</th>\n",
       "      <td>0.113998</td>\n",
       "      <td>0.165678</td>\n",
       "      <td>1.000000</td>\n",
       "      <td>0.692101</td>\n",
       "      <td>1.0</td>\n",
       "      <td>0.763569</td>\n",
       "      <td>0.516667</td>\n",
       "    </tr>\n",
       "    <tr>\n",
       "      <th>11</th>\n",
       "      <td>0.137329</td>\n",
       "      <td>0.190343</td>\n",
       "      <td>1.000000</td>\n",
       "      <td>0.661487</td>\n",
       "      <td>1.0</td>\n",
       "      <td>0.762003</td>\n",
       "      <td>0.533333</td>\n",
       "    </tr>\n",
       "    <tr>\n",
       "      <th>12</th>\n",
       "      <td>0.085367</td>\n",
       "      <td>0.168155</td>\n",
       "      <td>1.000000</td>\n",
       "      <td>0.538336</td>\n",
       "      <td>1.0</td>\n",
       "      <td>0.536310</td>\n",
       "      <td>0.516667</td>\n",
       "    </tr>\n",
       "    <tr>\n",
       "      <th>13</th>\n",
       "      <td>0.075961</td>\n",
       "      <td>0.143283</td>\n",
       "      <td>1.000000</td>\n",
       "      <td>0.537207</td>\n",
       "      <td>1.0</td>\n",
       "      <td>0.651898</td>\n",
       "      <td>0.550000</td>\n",
       "    </tr>\n",
       "    <tr>\n",
       "      <th>14</th>\n",
       "      <td>0.166136</td>\n",
       "      <td>0.168088</td>\n",
       "      <td>1.000000</td>\n",
       "      <td>0.728983</td>\n",
       "      <td>1.0</td>\n",
       "      <td>0.755682</td>\n",
       "      <td>0.566667</td>\n",
       "    </tr>\n",
       "    <tr>\n",
       "      <th>15</th>\n",
       "      <td>0.074386</td>\n",
       "      <td>0.091340</td>\n",
       "      <td>1.000000</td>\n",
       "      <td>0.515538</td>\n",
       "      <td>1.0</td>\n",
       "      <td>0.629097</td>\n",
       "      <td>0.433333</td>\n",
       "    </tr>\n",
       "    <tr>\n",
       "      <th>16</th>\n",
       "      <td>0.091868</td>\n",
       "      <td>0.120495</td>\n",
       "      <td>1.000000</td>\n",
       "      <td>0.544957</td>\n",
       "      <td>1.0</td>\n",
       "      <td>0.754368</td>\n",
       "      <td>0.450000</td>\n",
       "    </tr>\n",
       "    <tr>\n",
       "      <th>17</th>\n",
       "      <td>0.107470</td>\n",
       "      <td>0.161877</td>\n",
       "      <td>1.000000</td>\n",
       "      <td>0.623724</td>\n",
       "      <td>1.0</td>\n",
       "      <td>0.816122</td>\n",
       "      <td>0.450000</td>\n",
       "    </tr>\n",
       "    <tr>\n",
       "      <th>18</th>\n",
       "      <td>0.057537</td>\n",
       "      <td>0.075504</td>\n",
       "      <td>1.000000</td>\n",
       "      <td>0.478177</td>\n",
       "      <td>1.0</td>\n",
       "      <td>0.418569</td>\n",
       "      <td>0.483333</td>\n",
       "    </tr>\n",
       "    <tr>\n",
       "      <th>19</th>\n",
       "      <td>0.071016</td>\n",
       "      <td>0.117613</td>\n",
       "      <td>1.000000</td>\n",
       "      <td>0.510475</td>\n",
       "      <td>1.0</td>\n",
       "      <td>0.649658</td>\n",
       "      <td>0.433333</td>\n",
       "    </tr>\n",
       "    <tr>\n",
       "      <th>20</th>\n",
       "      <td>0.070652</td>\n",
       "      <td>0.108003</td>\n",
       "      <td>1.000000</td>\n",
       "      <td>0.524477</td>\n",
       "      <td>1.0</td>\n",
       "      <td>0.670256</td>\n",
       "      <td>0.483333</td>\n",
       "    </tr>\n",
       "    <tr>\n",
       "      <th>21</th>\n",
       "      <td>0.089979</td>\n",
       "      <td>0.049583</td>\n",
       "      <td>1.000000</td>\n",
       "      <td>0.621684</td>\n",
       "      <td>1.0</td>\n",
       "      <td>0.376043</td>\n",
       "      <td>0.516667</td>\n",
       "    </tr>\n",
       "    <tr>\n",
       "      <th>22</th>\n",
       "      <td>0.089622</td>\n",
       "      <td>0.103264</td>\n",
       "      <td>1.000000</td>\n",
       "      <td>0.613435</td>\n",
       "      <td>1.0</td>\n",
       "      <td>0.451372</td>\n",
       "      <td>0.516667</td>\n",
       "    </tr>\n",
       "    <tr>\n",
       "      <th>23</th>\n",
       "      <td>0.079395</td>\n",
       "      <td>0.121637</td>\n",
       "      <td>1.000000</td>\n",
       "      <td>0.511593</td>\n",
       "      <td>1.0</td>\n",
       "      <td>0.697484</td>\n",
       "      <td>0.466667</td>\n",
       "    </tr>\n",
       "    <tr>\n",
       "      <th>24</th>\n",
       "      <td>0.079565</td>\n",
       "      <td>0.072161</td>\n",
       "      <td>1.000000</td>\n",
       "      <td>0.576684</td>\n",
       "      <td>1.0</td>\n",
       "      <td>0.418295</td>\n",
       "      <td>0.516667</td>\n",
       "    </tr>\n",
       "    <tr>\n",
       "      <th>25</th>\n",
       "      <td>0.080351</td>\n",
       "      <td>0.108497</td>\n",
       "      <td>1.000000</td>\n",
       "      <td>0.488769</td>\n",
       "      <td>1.0</td>\n",
       "      <td>0.694293</td>\n",
       "      <td>0.466667</td>\n",
       "    </tr>\n",
       "    <tr>\n",
       "      <th>26</th>\n",
       "      <td>0.081106</td>\n",
       "      <td>0.068470</td>\n",
       "      <td>1.000000</td>\n",
       "      <td>0.608162</td>\n",
       "      <td>1.0</td>\n",
       "      <td>0.429861</td>\n",
       "      <td>0.516667</td>\n",
       "    </tr>\n",
       "    <tr>\n",
       "      <th>27</th>\n",
       "      <td>0.078159</td>\n",
       "      <td>0.054264</td>\n",
       "      <td>1.000000</td>\n",
       "      <td>0.533369</td>\n",
       "      <td>1.0</td>\n",
       "      <td>0.374249</td>\n",
       "      <td>0.533333</td>\n",
       "    </tr>\n",
       "    <tr>\n",
       "      <th>28</th>\n",
       "      <td>0.052882</td>\n",
       "      <td>0.044239</td>\n",
       "      <td>1.000000</td>\n",
       "      <td>0.422847</td>\n",
       "      <td>1.0</td>\n",
       "      <td>0.519292</td>\n",
       "      <td>0.466667</td>\n",
       "    </tr>\n",
       "    <tr>\n",
       "      <th>29</th>\n",
       "      <td>0.090167</td>\n",
       "      <td>0.049879</td>\n",
       "      <td>1.000000</td>\n",
       "      <td>0.593262</td>\n",
       "      <td>1.0</td>\n",
       "      <td>0.381663</td>\n",
       "      <td>0.516667</td>\n",
       "    </tr>\n",
       "    <tr>\n",
       "      <th>30</th>\n",
       "      <td>0.087726</td>\n",
       "      <td>0.058244</td>\n",
       "      <td>1.000000</td>\n",
       "      <td>0.523287</td>\n",
       "      <td>1.0</td>\n",
       "      <td>0.428439</td>\n",
       "      <td>0.483333</td>\n",
       "    </tr>\n",
       "    <tr>\n",
       "      <th>31</th>\n",
       "      <td>0.098557</td>\n",
       "      <td>0.092176</td>\n",
       "      <td>1.000000</td>\n",
       "      <td>0.566769</td>\n",
       "      <td>1.0</td>\n",
       "      <td>0.370790</td>\n",
       "      <td>0.500000</td>\n",
       "    </tr>\n",
       "    <tr>\n",
       "      <th>32</th>\n",
       "      <td>0.066525</td>\n",
       "      <td>0.058479</td>\n",
       "      <td>1.000000</td>\n",
       "      <td>0.491793</td>\n",
       "      <td>1.0</td>\n",
       "      <td>0.445364</td>\n",
       "      <td>0.483333</td>\n",
       "    </tr>\n",
       "    <tr>\n",
       "      <th>33</th>\n",
       "      <td>0.060581</td>\n",
       "      <td>0.044819</td>\n",
       "      <td>1.000000</td>\n",
       "      <td>0.458582</td>\n",
       "      <td>1.0</td>\n",
       "      <td>0.396006</td>\n",
       "      <td>0.500000</td>\n",
       "    </tr>\n",
       "    <tr>\n",
       "      <th>34</th>\n",
       "      <td>0.058704</td>\n",
       "      <td>0.067916</td>\n",
       "      <td>1.000000</td>\n",
       "      <td>0.404205</td>\n",
       "      <td>1.0</td>\n",
       "      <td>0.449219</td>\n",
       "      <td>0.533333</td>\n",
       "    </tr>\n",
       "    <tr>\n",
       "      <th>35</th>\n",
       "      <td>0.080430</td>\n",
       "      <td>0.067021</td>\n",
       "      <td>1.000000</td>\n",
       "      <td>0.529202</td>\n",
       "      <td>1.0</td>\n",
       "      <td>0.497405</td>\n",
       "      <td>0.533333</td>\n",
       "    </tr>\n",
       "    <tr>\n",
       "      <th>36</th>\n",
       "      <td>0.112484</td>\n",
       "      <td>0.117842</td>\n",
       "      <td>1.000000</td>\n",
       "      <td>0.653114</td>\n",
       "      <td>1.0</td>\n",
       "      <td>0.535429</td>\n",
       "      <td>0.533333</td>\n",
       "    </tr>\n",
       "    <tr>\n",
       "      <th>37</th>\n",
       "      <td>0.048982</td>\n",
       "      <td>0.035417</td>\n",
       "      <td>1.000000</td>\n",
       "      <td>0.329619</td>\n",
       "      <td>1.0</td>\n",
       "      <td>0.297989</td>\n",
       "      <td>0.583333</td>\n",
       "    </tr>\n",
       "    <tr>\n",
       "      <th>38</th>\n",
       "      <td>0.089864</td>\n",
       "      <td>0.084708</td>\n",
       "      <td>1.000000</td>\n",
       "      <td>0.594274</td>\n",
       "      <td>1.0</td>\n",
       "      <td>0.449550</td>\n",
       "      <td>0.533333</td>\n",
       "    </tr>\n",
       "    <tr>\n",
       "      <th>39</th>\n",
       "      <td>0.085268</td>\n",
       "      <td>0.079756</td>\n",
       "      <td>1.000000</td>\n",
       "      <td>0.506327</td>\n",
       "      <td>1.0</td>\n",
       "      <td>0.632048</td>\n",
       "      <td>0.483333</td>\n",
       "    </tr>\n",
       "    <tr>\n",
       "      <th>40</th>\n",
       "      <td>0.069396</td>\n",
       "      <td>0.109833</td>\n",
       "      <td>1.000000</td>\n",
       "      <td>0.496617</td>\n",
       "      <td>1.0</td>\n",
       "      <td>0.643119</td>\n",
       "      <td>0.583333</td>\n",
       "    </tr>\n",
       "    <tr>\n",
       "      <th>41</th>\n",
       "      <td>0.097721</td>\n",
       "      <td>0.131594</td>\n",
       "      <td>1.000000</td>\n",
       "      <td>0.576936</td>\n",
       "      <td>1.0</td>\n",
       "      <td>0.479638</td>\n",
       "      <td>0.583333</td>\n",
       "    </tr>\n",
       "    <tr>\n",
       "      <th>42</th>\n",
       "      <td>0.078262</td>\n",
       "      <td>0.045956</td>\n",
       "      <td>1.000000</td>\n",
       "      <td>0.526575</td>\n",
       "      <td>1.0</td>\n",
       "      <td>0.440153</td>\n",
       "      <td>0.550000</td>\n",
       "    </tr>\n",
       "    <tr>\n",
       "      <th>43</th>\n",
       "      <td>0.086543</td>\n",
       "      <td>0.087968</td>\n",
       "      <td>1.000000</td>\n",
       "      <td>0.496903</td>\n",
       "      <td>1.0</td>\n",
       "      <td>0.545389</td>\n",
       "      <td>0.483333</td>\n",
       "    </tr>\n",
       "    <tr>\n",
       "      <th>44</th>\n",
       "      <td>0.079966</td>\n",
       "      <td>0.116562</td>\n",
       "      <td>1.000000</td>\n",
       "      <td>0.539005</td>\n",
       "      <td>1.0</td>\n",
       "      <td>0.644468</td>\n",
       "      <td>0.500000</td>\n",
       "    </tr>\n",
       "    <tr>\n",
       "      <th>45</th>\n",
       "      <td>0.072301</td>\n",
       "      <td>0.088999</td>\n",
       "      <td>1.000000</td>\n",
       "      <td>0.459234</td>\n",
       "      <td>1.0</td>\n",
       "      <td>0.494121</td>\n",
       "      <td>0.516667</td>\n",
       "    </tr>\n",
       "    <tr>\n",
       "      <th>46</th>\n",
       "      <td>0.055553</td>\n",
       "      <td>0.066179</td>\n",
       "      <td>1.000000</td>\n",
       "      <td>0.457237</td>\n",
       "      <td>1.0</td>\n",
       "      <td>0.425929</td>\n",
       "      <td>0.450000</td>\n",
       "    </tr>\n",
       "    <tr>\n",
       "      <th>47</th>\n",
       "      <td>0.045972</td>\n",
       "      <td>0.047448</td>\n",
       "      <td>0.984848</td>\n",
       "      <td>0.274741</td>\n",
       "      <td>1.0</td>\n",
       "      <td>0.344289</td>\n",
       "      <td>0.433333</td>\n",
       "    </tr>\n",
       "    <tr>\n",
       "      <th>48</th>\n",
       "      <td>0.069316</td>\n",
       "      <td>0.125252</td>\n",
       "      <td>1.000000</td>\n",
       "      <td>0.488392</td>\n",
       "      <td>1.0</td>\n",
       "      <td>0.657004</td>\n",
       "      <td>0.416667</td>\n",
       "    </tr>\n",
       "    <tr>\n",
       "      <th>49</th>\n",
       "      <td>0.083843</td>\n",
       "      <td>0.067691</td>\n",
       "      <td>1.000000</td>\n",
       "      <td>0.567514</td>\n",
       "      <td>1.0</td>\n",
       "      <td>0.540986</td>\n",
       "      <td>0.500000</td>\n",
       "    </tr>\n",
       "  </tbody>\n",
       "</table>\n",
       "</div>"
      ],
      "text/plain": [
       "           0         1         2         3    4         5         6\n",
       "0   0.082431  0.157614  1.000000  0.519217  1.0  0.640900  0.600000\n",
       "1   0.097282  0.122945  1.000000  0.613035  1.0  0.655454  0.600000\n",
       "2   0.118206  0.185610  1.000000  0.685593  1.0  0.764454  0.600000\n",
       "3   0.101010  0.129980  1.000000  0.575312  1.0  0.653734  0.583333\n",
       "4   0.042861  0.074389  1.000000  0.351095  1.0  0.430122  0.550000\n",
       "5   0.162148  0.205086  1.000000  0.763872  1.0  0.759303  0.600000\n",
       "6   0.111316  0.202042  1.000000  0.640160  1.0  0.666754  0.600000\n",
       "7   0.095049  0.146089  1.000000  0.604789  1.0  0.660052  0.600000\n",
       "8   0.127154  0.175841  1.000000  0.697500  1.0  0.759469  0.600000\n",
       "9   0.069074  0.100081  1.000000  0.493641  1.0  0.647240  0.583333\n",
       "10  0.113998  0.165678  1.000000  0.692101  1.0  0.763569  0.516667\n",
       "11  0.137329  0.190343  1.000000  0.661487  1.0  0.762003  0.533333\n",
       "12  0.085367  0.168155  1.000000  0.538336  1.0  0.536310  0.516667\n",
       "13  0.075961  0.143283  1.000000  0.537207  1.0  0.651898  0.550000\n",
       "14  0.166136  0.168088  1.000000  0.728983  1.0  0.755682  0.566667\n",
       "15  0.074386  0.091340  1.000000  0.515538  1.0  0.629097  0.433333\n",
       "16  0.091868  0.120495  1.000000  0.544957  1.0  0.754368  0.450000\n",
       "17  0.107470  0.161877  1.000000  0.623724  1.0  0.816122  0.450000\n",
       "18  0.057537  0.075504  1.000000  0.478177  1.0  0.418569  0.483333\n",
       "19  0.071016  0.117613  1.000000  0.510475  1.0  0.649658  0.433333\n",
       "20  0.070652  0.108003  1.000000  0.524477  1.0  0.670256  0.483333\n",
       "21  0.089979  0.049583  1.000000  0.621684  1.0  0.376043  0.516667\n",
       "22  0.089622  0.103264  1.000000  0.613435  1.0  0.451372  0.516667\n",
       "23  0.079395  0.121637  1.000000  0.511593  1.0  0.697484  0.466667\n",
       "24  0.079565  0.072161  1.000000  0.576684  1.0  0.418295  0.516667\n",
       "25  0.080351  0.108497  1.000000  0.488769  1.0  0.694293  0.466667\n",
       "26  0.081106  0.068470  1.000000  0.608162  1.0  0.429861  0.516667\n",
       "27  0.078159  0.054264  1.000000  0.533369  1.0  0.374249  0.533333\n",
       "28  0.052882  0.044239  1.000000  0.422847  1.0  0.519292  0.466667\n",
       "29  0.090167  0.049879  1.000000  0.593262  1.0  0.381663  0.516667\n",
       "30  0.087726  0.058244  1.000000  0.523287  1.0  0.428439  0.483333\n",
       "31  0.098557  0.092176  1.000000  0.566769  1.0  0.370790  0.500000\n",
       "32  0.066525  0.058479  1.000000  0.491793  1.0  0.445364  0.483333\n",
       "33  0.060581  0.044819  1.000000  0.458582  1.0  0.396006  0.500000\n",
       "34  0.058704  0.067916  1.000000  0.404205  1.0  0.449219  0.533333\n",
       "35  0.080430  0.067021  1.000000  0.529202  1.0  0.497405  0.533333\n",
       "36  0.112484  0.117842  1.000000  0.653114  1.0  0.535429  0.533333\n",
       "37  0.048982  0.035417  1.000000  0.329619  1.0  0.297989  0.583333\n",
       "38  0.089864  0.084708  1.000000  0.594274  1.0  0.449550  0.533333\n",
       "39  0.085268  0.079756  1.000000  0.506327  1.0  0.632048  0.483333\n",
       "40  0.069396  0.109833  1.000000  0.496617  1.0  0.643119  0.583333\n",
       "41  0.097721  0.131594  1.000000  0.576936  1.0  0.479638  0.583333\n",
       "42  0.078262  0.045956  1.000000  0.526575  1.0  0.440153  0.550000\n",
       "43  0.086543  0.087968  1.000000  0.496903  1.0  0.545389  0.483333\n",
       "44  0.079966  0.116562  1.000000  0.539005  1.0  0.644468  0.500000\n",
       "45  0.072301  0.088999  1.000000  0.459234  1.0  0.494121  0.516667\n",
       "46  0.055553  0.066179  1.000000  0.457237  1.0  0.425929  0.450000\n",
       "47  0.045972  0.047448  0.984848  0.274741  1.0  0.344289  0.433333\n",
       "48  0.069316  0.125252  1.000000  0.488392  1.0  0.657004  0.416667\n",
       "49  0.083843  0.067691  1.000000  0.567514  1.0  0.540986  0.500000"
      ]
     },
     "execution_count": 109,
     "metadata": {},
     "output_type": "execute_result"
    }
   ],
   "source": [
    "check"
   ]
  },
  {
   "cell_type": "code",
   "execution_count": 110,
   "id": "e061792a-e589-486e-b8d2-336622f6bf34",
   "metadata": {},
   "outputs": [],
   "source": [
    "# check"
   ]
  },
  {
   "cell_type": "code",
   "execution_count": 111,
   "id": "fa101efc-351b-4645-87a3-f008abf1ff3d",
   "metadata": {},
   "outputs": [],
   "source": [
    "# check"
   ]
  },
  {
   "cell_type": "code",
   "execution_count": 112,
   "id": "77536655-0afd-4976-980a-fa7a28b55201",
   "metadata": {},
   "outputs": [],
   "source": [
    "# check.columns = [\"train_mae\", \"test_mae\", \"avg_ci_width_train\", \"avg_ci_width_test\", \"avg_lstm_weight\", \"exit_iter\", \"exit_status\"]"
   ]
  },
  {
   "cell_type": "code",
   "execution_count": 113,
   "id": "cd8cefbd-9076-469e-a5dc-dc4637846308",
   "metadata": {},
   "outputs": [],
   "source": [
    "# check"
   ]
  },
  {
   "cell_type": "code",
   "execution_count": 114,
   "id": "4fc1dcac-24b2-45e7-ae4c-e55eca90a6c6",
   "metadata": {},
   "outputs": [],
   "source": [
    "check.columns = [\"train_mae\", \"test_mae\", \"train_coverage\", \"train_width\", \"test_coverage\", \"test_width\", \"time_taken\"]"
   ]
  },
  {
   "cell_type": "code",
   "execution_count": 115,
   "id": "fcf483cf-1d09-4d5d-8c7c-7db62473a356",
   "metadata": {},
   "outputs": [],
   "source": [
    "check_mean = check.mean().reset_index()"
   ]
  },
  {
   "cell_type": "code",
   "execution_count": 116,
   "id": "b33d52b3-1a70-48ad-9b9d-3f259d4b68c7",
   "metadata": {},
   "outputs": [
    {
     "data": {
      "text/html": [
       "<div>\n",
       "<style scoped>\n",
       "    .dataframe tbody tr th:only-of-type {\n",
       "        vertical-align: middle;\n",
       "    }\n",
       "\n",
       "    .dataframe tbody tr th {\n",
       "        vertical-align: top;\n",
       "    }\n",
       "\n",
       "    .dataframe thead th {\n",
       "        text-align: right;\n",
       "    }\n",
       "</style>\n",
       "<table border=\"1\" class=\"dataframe\">\n",
       "  <thead>\n",
       "    <tr style=\"text-align: right;\">\n",
       "      <th></th>\n",
       "      <th>index</th>\n",
       "      <th>0</th>\n",
       "    </tr>\n",
       "  </thead>\n",
       "  <tbody>\n",
       "    <tr>\n",
       "      <th>0</th>\n",
       "      <td>train_mae</td>\n",
       "      <td>0.086149</td>\n",
       "    </tr>\n",
       "    <tr>\n",
       "      <th>1</th>\n",
       "      <td>test_mae</td>\n",
       "      <td>0.105518</td>\n",
       "    </tr>\n",
       "    <tr>\n",
       "      <th>2</th>\n",
       "      <td>train_coverage</td>\n",
       "      <td>0.999697</td>\n",
       "    </tr>\n",
       "    <tr>\n",
       "      <th>3</th>\n",
       "      <td>train_width</td>\n",
       "      <td>0.544196</td>\n",
       "    </tr>\n",
       "    <tr>\n",
       "      <th>4</th>\n",
       "      <td>test_coverage</td>\n",
       "      <td>1.000000</td>\n",
       "    </tr>\n",
       "    <tr>\n",
       "      <th>5</th>\n",
       "      <td>test_width</td>\n",
       "      <td>0.562098</td>\n",
       "    </tr>\n",
       "    <tr>\n",
       "      <th>6</th>\n",
       "      <td>time_taken</td>\n",
       "      <td>0.520667</td>\n",
       "    </tr>\n",
       "  </tbody>\n",
       "</table>\n",
       "</div>"
      ],
      "text/plain": [
       "            index         0\n",
       "0       train_mae  0.086149\n",
       "1        test_mae  0.105518\n",
       "2  train_coverage  0.999697\n",
       "3     train_width  0.544196\n",
       "4   test_coverage  1.000000\n",
       "5      test_width  0.562098\n",
       "6      time_taken  0.520667"
      ]
     },
     "execution_count": 116,
     "metadata": {},
     "output_type": "execute_result"
    }
   ],
   "source": [
    "check_mean"
   ]
  },
  {
   "cell_type": "code",
   "execution_count": 117,
   "id": "694cfd02-a953-4fc5-888e-a196be3dd80f",
   "metadata": {},
   "outputs": [],
   "source": [
    "check_mean.to_csv(\"mean_metrics_real_world_just_lstm_heavy_dropout_\"  + \"drop_rate_\"  + str(rate) +  \"_bnn_reps_\" + str(bnn_reps) +  \".csv\", index = False)"
   ]
  },
  {
   "cell_type": "code",
   "execution_count": 118,
   "id": "9b520f45-ad8d-453c-80e7-7a6bb711692f",
   "metadata": {},
   "outputs": [],
   "source": [
    "check_std = check.std().reset_index()"
   ]
  },
  {
   "cell_type": "code",
   "execution_count": 119,
   "id": "bad06d4d-316c-497c-be10-ea06c9b8468f",
   "metadata": {},
   "outputs": [],
   "source": [
    "check_std.to_csv(\"std_dev_metrics_real_world_just_lstm_heavy_dropout_\"  + \"drop_rate_\"  + str(rate) +  \"_bnn_reps_\" + str(bnn_reps) +  \".csv\", index = False)"
   ]
  },
  {
   "cell_type": "code",
   "execution_count": 120,
   "id": "476c963d-dfc3-42cf-90ff-7f801920fc08",
   "metadata": {},
   "outputs": [],
   "source": [
    "# std_df.to_csv(\"std_dev_metrics_just_lstm_\"  + \"drop_rate_\"  + str(rate) +  \"_bnn_reps_\"+ str(bnn_reps) +  \".csv\")\n"
   ]
  },
  {
   "cell_type": "code",
   "execution_count": 121,
   "id": "e3e43629-3a74-4d41-acaf-dea297a3840c",
   "metadata": {},
   "outputs": [],
   "source": [
    "# check.std()/reps"
   ]
  },
  {
   "cell_type": "code",
   "execution_count": 122,
   "id": "d9e6815f-6e3b-47c0-8383-5931dbe8d2d2",
   "metadata": {},
   "outputs": [],
   "source": [
    "# catch_coverages[i][-1].shape"
   ]
  },
  {
   "cell_type": "code",
   "execution_count": 123,
   "id": "a83c3d12-b2f0-44b8-9904-7b10c4f513bd",
   "metadata": {},
   "outputs": [],
   "source": [
    "true_preds = []\n",
    "enkf_preds = []\n",
    "for i in range(0,reps):\n",
    "    all_preds = catch_coverages[i][-1]\n",
    "    all_preds = all_preds.mean(1)\n",
    "    catch_test_probs = expit(catch1[i][2])\n",
    "    true_probs = catch_test_probs.ravel().tolist()\n",
    "    true_preds.append(true_probs)\n",
    "    enkf_preds.append(all_preds.ravel().tolist())\n",
    "    # plt.scatter(true_probs, all_preds.ravel().tolist())\n",
    "    # plt.show()"
   ]
  },
  {
   "cell_type": "code",
   "execution_count": 124,
   "id": "4089a2ab-43f9-4e24-a7ed-add7bdc14156",
   "metadata": {},
   "outputs": [],
   "source": [
    "true_preds = [inner for item in true_preds for inner in item]"
   ]
  },
  {
   "cell_type": "code",
   "execution_count": 125,
   "id": "65492b8d-d7e4-4375-8577-d79a633680b7",
   "metadata": {},
   "outputs": [],
   "source": [
    "enkf_preds = [inner for item in enkf_preds for inner in item]"
   ]
  },
  {
   "cell_type": "code",
   "execution_count": 126,
   "id": "19776731-14c7-43c3-bd48-163aa67e2c76",
   "metadata": {},
   "outputs": [
    {
     "data": {
      "text/plain": [
       "0.10551824753638357"
      ]
     },
     "execution_count": 126,
     "metadata": {},
     "output_type": "execute_result"
    }
   ],
   "source": [
    "np.mean(np.abs(np.array(true_preds)-np.array(enkf_preds)))"
   ]
  },
  {
   "cell_type": "code",
   "execution_count": 127,
   "id": "1ebada74-6fe8-4f58-a939-87ca7399aef8",
   "metadata": {},
   "outputs": [
    {
     "data": {
      "text/plain": [
       "<matplotlib.lines._AxLine at 0x1551d4c5cb20>"
      ]
     },
     "execution_count": 127,
     "metadata": {},
     "output_type": "execute_result"
    },
    {
     "data": {
      "image/png": "[encoded data removed]",
      "text/plain": [
       "<Figure size 640x480 with 1 Axes>"
      ]
     },
     "metadata": {},
     "output_type": "display_data"
    }
   ],
   "source": [
    "plt.scatter(enkf_preds,true_preds, alpha=0.5)\n",
    "plt.xlabel(\"EnKF Predictions\", fontsize = 15, fontweight = \"bold\")\n",
    "plt.ylabel(\"LSTM Predictions\", fontsize = 15, fontweight = \"bold\")\n",
    "plt.xticks(fontsize = 10, fontweight = \"bold\")\n",
    "plt.yticks(fontsize = 10, fontweight = \"bold\")\n",
    "plt.axline((0, 0), slope=1)"
   ]
  },
  {
   "cell_type": "code",
   "execution_count": 128,
   "id": "ead27b05-299e-49dc-bb97-236a18cd05e5",
   "metadata": {},
   "outputs": [],
   "source": [
    "# check"
   ]
  },
  {
   "cell_type": "code",
   "execution_count": 129,
   "id": "c3c59615-d33c-451c-8eb1-d8a93374c3d7",
   "metadata": {},
   "outputs": [],
   "source": [
    "with open('first_lstm_just_lstm_real_world_heavy_dropout.pkl', 'wb') as f:\n",
    "    pickle.dump(catch_coverages, f)"
   ]
  }
 ],
 "metadata": {
  "kernelspec": {
   "display_name": "enkf",
   "language": "python",
   "name": "enkf"
  },
  "language_info": {
   "codemirror_mode": {
    "name": "ipython",
    "version": 3
   },
   "file_extension": ".py",
   "mimetype": "text/x-python",
   "name": "python",
   "nbconvert_exporter": "python",
   "pygments_lexer": "ipython3",
   "version": "3.10.8"
  }
 },
 "nbformat": 4,
 "nbformat_minor": 5
}
