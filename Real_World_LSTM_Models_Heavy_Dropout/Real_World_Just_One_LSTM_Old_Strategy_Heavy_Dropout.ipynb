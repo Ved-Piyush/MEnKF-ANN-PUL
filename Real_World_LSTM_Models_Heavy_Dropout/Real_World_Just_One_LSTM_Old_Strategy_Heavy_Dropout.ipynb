{
 "cells": [
  {
   "cell_type": "code",
   "execution_count": 1,
   "id": "d7ab5bf3",
   "metadata": {},
   "outputs": [],
   "source": [
    "import pandas as pd\n",
    "from tqdm import tqdm\n",
    "import gensim\n",
    "import os\n",
    "os.environ['TF_CPP_MIN_LOG_LEVEL'] = '3' \n",
    "# os.chdir(r\"D://Proposal_Defense//Simulations\")\n",
    "# from Utils.Script_utils import get_data_splits, first_LSTM_training, get_data_splits_old_algo\n",
    "from joblib import Parallel, delayed\n",
    "import sys\n",
    "from scipy.stats import norm"
   ]
  },
  {
   "cell_type": "code",
   "execution_count": 2,
   "id": "36084258",
   "metadata": {},
   "outputs": [
    {
     "name": "stdout",
     "output_type": "stream",
     "text": [
      "No GPU found\n"
     ]
    }
   ],
   "source": [
    "# Seed value\n",
    "# Apparently you may use different seed values at each stage\n",
    "seed_value= 42\n",
    "\n",
    "# 1. Set the `PYTHONHASHSEED` environment variable at a fixed value\n",
    "import os\n",
    "os.environ['PYTHONHASHSEED']=str(seed_value)\n",
    "\n",
    "# 2. Set the `python` built-in pseudo-random generator at a fixed value\n",
    "import random\n",
    "random.seed(seed_value)\n",
    "\n",
    "# 3. Set the `numpy` pseudo-random generator at a fixed value\n",
    "import numpy as np\n",
    "np.random.seed(seed_value)\n",
    "\n",
    "# # 4. Set the `tensorflow` pseudo-random generator at a fixed value\n",
    "import tensorflow as tf\n",
    "os.environ['CUDA_VISIBLE_DEVICES'] = '-1'\n",
    "\n",
    "if tf.test.gpu_device_name():\n",
    "    print('GPU found')\n",
    "else:\n",
    "    print(\"No GPU found\")\n",
    "# tf.config.set_visible_devices([], 'GPU')\n",
    "\n",
    "from tqdm.notebook import tqdm\n",
    "tf.random.set_seed(seed_value)\n",
    "import multiprocessing\n",
    "# for later versions: \n",
    "# tf.compat.v1.set_random_seed(seed_value)\n",
    "\n",
    "# 5. Configure a new global `tensorflow` session\n",
    "# from keras import backend as K\n",
    "# session_conf = tf.compat.v1.ConfigProto(intra_op_parallelism_threads=1, inter_op_parallelism_threads=1)\n",
    "# sess = tf.compat.v1.Session(graph=tf.compat.v1.get_default_graph(), config=session_conf)\n",
    "# K.set_session(sess)"
   ]
  },
  {
   "cell_type": "code",
   "execution_count": 3,
   "id": "e036b858",
   "metadata": {},
   "outputs": [],
   "source": [
    "import matplotlib.pyplot as plt\n",
    "\n",
    "import pickle"
   ]
  },
  {
   "cell_type": "code",
   "execution_count": 4,
   "id": "440c1a52",
   "metadata": {},
   "outputs": [],
   "source": [
    "with open('..//Data_Generation//Data//train_valid_test_splits_50.pkl', 'rb') as f:\n",
    "    catch = pickle.load(f)  "
   ]
  },
  {
   "cell_type": "code",
   "execution_count": 5,
   "id": "4eea8c8e",
   "metadata": {},
   "outputs": [],
   "source": [
    "# var_weights = 0.08\n",
    "# var_targets = 0.08"
   ]
  },
  {
   "cell_type": "code",
   "execution_count": 6,
   "id": "bd888262",
   "metadata": {},
   "outputs": [],
   "source": [
    "from tqdm.notebook import tqdm"
   ]
  },
  {
   "cell_type": "code",
   "execution_count": 7,
   "id": "b1ce82b7",
   "metadata": {},
   "outputs": [],
   "source": [
    "import random"
   ]
  },
  {
   "cell_type": "code",
   "execution_count": 8,
   "id": "b7959ab1",
   "metadata": {},
   "outputs": [],
   "source": [
    "import numpy as np"
   ]
  },
  {
   "cell_type": "code",
   "execution_count": 9,
   "id": "4e3ef6e6",
   "metadata": {},
   "outputs": [],
   "source": [
    "import time"
   ]
  },
  {
   "cell_type": "code",
   "execution_count": 10,
   "id": "0eabfdd4",
   "metadata": {},
   "outputs": [],
   "source": [
    "from scipy.stats import multivariate_normal as mvn"
   ]
  },
  {
   "cell_type": "code",
   "execution_count": 11,
   "id": "10d77915",
   "metadata": {},
   "outputs": [],
   "source": [
    "from scipy.stats import multivariate_normal as mvn"
   ]
  },
  {
   "cell_type": "code",
   "execution_count": 12,
   "id": "ebeb0869-7f0b-4f21-be63-0234896af39f",
   "metadata": {},
   "outputs": [],
   "source": [
    "# train_fudged_probs"
   ]
  },
  {
   "cell_type": "code",
   "execution_count": 13,
   "id": "23d87ffe",
   "metadata": {},
   "outputs": [],
   "source": [
    "import matplotlib.pyplot as plt"
   ]
  },
  {
   "cell_type": "code",
   "execution_count": 14,
   "id": "f5427e43",
   "metadata": {},
   "outputs": [],
   "source": [
    "from scipy.special import expit"
   ]
  },
  {
   "cell_type": "code",
   "execution_count": 15,
   "id": "be0ee1ec",
   "metadata": {},
   "outputs": [],
   "source": [
    "# catch1[0][0]"
   ]
  },
  {
   "cell_type": "code",
   "execution_count": 16,
   "id": "fb492324",
   "metadata": {},
   "outputs": [],
   "source": [
    "# catch_train_logits_second[0]"
   ]
  },
  {
   "cell_type": "code",
   "execution_count": 17,
   "id": "0c2dbaec-3249-404a-9971-c2fc17f68356",
   "metadata": {},
   "outputs": [],
   "source": [
    "from datetime import datetime"
   ]
  },
  {
   "cell_type": "code",
   "execution_count": 18,
   "id": "9cf12935",
   "metadata": {},
   "outputs": [],
   "source": [
    "def expit(x):\n",
    "    \"\"\"Compute softmax values for each sets of scores in x.\"\"\"\n",
    "#     e_x = np.exp(x - np.max(x))\n",
    "    return 1 / (1 + np.exp(-x))"
   ]
  },
  {
   "cell_type": "code",
   "execution_count": 19,
   "id": "ef051014",
   "metadata": {},
   "outputs": [],
   "source": [
    "from scipy.stats import gamma"
   ]
  },
  {
   "cell_type": "code",
   "execution_count": 20,
   "id": "07cb7b8c-4634-46e7-ab75-e865c7116995",
   "metadata": {},
   "outputs": [],
   "source": [
    "# second_lstm[0]"
   ]
  },
  {
   "cell_type": "code",
   "execution_count": 21,
   "id": "5f0e5cb1-4067-46ba-9399-ca30548a10e1",
   "metadata": {},
   "outputs": [],
   "source": [
    "# reduction = 8\n",
    "# var_weights = 1"
   ]
  },
  {
   "cell_type": "code",
   "execution_count": 22,
   "id": "197043a4-b420-4e3b-beaf-699cd7c3db6b",
   "metadata": {},
   "outputs": [],
   "source": [
    "# cur_idx = 16\n",
    "# np.log(catch_test_probs[cur_idx]/(1-catch_test_probs[cur_idx]))"
   ]
  },
  {
   "cell_type": "code",
   "execution_count": 23,
   "id": "5ae6c226-20d1-4a84-ab7b-5c5295748826",
   "metadata": {},
   "outputs": [],
   "source": [
    "# catch_preds_df"
   ]
  },
  {
   "cell_type": "code",
   "execution_count": 24,
   "id": "75f0d45e-6b06-4e9a-8997-5217ab99ebde",
   "metadata": {},
   "outputs": [],
   "source": [
    "# ids = [i for i in range(0, catch_test_probs[cur_idx].shape[0]) if catch_test_probs[cur_idx][i] < 0.5]\n",
    "# ids_more = [i for i in range(0, catch_test_probs[cur_idx].shape[0]) if catch_test_probs[cur_idx][i] > 0.5]"
   ]
  },
  {
   "cell_type": "code",
   "execution_count": 25,
   "id": "7f15dc9d-a59f-4ef8-b93a-8244896352c5",
   "metadata": {},
   "outputs": [],
   "source": [
    "# ids_more"
   ]
  },
  {
   "cell_type": "code",
   "execution_count": 26,
   "id": "1cebfd75-9077-4677-a4f7-05c09ac9f2de",
   "metadata": {},
   "outputs": [],
   "source": [
    "import plotly.express as px"
   ]
  },
  {
   "cell_type": "code",
   "execution_count": 27,
   "id": "22ee79ea-e013-4f80-920e-10e2aeb0eb6b",
   "metadata": {},
   "outputs": [],
   "source": [
    "import seaborn as sns"
   ]
  },
  {
   "cell_type": "code",
   "execution_count": 28,
   "id": "1969c78b-c105-482a-a957-e81329037a09",
   "metadata": {},
   "outputs": [],
   "source": [
    "use_cores = 15"
   ]
  },
  {
   "cell_type": "code",
   "execution_count": null,
   "id": "e5e25a8d-c51c-4c1d-9589-5b3b01f267e7",
   "metadata": {},
   "outputs": [],
   "source": []
  },
  {
   "cell_type": "code",
   "execution_count": 29,
   "id": "b9d651b2-15fa-4542-84ab-106c958569cc",
   "metadata": {},
   "outputs": [],
   "source": [
    "# with open('first_lstm_with_doc2vec_lstm_var_0.0001_real_world.pkl', 'rb') as f:\n",
    "#     first_lstm = pickle.load(f)  "
   ]
  },
  {
   "cell_type": "code",
   "execution_count": 30,
   "id": "2f12bf17-643b-4c5b-a2b0-d1f59b99557e",
   "metadata": {},
   "outputs": [],
   "source": [
    "# threshold = 200\n",
    "# cutoff_threshold = 70"
   ]
  },
  {
   "cell_type": "code",
   "execution_count": 31,
   "id": "407034e6-5a33-4332-b56c-f85cd2377b1c",
   "metadata": {},
   "outputs": [],
   "source": [
    "# catch1 = first_lstm"
   ]
  },
  {
   "cell_type": "code",
   "execution_count": 32,
   "id": "15d0a2c3-65ed-4be6-b837-fa43a7b851a7",
   "metadata": {},
   "outputs": [],
   "source": [
    "# padding_vector = np.zeros((1, model_cbow.wv.vectors.shape[1]))\n",
    "# unknown_vector = np.zeros((1, model_cbow.wv.vectors.shape[1]))"
   ]
  },
  {
   "cell_type": "code",
   "execution_count": 33,
   "id": "b1c783f4-c2b1-437b-bbc4-b8b760335718",
   "metadata": {},
   "outputs": [],
   "source": [
    "# vocabulary = model_cbow.wv.index_to_key"
   ]
  },
  {
   "cell_type": "code",
   "execution_count": 34,
   "id": "32c3b4a1-cfc7-4e68-b60b-f5afc47c7952",
   "metadata": {},
   "outputs": [],
   "source": [
    "# other_weights = model_cbow.wv.vectors"
   ]
  },
  {
   "cell_type": "code",
   "execution_count": 35,
   "id": "dcc583b5-a4bd-4fad-ae07-378fe9f01701",
   "metadata": {},
   "outputs": [],
   "source": [
    "rate = 0.5"
   ]
  },
  {
   "cell_type": "code",
   "execution_count": 36,
   "id": "0a3353fe-5c23-44b0-adcc-f72c6e25cebe",
   "metadata": {},
   "outputs": [],
   "source": [
    "with open('..//Data_Generation//LSTM_Heavy_Dropout//heavy_dropout_first_lstm.pkl', 'rb') as f:\n",
    "    first_lstm = pickle.load(f)"
   ]
  },
  {
   "cell_type": "code",
   "execution_count": 37,
   "id": "d011ba74-c33b-465a-90ce-6a38b076f6f6",
   "metadata": {},
   "outputs": [],
   "source": [
    "catch1 = first_lstm"
   ]
  },
  {
   "cell_type": "code",
   "execution_count": 38,
   "id": "e343ffb7-87d1-4974-a13f-d9a26c8a0530",
   "metadata": {},
   "outputs": [],
   "source": [
    "# catch1[0]"
   ]
  },
  {
   "cell_type": "code",
   "execution_count": 39,
   "id": "81d40f6a-0f26-41d2-b60b-592d1c7f332a",
   "metadata": {},
   "outputs": [],
   "source": [
    "bnn_reps = 200"
   ]
  },
  {
   "cell_type": "code",
   "execution_count": 40,
   "id": "15570152-7049-4460-95b8-0c66e2c5f954",
   "metadata": {},
   "outputs": [],
   "source": [
    "from datetime import datetime"
   ]
  },
  {
   "cell_type": "code",
   "execution_count": 41,
   "id": "470ee1e6-3941-499b-a140-8f42ca9afa57",
   "metadata": {},
   "outputs": [],
   "source": [
    "model_cbow = gensim.models.word2vec.Word2Vec.load(r\"..//Data_Generation//word2vec_sg\")"
   ]
  },
  {
   "cell_type": "code",
   "execution_count": 42,
   "id": "59240ebf-b230-4429-a74c-bae2d1850f5e",
   "metadata": {},
   "outputs": [],
   "source": [
    "lr = 1e-3"
   ]
  },
  {
   "cell_type": "code",
   "execution_count": 43,
   "id": "4bfc69bb-24d1-4b2e-a0ed-d55f656b477e",
   "metadata": {},
   "outputs": [],
   "source": [
    "def attention_lstm_model(rate, training): \n",
    "    padding_vector = np.zeros((1, model_cbow.wv.vectors.shape[1]))\n",
    "    unknown_vector = np.zeros((1, model_cbow.wv.vectors.shape[1]))\n",
    "    weight_vectors = np.vstack((padding_vector, unknown_vector))\n",
    "    weight_vectors = np.vstack((weight_vectors, model_cbow.wv.vectors))\n",
    "    embedding_layer = tf.keras.layers.Embedding(len(weight_vectors),\n",
    "                            weight_vectors.shape[1],\n",
    "                            weights=[weight_vectors],\n",
    "                            mask_zero = False,\n",
    "                            trainable=False)\n",
    "\n",
    "    \n",
    "    vectorize_layer = tf.keras.layers.TextVectorization(\n",
    "                     output_mode='int',\n",
    "                     vocabulary=model_cbow.wv.index_to_key, \n",
    "                     standardize = None)\n",
    "    \n",
    "    input_layer = tf.keras.layers.Input(shape = (1,), dtype = tf.string)\n",
    "\n",
    "    vectorize = vectorize_layer(input_layer)\n",
    "\n",
    "    vectorize.shape\n",
    "\n",
    "    emb_output = embedding_layer(vectorize)\n",
    "\n",
    "    emb_output.shape\n",
    "    \n",
    "    # spatial_drop = tf.keras.layers.SpatialDropout1D(0.5)\n",
    "    \n",
    "    # spatial_out = spatial_drop(emb_output, training = training)\n",
    "\n",
    "    lstm_layer = tf.keras.layers.LSTM(25, return_sequences = True, dropout = rate)\n",
    "\n",
    "    lstm_output = lstm_layer(emb_output, training = training)\n",
    "\n",
    "#     x_a = tf.keras.layers.Dense(lstm_output.get_shape()[-1]//2, kernel_initializer = 'glorot_uniform', activation=\"tanh\", name=\"tanh_mlp\")(lstm_output) \n",
    "    \n",
    "    # x_a = tf.keras.layers.SpatialDropout1D(0.75)(lstm_output, training = training)\n",
    "    \n",
    "    x_a = tf.keras.layers.Dense(1, kernel_initializer = 'glorot_uniform', activation='linear', name=\"word-level_context\", kernel_regularizer=tf.keras.regularizers.L2())(lstm_output)\n",
    "\n",
    "    x_a = tf.keras.layers.Flatten()(x_a)\n",
    "\n",
    "    att_out = tf.keras.layers.Activation('softmax')(x_a) \n",
    "\n",
    "    x_a2 = tf.keras.layers.RepeatVector(lstm_output.get_shape()[-1])(att_out)\n",
    "\n",
    "    x_a2 = tf.keras.layers.Permute([2,1])(x_a2)\n",
    "\n",
    "    out = tf.keras.layers.Multiply()([lstm_output,x_a2])\n",
    "    \n",
    "    out = tf.keras.layers.Lambda(lambda x : tf.math.reduce_sum(x, axis = 1), name='expectation_over_words')(out)\n",
    "    \n",
    "    dropout_layer = tf.keras.layers.Dropout(rate)(out, training = training)\n",
    "    \n",
    "    # out = dropout_layer(out)\n",
    "\n",
    "    pred_head = tf.keras.layers.Dense(1, kernel_regularizer=tf.keras.regularizers.L2())\n",
    "\n",
    "    pred_output = pred_head(dropout_layer)\n",
    "\n",
    "    model = tf.keras.models.Model(input_layer, pred_output)\n",
    "    \n",
    "    model.compile(loss = tf.keras.losses.BinaryCrossentropy(from_logits=True), \n",
    "                 optimizer = tf.keras.optimizers.Adam(learning_rate = lr), \n",
    "                 metrics=tf.keras.metrics.BinaryAccuracy())\n",
    "    \n",
    "    return model"
   ]
  },
  {
   "cell_type": "code",
   "execution_count": 44,
   "id": "f4b3ded5-bbb9-4712-9695-85fbf12939a9",
   "metadata": {},
   "outputs": [],
   "source": [
    "rate = 0.5"
   ]
  },
  {
   "cell_type": "code",
   "execution_count": 45,
   "id": "a7351dc4-5d8e-4792-be64-352d7f2ec01f",
   "metadata": {},
   "outputs": [],
   "source": [
    "# def attention_lstm_model_less(training): \n",
    "#     padding_vector = np.zeros((1, model_cbow.wv.vectors.shape[1]))\n",
    "#     unknown_vector = np.zeros((1, model_cbow.wv.vectors.shape[1]))\n",
    "#     weight_vectors = np.vstack((padding_vector, unknown_vector))\n",
    "#     weight_vectors = np.vstack((weight_vectors, model_cbow.wv.vectors))\n",
    "#     embedding_layer = tf.keras.layers.Embedding(len(weight_vectors),\n",
    "#                             weight_vectors.shape[1],\n",
    "#                             weights=[weight_vectors],\n",
    "#                             mask_zero = False,\n",
    "#                             trainable=False)\n",
    "\n",
    "    \n",
    "#     vectorize_layer = tf.keras.layers.TextVectorization(\n",
    "#                      output_mode='int',\n",
    "#                      vocabulary=model_cbow.wv.index_to_key, \n",
    "#                      standardize = None)\n",
    "    \n",
    "#     input_layer = tf.keras.layers.Input(shape = (1,), dtype = tf.string)\n",
    "\n",
    "#     vectorize = vectorize_layer(input_layer)\n",
    "\n",
    "#     vectorize.shape\n",
    "\n",
    "#     emb_output = embedding_layer(vectorize)\n",
    "\n",
    "#     emb_output.shape\n",
    "    \n",
    "#     spatial_drop = tf.keras.layers.SpatialDropout1D(0.5)\n",
    "    \n",
    "#     spatial_out = spatial_drop(emb_output)\n",
    "\n",
    "#     lstm_layer = tf.keras.layers.LSTM(25, return_sequences = True, dropout = rate)\n",
    "\n",
    "#     lstm_output = lstm_layer(spatial_out, training = training)\n",
    "\n",
    "# #     x_a = tf.keras.layers.Dense(lstm_output.get_shape()[-1]//2, kernel_initializer = 'glorot_uniform', activation=\"tanh\", name=\"tanh_mlp\")(lstm_output) \n",
    "    \n",
    "#     # x_a = tf.keras.layers.SpatialDropout1D(0.75)(lstm_output, training = training)\n",
    "    \n",
    "#     x_a = tf.keras.layers.Dense(1, kernel_initializer = 'glorot_uniform', activation='linear', name=\"word-level_context\", kernel_regularizer=tf.keras.regularizers.L2())(lstm_output)\n",
    "\n",
    "#     x_a = tf.keras.layers.Flatten()(x_a)\n",
    "\n",
    "#     att_out = tf.keras.layers.Activation('softmax')(x_a) \n",
    "\n",
    "#     x_a2 = tf.keras.layers.RepeatVector(lstm_output.get_shape()[-1])(att_out)\n",
    "\n",
    "#     x_a2 = tf.keras.layers.Permute([2,1])(x_a2)\n",
    "\n",
    "#     out = tf.keras.layers.Multiply()([lstm_output,x_a2])\n",
    "    \n",
    "#     out = tf.keras.layers.Lambda(lambda x : tf.math.reduce_sum(x, axis = 1), name='expectation_over_words')(out)\n",
    "    \n",
    "#     dropout_layer = tf.keras.layers.Dropout(rate)(out)\n",
    "\n",
    "#     pred_head = tf.keras.layers.Dense(1, kernel_regularizer=tf.keras.regularizers.L2())\n",
    "\n",
    "#     pred_output = pred_head(dropout_layer)\n",
    "\n",
    "#     model = tf.keras.models.Model(input_layer, pred_output)\n",
    "    \n",
    "#     model.compile(loss = tf.keras.losses.BinaryCrossentropy(from_logits=True), \n",
    "#                  optimizer = tf.keras.optimizers.Adam(learning_rate = lr), \n",
    "#                  metrics=tf.keras.metrics.BinaryAccuracy())\n",
    "    \n",
    "#     return model"
   ]
  },
  {
   "cell_type": "code",
   "execution_count": 46,
   "id": "75c12e9a-898a-45db-9ee2-eb652adfbee1",
   "metadata": {},
   "outputs": [],
   "source": [
    "def rep_one_real_world(idx, inflation_factor = 0.2, cutoff = 100): \n",
    "\n",
    "#     from scipy.special import expit\n",
    "    patience_smaller = 0\n",
    "# patience_bigger = 0\n",
    "\n",
    "#     best_train_acc = 0\n",
    "#     best_valid_acc = 1000\n",
    "\n",
    "#     best_valid_mae = 10\n",
    "    \n",
    "    best_train_mae = 100\n",
    "    \n",
    "    X_train_logits = np.vstack((catch1[idx][0], catch1[idx][1]))\n",
    "#     X_train_logits = catch_train_logits_second[idx]\n",
    "    \n",
    "    \n",
    "    X_test_logits = catch1[idx][2]\n",
    "    \n",
    "    ## create training batch chunks\n",
    "    # train_idx = list(range(0, X_train_logits.shape[0]))\n",
    "    # batch_chunks = [train_idx[i:i+batch_size] for i in range(0,len(train_idx),batch_size)]\n",
    "\n",
    "#     y_train = catch[idx][3].reshape(-1,1)\n",
    "\n",
    "#     y_valid = catch[idx][4].reshape(-1,1)\n",
    "\n",
    "#     y_test = catch[idx][5].reshape(-1,1)\n",
    "\n",
    "    \n",
    "    train_valid_seqs = np.vstack((catch[idx][0], catch[idx][1]))\n",
    "    # train_valid_labels = np.vstack((y_train, y_valid))\n",
    "    \n",
    "    test_seqs = catch[idx][2]\n",
    "\n",
    "    \n",
    "    start = datetime.now()\n",
    "    \n",
    "    base_model = tf.keras.models.load_model(\"..//Data_Generation//LSTM_Heavy_Dropout//Real_World_LSTM_Models_Heavy_Dropout\" + \"//\" + \"Model_\" + str(idx))\n",
    "    ens_model = attention_lstm_model(rate, True)\n",
    "    ens_model.set_weights(base_model.get_weights())\n",
    "    \n",
    "            \n",
    "    all_preds1 = [np.array(ens_model(train_valid_seqs)) for i in (range(0, bnn_reps))]\n",
    "    all_preds1 = np.hstack(all_preds1)\n",
    "\n",
    "    all_preds2 = expit(all_preds1)\n",
    "    all_preds3 = all_preds2.mean(1).reshape(-1,1)\n",
    "        \n",
    "        \n",
    "\n",
    "    li = np.percentile(all_preds2, axis = 1, q = (2.5, 97.5))[0,:].reshape(-1,1)\n",
    "            \n",
    "    ui = np.percentile(all_preds2, axis = 1, q = (2.5, 97.5))[1,:].reshape(-1,1)\n",
    "            \n",
    "    width = ui - li\n",
    "            \n",
    "    avg_width_train = np.mean(width)\n",
    "        \n",
    "    interim = expit(X_train_logits)\n",
    "        \n",
    "    train_mae = np.mean(np.abs(interim.ravel() - all_preds3.ravel()))\n",
    "        \n",
    "            \n",
    "    temp = interim\n",
    "            \n",
    "    ind = (temp >= li) & (temp <= ui)\n",
    "            \n",
    "    coverage_train= np.mean(ind.ravel())  \n",
    "            \n",
    "            \n",
    "    all_preds1 = [np.array(ens_model(test_seqs)) for i in (range(0, bnn_reps))]\n",
    "    all_preds1 = np.hstack(all_preds1)\n",
    "    all_preds2 = expit(all_preds1)\n",
    "    all_preds3 = all_preds2.mean(1).reshape(-1,1)\n",
    "            \n",
    "    li = np.percentile(all_preds2, axis = 1, q = (2.5, 97.5))[0,:].reshape(-1,1)\n",
    "            \n",
    "    ui = np.percentile(all_preds2, axis = 1, q = (2.5, 97.5))[1,:].reshape(-1,1)\n",
    "            \n",
    "    width = ui - li\n",
    "            \n",
    "    avg_width = np.mean(width)\n",
    "        \n",
    "    catch_test_probs = expit(X_test_logits)\n",
    "            \n",
    "    ind_test = (catch_test_probs >= li) & (catch_test_probs <= ui)\n",
    "               \n",
    " \n",
    "    coverage_test = np.mean(ind_test.ravel())    \n",
    "    \n",
    "    test_mae = np.mean(np.abs(catch_test_probs.ravel() - all_preds3.ravel()))\n",
    "            \n",
    "\n",
    "            \n",
    "    end = datetime.now()      \n",
    "    total = (end-start)\n",
    "    time_taken = total.seconds/60.0\n",
    "            \n",
    "            \n",
    "    print(test_mae,coverage_test, avg_width, flush = True)\n",
    "    return train_mae, test_mae, coverage_train, avg_width_train, coverage_test, avg_width, time_taken, all_preds2\n",
    "        \n",
    "    # print(\"something went awry\", flush = True)"
   ]
  },
  {
   "cell_type": "code",
   "execution_count": 47,
   "id": "7761cf2f-2827-4059-83b6-a97d6f60d760",
   "metadata": {},
   "outputs": [],
   "source": [
    "# rep_one_real_world(0, inflation_factor = 0.2, cutoff = 100)"
   ]
  },
  {
   "cell_type": "code",
   "execution_count": 48,
   "id": "605540da-2ad3-4d18-b8a4-93dd7c052f20",
   "metadata": {},
   "outputs": [],
   "source": [
    "# threshold = 10"
   ]
  },
  {
   "cell_type": "code",
   "execution_count": 49,
   "id": "138d0228-17b7-4019-9abe-458206e8a7df",
   "metadata": {},
   "outputs": [],
   "source": [
    "# cutoff_threshold = 10"
   ]
  },
  {
   "cell_type": "code",
   "execution_count": 50,
   "id": "879e0642-2387-46a1-8ea4-1e42e9e46819",
   "metadata": {},
   "outputs": [],
   "source": [
    "# best_train_mae, best_test_mae, best_train_coverage, best_train_width, best_test_coverage, best_test_width,  exit_iter_no_thresh,time_taken,  best_test_preds = rep_one_real_world(30)"
   ]
  },
  {
   "cell_type": "code",
   "execution_count": 51,
   "id": "7885566c-6100-4212-b604-bdffbb97b025",
   "metadata": {},
   "outputs": [],
   "source": [
    "# best_train_mae, best_test_mae, best_train_coverage, best_train_width, best_test_coverage, best_test_width,  exit_iter_no_thresh, time_taken"
   ]
  },
  {
   "cell_type": "code",
   "execution_count": 52,
   "id": "e294790b-8dc6-4f99-ba83-dfcea5f75845",
   "metadata": {},
   "outputs": [],
   "source": [
    "reps = 50"
   ]
  },
  {
   "cell_type": "code",
   "execution_count": 53,
   "id": "99a723c6",
   "metadata": {},
   "outputs": [
    {
     "name": "stderr",
     "output_type": "stream",
     "text": [
      "[Parallel(n_jobs=15)]: Using backend LokyBackend with 15 concurrent workers.\n"
     ]
    },
    {
     "name": "stdout",
     "output_type": "stream",
     "text": [
      "0.07537955 1.0 0.4512884232855867\n",
      "0.060748167 1.0 0.41709906239993877\n"
     ]
    },
    {
     "name": "stderr",
     "output_type": "stream",
     "text": [
      "[Parallel(n_jobs=15)]: Done   2 tasks      | elapsed:   31.0s\n"
     ]
    },
    {
     "name": "stdout",
     "output_type": "stream",
     "text": [
      "0.057527408 1.0 0.41844298832584176\n",
      "0.07340384 1.0 0.4968767522834241\n",
      "0.04481537 1.0 0.4128166060952935\n",
      "0.08140434 1.0 0.5199559141416104\n",
      "0.028901113 1.0 0.2996716914116405\n",
      "0.054328006 1.0 0.44353722116211436\n",
      "0.10428117 1.0 0.7765108747000342\n",
      "0.080623046 1.0 0.493943832628429\n"
     ]
    },
    {
     "name": "stderr",
     "output_type": "stream",
     "text": [
      "[Parallel(n_jobs=15)]: Done  11 tasks      | elapsed:   37.6s\n"
     ]
    },
    {
     "name": "stdout",
     "output_type": "stream",
     "text": [
      "0.11766906 1.0 0.6353264839155599\n",
      "0.07252231 1.0 0.464460588619113\n",
      "0.108578876 1.0 0.6123216619889718\n",
      "0.09304182 1.0 0.7242357790819369\n",
      "0.05677472 1.0 0.4436466915998608\n",
      "0.051900394 1.0 0.508751655125525\n",
      "0.12491511 1.0 0.7208958075469127\n",
      "0.06013308 1.0 0.42273655522149056\n",
      "0.04653415 1.0 0.36877317691687495\n",
      "0.107844196 1.0 0.5785431960364804\n"
     ]
    },
    {
     "name": "stderr",
     "output_type": "stream",
     "text": [
      "[Parallel(n_jobs=15)]: Done  20 tasks      | elapsed:  1.0min\n"
     ]
    },
    {
     "name": "stdout",
     "output_type": "stream",
     "text": [
      "0.051170766 1.0 0.4040194084635005\n",
      "0.06842902 1.0 0.4518878016329836\n",
      "0.11946122 1.0 0.5855301518313357\n",
      "0.06451908 1.0 0.3874455837300047\n",
      "0.060628537 1.0 0.35754749349143833\n",
      "0.046797726 1.0 0.3530676443129778\n",
      "0.10474361 1.0 0.5915416451636701\n"
     ]
    },
    {
     "name": "stderr",
     "output_type": "stream",
     "text": [
      "[Parallel(n_jobs=15)]: Done  27 out of  50 | elapsed:  1.1min remaining:   57.9s\n"
     ]
    },
    {
     "name": "stdout",
     "output_type": "stream",
     "text": [
      "0.04763117 1.0 0.3809564747381956\n",
      "0.0782356 1.0 0.492944608430844\n",
      "0.051530033 1.0 0.40421870665159076\n",
      "0.074619226 1.0 0.47759373142616823\n",
      "0.11291447 1.0 0.6775119960599113\n",
      "0.057122115 1.0 0.4082656875543762\n"
     ]
    },
    {
     "name": "stderr",
     "output_type": "stream",
     "text": [
      "[Parallel(n_jobs=15)]: Done  33 out of  50 | elapsed:  1.5min remaining:   46.5s\n"
     ]
    },
    {
     "name": "stdout",
     "output_type": "stream",
     "text": [
      "0.06592979 1.0 0.4283094628102845\n",
      "0.04150255 1.0 0.382615051767789\n",
      "0.094356105 1.0 0.5579195302445441\n",
      "0.046242557 1.0 0.3741718102886807\n",
      "0.06801781 1.0 0.3965056590444874\n",
      "0.10385752 1.0 0.6399772023782133\n"
     ]
    },
    {
     "name": "stderr",
     "output_type": "stream",
     "text": [
      "[Parallel(n_jobs=15)]: Done  39 out of  50 | elapsed:  1.6min remaining:   26.9s\n"
     ]
    },
    {
     "name": "stdout",
     "output_type": "stream",
     "text": [
      "0.10714281 1.0 0.5320077776967083\n",
      "0.078552306 1.0 0.33591650187481725\n",
      "0.058884397 1.0 0.47600514013320216\n",
      "0.07935977 1.0 0.48508879167493435\n",
      "0.33528608 1.0 0.9135798280356544\n"
     ]
    },
    {
     "name": "stderr",
     "output_type": "stream",
     "text": [
      "[Parallel(n_jobs=15)]: Done  45 out of  50 | elapsed:  1.7min remaining:   11.6s\n"
     ]
    },
    {
     "name": "stdout",
     "output_type": "stream",
     "text": [
      "0.0552699 1.0 0.44954968654783456\n",
      "0.05417955 1.0 0.4092340515111574\n",
      "0.023860605 1.0 0.29284151201136416\n",
      "0.081654154 1.0 0.6628322010627017\n",
      "0.13141924 1.0 0.6973857972247062\n",
      "0.04983751 1.0 0.4081368158513215\n"
     ]
    },
    {
     "name": "stderr",
     "output_type": "stream",
     "text": [
      "[Parallel(n_jobs=15)]: Done  50 out of  50 | elapsed:  2.0min finished\n"
     ]
    }
   ],
   "source": [
    "catch_coverages = Parallel(n_jobs=use_cores, verbose = 10, backend = \"loky\")(delayed(rep_one_real_world)(i) for i in range(reps))"
   ]
  },
  {
   "cell_type": "code",
   "execution_count": 54,
   "id": "1e8200e5-b784-49c8-9ae9-fd7ee5a2e71d",
   "metadata": {},
   "outputs": [],
   "source": [
    "# catch_coverages"
   ]
  },
  {
   "cell_type": "code",
   "execution_count": 55,
   "id": "647980a7-9ae3-4c5c-b25c-2e37b6a84679",
   "metadata": {},
   "outputs": [],
   "source": [
    "check = pd.DataFrame(catch_coverages).iloc[:, :-1]"
   ]
  },
  {
   "cell_type": "code",
   "execution_count": 56,
   "id": "e45525f0-de06-47bf-8cca-da34b95705f4",
   "metadata": {},
   "outputs": [
    {
     "data": {
      "text/html": [
       "<div>\n",
       "<style scoped>\n",
       "    .dataframe tbody tr th:only-of-type {\n",
       "        vertical-align: middle;\n",
       "    }\n",
       "\n",
       "    .dataframe tbody tr th {\n",
       "        vertical-align: top;\n",
       "    }\n",
       "\n",
       "    .dataframe thead th {\n",
       "        text-align: right;\n",
       "    }\n",
       "</style>\n",
       "<table border=\"1\" class=\"dataframe\">\n",
       "  <thead>\n",
       "    <tr style=\"text-align: right;\">\n",
       "      <th></th>\n",
       "      <th>0</th>\n",
       "      <th>1</th>\n",
       "      <th>2</th>\n",
       "      <th>3</th>\n",
       "      <th>4</th>\n",
       "      <th>5</th>\n",
       "      <th>6</th>\n",
       "    </tr>\n",
       "  </thead>\n",
       "  <tbody>\n",
       "    <tr>\n",
       "      <th>0</th>\n",
       "      <td>0.081241</td>\n",
       "      <td>0.044815</td>\n",
       "      <td>1.0</td>\n",
       "      <td>0.541844</td>\n",
       "      <td>1.0</td>\n",
       "      <td>0.412817</td>\n",
       "      <td>0.483333</td>\n",
       "    </tr>\n",
       "    <tr>\n",
       "      <th>1</th>\n",
       "      <td>0.043589</td>\n",
       "      <td>0.080623</td>\n",
       "      <td>1.0</td>\n",
       "      <td>0.413298</td>\n",
       "      <td>1.0</td>\n",
       "      <td>0.493944</td>\n",
       "      <td>0.550000</td>\n",
       "    </tr>\n",
       "    <tr>\n",
       "      <th>2</th>\n",
       "      <td>0.054519</td>\n",
       "      <td>0.060748</td>\n",
       "      <td>1.0</td>\n",
       "      <td>0.404199</td>\n",
       "      <td>1.0</td>\n",
       "      <td>0.417099</td>\n",
       "      <td>0.466667</td>\n",
       "    </tr>\n",
       "    <tr>\n",
       "      <th>3</th>\n",
       "      <td>0.081281</td>\n",
       "      <td>0.075380</td>\n",
       "      <td>1.0</td>\n",
       "      <td>0.527661</td>\n",
       "      <td>1.0</td>\n",
       "      <td>0.451288</td>\n",
       "      <td>0.416667</td>\n",
       "    </tr>\n",
       "    <tr>\n",
       "      <th>4</th>\n",
       "      <td>0.055360</td>\n",
       "      <td>0.028901</td>\n",
       "      <td>1.0</td>\n",
       "      <td>0.375902</td>\n",
       "      <td>1.0</td>\n",
       "      <td>0.299672</td>\n",
       "      <td>0.516667</td>\n",
       "    </tr>\n",
       "    <tr>\n",
       "      <th>5</th>\n",
       "      <td>0.044578</td>\n",
       "      <td>0.056775</td>\n",
       "      <td>1.0</td>\n",
       "      <td>0.381939</td>\n",
       "      <td>1.0</td>\n",
       "      <td>0.443647</td>\n",
       "      <td>0.583333</td>\n",
       "    </tr>\n",
       "    <tr>\n",
       "      <th>6</th>\n",
       "      <td>0.082187</td>\n",
       "      <td>0.081404</td>\n",
       "      <td>1.0</td>\n",
       "      <td>0.544379</td>\n",
       "      <td>1.0</td>\n",
       "      <td>0.519956</td>\n",
       "      <td>0.483333</td>\n",
       "    </tr>\n",
       "    <tr>\n",
       "      <th>7</th>\n",
       "      <td>0.046743</td>\n",
       "      <td>0.057527</td>\n",
       "      <td>1.0</td>\n",
       "      <td>0.374196</td>\n",
       "      <td>1.0</td>\n",
       "      <td>0.418443</td>\n",
       "      <td>0.466667</td>\n",
       "    </tr>\n",
       "    <tr>\n",
       "      <th>8</th>\n",
       "      <td>0.064267</td>\n",
       "      <td>0.054328</td>\n",
       "      <td>1.0</td>\n",
       "      <td>0.477866</td>\n",
       "      <td>1.0</td>\n",
       "      <td>0.443537</td>\n",
       "      <td>0.516667</td>\n",
       "    </tr>\n",
       "    <tr>\n",
       "      <th>9</th>\n",
       "      <td>0.080927</td>\n",
       "      <td>0.117669</td>\n",
       "      <td>1.0</td>\n",
       "      <td>0.480349</td>\n",
       "      <td>1.0</td>\n",
       "      <td>0.635326</td>\n",
       "      <td>0.566667</td>\n",
       "    </tr>\n",
       "    <tr>\n",
       "      <th>10</th>\n",
       "      <td>0.078681</td>\n",
       "      <td>0.073404</td>\n",
       "      <td>1.0</td>\n",
       "      <td>0.513621</td>\n",
       "      <td>1.0</td>\n",
       "      <td>0.496877</td>\n",
       "      <td>0.483333</td>\n",
       "    </tr>\n",
       "    <tr>\n",
       "      <th>11</th>\n",
       "      <td>0.069797</td>\n",
       "      <td>0.072522</td>\n",
       "      <td>1.0</td>\n",
       "      <td>0.436542</td>\n",
       "      <td>1.0</td>\n",
       "      <td>0.464461</td>\n",
       "      <td>0.566667</td>\n",
       "    </tr>\n",
       "    <tr>\n",
       "      <th>12</th>\n",
       "      <td>0.077103</td>\n",
       "      <td>0.093042</td>\n",
       "      <td>1.0</td>\n",
       "      <td>0.495507</td>\n",
       "      <td>1.0</td>\n",
       "      <td>0.724236</td>\n",
       "      <td>0.566667</td>\n",
       "    </tr>\n",
       "    <tr>\n",
       "      <th>13</th>\n",
       "      <td>0.084271</td>\n",
       "      <td>0.104281</td>\n",
       "      <td>1.0</td>\n",
       "      <td>0.557182</td>\n",
       "      <td>1.0</td>\n",
       "      <td>0.776511</td>\n",
       "      <td>0.533333</td>\n",
       "    </tr>\n",
       "    <tr>\n",
       "      <th>14</th>\n",
       "      <td>0.068554</td>\n",
       "      <td>0.108579</td>\n",
       "      <td>1.0</td>\n",
       "      <td>0.492260</td>\n",
       "      <td>1.0</td>\n",
       "      <td>0.612322</td>\n",
       "      <td>0.566667</td>\n",
       "    </tr>\n",
       "    <tr>\n",
       "      <th>15</th>\n",
       "      <td>0.079835</td>\n",
       "      <td>0.051900</td>\n",
       "      <td>1.0</td>\n",
       "      <td>0.534480</td>\n",
       "      <td>1.0</td>\n",
       "      <td>0.508752</td>\n",
       "      <td>0.466667</td>\n",
       "    </tr>\n",
       "    <tr>\n",
       "      <th>16</th>\n",
       "      <td>0.087304</td>\n",
       "      <td>0.124915</td>\n",
       "      <td>1.0</td>\n",
       "      <td>0.478875</td>\n",
       "      <td>1.0</td>\n",
       "      <td>0.720896</td>\n",
       "      <td>0.466667</td>\n",
       "    </tr>\n",
       "    <tr>\n",
       "      <th>17</th>\n",
       "      <td>0.087912</td>\n",
       "      <td>0.107844</td>\n",
       "      <td>1.0</td>\n",
       "      <td>0.605280</td>\n",
       "      <td>1.0</td>\n",
       "      <td>0.578543</td>\n",
       "      <td>0.483333</td>\n",
       "    </tr>\n",
       "    <tr>\n",
       "      <th>18</th>\n",
       "      <td>0.038594</td>\n",
       "      <td>0.046534</td>\n",
       "      <td>1.0</td>\n",
       "      <td>0.361888</td>\n",
       "      <td>1.0</td>\n",
       "      <td>0.368773</td>\n",
       "      <td>0.466667</td>\n",
       "    </tr>\n",
       "    <tr>\n",
       "      <th>19</th>\n",
       "      <td>0.092741</td>\n",
       "      <td>0.119461</td>\n",
       "      <td>1.0</td>\n",
       "      <td>0.598694</td>\n",
       "      <td>1.0</td>\n",
       "      <td>0.585530</td>\n",
       "      <td>0.533333</td>\n",
       "    </tr>\n",
       "    <tr>\n",
       "      <th>20</th>\n",
       "      <td>0.071251</td>\n",
       "      <td>0.068429</td>\n",
       "      <td>1.0</td>\n",
       "      <td>0.509859</td>\n",
       "      <td>1.0</td>\n",
       "      <td>0.451888</td>\n",
       "      <td>0.516667</td>\n",
       "    </tr>\n",
       "    <tr>\n",
       "      <th>21</th>\n",
       "      <td>0.060236</td>\n",
       "      <td>0.060133</td>\n",
       "      <td>1.0</td>\n",
       "      <td>0.475678</td>\n",
       "      <td>1.0</td>\n",
       "      <td>0.422737</td>\n",
       "      <td>0.433333</td>\n",
       "    </tr>\n",
       "    <tr>\n",
       "      <th>22</th>\n",
       "      <td>0.063585</td>\n",
       "      <td>0.060629</td>\n",
       "      <td>1.0</td>\n",
       "      <td>0.540838</td>\n",
       "      <td>1.0</td>\n",
       "      <td>0.357547</td>\n",
       "      <td>0.516667</td>\n",
       "    </tr>\n",
       "    <tr>\n",
       "      <th>23</th>\n",
       "      <td>0.054837</td>\n",
       "      <td>0.051171</td>\n",
       "      <td>1.0</td>\n",
       "      <td>0.429177</td>\n",
       "      <td>1.0</td>\n",
       "      <td>0.404019</td>\n",
       "      <td>0.466667</td>\n",
       "    </tr>\n",
       "    <tr>\n",
       "      <th>24</th>\n",
       "      <td>0.077360</td>\n",
       "      <td>0.064519</td>\n",
       "      <td>1.0</td>\n",
       "      <td>0.530474</td>\n",
       "      <td>1.0</td>\n",
       "      <td>0.387446</td>\n",
       "      <td>0.483333</td>\n",
       "    </tr>\n",
       "    <tr>\n",
       "      <th>25</th>\n",
       "      <td>0.061862</td>\n",
       "      <td>0.078236</td>\n",
       "      <td>1.0</td>\n",
       "      <td>0.431083</td>\n",
       "      <td>1.0</td>\n",
       "      <td>0.492945</td>\n",
       "      <td>0.566667</td>\n",
       "    </tr>\n",
       "    <tr>\n",
       "      <th>26</th>\n",
       "      <td>0.049435</td>\n",
       "      <td>0.047631</td>\n",
       "      <td>1.0</td>\n",
       "      <td>0.393020</td>\n",
       "      <td>1.0</td>\n",
       "      <td>0.380956</td>\n",
       "      <td>0.566667</td>\n",
       "    </tr>\n",
       "    <tr>\n",
       "      <th>27</th>\n",
       "      <td>0.061127</td>\n",
       "      <td>0.051530</td>\n",
       "      <td>1.0</td>\n",
       "      <td>0.450439</td>\n",
       "      <td>1.0</td>\n",
       "      <td>0.404219</td>\n",
       "      <td>0.583333</td>\n",
       "    </tr>\n",
       "    <tr>\n",
       "      <th>28</th>\n",
       "      <td>0.038401</td>\n",
       "      <td>0.046798</td>\n",
       "      <td>1.0</td>\n",
       "      <td>0.348718</td>\n",
       "      <td>1.0</td>\n",
       "      <td>0.353068</td>\n",
       "      <td>0.483333</td>\n",
       "    </tr>\n",
       "    <tr>\n",
       "      <th>29</th>\n",
       "      <td>0.060183</td>\n",
       "      <td>0.104744</td>\n",
       "      <td>1.0</td>\n",
       "      <td>0.462292</td>\n",
       "      <td>1.0</td>\n",
       "      <td>0.591542</td>\n",
       "      <td>0.483333</td>\n",
       "    </tr>\n",
       "    <tr>\n",
       "      <th>30</th>\n",
       "      <td>0.080915</td>\n",
       "      <td>0.074619</td>\n",
       "      <td>1.0</td>\n",
       "      <td>0.500783</td>\n",
       "      <td>1.0</td>\n",
       "      <td>0.477594</td>\n",
       "      <td>0.433333</td>\n",
       "    </tr>\n",
       "    <tr>\n",
       "      <th>31</th>\n",
       "      <td>0.064539</td>\n",
       "      <td>0.041503</td>\n",
       "      <td>1.0</td>\n",
       "      <td>0.492778</td>\n",
       "      <td>1.0</td>\n",
       "      <td>0.382615</td>\n",
       "      <td>0.516667</td>\n",
       "    </tr>\n",
       "    <tr>\n",
       "      <th>32</th>\n",
       "      <td>0.085135</td>\n",
       "      <td>0.112914</td>\n",
       "      <td>1.0</td>\n",
       "      <td>0.561457</td>\n",
       "      <td>1.0</td>\n",
       "      <td>0.677512</td>\n",
       "      <td>0.433333</td>\n",
       "    </tr>\n",
       "    <tr>\n",
       "      <th>33</th>\n",
       "      <td>0.082292</td>\n",
       "      <td>0.057122</td>\n",
       "      <td>1.0</td>\n",
       "      <td>0.518100</td>\n",
       "      <td>1.0</td>\n",
       "      <td>0.408266</td>\n",
       "      <td>0.483333</td>\n",
       "    </tr>\n",
       "    <tr>\n",
       "      <th>34</th>\n",
       "      <td>0.057637</td>\n",
       "      <td>0.103858</td>\n",
       "      <td>1.0</td>\n",
       "      <td>0.480975</td>\n",
       "      <td>1.0</td>\n",
       "      <td>0.639977</td>\n",
       "      <td>0.550000</td>\n",
       "    </tr>\n",
       "    <tr>\n",
       "      <th>35</th>\n",
       "      <td>0.081062</td>\n",
       "      <td>0.065930</td>\n",
       "      <td>1.0</td>\n",
       "      <td>0.512933</td>\n",
       "      <td>1.0</td>\n",
       "      <td>0.428309</td>\n",
       "      <td>0.433333</td>\n",
       "    </tr>\n",
       "    <tr>\n",
       "      <th>36</th>\n",
       "      <td>0.087167</td>\n",
       "      <td>0.068018</td>\n",
       "      <td>1.0</td>\n",
       "      <td>0.557372</td>\n",
       "      <td>1.0</td>\n",
       "      <td>0.396506</td>\n",
       "      <td>0.483333</td>\n",
       "    </tr>\n",
       "    <tr>\n",
       "      <th>37</th>\n",
       "      <td>0.078921</td>\n",
       "      <td>0.046243</td>\n",
       "      <td>1.0</td>\n",
       "      <td>0.507851</td>\n",
       "      <td>1.0</td>\n",
       "      <td>0.374172</td>\n",
       "      <td>0.450000</td>\n",
       "    </tr>\n",
       "    <tr>\n",
       "      <th>38</th>\n",
       "      <td>0.087217</td>\n",
       "      <td>0.094356</td>\n",
       "      <td>1.0</td>\n",
       "      <td>0.539692</td>\n",
       "      <td>1.0</td>\n",
       "      <td>0.557920</td>\n",
       "      <td>0.433333</td>\n",
       "    </tr>\n",
       "    <tr>\n",
       "      <th>39</th>\n",
       "      <td>0.119131</td>\n",
       "      <td>0.078552</td>\n",
       "      <td>1.0</td>\n",
       "      <td>0.622021</td>\n",
       "      <td>1.0</td>\n",
       "      <td>0.335917</td>\n",
       "      <td>0.516667</td>\n",
       "    </tr>\n",
       "    <tr>\n",
       "      <th>40</th>\n",
       "      <td>0.164585</td>\n",
       "      <td>0.335286</td>\n",
       "      <td>1.0</td>\n",
       "      <td>0.698468</td>\n",
       "      <td>1.0</td>\n",
       "      <td>0.913580</td>\n",
       "      <td>0.566667</td>\n",
       "    </tr>\n",
       "    <tr>\n",
       "      <th>41</th>\n",
       "      <td>0.073457</td>\n",
       "      <td>0.107143</td>\n",
       "      <td>1.0</td>\n",
       "      <td>0.458970</td>\n",
       "      <td>1.0</td>\n",
       "      <td>0.532008</td>\n",
       "      <td>0.466667</td>\n",
       "    </tr>\n",
       "    <tr>\n",
       "      <th>42</th>\n",
       "      <td>0.068789</td>\n",
       "      <td>0.058884</td>\n",
       "      <td>1.0</td>\n",
       "      <td>0.517133</td>\n",
       "      <td>1.0</td>\n",
       "      <td>0.476005</td>\n",
       "      <td>0.466667</td>\n",
       "    </tr>\n",
       "    <tr>\n",
       "      <th>43</th>\n",
       "      <td>0.060661</td>\n",
       "      <td>0.079360</td>\n",
       "      <td>1.0</td>\n",
       "      <td>0.479080</td>\n",
       "      <td>1.0</td>\n",
       "      <td>0.485089</td>\n",
       "      <td>0.466667</td>\n",
       "    </tr>\n",
       "    <tr>\n",
       "      <th>44</th>\n",
       "      <td>0.054738</td>\n",
       "      <td>0.055270</td>\n",
       "      <td>1.0</td>\n",
       "      <td>0.408167</td>\n",
       "      <td>1.0</td>\n",
       "      <td>0.449550</td>\n",
       "      <td>0.516667</td>\n",
       "    </tr>\n",
       "    <tr>\n",
       "      <th>45</th>\n",
       "      <td>0.043044</td>\n",
       "      <td>0.023861</td>\n",
       "      <td>1.0</td>\n",
       "      <td>0.310466</td>\n",
       "      <td>1.0</td>\n",
       "      <td>0.292842</td>\n",
       "      <td>0.466667</td>\n",
       "    </tr>\n",
       "    <tr>\n",
       "      <th>46</th>\n",
       "      <td>0.061448</td>\n",
       "      <td>0.054180</td>\n",
       "      <td>1.0</td>\n",
       "      <td>0.420404</td>\n",
       "      <td>1.0</td>\n",
       "      <td>0.409234</td>\n",
       "      <td>0.416667</td>\n",
       "    </tr>\n",
       "    <tr>\n",
       "      <th>47</th>\n",
       "      <td>0.095781</td>\n",
       "      <td>0.131419</td>\n",
       "      <td>1.0</td>\n",
       "      <td>0.580020</td>\n",
       "      <td>1.0</td>\n",
       "      <td>0.697386</td>\n",
       "      <td>0.466667</td>\n",
       "    </tr>\n",
       "    <tr>\n",
       "      <th>48</th>\n",
       "      <td>0.043323</td>\n",
       "      <td>0.049838</td>\n",
       "      <td>1.0</td>\n",
       "      <td>0.392075</td>\n",
       "      <td>1.0</td>\n",
       "      <td>0.408137</td>\n",
       "      <td>0.466667</td>\n",
       "    </tr>\n",
       "    <tr>\n",
       "      <th>49</th>\n",
       "      <td>0.070493</td>\n",
       "      <td>0.081654</td>\n",
       "      <td>1.0</td>\n",
       "      <td>0.455348</td>\n",
       "      <td>1.0</td>\n",
       "      <td>0.662832</td>\n",
       "      <td>0.450000</td>\n",
       "    </tr>\n",
       "  </tbody>\n",
       "</table>\n",
       "</div>"
      ],
      "text/plain": [
       "           0         1    2         3    4         5         6\n",
       "0   0.081241  0.044815  1.0  0.541844  1.0  0.412817  0.483333\n",
       "1   0.043589  0.080623  1.0  0.413298  1.0  0.493944  0.550000\n",
       "2   0.054519  0.060748  1.0  0.404199  1.0  0.417099  0.466667\n",
       "3   0.081281  0.075380  1.0  0.527661  1.0  0.451288  0.416667\n",
       "4   0.055360  0.028901  1.0  0.375902  1.0  0.299672  0.516667\n",
       "5   0.044578  0.056775  1.0  0.381939  1.0  0.443647  0.583333\n",
       "6   0.082187  0.081404  1.0  0.544379  1.0  0.519956  0.483333\n",
       "7   0.046743  0.057527  1.0  0.374196  1.0  0.418443  0.466667\n",
       "8   0.064267  0.054328  1.0  0.477866  1.0  0.443537  0.516667\n",
       "9   0.080927  0.117669  1.0  0.480349  1.0  0.635326  0.566667\n",
       "10  0.078681  0.073404  1.0  0.513621  1.0  0.496877  0.483333\n",
       "11  0.069797  0.072522  1.0  0.436542  1.0  0.464461  0.566667\n",
       "12  0.077103  0.093042  1.0  0.495507  1.0  0.724236  0.566667\n",
       "13  0.084271  0.104281  1.0  0.557182  1.0  0.776511  0.533333\n",
       "14  0.068554  0.108579  1.0  0.492260  1.0  0.612322  0.566667\n",
       "15  0.079835  0.051900  1.0  0.534480  1.0  0.508752  0.466667\n",
       "16  0.087304  0.124915  1.0  0.478875  1.0  0.720896  0.466667\n",
       "17  0.087912  0.107844  1.0  0.605280  1.0  0.578543  0.483333\n",
       "18  0.038594  0.046534  1.0  0.361888  1.0  0.368773  0.466667\n",
       "19  0.092741  0.119461  1.0  0.598694  1.0  0.585530  0.533333\n",
       "20  0.071251  0.068429  1.0  0.509859  1.0  0.451888  0.516667\n",
       "21  0.060236  0.060133  1.0  0.475678  1.0  0.422737  0.433333\n",
       "22  0.063585  0.060629  1.0  0.540838  1.0  0.357547  0.516667\n",
       "23  0.054837  0.051171  1.0  0.429177  1.0  0.404019  0.466667\n",
       "24  0.077360  0.064519  1.0  0.530474  1.0  0.387446  0.483333\n",
       "25  0.061862  0.078236  1.0  0.431083  1.0  0.492945  0.566667\n",
       "26  0.049435  0.047631  1.0  0.393020  1.0  0.380956  0.566667\n",
       "27  0.061127  0.051530  1.0  0.450439  1.0  0.404219  0.583333\n",
       "28  0.038401  0.046798  1.0  0.348718  1.0  0.353068  0.483333\n",
       "29  0.060183  0.104744  1.0  0.462292  1.0  0.591542  0.483333\n",
       "30  0.080915  0.074619  1.0  0.500783  1.0  0.477594  0.433333\n",
       "31  0.064539  0.041503  1.0  0.492778  1.0  0.382615  0.516667\n",
       "32  0.085135  0.112914  1.0  0.561457  1.0  0.677512  0.433333\n",
       "33  0.082292  0.057122  1.0  0.518100  1.0  0.408266  0.483333\n",
       "34  0.057637  0.103858  1.0  0.480975  1.0  0.639977  0.550000\n",
       "35  0.081062  0.065930  1.0  0.512933  1.0  0.428309  0.433333\n",
       "36  0.087167  0.068018  1.0  0.557372  1.0  0.396506  0.483333\n",
       "37  0.078921  0.046243  1.0  0.507851  1.0  0.374172  0.450000\n",
       "38  0.087217  0.094356  1.0  0.539692  1.0  0.557920  0.433333\n",
       "39  0.119131  0.078552  1.0  0.622021  1.0  0.335917  0.516667\n",
       "40  0.164585  0.335286  1.0  0.698468  1.0  0.913580  0.566667\n",
       "41  0.073457  0.107143  1.0  0.458970  1.0  0.532008  0.466667\n",
       "42  0.068789  0.058884  1.0  0.517133  1.0  0.476005  0.466667\n",
       "43  0.060661  0.079360  1.0  0.479080  1.0  0.485089  0.466667\n",
       "44  0.054738  0.055270  1.0  0.408167  1.0  0.449550  0.516667\n",
       "45  0.043044  0.023861  1.0  0.310466  1.0  0.292842  0.466667\n",
       "46  0.061448  0.054180  1.0  0.420404  1.0  0.409234  0.416667\n",
       "47  0.095781  0.131419  1.0  0.580020  1.0  0.697386  0.466667\n",
       "48  0.043323  0.049838  1.0  0.392075  1.0  0.408137  0.466667\n",
       "49  0.070493  0.081654  1.0  0.455348  1.0  0.662832  0.450000"
      ]
     },
     "execution_count": 56,
     "metadata": {},
     "output_type": "execute_result"
    }
   ],
   "source": [
    "check"
   ]
  },
  {
   "cell_type": "code",
   "execution_count": 57,
   "id": "e061792a-e589-486e-b8d2-336622f6bf34",
   "metadata": {},
   "outputs": [],
   "source": [
    "# check"
   ]
  },
  {
   "cell_type": "code",
   "execution_count": 58,
   "id": "fa101efc-351b-4645-87a3-f008abf1ff3d",
   "metadata": {},
   "outputs": [],
   "source": [
    "# check"
   ]
  },
  {
   "cell_type": "code",
   "execution_count": 59,
   "id": "77536655-0afd-4976-980a-fa7a28b55201",
   "metadata": {},
   "outputs": [],
   "source": [
    "# check.columns = [\"train_mae\", \"test_mae\", \"avg_ci_width_train\", \"avg_ci_width_test\", \"avg_lstm_weight\", \"exit_iter\", \"exit_status\"]"
   ]
  },
  {
   "cell_type": "code",
   "execution_count": 60,
   "id": "cd8cefbd-9076-469e-a5dc-dc4637846308",
   "metadata": {},
   "outputs": [],
   "source": [
    "# check"
   ]
  },
  {
   "cell_type": "code",
   "execution_count": 61,
   "id": "4fc1dcac-24b2-45e7-ae4c-e55eca90a6c6",
   "metadata": {},
   "outputs": [],
   "source": [
    "check.columns = [\"train_mae\", \"test_mae\", \"train_coverage\", \"train_width\", \"test_coverage\", \"test_width\", \"time_taken\"]"
   ]
  },
  {
   "cell_type": "code",
   "execution_count": 62,
   "id": "fcf483cf-1d09-4d5d-8c7c-7db62473a356",
   "metadata": {},
   "outputs": [],
   "source": [
    "check_mean = check.mean().reset_index()"
   ]
  },
  {
   "cell_type": "code",
   "execution_count": 63,
   "id": "b33d52b3-1a70-48ad-9b9d-3f259d4b68c7",
   "metadata": {},
   "outputs": [
    {
     "data": {
      "text/html": [
       "<div>\n",
       "<style scoped>\n",
       "    .dataframe tbody tr th:only-of-type {\n",
       "        vertical-align: middle;\n",
       "    }\n",
       "\n",
       "    .dataframe tbody tr th {\n",
       "        vertical-align: top;\n",
       "    }\n",
       "\n",
       "    .dataframe thead th {\n",
       "        text-align: right;\n",
       "    }\n",
       "</style>\n",
       "<table border=\"1\" class=\"dataframe\">\n",
       "  <thead>\n",
       "    <tr style=\"text-align: right;\">\n",
       "      <th></th>\n",
       "      <th>index</th>\n",
       "      <th>0</th>\n",
       "    </tr>\n",
       "  </thead>\n",
       "  <tbody>\n",
       "    <tr>\n",
       "      <th>0</th>\n",
       "      <td>train_mae</td>\n",
       "      <td>0.071162</td>\n",
       "    </tr>\n",
       "    <tr>\n",
       "      <th>1</th>\n",
       "      <td>test_mae</td>\n",
       "      <td>0.078290</td>\n",
       "    </tr>\n",
       "    <tr>\n",
       "      <th>2</th>\n",
       "      <td>train_coverage</td>\n",
       "      <td>1.000000</td>\n",
       "    </tr>\n",
       "    <tr>\n",
       "      <th>3</th>\n",
       "      <td>train_width</td>\n",
       "      <td>0.483633</td>\n",
       "    </tr>\n",
       "    <tr>\n",
       "      <th>4</th>\n",
       "      <td>test_coverage</td>\n",
       "      <td>1.000000</td>\n",
       "    </tr>\n",
       "    <tr>\n",
       "      <th>5</th>\n",
       "      <td>test_width</td>\n",
       "      <td>0.492489</td>\n",
       "    </tr>\n",
       "    <tr>\n",
       "      <th>6</th>\n",
       "      <td>time_taken</td>\n",
       "      <td>0.495333</td>\n",
       "    </tr>\n",
       "  </tbody>\n",
       "</table>\n",
       "</div>"
      ],
      "text/plain": [
       "            index         0\n",
       "0       train_mae  0.071162\n",
       "1        test_mae  0.078290\n",
       "2  train_coverage  1.000000\n",
       "3     train_width  0.483633\n",
       "4   test_coverage  1.000000\n",
       "5      test_width  0.492489\n",
       "6      time_taken  0.495333"
      ]
     },
     "execution_count": 63,
     "metadata": {},
     "output_type": "execute_result"
    }
   ],
   "source": [
    "check_mean"
   ]
  },
  {
   "cell_type": "code",
   "execution_count": 64,
   "id": "694cfd02-a953-4fc5-888e-a196be3dd80f",
   "metadata": {},
   "outputs": [],
   "source": [
    "check_mean.to_csv(\"mean_metrics_real_world_just_lstm_heavy_dropout_\"  + \"drop_rate_\"  + str(rate) +  \"_bnn_reps_\" + str(bnn_reps) +  \".csv\", index = False)"
   ]
  },
  {
   "cell_type": "code",
   "execution_count": 65,
   "id": "9b520f45-ad8d-453c-80e7-7a6bb711692f",
   "metadata": {},
   "outputs": [],
   "source": [
    "check_std = check.std().reset_index()"
   ]
  },
  {
   "cell_type": "code",
   "execution_count": 66,
   "id": "bad06d4d-316c-497c-be10-ea06c9b8468f",
   "metadata": {},
   "outputs": [],
   "source": [
    "check_std.to_csv(\"std_dev_metrics_real_world_just_lstm_heavy_dropout_\"  + \"drop_rate_\"  + str(rate) +  \"_bnn_reps_\" + str(bnn_reps) +  \".csv\", index = False)"
   ]
  },
  {
   "cell_type": "code",
   "execution_count": 67,
   "id": "476c963d-dfc3-42cf-90ff-7f801920fc08",
   "metadata": {},
   "outputs": [],
   "source": [
    "# std_df.to_csv(\"std_dev_metrics_just_lstm_\"  + \"drop_rate_\"  + str(rate) +  \"_bnn_reps_\"+ str(bnn_reps) +  \".csv\")\n"
   ]
  },
  {
   "cell_type": "code",
   "execution_count": 68,
   "id": "e3e43629-3a74-4d41-acaf-dea297a3840c",
   "metadata": {},
   "outputs": [],
   "source": [
    "# check.std()/reps"
   ]
  },
  {
   "cell_type": "code",
   "execution_count": 69,
   "id": "d9e6815f-6e3b-47c0-8383-5931dbe8d2d2",
   "metadata": {},
   "outputs": [],
   "source": [
    "# catch_coverages[i][-1].shape"
   ]
  },
  {
   "cell_type": "code",
   "execution_count": 70,
   "id": "a83c3d12-b2f0-44b8-9904-7b10c4f513bd",
   "metadata": {},
   "outputs": [],
   "source": [
    "true_preds = []\n",
    "enkf_preds = []\n",
    "for i in range(0,reps):\n",
    "    all_preds = catch_coverages[i][-1]\n",
    "    all_preds = all_preds.mean(1)\n",
    "    catch_test_probs = expit(catch1[i][2])\n",
    "    true_probs = catch_test_probs.ravel().tolist()\n",
    "    true_preds.append(true_probs)\n",
    "    enkf_preds.append(all_preds.ravel().tolist())\n",
    "    # plt.scatter(true_probs, all_preds.ravel().tolist())\n",
    "    # plt.show()"
   ]
  },
  {
   "cell_type": "code",
   "execution_count": 71,
   "id": "4089a2ab-43f9-4e24-a7ed-add7bdc14156",
   "metadata": {},
   "outputs": [],
   "source": [
    "true_preds = [inner for item in true_preds for inner in item]"
   ]
  },
  {
   "cell_type": "code",
   "execution_count": 72,
   "id": "65492b8d-d7e4-4375-8577-d79a633680b7",
   "metadata": {},
   "outputs": [],
   "source": [
    "enkf_preds = [inner for item in enkf_preds for inner in item]"
   ]
  },
  {
   "cell_type": "code",
   "execution_count": 73,
   "id": "19776731-14c7-43c3-bd48-163aa67e2c76",
   "metadata": {},
   "outputs": [
    {
     "data": {
      "text/plain": [
       "0.07828961957828141"
      ]
     },
     "execution_count": 73,
     "metadata": {},
     "output_type": "execute_result"
    }
   ],
   "source": [
    "np.mean(np.abs(np.array(true_preds)-np.array(enkf_preds)))"
   ]
  },
  {
   "cell_type": "code",
   "execution_count": 74,
   "id": "1ebada74-6fe8-4f58-a939-87ca7399aef8",
   "metadata": {},
   "outputs": [
    {
     "data": {
      "text/plain": [
       "<matplotlib.lines._AxLine at 0x153c07e7ba90>"
      ]
     },
     "execution_count": 74,
     "metadata": {},
     "output_type": "execute_result"
    },
    {
     "data": {
      "image/png": "[encoded data removed]",
      "text/plain": [
       "<Figure size 640x480 with 1 Axes>"
      ]
     },
     "metadata": {},
     "output_type": "display_data"
    }
   ],
   "source": [
    "plt.scatter(enkf_preds,true_preds, alpha=0.5)\n",
    "plt.xlabel(\"EnKF Predictions\", fontsize = 15, fontweight = \"bold\")\n",
    "plt.ylabel(\"LSTM Predictions\", fontsize = 15, fontweight = \"bold\")\n",
    "plt.xticks(fontsize = 10, fontweight = \"bold\")\n",
    "plt.yticks(fontsize = 10, fontweight = \"bold\")\n",
    "plt.axline((0, 0), slope=1)"
   ]
  },
  {
   "cell_type": "code",
   "execution_count": 75,
   "id": "ead27b05-299e-49dc-bb97-236a18cd05e5",
   "metadata": {},
   "outputs": [],
   "source": [
    "# check"
   ]
  },
  {
   "cell_type": "code",
   "execution_count": 76,
   "id": "c3c59615-d33c-451c-8eb1-d8a93374c3d7",
   "metadata": {},
   "outputs": [],
   "source": [
    "with open('first_lstm_just_lstm_real_world_heavy_dropout.pkl', 'wb') as f:\n",
    "    pickle.dump(catch_coverages, f)"
   ]
  }
 ],
 "metadata": {
  "kernelspec": {
   "display_name": "enkf",
   "language": "python",
   "name": "enkf"
  },
  "language_info": {
   "codemirror_mode": {
    "name": "ipython",
    "version": 3
   },
   "file_extension": ".py",
   "mimetype": "text/x-python",
   "name": "python",
   "nbconvert_exporter": "python",
   "pygments_lexer": "ipython3",
   "version": "3.10.8"
  }
 },
 "nbformat": 4,
 "nbformat_minor": 5
}
