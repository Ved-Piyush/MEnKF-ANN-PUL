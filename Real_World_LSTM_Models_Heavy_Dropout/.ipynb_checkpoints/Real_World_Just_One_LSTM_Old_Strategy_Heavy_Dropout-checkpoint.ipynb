{
 "cells": [
  {
   "cell_type": "code",
   "execution_count": 1,
   "id": "d7ab5bf3",
   "metadata": {},
   "outputs": [],
   "source": [
    "import pandas as pd\n",
    "from tqdm import tqdm\n",
    "import gensim\n",
    "import os\n",
    "os.environ['TF_CPP_MIN_LOG_LEVEL'] = '3' \n",
    "# os.chdir(r\"D://Proposal_Defense//Simulations\")\n",
    "# from Utils.Script_utils import get_data_splits, first_LSTM_training, get_data_splits_old_algo\n",
    "from joblib import Parallel, delayed\n",
    "import sys\n",
    "from scipy.stats import norm"
   ]
  },
  {
   "cell_type": "code",
   "execution_count": 2,
   "id": "36084258",
   "metadata": {},
   "outputs": [
    {
     "name": "stdout",
     "output_type": "stream",
     "text": [
      "No GPU found\n"
     ]
    }
   ],
   "source": [
    "# Seed value\n",
    "# Apparently you may use different seed values at each stage\n",
    "seed_value= 42\n",
    "\n",
    "# 1. Set the `PYTHONHASHSEED` environment variable at a fixed value\n",
    "import os\n",
    "os.environ['PYTHONHASHSEED']=str(seed_value)\n",
    "\n",
    "# 2. Set the `python` built-in pseudo-random generator at a fixed value\n",
    "import random\n",
    "random.seed(seed_value)\n",
    "\n",
    "# 3. Set the `numpy` pseudo-random generator at a fixed value\n",
    "import numpy as np\n",
    "np.random.seed(seed_value)\n",
    "\n",
    "# # 4. Set the `tensorflow` pseudo-random generator at a fixed value\n",
    "import tensorflow as tf\n",
    "os.environ['CUDA_VISIBLE_DEVICES'] = '-1'\n",
    "\n",
    "if tf.test.gpu_device_name():\n",
    "    print('GPU found')\n",
    "else:\n",
    "    print(\"No GPU found\")\n",
    "# tf.config.set_visible_devices([], 'GPU')\n",
    "\n",
    "from tqdm.notebook import tqdm\n",
    "tf.random.set_seed(seed_value)\n",
    "import multiprocessing\n",
    "# for later versions: \n",
    "# tf.compat.v1.set_random_seed(seed_value)\n",
    "\n",
    "# 5. Configure a new global `tensorflow` session\n",
    "# from keras import backend as K\n",
    "# session_conf = tf.compat.v1.ConfigProto(intra_op_parallelism_threads=1, inter_op_parallelism_threads=1)\n",
    "# sess = tf.compat.v1.Session(graph=tf.compat.v1.get_default_graph(), config=session_conf)\n",
    "# K.set_session(sess)"
   ]
  },
  {
   "cell_type": "code",
   "execution_count": 3,
   "id": "e036b858",
   "metadata": {},
   "outputs": [],
   "source": [
    "import matplotlib.pyplot as plt\n",
    "\n",
    "import pickle"
   ]
  },
  {
   "cell_type": "code",
   "execution_count": 4,
   "id": "440c1a52",
   "metadata": {},
   "outputs": [],
   "source": [
    "with open('..//Data_Generation//Data//train_valid_test_splits_50.pkl', 'rb') as f:\n",
    "    catch = pickle.load(f)  "
   ]
  },
  {
   "cell_type": "code",
   "execution_count": 5,
   "id": "4eea8c8e",
   "metadata": {},
   "outputs": [],
   "source": [
    "# var_weights = 0.08\n",
    "# var_targets = 0.08"
   ]
  },
  {
   "cell_type": "code",
   "execution_count": 6,
   "id": "bd888262",
   "metadata": {},
   "outputs": [],
   "source": [
    "from tqdm.notebook import tqdm"
   ]
  },
  {
   "cell_type": "code",
   "execution_count": 7,
   "id": "b1ce82b7",
   "metadata": {},
   "outputs": [],
   "source": [
    "import random"
   ]
  },
  {
   "cell_type": "code",
   "execution_count": 8,
   "id": "b7959ab1",
   "metadata": {},
   "outputs": [],
   "source": [
    "import numpy as np"
   ]
  },
  {
   "cell_type": "code",
   "execution_count": 9,
   "id": "4e3ef6e6",
   "metadata": {},
   "outputs": [],
   "source": [
    "import time"
   ]
  },
  {
   "cell_type": "code",
   "execution_count": 10,
   "id": "0eabfdd4",
   "metadata": {},
   "outputs": [],
   "source": [
    "from scipy.stats import multivariate_normal as mvn"
   ]
  },
  {
   "cell_type": "code",
   "execution_count": 11,
   "id": "10d77915",
   "metadata": {},
   "outputs": [],
   "source": [
    "from scipy.stats import multivariate_normal as mvn"
   ]
  },
  {
   "cell_type": "code",
   "execution_count": 12,
   "id": "ebeb0869-7f0b-4f21-be63-0234896af39f",
   "metadata": {},
   "outputs": [],
   "source": [
    "# train_fudged_probs"
   ]
  },
  {
   "cell_type": "code",
   "execution_count": 13,
   "id": "23d87ffe",
   "metadata": {},
   "outputs": [],
   "source": [
    "import matplotlib.pyplot as plt"
   ]
  },
  {
   "cell_type": "code",
   "execution_count": 14,
   "id": "f5427e43",
   "metadata": {},
   "outputs": [],
   "source": [
    "from scipy.special import expit"
   ]
  },
  {
   "cell_type": "code",
   "execution_count": 15,
   "id": "be0ee1ec",
   "metadata": {},
   "outputs": [],
   "source": [
    "# catch1[0][0]"
   ]
  },
  {
   "cell_type": "code",
   "execution_count": 16,
   "id": "fb492324",
   "metadata": {},
   "outputs": [],
   "source": [
    "# catch_train_logits_second[0]"
   ]
  },
  {
   "cell_type": "code",
   "execution_count": 17,
   "id": "0c2dbaec-3249-404a-9971-c2fc17f68356",
   "metadata": {},
   "outputs": [],
   "source": [
    "from datetime import datetime"
   ]
  },
  {
   "cell_type": "code",
   "execution_count": 18,
   "id": "9cf12935",
   "metadata": {},
   "outputs": [],
   "source": [
    "def expit(x):\n",
    "    \"\"\"Compute softmax values for each sets of scores in x.\"\"\"\n",
    "#     e_x = np.exp(x - np.max(x))\n",
    "    return 1 / (1 + np.exp(-x))"
   ]
  },
  {
   "cell_type": "code",
   "execution_count": 19,
   "id": "ef051014",
   "metadata": {},
   "outputs": [],
   "source": [
    "from scipy.stats import gamma"
   ]
  },
  {
   "cell_type": "code",
   "execution_count": 20,
   "id": "07cb7b8c-4634-46e7-ab75-e865c7116995",
   "metadata": {},
   "outputs": [],
   "source": [
    "# second_lstm[0]"
   ]
  },
  {
   "cell_type": "code",
   "execution_count": 21,
   "id": "5f0e5cb1-4067-46ba-9399-ca30548a10e1",
   "metadata": {},
   "outputs": [],
   "source": [
    "# reduction = 8\n",
    "# var_weights = 1"
   ]
  },
  {
   "cell_type": "code",
   "execution_count": 22,
   "id": "197043a4-b420-4e3b-beaf-699cd7c3db6b",
   "metadata": {},
   "outputs": [],
   "source": [
    "# cur_idx = 16\n",
    "# np.log(catch_test_probs[cur_idx]/(1-catch_test_probs[cur_idx]))"
   ]
  },
  {
   "cell_type": "code",
   "execution_count": 23,
   "id": "5ae6c226-20d1-4a84-ab7b-5c5295748826",
   "metadata": {},
   "outputs": [],
   "source": [
    "# catch_preds_df"
   ]
  },
  {
   "cell_type": "code",
   "execution_count": 24,
   "id": "75f0d45e-6b06-4e9a-8997-5217ab99ebde",
   "metadata": {},
   "outputs": [],
   "source": [
    "# ids = [i for i in range(0, catch_test_probs[cur_idx].shape[0]) if catch_test_probs[cur_idx][i] < 0.5]\n",
    "# ids_more = [i for i in range(0, catch_test_probs[cur_idx].shape[0]) if catch_test_probs[cur_idx][i] > 0.5]"
   ]
  },
  {
   "cell_type": "code",
   "execution_count": 25,
   "id": "7f15dc9d-a59f-4ef8-b93a-8244896352c5",
   "metadata": {},
   "outputs": [],
   "source": [
    "# ids_more"
   ]
  },
  {
   "cell_type": "code",
   "execution_count": 26,
   "id": "1cebfd75-9077-4677-a4f7-05c09ac9f2de",
   "metadata": {},
   "outputs": [],
   "source": [
    "import plotly.express as px"
   ]
  },
  {
   "cell_type": "code",
   "execution_count": 27,
   "id": "22ee79ea-e013-4f80-920e-10e2aeb0eb6b",
   "metadata": {},
   "outputs": [],
   "source": [
    "import seaborn as sns"
   ]
  },
  {
   "cell_type": "code",
   "execution_count": 28,
   "id": "1969c78b-c105-482a-a957-e81329037a09",
   "metadata": {},
   "outputs": [],
   "source": [
    "use_cores = 15"
   ]
  },
  {
   "cell_type": "code",
   "execution_count": null,
   "id": "e5e25a8d-c51c-4c1d-9589-5b3b01f267e7",
   "metadata": {},
   "outputs": [],
   "source": []
  },
  {
   "cell_type": "code",
   "execution_count": 29,
   "id": "b9d651b2-15fa-4542-84ab-106c958569cc",
   "metadata": {},
   "outputs": [],
   "source": [
    "# with open('first_lstm_with_doc2vec_lstm_var_0.0001_real_world.pkl', 'rb') as f:\n",
    "#     first_lstm = pickle.load(f)  "
   ]
  },
  {
   "cell_type": "code",
   "execution_count": 30,
   "id": "2f12bf17-643b-4c5b-a2b0-d1f59b99557e",
   "metadata": {},
   "outputs": [],
   "source": [
    "# threshold = 200\n",
    "# cutoff_threshold = 70"
   ]
  },
  {
   "cell_type": "code",
   "execution_count": 31,
   "id": "407034e6-5a33-4332-b56c-f85cd2377b1c",
   "metadata": {},
   "outputs": [],
   "source": [
    "# catch1 = first_lstm"
   ]
  },
  {
   "cell_type": "code",
   "execution_count": 32,
   "id": "15d0a2c3-65ed-4be6-b837-fa43a7b851a7",
   "metadata": {},
   "outputs": [],
   "source": [
    "# padding_vector = np.zeros((1, model_cbow.wv.vectors.shape[1]))\n",
    "# unknown_vector = np.zeros((1, model_cbow.wv.vectors.shape[1]))"
   ]
  },
  {
   "cell_type": "code",
   "execution_count": 33,
   "id": "b1c783f4-c2b1-437b-bbc4-b8b760335718",
   "metadata": {},
   "outputs": [],
   "source": [
    "# vocabulary = model_cbow.wv.index_to_key"
   ]
  },
  {
   "cell_type": "code",
   "execution_count": 34,
   "id": "32c3b4a1-cfc7-4e68-b60b-f5afc47c7952",
   "metadata": {},
   "outputs": [],
   "source": [
    "# other_weights = model_cbow.wv.vectors"
   ]
  },
  {
   "cell_type": "code",
   "execution_count": 35,
   "id": "dcc583b5-a4bd-4fad-ae07-378fe9f01701",
   "metadata": {},
   "outputs": [],
   "source": [
    "rate = 0.5"
   ]
  },
  {
   "cell_type": "code",
   "execution_count": 36,
   "id": "0a3353fe-5c23-44b0-adcc-f72c6e25cebe",
   "metadata": {},
   "outputs": [],
   "source": [
    "with open('..//Data_Generation//LSTM_Heavy_Dropout//heavy_dropout_first_lstm.pkl', 'rb') as f:\n",
    "    first_lstm = pickle.load(f)"
   ]
  },
  {
   "cell_type": "code",
   "execution_count": 37,
   "id": "d011ba74-c33b-465a-90ce-6a38b076f6f6",
   "metadata": {},
   "outputs": [],
   "source": [
    "catch1 = first_lstm"
   ]
  },
  {
   "cell_type": "code",
   "execution_count": 38,
   "id": "e343ffb7-87d1-4974-a13f-d9a26c8a0530",
   "metadata": {},
   "outputs": [],
   "source": [
    "# catch1[0]"
   ]
  },
  {
   "cell_type": "code",
   "execution_count": 39,
   "id": "81d40f6a-0f26-41d2-b60b-592d1c7f332a",
   "metadata": {},
   "outputs": [],
   "source": [
    "bnn_reps = 200"
   ]
  },
  {
   "cell_type": "code",
   "execution_count": 40,
   "id": "15570152-7049-4460-95b8-0c66e2c5f954",
   "metadata": {},
   "outputs": [],
   "source": [
    "from datetime import datetime"
   ]
  },
  {
   "cell_type": "code",
   "execution_count": 41,
   "id": "470ee1e6-3941-499b-a140-8f42ca9afa57",
   "metadata": {},
   "outputs": [],
   "source": [
    "model_cbow = gensim.models.word2vec.Word2Vec.load(r\"..//Data_Generation//word2vec_sg\")"
   ]
  },
  {
   "cell_type": "code",
   "execution_count": 42,
   "id": "59240ebf-b230-4429-a74c-bae2d1850f5e",
   "metadata": {},
   "outputs": [],
   "source": [
    "lr = 1e-3"
   ]
  },
  {
   "cell_type": "code",
   "execution_count": 43,
   "id": "4bfc69bb-24d1-4b2e-a0ed-d55f656b477e",
   "metadata": {},
   "outputs": [],
   "source": [
    "def attention_lstm_model(rate, training): \n",
    "    padding_vector = np.zeros((1, model_cbow.wv.vectors.shape[1]))\n",
    "    unknown_vector = np.zeros((1, model_cbow.wv.vectors.shape[1]))\n",
    "    weight_vectors = np.vstack((padding_vector, unknown_vector))\n",
    "    weight_vectors = np.vstack((weight_vectors, model_cbow.wv.vectors))\n",
    "    embedding_layer = tf.keras.layers.Embedding(len(weight_vectors),\n",
    "                            weight_vectors.shape[1],\n",
    "                            weights=[weight_vectors],\n",
    "                            mask_zero = False,\n",
    "                            trainable=False)\n",
    "\n",
    "    \n",
    "    vectorize_layer = tf.keras.layers.TextVectorization(\n",
    "                     output_mode='int',\n",
    "                     vocabulary=model_cbow.wv.index_to_key, \n",
    "                     standardize = None)\n",
    "    \n",
    "    input_layer = tf.keras.layers.Input(shape = (1,), dtype = tf.string)\n",
    "\n",
    "    vectorize = vectorize_layer(input_layer)\n",
    "\n",
    "    vectorize.shape\n",
    "\n",
    "    emb_output = embedding_layer(vectorize)\n",
    "\n",
    "    emb_output.shape\n",
    "    \n",
    "    # spatial_drop = tf.keras.layers.SpatialDropout1D(0.5)\n",
    "    \n",
    "    # spatial_out = spatial_drop(emb_output, training = training)\n",
    "\n",
    "    lstm_layer = tf.keras.layers.LSTM(25, return_sequences = True, dropout = rate)\n",
    "\n",
    "    lstm_output = lstm_layer(emb_output, training = training)\n",
    "\n",
    "#     x_a = tf.keras.layers.Dense(lstm_output.get_shape()[-1]//2, kernel_initializer = 'glorot_uniform', activation=\"tanh\", name=\"tanh_mlp\")(lstm_output) \n",
    "    \n",
    "    # x_a = tf.keras.layers.SpatialDropout1D(0.75)(lstm_output, training = training)\n",
    "    \n",
    "    x_a = tf.keras.layers.Dense(1, kernel_initializer = 'glorot_uniform', activation='linear', name=\"word-level_context\", kernel_regularizer=tf.keras.regularizers.L2())(lstm_output)\n",
    "\n",
    "    x_a = tf.keras.layers.Flatten()(x_a)\n",
    "\n",
    "    att_out = tf.keras.layers.Activation('softmax')(x_a) \n",
    "\n",
    "    x_a2 = tf.keras.layers.RepeatVector(lstm_output.get_shape()[-1])(att_out)\n",
    "\n",
    "    x_a2 = tf.keras.layers.Permute([2,1])(x_a2)\n",
    "\n",
    "    out = tf.keras.layers.Multiply()([lstm_output,x_a2])\n",
    "    \n",
    "    out = tf.keras.layers.Lambda(lambda x : tf.math.reduce_sum(x, axis = 1), name='expectation_over_words')(out)\n",
    "    \n",
    "    dropout_layer = tf.keras.layers.Dropout(rate)(out, training = training)\n",
    "    \n",
    "    # out = dropout_layer(out)\n",
    "\n",
    "    pred_head = tf.keras.layers.Dense(1, kernel_regularizer=tf.keras.regularizers.L2())\n",
    "\n",
    "    pred_output = pred_head(dropout_layer)\n",
    "\n",
    "    model = tf.keras.models.Model(input_layer, pred_output)\n",
    "    \n",
    "    model.compile(loss = tf.keras.losses.BinaryCrossentropy(from_logits=True), \n",
    "                 optimizer = tf.keras.optimizers.Adam(learning_rate = lr), \n",
    "                 metrics=tf.keras.metrics.BinaryAccuracy())\n",
    "    \n",
    "    return model"
   ]
  },
  {
   "cell_type": "code",
   "execution_count": 44,
   "id": "f4b3ded5-bbb9-4712-9695-85fbf12939a9",
   "metadata": {},
   "outputs": [],
   "source": [
    "rate = 0.5"
   ]
  },
  {
   "cell_type": "code",
   "execution_count": 45,
   "id": "a7351dc4-5d8e-4792-be64-352d7f2ec01f",
   "metadata": {},
   "outputs": [],
   "source": [
    "# def attention_lstm_model_less(training): \n",
    "#     padding_vector = np.zeros((1, model_cbow.wv.vectors.shape[1]))\n",
    "#     unknown_vector = np.zeros((1, model_cbow.wv.vectors.shape[1]))\n",
    "#     weight_vectors = np.vstack((padding_vector, unknown_vector))\n",
    "#     weight_vectors = np.vstack((weight_vectors, model_cbow.wv.vectors))\n",
    "#     embedding_layer = tf.keras.layers.Embedding(len(weight_vectors),\n",
    "#                             weight_vectors.shape[1],\n",
    "#                             weights=[weight_vectors],\n",
    "#                             mask_zero = False,\n",
    "#                             trainable=False)\n",
    "\n",
    "    \n",
    "#     vectorize_layer = tf.keras.layers.TextVectorization(\n",
    "#                      output_mode='int',\n",
    "#                      vocabulary=model_cbow.wv.index_to_key, \n",
    "#                      standardize = None)\n",
    "    \n",
    "#     input_layer = tf.keras.layers.Input(shape = (1,), dtype = tf.string)\n",
    "\n",
    "#     vectorize = vectorize_layer(input_layer)\n",
    "\n",
    "#     vectorize.shape\n",
    "\n",
    "#     emb_output = embedding_layer(vectorize)\n",
    "\n",
    "#     emb_output.shape\n",
    "    \n",
    "#     spatial_drop = tf.keras.layers.SpatialDropout1D(0.5)\n",
    "    \n",
    "#     spatial_out = spatial_drop(emb_output)\n",
    "\n",
    "#     lstm_layer = tf.keras.layers.LSTM(25, return_sequences = True, dropout = rate)\n",
    "\n",
    "#     lstm_output = lstm_layer(spatial_out, training = training)\n",
    "\n",
    "# #     x_a = tf.keras.layers.Dense(lstm_output.get_shape()[-1]//2, kernel_initializer = 'glorot_uniform', activation=\"tanh\", name=\"tanh_mlp\")(lstm_output) \n",
    "    \n",
    "#     # x_a = tf.keras.layers.SpatialDropout1D(0.75)(lstm_output, training = training)\n",
    "    \n",
    "#     x_a = tf.keras.layers.Dense(1, kernel_initializer = 'glorot_uniform', activation='linear', name=\"word-level_context\", kernel_regularizer=tf.keras.regularizers.L2())(lstm_output)\n",
    "\n",
    "#     x_a = tf.keras.layers.Flatten()(x_a)\n",
    "\n",
    "#     att_out = tf.keras.layers.Activation('softmax')(x_a) \n",
    "\n",
    "#     x_a2 = tf.keras.layers.RepeatVector(lstm_output.get_shape()[-1])(att_out)\n",
    "\n",
    "#     x_a2 = tf.keras.layers.Permute([2,1])(x_a2)\n",
    "\n",
    "#     out = tf.keras.layers.Multiply()([lstm_output,x_a2])\n",
    "    \n",
    "#     out = tf.keras.layers.Lambda(lambda x : tf.math.reduce_sum(x, axis = 1), name='expectation_over_words')(out)\n",
    "    \n",
    "#     dropout_layer = tf.keras.layers.Dropout(rate)(out)\n",
    "\n",
    "#     pred_head = tf.keras.layers.Dense(1, kernel_regularizer=tf.keras.regularizers.L2())\n",
    "\n",
    "#     pred_output = pred_head(dropout_layer)\n",
    "\n",
    "#     model = tf.keras.models.Model(input_layer, pred_output)\n",
    "    \n",
    "#     model.compile(loss = tf.keras.losses.BinaryCrossentropy(from_logits=True), \n",
    "#                  optimizer = tf.keras.optimizers.Adam(learning_rate = lr), \n",
    "#                  metrics=tf.keras.metrics.BinaryAccuracy())\n",
    "    \n",
    "#     return model"
   ]
  },
  {
   "cell_type": "code",
   "execution_count": 46,
   "id": "75c12e9a-898a-45db-9ee2-eb652adfbee1",
   "metadata": {},
   "outputs": [],
   "source": [
    "def rep_one_real_world(idx, inflation_factor = 0.2, cutoff = 100): \n",
    "\n",
    "#     from scipy.special import expit\n",
    "    patience_smaller = 0\n",
    "# patience_bigger = 0\n",
    "\n",
    "#     best_train_acc = 0\n",
    "#     best_valid_acc = 1000\n",
    "\n",
    "#     best_valid_mae = 10\n",
    "    \n",
    "    best_train_mae = 100\n",
    "    \n",
    "    X_train_logits = np.vstack((catch1[idx][0], catch1[idx][1]))\n",
    "#     X_train_logits = catch_train_logits_second[idx]\n",
    "    \n",
    "    \n",
    "    X_test_logits = catch1[idx][2]\n",
    "    \n",
    "    ## create training batch chunks\n",
    "    # train_idx = list(range(0, X_train_logits.shape[0]))\n",
    "    # batch_chunks = [train_idx[i:i+batch_size] for i in range(0,len(train_idx),batch_size)]\n",
    "\n",
    "#     y_train = catch[idx][3].reshape(-1,1)\n",
    "\n",
    "#     y_valid = catch[idx][4].reshape(-1,1)\n",
    "\n",
    "#     y_test = catch[idx][5].reshape(-1,1)\n",
    "\n",
    "    \n",
    "    train_valid_seqs = np.vstack((catch[idx][0], catch[idx][1]))\n",
    "    # train_valid_labels = np.vstack((y_train, y_valid))\n",
    "    \n",
    "    test_seqs = catch[idx][2]\n",
    "\n",
    "    \n",
    "    start = datetime.now()\n",
    "    \n",
    "    base_model = tf.keras.models.load_model(\"..//Data_Generation//LSTM_Heavy_Dropout//Real_World_LSTM_Models_Heavy_Dropout\" + \"//\" + \"Model_\" + str(idx))\n",
    "    ens_model = attention_lstm_model(rate, True)\n",
    "    ens_model.set_weights(base_model.get_weights())\n",
    "    \n",
    "            \n",
    "    all_preds1 = [np.array(ens_model(train_valid_seqs)) for i in (range(0, bnn_reps))]\n",
    "    all_preds1 = np.hstack(all_preds1)\n",
    "\n",
    "    all_preds2 = expit(all_preds1)\n",
    "    all_preds3 = all_preds2.mean(1).reshape(-1,1)\n",
    "        \n",
    "        \n",
    "\n",
    "    li = np.percentile(all_preds2, axis = 1, q = (2.5, 97.5))[0,:].reshape(-1,1)\n",
    "            \n",
    "    ui = np.percentile(all_preds2, axis = 1, q = (2.5, 97.5))[1,:].reshape(-1,1)\n",
    "            \n",
    "    width = ui - li\n",
    "            \n",
    "    avg_width_train = np.mean(width)\n",
    "        \n",
    "    interim = expit(X_train_logits)\n",
    "        \n",
    "    train_mae = np.mean(np.abs(interim.ravel() - all_preds3.ravel()))\n",
    "        \n",
    "            \n",
    "    temp = interim\n",
    "            \n",
    "    ind = (temp >= li) & (temp <= ui)\n",
    "            \n",
    "    coverage_train= np.mean(ind.ravel())  \n",
    "            \n",
    "            \n",
    "    all_preds1 = [np.array(ens_model(test_seqs)) for i in (range(0, bnn_reps))]\n",
    "    all_preds1 = np.hstack(all_preds1)\n",
    "    all_preds2 = expit(all_preds1)\n",
    "    all_preds3 = all_preds2.mean(1).reshape(-1,1)\n",
    "            \n",
    "    li = np.percentile(all_preds2, axis = 1, q = (2.5, 97.5))[0,:].reshape(-1,1)\n",
    "            \n",
    "    ui = np.percentile(all_preds2, axis = 1, q = (2.5, 97.5))[1,:].reshape(-1,1)\n",
    "            \n",
    "    width = ui - li\n",
    "            \n",
    "    avg_width = np.mean(width)\n",
    "        \n",
    "    catch_test_probs = expit(X_test_logits)\n",
    "            \n",
    "    ind_test = (catch_test_probs >= li) & (catch_test_probs <= ui)\n",
    "               \n",
    " \n",
    "    coverage_test = np.mean(ind_test.ravel())    \n",
    "    \n",
    "    test_mae = np.mean(np.abs(catch_test_probs.ravel() - all_preds3.ravel()))\n",
    "            \n",
    "\n",
    "            \n",
    "    end = datetime.now()      \n",
    "    total = (end-start)\n",
    "    time_taken = total.seconds/60.0\n",
    "            \n",
    "            \n",
    "    print(test_mae,coverage_test, avg_width, flush = True)\n",
    "    return train_mae, test_mae, coverage_train, avg_width_train, coverage_test, avg_width, time_taken, all_preds2\n",
    "        \n",
    "    # print(\"something went awry\", flush = True)"
   ]
  },
  {
   "cell_type": "code",
   "execution_count": 47,
   "id": "7761cf2f-2827-4059-83b6-a97d6f60d760",
   "metadata": {},
   "outputs": [],
   "source": [
    "# rep_one_real_world(0, inflation_factor = 0.2, cutoff = 100)"
   ]
  },
  {
   "cell_type": "code",
   "execution_count": 48,
   "id": "605540da-2ad3-4d18-b8a4-93dd7c052f20",
   "metadata": {},
   "outputs": [],
   "source": [
    "# threshold = 10"
   ]
  },
  {
   "cell_type": "code",
   "execution_count": 49,
   "id": "138d0228-17b7-4019-9abe-458206e8a7df",
   "metadata": {},
   "outputs": [],
   "source": [
    "# cutoff_threshold = 10"
   ]
  },
  {
   "cell_type": "code",
   "execution_count": 50,
   "id": "879e0642-2387-46a1-8ea4-1e42e9e46819",
   "metadata": {},
   "outputs": [],
   "source": [
    "# best_train_mae, best_test_mae, best_train_coverage, best_train_width, best_test_coverage, best_test_width,  exit_iter_no_thresh,time_taken,  best_test_preds = rep_one_real_world(30)"
   ]
  },
  {
   "cell_type": "code",
   "execution_count": 51,
   "id": "7885566c-6100-4212-b604-bdffbb97b025",
   "metadata": {},
   "outputs": [],
   "source": [
    "# best_train_mae, best_test_mae, best_train_coverage, best_train_width, best_test_coverage, best_test_width,  exit_iter_no_thresh, time_taken"
   ]
  },
  {
   "cell_type": "code",
   "execution_count": 52,
   "id": "e294790b-8dc6-4f99-ba83-dfcea5f75845",
   "metadata": {},
   "outputs": [],
   "source": [
    "reps = 50"
   ]
  },
  {
   "cell_type": "code",
   "execution_count": 53,
   "id": "99a723c6",
   "metadata": {},
   "outputs": [
    {
     "name": "stderr",
     "output_type": "stream",
     "text": [
      "[Parallel(n_jobs=15)]: Using backend LokyBackend with 15 concurrent workers.\n"
     ]
    },
    {
     "name": "stdout",
     "output_type": "stream",
     "text": [
      "0.070625976 1.0 0.41547619635239247\n",
      "0.057489626 1.0 0.4190110086230562\n"
     ]
    },
    {
     "name": "stderr",
     "output_type": "stream",
     "text": [
      "[Parallel(n_jobs=15)]: Done   2 tasks      | elapsed:   30.0s\n"
     ]
    },
    {
     "name": "stdout",
     "output_type": "stream",
     "text": [
      "0.05469524 1.0 0.4350487064570189\n",
      "0.04282079 1.0 0.4266475400014315\n",
      "0.08536597 1.0 0.5206922114797635\n",
      "0.07144584 1.0 0.45870212975423785\n",
      "0.11536139 1.0 0.6228907748707571\n",
      "0.107653506 1.0 0.5536658052937128\n",
      "0.10336678 1.0 0.7966342040483142\n",
      "0.050107207 1.0 0.4266899299807847\n"
     ]
    },
    {
     "name": "stderr",
     "output_type": "stream",
     "text": [
      "[Parallel(n_jobs=15)]: Done  11 tasks      | elapsed:   37.6s\n"
     ]
    },
    {
     "name": "stdout",
     "output_type": "stream",
     "text": [
      "0.032165147 1.0 0.30731491634505803\n",
      "0.057074077 1.0 0.41534745336975903\n",
      "0.067626595 1.0 0.4775734179769643\n",
      "0.097320504 1.0 0.7258494171022902\n",
      "0.06888641 1.0 0.4812321597710253\n",
      "0.12304203 1.0 0.7219961708382471\n",
      "0.060613442 1.0 0.5256359017686919\n",
      "0.05800879 1.0 0.4102735225926154\n",
      "0.064666174 1.0 0.3645547968917527\n",
      "0.044580817 1.0 0.36142876287922265\n"
     ]
    },
    {
     "name": "stderr",
     "output_type": "stream",
     "text": [
      "[Parallel(n_jobs=15)]: Done  20 tasks      | elapsed:  1.0min\n"
     ]
    },
    {
     "name": "stdout",
     "output_type": "stream",
     "text": [
      "0.10317738 1.0 0.5540509444632334\n",
      "0.0733328 1.0 0.4386686544283293\n",
      "0.052755795 1.0 0.3929378618486226\n",
      "0.11881311 1.0 0.4829041898832661\n",
      "0.06922229 1.0 0.3947543959715404\n",
      "0.047579736 1.0 0.3397761673200876\n",
      "0.10525931 1.0 0.611363175441511\n"
     ]
    },
    {
     "name": "stderr",
     "output_type": "stream",
     "text": [
      "[Parallel(n_jobs=15)]: Done  27 out of  50 | elapsed:  1.1min remaining:   58.0s\n"
     ]
    },
    {
     "name": "stdout",
     "output_type": "stream",
     "text": [
      "0.082086466 1.0 0.49356178523157757\n",
      "0.051244322 1.0 0.424127947119996\n",
      "0.04352727 1.0 0.37296852301806216\n",
      "0.08034088 1.0 0.5049968512437772\n",
      "0.10547566 1.0 0.6179398960288383\n",
      "0.04844538 1.0 0.44404000607319205\n"
     ]
    },
    {
     "name": "stderr",
     "output_type": "stream",
     "text": [
      "[Parallel(n_jobs=15)]: Done  33 out of  50 | elapsed:  1.4min remaining:   44.4s\n"
     ]
    },
    {
     "name": "stdout",
     "output_type": "stream",
     "text": [
      "0.05619518 1.0 0.38001789716654466\n",
      "0.058073092 1.0 0.4515772054932313\n",
      "0.054760553 1.0 0.35998705288511706\n",
      "0.08964728 1.0 0.5713877196889371\n",
      "0.06273809 1.0 0.37573259996715935\n",
      "0.0978335 1.0 0.6465783792780713\n"
     ]
    },
    {
     "name": "stderr",
     "output_type": "stream",
     "text": [
      "[Parallel(n_jobs=15)]: Done  39 out of  50 | elapsed:  1.6min remaining:   27.2s\n"
     ]
    },
    {
     "name": "stdout",
     "output_type": "stream",
     "text": [
      "0.09900327 1.0 0.5550798723939807\n",
      "0.07994206 1.0 0.32382537538796896\n",
      "0.069011614 1.0 0.48696835002047023\n",
      "0.07792461 1.0 0.46257924725068733\n",
      "0.3308993 1.0 0.8788938764848354\n",
      "0.057279695 1.0 0.4539360489638057\n"
     ]
    },
    {
     "name": "stderr",
     "output_type": "stream",
     "text": [
      "[Parallel(n_jobs=15)]: Done  45 out of  50 | elapsed:  1.8min remaining:   11.7s\n"
     ]
    },
    {
     "name": "stdout",
     "output_type": "stream",
     "text": [
      "0.053273536 1.0 0.39736190440598884\n",
      "0.027417423 1.0 0.28400422185659413\n",
      "0.14063555 1.0 0.6743432784278413\n",
      "0.05251048 1.0 0.3842501312989044\n",
      "0.071946375 1.0 0.5927414668723942\n"
     ]
    },
    {
     "name": "stderr",
     "output_type": "stream",
     "text": [
      "[Parallel(n_jobs=15)]: Done  50 out of  50 | elapsed:  2.0min finished\n"
     ]
    }
   ],
   "source": [
    "catch_coverages = Parallel(n_jobs=use_cores, verbose = 10, backend = \"loky\")(delayed(rep_one_real_world)(i) for i in range(reps))"
   ]
  },
  {
   "cell_type": "code",
   "execution_count": 54,
   "id": "1e8200e5-b784-49c8-9ae9-fd7ee5a2e71d",
   "metadata": {},
   "outputs": [],
   "source": [
    "# catch_coverages"
   ]
  },
  {
   "cell_type": "code",
   "execution_count": 55,
   "id": "647980a7-9ae3-4c5c-b25c-2e37b6a84679",
   "metadata": {},
   "outputs": [],
   "source": [
    "check = pd.DataFrame(catch_coverages).iloc[:, :-1]"
   ]
  },
  {
   "cell_type": "code",
   "execution_count": 56,
   "id": "e45525f0-de06-47bf-8cca-da34b95705f4",
   "metadata": {},
   "outputs": [
    {
     "data": {
      "text/html": [
       "<div>\n",
       "<style scoped>\n",
       "    .dataframe tbody tr th:only-of-type {\n",
       "        vertical-align: middle;\n",
       "    }\n",
       "\n",
       "    .dataframe tbody tr th {\n",
       "        vertical-align: top;\n",
       "    }\n",
       "\n",
       "    .dataframe thead th {\n",
       "        text-align: right;\n",
       "    }\n",
       "</style>\n",
       "<table border=\"1\" class=\"dataframe\">\n",
       "  <thead>\n",
       "    <tr style=\"text-align: right;\">\n",
       "      <th></th>\n",
       "      <th>0</th>\n",
       "      <th>1</th>\n",
       "      <th>2</th>\n",
       "      <th>3</th>\n",
       "      <th>4</th>\n",
       "      <th>5</th>\n",
       "      <th>6</th>\n",
       "    </tr>\n",
       "  </thead>\n",
       "  <tbody>\n",
       "    <tr>\n",
       "      <th>0</th>\n",
       "      <td>0.081023</td>\n",
       "      <td>0.042821</td>\n",
       "      <td>1.0</td>\n",
       "      <td>0.531805</td>\n",
       "      <td>1.0</td>\n",
       "      <td>0.426648</td>\n",
       "      <td>0.483333</td>\n",
       "    </tr>\n",
       "    <tr>\n",
       "      <th>1</th>\n",
       "      <td>0.045782</td>\n",
       "      <td>0.067627</td>\n",
       "      <td>1.0</td>\n",
       "      <td>0.405565</td>\n",
       "      <td>1.0</td>\n",
       "      <td>0.477573</td>\n",
       "      <td>0.583333</td>\n",
       "    </tr>\n",
       "    <tr>\n",
       "      <th>2</th>\n",
       "      <td>0.054489</td>\n",
       "      <td>0.057490</td>\n",
       "      <td>1.0</td>\n",
       "      <td>0.402242</td>\n",
       "      <td>1.0</td>\n",
       "      <td>0.419011</td>\n",
       "      <td>0.450000</td>\n",
       "    </tr>\n",
       "    <tr>\n",
       "      <th>3</th>\n",
       "      <td>0.081558</td>\n",
       "      <td>0.070626</td>\n",
       "      <td>1.0</td>\n",
       "      <td>0.506346</td>\n",
       "      <td>1.0</td>\n",
       "      <td>0.415476</td>\n",
       "      <td>0.416667</td>\n",
       "    </tr>\n",
       "    <tr>\n",
       "      <th>4</th>\n",
       "      <td>0.053569</td>\n",
       "      <td>0.032165</td>\n",
       "      <td>1.0</td>\n",
       "      <td>0.366066</td>\n",
       "      <td>1.0</td>\n",
       "      <td>0.307315</td>\n",
       "      <td>0.566667</td>\n",
       "    </tr>\n",
       "    <tr>\n",
       "      <th>5</th>\n",
       "      <td>0.044875</td>\n",
       "      <td>0.057074</td>\n",
       "      <td>1.0</td>\n",
       "      <td>0.386321</td>\n",
       "      <td>1.0</td>\n",
       "      <td>0.415347</td>\n",
       "      <td>0.566667</td>\n",
       "    </tr>\n",
       "    <tr>\n",
       "      <th>6</th>\n",
       "      <td>0.084530</td>\n",
       "      <td>0.085366</td>\n",
       "      <td>1.0</td>\n",
       "      <td>0.553923</td>\n",
       "      <td>1.0</td>\n",
       "      <td>0.520692</td>\n",
       "      <td>0.483333</td>\n",
       "    </tr>\n",
       "    <tr>\n",
       "      <th>7</th>\n",
       "      <td>0.045815</td>\n",
       "      <td>0.054695</td>\n",
       "      <td>1.0</td>\n",
       "      <td>0.361976</td>\n",
       "      <td>1.0</td>\n",
       "      <td>0.435049</td>\n",
       "      <td>0.483333</td>\n",
       "    </tr>\n",
       "    <tr>\n",
       "      <th>8</th>\n",
       "      <td>0.063535</td>\n",
       "      <td>0.050107</td>\n",
       "      <td>1.0</td>\n",
       "      <td>0.475354</td>\n",
       "      <td>1.0</td>\n",
       "      <td>0.426690</td>\n",
       "      <td>0.533333</td>\n",
       "    </tr>\n",
       "    <tr>\n",
       "      <th>9</th>\n",
       "      <td>0.076640</td>\n",
       "      <td>0.107654</td>\n",
       "      <td>1.0</td>\n",
       "      <td>0.480341</td>\n",
       "      <td>1.0</td>\n",
       "      <td>0.553666</td>\n",
       "      <td>0.483333</td>\n",
       "    </tr>\n",
       "    <tr>\n",
       "      <th>10</th>\n",
       "      <td>0.080538</td>\n",
       "      <td>0.071446</td>\n",
       "      <td>1.0</td>\n",
       "      <td>0.489390</td>\n",
       "      <td>1.0</td>\n",
       "      <td>0.458702</td>\n",
       "      <td>0.483333</td>\n",
       "    </tr>\n",
       "    <tr>\n",
       "      <th>11</th>\n",
       "      <td>0.067327</td>\n",
       "      <td>0.068886</td>\n",
       "      <td>1.0</td>\n",
       "      <td>0.437479</td>\n",
       "      <td>1.0</td>\n",
       "      <td>0.481232</td>\n",
       "      <td>0.583333</td>\n",
       "    </tr>\n",
       "    <tr>\n",
       "      <th>12</th>\n",
       "      <td>0.074468</td>\n",
       "      <td>0.097321</td>\n",
       "      <td>1.0</td>\n",
       "      <td>0.496576</td>\n",
       "      <td>1.0</td>\n",
       "      <td>0.725849</td>\n",
       "      <td>0.583333</td>\n",
       "    </tr>\n",
       "    <tr>\n",
       "      <th>13</th>\n",
       "      <td>0.086365</td>\n",
       "      <td>0.103367</td>\n",
       "      <td>1.0</td>\n",
       "      <td>0.559674</td>\n",
       "      <td>1.0</td>\n",
       "      <td>0.796634</td>\n",
       "      <td>0.533333</td>\n",
       "    </tr>\n",
       "    <tr>\n",
       "      <th>14</th>\n",
       "      <td>0.068689</td>\n",
       "      <td>0.115361</td>\n",
       "      <td>1.0</td>\n",
       "      <td>0.485304</td>\n",
       "      <td>1.0</td>\n",
       "      <td>0.622891</td>\n",
       "      <td>0.483333</td>\n",
       "    </tr>\n",
       "    <tr>\n",
       "      <th>15</th>\n",
       "      <td>0.077602</td>\n",
       "      <td>0.060613</td>\n",
       "      <td>1.0</td>\n",
       "      <td>0.518489</td>\n",
       "      <td>1.0</td>\n",
       "      <td>0.525636</td>\n",
       "      <td>0.450000</td>\n",
       "    </tr>\n",
       "    <tr>\n",
       "      <th>16</th>\n",
       "      <td>0.088714</td>\n",
       "      <td>0.123042</td>\n",
       "      <td>1.0</td>\n",
       "      <td>0.480983</td>\n",
       "      <td>1.0</td>\n",
       "      <td>0.721996</td>\n",
       "      <td>0.416667</td>\n",
       "    </tr>\n",
       "    <tr>\n",
       "      <th>17</th>\n",
       "      <td>0.089359</td>\n",
       "      <td>0.103177</td>\n",
       "      <td>1.0</td>\n",
       "      <td>0.593499</td>\n",
       "      <td>1.0</td>\n",
       "      <td>0.554051</td>\n",
       "      <td>0.483333</td>\n",
       "    </tr>\n",
       "    <tr>\n",
       "      <th>18</th>\n",
       "      <td>0.040494</td>\n",
       "      <td>0.044581</td>\n",
       "      <td>1.0</td>\n",
       "      <td>0.360875</td>\n",
       "      <td>1.0</td>\n",
       "      <td>0.361429</td>\n",
       "      <td>0.483333</td>\n",
       "    </tr>\n",
       "    <tr>\n",
       "      <th>19</th>\n",
       "      <td>0.090545</td>\n",
       "      <td>0.118813</td>\n",
       "      <td>1.0</td>\n",
       "      <td>0.566790</td>\n",
       "      <td>1.0</td>\n",
       "      <td>0.482904</td>\n",
       "      <td>0.533333</td>\n",
       "    </tr>\n",
       "    <tr>\n",
       "      <th>20</th>\n",
       "      <td>0.072575</td>\n",
       "      <td>0.073333</td>\n",
       "      <td>1.0</td>\n",
       "      <td>0.512432</td>\n",
       "      <td>1.0</td>\n",
       "      <td>0.438669</td>\n",
       "      <td>0.533333</td>\n",
       "    </tr>\n",
       "    <tr>\n",
       "      <th>21</th>\n",
       "      <td>0.065216</td>\n",
       "      <td>0.058009</td>\n",
       "      <td>1.0</td>\n",
       "      <td>0.485510</td>\n",
       "      <td>1.0</td>\n",
       "      <td>0.410274</td>\n",
       "      <td>0.416667</td>\n",
       "    </tr>\n",
       "    <tr>\n",
       "      <th>22</th>\n",
       "      <td>0.067471</td>\n",
       "      <td>0.064666</td>\n",
       "      <td>1.0</td>\n",
       "      <td>0.562899</td>\n",
       "      <td>1.0</td>\n",
       "      <td>0.364555</td>\n",
       "      <td>0.450000</td>\n",
       "    </tr>\n",
       "    <tr>\n",
       "      <th>23</th>\n",
       "      <td>0.055724</td>\n",
       "      <td>0.052756</td>\n",
       "      <td>1.0</td>\n",
       "      <td>0.431569</td>\n",
       "      <td>1.0</td>\n",
       "      <td>0.392938</td>\n",
       "      <td>0.483333</td>\n",
       "    </tr>\n",
       "    <tr>\n",
       "      <th>24</th>\n",
       "      <td>0.078527</td>\n",
       "      <td>0.069222</td>\n",
       "      <td>1.0</td>\n",
       "      <td>0.523132</td>\n",
       "      <td>1.0</td>\n",
       "      <td>0.394754</td>\n",
       "      <td>0.533333</td>\n",
       "    </tr>\n",
       "    <tr>\n",
       "      <th>25</th>\n",
       "      <td>0.062859</td>\n",
       "      <td>0.082086</td>\n",
       "      <td>1.0</td>\n",
       "      <td>0.420130</td>\n",
       "      <td>1.0</td>\n",
       "      <td>0.493562</td>\n",
       "      <td>0.583333</td>\n",
       "    </tr>\n",
       "    <tr>\n",
       "      <th>26</th>\n",
       "      <td>0.050349</td>\n",
       "      <td>0.043527</td>\n",
       "      <td>1.0</td>\n",
       "      <td>0.385785</td>\n",
       "      <td>1.0</td>\n",
       "      <td>0.372969</td>\n",
       "      <td>0.583333</td>\n",
       "    </tr>\n",
       "    <tr>\n",
       "      <th>27</th>\n",
       "      <td>0.059313</td>\n",
       "      <td>0.051244</td>\n",
       "      <td>1.0</td>\n",
       "      <td>0.429779</td>\n",
       "      <td>1.0</td>\n",
       "      <td>0.424128</td>\n",
       "      <td>0.583333</td>\n",
       "    </tr>\n",
       "    <tr>\n",
       "      <th>28</th>\n",
       "      <td>0.037322</td>\n",
       "      <td>0.047580</td>\n",
       "      <td>1.0</td>\n",
       "      <td>0.348502</td>\n",
       "      <td>1.0</td>\n",
       "      <td>0.339776</td>\n",
       "      <td>0.483333</td>\n",
       "    </tr>\n",
       "    <tr>\n",
       "      <th>29</th>\n",
       "      <td>0.059421</td>\n",
       "      <td>0.105259</td>\n",
       "      <td>1.0</td>\n",
       "      <td>0.453718</td>\n",
       "      <td>1.0</td>\n",
       "      <td>0.611363</td>\n",
       "      <td>0.483333</td>\n",
       "    </tr>\n",
       "    <tr>\n",
       "      <th>30</th>\n",
       "      <td>0.076611</td>\n",
       "      <td>0.080341</td>\n",
       "      <td>1.0</td>\n",
       "      <td>0.484692</td>\n",
       "      <td>1.0</td>\n",
       "      <td>0.504997</td>\n",
       "      <td>0.416667</td>\n",
       "    </tr>\n",
       "    <tr>\n",
       "      <th>31</th>\n",
       "      <td>0.064793</td>\n",
       "      <td>0.048445</td>\n",
       "      <td>1.0</td>\n",
       "      <td>0.485254</td>\n",
       "      <td>1.0</td>\n",
       "      <td>0.444040</td>\n",
       "      <td>0.500000</td>\n",
       "    </tr>\n",
       "    <tr>\n",
       "      <th>32</th>\n",
       "      <td>0.080478</td>\n",
       "      <td>0.105476</td>\n",
       "      <td>1.0</td>\n",
       "      <td>0.545003</td>\n",
       "      <td>1.0</td>\n",
       "      <td>0.617940</td>\n",
       "      <td>0.400000</td>\n",
       "    </tr>\n",
       "    <tr>\n",
       "      <th>33</th>\n",
       "      <td>0.083239</td>\n",
       "      <td>0.056195</td>\n",
       "      <td>1.0</td>\n",
       "      <td>0.525852</td>\n",
       "      <td>1.0</td>\n",
       "      <td>0.380018</td>\n",
       "      <td>0.433333</td>\n",
       "    </tr>\n",
       "    <tr>\n",
       "      <th>34</th>\n",
       "      <td>0.055621</td>\n",
       "      <td>0.097833</td>\n",
       "      <td>1.0</td>\n",
       "      <td>0.474554</td>\n",
       "      <td>1.0</td>\n",
       "      <td>0.646578</td>\n",
       "      <td>0.566667</td>\n",
       "    </tr>\n",
       "    <tr>\n",
       "      <th>35</th>\n",
       "      <td>0.083124</td>\n",
       "      <td>0.058073</td>\n",
       "      <td>1.0</td>\n",
       "      <td>0.515923</td>\n",
       "      <td>1.0</td>\n",
       "      <td>0.451577</td>\n",
       "      <td>0.433333</td>\n",
       "    </tr>\n",
       "    <tr>\n",
       "      <th>36</th>\n",
       "      <td>0.082196</td>\n",
       "      <td>0.062738</td>\n",
       "      <td>1.0</td>\n",
       "      <td>0.512674</td>\n",
       "      <td>1.0</td>\n",
       "      <td>0.375733</td>\n",
       "      <td>0.500000</td>\n",
       "    </tr>\n",
       "    <tr>\n",
       "      <th>37</th>\n",
       "      <td>0.075364</td>\n",
       "      <td>0.054761</td>\n",
       "      <td>1.0</td>\n",
       "      <td>0.514859</td>\n",
       "      <td>1.0</td>\n",
       "      <td>0.359987</td>\n",
       "      <td>0.450000</td>\n",
       "    </tr>\n",
       "    <tr>\n",
       "      <th>38</th>\n",
       "      <td>0.083943</td>\n",
       "      <td>0.089647</td>\n",
       "      <td>1.0</td>\n",
       "      <td>0.529434</td>\n",
       "      <td>1.0</td>\n",
       "      <td>0.571388</td>\n",
       "      <td>0.483333</td>\n",
       "    </tr>\n",
       "    <tr>\n",
       "      <th>39</th>\n",
       "      <td>0.118225</td>\n",
       "      <td>0.079942</td>\n",
       "      <td>1.0</td>\n",
       "      <td>0.614046</td>\n",
       "      <td>1.0</td>\n",
       "      <td>0.323825</td>\n",
       "      <td>0.516667</td>\n",
       "    </tr>\n",
       "    <tr>\n",
       "      <th>40</th>\n",
       "      <td>0.161439</td>\n",
       "      <td>0.330899</td>\n",
       "      <td>1.0</td>\n",
       "      <td>0.710664</td>\n",
       "      <td>1.0</td>\n",
       "      <td>0.878894</td>\n",
       "      <td>0.583333</td>\n",
       "    </tr>\n",
       "    <tr>\n",
       "      <th>41</th>\n",
       "      <td>0.074605</td>\n",
       "      <td>0.099003</td>\n",
       "      <td>1.0</td>\n",
       "      <td>0.484435</td>\n",
       "      <td>1.0</td>\n",
       "      <td>0.555080</td>\n",
       "      <td>0.483333</td>\n",
       "    </tr>\n",
       "    <tr>\n",
       "      <th>42</th>\n",
       "      <td>0.067587</td>\n",
       "      <td>0.069012</td>\n",
       "      <td>1.0</td>\n",
       "      <td>0.531486</td>\n",
       "      <td>1.0</td>\n",
       "      <td>0.486968</td>\n",
       "      <td>0.483333</td>\n",
       "    </tr>\n",
       "    <tr>\n",
       "      <th>43</th>\n",
       "      <td>0.059706</td>\n",
       "      <td>0.077925</td>\n",
       "      <td>1.0</td>\n",
       "      <td>0.502449</td>\n",
       "      <td>1.0</td>\n",
       "      <td>0.462579</td>\n",
       "      <td>0.483333</td>\n",
       "    </tr>\n",
       "    <tr>\n",
       "      <th>44</th>\n",
       "      <td>0.053828</td>\n",
       "      <td>0.057280</td>\n",
       "      <td>1.0</td>\n",
       "      <td>0.400002</td>\n",
       "      <td>1.0</td>\n",
       "      <td>0.453936</td>\n",
       "      <td>0.533333</td>\n",
       "    </tr>\n",
       "    <tr>\n",
       "      <th>45</th>\n",
       "      <td>0.043451</td>\n",
       "      <td>0.027417</td>\n",
       "      <td>1.0</td>\n",
       "      <td>0.315096</td>\n",
       "      <td>1.0</td>\n",
       "      <td>0.284004</td>\n",
       "      <td>0.466667</td>\n",
       "    </tr>\n",
       "    <tr>\n",
       "      <th>46</th>\n",
       "      <td>0.062150</td>\n",
       "      <td>0.053274</td>\n",
       "      <td>1.0</td>\n",
       "      <td>0.425511</td>\n",
       "      <td>1.0</td>\n",
       "      <td>0.397362</td>\n",
       "      <td>0.416667</td>\n",
       "    </tr>\n",
       "    <tr>\n",
       "      <th>47</th>\n",
       "      <td>0.098146</td>\n",
       "      <td>0.140636</td>\n",
       "      <td>1.0</td>\n",
       "      <td>0.602271</td>\n",
       "      <td>1.0</td>\n",
       "      <td>0.674343</td>\n",
       "      <td>0.433333</td>\n",
       "    </tr>\n",
       "    <tr>\n",
       "      <th>48</th>\n",
       "      <td>0.044844</td>\n",
       "      <td>0.052510</td>\n",
       "      <td>1.0</td>\n",
       "      <td>0.400567</td>\n",
       "      <td>1.0</td>\n",
       "      <td>0.384250</td>\n",
       "      <td>0.466667</td>\n",
       "    </tr>\n",
       "    <tr>\n",
       "      <th>49</th>\n",
       "      <td>0.066231</td>\n",
       "      <td>0.071946</td>\n",
       "      <td>1.0</td>\n",
       "      <td>0.457278</td>\n",
       "      <td>1.0</td>\n",
       "      <td>0.592741</td>\n",
       "      <td>0.500000</td>\n",
       "    </tr>\n",
       "  </tbody>\n",
       "</table>\n",
       "</div>"
      ],
      "text/plain": [
       "           0         1    2         3    4         5         6\n",
       "0   0.081023  0.042821  1.0  0.531805  1.0  0.426648  0.483333\n",
       "1   0.045782  0.067627  1.0  0.405565  1.0  0.477573  0.583333\n",
       "2   0.054489  0.057490  1.0  0.402242  1.0  0.419011  0.450000\n",
       "3   0.081558  0.070626  1.0  0.506346  1.0  0.415476  0.416667\n",
       "4   0.053569  0.032165  1.0  0.366066  1.0  0.307315  0.566667\n",
       "5   0.044875  0.057074  1.0  0.386321  1.0  0.415347  0.566667\n",
       "6   0.084530  0.085366  1.0  0.553923  1.0  0.520692  0.483333\n",
       "7   0.045815  0.054695  1.0  0.361976  1.0  0.435049  0.483333\n",
       "8   0.063535  0.050107  1.0  0.475354  1.0  0.426690  0.533333\n",
       "9   0.076640  0.107654  1.0  0.480341  1.0  0.553666  0.483333\n",
       "10  0.080538  0.071446  1.0  0.489390  1.0  0.458702  0.483333\n",
       "11  0.067327  0.068886  1.0  0.437479  1.0  0.481232  0.583333\n",
       "12  0.074468  0.097321  1.0  0.496576  1.0  0.725849  0.583333\n",
       "13  0.086365  0.103367  1.0  0.559674  1.0  0.796634  0.533333\n",
       "14  0.068689  0.115361  1.0  0.485304  1.0  0.622891  0.483333\n",
       "15  0.077602  0.060613  1.0  0.518489  1.0  0.525636  0.450000\n",
       "16  0.088714  0.123042  1.0  0.480983  1.0  0.721996  0.416667\n",
       "17  0.089359  0.103177  1.0  0.593499  1.0  0.554051  0.483333\n",
       "18  0.040494  0.044581  1.0  0.360875  1.0  0.361429  0.483333\n",
       "19  0.090545  0.118813  1.0  0.566790  1.0  0.482904  0.533333\n",
       "20  0.072575  0.073333  1.0  0.512432  1.0  0.438669  0.533333\n",
       "21  0.065216  0.058009  1.0  0.485510  1.0  0.410274  0.416667\n",
       "22  0.067471  0.064666  1.0  0.562899  1.0  0.364555  0.450000\n",
       "23  0.055724  0.052756  1.0  0.431569  1.0  0.392938  0.483333\n",
       "24  0.078527  0.069222  1.0  0.523132  1.0  0.394754  0.533333\n",
       "25  0.062859  0.082086  1.0  0.420130  1.0  0.493562  0.583333\n",
       "26  0.050349  0.043527  1.0  0.385785  1.0  0.372969  0.583333\n",
       "27  0.059313  0.051244  1.0  0.429779  1.0  0.424128  0.583333\n",
       "28  0.037322  0.047580  1.0  0.348502  1.0  0.339776  0.483333\n",
       "29  0.059421  0.105259  1.0  0.453718  1.0  0.611363  0.483333\n",
       "30  0.076611  0.080341  1.0  0.484692  1.0  0.504997  0.416667\n",
       "31  0.064793  0.048445  1.0  0.485254  1.0  0.444040  0.500000\n",
       "32  0.080478  0.105476  1.0  0.545003  1.0  0.617940  0.400000\n",
       "33  0.083239  0.056195  1.0  0.525852  1.0  0.380018  0.433333\n",
       "34  0.055621  0.097833  1.0  0.474554  1.0  0.646578  0.566667\n",
       "35  0.083124  0.058073  1.0  0.515923  1.0  0.451577  0.433333\n",
       "36  0.082196  0.062738  1.0  0.512674  1.0  0.375733  0.500000\n",
       "37  0.075364  0.054761  1.0  0.514859  1.0  0.359987  0.450000\n",
       "38  0.083943  0.089647  1.0  0.529434  1.0  0.571388  0.483333\n",
       "39  0.118225  0.079942  1.0  0.614046  1.0  0.323825  0.516667\n",
       "40  0.161439  0.330899  1.0  0.710664  1.0  0.878894  0.583333\n",
       "41  0.074605  0.099003  1.0  0.484435  1.0  0.555080  0.483333\n",
       "42  0.067587  0.069012  1.0  0.531486  1.0  0.486968  0.483333\n",
       "43  0.059706  0.077925  1.0  0.502449  1.0  0.462579  0.483333\n",
       "44  0.053828  0.057280  1.0  0.400002  1.0  0.453936  0.533333\n",
       "45  0.043451  0.027417  1.0  0.315096  1.0  0.284004  0.466667\n",
       "46  0.062150  0.053274  1.0  0.425511  1.0  0.397362  0.416667\n",
       "47  0.098146  0.140636  1.0  0.602271  1.0  0.674343  0.433333\n",
       "48  0.044844  0.052510  1.0  0.400567  1.0  0.384250  0.466667\n",
       "49  0.066231  0.071946  1.0  0.457278  1.0  0.592741  0.500000"
      ]
     },
     "execution_count": 56,
     "metadata": {},
     "output_type": "execute_result"
    }
   ],
   "source": [
    "check"
   ]
  },
  {
   "cell_type": "code",
   "execution_count": 57,
   "id": "e061792a-e589-486e-b8d2-336622f6bf34",
   "metadata": {},
   "outputs": [],
   "source": [
    "# check"
   ]
  },
  {
   "cell_type": "code",
   "execution_count": 58,
   "id": "fa101efc-351b-4645-87a3-f008abf1ff3d",
   "metadata": {},
   "outputs": [],
   "source": [
    "# check"
   ]
  },
  {
   "cell_type": "code",
   "execution_count": 59,
   "id": "77536655-0afd-4976-980a-fa7a28b55201",
   "metadata": {},
   "outputs": [],
   "source": [
    "# check.columns = [\"train_mae\", \"test_mae\", \"avg_ci_width_train\", \"avg_ci_width_test\", \"avg_lstm_weight\", \"exit_iter\", \"exit_status\"]"
   ]
  },
  {
   "cell_type": "code",
   "execution_count": 60,
   "id": "cd8cefbd-9076-469e-a5dc-dc4637846308",
   "metadata": {},
   "outputs": [],
   "source": [
    "# check"
   ]
  },
  {
   "cell_type": "code",
   "execution_count": 61,
   "id": "4fc1dcac-24b2-45e7-ae4c-e55eca90a6c6",
   "metadata": {},
   "outputs": [],
   "source": [
    "check.columns = [\"train_mae\", \"test_mae\", \"train_coverage\", \"train_width\", \"test_coverage\", \"test_width\", \"time_taken\"]"
   ]
  },
  {
   "cell_type": "code",
   "execution_count": 62,
   "id": "fcf483cf-1d09-4d5d-8c7c-7db62473a356",
   "metadata": {},
   "outputs": [],
   "source": [
    "check_mean = check.mean().reset_index()"
   ]
  },
  {
   "cell_type": "code",
   "execution_count": 63,
   "id": "b33d52b3-1a70-48ad-9b9d-3f259d4b68c7",
   "metadata": {},
   "outputs": [
    {
     "data": {
      "text/html": [
       "<div>\n",
       "<style scoped>\n",
       "    .dataframe tbody tr th:only-of-type {\n",
       "        vertical-align: middle;\n",
       "    }\n",
       "\n",
       "    .dataframe tbody tr th {\n",
       "        vertical-align: top;\n",
       "    }\n",
       "\n",
       "    .dataframe thead th {\n",
       "        text-align: right;\n",
       "    }\n",
       "</style>\n",
       "<table border=\"1\" class=\"dataframe\">\n",
       "  <thead>\n",
       "    <tr style=\"text-align: right;\">\n",
       "      <th></th>\n",
       "      <th>index</th>\n",
       "      <th>0</th>\n",
       "    </tr>\n",
       "  </thead>\n",
       "  <tbody>\n",
       "    <tr>\n",
       "      <th>0</th>\n",
       "      <td>train_mae</td>\n",
       "      <td>0.070805</td>\n",
       "    </tr>\n",
       "    <tr>\n",
       "      <th>1</th>\n",
       "      <td>test_mae</td>\n",
       "      <td>0.077865</td>\n",
       "    </tr>\n",
       "    <tr>\n",
       "      <th>2</th>\n",
       "      <td>train_coverage</td>\n",
       "      <td>1.000000</td>\n",
       "    </tr>\n",
       "    <tr>\n",
       "      <th>3</th>\n",
       "      <td>train_width</td>\n",
       "      <td>0.480890</td>\n",
       "    </tr>\n",
       "    <tr>\n",
       "      <th>4</th>\n",
       "      <td>test_coverage</td>\n",
       "      <td>1.000000</td>\n",
       "    </tr>\n",
       "    <tr>\n",
       "      <th>5</th>\n",
       "      <td>test_width</td>\n",
       "      <td>0.484360</td>\n",
       "    </tr>\n",
       "    <tr>\n",
       "      <th>6</th>\n",
       "      <td>time_taken</td>\n",
       "      <td>0.495333</td>\n",
       "    </tr>\n",
       "  </tbody>\n",
       "</table>\n",
       "</div>"
      ],
      "text/plain": [
       "            index         0\n",
       "0       train_mae  0.070805\n",
       "1        test_mae  0.077865\n",
       "2  train_coverage  1.000000\n",
       "3     train_width  0.480890\n",
       "4   test_coverage  1.000000\n",
       "5      test_width  0.484360\n",
       "6      time_taken  0.495333"
      ]
     },
     "execution_count": 63,
     "metadata": {},
     "output_type": "execute_result"
    }
   ],
   "source": [
    "check_mean"
   ]
  },
  {
   "cell_type": "code",
   "execution_count": 64,
   "id": "694cfd02-a953-4fc5-888e-a196be3dd80f",
   "metadata": {},
   "outputs": [],
   "source": [
    "check_mean.to_csv(\"mean_metrics_real_world_just_lstm_low_dropout_\"  + \"drop_rate_\"  + str(rate) +  \"_bnn_reps_\" + str(bnn_reps) +  \".csv\", index = False)"
   ]
  },
  {
   "cell_type": "code",
   "execution_count": 65,
   "id": "9b520f45-ad8d-453c-80e7-7a6bb711692f",
   "metadata": {},
   "outputs": [],
   "source": [
    "check_std = check.std().reset_index()"
   ]
  },
  {
   "cell_type": "code",
   "execution_count": 66,
   "id": "bad06d4d-316c-497c-be10-ea06c9b8468f",
   "metadata": {},
   "outputs": [],
   "source": [
    "check_std.to_csv(\"std_dev_metrics_real_world_just_lstm_low_dropout_\"  + \"drop_rate_\"  + str(rate) +  \"_bnn_reps_\" + str(bnn_reps) +  \".csv\", index = False)"
   ]
  },
  {
   "cell_type": "code",
   "execution_count": 67,
   "id": "476c963d-dfc3-42cf-90ff-7f801920fc08",
   "metadata": {},
   "outputs": [],
   "source": [
    "# std_df.to_csv(\"std_dev_metrics_just_lstm_\"  + \"drop_rate_\"  + str(rate) +  \"_bnn_reps_\"+ str(bnn_reps) +  \".csv\")\n"
   ]
  },
  {
   "cell_type": "code",
   "execution_count": 68,
   "id": "e3e43629-3a74-4d41-acaf-dea297a3840c",
   "metadata": {},
   "outputs": [],
   "source": [
    "# check.std()/reps"
   ]
  },
  {
   "cell_type": "code",
   "execution_count": 69,
   "id": "d9e6815f-6e3b-47c0-8383-5931dbe8d2d2",
   "metadata": {},
   "outputs": [],
   "source": [
    "# catch_coverages[i][-1].shape"
   ]
  },
  {
   "cell_type": "code",
   "execution_count": 70,
   "id": "a83c3d12-b2f0-44b8-9904-7b10c4f513bd",
   "metadata": {},
   "outputs": [],
   "source": [
    "true_preds = []\n",
    "enkf_preds = []\n",
    "for i in range(0,reps):\n",
    "    all_preds = catch_coverages[i][-1]\n",
    "    all_preds = all_preds.mean(1)\n",
    "    catch_test_probs = expit(catch1[i][2])\n",
    "    true_probs = catch_test_probs.ravel().tolist()\n",
    "    true_preds.append(true_probs)\n",
    "    enkf_preds.append(all_preds.ravel().tolist())\n",
    "    # plt.scatter(true_probs, all_preds.ravel().tolist())\n",
    "    # plt.show()"
   ]
  },
  {
   "cell_type": "code",
   "execution_count": 71,
   "id": "4089a2ab-43f9-4e24-a7ed-add7bdc14156",
   "metadata": {},
   "outputs": [],
   "source": [
    "true_preds = [inner for item in true_preds for inner in item]"
   ]
  },
  {
   "cell_type": "code",
   "execution_count": 72,
   "id": "65492b8d-d7e4-4375-8577-d79a633680b7",
   "metadata": {},
   "outputs": [],
   "source": [
    "enkf_preds = [inner for item in enkf_preds for inner in item]"
   ]
  },
  {
   "cell_type": "code",
   "execution_count": 73,
   "id": "19776731-14c7-43c3-bd48-163aa67e2c76",
   "metadata": {},
   "outputs": [
    {
     "data": {
      "text/plain": [
       "0.07786536672734655"
      ]
     },
     "execution_count": 73,
     "metadata": {},
     "output_type": "execute_result"
    }
   ],
   "source": [
    "np.mean(np.abs(np.array(true_preds)-np.array(enkf_preds)))"
   ]
  },
  {
   "cell_type": "code",
   "execution_count": 74,
   "id": "1ebada74-6fe8-4f58-a939-87ca7399aef8",
   "metadata": {},
   "outputs": [
    {
     "data": {
      "text/plain": [
       "<matplotlib.lines._AxLine at 0x14941ee51000>"
      ]
     },
     "execution_count": 74,
     "metadata": {},
     "output_type": "execute_result"
    },
    {
     "data": {
      "image/png": "[encoded data removed]",
      "text/plain": [
       "<Figure size 640x480 with 1 Axes>"
      ]
     },
     "metadata": {},
     "output_type": "display_data"
    }
   ],
   "source": [
    "plt.scatter(enkf_preds,true_preds, alpha=0.5)\n",
    "plt.xlabel(\"EnKF Predictions\", fontsize = 15, fontweight = \"bold\")\n",
    "plt.ylabel(\"LSTM Predictions\", fontsize = 15, fontweight = \"bold\")\n",
    "plt.xticks(fontsize = 10, fontweight = \"bold\")\n",
    "plt.yticks(fontsize = 10, fontweight = \"bold\")\n",
    "plt.axline((0, 0), slope=1)"
   ]
  },
  {
   "cell_type": "code",
   "execution_count": 75,
   "id": "ead27b05-299e-49dc-bb97-236a18cd05e5",
   "metadata": {},
   "outputs": [],
   "source": [
    "# check"
   ]
  },
  {
   "cell_type": "code",
   "execution_count": 76,
   "id": "c3c59615-d33c-451c-8eb1-d8a93374c3d7",
   "metadata": {},
   "outputs": [],
   "source": [
    "with open('first_lstm_just_lstm_real_world_low_dropout.pkl', 'wb') as f:\n",
    "    pickle.dump(catch_coverages, f)"
   ]
  }
 ],
 "metadata": {
  "kernelspec": {
   "display_name": "enkf",
   "language": "python",
   "name": "enkf"
  },
  "language_info": {
   "codemirror_mode": {
    "name": "ipython",
    "version": 3
   },
   "file_extension": ".py",
   "mimetype": "text/x-python",
   "name": "python",
   "nbconvert_exporter": "python",
   "pygments_lexer": "ipython3",
   "version": "3.10.8"
  }
 },
 "nbformat": 4,
 "nbformat_minor": 5
}
