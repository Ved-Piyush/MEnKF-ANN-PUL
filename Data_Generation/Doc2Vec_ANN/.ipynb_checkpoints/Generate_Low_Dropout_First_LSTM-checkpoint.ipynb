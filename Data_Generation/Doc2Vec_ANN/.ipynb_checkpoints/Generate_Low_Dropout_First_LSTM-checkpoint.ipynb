{
 "cells": [
  {
   "cell_type": "code",
   "execution_count": 254,
   "id": "d7ab5bf3",
   "metadata": {},
   "outputs": [],
   "source": [
    "import pandas as pd\n",
    "from tqdm import tqdm\n",
    "import gensim\n",
    "import os\n",
    "os.environ['TF_CPP_MIN_LOG_LEVEL'] = '3' \n",
    "# os.chdir(r\"D://Proposal_Defense//Simulations\")\n",
    "# from Utils.Script_utils import get_data_splits, first_LSTM_training, get_data_splits_old_algo\n",
    "from joblib import Parallel, delayed\n",
    "import sys\n",
    "from scipy.stats import norm"
   ]
  },
  {
   "cell_type": "code",
   "execution_count": 255,
   "id": "36084258",
   "metadata": {},
   "outputs": [
    {
     "name": "stdout",
     "output_type": "stream",
     "text": [
      "No GPU found\n"
     ]
    }
   ],
   "source": [
    "# Seed value\n",
    "# Apparently you may use different seed values at each stage\n",
    "seed_value= 42\n",
    "\n",
    "# 1. Set the `PYTHONHASHSEED` environment variable at a fixed value\n",
    "import os\n",
    "os.environ['PYTHONHASHSEED']=str(seed_value)\n",
    "\n",
    "# 2. Set the `python` built-in pseudo-random generator at a fixed value\n",
    "import random\n",
    "random.seed(seed_value)\n",
    "\n",
    "# 3. Set the `numpy` pseudo-random generator at a fixed value\n",
    "import numpy as np\n",
    "np.random.seed(seed_value)\n",
    "\n",
    "# # 4. Set the `tensorflow` pseudo-random generator at a fixed value\n",
    "import tensorflow as tf\n",
    "os.environ['CUDA_VISIBLE_DEVICES'] = '-1'\n",
    "\n",
    "if tf.test.gpu_device_name():\n",
    "    print('GPU found')\n",
    "else:\n",
    "    print(\"No GPU found\")\n",
    "# tf.config.set_visible_devices([], 'GPU')\n",
    "\n",
    "from tqdm.notebook import tqdm\n",
    "tf.random.set_seed(seed_value)\n",
    "# for later versions: \n",
    "# tf.compat.v1.set_random_seed(seed_value)\n",
    "\n",
    "# 5. Configure a new global `tensorflow` session\n",
    "# from keras import backend as K\n",
    "# session_conf = tf.compat.v1.ConfigProto(intra_op_parallelism_threads=1, inter_op_parallelism_threads=1)\n",
    "# sess = tf.compat.v1.Session(graph=tf.compat.v1.get_default_graph(), config=session_conf)\n",
    "# K.set_session(sess)"
   ]
  },
  {
   "cell_type": "code",
   "execution_count": 256,
   "id": "e036b858",
   "metadata": {},
   "outputs": [],
   "source": [
    "import matplotlib.pyplot as plt\n",
    "\n",
    "import pickle"
   ]
  },
  {
   "cell_type": "code",
   "execution_count": 257,
   "id": "3d0df813-a747-47b9-90c4-79afcb1176f0",
   "metadata": {},
   "outputs": [],
   "source": [
    "# def get_parent_dir(directory):\n",
    "#     import os\n",
    "#     return os.path.dirname(directory)\n",
    "\n",
    "# current_dirs_parent = get_parent_dir(os.getcwd())"
   ]
  },
  {
   "cell_type": "code",
   "execution_count": 258,
   "id": "e46d329d-fc08-46fd-8242-28ed776e5377",
   "metadata": {},
   "outputs": [],
   "source": [
    "# os.chdir(current_dirs_parent)"
   ]
  },
  {
   "cell_type": "code",
   "execution_count": 259,
   "id": "a919cced-55a8-44c2-aafe-8a1279fcd792",
   "metadata": {},
   "outputs": [],
   "source": [
    "# current_dirs_parent"
   ]
  },
  {
   "cell_type": "code",
   "execution_count": 260,
   "id": "058ca9d0",
   "metadata": {},
   "outputs": [],
   "source": [
    "model_cbow = gensim.models.word2vec.Word2Vec.load(r\"..//word2vec_sg\")"
   ]
  },
  {
   "cell_type": "code",
   "execution_count": 261,
   "id": "72fbb06e",
   "metadata": {},
   "outputs": [],
   "source": [
    "lr = 1e-3\n",
    "# from sklearn.model_selection import train_test_split\n"
   ]
  },
  {
   "cell_type": "code",
   "execution_count": 262,
   "id": "88bbd17f",
   "metadata": {},
   "outputs": [],
   "source": [
    "reps = 50"
   ]
  },
  {
   "cell_type": "code",
   "execution_count": 263,
   "id": "dc2a3de8-96a4-4ee8-89bf-8f15e7499b7e",
   "metadata": {},
   "outputs": [],
   "source": [
    "# with open('true_data_doc2vec_lstm_var_0.0001.pkl', 'wb') as f:\n",
    "#     pickle.dump(catch, f)\n",
    "\n",
    "\n",
    "with open('..//Data//train_valid_test_splits_50.pkl', 'rb') as f:\n",
    "    catch = pickle.load(f)  "
   ]
  },
  {
   "cell_type": "code",
   "execution_count": 264,
   "id": "5ac3794a-8f62-469e-a18c-c5731c80ce17",
   "metadata": {},
   "outputs": [],
   "source": [
    "# rate = 0.5"
   ]
  },
  {
   "cell_type": "code",
   "execution_count": 265,
   "id": "4468a8a5-e2b7-40e8-bf36-96a159406883",
   "metadata": {},
   "outputs": [],
   "source": [
    "doc2vec_dbow = gensim.models.doc2vec.Doc2Vec.load(r\"..//doc2vec_dbow\")"
   ]
  },
  {
   "cell_type": "code",
   "execution_count": 266,
   "id": "d2a53743-2936-4917-a083-0696d9b638e6",
   "metadata": {},
   "outputs": [],
   "source": [
    "doc2vec_shape = doc2vec_dbow.dv.vectors.shape[1]"
   ]
  },
  {
   "cell_type": "code",
   "execution_count": 267,
   "id": "55f0f415",
   "metadata": {},
   "outputs": [],
   "source": [
    "def doc2vec_ann(rate, training): \n",
    "    \n",
    "    input_layer = tf.keras.layers.Input(shape = (doc2vec_shape))\n",
    "\n",
    "    hidden_layer = tf.keras.layers.Dense(16, kernel_regularizer=tf.keras.regularizers.L1())\n",
    "    \n",
    "    hidden_output = hidden_layer(input_layer)\n",
    "    \n",
    "    drop_layer = tf.keras.layers.Dropout(rate)\n",
    "    \n",
    "    dropout_out = drop_layer(hidden_output, training = training)  \n",
    "\n",
    "    pred_head = tf.keras.layers.Dense(1, kernel_regularizer=tf.keras.regularizers.L1())\n",
    "\n",
    "    pred_output = pred_head(dropout_out)\n",
    "\n",
    "    model = tf.keras.models.Model(input_layer, pred_output)\n",
    "    \n",
    "    model.compile(loss = tf.keras.losses.BinaryCrossentropy(from_logits=True), \n",
    "                 optimizer = tf.keras.optimizers.Adam(learning_rate = lr), \n",
    "                 metrics=tf.keras.metrics.BinaryAccuracy())\n",
    "    \n",
    "    return model"
   ]
  },
  {
   "cell_type": "code",
   "execution_count": 268,
   "id": "eba81588-fb67-4a2e-ba65-44f73800f805",
   "metadata": {},
   "outputs": [],
   "source": [
    "samp_model = doc2vec_ann(0.75, False)"
   ]
  },
  {
   "cell_type": "code",
   "execution_count": 269,
   "id": "2c4c0ddd-4436-4463-a1c4-c99f8dd4c696",
   "metadata": {},
   "outputs": [],
   "source": [
    "# samp_model.summary()"
   ]
  },
  {
   "cell_type": "code",
   "execution_count": 270,
   "id": "86559497-34d8-48f0-9a9b-090a9f1bfd80",
   "metadata": {},
   "outputs": [],
   "source": [
    "# chk = attention_lstm_model(rate, False)"
   ]
  },
  {
   "cell_type": "code",
   "execution_count": 271,
   "id": "4a6d2940-1dc9-4da4-af61-eeb1798f7e46",
   "metadata": {},
   "outputs": [],
   "source": [
    "# chk.layers"
   ]
  },
  {
   "cell_type": "code",
   "execution_count": 272,
   "id": "a2693523-5a4a-4119-bdc7-84012762883b",
   "metadata": {},
   "outputs": [],
   "source": [
    "# rate = 0.5"
   ]
  },
  {
   "cell_type": "code",
   "execution_count": 275,
   "id": "f8d97121",
   "metadata": {},
   "outputs": [],
   "source": [
    "def doc2vec_ann_training(idx):\n",
    "    \n",
    "    train_doc2vec = []\n",
    "    for seq in catch[idx][0]:\n",
    "        seq_txt = seq[0]\n",
    "        seq_split = seq_txt.split(\" \")\n",
    "        train_doc2vec.append(doc2vec_dbow.infer_vector(seq_split))\n",
    "    train_doc2vec = np.array(train_doc2vec)\n",
    "    \n",
    "    valid_doc2vec = []\n",
    "    for seq in catch[idx][1]:\n",
    "        seq_txt = seq[0]\n",
    "        seq_split = seq_txt.split(\" \")\n",
    "        valid_doc2vec.append(doc2vec_dbow.infer_vector(seq_split))\n",
    "    valid_doc2vec = np.array(valid_doc2vec)\n",
    "    \n",
    "    test_doc2vec = []\n",
    "    for seq in catch[idx][2]:\n",
    "        seq_txt = seq[0]\n",
    "        seq_split = seq_txt.split(\" \")\n",
    "        test_doc2vec.append(doc2vec_dbow.infer_vector(seq_split))\n",
    "    test_doc2vec = np.array(test_doc2vec)      \n",
    "\n",
    "    doc2vec_ann_mod = doc2vec_ann(0.75, False)\n",
    "    # model_word2vec = simple_lstm(False, model_cbow)\n",
    "    # init_weights = first_lstm.get_weights()\n",
    "    \n",
    "    doc2vec_ann_mod.fit(train_doc2vec, catch[idx][3], epochs = 2000, verbose = 0, \n",
    "                  callbacks = tf.keras.callbacks.EarlyStopping(monitor = \"val_loss\", patience = 30,\n",
    "                                                              restore_best_weights=True), \n",
    "                      validation_data = (valid_doc2vec, catch[idx][4]))\n",
    "    \n",
    "    X_train_logits = doc2vec_ann_mod.predict(train_doc2vec, verbose = 0)\n",
    "    X_valid_logits = doc2vec_ann_mod.predict(valid_doc2vec, verbose = 0)\n",
    "    X_test_logits = doc2vec_ann_mod.predict(test_doc2vec, verbose = 0)\n",
    "    \n",
    "    doc2vec_ann_mod.save(\"Real_World_Doc2Vec_ANN\" + \"//\" + \"Model_\" + str(idx))\n",
    "    \n",
    "    \n",
    "    # print(doc2vec_ann_mod.evaluate(test_doc2vec, catch[idx][5]))\n",
    "    \n",
    "    return X_train_logits, X_valid_logits , X_test_logits"
   ]
  },
  {
   "cell_type": "code",
   "execution_count": 276,
   "id": "f36db5a9",
   "metadata": {},
   "outputs": [
    {
     "name": "stderr",
     "output_type": "stream",
     "text": [
      "[Parallel(n_jobs=15)]: Using backend LokyBackend with 15 concurrent workers.\n",
      "WARNING:absl:Found untraced functions such as _update_step_xla while saving (showing 1 of 1). These functions will not be directly callable after loading.\n"
     ]
    },
    {
     "name": "stdout",
     "output_type": "stream",
     "text": [
      "1/1 [==============================] - 0s 18ms/step - loss: 0.6016 - binary_accuracy: 0.7500\n"
     ]
    },
    {
     "name": "stderr",
     "output_type": "stream",
     "text": [
      "WARNING:absl:Found untraced functions such as _update_step_xla while saving (showing 1 of 1). These functions will not be directly callable after loading.\n"
     ]
    },
    {
     "name": "stdout",
     "output_type": "stream",
     "text": [
      "1/1 [==============================] - 0s 18ms/step - loss: 0.4605 - binary_accuracy: 0.8750\n"
     ]
    },
    {
     "name": "stderr",
     "output_type": "stream",
     "text": [
      "[Parallel(n_jobs=15)]: Done   2 tasks      | elapsed:   12.8s\n",
      "WARNING:absl:Found untraced functions such as _update_step_xla while saving (showing 1 of 1). These functions will not be directly callable after loading.\n",
      "WARNING:absl:Found untraced functions such as _update_step_xla while saving (showing 1 of 1). These functions will not be directly callable after loading.\n"
     ]
    },
    {
     "name": "stdout",
     "output_type": "stream",
     "text": [
      "1/1 [==============================] - 0s 18ms/step - loss: 0.3617 - binary_accuracy: 1.0000\n",
      "1/1 [==============================] - 0s 19ms/step - loss: 0.4330 - binary_accuracy: 1.0000\n"
     ]
    },
    {
     "name": "stderr",
     "output_type": "stream",
     "text": [
      "WARNING:absl:Found untraced functions such as _update_step_xla while saving (showing 1 of 1). These functions will not be directly callable after loading.\n"
     ]
    },
    {
     "name": "stdout",
     "output_type": "stream",
     "text": [
      "1/1 [==============================] - 0s 19ms/step - loss: 0.4806 - binary_accuracy: 1.0000\n"
     ]
    },
    {
     "name": "stderr",
     "output_type": "stream",
     "text": [
      "WARNING:absl:Found untraced functions such as _update_step_xla while saving (showing 1 of 1). These functions will not be directly callable after loading.\n"
     ]
    },
    {
     "name": "stdout",
     "output_type": "stream",
     "text": [
      "1/1 [==============================] - 0s 23ms/step - loss: 0.4527 - binary_accuracy: 0.8750\n"
     ]
    },
    {
     "name": "stderr",
     "output_type": "stream",
     "text": [
      "WARNING:absl:Found untraced functions such as _update_step_xla while saving (showing 1 of 1). These functions will not be directly callable after loading.\n"
     ]
    },
    {
     "name": "stdout",
     "output_type": "stream",
     "text": [
      "1/1 [==============================] - 0s 18ms/step - loss: 0.4866 - binary_accuracy: 1.0000\n"
     ]
    },
    {
     "name": "stderr",
     "output_type": "stream",
     "text": [
      "WARNING:absl:Found untraced functions such as _update_step_xla while saving (showing 1 of 1). These functions will not be directly callable after loading.\n"
     ]
    },
    {
     "name": "stdout",
     "output_type": "stream",
     "text": [
      "1/1 [==============================] - 0s 19ms/step - loss: 0.4491 - binary_accuracy: 1.0000\n"
     ]
    },
    {
     "name": "stderr",
     "output_type": "stream",
     "text": [
      "WARNING:absl:Found untraced functions such as _update_step_xla while saving (showing 1 of 1). These functions will not be directly callable after loading.\n"
     ]
    },
    {
     "name": "stdout",
     "output_type": "stream",
     "text": [
      "[0.36174172163009644, 1.0]\n",
      "1/1 [==============================] - 0s 18ms/step - loss: 0.6218 - binary_accuracy: 0.8750\n"
     ]
    },
    {
     "name": "stderr",
     "output_type": "stream",
     "text": [
      "WARNING:absl:Found untraced functions such as _update_step_xla while saving (showing 1 of 1). These functions will not be directly callable after loading.\n"
     ]
    },
    {
     "name": "stdout",
     "output_type": "stream",
     "text": [
      "1/1 [==============================] - 0s 25ms/step - loss: 0.2835 - binary_accuracy: 1.0000\n"
     ]
    },
    {
     "name": "stderr",
     "output_type": "stream",
     "text": [
      "WARNING:absl:Found untraced functions such as _update_step_xla while saving (showing 1 of 1). These functions will not be directly callable after loading.\n"
     ]
    },
    {
     "name": "stdout",
     "output_type": "stream",
     "text": [
      "1/1 [==============================] - 0s 19ms/step - loss: 0.4863 - binary_accuracy: 0.8750\n"
     ]
    },
    {
     "name": "stderr",
     "output_type": "stream",
     "text": [
      "[Parallel(n_jobs=15)]: Done  11 tasks      | elapsed:   32.6s\n",
      "WARNING:absl:Found untraced functions such as _update_step_xla while saving (showing 1 of 1). These functions will not be directly callable after loading.\n"
     ]
    },
    {
     "name": "stdout",
     "output_type": "stream",
     "text": [
      "[0.48656028509140015, 1.0]\n",
      "1/1 [==============================] - 0s 18ms/step - loss: 0.5044 - binary_accuracy: 1.0000\n"
     ]
    },
    {
     "name": "stderr",
     "output_type": "stream",
     "text": [
      "WARNING:absl:Found untraced functions such as _update_step_xla while saving (showing 1 of 1). These functions will not be directly callable after loading.\n"
     ]
    },
    {
     "name": "stdout",
     "output_type": "stream",
     "text": [
      "[0.43300676345825195, 1.0]\n",
      "1/1 [==============================] - 0s 20ms/step - loss: 0.5534 - binary_accuracy: 0.7500\n"
     ]
    },
    {
     "name": "stderr",
     "output_type": "stream",
     "text": [
      "WARNING:absl:Found untraced functions such as _update_step_xla while saving (showing 1 of 1). These functions will not be directly callable after loading.\n"
     ]
    },
    {
     "name": "stdout",
     "output_type": "stream",
     "text": [
      "[0.6015669107437134, 0.75]\n",
      "1/1 [==============================] - 0s 20ms/step - loss: 0.5151 - binary_accuracy: 0.8750\n"
     ]
    },
    {
     "name": "stderr",
     "output_type": "stream",
     "text": [
      "WARNING:absl:Found untraced functions such as _update_step_xla while saving (showing 1 of 1). These functions will not be directly callable after loading.\n"
     ]
    },
    {
     "name": "stdout",
     "output_type": "stream",
     "text": [
      "1/1 [==============================] - 0s 18ms/step - loss: 0.5943 - binary_accuracy: 0.8750\n"
     ]
    },
    {
     "name": "stderr",
     "output_type": "stream",
     "text": [
      "WARNING:absl:Found untraced functions such as _update_step_xla while saving (showing 1 of 1). These functions will not be directly callable after loading.\n"
     ]
    },
    {
     "name": "stdout",
     "output_type": "stream",
     "text": [
      "[0.48060452938079834, 1.0]\n",
      "1/1 [==============================] - 0s 18ms/step - loss: 0.4658 - binary_accuracy: 0.8750\n"
     ]
    },
    {
     "name": "stderr",
     "output_type": "stream",
     "text": [
      "WARNING:absl:Found untraced functions such as _update_step_xla while saving (showing 1 of 1). These functions will not be directly callable after loading.\n"
     ]
    },
    {
     "name": "stdout",
     "output_type": "stream",
     "text": [
      "1/1 [==============================] - 0s 18ms/step - loss: 0.7241 - binary_accuracy: 0.8750\n"
     ]
    },
    {
     "name": "stderr",
     "output_type": "stream",
     "text": [
      "WARNING:absl:Found untraced functions such as _update_step_xla while saving (showing 1 of 1). These functions will not be directly callable after loading.\n"
     ]
    },
    {
     "name": "stdout",
     "output_type": "stream",
     "text": [
      "[0.6217883825302124, 0.875]\n",
      "1/1 [==============================] - 0s 23ms/step - loss: 0.7412 - binary_accuracy: 0.7500\n"
     ]
    },
    {
     "name": "stderr",
     "output_type": "stream",
     "text": [
      "WARNING:absl:Found untraced functions such as _update_step_xla while saving (showing 1 of 1). These functions will not be directly callable after loading.\n"
     ]
    },
    {
     "name": "stdout",
     "output_type": "stream",
     "text": [
      "[0.5043616890907288, 1.0]\n",
      "1/1 [==============================] - 0s 18ms/step - loss: 0.5451 - binary_accuracy: 0.7500\n"
     ]
    },
    {
     "name": "stderr",
     "output_type": "stream",
     "text": [
      "WARNING:absl:Found untraced functions such as _update_step_xla while saving (showing 1 of 1). These functions will not be directly callable after loading.\n"
     ]
    },
    {
     "name": "stdout",
     "output_type": "stream",
     "text": [
      "1/1 [==============================] - 0s 19ms/step - loss: 0.3915 - binary_accuracy: 0.8750\n"
     ]
    },
    {
     "name": "stderr",
     "output_type": "stream",
     "text": [
      "[Parallel(n_jobs=15)]: Done  20 tasks      | elapsed:   43.7s\n",
      "WARNING:absl:Found untraced functions such as _update_step_xla while saving (showing 1 of 1). These functions will not be directly callable after loading.\n"
     ]
    },
    {
     "name": "stdout",
     "output_type": "stream",
     "text": [
      "[0.5533774495124817, 0.75]\n",
      "1/1 [==============================] - 0s 17ms/step - loss: 0.4119 - binary_accuracy: 1.0000\n"
     ]
    },
    {
     "name": "stderr",
     "output_type": "stream",
     "text": [
      "WARNING:absl:Found untraced functions such as _update_step_xla while saving (showing 1 of 1). These functions will not be directly callable after loading.\n"
     ]
    },
    {
     "name": "stdout",
     "output_type": "stream",
     "text": [
      "[0.48628145456314087, 0.875]\n",
      "1/1 [==============================] - 0s 19ms/step - loss: 0.5315 - binary_accuracy: 1.0000\n"
     ]
    },
    {
     "name": "stderr",
     "output_type": "stream",
     "text": [
      "WARNING:absl:Found untraced functions such as _update_step_xla while saving (showing 1 of 1). These functions will not be directly callable after loading.\n"
     ]
    },
    {
     "name": "stdout",
     "output_type": "stream",
     "text": [
      "1/1 [==============================] - 0s 19ms/step - loss: 0.5567 - binary_accuracy: 0.7500\n"
     ]
    },
    {
     "name": "stderr",
     "output_type": "stream",
     "text": [
      "WARNING:absl:Found untraced functions such as _update_step_xla while saving (showing 1 of 1). These functions will not be directly callable after loading.\n"
     ]
    },
    {
     "name": "stdout",
     "output_type": "stream",
     "text": [
      "[0.44910550117492676, 1.0]\n",
      "1/1 [==============================] - 0s 19ms/step - loss: 0.6126 - binary_accuracy: 0.8750\n"
     ]
    },
    {
     "name": "stderr",
     "output_type": "stream",
     "text": [
      "WARNING:absl:Found untraced functions such as _update_step_xla while saving (showing 1 of 1). These functions will not be directly callable after loading.\n"
     ]
    },
    {
     "name": "stdout",
     "output_type": "stream",
     "text": [
      "[0.5943196415901184, 0.875]\n",
      "1/1 [==============================] - 0s 37ms/step - loss: 0.5667 - binary_accuracy: 0.8750\n"
     ]
    },
    {
     "name": "stderr",
     "output_type": "stream",
     "text": [
      "WARNING:absl:Found untraced functions such as _update_step_xla while saving (showing 1 of 1). These functions will not be directly callable after loading.\n"
     ]
    },
    {
     "name": "stdout",
     "output_type": "stream",
     "text": [
      "1/1 [==============================] - 0s 19ms/step - loss: 0.7160 - binary_accuracy: 0.7500\n"
     ]
    },
    {
     "name": "stderr",
     "output_type": "stream",
     "text": [
      "WARNING:absl:Found untraced functions such as _update_step_xla while saving (showing 1 of 1). These functions will not be directly callable after loading.\n"
     ]
    },
    {
     "name": "stdout",
     "output_type": "stream",
     "text": [
      "[0.4657807946205139, 0.875]\n",
      "1/1 [==============================] - 0s 17ms/step - loss: 0.6845 - binary_accuracy: 0.7500\n"
     ]
    },
    {
     "name": "stderr",
     "output_type": "stream",
     "text": [
      "[Parallel(n_jobs=15)]: Done  27 out of  50 | elapsed:  1.0min remaining:   52.6s\n",
      "WARNING:absl:Found untraced functions such as _update_step_xla while saving (showing 1 of 1). These functions will not be directly callable after loading.\n",
      "WARNING:absl:Found untraced functions such as _update_step_xla while saving (showing 1 of 1). These functions will not be directly callable after loading.\n"
     ]
    },
    {
     "name": "stdout",
     "output_type": "stream",
     "text": [
      "[0.39150065183639526, 0.875]\n",
      "1/1 [==============================] - 0s 37ms/step - loss: 0.4360 - binary_accuracy: 0.8750\n",
      "[0.4605177938938141, 0.875]\n",
      "1/1 [==============================] - 0s 18ms/step - loss: 0.3707 - binary_accuracy: 1.0000\n"
     ]
    },
    {
     "name": "stderr",
     "output_type": "stream",
     "text": [
      "WARNING:absl:Found untraced functions such as _update_step_xla while saving (showing 1 of 1). These functions will not be directly callable after loading.\n"
     ]
    },
    {
     "name": "stdout",
     "output_type": "stream",
     "text": [
      "[0.5314984917640686, 1.0]\n",
      "1/1 [==============================] - 0s 19ms/step - loss: 0.5605 - binary_accuracy: 0.8750\n"
     ]
    },
    {
     "name": "stderr",
     "output_type": "stream",
     "text": [
      "WARNING:absl:Found untraced functions such as _update_step_xla while saving (showing 1 of 1). These functions will not be directly callable after loading.\n"
     ]
    },
    {
     "name": "stdout",
     "output_type": "stream",
     "text": [
      "[0.7412435412406921, 0.75]\n",
      "1/1 [==============================] - 0s 17ms/step - loss: 0.7098 - binary_accuracy: 0.7500\n"
     ]
    },
    {
     "name": "stderr",
     "output_type": "stream",
     "text": [
      "WARNING:absl:Found untraced functions such as _update_step_xla while saving (showing 1 of 1). These functions will not be directly callable after loading.\n"
     ]
    },
    {
     "name": "stdout",
     "output_type": "stream",
     "text": [
      "[0.5450946688652039, 0.75]\n",
      "1/1 [==============================] - 0s 24ms/step - loss: 0.4307 - binary_accuracy: 0.8750\n"
     ]
    },
    {
     "name": "stderr",
     "output_type": "stream",
     "text": [
      "WARNING:absl:Found untraced functions such as _update_step_xla while saving (showing 1 of 1). These functions will not be directly callable after loading.\n"
     ]
    },
    {
     "name": "stdout",
     "output_type": "stream",
     "text": [
      "[0.4527377188205719, 0.875]\n",
      "1/1 [==============================] - 0s 18ms/step - loss: 0.2118 - binary_accuracy: 1.0000\n"
     ]
    },
    {
     "name": "stderr",
     "output_type": "stream",
     "text": [
      "[Parallel(n_jobs=15)]: Done  33 out of  50 | elapsed:  1.3min remaining:   39.3s\n",
      "WARNING:absl:Found untraced functions such as _update_step_xla while saving (showing 1 of 1). These functions will not be directly callable after loading.\n"
     ]
    },
    {
     "name": "stdout",
     "output_type": "stream",
     "text": [
      "[0.4118616580963135, 1.0]\n",
      "1/1 [==============================] - 0s 20ms/step - loss: 0.4649 - binary_accuracy: 0.8750\n"
     ]
    },
    {
     "name": "stderr",
     "output_type": "stream",
     "text": [
      "WARNING:absl:Found untraced functions such as _update_step_xla while saving (showing 1 of 1). These functions will not be directly callable after loading.\n",
      "WARNING:absl:Found untraced functions such as _update_step_xla while saving (showing 1 of 1). These functions will not be directly callable after loading.\n"
     ]
    },
    {
     "name": "stdout",
     "output_type": "stream",
     "text": [
      "[0.7241479754447937, 0.875]\n",
      "1/1 [==============================] - 0s 19ms/step - loss: 0.2459 - binary_accuracy: 1.0000\n",
      "[0.4360341429710388, 0.875]\n",
      "1/1 [==============================] - 0s 18ms/step - loss: 0.4801 - binary_accuracy: 0.8750\n"
     ]
    },
    {
     "name": "stderr",
     "output_type": "stream",
     "text": [
      "WARNING:absl:Found untraced functions such as _update_step_xla while saving (showing 1 of 1). These functions will not be directly callable after loading.\n"
     ]
    },
    {
     "name": "stdout",
     "output_type": "stream",
     "text": [
      "[0.5150912404060364, 0.875]\n",
      "1/1 [==============================] - 0s 18ms/step - loss: 0.4787 - binary_accuracy: 0.8750\n"
     ]
    },
    {
     "name": "stderr",
     "output_type": "stream",
     "text": [
      "WARNING:absl:Found untraced functions such as _update_step_xla while saving (showing 1 of 1). These functions will not be directly callable after loading.\n"
     ]
    },
    {
     "name": "stdout",
     "output_type": "stream",
     "text": [
      "[0.6125782132148743, 0.875]\n",
      "1/1 [==============================] - 0s 17ms/step - loss: 0.3582 - binary_accuracy: 1.0000\n"
     ]
    },
    {
     "name": "stderr",
     "output_type": "stream",
     "text": [
      "WARNING:absl:Found untraced functions such as _update_step_xla while saving (showing 1 of 1). These functions will not be directly callable after loading.\n"
     ]
    },
    {
     "name": "stdout",
     "output_type": "stream",
     "text": [
      "[0.5605432987213135, 0.875]\n",
      "1/1 [==============================] - 0s 17ms/step - loss: 0.5603 - binary_accuracy: 0.8750\n"
     ]
    },
    {
     "name": "stderr",
     "output_type": "stream",
     "text": [
      "[Parallel(n_jobs=15)]: Done  39 out of  50 | elapsed:  1.4min remaining:   23.9s\n",
      "WARNING:absl:Found untraced functions such as _update_step_xla while saving (showing 1 of 1). These functions will not be directly callable after loading.\n"
     ]
    },
    {
     "name": "stdout",
     "output_type": "stream",
     "text": [
      "[0.3706955909729004, 1.0]\n",
      "1/1 [==============================] - 0s 17ms/step - loss: 0.8599 - binary_accuracy: 0.6250\n"
     ]
    },
    {
     "name": "stderr",
     "output_type": "stream",
     "text": [
      "WARNING:absl:Found untraced functions such as _update_step_xla while saving (showing 1 of 1). These functions will not be directly callable after loading.\n",
      "WARNING:absl:Found untraced functions such as _update_step_xla while saving (showing 1 of 1). These functions will not be directly callable after loading.\n"
     ]
    },
    {
     "name": "stdout",
     "output_type": "stream",
     "text": [
      "[0.28349223732948303, 1.0]\n",
      "1/1 [==============================] - 0s 19ms/step - loss: 0.2066 - binary_accuracy: 1.0000\n",
      "[0.24590300023555756, 1.0]\n",
      "1/1 [==============================] - 0s 19ms/step - loss: 0.5891 - binary_accuracy: 0.7500\n"
     ]
    },
    {
     "name": "stderr",
     "output_type": "stream",
     "text": [
      "WARNING:absl:Found untraced functions such as _update_step_xla while saving (showing 1 of 1). These functions will not be directly callable after loading.\n"
     ]
    },
    {
     "name": "stdout",
     "output_type": "stream",
     "text": [
      "[0.6845318078994751, 0.75]\n",
      "1/1 [==============================] - 0s 17ms/step - loss: 0.7702 - binary_accuracy: 0.6250\n"
     ]
    },
    {
     "name": "stderr",
     "output_type": "stream",
     "text": [
      "WARNING:absl:Found untraced functions such as _update_step_xla while saving (showing 1 of 1). These functions will not be directly callable after loading.\n"
     ]
    },
    {
     "name": "stdout",
     "output_type": "stream",
     "text": [
      "[0.21181339025497437, 1.0]\n",
      "1/1 [==============================] - 0s 17ms/step - loss: 0.5280 - binary_accuracy: 1.0000\n"
     ]
    },
    {
     "name": "stderr",
     "output_type": "stream",
     "text": [
      "WARNING:absl:Found untraced functions such as _update_step_xla while saving (showing 1 of 1). These functions will not be directly callable after loading.\n"
     ]
    },
    {
     "name": "stdout",
     "output_type": "stream",
     "text": [
      "[0.7159857153892517, 0.75]\n",
      "1/1 [==============================] - 0s 19ms/step - loss: 0.3070 - binary_accuracy: 1.0000\n"
     ]
    },
    {
     "name": "stderr",
     "output_type": "stream",
     "text": [
      "[Parallel(n_jobs=15)]: Done  45 out of  50 | elapsed:  1.6min remaining:   10.5s\n",
      "WARNING:absl:Found untraced functions such as _update_step_xla while saving (showing 1 of 1). These functions will not be directly callable after loading.\n",
      "WARNING:absl:Found untraced functions such as _update_step_xla while saving (showing 1 of 1). These functions will not be directly callable after loading.\n"
     ]
    },
    {
     "name": "stdout",
     "output_type": "stream",
     "text": [
      "[0.7098003029823303, 0.75]\n",
      "1/1 [==============================] - 0s 18ms/step - loss: 0.3691 - binary_accuracy: 1.0000\n",
      "[0.4306969940662384, 0.875]\n",
      "1/1 [==============================] - 0s 17ms/step - loss: 0.4877 - binary_accuracy: 1.0000\n"
     ]
    },
    {
     "name": "stderr",
     "output_type": "stream",
     "text": [
      "WARNING:absl:Found untraced functions such as _update_step_xla while saving (showing 1 of 1). These functions will not be directly callable after loading.\n"
     ]
    },
    {
     "name": "stdout",
     "output_type": "stream",
     "text": [
      "[0.5566946268081665, 0.75]\n",
      "1/1 [==============================] - 0s 17ms/step - loss: 0.9909 - binary_accuracy: 0.7500\n"
     ]
    },
    {
     "name": "stderr",
     "output_type": "stream",
     "text": [
      "WARNING:absl:Found untraced functions such as _update_step_xla while saving (showing 1 of 1). These functions will not be directly callable after loading.\n"
     ]
    },
    {
     "name": "stdout",
     "output_type": "stream",
     "text": [
      "[0.5667020082473755, 0.875]\n",
      "1/1 [==============================] - 0s 17ms/step - loss: 0.2875 - binary_accuracy: 1.0000\n"
     ]
    },
    {
     "name": "stderr",
     "output_type": "stream",
     "text": [
      "WARNING:absl:Found untraced functions such as _update_step_xla while saving (showing 1 of 1). These functions will not be directly callable after loading.\n"
     ]
    },
    {
     "name": "stdout",
     "output_type": "stream",
     "text": [
      "[0.4648818373680115, 0.875]\n",
      "1/1 [==============================] - 0s 17ms/step - loss: 0.5159 - binary_accuracy: 0.8750\n"
     ]
    },
    {
     "name": "stderr",
     "output_type": "stream",
     "text": [
      "[Parallel(n_jobs=15)]: Done  50 out of  50 | elapsed:  2.0min finished\n"
     ]
    }
   ],
   "source": [
    "first_doc2vec_ann = Parallel(n_jobs=15, verbose = 10, backend = \"loky\")(delayed(doc2vec_ann_training)( i) for i in range(reps))"
   ]
  },
  {
   "cell_type": "code",
   "execution_count": 277,
   "id": "6339522d-c977-47fc-a26b-857a0708211e",
   "metadata": {},
   "outputs": [
    {
     "name": "stdout",
     "output_type": "stream",
     "text": [
      "[0.4801290035247803, 0.875]\n",
      "[0.47867393493652344, 0.875]\n",
      "[0.35818323493003845, 1.0]\n",
      "[0.5603498220443726, 0.875]\n",
      "[0.8599236607551575, 0.625]\n",
      "[0.2065814882516861, 1.0]\n",
      "[0.5891433358192444, 0.75]\n",
      "[0.7701529860496521, 0.625]\n",
      "[0.5280088186264038, 1.0]\n",
      "[0.3069707453250885, 1.0]\n",
      "[0.3691491186618805, 1.0]\n",
      "[0.4877047538757324, 1.0]\n",
      "[0.9909160733222961, 0.75]\n",
      "[0.2874676585197449, 1.0]\n",
      "[0.515872597694397, 0.875]\n"
     ]
    }
   ],
   "source": [
    "with open('doc2vec_ann.pkl', 'wb') as f:\n",
    "    pickle.dump(first_doc2vec_ann, f)"
   ]
  },
  {
   "cell_type": "code",
   "execution_count": 219,
   "id": "30c339ff-6f9f-4fba-8a42-ba63c534937e",
   "metadata": {},
   "outputs": [],
   "source": [
    "# catch_train_logits = []\n",
    "# catch_train_probs = []\n",
    "# catch_train_labels = []\n",
    "# catch_train_word2vec = []\n",
    "# catch_train_seqs = []\n",
    "# # catch_train_word2vec = []\n",
    "# for i in range(0, reps):\n",
    "#     # train_true_probs = tf.math.sigmoid(first_lstm[i][0])\n",
    "# #     idxes = ((train_true_probs >= 0.05) & (train_true_probs <= 0.95)).numpy().nonzero()[0]\n",
    "# #     catch_train_idxes.append(idxes)\n",
    "#     train_logits = first_doc2vec_ann[i][0]\n",
    "#     catch_train_logits.append(train_logits)\n",
    "#     # train_probs = train_true_probs.numpy()\n",
    "#     # catch_train_probs.append(train_probs)\n",
    "#     # train_labels = catch[i][3]\n",
    "#     # catch_train_labels.append(train_labels)\n",
    "#     # # catch_train_word2vec.append(catch[i][6])\n",
    "#     # catch_train_seqs.append(catch[i][0])"
   ]
  },
  {
   "cell_type": "code",
   "execution_count": 220,
   "id": "7578d85a-7fcd-4524-a9b8-fd81ecbe7463",
   "metadata": {},
   "outputs": [],
   "source": [
    "# catch_valid_logits = []\n",
    "# catch_valid_probs = []\n",
    "# catch_valid_labels = []\n",
    "# catch_valid_word2vec = []\n",
    "# catch_valid_seqs = []\n",
    "# # catch_train_word2vec = \n",
    "# for i in range(0, reps):\n",
    "#     # valid_true_probs = tf.math.sigmoid(first_lstm[i][1])\n",
    "#     valid_logits = first_doc2vec_ann[i][1]\n",
    "#     catch_valid_logits.append(valid_logits)\n",
    "#     # valid_probs = valid_true_probs.numpy()\n",
    "#     # catch_valid_probs.append(valid_probs)\n",
    "#     # valid_labels = catch[i][4]\n",
    "#     # catch_valid_labels.append(valid_labels)\n",
    "#     # # catch_valid_word2vec.append(catch[i][4])\n",
    "#     # catch_valid_seqs.append(catch[i][1])"
   ]
  },
  {
   "cell_type": "code",
   "execution_count": 221,
   "id": "ff3dbe92-d762-4530-a27e-060731961c11",
   "metadata": {},
   "outputs": [],
   "source": [
    "# catch_test_logits = []\n",
    "# catch_test_probs = []\n",
    "# catch_test_labels = []\n",
    "# # catch_test_word2vec = []\n",
    "# catch_test_seqs = []\n",
    "# for i in range(0, reps):\n",
    "#     # test_true_probs = tf.math.sigmoid(first_lstm[i][2])\n",
    "# #     idxes = ((test_true_probs >= 0.05) & (test_true_probs <= 0.95)).numpy().nonzero()[0]\n",
    "# #     catch_test_idxes.append(idxes)\n",
    "#     test_logits = first_doc2vec_ann[i][2]\n",
    "#     catch_test_logits.append(test_logits)\n",
    "#     # test_probs = test_true_probs.numpy()\n",
    "#     # catch_test_probs.append(test_probs)\n",
    "#     # test_labels = catch[i][5]\n",
    "#     # catch_test_labels.append(test_labels)\n",
    "#     # # catch_test_word2vec.append(catch[i][5])\n",
    "#     # catch_test_seqs.append(catch[i][2])"
   ]
  },
  {
   "cell_type": "code",
   "execution_count": 222,
   "id": "b50dc384-018e-45a0-af0b-bf651383adfe",
   "metadata": {},
   "outputs": [],
   "source": [
    "# with open('doc2vec_ann_train_logits.pkl', 'wb') as f:\n",
    "#     pickle.dump(catch_train_logits, f)"
   ]
  },
  {
   "cell_type": "code",
   "execution_count": 223,
   "id": "1d99265c-f71b-47b3-99ba-d3efa6c0f95a",
   "metadata": {},
   "outputs": [],
   "source": [
    "# with open('doc2vec_ann_valid_logits.pkl', 'wb') as f:\n",
    "#     pickle.dump(catch_valid_logits, f)"
   ]
  },
  {
   "cell_type": "code",
   "execution_count": 224,
   "id": "672dcaf5-54fc-4003-a16f-d742ad98aeb9",
   "metadata": {},
   "outputs": [],
   "source": [
    "# with open('doc2vec_ann_test_logits.pkl', 'wb') as f:\n",
    "#     pickle.dump(catch_test_logits, f)"
   ]
  },
  {
   "cell_type": "code",
   "execution_count": 225,
   "id": "20fa2754-4ec8-463d-bff1-63aaa7502cf5",
   "metadata": {},
   "outputs": [],
   "source": [
    "# ens_model = tf.keras.models.load_model(\"Real_World_LSTM_Models\" + \"//\" + \"Model_\" + str(0))"
   ]
  },
  {
   "cell_type": "code",
   "execution_count": 226,
   "id": "424e97cd-c62c-4b53-bf34-aafd77a35c03",
   "metadata": {},
   "outputs": [],
   "source": [
    "# ens_model.summary()"
   ]
  },
  {
   "cell_type": "code",
   "execution_count": 227,
   "id": "35d3063b-bdad-40f7-b2e6-34fdeb7f219a",
   "metadata": {},
   "outputs": [],
   "source": [
    "# base_model = attention_lstm_model(True)"
   ]
  },
  {
   "cell_type": "code",
   "execution_count": 228,
   "id": "c1a5669f-b9ad-4485-add4-f2e7707dc942",
   "metadata": {},
   "outputs": [],
   "source": [
    "# base_model.set_weights(ens_model.get_weights())"
   ]
  },
  {
   "cell_type": "code",
   "execution_count": 229,
   "id": "d2592bd4-1f16-4980-8ee1-539f73366927",
   "metadata": {},
   "outputs": [],
   "source": [
    "# base_model.predict(catch[0][0])"
   ]
  }
 ],
 "metadata": {
  "kernelspec": {
   "display_name": "enkf",
   "language": "python",
   "name": "enkf"
  },
  "language_info": {
   "codemirror_mode": {
    "name": "ipython",
    "version": 3
   },
   "file_extension": ".py",
   "mimetype": "text/x-python",
   "name": "python",
   "nbconvert_exporter": "python",
   "pygments_lexer": "ipython3",
   "version": "3.11.3"
  }
 },
 "nbformat": 4,
 "nbformat_minor": 5
}
