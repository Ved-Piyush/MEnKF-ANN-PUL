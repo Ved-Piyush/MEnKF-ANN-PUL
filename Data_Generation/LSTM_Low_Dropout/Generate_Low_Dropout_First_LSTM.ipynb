{
 "cells": [
  {
   "cell_type": "code",
   "execution_count": 1,
   "id": "d7ab5bf3",
   "metadata": {},
   "outputs": [],
   "source": [
    "import pandas as pd\n",
    "from tqdm import tqdm\n",
    "import gensim\n",
    "import os\n",
    "os.environ['TF_CPP_MIN_LOG_LEVEL'] = '3' \n",
    "# os.chdir(r\"D://Proposal_Defense//Simulations\")\n",
    "# from Utils.Script_utils import get_data_splits, first_LSTM_training, get_data_splits_old_algo\n",
    "from joblib import Parallel, delayed\n",
    "import sys\n",
    "from scipy.stats import norm"
   ]
  },
  {
   "cell_type": "code",
   "execution_count": 2,
   "id": "36084258",
   "metadata": {},
   "outputs": [
    {
     "name": "stdout",
     "output_type": "stream",
     "text": [
      "No GPU found\n"
     ]
    }
   ],
   "source": [
    "# Seed value\n",
    "# Apparently you may use different seed values at each stage\n",
    "seed_value= 42\n",
    "\n",
    "# 1. Set the `PYTHONHASHSEED` environment variable at a fixed value\n",
    "import os\n",
    "os.environ['PYTHONHASHSEED']=str(seed_value)\n",
    "\n",
    "# 2. Set the `python` built-in pseudo-random generator at a fixed value\n",
    "import random\n",
    "random.seed(seed_value)\n",
    "\n",
    "# 3. Set the `numpy` pseudo-random generator at a fixed value\n",
    "import numpy as np\n",
    "np.random.seed(seed_value)\n",
    "\n",
    "# # 4. Set the `tensorflow` pseudo-random generator at a fixed value\n",
    "import tensorflow as tf\n",
    "os.environ['CUDA_VISIBLE_DEVICES'] = '-1'\n",
    "\n",
    "if tf.test.gpu_device_name():\n",
    "    print('GPU found')\n",
    "else:\n",
    "    print(\"No GPU found\")\n",
    "# tf.config.set_visible_devices([], 'GPU')\n",
    "\n",
    "from tqdm.notebook import tqdm\n",
    "tf.random.set_seed(seed_value)\n",
    "# for later versions: \n",
    "# tf.compat.v1.set_random_seed(seed_value)\n",
    "\n",
    "# 5. Configure a new global `tensorflow` session\n",
    "# from keras import backend as K\n",
    "# session_conf = tf.compat.v1.ConfigProto(intra_op_parallelism_threads=1, inter_op_parallelism_threads=1)\n",
    "# sess = tf.compat.v1.Session(graph=tf.compat.v1.get_default_graph(), config=session_conf)\n",
    "# K.set_session(sess)"
   ]
  },
  {
   "cell_type": "code",
   "execution_count": 3,
   "id": "e036b858",
   "metadata": {},
   "outputs": [],
   "source": [
    "import matplotlib.pyplot as plt\n",
    "\n",
    "import pickle"
   ]
  },
  {
   "cell_type": "code",
   "execution_count": 4,
   "id": "3d0df813-a747-47b9-90c4-79afcb1176f0",
   "metadata": {},
   "outputs": [],
   "source": [
    "# def get_parent_dir(directory):\n",
    "#     import os\n",
    "#     return os.path.dirname(directory)\n",
    "\n",
    "# current_dirs_parent = get_parent_dir(os.getcwd())"
   ]
  },
  {
   "cell_type": "code",
   "execution_count": 5,
   "id": "e46d329d-fc08-46fd-8242-28ed776e5377",
   "metadata": {},
   "outputs": [],
   "source": [
    "# os.chdir(current_dirs_parent)"
   ]
  },
  {
   "cell_type": "code",
   "execution_count": 6,
   "id": "a919cced-55a8-44c2-aafe-8a1279fcd792",
   "metadata": {},
   "outputs": [],
   "source": [
    "# current_dirs_parent"
   ]
  },
  {
   "cell_type": "code",
   "execution_count": 7,
   "id": "058ca9d0",
   "metadata": {},
   "outputs": [],
   "source": [
    "model_cbow = gensim.models.word2vec.Word2Vec.load(r\"..//word2vec_sg\")"
   ]
  },
  {
   "cell_type": "code",
   "execution_count": 8,
   "id": "72fbb06e",
   "metadata": {},
   "outputs": [],
   "source": [
    "lr = 1e-3\n",
    "# from sklearn.model_selection import train_test_split\n"
   ]
  },
  {
   "cell_type": "code",
   "execution_count": 9,
   "id": "88bbd17f",
   "metadata": {},
   "outputs": [],
   "source": [
    "reps = 50"
   ]
  },
  {
   "cell_type": "code",
   "execution_count": 10,
   "id": "dc2a3de8-96a4-4ee8-89bf-8f15e7499b7e",
   "metadata": {},
   "outputs": [],
   "source": [
    "# with open('true_data_doc2vec_lstm_var_0.0001.pkl', 'wb') as f:\n",
    "#     pickle.dump(catch, f)\n",
    "\n",
    "\n",
    "with open('..//Data//train_valid_test_splits_50.pkl', 'rb') as f:\n",
    "    catch = pickle.load(f)  "
   ]
  },
  {
   "cell_type": "code",
   "execution_count": 11,
   "id": "5ac3794a-8f62-469e-a18c-c5731c80ce17",
   "metadata": {},
   "outputs": [],
   "source": [
    "rate = 0.5"
   ]
  },
  {
   "cell_type": "code",
   "execution_count": 12,
   "id": "55f0f415",
   "metadata": {},
   "outputs": [],
   "source": [
    "def attention_lstm_model(rate, training): \n",
    "    padding_vector = np.zeros((1, model_cbow.wv.vectors.shape[1]))\n",
    "    unknown_vector = np.zeros((1, model_cbow.wv.vectors.shape[1]))\n",
    "    weight_vectors = np.vstack((padding_vector, unknown_vector))\n",
    "    weight_vectors = np.vstack((weight_vectors, model_cbow.wv.vectors))\n",
    "    embedding_layer = tf.keras.layers.Embedding(len(weight_vectors),\n",
    "                            weight_vectors.shape[1],\n",
    "                            weights=[weight_vectors],\n",
    "                            mask_zero = False,\n",
    "                            trainable=False)\n",
    "\n",
    "    \n",
    "    vectorize_layer = tf.keras.layers.TextVectorization(\n",
    "                     output_mode='int',\n",
    "                     vocabulary=model_cbow.wv.index_to_key, \n",
    "                     standardize = None)\n",
    "    \n",
    "    input_layer = tf.keras.layers.Input(shape = (1,), dtype = tf.string)\n",
    "\n",
    "    vectorize = vectorize_layer(input_layer)\n",
    "\n",
    "    vectorize.shape\n",
    "\n",
    "    emb_output = embedding_layer(vectorize)\n",
    "\n",
    "    emb_output.shape\n",
    "    \n",
    "    # spatial_drop = tf.keras.layers.SpatialDropout1D(0.5)\n",
    "    \n",
    "    # spatial_out = spatial_drop(emb_output, training = training)\n",
    "\n",
    "    lstm_layer = tf.keras.layers.LSTM(25, return_sequences = True, dropout = rate)\n",
    "\n",
    "    lstm_output = lstm_layer(emb_output, training = training)\n",
    "\n",
    "#     x_a = tf.keras.layers.Dense(lstm_output.get_shape()[-1]//2, kernel_initializer = 'glorot_uniform', activation=\"tanh\", name=\"tanh_mlp\")(lstm_output) \n",
    "    \n",
    "    # x_a = tf.keras.layers.SpatialDropout1D(0.75)(lstm_output, training = training)\n",
    "    \n",
    "    x_a = tf.keras.layers.Dense(1, kernel_initializer = 'glorot_uniform', activation='linear', name=\"word-level_context\", kernel_regularizer=tf.keras.regularizers.L2())(lstm_output)\n",
    "\n",
    "    x_a = tf.keras.layers.Flatten()(x_a)\n",
    "\n",
    "    att_out = tf.keras.layers.Activation('softmax')(x_a) \n",
    "\n",
    "    x_a2 = tf.keras.layers.RepeatVector(lstm_output.get_shape()[-1])(att_out)\n",
    "\n",
    "    x_a2 = tf.keras.layers.Permute([2,1])(x_a2)\n",
    "\n",
    "    out = tf.keras.layers.Multiply()([lstm_output,x_a2])\n",
    "    \n",
    "    out = tf.keras.layers.Lambda(lambda x : tf.math.reduce_sum(x, axis = 1), name='expectation_over_words')(out)\n",
    "    \n",
    "    # dropout_layer = tf.keras.layers.Dropout(0.65)(out, training = training)\n",
    "\n",
    "    pred_head = tf.keras.layers.Dense(1, kernel_regularizer=tf.keras.regularizers.L2())\n",
    "\n",
    "    pred_output = pred_head(out)\n",
    "\n",
    "    model = tf.keras.models.Model(input_layer, pred_output)\n",
    "    \n",
    "    model.compile(loss = tf.keras.losses.BinaryCrossentropy(from_logits=True), \n",
    "                 optimizer = tf.keras.optimizers.Adam(learning_rate = lr), \n",
    "                 metrics=tf.keras.metrics.BinaryAccuracy())\n",
    "    \n",
    "    return model"
   ]
  },
  {
   "cell_type": "code",
   "execution_count": 13,
   "id": "86559497-34d8-48f0-9a9b-090a9f1bfd80",
   "metadata": {},
   "outputs": [],
   "source": [
    "# chk = attention_lstm_model(rate, False)"
   ]
  },
  {
   "cell_type": "code",
   "execution_count": 14,
   "id": "4a6d2940-1dc9-4da4-af61-eeb1798f7e46",
   "metadata": {},
   "outputs": [],
   "source": [
    "# chk.layers"
   ]
  },
  {
   "cell_type": "code",
   "execution_count": 15,
   "id": "9fd3c958-cf5c-4cd6-9e6c-1a92bd8198c6",
   "metadata": {},
   "outputs": [
    {
     "data": {
      "text/plain": [
       "0.5"
      ]
     },
     "execution_count": 15,
     "metadata": {},
     "output_type": "execute_result"
    }
   ],
   "source": [
    "rate"
   ]
  },
  {
   "cell_type": "code",
   "execution_count": 16,
   "id": "f8d97121",
   "metadata": {},
   "outputs": [],
   "source": [
    "def first_LSTM_training(idx):\n",
    "\n",
    "    first_lstm = attention_lstm_model(rate, False)\n",
    "    # model_word2vec = simple_lstm(False, model_cbow)\n",
    "    # init_weights = first_lstm.get_weights()\n",
    "    \n",
    "    first_lstm.fit(catch[idx][0], catch[idx][3], epochs = 2000, verbose = 0, \n",
    "                  callbacks = tf.keras.callbacks.EarlyStopping(monitor = \"val_loss\", patience = 30,\n",
    "                                                              restore_best_weights=True), \n",
    "                      validation_data = (catch[idx][1], catch[idx][4]))\n",
    "    \n",
    "    X_train_logits = first_lstm.predict(catch[idx][0], verbose = 0)\n",
    "    X_valid_logits = first_lstm.predict(catch[idx][1], verbose = 0)\n",
    "    X_test_logits = first_lstm.predict(catch[idx][2], verbose = 0)\n",
    "    \n",
    "    lstm_extract = tf.keras.models.Model(first_lstm.input, first_lstm.layers[-2].output)\n",
    "    \n",
    "    train_lstm_extract = lstm_extract(catch[idx][0])\n",
    "    valid_lstm_extract = lstm_extract(catch[idx][1])\n",
    "    test_lstm_extract = lstm_extract(catch[idx][2])\n",
    "    \n",
    "    first_lstm.save(\"Real_World_LSTM_Models_Low_Dropout\" + \"//\" + \"Model_\" + str(idx))\n",
    "    \n",
    "    return X_train_logits, X_valid_logits , X_test_logits,  train_lstm_extract, valid_lstm_extract, test_lstm_extract"
   ]
  },
  {
   "cell_type": "code",
   "execution_count": 17,
   "id": "f36db5a9",
   "metadata": {},
   "outputs": [
    {
     "name": "stderr",
     "output_type": "stream",
     "text": [
      "[Parallel(n_jobs=15)]: Using backend LokyBackend with 15 concurrent workers.\n",
      "WARNING:absl:Found untraced functions such as _update_step_xla, lstm_cell_layer_call_fn, lstm_cell_layer_call_and_return_conditional_losses while saving (showing 3 of 3). These functions will not be directly callable after loading.\n",
      "WARNING:absl:Found untraced functions such as _update_step_xla, lstm_cell_layer_call_fn, lstm_cell_layer_call_and_return_conditional_losses while saving (showing 3 of 3). These functions will not be directly callable after loading.\n",
      "WARNING:absl:Found untraced functions such as _update_step_xla, lstm_cell_layer_call_fn, lstm_cell_layer_call_and_return_conditional_losses while saving (showing 3 of 3). These functions will not be directly callable after loading.\n",
      "WARNING:absl:Found untraced functions such as _update_step_xla, lstm_cell_layer_call_fn, lstm_cell_layer_call_and_return_conditional_losses while saving (showing 3 of 3). These functions will not be directly callable after loading.\n",
      "WARNING:absl:Found untraced functions such as _update_step_xla, lstm_cell_layer_call_fn, lstm_cell_layer_call_and_return_conditional_losses while saving (showing 3 of 3). These functions will not be directly callable after loading.\n",
      "WARNING:absl:Found untraced functions such as _update_step_xla, lstm_cell_layer_call_fn, lstm_cell_layer_call_and_return_conditional_losses while saving (showing 3 of 3). These functions will not be directly callable after loading.\n",
      "WARNING:absl:Found untraced functions such as _update_step_xla, lstm_cell_layer_call_fn, lstm_cell_layer_call_and_return_conditional_losses while saving (showing 3 of 3). These functions will not be directly callable after loading.\n",
      "WARNING:absl:Found untraced functions such as _update_step_xla, lstm_cell_layer_call_fn, lstm_cell_layer_call_and_return_conditional_losses while saving (showing 3 of 3). These functions will not be directly callable after loading.\n",
      "[Parallel(n_jobs=15)]: Done   2 tasks      | elapsed:   15.2s\n",
      "WARNING:absl:Found untraced functions such as _update_step_xla, lstm_cell_layer_call_fn, lstm_cell_layer_call_and_return_conditional_losses while saving (showing 3 of 3). These functions will not be directly callable after loading.\n",
      "WARNING:absl:Found untraced functions such as _update_step_xla, lstm_cell_layer_call_fn, lstm_cell_layer_call_and_return_conditional_losses while saving (showing 3 of 3). These functions will not be directly callable after loading.\n",
      "WARNING:absl:Found untraced functions such as _update_step_xla, lstm_cell_layer_call_fn, lstm_cell_layer_call_and_return_conditional_losses while saving (showing 3 of 3). These functions will not be directly callable after loading.\n",
      "WARNING:absl:Found untraced functions such as _update_step_xla, lstm_cell_layer_call_fn, lstm_cell_layer_call_and_return_conditional_losses while saving (showing 3 of 3). These functions will not be directly callable after loading.\n",
      "WARNING:absl:Found untraced functions such as _update_step_xla, lstm_cell_layer_call_fn, lstm_cell_layer_call_and_return_conditional_losses while saving (showing 3 of 3). These functions will not be directly callable after loading.\n",
      "WARNING:absl:Found untraced functions such as _update_step_xla, lstm_cell_layer_call_fn, lstm_cell_layer_call_and_return_conditional_losses while saving (showing 3 of 3). These functions will not be directly callable after loading.\n",
      "[Parallel(n_jobs=15)]: Done  11 tasks      | elapsed:   17.2s\n",
      "WARNING:absl:Found untraced functions such as _update_step_xla, lstm_cell_layer_call_fn, lstm_cell_layer_call_and_return_conditional_losses while saving (showing 3 of 3). These functions will not be directly callable after loading.\n",
      "WARNING:absl:Found untraced functions such as _update_step_xla, lstm_cell_1_layer_call_fn, lstm_cell_1_layer_call_and_return_conditional_losses while saving (showing 3 of 3). These functions will not be directly callable after loading.\n",
      "WARNING:absl:Found untraced functions such as _update_step_xla, lstm_cell_1_layer_call_fn, lstm_cell_1_layer_call_and_return_conditional_losses while saving (showing 3 of 3). These functions will not be directly callable after loading.\n",
      "WARNING:absl:Found untraced functions such as _update_step_xla, lstm_cell_1_layer_call_fn, lstm_cell_1_layer_call_and_return_conditional_losses while saving (showing 3 of 3). These functions will not be directly callable after loading.\n",
      "WARNING:absl:Found untraced functions such as _update_step_xla, lstm_cell_1_layer_call_fn, lstm_cell_1_layer_call_and_return_conditional_losses while saving (showing 3 of 3). These functions will not be directly callable after loading.\n",
      "WARNING:absl:Found untraced functions such as _update_step_xla, lstm_cell_1_layer_call_fn, lstm_cell_1_layer_call_and_return_conditional_losses while saving (showing 3 of 3). These functions will not be directly callable after loading.\n",
      "WARNING:absl:Found untraced functions such as _update_step_xla, lstm_cell_1_layer_call_fn, lstm_cell_1_layer_call_and_return_conditional_losses while saving (showing 3 of 3). These functions will not be directly callable after loading.\n",
      "WARNING:absl:Found untraced functions such as _update_step_xla, lstm_cell_1_layer_call_fn, lstm_cell_1_layer_call_and_return_conditional_losses while saving (showing 3 of 3). These functions will not be directly callable after loading.\n",
      "[Parallel(n_jobs=15)]: Done  20 tasks      | elapsed:   29.4s\n",
      "WARNING:absl:Found untraced functions such as _update_step_xla, lstm_cell_1_layer_call_fn, lstm_cell_1_layer_call_and_return_conditional_losses while saving (showing 3 of 3). These functions will not be directly callable after loading.\n",
      "WARNING:absl:Found untraced functions such as _update_step_xla, lstm_cell_1_layer_call_fn, lstm_cell_1_layer_call_and_return_conditional_losses while saving (showing 3 of 3). These functions will not be directly callable after loading.\n",
      "WARNING:absl:Found untraced functions such as _update_step_xla, lstm_cell_1_layer_call_fn, lstm_cell_1_layer_call_and_return_conditional_losses while saving (showing 3 of 3). These functions will not be directly callable after loading.\n",
      "WARNING:absl:Found untraced functions such as _update_step_xla, lstm_cell_1_layer_call_fn, lstm_cell_1_layer_call_and_return_conditional_losses while saving (showing 3 of 3). These functions will not be directly callable after loading.\n",
      "WARNING:absl:Found untraced functions such as _update_step_xla, lstm_cell_1_layer_call_fn, lstm_cell_1_layer_call_and_return_conditional_losses while saving (showing 3 of 3). These functions will not be directly callable after loading.\n",
      "[Parallel(n_jobs=15)]: Done  27 out of  50 | elapsed:   33.8s remaining:   28.8s\n",
      "WARNING:absl:Found untraced functions such as _update_step_xla, lstm_cell_1_layer_call_fn, lstm_cell_1_layer_call_and_return_conditional_losses while saving (showing 3 of 3). These functions will not be directly callable after loading.\n",
      "WARNING:absl:Found untraced functions such as _update_step_xla, lstm_cell_1_layer_call_fn, lstm_cell_1_layer_call_and_return_conditional_losses while saving (showing 3 of 3). These functions will not be directly callable after loading.\n",
      "WARNING:absl:Found untraced functions such as _update_step_xla, lstm_cell_2_layer_call_fn, lstm_cell_2_layer_call_and_return_conditional_losses while saving (showing 3 of 3). These functions will not be directly callable after loading.\n",
      "WARNING:absl:Found untraced functions such as _update_step_xla, lstm_cell_2_layer_call_fn, lstm_cell_2_layer_call_and_return_conditional_losses while saving (showing 3 of 3). These functions will not be directly callable after loading.\n",
      "WARNING:absl:Found untraced functions such as _update_step_xla, lstm_cell_2_layer_call_fn, lstm_cell_2_layer_call_and_return_conditional_losses while saving (showing 3 of 3). These functions will not be directly callable after loading.\n",
      "WARNING:absl:Found untraced functions such as _update_step_xla, lstm_cell_2_layer_call_fn, lstm_cell_2_layer_call_and_return_conditional_losses while saving (showing 3 of 3). These functions will not be directly callable after loading.\n",
      "WARNING:absl:Found untraced functions such as _update_step_xla, lstm_cell_2_layer_call_fn, lstm_cell_2_layer_call_and_return_conditional_losses while saving (showing 3 of 3). These functions will not be directly callable after loading.\n",
      "WARNING:absl:Found untraced functions such as _update_step_xla, lstm_cell_2_layer_call_fn, lstm_cell_2_layer_call_and_return_conditional_losses while saving (showing 3 of 3). These functions will not be directly callable after loading.\n",
      "[Parallel(n_jobs=15)]: Done  33 out of  50 | elapsed:   42.7s remaining:   22.0s\n",
      "WARNING:absl:Found untraced functions such as _update_step_xla, lstm_cell_1_layer_call_fn, lstm_cell_1_layer_call_and_return_conditional_losses while saving (showing 3 of 3). These functions will not be directly callable after loading.\n",
      "WARNING:absl:Found untraced functions such as _update_step_xla, lstm_cell_2_layer_call_fn, lstm_cell_2_layer_call_and_return_conditional_losses while saving (showing 3 of 3). These functions will not be directly callable after loading.\n",
      "WARNING:absl:Found untraced functions such as _update_step_xla, lstm_cell_2_layer_call_fn, lstm_cell_2_layer_call_and_return_conditional_losses while saving (showing 3 of 3). These functions will not be directly callable after loading.\n",
      "WARNING:absl:Found untraced functions such as _update_step_xla, lstm_cell_2_layer_call_fn, lstm_cell_2_layer_call_and_return_conditional_losses while saving (showing 3 of 3). These functions will not be directly callable after loading.\n",
      "[Parallel(n_jobs=15)]: Done  39 out of  50 | elapsed:   48.6s remaining:   13.7s\n",
      "WARNING:absl:Found untraced functions such as _update_step_xla, lstm_cell_2_layer_call_fn, lstm_cell_2_layer_call_and_return_conditional_losses while saving (showing 3 of 3). These functions will not be directly callable after loading.\n",
      "WARNING:absl:Found untraced functions such as _update_step_xla, lstm_cell_2_layer_call_fn, lstm_cell_2_layer_call_and_return_conditional_losses while saving (showing 3 of 3). These functions will not be directly callable after loading.\n",
      "WARNING:absl:Found untraced functions such as _update_step_xla, lstm_cell_2_layer_call_fn, lstm_cell_2_layer_call_and_return_conditional_losses while saving (showing 3 of 3). These functions will not be directly callable after loading.\n",
      "WARNING:absl:Found untraced functions such as _update_step_xla, lstm_cell_3_layer_call_fn, lstm_cell_3_layer_call_and_return_conditional_losses while saving (showing 3 of 3). These functions will not be directly callable after loading.\n",
      "WARNING:absl:Found untraced functions such as _update_step_xla, lstm_cell_2_layer_call_fn, lstm_cell_2_layer_call_and_return_conditional_losses while saving (showing 3 of 3). These functions will not be directly callable after loading.\n",
      "WARNING:absl:Found untraced functions such as _update_step_xla, lstm_cell_3_layer_call_fn, lstm_cell_3_layer_call_and_return_conditional_losses while saving (showing 3 of 3). These functions will not be directly callable after loading.\n",
      "WARNING:absl:Found untraced functions such as _update_step_xla, lstm_cell_3_layer_call_fn, lstm_cell_3_layer_call_and_return_conditional_losses while saving (showing 3 of 3). These functions will not be directly callable after loading.\n",
      "WARNING:absl:Found untraced functions such as _update_step_xla, lstm_cell_3_layer_call_fn, lstm_cell_3_layer_call_and_return_conditional_losses while saving (showing 3 of 3). These functions will not be directly callable after loading.\n",
      "[Parallel(n_jobs=15)]: Done  45 out of  50 | elapsed:   53.5s remaining:    5.9s\n",
      "WARNING:absl:Found untraced functions such as _update_step_xla, lstm_cell_3_layer_call_fn, lstm_cell_3_layer_call_and_return_conditional_losses while saving (showing 3 of 3). These functions will not be directly callable after loading.\n",
      "WARNING:absl:Found untraced functions such as _update_step_xla, lstm_cell_3_layer_call_fn, lstm_cell_3_layer_call_and_return_conditional_losses while saving (showing 3 of 3). These functions will not be directly callable after loading.\n",
      "WARNING:absl:Found untraced functions such as _update_step_xla, lstm_cell_2_layer_call_fn, lstm_cell_2_layer_call_and_return_conditional_losses while saving (showing 3 of 3). These functions will not be directly callable after loading.\n",
      "[Parallel(n_jobs=15)]: Done  50 out of  50 | elapsed:   56.0s finished\n"
     ]
    }
   ],
   "source": [
    "first_lstm = Parallel(n_jobs=15, verbose = 10, backend = \"loky\")(delayed(first_LSTM_training)( i) for i in range(reps))"
   ]
  },
  {
   "cell_type": "code",
   "execution_count": 18,
   "id": "6339522d-c977-47fc-a26b-857a0708211e",
   "metadata": {},
   "outputs": [],
   "source": [
    "with open('low_dropout_first_lstm.pkl', 'wb') as f:\n",
    "    pickle.dump(first_lstm, f)"
   ]
  },
  {
   "cell_type": "code",
   "execution_count": 19,
   "id": "30c339ff-6f9f-4fba-8a42-ba63c534937e",
   "metadata": {},
   "outputs": [],
   "source": [
    "catch_train_logits = []\n",
    "catch_train_probs = []\n",
    "catch_train_labels = []\n",
    "catch_train_word2vec = []\n",
    "catch_train_seqs = []\n",
    "# catch_train_word2vec = []\n",
    "for i in range(0, reps):\n",
    "    # train_true_probs = tf.math.sigmoid(first_lstm[i][0])\n",
    "#     idxes = ((train_true_probs >= 0.05) & (train_true_probs <= 0.95)).numpy().nonzero()[0]\n",
    "#     catch_train_idxes.append(idxes)\n",
    "    train_logits = first_lstm[i][0]\n",
    "    catch_train_logits.append(train_logits)\n",
    "    # train_probs = train_true_probs.numpy()\n",
    "    # catch_train_probs.append(train_probs)\n",
    "    # train_labels = catch[i][3]\n",
    "    # catch_train_labels.append(train_labels)\n",
    "    # # catch_train_word2vec.append(catch[i][6])\n",
    "    # catch_train_seqs.append(catch[i][0])"
   ]
  },
  {
   "cell_type": "code",
   "execution_count": 20,
   "id": "7578d85a-7fcd-4524-a9b8-fd81ecbe7463",
   "metadata": {},
   "outputs": [],
   "source": [
    "catch_valid_logits = []\n",
    "catch_valid_probs = []\n",
    "catch_valid_labels = []\n",
    "catch_valid_word2vec = []\n",
    "catch_valid_seqs = []\n",
    "# catch_train_word2vec = \n",
    "for i in range(0, reps):\n",
    "    # valid_true_probs = tf.math.sigmoid(first_lstm[i][1])\n",
    "    valid_logits = first_lstm[i][1]\n",
    "    catch_valid_logits.append(valid_logits)\n",
    "    # valid_probs = valid_true_probs.numpy()\n",
    "    # catch_valid_probs.append(valid_probs)\n",
    "    # valid_labels = catch[i][4]\n",
    "    # catch_valid_labels.append(valid_labels)\n",
    "    # # catch_valid_word2vec.append(catch[i][4])\n",
    "    # catch_valid_seqs.append(catch[i][1])"
   ]
  },
  {
   "cell_type": "code",
   "execution_count": 21,
   "id": "ff3dbe92-d762-4530-a27e-060731961c11",
   "metadata": {},
   "outputs": [],
   "source": [
    "catch_test_logits = []\n",
    "catch_test_probs = []\n",
    "catch_test_labels = []\n",
    "# catch_test_word2vec = []\n",
    "catch_test_seqs = []\n",
    "for i in range(0, reps):\n",
    "    # test_true_probs = tf.math.sigmoid(first_lstm[i][2])\n",
    "#     idxes = ((test_true_probs >= 0.05) & (test_true_probs <= 0.95)).numpy().nonzero()[0]\n",
    "#     catch_test_idxes.append(idxes)\n",
    "    test_logits = first_lstm[i][2]\n",
    "    catch_test_logits.append(test_logits)\n",
    "    # test_probs = test_true_probs.numpy()\n",
    "    # catch_test_probs.append(test_probs)\n",
    "    # test_labels = catch[i][5]\n",
    "    # catch_test_labels.append(test_labels)\n",
    "    # # catch_test_word2vec.append(catch[i][5])\n",
    "    # catch_test_seqs.append(catch[i][2])"
   ]
  },
  {
   "cell_type": "code",
   "execution_count": 22,
   "id": "b50dc384-018e-45a0-af0b-bf651383adfe",
   "metadata": {},
   "outputs": [],
   "source": [
    "with open('Low_Data_train_logits.pkl', 'wb') as f:\n",
    "    pickle.dump(catch_train_logits, f)"
   ]
  },
  {
   "cell_type": "code",
   "execution_count": 23,
   "id": "1d99265c-f71b-47b3-99ba-d3efa6c0f95a",
   "metadata": {},
   "outputs": [],
   "source": [
    "with open('Low_Data_valid_logits.pkl', 'wb') as f:\n",
    "    pickle.dump(catch_valid_logits, f)"
   ]
  },
  {
   "cell_type": "code",
   "execution_count": 24,
   "id": "672dcaf5-54fc-4003-a16f-d742ad98aeb9",
   "metadata": {},
   "outputs": [],
   "source": [
    "with open('Low_Data_test_logits.pkl', 'wb') as f:\n",
    "    pickle.dump(catch_test_logits, f)"
   ]
  },
  {
   "cell_type": "code",
   "execution_count": 25,
   "id": "20fa2754-4ec8-463d-bff1-63aaa7502cf5",
   "metadata": {},
   "outputs": [],
   "source": [
    "# ens_model = tf.keras.models.load_model(\"Real_World_LSTM_Models\" + \"//\" + \"Model_\" + str(0))"
   ]
  },
  {
   "cell_type": "code",
   "execution_count": 26,
   "id": "424e97cd-c62c-4b53-bf34-aafd77a35c03",
   "metadata": {},
   "outputs": [],
   "source": [
    "# ens_model.summary()"
   ]
  },
  {
   "cell_type": "code",
   "execution_count": 27,
   "id": "35d3063b-bdad-40f7-b2e6-34fdeb7f219a",
   "metadata": {},
   "outputs": [],
   "source": [
    "# base_model = attention_lstm_model(True)"
   ]
  },
  {
   "cell_type": "code",
   "execution_count": 28,
   "id": "c1a5669f-b9ad-4485-add4-f2e7707dc942",
   "metadata": {},
   "outputs": [],
   "source": [
    "# base_model.set_weights(ens_model.get_weights())"
   ]
  },
  {
   "cell_type": "code",
   "execution_count": 29,
   "id": "d2592bd4-1f16-4980-8ee1-539f73366927",
   "metadata": {},
   "outputs": [],
   "source": [
    "# base_model.predict(catch[0][0])"
   ]
  }
 ],
 "metadata": {
  "kernelspec": {
   "display_name": "enkf",
   "language": "python",
   "name": "enkf"
  },
  "language_info": {
   "codemirror_mode": {
    "name": "ipython",
    "version": 3
   },
   "file_extension": ".py",
   "mimetype": "text/x-python",
   "name": "python",
   "nbconvert_exporter": "python",
   "pygments_lexer": "ipython3",
   "version": "3.10.8"
  }
 },
 "nbformat": 4,
 "nbformat_minor": 5
}
