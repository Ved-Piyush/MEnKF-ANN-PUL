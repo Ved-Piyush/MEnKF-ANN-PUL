{
 "cells": [
  {
   "cell_type": "code",
   "execution_count": 1,
   "id": "d0f18d6a-0cbf-4f25-bdc2-48e50a0ab3ea",
   "metadata": {},
   "outputs": [],
   "source": [
    "## basic libary imports\n",
    "import pandas as pd\n",
    "import gensim\n",
    "import numpy as np"
   ]
  },
  {
   "cell_type": "code",
   "execution_count": 2,
   "id": "028b9d91-8c40-489d-ac4a-a545c2158aba",
   "metadata": {},
   "outputs": [],
   "source": [
    "import os"
   ]
  },
  {
   "cell_type": "code",
   "execution_count": 5,
   "id": "343960b2-afb4-4f15-a44a-317ea3296c75",
   "metadata": {},
   "outputs": [],
   "source": [
    "def get_parent_dir(directory):\n",
    "    import os\n",
    "    return os.path.dirname(directory)\n",
    "\n",
    "current_dirs_parent = get_parent_dir(os.getcwd())"
   ]
  },
  {
   "cell_type": "code",
   "execution_count": 6,
   "id": "2357e439-6848-408f-b0f7-0cfb5bfb8fbc",
   "metadata": {},
   "outputs": [],
   "source": [
    "os.chdir(current_dirs_parent)"
   ]
  },
  {
   "cell_type": "code",
   "execution_count": 7,
   "id": "5dcdab9a-81b7-460b-a866-e165c6cf813e",
   "metadata": {},
   "outputs": [],
   "source": [
    "updated_data_unsupervised = pd.read_csv(r\"Data//all_unsupervised.csv\")\n",
    "updated_data_unsupervised = updated_data_unsupervised.sample(frac = 1.0).reset_index(drop = True)"
   ]
  },
  {
   "cell_type": "code",
   "execution_count": 10,
   "id": "01e07e53-b40f-46d3-9e95-c07d04bb7777",
   "metadata": {},
   "outputs": [],
   "source": [
    "updated_data_unsupervised[\"sequence\"] = [seq.replace(\"|\", \",\").replace(\",\", \" \") for seq in updated_data_unsupervised[\"sequence\"]]"
   ]
  },
  {
   "cell_type": "code",
   "execution_count": 16,
   "id": "600025ca-7ea7-4356-8396-01397a14d1ab",
   "metadata": {},
   "outputs": [],
   "source": [
    "np.savetxt(r\"Data//all_unsupervised_text.txt\", updated_data_unsupervised[\"sequence\"].values, fmt='%s')"
   ]
  },
  {
   "cell_type": "code",
   "execution_count": 17,
   "id": "8b4b8ef6-1d54-455f-9052-c4f63bfdaf0d",
   "metadata": {},
   "outputs": [],
   "source": [
    "vec_size = 50"
   ]
  },
  {
   "cell_type": "code",
   "execution_count": 20,
   "id": "65a19008-8bdf-4748-8093-fdf0371b700d",
   "metadata": {},
   "outputs": [],
   "source": [
    "doc2vec_dbow = gensim.models.doc2vec.Doc2Vec(corpus_file=r\"Data//all_unsupervised_text.txt\", \n",
    "                                           vector_size=vec_size, min_count=5, epochs=60, workers = 15, dm = 0, \n",
    "                                      dbow_words = 0, window = 7)\n",
    "doc2vec_dbow.save(\"doc2vec_dbow\" )"
   ]
  },
  {
   "cell_type": "code",
   "execution_count": 21,
   "id": "bc502bfe-2aec-43bc-8c9d-218a34234308",
   "metadata": {},
   "outputs": [],
   "source": [
    "## word2vec_sg\n",
    "word2vec_sg = gensim.models.Word2Vec(corpus_file=r\"Data//all_unsupervised_text.txt\", \n",
    "                                           vector_size=vec_size, window = 7, min_count = 5, max_vocab_size = None, sg = 1,\n",
    "                                           workers = 15, epochs=60)\n",
    "\n",
    "word2vec_sg.save(\"word2vec_sg\")"
   ]
  }
 ],
 "metadata": {
  "kernelspec": {
   "display_name": "enkf",
   "language": "python",
   "name": "enkf"
  },
  "language_info": {
   "codemirror_mode": {
    "name": "ipython",
    "version": 3
   },
   "file_extension": ".py",
   "mimetype": "text/x-python",
   "name": "python",
   "nbconvert_exporter": "python",
   "pygments_lexer": "ipython3",
   "version": "3.10.8"
  }
 },
 "nbformat": 4,
 "nbformat_minor": 5
}
