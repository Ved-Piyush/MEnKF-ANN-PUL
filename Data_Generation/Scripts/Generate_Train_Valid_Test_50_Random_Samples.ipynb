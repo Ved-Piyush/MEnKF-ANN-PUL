{
 "cells": [
  {
   "cell_type": "code",
   "execution_count": 1,
   "id": "d7ab5bf3",
   "metadata": {},
   "outputs": [],
   "source": [
    "import pandas as pd\n",
    "from tqdm import tqdm\n",
    "import gensim\n",
    "import os\n",
    "os.environ['TF_CPP_MIN_LOG_LEVEL'] = '3' \n",
    "# os.chdir(r\"D://Proposal_Defense//Simulations\")"
   ]
  },
  {
   "cell_type": "code",
   "execution_count": 5,
   "id": "386e1d9b-ff74-4809-b386-ffb05e2269e4",
   "metadata": {},
   "outputs": [],
   "source": [
    "def get_parent_dir(directory):\n",
    "    import os\n",
    "    return os.path.dirname(directory)\n",
    "\n",
    "current_dirs_parent = get_parent_dir(os.getcwd())"
   ]
  },
  {
   "cell_type": "code",
   "execution_count": 6,
   "id": "65268680-a349-4e96-9667-54ac52a3ee43",
   "metadata": {},
   "outputs": [],
   "source": [
    "os.chdir(current_dirs_parent)"
   ]
  },
  {
   "cell_type": "code",
   "execution_count": 7,
   "id": "961ea0cd-7147-4cba-aa98-2791ad253c46",
   "metadata": {},
   "outputs": [
    {
     "data": {
      "text/plain": [
       "'/lustre/work/statgrads/vpiyush2/MEnKF-ANN/Data_Generation'"
      ]
     },
     "execution_count": 7,
     "metadata": {},
     "output_type": "execute_result"
    }
   ],
   "source": [
    "os.getcwd()"
   ]
  },
  {
   "cell_type": "code",
   "execution_count": 8,
   "id": "2bcf92b6-6036-4f11-9887-b6dbbc15df5f",
   "metadata": {},
   "outputs": [],
   "source": [
    "from Utils.Script_utils import get_data_splits, first_LSTM_training, get_data_splits_new\n",
    "from joblib import Parallel, delayed\n",
    "import sys\n",
    "from scipy.stats import norm"
   ]
  },
  {
   "cell_type": "code",
   "execution_count": 9,
   "id": "36084258",
   "metadata": {},
   "outputs": [
    {
     "name": "stdout",
     "output_type": "stream",
     "text": [
      "No GPU found\n"
     ]
    }
   ],
   "source": [
    "# Seed value\n",
    "# Apparently you may use different seed values at each stage\n",
    "seed_value= 42\n",
    "\n",
    "# 1. Set the `PYTHONHASHSEED` environment variable at a fixed value\n",
    "import os\n",
    "os.environ['PYTHONHASHSEED']=str(seed_value)\n",
    "\n",
    "# 2. Set the `python` built-in pseudo-random generator at a fixed value\n",
    "import random\n",
    "random.seed(seed_value)\n",
    "\n",
    "# 3. Set the `numpy` pseudo-random generator at a fixed value\n",
    "import numpy as np\n",
    "np.random.seed(seed_value)\n",
    "\n",
    "# # 4. Set the `tensorflow` pseudo-random generator at a fixed value\n",
    "import tensorflow as tf\n",
    "os.environ['CUDA_VISIBLE_DEVICES'] = '-1'\n",
    "\n",
    "if tf.test.gpu_device_name():\n",
    "    print('GPU found')\n",
    "else:\n",
    "    print(\"No GPU found\")\n",
    "# tf.config.set_visible_devices([], 'GPU')\n",
    "\n",
    "from tqdm.notebook import tqdm\n",
    "tf.random.set_seed(seed_value)\n",
    "# for later versions: \n",
    "# tf.compat.v1.set_random_seed(seed_value)\n",
    "\n",
    "# 5. Configure a new global `tensorflow` session\n",
    "# from keras import backend as K\n",
    "# session_conf = tf.compat.v1.ConfigProto(intra_op_parallelism_threads=1, inter_op_parallelism_threads=1)\n",
    "# sess = tf.compat.v1.Session(graph=tf.compat.v1.get_default_graph(), config=session_conf)\n",
    "# K.set_session(sess)"
   ]
  },
  {
   "cell_type": "code",
   "execution_count": 10,
   "id": "e036b858",
   "metadata": {},
   "outputs": [],
   "source": [
    "import matplotlib.pyplot as plt\n",
    "\n",
    "import pickle"
   ]
  },
  {
   "cell_type": "code",
   "execution_count": null,
   "id": "058ca9d0",
   "metadata": {},
   "outputs": [],
   "source": [
    "# model_cbow = gensim.models.word2vec.Word2Vec.load(r\"Data//word2vec_sg\")"
   ]
  },
  {
   "cell_type": "code",
   "execution_count": 13,
   "id": "72fbb06e",
   "metadata": {},
   "outputs": [],
   "source": [
    "lr = 1e-3\n",
    "# from sklearn.model_selection import train_test_split\n",
    "\n",
    "\n",
    "## Read the data\n",
    "data = pd.read_csv(r\"Data//supervised.csv\")\n",
    "\n",
    "## We only using xylan and pectin\n",
    "to_keep = [\"pectin\", \"xylan\"]\n",
    "\n",
    "data = data[data[\"high_level_substr\"].isin(to_keep)]\n",
    "\n",
    "data = data.reset_index(drop = True)\n",
    "\n",
    "features = [seq.replace(\"|\", \",\").replace(\",\", \" \") for seq in data[\"sig_gene_seq\"].values]\n",
    "\n",
    "features  = np.array(features)\n",
    "\n",
    "features = features.reshape(-1,1)"
   ]
  },
  {
   "cell_type": "code",
   "execution_count": 14,
   "id": "d02c4f20-faf2-4e10-86f6-9ca8a295b770",
   "metadata": {},
   "outputs": [
    {
     "data": {
      "text/plain": [
       "pectin    39\n",
       "xylan     35\n",
       "Name: high_level_substr, dtype: int64"
      ]
     },
     "execution_count": 14,
     "metadata": {},
     "output_type": "execute_result"
    }
   ],
   "source": [
    "data[\"high_level_substr\"].value_counts()"
   ]
  },
  {
   "cell_type": "code",
   "execution_count": 15,
   "id": "2bf7066c-ea42-41bd-949d-293de7243bfc",
   "metadata": {},
   "outputs": [
    {
     "data": {
      "text/html": [
       "<div>\n",
       "<style scoped>\n",
       "    .dataframe tbody tr th:only-of-type {\n",
       "        vertical-align: middle;\n",
       "    }\n",
       "\n",
       "    .dataframe tbody tr th {\n",
       "        vertical-align: top;\n",
       "    }\n",
       "\n",
       "    .dataframe thead th {\n",
       "        text-align: right;\n",
       "    }\n",
       "</style>\n",
       "<table border=\"1\" class=\"dataframe\">\n",
       "  <thead>\n",
       "    <tr style=\"text-align: right;\">\n",
       "      <th></th>\n",
       "      <th>PUL ID</th>\n",
       "      <th>high_level_substr</th>\n",
       "      <th>PULid</th>\n",
       "      <th>sig_gene_seq</th>\n",
       "    </tr>\n",
       "  </thead>\n",
       "  <tbody>\n",
       "    <tr>\n",
       "      <th>0</th>\n",
       "      <td>PUL0014</td>\n",
       "      <td>pectin</td>\n",
       "      <td>PUL0014</td>\n",
       "      <td>null,null,HTH_DeoR,HTH_AraC|HTH_AraC,8.A.59,PL...</td>\n",
       "    </tr>\n",
       "    <tr>\n",
       "      <th>1</th>\n",
       "      <td>PUL0034</td>\n",
       "      <td>pectin</td>\n",
       "      <td>PUL0034</td>\n",
       "      <td>CE10,1.B.35</td>\n",
       "    </tr>\n",
       "    <tr>\n",
       "      <th>2</th>\n",
       "      <td>PUL0035</td>\n",
       "      <td>pectin</td>\n",
       "      <td>PUL0035</td>\n",
       "      <td>3.A.1,3.A.1,3.A.1,3.A.1,PL2_2</td>\n",
       "    </tr>\n",
       "    <tr>\n",
       "      <th>3</th>\n",
       "      <td>PUL0081</td>\n",
       "      <td>pectin</td>\n",
       "      <td>PUL0081</td>\n",
       "      <td>MarR,null,null,AraC_binding,null,null,PfkB,nul...</td>\n",
       "    </tr>\n",
       "    <tr>\n",
       "      <th>4</th>\n",
       "      <td>PUL0086</td>\n",
       "      <td>pectin</td>\n",
       "      <td>PUL0086</td>\n",
       "      <td>PL10_1,CE8,PL11</td>\n",
       "    </tr>\n",
       "  </tbody>\n",
       "</table>\n",
       "</div>"
      ],
      "text/plain": [
       "    PUL ID high_level_substr    PULid  \\\n",
       "0  PUL0014            pectin  PUL0014   \n",
       "1  PUL0034            pectin  PUL0034   \n",
       "2  PUL0035            pectin  PUL0035   \n",
       "3  PUL0081            pectin  PUL0081   \n",
       "4  PUL0086            pectin  PUL0086   \n",
       "\n",
       "                                        sig_gene_seq  \n",
       "0  null,null,HTH_DeoR,HTH_AraC|HTH_AraC,8.A.59,PL...  \n",
       "1                                        CE10,1.B.35  \n",
       "2                      3.A.1,3.A.1,3.A.1,3.A.1,PL2_2  \n",
       "3  MarR,null,null,AraC_binding,null,null,PfkB,nul...  \n",
       "4                                    PL10_1,CE8,PL11  "
      ]
     },
     "execution_count": 15,
     "metadata": {},
     "output_type": "execute_result"
    }
   ],
   "source": [
    "data.head()"
   ]
  },
  {
   "cell_type": "code",
   "execution_count": 16,
   "id": "88bbd17f",
   "metadata": {},
   "outputs": [],
   "source": [
    "reps = 50"
   ]
  },
  {
   "cell_type": "code",
   "execution_count": 18,
   "id": "440c1a52",
   "metadata": {},
   "outputs": [
    {
     "name": "stderr",
     "output_type": "stream",
     "text": [
      "[Parallel(n_jobs=15)]: Using backend ThreadingBackend with 15 concurrent workers.\n",
      "[Parallel(n_jobs=15)]: Done   2 tasks      | elapsed:    0.1s\n",
      "[Parallel(n_jobs=15)]: Done  11 tasks      | elapsed:    0.1s\n",
      "[Parallel(n_jobs=15)]: Done  20 tasks      | elapsed:    0.1s\n",
      "[Parallel(n_jobs=15)]: Done  27 out of  50 | elapsed:    0.2s remaining:    0.2s\n",
      "[Parallel(n_jobs=15)]: Done  33 out of  50 | elapsed:    0.2s remaining:    0.1s\n",
      "[Parallel(n_jobs=15)]: Done  39 out of  50 | elapsed:    0.2s remaining:    0.1s\n",
      "[Parallel(n_jobs=15)]: Done  45 out of  50 | elapsed:    0.2s remaining:    0.0s\n",
      "[Parallel(n_jobs=15)]: Done  50 out of  50 | elapsed:    0.2s finished\n"
     ]
    }
   ],
   "source": [
    "## generate 100 realizations of train valid and test\n",
    "catch = Parallel(n_jobs=15, verbose = 10, backend = \"threading\")(delayed(get_data_splits_new)(data,  features,  i) for i in range(reps)) "
   ]
  },
  {
   "cell_type": "code",
   "execution_count": 19,
   "id": "3d6d89e6-e2dc-451a-b7f7-c362e1cf75cf",
   "metadata": {},
   "outputs": [],
   "source": [
    "with open('Data//train_valid_test_splits_50.pkl', 'wb') as f:\n",
    "    pickle.dump(catch, f)  "
   ]
  }
 ],
 "metadata": {
  "kernelspec": {
   "display_name": "enkf",
   "language": "python",
   "name": "enkf"
  },
  "language_info": {
   "codemirror_mode": {
    "name": "ipython",
    "version": 3
   },
   "file_extension": ".py",
   "mimetype": "text/x-python",
   "name": "python",
   "nbconvert_exporter": "python",
   "pygments_lexer": "ipython3",
   "version": "3.10.8"
  }
 },
 "nbformat": 4,
 "nbformat_minor": 5
}
