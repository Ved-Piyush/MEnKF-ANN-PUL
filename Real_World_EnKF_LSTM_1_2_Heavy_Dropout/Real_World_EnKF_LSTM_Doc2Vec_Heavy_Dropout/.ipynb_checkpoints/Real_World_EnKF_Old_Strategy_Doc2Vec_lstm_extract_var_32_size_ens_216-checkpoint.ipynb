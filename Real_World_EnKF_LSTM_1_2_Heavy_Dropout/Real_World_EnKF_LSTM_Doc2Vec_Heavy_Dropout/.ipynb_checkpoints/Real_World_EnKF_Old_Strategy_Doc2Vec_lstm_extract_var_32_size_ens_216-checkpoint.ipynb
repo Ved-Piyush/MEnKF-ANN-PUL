{
 "cells": [
  {
   "cell_type": "code",
   "execution_count": 93,
   "id": "d7ab5bf3",
   "metadata": {},
   "outputs": [],
   "source": [
    "import pandas as pd\n",
    "from tqdm import tqdm\n",
    "import gensim\n",
    "import os\n",
    "os.environ['TF_CPP_MIN_LOG_LEVEL'] = '3' \n",
    "# os.chdir(r\"D://Proposal_Defense//Simulations\")\n",
    "# from Utils.Script_utils import get_data_splits, first_LSTM_training, get_data_splits_old_algo\n",
    "from joblib import Parallel, delayed\n",
    "import sys\n",
    "from scipy.stats import norm"
   ]
  },
  {
   "cell_type": "code",
   "execution_count": 94,
   "id": "36084258",
   "metadata": {},
   "outputs": [
    {
     "name": "stdout",
     "output_type": "stream",
     "text": [
      "No GPU found\n"
     ]
    }
   ],
   "source": [
    "# Seed value\n",
    "# Apparently you may use different seed values at each stage\n",
    "seed_value= 42\n",
    "\n",
    "# 1. Set the `PYTHONHASHSEED` environment variable at a fixed value\n",
    "import os\n",
    "os.environ['PYTHONHASHSEED']=str(seed_value)\n",
    "\n",
    "# 2. Set the `python` built-in pseudo-random generator at a fixed value\n",
    "import random\n",
    "random.seed(seed_value)\n",
    "\n",
    "# 3. Set the `numpy` pseudo-random generator at a fixed value\n",
    "import numpy as np\n",
    "np.random.seed(seed_value)\n",
    "\n",
    "# # 4. Set the `tensorflow` pseudo-random generator at a fixed value\n",
    "import tensorflow as tf\n",
    "os.environ['CUDA_VISIBLE_DEVICES'] = '-1'\n",
    "\n",
    "if tf.test.gpu_device_name():\n",
    "    print('GPU found')\n",
    "else:\n",
    "    print(\"No GPU found\")\n",
    "# tf.config.set_visible_devices([], 'GPU')\n",
    "\n",
    "from tqdm.notebook import tqdm\n",
    "tf.random.set_seed(seed_value)\n",
    "import multiprocessing\n",
    "# for later versions: \n",
    "# tf.compat.v1.set_random_seed(seed_value)\n",
    "\n",
    "# 5. Configure a new global `tensorflow` session\n",
    "# from keras import backend as K\n",
    "# session_conf = tf.compat.v1.ConfigProto(intra_op_parallelism_threads=1, inter_op_parallelism_threads=1)\n",
    "# sess = tf.compat.v1.Session(graph=tf.compat.v1.get_default_graph(), config=session_conf)\n",
    "# K.set_session(sess)"
   ]
  },
  {
   "cell_type": "code",
   "execution_count": 95,
   "id": "e036b858",
   "metadata": {},
   "outputs": [],
   "source": [
    "import matplotlib.pyplot as plt\n",
    "\n",
    "import pickle"
   ]
  },
  {
   "cell_type": "code",
   "execution_count": 96,
   "id": "058ca9d0",
   "metadata": {},
   "outputs": [],
   "source": [
    "model_cbow = gensim.models.word2vec.Word2Vec.load(r\"..//Data_Generation//word2vec_sg\")"
   ]
  },
  {
   "cell_type": "code",
   "execution_count": 97,
   "id": "d02c4f20-faf2-4e10-86f6-9ca8a295b770",
   "metadata": {},
   "outputs": [],
   "source": [
    "# data[\"high_level_substr\"].value_counts()"
   ]
  },
  {
   "cell_type": "code",
   "execution_count": 98,
   "id": "2bf7066c-ea42-41bd-949d-293de7243bfc",
   "metadata": {},
   "outputs": [],
   "source": [
    "# data.head()"
   ]
  },
  {
   "cell_type": "code",
   "execution_count": 99,
   "id": "88bbd17f",
   "metadata": {},
   "outputs": [],
   "source": [
    "reps = 50"
   ]
  },
  {
   "cell_type": "code",
   "execution_count": 100,
   "id": "440c1a52",
   "metadata": {},
   "outputs": [],
   "source": [
    "with open('..//Data_Generation//Data//train_valid_test_splits_50.pkl', 'rb') as f:\n",
    "    catch = pickle.load(f)  "
   ]
  },
  {
   "cell_type": "code",
   "execution_count": 101,
   "id": "6fb71411-e2f7-40a8-846d-d2d86e1e4eda",
   "metadata": {},
   "outputs": [],
   "source": [
    "with open('..//Data_Generation//LSTM_Heavy_Dropout//heavy_dropout_first_lstm.pkl', 'rb') as f:\n",
    "    first_lstm = pickle.load(f)  \n",
    "\n",
    "    \n",
    "# with open('..//Data_Generation//LSTM_Heavy_Dropout//Heavy_Data_train_logits.pkl', 'rb') as f:\n",
    "#     catch_train_logits = (pickle.load(f))    \n",
    "\n",
    "# with open('..//Data_Generation//LSTM_Heavy_Dropout//Heavy_Data_valid_logits.pkl', 'rb') as f:\n",
    "#     catch_valid_logits = (pickle.load( f))      \n",
    "    \n",
    "# with open('..//Data_Generation//LSTM_Heavy_Dropout//Heavy_Data_test_logits.pkl', 'rb') as f:\n",
    "#     catch_test_logits = (pickle.load( f))      \n",
    "    "
   ]
  },
  {
   "cell_type": "code",
   "execution_count": 102,
   "id": "76624ecc-8bb7-4e52-b95d-1a01cecacb5b",
   "metadata": {},
   "outputs": [],
   "source": [
    "def ann(hidden = 10): \n",
    "    input_layer = tf.keras.layers.Input(shape = (X_train_word2vec.shape[1]))\n",
    "    hidden_layer = tf.keras.layers.Dense(hidden)\n",
    "    hidden_output = hidden_layer(input_layer)\n",
    "    pred_layer = tf.keras.layers.Dense(1)\n",
    "    pred_output = pred_layer(hidden_output)\n",
    "#     pred_output = tf.keras.layers.Activation(\"softmax\")(pred_output)\n",
    "    model = tf.keras.models.Model(input_layer, pred_output)\n",
    "    return model"
   ]
  },
  {
   "cell_type": "code",
   "execution_count": 103,
   "id": "5fdce782-35ce-4f39-923d-4314c6901f68",
   "metadata": {},
   "outputs": [],
   "source": [
    "h1, h2 = 16,16"
   ]
  },
  {
   "cell_type": "code",
   "execution_count": 104,
   "id": "b8153ea5-cefc-4075-994d-c51461505e8b",
   "metadata": {},
   "outputs": [],
   "source": [
    "X_train_word2vec = first_lstm[0][3].numpy()"
   ]
  },
  {
   "cell_type": "code",
   "execution_count": 105,
   "id": "b2ff179a-2c64-4bae-bfd5-3ce7f4b40fb5",
   "metadata": {},
   "outputs": [],
   "source": [
    "\n",
    "\n",
    "ann_15 = ann(h1)\n",
    "\n",
    "\n",
    "# In[35]:\n",
    "\n",
    "\n",
    "# ann_15.summary()\n",
    "\n",
    "\n",
    "# In[36]:\n",
    "\n"
   ]
  },
  {
   "cell_type": "code",
   "execution_count": 106,
   "id": "0bf5144e-59f2-413e-af30-39407819094c",
   "metadata": {},
   "outputs": [
    {
     "name": "stdout",
     "output_type": "stream",
     "text": [
      "Model: \"model_2\"\n",
      "_________________________________________________________________\n",
      " Layer (type)                Output Shape              Param #   \n",
      "=================================================================\n",
      " input_3 (InputLayer)        [(None, 25)]              0         \n",
      "                                                                 \n",
      " dense_4 (Dense)             (None, 16)                416       \n",
      "                                                                 \n",
      " dense_5 (Dense)             (None, 1)                 17        \n",
      "                                                                 \n",
      "=================================================================\n",
      "Total params: 433\n",
      "Trainable params: 433\n",
      "Non-trainable params: 0\n",
      "_________________________________________________________________\n"
     ]
    }
   ],
   "source": [
    "ann_15.summary()"
   ]
  },
  {
   "cell_type": "code",
   "execution_count": 107,
   "id": "a9c45b5a-9f13-4fd9-b90c-ed94e069b9cc",
   "metadata": {},
   "outputs": [],
   "source": [
    "X_train_word2vec = model_cbow.wv.vectors"
   ]
  },
  {
   "cell_type": "code",
   "execution_count": 108,
   "id": "bce5668e-a895-47b4-8f1c-6e5d1fd3c92b",
   "metadata": {},
   "outputs": [],
   "source": [
    "ann_20 = ann(h2)\n",
    "\n",
    "\n",
    "\n",
    "# ann_20.summary()\n",
    "\n"
   ]
  },
  {
   "cell_type": "code",
   "execution_count": 109,
   "id": "6a41f8b5",
   "metadata": {},
   "outputs": [],
   "source": [
    "total_weights_1 = ann_15.count_params()"
   ]
  },
  {
   "cell_type": "code",
   "execution_count": 110,
   "id": "0721ea37",
   "metadata": {},
   "outputs": [],
   "source": [
    "total_weights_2 = ann_20.count_params()"
   ]
  },
  {
   "cell_type": "code",
   "execution_count": 111,
   "id": "4b2ed894",
   "metadata": {},
   "outputs": [],
   "source": [
    "total_weights = total_weights_1 + total_weights_2 + 1 "
   ]
  },
  {
   "cell_type": "code",
   "execution_count": 112,
   "id": "999f5e96",
   "metadata": {},
   "outputs": [
    {
     "data": {
      "text/plain": [
       "1267"
      ]
     },
     "execution_count": 112,
     "metadata": {},
     "output_type": "execute_result"
    }
   ],
   "source": [
    "total_weights"
   ]
  },
  {
   "cell_type": "code",
   "execution_count": 113,
   "id": "feb2ef89",
   "metadata": {},
   "outputs": [],
   "source": [
    "## batch size\n",
    "batch_size = 32"
   ]
  },
  {
   "cell_type": "code",
   "execution_count": 114,
   "id": "4eea8c8e",
   "metadata": {},
   "outputs": [],
   "source": [
    "# var_weights = 0.08\n",
    "# var_targets = 0.08"
   ]
  },
  {
   "cell_type": "code",
   "execution_count": 115,
   "id": "9b49ba9c",
   "metadata": {},
   "outputs": [],
   "source": [
    "from scipy.stats import multivariate_normal as mvn"
   ]
  },
  {
   "cell_type": "code",
   "execution_count": 116,
   "id": "7a60a350",
   "metadata": {},
   "outputs": [],
   "source": [
    "from scipy.stats import invgamma, norm"
   ]
  },
  {
   "cell_type": "code",
   "execution_count": 117,
   "id": "bd888262",
   "metadata": {},
   "outputs": [],
   "source": [
    "from tqdm.notebook import tqdm"
   ]
  },
  {
   "cell_type": "code",
   "execution_count": 118,
   "id": "c3355c48",
   "metadata": {},
   "outputs": [],
   "source": [
    "threshold = 5"
   ]
  },
  {
   "cell_type": "code",
   "execution_count": 119,
   "id": "b1ce82b7",
   "metadata": {},
   "outputs": [],
   "source": [
    "import random"
   ]
  },
  {
   "cell_type": "code",
   "execution_count": 120,
   "id": "7425ecc5",
   "metadata": {},
   "outputs": [],
   "source": [
    "lr = 0.1"
   ]
  },
  {
   "cell_type": "code",
   "execution_count": 121,
   "id": "b7959ab1",
   "metadata": {},
   "outputs": [],
   "source": [
    "import numpy as np"
   ]
  },
  {
   "cell_type": "code",
   "execution_count": 122,
   "id": "1db4063f",
   "metadata": {},
   "outputs": [],
   "source": [
    "weights_ann_1 = ann_15.get_weights()\n",
    "weights_ann_2 = ann_20.get_weights()"
   ]
  },
  {
   "cell_type": "code",
   "execution_count": 123,
   "id": "43a211df",
   "metadata": {},
   "outputs": [],
   "source": [
    "def get_targets_with_weights(batch_data, batch_data1, initial_ensembles, log_sigma_points_1): \n",
    "\n",
    "    n_hidden_1 = len(weights_ann_1[0].ravel())\n",
    "\n",
    "    hidden_weights_1 = initial_ensembles[:,:n_hidden_1].reshape( size_ens, batch_data.shape[1], h1)\n",
    "\n",
    "    \n",
    "    hidden_output_1 = np.einsum('ij,kjl->kil', batch_data, hidden_weights_1)\n",
    "\n",
    "    \n",
    "    hidden_layer_bias_1 = initial_ensembles[:,n_hidden_1:(n_hidden_1 + h1)].reshape(size_ens, 1,  h1)\n",
    "\n",
    "\n",
    "\n",
    "    hidden_output_1 = hidden_output_1 + hidden_layer_bias_1\n",
    "\n",
    "    n_pred_weights_1 = len(weights_ann_1[2].ravel())\n",
    "\n",
    "    output_weights_1 = initial_ensembles[:,(n_hidden_1 + h1):(n_hidden_1 + h1 + n_pred_weights_1) ].reshape(size_ens, h1, 1)\n",
    "\n",
    "    output_1 = np.einsum('ijk,ikl->ijl', hidden_output_1, output_weights_1)\n",
    "\n",
    "\n",
    "    output_layer_bias_1 = initial_ensembles[:,(n_hidden_1 + h1 + n_pred_weights_1):(n_hidden_1 + h1 + n_pred_weights_1 + 1)].reshape(size_ens, 1, 1)\n",
    "\n",
    "\n",
    "\n",
    "    final_output_1 = output_1 + output_layer_bias_1\n",
    "\n",
    "    n_hidden_2 = len(weights_ann_2[0].ravel())\n",
    "\n",
    "    initial_ensembles_1 = initial_ensembles.copy()[:, total_weights_1:(total_weights_1+ total_weights_2)]\n",
    "\n",
    "    hidden_weights_2 = initial_ensembles_1[:,:n_hidden_2].reshape(size_ens, batch_data1.shape[1], h2)\n",
    "\n",
    "\n",
    "\n",
    "    hidden_output_2 = np.einsum('ij,kjl->kil', batch_data1, hidden_weights_2)\n",
    "\n",
    "    hidden_layer_bias_2 = initial_ensembles[:,n_hidden_2:(n_hidden_2 + h2)].reshape(size_ens, 1,  h2)\n",
    "\n",
    "    hidden_output_2 = hidden_output_2+ hidden_layer_bias_2\n",
    "\n",
    "    n_pred_weights_2 = len(weights_ann_2[2].ravel())\n",
    "\n",
    "    output_weights_2 = initial_ensembles_1[:,(n_hidden_2 + h2):(n_hidden_2 + h2 + n_pred_weights_2) ].reshape(size_ens, h2, 1)\n",
    "\n",
    "\n",
    "    output_2 = np.einsum('ijk,ikl->ijl', hidden_output_2, output_weights_2)\n",
    "\n",
    "\n",
    "    output_layer_bias_2 = initial_ensembles_1[:,(n_hidden_2 + h2 + n_pred_weights_2):(n_hidden_2 + h2 + n_pred_weights_2 + 1)].reshape(size_ens, 1, 1)\n",
    "\n",
    "\n",
    "    final_output_2 = output_2 + output_layer_bias_2\n",
    "\n",
    "\n",
    "    weights_1 = initial_ensembles[:, :total_weights_1]\n",
    "\n",
    "    weights_2 = initial_ensembles[:, total_weights_1:(total_weights_1 + total_weights_2)]\n",
    "\n",
    "\n",
    "    avg_weights = initial_ensembles[:, -1].reshape(-1,1)\n",
    "\n",
    "    avg_weights_sig = expit(avg_weights)\n",
    "    \n",
    "    avg_weights_sig = avg_weights_sig.reshape(avg_weights_sig.shape[0], 1, avg_weights_sig.shape[1])\n",
    "    \n",
    "    complement_weights_sig = 1 - expit(avg_weights)\n",
    "    \n",
    "    complement_weights_sig = complement_weights_sig.reshape(complement_weights_sig.shape[0], 1, complement_weights_sig.shape[1])\n",
    "\n",
    "    final_output_1 = final_output_1*complement_weights_sig\n",
    "    \n",
    "    final_output_2 = final_output_2*avg_weights_sig\n",
    "    \n",
    "    output_1_ravel = final_output_1.reshape(size_ens, final_output_1.shape[1]*final_output_1.shape[2])\n",
    "\n",
    "    output_2_ravel = final_output_2.reshape(size_ens, final_output_2.shape[1]*final_output_2.shape[2])\n",
    "\n",
    "\n",
    "    output_1_ravel = output_1_ravel\n",
    "\n",
    "    output_2_ravel = output_2_ravel\n",
    "\n",
    "\n",
    "\n",
    "    weights_1_add = np.zeros((size_ens, (total_weights_2 - total_weights_1)))\n",
    "\n",
    "\n",
    "\n",
    "    weights_1 = np.hstack((weights_1, weights_1_add))\n",
    "    \n",
    "\n",
    "\n",
    "    stack_1 = np.hstack((output_1_ravel, weights_1, np.repeat(0, size_ens).reshape(-1,1), np.repeat(0, size_ens).reshape(-1,1)))\n",
    "\n",
    "\n",
    "\n",
    "    \n",
    "    stack_2 = np.hstack((output_2_ravel, weights_2, avg_weights, log_sigma_points_1))\n",
    "\n",
    "    \n",
    "    initial_aug_state = np.hstack((stack_1, stack_2)) \n",
    "    \n",
    "\n",
    "    return initial_aug_state , output_1_ravel, output_2_ravel, log_sigma_points_1\n",
    "\n"
   ]
  },
  {
   "cell_type": "code",
   "execution_count": 124,
   "id": "4e3ef6e6",
   "metadata": {},
   "outputs": [],
   "source": [
    "import time"
   ]
  },
  {
   "cell_type": "code",
   "execution_count": 125,
   "id": "0eabfdd4",
   "metadata": {},
   "outputs": [],
   "source": [
    "from scipy.stats import multivariate_normal as mvn"
   ]
  },
  {
   "cell_type": "code",
   "execution_count": 126,
   "id": "b982682f",
   "metadata": {},
   "outputs": [],
   "source": [
    "var_weights =32\n",
    "# var_weights_vec = 4\n",
    "# var_targets = 0.04\n",
    "# var_weights = 2"
   ]
  },
  {
   "cell_type": "code",
   "execution_count": 127,
   "id": "10d77915",
   "metadata": {},
   "outputs": [],
   "source": [
    "from scipy.stats import multivariate_normal as mvn"
   ]
  },
  {
   "cell_type": "code",
   "execution_count": 128,
   "id": "a2a6de67",
   "metadata": {},
   "outputs": [],
   "source": [
    "reduction = 8\n",
    "# reduction = 10"
   ]
  },
  {
   "cell_type": "code",
   "execution_count": 129,
   "id": "471e3306",
   "metadata": {},
   "outputs": [],
   "source": [
    "shape_needed = (total_weights + 2*batch_size*1 + 1 + (total_weights_2 - total_weights_1))//reduction"
   ]
  },
  {
   "cell_type": "code",
   "execution_count": 130,
   "id": "63796187",
   "metadata": {},
   "outputs": [],
   "source": [
    "size_ens = shape_needed"
   ]
  },
  {
   "cell_type": "code",
   "execution_count": 131,
   "id": "6aee42b8",
   "metadata": {},
   "outputs": [],
   "source": [
    "size_ens = int(size_ens)"
   ]
  },
  {
   "cell_type": "code",
   "execution_count": 132,
   "id": "bc234219",
   "metadata": {},
   "outputs": [
    {
     "data": {
      "text/plain": [
       "216"
      ]
     },
     "execution_count": 132,
     "metadata": {},
     "output_type": "execute_result"
    }
   ],
   "source": [
    "size_ens"
   ]
  },
  {
   "cell_type": "code",
   "execution_count": 133,
   "id": "ebeb0869-7f0b-4f21-be63-0234896af39f",
   "metadata": {},
   "outputs": [],
   "source": [
    "# train_fudged_probs"
   ]
  },
  {
   "cell_type": "code",
   "execution_count": 134,
   "id": "23d87ffe",
   "metadata": {},
   "outputs": [],
   "source": [
    "import matplotlib.pyplot as plt"
   ]
  },
  {
   "cell_type": "code",
   "execution_count": 135,
   "id": "f5427e43",
   "metadata": {},
   "outputs": [],
   "source": [
    "from scipy.special import expit"
   ]
  },
  {
   "cell_type": "code",
   "execution_count": 136,
   "id": "be0ee1ec",
   "metadata": {},
   "outputs": [],
   "source": [
    "# catch1[0][0]"
   ]
  },
  {
   "cell_type": "code",
   "execution_count": 137,
   "id": "fb492324",
   "metadata": {},
   "outputs": [],
   "source": [
    "# catch_train_logits_second[0]"
   ]
  },
  {
   "cell_type": "code",
   "execution_count": 138,
   "id": "0c2dbaec-3249-404a-9971-c2fc17f68356",
   "metadata": {},
   "outputs": [],
   "source": [
    "from datetime import datetime"
   ]
  },
  {
   "cell_type": "code",
   "execution_count": 139,
   "id": "9cf12935",
   "metadata": {},
   "outputs": [],
   "source": [
    "def expit(x):\n",
    "    \"\"\"Compute softmax values for each sets of scores in x.\"\"\"\n",
    "#     e_x = np.exp(x - np.max(x))\n",
    "    return 1 / (1 + np.exp(-x))"
   ]
  },
  {
   "cell_type": "code",
   "execution_count": 140,
   "id": "ef051014",
   "metadata": {},
   "outputs": [],
   "source": [
    "from scipy.stats import gamma"
   ]
  },
  {
   "cell_type": "code",
   "execution_count": 141,
   "id": "07cb7b8c-4634-46e7-ab75-e865c7116995",
   "metadata": {},
   "outputs": [],
   "source": [
    "# second_lstm[0]"
   ]
  },
  {
   "cell_type": "code",
   "execution_count": 142,
   "id": "5f0e5cb1-4067-46ba-9399-ca30548a10e1",
   "metadata": {},
   "outputs": [],
   "source": [
    "# reduction = 8\n",
    "# var_weights = 1"
   ]
  },
  {
   "cell_type": "code",
   "execution_count": 143,
   "id": "197043a4-b420-4e3b-beaf-699cd7c3db6b",
   "metadata": {},
   "outputs": [],
   "source": [
    "# cur_idx = 16\n",
    "# np.log(catch_test_probs[cur_idx]/(1-catch_test_probs[cur_idx]))"
   ]
  },
  {
   "cell_type": "code",
   "execution_count": 144,
   "id": "5ae6c226-20d1-4a84-ab7b-5c5295748826",
   "metadata": {},
   "outputs": [],
   "source": [
    "# catch_preds_df"
   ]
  },
  {
   "cell_type": "code",
   "execution_count": 145,
   "id": "75f0d45e-6b06-4e9a-8997-5217ab99ebde",
   "metadata": {},
   "outputs": [],
   "source": [
    "# ids = [i for i in range(0, catch_test_probs[cur_idx].shape[0]) if catch_test_probs[cur_idx][i] < 0.5]\n",
    "# ids_more = [i for i in range(0, catch_test_probs[cur_idx].shape[0]) if catch_test_probs[cur_idx][i] > 0.5]"
   ]
  },
  {
   "cell_type": "code",
   "execution_count": 146,
   "id": "7f15dc9d-a59f-4ef8-b93a-8244896352c5",
   "metadata": {},
   "outputs": [],
   "source": [
    "# ids_more"
   ]
  },
  {
   "cell_type": "code",
   "execution_count": 147,
   "id": "1cebfd75-9077-4677-a4f7-05c09ac9f2de",
   "metadata": {},
   "outputs": [],
   "source": [
    "import plotly.express as px"
   ]
  },
  {
   "cell_type": "code",
   "execution_count": 148,
   "id": "22ee79ea-e013-4f80-920e-10e2aeb0eb6b",
   "metadata": {},
   "outputs": [],
   "source": [
    "import seaborn as sns"
   ]
  },
  {
   "cell_type": "code",
   "execution_count": 149,
   "id": "1969c78b-c105-482a-a957-e81329037a09",
   "metadata": {},
   "outputs": [],
   "source": [
    "use_cores = multiprocessing.cpu_count()-1"
   ]
  },
  {
   "cell_type": "code",
   "execution_count": 150,
   "id": "e5e25a8d-c51c-4c1d-9589-5b3b01f267e7",
   "metadata": {},
   "outputs": [],
   "source": [
    "use_cores = 15"
   ]
  },
  {
   "cell_type": "code",
   "execution_count": 151,
   "id": "2f12bf17-643b-4c5b-a2b0-d1f59b99557e",
   "metadata": {},
   "outputs": [],
   "source": [
    "# threshold = 200\n",
    "# cutoff_threshold = 70"
   ]
  },
  {
   "cell_type": "code",
   "execution_count": 152,
   "id": "407034e6-5a33-4332-b56c-f85cd2377b1c",
   "metadata": {},
   "outputs": [],
   "source": [
    "catch1 = first_lstm"
   ]
  },
  {
   "cell_type": "code",
   "execution_count": 153,
   "id": "e343ffb7-87d1-4974-a13f-d9a26c8a0530",
   "metadata": {},
   "outputs": [],
   "source": [
    "# catch1[0]"
   ]
  },
  {
   "cell_type": "code",
   "execution_count": 154,
   "id": "8e5fbcb1-3965-47da-acbe-ccb01078bf20",
   "metadata": {},
   "outputs": [],
   "source": [
    "from datetime import datetime"
   ]
  },
  {
   "cell_type": "code",
   "execution_count": 155,
   "id": "75c12e9a-898a-45db-9ee2-eb652adfbee1",
   "metadata": {},
   "outputs": [],
   "source": [
    "def rep_one_real_world(idx, inflation_factor = 0.2, cutoff = 100): \n",
    "    catch_1 = []\n",
    "    catch_2 = []\n",
    "    catch_3 = []\n",
    "    catch_4 = []\n",
    "    catch_5 = []\n",
    "#     from scipy.special import expit\n",
    "    patience_smaller = 0\n",
    "# patience_bigger = 0\n",
    "\n",
    "#     best_train_acc = 0\n",
    "#     best_valid_acc = 1000\n",
    "\n",
    "#     best_valid_mae = 10\n",
    "    \n",
    "    best_train_mae = 100\n",
    "    \n",
    "    X_train_logits = np.vstack((catch1[idx][0], catch1[idx][1]))\n",
    "#     X_train_logits = catch_train_logits_second[idx]\n",
    "    \n",
    "    \n",
    "    X_test_logits = catch1[idx][2]\n",
    "    \n",
    "    ## create training batch chunks\n",
    "    train_idx = list(range(0, X_train_logits.shape[0]))\n",
    "    batch_chunks = [train_idx[i:i+batch_size] for i in range(0,len(train_idx),batch_size)]\n",
    "\n",
    "    ## generate some augmented variable for iteration 0\n",
    "    initial_aug_state_mean = np.repeat(0, total_weights)\n",
    "    initial_aug_state_mean = initial_aug_state_mean.reshape(-1,1)\n",
    "\n",
    "    initial_aug_state_cov = var_weights*np.identity((total_weights))\n",
    "    initial_ensembles = mvn(initial_aug_state_mean.reshape(initial_aug_state_mean.shape[0],), initial_aug_state_cov).rvs(size = size_ens)\n",
    "\n",
    "    \n",
    "    log_sigma_points_1 = (np.log(gamma(100, scale = 1/100).rvs(size_ens))).reshape(size_ens, 1)\n",
    "    \n",
    "\n",
    "#     y_train = catch_train_labels_second[idx]\n",
    "\n",
    "#     y_valid = catch_valid_labels_second[idx]\n",
    "\n",
    "#     y_test = catch_test_labels_second[idx]\n",
    "    \n",
    "    \n",
    "    train_lstm = catch1[idx][3].numpy()\n",
    "    valid_lstm = catch1[idx][4].numpy()\n",
    "    # valid_word2vec = catch[idx][7].iloc[catch_valid_idxes[idx],:].reset_index(drop = True)\n",
    "    test_lstm = catch1[idx][5].numpy()\n",
    " \n",
    "\n",
    "    train_doc2vec = []\n",
    "    for seq in catch[idx][0]:\n",
    "        seq_txt = seq[0]\n",
    "        seq_split = seq_txt.split(\" \")\n",
    "        train_doc2vec.append(doc2vec_dbow.infer_vector(seq_split))\n",
    "    train_doc2vec = np.array(train_doc2vec)\n",
    "    \n",
    "    valid_doc2vec = []\n",
    "    for seq in catch[idx][1]:\n",
    "        seq_txt = seq[0]\n",
    "        seq_split = seq_txt.split(\" \")\n",
    "        valid_doc2vec.append(doc2vec_dbow.infer_vector(seq_split))\n",
    "    valid_doc2vec = np.array(valid_doc2vec)\n",
    "    \n",
    "    test_doc2vec = []\n",
    "    for seq in catch[idx][2]:\n",
    "        seq_txt = seq[0]\n",
    "        seq_split = seq_txt.split(\" \")\n",
    "        test_doc2vec.append(doc2vec_dbow.infer_vector(seq_split))\n",
    "    test_doc2vec = np.array(test_doc2vec)    \n",
    "    \n",
    "    \n",
    "    \n",
    "    # train_valid_test_lstm = np.vstack((train_lstm, valid_lstm, test_lstm))\n",
    "    # train_valid_test_doc2vec = np.vstack((train_doc2vec, valid_doc2vec, test_doc2vec))\n",
    "    \n",
    "    # train_valid_test_lstm = np.vstack((train_lstm, valid_lstm))\n",
    "    # train_valid_test_doc2vec = np.vstack((train_doc2vec, valid_doc2vec))    \n",
    "    \n",
    "    train_valid_lstm = np.vstack((train_lstm, valid_lstm))\n",
    "    train_valid_doc2vec = np.vstack((train_doc2vec, valid_doc2vec))    \n",
    "\n",
    "    # best_width_train = 100\n",
    "    \n",
    "    # threshold_achieved = False\n",
    "    # satisfactory = False\n",
    "    # satisfactory_counter = 0\n",
    "    \n",
    "    \n",
    "    best_coverage_train = 0\n",
    "    \n",
    "    start = datetime.now()\n",
    "    \n",
    "    for iter1 in range(0,500):\n",
    "\n",
    "        for batch_idx in batch_chunks:\n",
    "\n",
    "            batch_data = train_valid_lstm[batch_idx,:]\n",
    "            batch_data1 = train_valid_doc2vec[batch_idx,:]\n",
    "            # print(batch_data.shape)\n",
    "            batch_targets = X_train_logits[batch_idx,:]\n",
    "            # batch_targets = batch_targets.ravel().reshape(-1,1)\n",
    "\n",
    "            column_mod_2_shape = total_weights_2 + batch_data.shape[0]*1 + 1 + 1\n",
    "        \n",
    "            H_t = np.hstack((np.identity(batch_targets.shape[0]), np.zeros((batch_targets.shape[0], column_mod_2_shape-batch_targets.shape[0]))))\n",
    "\n",
    "            current_aug_state, column_mod_1, column_mod_2, log_sigma_points_1 = get_targets_with_weights(batch_data, batch_data1, initial_ensembles, log_sigma_points_1)\n",
    "            \n",
    "            var_targets_vec = np.log(1 + np.exp(log_sigma_points_1))\n",
    "            \n",
    "            var_targets_vec = var_targets_vec\n",
    "            \n",
    "            # current_aug_state_var = np.cov(current_aug_state.T) + inflation_factor*np.identity(current_aug_state.shape[1])\n",
    "            \n",
    "            current_aug_state_var = np.cov(current_aug_state.T) \n",
    "            \n",
    "            G_t = np.array([1 , 1]).reshape(-1,1)\n",
    "            \n",
    "            scirpt_H_t = np.kron(G_t.T, H_t)\n",
    "            \n",
    "            temp1 = current_aug_state_var@scirpt_H_t.T\n",
    "            \n",
    "            temp2 = scirpt_H_t@current_aug_state_var@scirpt_H_t.T\n",
    "        \n",
    "            for ensemble_idx in range(0, current_aug_state.shape[0]):\n",
    "                \n",
    "                var_targets1 = var_targets_vec[ensemble_idx,:]\n",
    "                \n",
    "                R_t = var_targets1*np.identity(batch_targets.shape[0])\n",
    "            \n",
    "                measurement_error = mvn(np.repeat(0,batch_targets.shape[0]), var_targets1*np.identity(batch_targets.shape[0])).rvs(1).reshape(-1,1)\n",
    "            \n",
    "                target_current = batch_targets + measurement_error\n",
    "                \n",
    "                K_t = temp1@np.linalg.inv(temp2 + R_t)\n",
    "\n",
    "                current_aug_state[ensemble_idx,:] = current_aug_state[ensemble_idx,:] +(K_t@(target_current -scirpt_H_t@current_aug_state[ensemble_idx,:].reshape(-1,1))).reshape(current_aug_state.shape[1],)\n",
    "        \n",
    "\n",
    "            weights_ann_1 = current_aug_state[:,batch_targets.shape[0]:(batch_targets.shape[0] + total_weights_1)]      \n",
    "\n",
    "            weights_ann_2 = current_aug_state[:,-(total_weights_2+1):-2]    \n",
    "\n",
    "            initial_ensembles = np.hstack((weights_ann_1, weights_ann_2, current_aug_state[:,-2].reshape(-1,1)))\n",
    "            \n",
    "            log_sigma_points_1 = current_aug_state[:,-1].reshape(-1,1)\n",
    "               \n",
    "            avg_betas = expit(current_aug_state[:,-2])\n",
    "        \n",
    "            complement = 1-avg_betas\n",
    "\n",
    "            \n",
    "            \n",
    "            \n",
    "            \n",
    "            current_aug_state1, column_mod_11, column_mod_21, log_sigma_points_1 = get_targets_with_weights(train_valid_lstm, train_valid_doc2vec, initial_ensembles, log_sigma_points_1)\n",
    "            \n",
    "            initial_targets = column_mod_11 + column_mod_21\n",
    "            \n",
    "            \n",
    "            initial_targets = initial_targets.reshape(size_ens, train_valid_lstm.shape[0],1)\n",
    "            \n",
    "            initial_targets_train = initial_targets\n",
    "            \n",
    "            \n",
    "            \n",
    "            \n",
    "#             ind = (X_train_logits_true >= np.percentile(initial_targets_train, axis = 0, q = (2.5, 97.5))[0,:,:]) & (X_train_logits_true <= np.percentile(initial_targets_train, axis = 0, q = (2.5, 97.5))[1,:,:])\n",
    "        \n",
    "            initial_targets_softmax = expit(initial_targets)\n",
    "        \n",
    "            initial_softmax_train = initial_targets_softmax\n",
    "            \n",
    "            initial_targets_train_mean = initial_targets_softmax.mean(0)\n",
    "            \n",
    "            li = np.percentile(initial_targets_softmax, axis = 0, q = (2.5, 97.5))[0,:,:]\n",
    "            \n",
    "            ui = np.percentile(initial_targets_softmax, axis = 0, q = (2.5, 97.5))[1,:,:]\n",
    "            \n",
    "            width = ui - li\n",
    "            \n",
    "            avg_width_train = np.mean(width)\n",
    "            \n",
    "            # interim = np.vstack((catch_train_probs[idx] , catch_valid_probs[idx] ))\n",
    "        \n",
    "            interim = expit(X_train_logits)\n",
    "            \n",
    "            ind = (interim >= li) & (interim <= ui)\n",
    "            \n",
    "            coverage_train= np.mean(ind.ravel())  \n",
    "            \n",
    "            train_mae = np.mean(np.abs(interim.ravel() - initial_targets_train_mean.ravel()))\n",
    "        \n",
    "            current_aug_state1, column_mod_11, column_mod_21, log_sigma_points_1 = get_targets_with_weights(test_lstm, test_doc2vec, initial_ensembles, log_sigma_points_1)\n",
    "            \n",
    "            initial_targets = column_mod_11 + column_mod_21\n",
    "            \n",
    "            initial_targets = initial_targets.reshape(size_ens, test_lstm.shape[0],1)\n",
    "            \n",
    "            initial_targets_test = initial_targets\n",
    "            \n",
    "            initial_targets_softmax = expit(initial_targets)    \n",
    "            \n",
    "            initial_targets_test_mean = initial_targets_softmax.mean(0)\n",
    "            \n",
    "            li = np.percentile(initial_targets_softmax, axis = 0, q = (2.5, 97.5))[0,:,:]\n",
    "            \n",
    "            ui = np.percentile(initial_targets_softmax, axis = 0, q = (2.5, 97.5))[1,:,:]\n",
    "            \n",
    "            width = ui - li\n",
    "            \n",
    "            avg_width = np.mean(width)\n",
    "            \n",
    "            catch_test_probs = expit(X_test_logits)\n",
    "            \n",
    "            ind_test = (catch_test_probs >= li) & (catch_test_probs <= ui)\n",
    "               \n",
    "\n",
    "                        \n",
    "            coverage_test = np.mean(ind_test.ravel())    \n",
    "\n",
    "            # initial_targets_test_mean = initial_targets_train.mean(0)\n",
    "    \n",
    "            \n",
    "            \n",
    "            test_mae = np.mean(np.abs(catch_test_probs.ravel() - initial_targets_test_mean.ravel()))\n",
    "       \n",
    "        # print(avg_width_train, best_train_width, coverage_train)\n",
    "        \n",
    "#         print(\"epoch \"+ str(iter1))\n",
    "#         print(\"patience \"+ str(patience_smaller))\n",
    "#         print(\"train mae is \" + str(train_mae))\n",
    "#         print(\"test mae is \" + str(test_mae))\n",
    "        \n",
    "#         print(\"train coverage is \"+ str(coverage_train))\n",
    "#         print(\"train width is \" + str(avg_width_train))        \n",
    "#         print(\"test coverage is \"+ str(coverage_test))\n",
    "#         print(\"test width is \" + str(avg_width))\n",
    "        # print(\"lstm weight is \" + str(np.mean(complement)))\n",
    "        # print(\"threshold \" + str(threshold_achieved))\n",
    "              \n",
    "    \n",
    "        if (train_mae < best_train_mae) : \n",
    "#             cur_best_train_width = avg_width_train\n",
    "#             cur_best_test_width = avg_width\n",
    "\n",
    "#             cur_best_train_coverage = coverage_train\n",
    "#             cur_best_test_coverage = coverage_test \n",
    "#             cur_best_lstm_weight = np.mean(complement)\n",
    "            best_train_mae = train_mae\n",
    "            best_test_mae = test_mae\n",
    "            exit_iter_no_thresh = iter1\n",
    "            best_test_preds = initial_targets_softmax\n",
    "            patience_smaller = 0\n",
    "            best_train_coverage = coverage_train\n",
    "            best_test_coverage = coverage_test\n",
    "            best_train_width = avg_width_train\n",
    "            best_test_width = avg_width\n",
    "            # satisfactory = True\n",
    "            \n",
    "        else:\n",
    "            patience_smaller+=1\n",
    "            \n",
    "        if patience_smaller > threshold:\n",
    "            \n",
    "            break\n",
    "            \n",
    "        if (patience_smaller > cutoff_threshold) & (train_mae < 0.05):\n",
    "            \n",
    "            break\n",
    "            \n",
    "            \n",
    "    print(best_test_mae,best_test_coverage, best_test_width, flush = True)\n",
    "    end = datetime.now()\n",
    "    total = (end-start)\n",
    "    time_taken = total.seconds/60.0\n",
    "    return best_train_mae, best_test_mae, best_train_coverage, best_train_width, best_test_coverage, best_test_width,  exit_iter_no_thresh, time_taken, best_test_preds\n",
    "        \n",
    "    # print(\"something went awry\", flush = True)"
   ]
  },
  {
   "cell_type": "code",
   "execution_count": 156,
   "id": "605540da-2ad3-4d18-b8a4-93dd7c052f20",
   "metadata": {},
   "outputs": [],
   "source": [
    "threshold = 200"
   ]
  },
  {
   "cell_type": "code",
   "execution_count": 157,
   "id": "138d0228-17b7-4019-9abe-458206e8a7df",
   "metadata": {},
   "outputs": [],
   "source": [
    "cutoff_threshold = 100"
   ]
  },
  {
   "cell_type": "code",
   "execution_count": 158,
   "id": "4a8ebf34-6b78-4638-8f94-b0c23816a6c5",
   "metadata": {},
   "outputs": [],
   "source": [
    "doc2vec_dbow = gensim.models.doc2vec.Doc2Vec.load(r\"..//Data_Generation//doc2vec_dbow\")"
   ]
  },
  {
   "cell_type": "code",
   "execution_count": 159,
   "id": "d2a0a04c-eb2b-4dd6-938a-0558970523ce",
   "metadata": {},
   "outputs": [],
   "source": [
    "# rep_one_real_world(30)"
   ]
  },
  {
   "cell_type": "code",
   "execution_count": 160,
   "id": "99a723c6",
   "metadata": {},
   "outputs": [
    {
     "name": "stderr",
     "output_type": "stream",
     "text": [
      "[Parallel(n_jobs=15)]: Using backend LokyBackend with 15 concurrent workers.\n",
      "/tmp/ipykernel_833517/2467791455.py:4: RuntimeWarning: overflow encountered in exp\n",
      "/tmp/ipykernel_833517/2467791455.py:4: RuntimeWarning: overflow encountered in exp\n",
      "/tmp/ipykernel_833517/2467791455.py:4: RuntimeWarning: overflow encountered in exp\n",
      "/tmp/ipykernel_833517/2467791455.py:4: RuntimeWarning: overflow encountered in exp\n",
      "/tmp/ipykernel_833517/2467791455.py:4: RuntimeWarning: overflow encountered in exp\n",
      "/tmp/ipykernel_833517/2467791455.py:4: RuntimeWarning: overflow encountered in exp\n",
      "/tmp/ipykernel_833517/2467791455.py:4: RuntimeWarning: overflow encountered in exp\n",
      "/tmp/ipykernel_833517/2467791455.py:4: RuntimeWarning: overflow encountered in exp\n",
      "/tmp/ipykernel_833517/2467791455.py:4: RuntimeWarning: overflow encountered in exp\n",
      "/tmp/ipykernel_833517/2467791455.py:4: RuntimeWarning: overflow encountered in exp\n",
      "/tmp/ipykernel_833517/2467791455.py:4: RuntimeWarning: overflow encountered in exp\n",
      "/tmp/ipykernel_833517/2467791455.py:4: RuntimeWarning: overflow encountered in exp\n",
      "/tmp/ipykernel_833517/2467791455.py:4: RuntimeWarning: overflow encountered in exp\n",
      "/tmp/ipykernel_833517/2467791455.py:4: RuntimeWarning: overflow encountered in exp\n",
      "/tmp/ipykernel_833517/2467791455.py:4: RuntimeWarning: overflow encountered in exp\n"
     ]
    },
    {
     "name": "stdout",
     "output_type": "stream",
     "text": [
      "0.019990394648238825 1.0 0.13402120814233204\n"
     ]
    },
    {
     "name": "stderr",
     "output_type": "stream",
     "text": [
      "/tmp/ipykernel_833517/2467791455.py:4: RuntimeWarning: overflow encountered in exp\n"
     ]
    },
    {
     "name": "stdout",
     "output_type": "stream",
     "text": [
      "0.010130806371319117 1.0 0.07324466906785182\n"
     ]
    },
    {
     "name": "stderr",
     "output_type": "stream",
     "text": [
      "[Parallel(n_jobs=15)]: Done   2 tasks      | elapsed:  2.5min\n"
     ]
    },
    {
     "name": "stdout",
     "output_type": "stream",
     "text": [
      "0.010800071836443926 1.0 0.18193136071888813\n",
      "0.005027482011471545 1.0 0.09048790813581348\n"
     ]
    },
    {
     "name": "stderr",
     "output_type": "stream",
     "text": [
      "/tmp/ipykernel_833517/2467791455.py:4: RuntimeWarning: overflow encountered in exp\n",
      "/tmp/ipykernel_833517/2467791455.py:4: RuntimeWarning: overflow encountered in exp\n",
      "/tmp/ipykernel_833517/2467791455.py:4: RuntimeWarning: overflow encountered in exp\n"
     ]
    },
    {
     "name": "stdout",
     "output_type": "stream",
     "text": [
      "0.028192508126947003 0.5 0.06585343551372635\n"
     ]
    },
    {
     "name": "stderr",
     "output_type": "stream",
     "text": [
      "/tmp/ipykernel_833517/2467791455.py:4: RuntimeWarning: overflow encountered in exp\n"
     ]
    },
    {
     "name": "stdout",
     "output_type": "stream",
     "text": [
      "0.032504244402710006 0.875 0.14062668417475868\n"
     ]
    },
    {
     "name": "stderr",
     "output_type": "stream",
     "text": [
      "/tmp/ipykernel_833517/2467791455.py:4: RuntimeWarning: overflow encountered in exp\n"
     ]
    },
    {
     "name": "stdout",
     "output_type": "stream",
     "text": [
      "0.006172423082233659 1.0 0.06908690957029821\n",
      "0.01116475962767944 1.0 0.22734117563574074\n"
     ]
    },
    {
     "name": "stderr",
     "output_type": "stream",
     "text": [
      "/tmp/ipykernel_833517/2467791455.py:4: RuntimeWarning: overflow encountered in exp\n",
      "/tmp/ipykernel_833517/2467791455.py:4: RuntimeWarning: overflow encountered in exp\n"
     ]
    },
    {
     "name": "stdout",
     "output_type": "stream",
     "text": [
      "0.04965992938444803 0.875 0.0836254914364768\n"
     ]
    },
    {
     "name": "stderr",
     "output_type": "stream",
     "text": [
      "/tmp/ipykernel_833517/2467791455.py:4: RuntimeWarning: overflow encountered in exp\n"
     ]
    },
    {
     "name": "stdout",
     "output_type": "stream",
     "text": [
      "0.017010906804696132 1.0 0.08907434298991211\n"
     ]
    },
    {
     "name": "stderr",
     "output_type": "stream",
     "text": [
      "/tmp/ipykernel_833517/2467791455.py:4: RuntimeWarning: overflow encountered in exp\n"
     ]
    },
    {
     "name": "stdout",
     "output_type": "stream",
     "text": [
      "0.004379957053297603 1.0 0.058753734661682495\n"
     ]
    },
    {
     "name": "stderr",
     "output_type": "stream",
     "text": [
      "[Parallel(n_jobs=15)]: Done  11 tasks      | elapsed:  3.4min\n",
      "/tmp/ipykernel_833517/2467791455.py:4: RuntimeWarning: overflow encountered in exp\n"
     ]
    },
    {
     "name": "stdout",
     "output_type": "stream",
     "text": [
      "0.013996420102171 1.0 0.06467807669245589\n"
     ]
    },
    {
     "name": "stderr",
     "output_type": "stream",
     "text": [
      "/tmp/ipykernel_833517/2467791455.py:4: RuntimeWarning: overflow encountered in exp\n"
     ]
    },
    {
     "name": "stdout",
     "output_type": "stream",
     "text": [
      "0.01993555151889719 1.0 0.11464578564455657\n"
     ]
    },
    {
     "name": "stderr",
     "output_type": "stream",
     "text": [
      "/tmp/ipykernel_833517/2467791455.py:4: RuntimeWarning: overflow encountered in exp\n"
     ]
    },
    {
     "name": "stdout",
     "output_type": "stream",
     "text": [
      "0.011745539210637883 1.0 0.13031521390255305\n"
     ]
    },
    {
     "name": "stderr",
     "output_type": "stream",
     "text": [
      "/tmp/ipykernel_833517/2467791455.py:4: RuntimeWarning: overflow encountered in exp\n"
     ]
    },
    {
     "name": "stdout",
     "output_type": "stream",
     "text": [
      "0.008223642270099422 1.0 0.07310556075847102\n"
     ]
    },
    {
     "name": "stderr",
     "output_type": "stream",
     "text": [
      "/tmp/ipykernel_833517/2467791455.py:4: RuntimeWarning: overflow encountered in exp\n"
     ]
    },
    {
     "name": "stdout",
     "output_type": "stream",
     "text": [
      "0.004311599327047484 1.0 0.057206302343947794\n"
     ]
    },
    {
     "name": "stderr",
     "output_type": "stream",
     "text": [
      "/tmp/ipykernel_833517/2467791455.py:4: RuntimeWarning: overflow encountered in exp\n"
     ]
    },
    {
     "name": "stdout",
     "output_type": "stream",
     "text": [
      "0.01049610043081798 0.875 0.044378987944759814\n"
     ]
    },
    {
     "name": "stderr",
     "output_type": "stream",
     "text": [
      "/tmp/ipykernel_833517/2467791455.py:4: RuntimeWarning: overflow encountered in exp\n"
     ]
    },
    {
     "name": "stdout",
     "output_type": "stream",
     "text": [
      "0.02187329986340071 0.625 0.03224220905083801\n",
      "0.012049380097293201 1.0 0.0939137698706791\n"
     ]
    },
    {
     "name": "stderr",
     "output_type": "stream",
     "text": [
      "/tmp/ipykernel_833517/2467791455.py:4: RuntimeWarning: overflow encountered in exp\n",
      "/tmp/ipykernel_833517/2467791455.py:4: RuntimeWarning: overflow encountered in exp\n"
     ]
    },
    {
     "name": "stdout",
     "output_type": "stream",
     "text": [
      "0.02677633155534239 0.5 0.05521446645366339\n"
     ]
    },
    {
     "name": "stderr",
     "output_type": "stream",
     "text": [
      "[Parallel(n_jobs=15)]: Done  20 tasks      | elapsed:  5.9min\n",
      "/tmp/ipykernel_833517/2467791455.py:4: RuntimeWarning: overflow encountered in exp\n"
     ]
    },
    {
     "name": "stdout",
     "output_type": "stream",
     "text": [
      "0.015393769174968666 1.0 0.14542331876280817\n"
     ]
    },
    {
     "name": "stderr",
     "output_type": "stream",
     "text": [
      "/tmp/ipykernel_833517/2467791455.py:4: RuntimeWarning: overflow encountered in exp\n"
     ]
    },
    {
     "name": "stdout",
     "output_type": "stream",
     "text": [
      "0.01664144258278208 1.0 0.11508438652023384\n",
      "0.0178730721599233 0.75 0.05424098546549788\n"
     ]
    },
    {
     "name": "stderr",
     "output_type": "stream",
     "text": [
      "/tmp/ipykernel_833517/2467791455.py:4: RuntimeWarning: overflow encountered in exp\n",
      "/tmp/ipykernel_833517/2467791455.py:4: RuntimeWarning: overflow encountered in exp\n"
     ]
    },
    {
     "name": "stdout",
     "output_type": "stream",
     "text": [
      "0.032275205267719764 0.625 0.08239674719479562\n"
     ]
    },
    {
     "name": "stderr",
     "output_type": "stream",
     "text": [
      "/tmp/ipykernel_833517/2467791455.py:4: RuntimeWarning: overflow encountered in exp\n"
     ]
    },
    {
     "name": "stdout",
     "output_type": "stream",
     "text": [
      "0.02270703196142082 0.875 0.12862363493694354\n"
     ]
    },
    {
     "name": "stderr",
     "output_type": "stream",
     "text": [
      "/tmp/ipykernel_833517/2467791455.py:4: RuntimeWarning: overflow encountered in exp\n"
     ]
    },
    {
     "name": "stdout",
     "output_type": "stream",
     "text": [
      "0.013242092486841621 1.0 0.16545648142254546\n"
     ]
    },
    {
     "name": "stderr",
     "output_type": "stream",
     "text": [
      "/tmp/ipykernel_833517/2467791455.py:4: RuntimeWarning: overflow encountered in exp\n"
     ]
    },
    {
     "name": "stdout",
     "output_type": "stream",
     "text": [
      "0.016917218097675914 0.5 0.04755539707349828\n"
     ]
    },
    {
     "name": "stderr",
     "output_type": "stream",
     "text": [
      "[Parallel(n_jobs=15)]: Done  27 out of  50 | elapsed:  7.6min remaining:  6.5min\n",
      "/tmp/ipykernel_833517/2467791455.py:4: RuntimeWarning: overflow encountered in exp\n"
     ]
    },
    {
     "name": "stdout",
     "output_type": "stream",
     "text": [
      "0.039862367575561906 1.0 0.13074634502568397\n"
     ]
    },
    {
     "name": "stderr",
     "output_type": "stream",
     "text": [
      "/tmp/ipykernel_833517/2467791455.py:4: RuntimeWarning: overflow encountered in exp\n"
     ]
    },
    {
     "name": "stdout",
     "output_type": "stream",
     "text": [
      "0.013368626131627965 0.625 0.029709855319269927\n"
     ]
    },
    {
     "name": "stderr",
     "output_type": "stream",
     "text": [
      "/tmp/ipykernel_833517/2467791455.py:4: RuntimeWarning: overflow encountered in exp\n"
     ]
    },
    {
     "name": "stdout",
     "output_type": "stream",
     "text": [
      "0.01805465272593492 0.75 0.04420929682144915\n"
     ]
    },
    {
     "name": "stderr",
     "output_type": "stream",
     "text": [
      "/tmp/ipykernel_833517/2467791455.py:4: RuntimeWarning: overflow encountered in exp\n"
     ]
    },
    {
     "name": "stdout",
     "output_type": "stream",
     "text": [
      "0.018237732378780302 1.0 0.12278998283873356\n"
     ]
    },
    {
     "name": "stderr",
     "output_type": "stream",
     "text": [
      "/tmp/ipykernel_833517/2467791455.py:4: RuntimeWarning: overflow encountered in exp\n"
     ]
    },
    {
     "name": "stdout",
     "output_type": "stream",
     "text": [
      "0.008721019740082273 0.875 0.04446644264634941\n"
     ]
    },
    {
     "name": "stderr",
     "output_type": "stream",
     "text": [
      "/tmp/ipykernel_833517/2467791455.py:4: RuntimeWarning: overflow encountered in exp\n"
     ]
    },
    {
     "name": "stdout",
     "output_type": "stream",
     "text": [
      "0.015432279573053044 1.0 0.24468730654218995\n"
     ]
    },
    {
     "name": "stderr",
     "output_type": "stream",
     "text": [
      "[Parallel(n_jobs=15)]: Done  33 out of  50 | elapsed:  9.1min remaining:  4.7min\n",
      "/tmp/ipykernel_833517/2467791455.py:4: RuntimeWarning: overflow encountered in exp\n"
     ]
    },
    {
     "name": "stdout",
     "output_type": "stream",
     "text": [
      "0.00398083427884932 1.0 0.05321001508941181\n"
     ]
    },
    {
     "name": "stderr",
     "output_type": "stream",
     "text": [
      "/tmp/ipykernel_833517/2467791455.py:4: RuntimeWarning: overflow encountered in exp\n"
     ]
    },
    {
     "name": "stdout",
     "output_type": "stream",
     "text": [
      "0.0052972492676374265 1.0 0.07475509242407154\n"
     ]
    },
    {
     "name": "stderr",
     "output_type": "stream",
     "text": [
      "/tmp/ipykernel_833517/2467791455.py:4: RuntimeWarning: overflow encountered in exp\n"
     ]
    },
    {
     "name": "stdout",
     "output_type": "stream",
     "text": [
      "0.008606059289363801 1.0 0.05879184791307848\n",
      "0.011082016890529851 1.0 0.1608127039321383\n",
      "0.01109316728871241 0.75 0.024960951189468113\n",
      "0.032074756307299467 0.375 0.032819413191547755\n"
     ]
    },
    {
     "name": "stderr",
     "output_type": "stream",
     "text": [
      "[Parallel(n_jobs=15)]: Done  39 out of  50 | elapsed: 11.6min remaining:  3.3min\n"
     ]
    },
    {
     "name": "stdout",
     "output_type": "stream",
     "text": [
      "0.036420207218939064 0.375 0.03838081727158261\n",
      "0.0008229394781314314 1.0 0.0053949460774200386\n",
      "0.009224590177013364 1.0 0.1331569700807298\n",
      "0.010064024634708076 1.0 0.12961456893937942\n",
      "0.015094525848269673 0.875 0.05607802672691077\n",
      "0.012670417524280705 0.25 0.018207029496586466\n"
     ]
    },
    {
     "name": "stderr",
     "output_type": "stream",
     "text": [
      "[Parallel(n_jobs=15)]: Done  45 out of  50 | elapsed: 12.5min remaining:  1.4min\n"
     ]
    },
    {
     "name": "stdout",
     "output_type": "stream",
     "text": [
      "0.01425777066316959 0.75 0.06608065459611831\n",
      "0.022079108564352953 0.625 0.037233683935158614\n",
      "0.018455255836649594 0.5 0.025923306561911236\n",
      "0.012596483832478075 1.0 0.055328596397755156\n",
      "0.008986960940744675 1.0 0.048985139006956044\n"
     ]
    },
    {
     "name": "stderr",
     "output_type": "stream",
     "text": [
      "[Parallel(n_jobs=15)]: Done  50 out of  50 | elapsed: 14.4min finished\n"
     ]
    }
   ],
   "source": [
    "catch_coverages = Parallel(n_jobs=15, verbose = 10, backend = \"loky\")(delayed(rep_one_real_world)(i) for i in range(reps))"
   ]
  },
  {
   "cell_type": "code",
   "execution_count": 161,
   "id": "1e8200e5-b784-49c8-9ae9-fd7ee5a2e71d",
   "metadata": {},
   "outputs": [],
   "source": [
    "# catch_coverages"
   ]
  },
  {
   "cell_type": "code",
   "execution_count": 162,
   "id": "647980a7-9ae3-4c5c-b25c-2e37b6a84679",
   "metadata": {},
   "outputs": [],
   "source": [
    "check = pd.DataFrame(catch_coverages).iloc[:,:-1]"
   ]
  },
  {
   "cell_type": "code",
   "execution_count": 163,
   "id": "e061792a-e589-486e-b8d2-336622f6bf34",
   "metadata": {},
   "outputs": [],
   "source": [
    "# check"
   ]
  },
  {
   "cell_type": "code",
   "execution_count": 164,
   "id": "fa101efc-351b-4645-87a3-f008abf1ff3d",
   "metadata": {},
   "outputs": [],
   "source": [
    "# check"
   ]
  },
  {
   "cell_type": "code",
   "execution_count": 165,
   "id": "77536655-0afd-4976-980a-fa7a28b55201",
   "metadata": {},
   "outputs": [],
   "source": [
    "# check.columns = [\"train_mae\", \"test_mae\", \"avg_ci_width_train\", \"avg_ci_width_test\", \"avg_lstm_weight\", \"exit_iter\", \"exit_status\"]"
   ]
  },
  {
   "cell_type": "code",
   "execution_count": 166,
   "id": "cd8cefbd-9076-469e-a5dc-dc4637846308",
   "metadata": {},
   "outputs": [
    {
     "data": {
      "text/html": [
       "<div>\n",
       "<style scoped>\n",
       "    .dataframe tbody tr th:only-of-type {\n",
       "        vertical-align: middle;\n",
       "    }\n",
       "\n",
       "    .dataframe tbody tr th {\n",
       "        vertical-align: top;\n",
       "    }\n",
       "\n",
       "    .dataframe thead th {\n",
       "        text-align: right;\n",
       "    }\n",
       "</style>\n",
       "<table border=\"1\" class=\"dataframe\">\n",
       "  <thead>\n",
       "    <tr style=\"text-align: right;\">\n",
       "      <th></th>\n",
       "      <th>0</th>\n",
       "      <th>1</th>\n",
       "      <th>2</th>\n",
       "      <th>3</th>\n",
       "      <th>4</th>\n",
       "      <th>5</th>\n",
       "      <th>6</th>\n",
       "      <th>7</th>\n",
       "    </tr>\n",
       "  </thead>\n",
       "  <tbody>\n",
       "    <tr>\n",
       "      <th>0</th>\n",
       "      <td>0.006067</td>\n",
       "      <td>0.049660</td>\n",
       "      <td>1.000000</td>\n",
       "      <td>0.066923</td>\n",
       "      <td>0.875</td>\n",
       "      <td>0.083625</td>\n",
       "      <td>173</td>\n",
       "      <td>3.166667</td>\n",
       "    </tr>\n",
       "    <tr>\n",
       "      <th>1</th>\n",
       "      <td>0.010682</td>\n",
       "      <td>0.021873</td>\n",
       "      <td>0.803030</td>\n",
       "      <td>0.029778</td>\n",
       "      <td>0.625</td>\n",
       "      <td>0.032242</td>\n",
       "      <td>499</td>\n",
       "      <td>5.716667</td>\n",
       "    </tr>\n",
       "    <tr>\n",
       "      <th>2</th>\n",
       "      <td>0.010763</td>\n",
       "      <td>0.019990</td>\n",
       "      <td>1.000000</td>\n",
       "      <td>0.123902</td>\n",
       "      <td>1.000</td>\n",
       "      <td>0.134021</td>\n",
       "      <td>138</td>\n",
       "      <td>2.150000</td>\n",
       "    </tr>\n",
       "    <tr>\n",
       "      <th>3</th>\n",
       "      <td>0.007800</td>\n",
       "      <td>0.032504</td>\n",
       "      <td>1.000000</td>\n",
       "      <td>0.114840</td>\n",
       "      <td>0.875</td>\n",
       "      <td>0.140627</td>\n",
       "      <td>127</td>\n",
       "      <td>2.616667</td>\n",
       "    </tr>\n",
       "    <tr>\n",
       "      <th>4</th>\n",
       "      <td>0.013876</td>\n",
       "      <td>0.017011</td>\n",
       "      <td>1.000000</td>\n",
       "      <td>0.101504</td>\n",
       "      <td>1.000</td>\n",
       "      <td>0.089074</td>\n",
       "      <td>176</td>\n",
       "      <td>3.183333</td>\n",
       "    </tr>\n",
       "    <tr>\n",
       "      <th>5</th>\n",
       "      <td>0.018593</td>\n",
       "      <td>0.028193</td>\n",
       "      <td>0.833333</td>\n",
       "      <td>0.059805</td>\n",
       "      <td>0.500</td>\n",
       "      <td>0.065853</td>\n",
       "      <td>191</td>\n",
       "      <td>2.583333</td>\n",
       "    </tr>\n",
       "    <tr>\n",
       "      <th>6</th>\n",
       "      <td>0.007638</td>\n",
       "      <td>0.010800</td>\n",
       "      <td>1.000000</td>\n",
       "      <td>0.142293</td>\n",
       "      <td>1.000</td>\n",
       "      <td>0.181931</td>\n",
       "      <td>112</td>\n",
       "      <td>2.433333</td>\n",
       "    </tr>\n",
       "    <tr>\n",
       "      <th>7</th>\n",
       "      <td>0.010064</td>\n",
       "      <td>0.026776</td>\n",
       "      <td>0.863636</td>\n",
       "      <td>0.040322</td>\n",
       "      <td>0.500</td>\n",
       "      <td>0.055214</td>\n",
       "      <td>499</td>\n",
       "      <td>5.750000</td>\n",
       "    </tr>\n",
       "    <tr>\n",
       "      <th>8</th>\n",
       "      <td>0.006554</td>\n",
       "      <td>0.011165</td>\n",
       "      <td>1.000000</td>\n",
       "      <td>0.222621</td>\n",
       "      <td>1.000</td>\n",
       "      <td>0.227341</td>\n",
       "      <td>139</td>\n",
       "      <td>2.733333</td>\n",
       "    </tr>\n",
       "    <tr>\n",
       "      <th>9</th>\n",
       "      <td>0.003802</td>\n",
       "      <td>0.004380</td>\n",
       "      <td>1.000000</td>\n",
       "      <td>0.060447</td>\n",
       "      <td>1.000</td>\n",
       "      <td>0.058754</td>\n",
       "      <td>188</td>\n",
       "      <td>3.333333</td>\n",
       "    </tr>\n",
       "    <tr>\n",
       "      <th>10</th>\n",
       "      <td>0.006079</td>\n",
       "      <td>0.013996</td>\n",
       "      <td>0.984848</td>\n",
       "      <td>0.058961</td>\n",
       "      <td>1.000</td>\n",
       "      <td>0.064678</td>\n",
       "      <td>192</td>\n",
       "      <td>3.400000</td>\n",
       "    </tr>\n",
       "    <tr>\n",
       "      <th>11</th>\n",
       "      <td>0.007048</td>\n",
       "      <td>0.010496</td>\n",
       "      <td>0.939394</td>\n",
       "      <td>0.029042</td>\n",
       "      <td>0.875</td>\n",
       "      <td>0.044379</td>\n",
       "      <td>499</td>\n",
       "      <td>5.666667</td>\n",
       "    </tr>\n",
       "    <tr>\n",
       "      <th>12</th>\n",
       "      <td>0.004788</td>\n",
       "      <td>0.006172</td>\n",
       "      <td>1.000000</td>\n",
       "      <td>0.076769</td>\n",
       "      <td>1.000</td>\n",
       "      <td>0.069087</td>\n",
       "      <td>140</td>\n",
       "      <td>2.733333</td>\n",
       "    </tr>\n",
       "    <tr>\n",
       "      <th>13</th>\n",
       "      <td>0.004125</td>\n",
       "      <td>0.005027</td>\n",
       "      <td>1.000000</td>\n",
       "      <td>0.061967</td>\n",
       "      <td>1.000</td>\n",
       "      <td>0.090488</td>\n",
       "      <td>163</td>\n",
       "      <td>2.450000</td>\n",
       "    </tr>\n",
       "    <tr>\n",
       "      <th>14</th>\n",
       "      <td>0.006054</td>\n",
       "      <td>0.010131</td>\n",
       "      <td>1.000000</td>\n",
       "      <td>0.080688</td>\n",
       "      <td>1.000</td>\n",
       "      <td>0.073245</td>\n",
       "      <td>174</td>\n",
       "      <td>2.416667</td>\n",
       "    </tr>\n",
       "    <tr>\n",
       "      <th>15</th>\n",
       "      <td>0.006343</td>\n",
       "      <td>0.011746</td>\n",
       "      <td>1.000000</td>\n",
       "      <td>0.116005</td>\n",
       "      <td>1.000</td>\n",
       "      <td>0.130315</td>\n",
       "      <td>183</td>\n",
       "      <td>2.533333</td>\n",
       "    </tr>\n",
       "    <tr>\n",
       "      <th>16</th>\n",
       "      <td>0.003785</td>\n",
       "      <td>0.019936</td>\n",
       "      <td>1.000000</td>\n",
       "      <td>0.044037</td>\n",
       "      <td>1.000</td>\n",
       "      <td>0.114646</td>\n",
       "      <td>127</td>\n",
       "      <td>2.200000</td>\n",
       "    </tr>\n",
       "    <tr>\n",
       "      <th>17</th>\n",
       "      <td>0.003641</td>\n",
       "      <td>0.012049</td>\n",
       "      <td>1.000000</td>\n",
       "      <td>0.037351</td>\n",
       "      <td>1.000</td>\n",
       "      <td>0.093914</td>\n",
       "      <td>182</td>\n",
       "      <td>3.233333</td>\n",
       "    </tr>\n",
       "    <tr>\n",
       "      <th>18</th>\n",
       "      <td>0.006248</td>\n",
       "      <td>0.032275</td>\n",
       "      <td>1.000000</td>\n",
       "      <td>0.070211</td>\n",
       "      <td>0.625</td>\n",
       "      <td>0.082397</td>\n",
       "      <td>495</td>\n",
       "      <td>4.616667</td>\n",
       "    </tr>\n",
       "    <tr>\n",
       "      <th>19</th>\n",
       "      <td>0.003256</td>\n",
       "      <td>0.004312</td>\n",
       "      <td>1.000000</td>\n",
       "      <td>0.050648</td>\n",
       "      <td>1.000</td>\n",
       "      <td>0.057206</td>\n",
       "      <td>190</td>\n",
       "      <td>2.600000</td>\n",
       "    </tr>\n",
       "    <tr>\n",
       "      <th>20</th>\n",
       "      <td>0.010661</td>\n",
       "      <td>0.013369</td>\n",
       "      <td>0.772727</td>\n",
       "      <td>0.027116</td>\n",
       "      <td>0.625</td>\n",
       "      <td>0.029710</td>\n",
       "      <td>485</td>\n",
       "      <td>5.716667</td>\n",
       "    </tr>\n",
       "    <tr>\n",
       "      <th>21</th>\n",
       "      <td>0.006368</td>\n",
       "      <td>0.017873</td>\n",
       "      <td>0.984848</td>\n",
       "      <td>0.041743</td>\n",
       "      <td>0.750</td>\n",
       "      <td>0.054241</td>\n",
       "      <td>258</td>\n",
       "      <td>4.066667</td>\n",
       "    </tr>\n",
       "    <tr>\n",
       "      <th>22</th>\n",
       "      <td>0.009629</td>\n",
       "      <td>0.008224</td>\n",
       "      <td>1.000000</td>\n",
       "      <td>0.075675</td>\n",
       "      <td>1.000</td>\n",
       "      <td>0.073106</td>\n",
       "      <td>96</td>\n",
       "      <td>2.233333</td>\n",
       "    </tr>\n",
       "    <tr>\n",
       "      <th>23</th>\n",
       "      <td>0.006242</td>\n",
       "      <td>0.015394</td>\n",
       "      <td>1.000000</td>\n",
       "      <td>0.129826</td>\n",
       "      <td>1.000</td>\n",
       "      <td>0.145423</td>\n",
       "      <td>164</td>\n",
       "      <td>3.050000</td>\n",
       "    </tr>\n",
       "    <tr>\n",
       "      <th>24</th>\n",
       "      <td>0.004361</td>\n",
       "      <td>0.008721</td>\n",
       "      <td>1.000000</td>\n",
       "      <td>0.032892</td>\n",
       "      <td>0.875</td>\n",
       "      <td>0.044466</td>\n",
       "      <td>495</td>\n",
       "      <td>5.700000</td>\n",
       "    </tr>\n",
       "    <tr>\n",
       "      <th>25</th>\n",
       "      <td>0.004568</td>\n",
       "      <td>0.018055</td>\n",
       "      <td>0.969697</td>\n",
       "      <td>0.032004</td>\n",
       "      <td>0.750</td>\n",
       "      <td>0.044209</td>\n",
       "      <td>371</td>\n",
       "      <td>5.333333</td>\n",
       "    </tr>\n",
       "    <tr>\n",
       "      <th>26</th>\n",
       "      <td>0.009467</td>\n",
       "      <td>0.016641</td>\n",
       "      <td>1.000000</td>\n",
       "      <td>0.102218</td>\n",
       "      <td>1.000</td>\n",
       "      <td>0.115084</td>\n",
       "      <td>193</td>\n",
       "      <td>3.383333</td>\n",
       "    </tr>\n",
       "    <tr>\n",
       "      <th>27</th>\n",
       "      <td>0.012664</td>\n",
       "      <td>0.016917</td>\n",
       "      <td>0.863636</td>\n",
       "      <td>0.048491</td>\n",
       "      <td>0.500</td>\n",
       "      <td>0.047555</td>\n",
       "      <td>195</td>\n",
       "      <td>2.866667</td>\n",
       "    </tr>\n",
       "    <tr>\n",
       "      <th>28</th>\n",
       "      <td>0.012343</td>\n",
       "      <td>0.022707</td>\n",
       "      <td>1.000000</td>\n",
       "      <td>0.099081</td>\n",
       "      <td>0.875</td>\n",
       "      <td>0.128624</td>\n",
       "      <td>181</td>\n",
       "      <td>2.483333</td>\n",
       "    </tr>\n",
       "    <tr>\n",
       "      <th>29</th>\n",
       "      <td>0.008682</td>\n",
       "      <td>0.039862</td>\n",
       "      <td>1.000000</td>\n",
       "      <td>0.075483</td>\n",
       "      <td>1.000</td>\n",
       "      <td>0.130746</td>\n",
       "      <td>178</td>\n",
       "      <td>3.083333</td>\n",
       "    </tr>\n",
       "    <tr>\n",
       "      <th>30</th>\n",
       "      <td>0.008028</td>\n",
       "      <td>0.013242</td>\n",
       "      <td>1.000000</td>\n",
       "      <td>0.122573</td>\n",
       "      <td>1.000</td>\n",
       "      <td>0.165456</td>\n",
       "      <td>140</td>\n",
       "      <td>2.116667</td>\n",
       "    </tr>\n",
       "    <tr>\n",
       "      <th>31</th>\n",
       "      <td>0.007047</td>\n",
       "      <td>0.011093</td>\n",
       "      <td>0.863636</td>\n",
       "      <td>0.029654</td>\n",
       "      <td>0.750</td>\n",
       "      <td>0.024961</td>\n",
       "      <td>499</td>\n",
       "      <td>5.633333</td>\n",
       "    </tr>\n",
       "    <tr>\n",
       "      <th>32</th>\n",
       "      <td>0.007503</td>\n",
       "      <td>0.018238</td>\n",
       "      <td>1.000000</td>\n",
       "      <td>0.091201</td>\n",
       "      <td>1.000</td>\n",
       "      <td>0.122790</td>\n",
       "      <td>161</td>\n",
       "      <td>2.983333</td>\n",
       "    </tr>\n",
       "    <tr>\n",
       "      <th>33</th>\n",
       "      <td>0.005098</td>\n",
       "      <td>0.005297</td>\n",
       "      <td>1.000000</td>\n",
       "      <td>0.080056</td>\n",
       "      <td>1.000</td>\n",
       "      <td>0.074755</td>\n",
       "      <td>227</td>\n",
       "      <td>3.700000</td>\n",
       "    </tr>\n",
       "    <tr>\n",
       "      <th>34</th>\n",
       "      <td>0.014651</td>\n",
       "      <td>0.032075</td>\n",
       "      <td>0.636364</td>\n",
       "      <td>0.028114</td>\n",
       "      <td>0.375</td>\n",
       "      <td>0.032819</td>\n",
       "      <td>497</td>\n",
       "      <td>5.733333</td>\n",
       "    </tr>\n",
       "    <tr>\n",
       "      <th>35</th>\n",
       "      <td>0.005508</td>\n",
       "      <td>0.015432</td>\n",
       "      <td>1.000000</td>\n",
       "      <td>0.182568</td>\n",
       "      <td>1.000</td>\n",
       "      <td>0.244687</td>\n",
       "      <td>135</td>\n",
       "      <td>2.700000</td>\n",
       "    </tr>\n",
       "    <tr>\n",
       "      <th>36</th>\n",
       "      <td>0.003995</td>\n",
       "      <td>0.015095</td>\n",
       "      <td>1.000000</td>\n",
       "      <td>0.048717</td>\n",
       "      <td>0.875</td>\n",
       "      <td>0.056078</td>\n",
       "      <td>390</td>\n",
       "      <td>5.483333</td>\n",
       "    </tr>\n",
       "    <tr>\n",
       "      <th>37</th>\n",
       "      <td>0.010407</td>\n",
       "      <td>0.012670</td>\n",
       "      <td>0.363636</td>\n",
       "      <td>0.010488</td>\n",
       "      <td>0.250</td>\n",
       "      <td>0.018207</td>\n",
       "      <td>499</td>\n",
       "      <td>5.483333</td>\n",
       "    </tr>\n",
       "    <tr>\n",
       "      <th>38</th>\n",
       "      <td>0.010011</td>\n",
       "      <td>0.036420</td>\n",
       "      <td>0.727273</td>\n",
       "      <td>0.021247</td>\n",
       "      <td>0.375</td>\n",
       "      <td>0.038381</td>\n",
       "      <td>499</td>\n",
       "      <td>4.550000</td>\n",
       "    </tr>\n",
       "    <tr>\n",
       "      <th>39</th>\n",
       "      <td>0.002461</td>\n",
       "      <td>0.003981</td>\n",
       "      <td>1.000000</td>\n",
       "      <td>0.038855</td>\n",
       "      <td>1.000</td>\n",
       "      <td>0.053210</td>\n",
       "      <td>136</td>\n",
       "      <td>2.100000</td>\n",
       "    </tr>\n",
       "    <tr>\n",
       "      <th>40</th>\n",
       "      <td>0.000315</td>\n",
       "      <td>0.000823</td>\n",
       "      <td>1.000000</td>\n",
       "      <td>0.004506</td>\n",
       "      <td>1.000</td>\n",
       "      <td>0.005395</td>\n",
       "      <td>453</td>\n",
       "      <td>4.383333</td>\n",
       "    </tr>\n",
       "    <tr>\n",
       "      <th>41</th>\n",
       "      <td>0.005176</td>\n",
       "      <td>0.008606</td>\n",
       "      <td>0.984848</td>\n",
       "      <td>0.042522</td>\n",
       "      <td>1.000</td>\n",
       "      <td>0.058792</td>\n",
       "      <td>182</td>\n",
       "      <td>2.733333</td>\n",
       "    </tr>\n",
       "    <tr>\n",
       "      <th>42</th>\n",
       "      <td>0.004036</td>\n",
       "      <td>0.022079</td>\n",
       "      <td>0.893939</td>\n",
       "      <td>0.016970</td>\n",
       "      <td>0.625</td>\n",
       "      <td>0.037234</td>\n",
       "      <td>499</td>\n",
       "      <td>5.383333</td>\n",
       "    </tr>\n",
       "    <tr>\n",
       "      <th>43</th>\n",
       "      <td>0.010941</td>\n",
       "      <td>0.018455</td>\n",
       "      <td>0.560606</td>\n",
       "      <td>0.021726</td>\n",
       "      <td>0.500</td>\n",
       "      <td>0.025923</td>\n",
       "      <td>499</td>\n",
       "      <td>5.366667</td>\n",
       "    </tr>\n",
       "    <tr>\n",
       "      <th>44</th>\n",
       "      <td>0.007949</td>\n",
       "      <td>0.014258</td>\n",
       "      <td>0.969697</td>\n",
       "      <td>0.053136</td>\n",
       "      <td>0.750</td>\n",
       "      <td>0.066081</td>\n",
       "      <td>253</td>\n",
       "      <td>3.900000</td>\n",
       "    </tr>\n",
       "    <tr>\n",
       "      <th>45</th>\n",
       "      <td>0.015495</td>\n",
       "      <td>0.009225</td>\n",
       "      <td>1.000000</td>\n",
       "      <td>0.114233</td>\n",
       "      <td>1.000</td>\n",
       "      <td>0.133157</td>\n",
       "      <td>188</td>\n",
       "      <td>3.183333</td>\n",
       "    </tr>\n",
       "    <tr>\n",
       "      <th>46</th>\n",
       "      <td>0.006061</td>\n",
       "      <td>0.008987</td>\n",
       "      <td>0.984848</td>\n",
       "      <td>0.035703</td>\n",
       "      <td>1.000</td>\n",
       "      <td>0.048985</td>\n",
       "      <td>496</td>\n",
       "      <td>5.300000</td>\n",
       "    </tr>\n",
       "    <tr>\n",
       "      <th>47</th>\n",
       "      <td>0.006469</td>\n",
       "      <td>0.011082</td>\n",
       "      <td>1.000000</td>\n",
       "      <td>0.114014</td>\n",
       "      <td>1.000</td>\n",
       "      <td>0.160813</td>\n",
       "      <td>109</td>\n",
       "      <td>2.183333</td>\n",
       "    </tr>\n",
       "    <tr>\n",
       "      <th>48</th>\n",
       "      <td>0.011006</td>\n",
       "      <td>0.010064</td>\n",
       "      <td>1.000000</td>\n",
       "      <td>0.118875</td>\n",
       "      <td>1.000</td>\n",
       "      <td>0.129615</td>\n",
       "      <td>190</td>\n",
       "      <td>2.633333</td>\n",
       "    </tr>\n",
       "    <tr>\n",
       "      <th>49</th>\n",
       "      <td>0.004687</td>\n",
       "      <td>0.012596</td>\n",
       "      <td>1.000000</td>\n",
       "      <td>0.047367</td>\n",
       "      <td>1.000</td>\n",
       "      <td>0.055329</td>\n",
       "      <td>473</td>\n",
       "      <td>4.683333</td>\n",
       "    </tr>\n",
       "  </tbody>\n",
       "</table>\n",
       "</div>"
      ],
      "text/plain": [
       "           0         1         2         3      4         5    6         7\n",
       "0   0.006067  0.049660  1.000000  0.066923  0.875  0.083625  173  3.166667\n",
       "1   0.010682  0.021873  0.803030  0.029778  0.625  0.032242  499  5.716667\n",
       "2   0.010763  0.019990  1.000000  0.123902  1.000  0.134021  138  2.150000\n",
       "3   0.007800  0.032504  1.000000  0.114840  0.875  0.140627  127  2.616667\n",
       "4   0.013876  0.017011  1.000000  0.101504  1.000  0.089074  176  3.183333\n",
       "5   0.018593  0.028193  0.833333  0.059805  0.500  0.065853  191  2.583333\n",
       "6   0.007638  0.010800  1.000000  0.142293  1.000  0.181931  112  2.433333\n",
       "7   0.010064  0.026776  0.863636  0.040322  0.500  0.055214  499  5.750000\n",
       "8   0.006554  0.011165  1.000000  0.222621  1.000  0.227341  139  2.733333\n",
       "9   0.003802  0.004380  1.000000  0.060447  1.000  0.058754  188  3.333333\n",
       "10  0.006079  0.013996  0.984848  0.058961  1.000  0.064678  192  3.400000\n",
       "11  0.007048  0.010496  0.939394  0.029042  0.875  0.044379  499  5.666667\n",
       "12  0.004788  0.006172  1.000000  0.076769  1.000  0.069087  140  2.733333\n",
       "13  0.004125  0.005027  1.000000  0.061967  1.000  0.090488  163  2.450000\n",
       "14  0.006054  0.010131  1.000000  0.080688  1.000  0.073245  174  2.416667\n",
       "15  0.006343  0.011746  1.000000  0.116005  1.000  0.130315  183  2.533333\n",
       "16  0.003785  0.019936  1.000000  0.044037  1.000  0.114646  127  2.200000\n",
       "17  0.003641  0.012049  1.000000  0.037351  1.000  0.093914  182  3.233333\n",
       "18  0.006248  0.032275  1.000000  0.070211  0.625  0.082397  495  4.616667\n",
       "19  0.003256  0.004312  1.000000  0.050648  1.000  0.057206  190  2.600000\n",
       "20  0.010661  0.013369  0.772727  0.027116  0.625  0.029710  485  5.716667\n",
       "21  0.006368  0.017873  0.984848  0.041743  0.750  0.054241  258  4.066667\n",
       "22  0.009629  0.008224  1.000000  0.075675  1.000  0.073106   96  2.233333\n",
       "23  0.006242  0.015394  1.000000  0.129826  1.000  0.145423  164  3.050000\n",
       "24  0.004361  0.008721  1.000000  0.032892  0.875  0.044466  495  5.700000\n",
       "25  0.004568  0.018055  0.969697  0.032004  0.750  0.044209  371  5.333333\n",
       "26  0.009467  0.016641  1.000000  0.102218  1.000  0.115084  193  3.383333\n",
       "27  0.012664  0.016917  0.863636  0.048491  0.500  0.047555  195  2.866667\n",
       "28  0.012343  0.022707  1.000000  0.099081  0.875  0.128624  181  2.483333\n",
       "29  0.008682  0.039862  1.000000  0.075483  1.000  0.130746  178  3.083333\n",
       "30  0.008028  0.013242  1.000000  0.122573  1.000  0.165456  140  2.116667\n",
       "31  0.007047  0.011093  0.863636  0.029654  0.750  0.024961  499  5.633333\n",
       "32  0.007503  0.018238  1.000000  0.091201  1.000  0.122790  161  2.983333\n",
       "33  0.005098  0.005297  1.000000  0.080056  1.000  0.074755  227  3.700000\n",
       "34  0.014651  0.032075  0.636364  0.028114  0.375  0.032819  497  5.733333\n",
       "35  0.005508  0.015432  1.000000  0.182568  1.000  0.244687  135  2.700000\n",
       "36  0.003995  0.015095  1.000000  0.048717  0.875  0.056078  390  5.483333\n",
       "37  0.010407  0.012670  0.363636  0.010488  0.250  0.018207  499  5.483333\n",
       "38  0.010011  0.036420  0.727273  0.021247  0.375  0.038381  499  4.550000\n",
       "39  0.002461  0.003981  1.000000  0.038855  1.000  0.053210  136  2.100000\n",
       "40  0.000315  0.000823  1.000000  0.004506  1.000  0.005395  453  4.383333\n",
       "41  0.005176  0.008606  0.984848  0.042522  1.000  0.058792  182  2.733333\n",
       "42  0.004036  0.022079  0.893939  0.016970  0.625  0.037234  499  5.383333\n",
       "43  0.010941  0.018455  0.560606  0.021726  0.500  0.025923  499  5.366667\n",
       "44  0.007949  0.014258  0.969697  0.053136  0.750  0.066081  253  3.900000\n",
       "45  0.015495  0.009225  1.000000  0.114233  1.000  0.133157  188  3.183333\n",
       "46  0.006061  0.008987  0.984848  0.035703  1.000  0.048985  496  5.300000\n",
       "47  0.006469  0.011082  1.000000  0.114014  1.000  0.160813  109  2.183333\n",
       "48  0.011006  0.010064  1.000000  0.118875  1.000  0.129615  190  2.633333\n",
       "49  0.004687  0.012596  1.000000  0.047367  1.000  0.055329  473  4.683333"
      ]
     },
     "execution_count": 166,
     "metadata": {},
     "output_type": "execute_result"
    }
   ],
   "source": [
    "check"
   ]
  },
  {
   "cell_type": "code",
   "execution_count": 167,
   "id": "4fc1dcac-24b2-45e7-ae4c-e55eca90a6c6",
   "metadata": {},
   "outputs": [],
   "source": [
    "check.columns = [\"train_mae\", \"test_mae\", \"train_coverage\", \"train_width\", \"test_coverage\", \"test_width\", \"exit_iter\", \"time_taken\"]"
   ]
  },
  {
   "cell_type": "code",
   "execution_count": 168,
   "id": "fcf483cf-1d09-4d5d-8c7c-7db62473a356",
   "metadata": {},
   "outputs": [
    {
     "data": {
      "text/plain": [
       "train_mae           0.007581\n",
       "test_mae            0.016119\n",
       "train_coverage      0.940000\n",
       "train_width         0.069503\n",
       "test_coverage       0.855000\n",
       "test_width          0.085097\n",
       "exit_iter         274.560000\n",
       "time_taken          3.673333\n",
       "dtype: float64"
      ]
     },
     "execution_count": 168,
     "metadata": {},
     "output_type": "execute_result"
    }
   ],
   "source": [
    "check.mean()"
   ]
  },
  {
   "cell_type": "code",
   "execution_count": 169,
   "id": "e776a220-0227-4460-bd21-5aa40a756b12",
   "metadata": {},
   "outputs": [],
   "source": [
    "check_mean = check.mean().reset_index()"
   ]
  },
  {
   "cell_type": "code",
   "execution_count": 170,
   "id": "1839ab29-f07b-4245-8c57-76f96a51f181",
   "metadata": {},
   "outputs": [],
   "source": [
    "check_mean.to_csv(\"Real_World_mean_metrics_EnKF_LSTM_Doc2Vec_\" + \"var_weights_\" + str(var_weights) + \"_num_ens_\" + str(size_ens) +  \".csv\", index = False)"
   ]
  },
  {
   "cell_type": "code",
   "execution_count": 171,
   "id": "9b520f45-ad8d-453c-80e7-7a6bb711692f",
   "metadata": {},
   "outputs": [
    {
     "data": {
      "text/plain": [
       "train_mae           0.003652\n",
       "test_mae            0.009967\n",
       "train_coverage      0.129073\n",
       "train_width         0.045169\n",
       "test_coverage       0.211831\n",
       "test_width          0.052931\n",
       "exit_iter         153.088631\n",
       "time_taken          1.295054\n",
       "dtype: float64"
      ]
     },
     "execution_count": 171,
     "metadata": {},
     "output_type": "execute_result"
    }
   ],
   "source": [
    "check.std()"
   ]
  },
  {
   "cell_type": "code",
   "execution_count": 172,
   "id": "87f0aecc-b638-486c-96ce-5f8d47b4a619",
   "metadata": {},
   "outputs": [],
   "source": [
    "check_std = check.std().reset_index()"
   ]
  },
  {
   "cell_type": "code",
   "execution_count": 173,
   "id": "355e9158-ecd7-48bc-9d13-d715fcb3ceb3",
   "metadata": {},
   "outputs": [],
   "source": [
    "check_std.to_csv(\"Real_World_std_dev_metrics_EnKF_LSTM_Doc2Vec_\" + \"var_weights_\" + str(var_weights) + \"_num_ens_\" + str(size_ens)+  \".csv\", index = False)"
   ]
  },
  {
   "cell_type": "code",
   "execution_count": 174,
   "id": "e3e43629-3a74-4d41-acaf-dea297a3840c",
   "metadata": {},
   "outputs": [
    {
     "data": {
      "text/plain": [
       "train_mae         0.000073\n",
       "test_mae          0.000199\n",
       "train_coverage    0.002581\n",
       "train_width       0.000903\n",
       "test_coverage     0.004237\n",
       "test_width        0.001059\n",
       "exit_iter         3.061773\n",
       "time_taken        0.025901\n",
       "dtype: float64"
      ]
     },
     "execution_count": 174,
     "metadata": {},
     "output_type": "execute_result"
    }
   ],
   "source": [
    "check.std()/reps"
   ]
  },
  {
   "cell_type": "code",
   "execution_count": 175,
   "id": "a83c3d12-b2f0-44b8-9904-7b10c4f513bd",
   "metadata": {},
   "outputs": [],
   "source": [
    "true_preds = []\n",
    "enkf_preds = []\n",
    "for i in range(0,reps):\n",
    "    all_preds = catch_coverages[i][-1]\n",
    "    all_preds = all_preds.mean(0)\n",
    "    catch_test_probs = expit(catch1[i][2])\n",
    "    true_probs = catch_test_probs.ravel().tolist()\n",
    "    true_preds.append(true_probs)\n",
    "    enkf_preds.append(all_preds.ravel().tolist())\n",
    "    # plt.scatter(true_probs, all_preds.ravel().tolist())\n",
    "    # plt.show()"
   ]
  },
  {
   "cell_type": "code",
   "execution_count": 176,
   "id": "4089a2ab-43f9-4e24-a7ed-add7bdc14156",
   "metadata": {},
   "outputs": [],
   "source": [
    "true_preds = [inner for item in true_preds for inner in item]"
   ]
  },
  {
   "cell_type": "code",
   "execution_count": 177,
   "id": "65492b8d-d7e4-4375-8577-d79a633680b7",
   "metadata": {},
   "outputs": [],
   "source": [
    "enkf_preds = [inner for item in enkf_preds for inner in item]"
   ]
  },
  {
   "cell_type": "code",
   "execution_count": 178,
   "id": "19776731-14c7-43c3-bd48-163aa67e2c76",
   "metadata": {},
   "outputs": [
    {
     "data": {
      "text/plain": [
       "0.01611948451245389"
      ]
     },
     "execution_count": 178,
     "metadata": {},
     "output_type": "execute_result"
    }
   ],
   "source": [
    "np.mean(np.abs(np.array(true_preds)-np.array(enkf_preds)))"
   ]
  },
  {
   "cell_type": "code",
   "execution_count": 179,
   "id": "1ebada74-6fe8-4f58-a939-87ca7399aef8",
   "metadata": {},
   "outputs": [
    {
     "data": {
      "image/png": "[encoded data removed]",
      "text/plain": [
       "<Figure size 640x480 with 1 Axes>"
      ]
     },
     "metadata": {},
     "output_type": "display_data"
    }
   ],
   "source": [
    "plt.scatter(enkf_preds,true_preds, alpha=0.5)\n",
    "plt.xlabel(\"EnKF preds\", fontsize = 15, fontweight = \"bold\")\n",
    "plt.ylabel(\"LSTM preds\", fontsize = 15, fontweight = \"bold\")\n",
    "plt.xticks(fontsize = 10, fontweight = \"bold\")\n",
    "plt.yticks(fontsize = 10, fontweight = \"bold\")\n",
    "plt.axline((0, 0), slope=1)\n",
    "plt.show()"
   ]
  },
  {
   "cell_type": "code",
   "execution_count": 180,
   "id": "ead27b05-299e-49dc-bb97-236a18cd05e5",
   "metadata": {},
   "outputs": [],
   "source": [
    "# check"
   ]
  },
  {
   "cell_type": "code",
   "execution_count": 181,
   "id": "30168631-5285-40c3-bf63-ef70c4460ebe",
   "metadata": {},
   "outputs": [],
   "source": [
    "with open(\"Real_World_EnKF_LSTM_Doc2Vec_\" + \"var_weights_\" + str(var_weights) + \"_num_ens_\" + str(size_ens) + \".pkl\", 'wb') as f:\n",
    "    first_lstm = pickle.dump(catch_coverages, f)  "
   ]
  }
 ],
 "metadata": {
  "kernelspec": {
   "display_name": "enkf",
   "language": "python",
   "name": "enkf"
  },
  "language_info": {
   "codemirror_mode": {
    "name": "ipython",
    "version": 3
   },
   "file_extension": ".py",
   "mimetype": "text/x-python",
   "name": "python",
   "nbconvert_exporter": "python",
   "pygments_lexer": "ipython3",
   "version": "3.10.8"
  }
 },
 "nbformat": 4,
 "nbformat_minor": 5
}
