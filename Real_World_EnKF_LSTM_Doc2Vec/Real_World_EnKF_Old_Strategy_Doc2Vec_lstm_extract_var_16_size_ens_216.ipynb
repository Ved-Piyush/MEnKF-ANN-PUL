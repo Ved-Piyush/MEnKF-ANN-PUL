{
 "cells": [
  {
   "cell_type": "code",
   "execution_count": 1,
   "id": "d7ab5bf3",
   "metadata": {},
   "outputs": [],
   "source": [
    "import pandas as pd\n",
    "from tqdm import tqdm\n",
    "import gensim\n",
    "import os\n",
    "os.environ['TF_CPP_MIN_LOG_LEVEL'] = '3' \n",
    "# os.chdir(r\"D://Proposal_Defense//Simulations\")\n",
    "# from Utils.Script_utils import get_data_splits, first_LSTM_training, get_data_splits_old_algo\n",
    "from joblib import Parallel, delayed\n",
    "import sys\n",
    "from scipy.stats import norm"
   ]
  },
  {
   "cell_type": "code",
   "execution_count": 2,
   "id": "36084258",
   "metadata": {},
   "outputs": [
    {
     "name": "stdout",
     "output_type": "stream",
     "text": [
      "No GPU found\n"
     ]
    }
   ],
   "source": [
    "# Seed value\n",
    "# Apparently you may use different seed values at each stage\n",
    "seed_value= 42\n",
    "\n",
    "# 1. Set the `PYTHONHASHSEED` environment variable at a fixed value\n",
    "import os\n",
    "os.environ['PYTHONHASHSEED']=str(seed_value)\n",
    "\n",
    "# 2. Set the `python` built-in pseudo-random generator at a fixed value\n",
    "import random\n",
    "random.seed(seed_value)\n",
    "\n",
    "# 3. Set the `numpy` pseudo-random generator at a fixed value\n",
    "import numpy as np\n",
    "np.random.seed(seed_value)\n",
    "\n",
    "# # 4. Set the `tensorflow` pseudo-random generator at a fixed value\n",
    "import tensorflow as tf\n",
    "os.environ['CUDA_VISIBLE_DEVICES'] = '-1'\n",
    "\n",
    "if tf.test.gpu_device_name():\n",
    "    print('GPU found')\n",
    "else:\n",
    "    print(\"No GPU found\")\n",
    "# tf.config.set_visible_devices([], 'GPU')\n",
    "\n",
    "from tqdm.notebook import tqdm\n",
    "tf.random.set_seed(seed_value)\n",
    "import multiprocessing\n",
    "# for later versions: \n",
    "# tf.compat.v1.set_random_seed(seed_value)\n",
    "\n",
    "# 5. Configure a new global `tensorflow` session\n",
    "# from keras import backend as K\n",
    "# session_conf = tf.compat.v1.ConfigProto(intra_op_parallelism_threads=1, inter_op_parallelism_threads=1)\n",
    "# sess = tf.compat.v1.Session(graph=tf.compat.v1.get_default_graph(), config=session_conf)\n",
    "# K.set_session(sess)"
   ]
  },
  {
   "cell_type": "code",
   "execution_count": 3,
   "id": "e036b858",
   "metadata": {},
   "outputs": [],
   "source": [
    "import matplotlib.pyplot as plt\n",
    "\n",
    "import pickle"
   ]
  },
  {
   "cell_type": "code",
   "execution_count": 4,
   "id": "058ca9d0",
   "metadata": {},
   "outputs": [],
   "source": [
    "model_cbow = gensim.models.word2vec.Word2Vec.load(r\"word2vec_sg\")"
   ]
  },
  {
   "cell_type": "code",
   "execution_count": 5,
   "id": "72fbb06e",
   "metadata": {},
   "outputs": [],
   "source": [
    "lr = 1e-3\n",
    "# from sklearn.model_selection import train_test_split\n",
    "\n",
    "\n",
    "## Read the data\n",
    "data = pd.read_csv(r\"doc2vec_dbow.csv\")\n",
    "\n",
    "## We only using xylan and pectin\n",
    "to_keep = [\"pectin\", \"xylan\"]\n",
    "\n",
    "data = data[data[\"high_level_substr\"].isin(to_keep)]\n",
    "\n",
    "data = data.reset_index(drop = True)\n",
    "\n",
    "features = [seq.replace(\"|\", \",\").replace(\",\", \" \") for seq in data[\"sig_gene_seq\"].values]\n",
    "\n",
    "features  = np.array(features)\n",
    "\n",
    "features = features.reshape(-1,1)"
   ]
  },
  {
   "cell_type": "code",
   "execution_count": 6,
   "id": "d02c4f20-faf2-4e10-86f6-9ca8a295b770",
   "metadata": {},
   "outputs": [],
   "source": [
    "# data[\"high_level_substr\"].value_counts()"
   ]
  },
  {
   "cell_type": "code",
   "execution_count": 7,
   "id": "2bf7066c-ea42-41bd-949d-293de7243bfc",
   "metadata": {},
   "outputs": [
    {
     "data": {
      "text/html": [
       "<div>\n",
       "<style scoped>\n",
       "    .dataframe tbody tr th:only-of-type {\n",
       "        vertical-align: middle;\n",
       "    }\n",
       "\n",
       "    .dataframe tbody tr th {\n",
       "        vertical-align: top;\n",
       "    }\n",
       "\n",
       "    .dataframe thead th {\n",
       "        text-align: right;\n",
       "    }\n",
       "</style>\n",
       "<table border=\"1\" class=\"dataframe\">\n",
       "  <thead>\n",
       "    <tr style=\"text-align: right;\">\n",
       "      <th></th>\n",
       "      <th>sig_gene_seq</th>\n",
       "      <th>high_level_substr</th>\n",
       "      <th>0</th>\n",
       "      <th>1</th>\n",
       "      <th>2</th>\n",
       "      <th>3</th>\n",
       "      <th>4</th>\n",
       "      <th>5</th>\n",
       "      <th>6</th>\n",
       "      <th>7</th>\n",
       "      <th>...</th>\n",
       "      <th>40</th>\n",
       "      <th>41</th>\n",
       "      <th>42</th>\n",
       "      <th>43</th>\n",
       "      <th>44</th>\n",
       "      <th>45</th>\n",
       "      <th>46</th>\n",
       "      <th>47</th>\n",
       "      <th>48</th>\n",
       "      <th>49</th>\n",
       "    </tr>\n",
       "  </thead>\n",
       "  <tbody>\n",
       "    <tr>\n",
       "      <th>0</th>\n",
       "      <td>null,null,HTH_DeoR,HTH_AraC|HTH_AraC,8.A.59,PL...</td>\n",
       "      <td>pectin</td>\n",
       "      <td>0.098224</td>\n",
       "      <td>-0.016721</td>\n",
       "      <td>0.340086</td>\n",
       "      <td>-0.103025</td>\n",
       "      <td>-0.108523</td>\n",
       "      <td>-0.186498</td>\n",
       "      <td>-0.142543</td>\n",
       "      <td>0.572389</td>\n",
       "      <td>...</td>\n",
       "      <td>0.169946</td>\n",
       "      <td>-0.143168</td>\n",
       "      <td>0.421863</td>\n",
       "      <td>0.088525</td>\n",
       "      <td>0.044629</td>\n",
       "      <td>0.218964</td>\n",
       "      <td>0.507033</td>\n",
       "      <td>-0.179407</td>\n",
       "      <td>-0.099657</td>\n",
       "      <td>0.128027</td>\n",
       "    </tr>\n",
       "    <tr>\n",
       "      <th>1</th>\n",
       "      <td>CE10,1.B.35</td>\n",
       "      <td>pectin</td>\n",
       "      <td>-0.114699</td>\n",
       "      <td>0.105488</td>\n",
       "      <td>0.111531</td>\n",
       "      <td>-0.116430</td>\n",
       "      <td>-0.133199</td>\n",
       "      <td>0.259120</td>\n",
       "      <td>0.133353</td>\n",
       "      <td>0.196669</td>\n",
       "      <td>...</td>\n",
       "      <td>-0.042859</td>\n",
       "      <td>0.027520</td>\n",
       "      <td>0.208792</td>\n",
       "      <td>-0.271193</td>\n",
       "      <td>0.064108</td>\n",
       "      <td>0.049114</td>\n",
       "      <td>-0.236957</td>\n",
       "      <td>0.039852</td>\n",
       "      <td>0.002365</td>\n",
       "      <td>0.016162</td>\n",
       "    </tr>\n",
       "    <tr>\n",
       "      <th>2</th>\n",
       "      <td>3.A.1,3.A.1,3.A.1,3.A.1,PL2_2</td>\n",
       "      <td>pectin</td>\n",
       "      <td>-0.278164</td>\n",
       "      <td>0.085645</td>\n",
       "      <td>0.272704</td>\n",
       "      <td>-0.028930</td>\n",
       "      <td>0.022241</td>\n",
       "      <td>0.520536</td>\n",
       "      <td>0.059369</td>\n",
       "      <td>0.058101</td>\n",
       "      <td>...</td>\n",
       "      <td>-0.059951</td>\n",
       "      <td>-0.108473</td>\n",
       "      <td>0.103364</td>\n",
       "      <td>-0.210818</td>\n",
       "      <td>0.063985</td>\n",
       "      <td>-0.065916</td>\n",
       "      <td>-0.171995</td>\n",
       "      <td>-0.132060</td>\n",
       "      <td>-0.036154</td>\n",
       "      <td>-0.029065</td>\n",
       "    </tr>\n",
       "    <tr>\n",
       "      <th>3</th>\n",
       "      <td>MarR,null,null,AraC_binding,null,null,PfkB,nul...</td>\n",
       "      <td>pectin</td>\n",
       "      <td>-0.195133</td>\n",
       "      <td>-0.111228</td>\n",
       "      <td>0.434263</td>\n",
       "      <td>-0.097529</td>\n",
       "      <td>-0.028071</td>\n",
       "      <td>0.497665</td>\n",
       "      <td>0.207075</td>\n",
       "      <td>0.449561</td>\n",
       "      <td>...</td>\n",
       "      <td>0.175302</td>\n",
       "      <td>0.190835</td>\n",
       "      <td>0.102370</td>\n",
       "      <td>-0.651666</td>\n",
       "      <td>-0.101355</td>\n",
       "      <td>-0.007362</td>\n",
       "      <td>-0.107131</td>\n",
       "      <td>-0.218027</td>\n",
       "      <td>0.537375</td>\n",
       "      <td>0.115762</td>\n",
       "    </tr>\n",
       "    <tr>\n",
       "      <th>4</th>\n",
       "      <td>PL10_1,CE8,PL11</td>\n",
       "      <td>pectin</td>\n",
       "      <td>-0.289301</td>\n",
       "      <td>0.035218</td>\n",
       "      <td>0.544027</td>\n",
       "      <td>0.116612</td>\n",
       "      <td>-0.201045</td>\n",
       "      <td>0.170767</td>\n",
       "      <td>-0.295381</td>\n",
       "      <td>0.142336</td>\n",
       "      <td>...</td>\n",
       "      <td>-0.043412</td>\n",
       "      <td>0.048884</td>\n",
       "      <td>0.392662</td>\n",
       "      <td>-0.174932</td>\n",
       "      <td>0.163090</td>\n",
       "      <td>0.252030</td>\n",
       "      <td>0.078837</td>\n",
       "      <td>-0.145878</td>\n",
       "      <td>0.054710</td>\n",
       "      <td>-0.264735</td>\n",
       "    </tr>\n",
       "  </tbody>\n",
       "</table>\n",
       "<p>5 rows × 52 columns</p>\n",
       "</div>"
      ],
      "text/plain": [
       "                                        sig_gene_seq high_level_substr  \\\n",
       "0  null,null,HTH_DeoR,HTH_AraC|HTH_AraC,8.A.59,PL...            pectin   \n",
       "1                                        CE10,1.B.35            pectin   \n",
       "2                      3.A.1,3.A.1,3.A.1,3.A.1,PL2_2            pectin   \n",
       "3  MarR,null,null,AraC_binding,null,null,PfkB,nul...            pectin   \n",
       "4                                    PL10_1,CE8,PL11            pectin   \n",
       "\n",
       "          0         1         2         3         4         5         6  \\\n",
       "0  0.098224 -0.016721  0.340086 -0.103025 -0.108523 -0.186498 -0.142543   \n",
       "1 -0.114699  0.105488  0.111531 -0.116430 -0.133199  0.259120  0.133353   \n",
       "2 -0.278164  0.085645  0.272704 -0.028930  0.022241  0.520536  0.059369   \n",
       "3 -0.195133 -0.111228  0.434263 -0.097529 -0.028071  0.497665  0.207075   \n",
       "4 -0.289301  0.035218  0.544027  0.116612 -0.201045  0.170767 -0.295381   \n",
       "\n",
       "          7  ...        40        41        42        43        44        45  \\\n",
       "0  0.572389  ...  0.169946 -0.143168  0.421863  0.088525  0.044629  0.218964   \n",
       "1  0.196669  ... -0.042859  0.027520  0.208792 -0.271193  0.064108  0.049114   \n",
       "2  0.058101  ... -0.059951 -0.108473  0.103364 -0.210818  0.063985 -0.065916   \n",
       "3  0.449561  ...  0.175302  0.190835  0.102370 -0.651666 -0.101355 -0.007362   \n",
       "4  0.142336  ... -0.043412  0.048884  0.392662 -0.174932  0.163090  0.252030   \n",
       "\n",
       "         46        47        48        49  \n",
       "0  0.507033 -0.179407 -0.099657  0.128027  \n",
       "1 -0.236957  0.039852  0.002365  0.016162  \n",
       "2 -0.171995 -0.132060 -0.036154 -0.029065  \n",
       "3 -0.107131 -0.218027  0.537375  0.115762  \n",
       "4  0.078837 -0.145878  0.054710 -0.264735  \n",
       "\n",
       "[5 rows x 52 columns]"
      ]
     },
     "execution_count": 7,
     "metadata": {},
     "output_type": "execute_result"
    }
   ],
   "source": [
    "data.head()"
   ]
  },
  {
   "cell_type": "code",
   "execution_count": 8,
   "id": "88bbd17f",
   "metadata": {},
   "outputs": [],
   "source": [
    "reps = 50"
   ]
  },
  {
   "cell_type": "code",
   "execution_count": 9,
   "id": "440c1a52",
   "metadata": {},
   "outputs": [],
   "source": [
    "with open('true_data_doc2vec_lstm_var_0.0001.pkl', 'rb') as f:\n",
    "    catch = pickle.load(f)  "
   ]
  },
  {
   "cell_type": "code",
   "execution_count": 10,
   "id": "76624ecc-8bb7-4e52-b95d-1a01cecacb5b",
   "metadata": {},
   "outputs": [],
   "source": [
    "def ann(hidden = 10): \n",
    "    input_layer = tf.keras.layers.Input(shape = (X_train_word2vec.shape[1]))\n",
    "    hidden_layer = tf.keras.layers.Dense(hidden)\n",
    "    hidden_output = hidden_layer(input_layer)\n",
    "    pred_layer = tf.keras.layers.Dense(1)\n",
    "    pred_output = pred_layer(hidden_output)\n",
    "#     pred_output = tf.keras.layers.Activation(\"softmax\")(pred_output)\n",
    "    model = tf.keras.models.Model(input_layer, pred_output)\n",
    "    return model"
   ]
  },
  {
   "cell_type": "code",
   "execution_count": 11,
   "id": "5fdce782-35ce-4f39-923d-4314c6901f68",
   "metadata": {},
   "outputs": [],
   "source": [
    "h1, h2 = 16,16"
   ]
  },
  {
   "cell_type": "code",
   "execution_count": 12,
   "id": "b8153ea5-cefc-4075-994d-c51461505e8b",
   "metadata": {},
   "outputs": [],
   "source": [
    "X_train_word2vec = data.iloc[:,-25:]"
   ]
  },
  {
   "cell_type": "code",
   "execution_count": 13,
   "id": "b2ff179a-2c64-4bae-bfd5-3ce7f4b40fb5",
   "metadata": {},
   "outputs": [],
   "source": [
    "\n",
    "\n",
    "ann_15 = ann(h1)\n",
    "\n",
    "\n",
    "# In[35]:\n",
    "\n",
    "\n",
    "# ann_15.summary()\n",
    "\n",
    "\n",
    "# In[36]:\n",
    "\n"
   ]
  },
  {
   "cell_type": "code",
   "execution_count": 14,
   "id": "0bf5144e-59f2-413e-af30-39407819094c",
   "metadata": {},
   "outputs": [
    {
     "name": "stdout",
     "output_type": "stream",
     "text": [
      "Model: \"model\"\n",
      "_________________________________________________________________\n",
      " Layer (type)                Output Shape              Param #   \n",
      "=================================================================\n",
      " input_1 (InputLayer)        [(None, 25)]              0         \n",
      "                                                                 \n",
      " dense (Dense)               (None, 16)                416       \n",
      "                                                                 \n",
      " dense_1 (Dense)             (None, 1)                 17        \n",
      "                                                                 \n",
      "=================================================================\n",
      "Total params: 433\n",
      "Trainable params: 433\n",
      "Non-trainable params: 0\n",
      "_________________________________________________________________\n"
     ]
    }
   ],
   "source": [
    "ann_15.summary()"
   ]
  },
  {
   "cell_type": "code",
   "execution_count": 15,
   "id": "a9c45b5a-9f13-4fd9-b90c-ed94e069b9cc",
   "metadata": {},
   "outputs": [],
   "source": [
    "X_train_word2vec = data.iloc[:,-50:]"
   ]
  },
  {
   "cell_type": "code",
   "execution_count": 16,
   "id": "bce5668e-a895-47b4-8f1c-6e5d1fd3c92b",
   "metadata": {},
   "outputs": [],
   "source": [
    "ann_20 = ann(h2)\n",
    "\n",
    "\n",
    "\n",
    "# ann_20.summary()\n",
    "\n"
   ]
  },
  {
   "cell_type": "code",
   "execution_count": 17,
   "id": "6a41f8b5",
   "metadata": {},
   "outputs": [],
   "source": [
    "total_weights_1 = ann_15.count_params()"
   ]
  },
  {
   "cell_type": "code",
   "execution_count": 18,
   "id": "0721ea37",
   "metadata": {},
   "outputs": [],
   "source": [
    "total_weights_2 = ann_20.count_params()"
   ]
  },
  {
   "cell_type": "code",
   "execution_count": 19,
   "id": "4b2ed894",
   "metadata": {},
   "outputs": [],
   "source": [
    "total_weights = total_weights_1 + total_weights_2 + 1 "
   ]
  },
  {
   "cell_type": "code",
   "execution_count": 20,
   "id": "999f5e96",
   "metadata": {},
   "outputs": [
    {
     "data": {
      "text/plain": [
       "1267"
      ]
     },
     "execution_count": 20,
     "metadata": {},
     "output_type": "execute_result"
    }
   ],
   "source": [
    "total_weights"
   ]
  },
  {
   "cell_type": "code",
   "execution_count": 21,
   "id": "feb2ef89",
   "metadata": {},
   "outputs": [],
   "source": [
    "## batch size\n",
    "batch_size = 32"
   ]
  },
  {
   "cell_type": "code",
   "execution_count": 22,
   "id": "4eea8c8e",
   "metadata": {},
   "outputs": [],
   "source": [
    "# var_weights = 0.08\n",
    "# var_targets = 0.08"
   ]
  },
  {
   "cell_type": "code",
   "execution_count": 23,
   "id": "9b49ba9c",
   "metadata": {},
   "outputs": [],
   "source": [
    "from scipy.stats import multivariate_normal as mvn"
   ]
  },
  {
   "cell_type": "code",
   "execution_count": 24,
   "id": "7a60a350",
   "metadata": {},
   "outputs": [],
   "source": [
    "from scipy.stats import invgamma, norm"
   ]
  },
  {
   "cell_type": "code",
   "execution_count": 25,
   "id": "bd888262",
   "metadata": {},
   "outputs": [],
   "source": [
    "from tqdm.notebook import tqdm"
   ]
  },
  {
   "cell_type": "code",
   "execution_count": 26,
   "id": "c3355c48",
   "metadata": {},
   "outputs": [],
   "source": [
    "threshold = 5"
   ]
  },
  {
   "cell_type": "code",
   "execution_count": 27,
   "id": "b1ce82b7",
   "metadata": {},
   "outputs": [],
   "source": [
    "import random"
   ]
  },
  {
   "cell_type": "code",
   "execution_count": 28,
   "id": "7425ecc5",
   "metadata": {},
   "outputs": [],
   "source": [
    "lr = 0.1"
   ]
  },
  {
   "cell_type": "code",
   "execution_count": 29,
   "id": "b7959ab1",
   "metadata": {},
   "outputs": [],
   "source": [
    "import numpy as np"
   ]
  },
  {
   "cell_type": "code",
   "execution_count": 30,
   "id": "1db4063f",
   "metadata": {},
   "outputs": [],
   "source": [
    "weights_ann_1 = ann_15.get_weights()\n",
    "weights_ann_2 = ann_20.get_weights()"
   ]
  },
  {
   "cell_type": "code",
   "execution_count": 31,
   "id": "43a211df",
   "metadata": {},
   "outputs": [],
   "source": [
    "def get_targets_with_weights(batch_data, batch_data1, initial_ensembles, log_sigma_points_1): \n",
    "\n",
    "    n_hidden_1 = len(weights_ann_1[0].ravel())\n",
    "\n",
    "    hidden_weights_1 = initial_ensembles[:,:n_hidden_1].reshape( size_ens, batch_data.shape[1], h1)\n",
    "\n",
    "    \n",
    "    hidden_output_1 = np.einsum('ij,kjl->kil', batch_data, hidden_weights_1)\n",
    "\n",
    "    \n",
    "    hidden_layer_bias_1 = initial_ensembles[:,n_hidden_1:(n_hidden_1 + h1)].reshape(size_ens, 1,  h1)\n",
    "\n",
    "\n",
    "\n",
    "    hidden_output_1 = hidden_output_1 + hidden_layer_bias_1\n",
    "\n",
    "    n_pred_weights_1 = len(weights_ann_1[2].ravel())\n",
    "\n",
    "    output_weights_1 = initial_ensembles[:,(n_hidden_1 + h1):(n_hidden_1 + h1 + n_pred_weights_1) ].reshape(size_ens, h1, 1)\n",
    "\n",
    "    output_1 = np.einsum('ijk,ikl->ijl', hidden_output_1, output_weights_1)\n",
    "\n",
    "\n",
    "    output_layer_bias_1 = initial_ensembles[:,(n_hidden_1 + h1 + n_pred_weights_1):(n_hidden_1 + h1 + n_pred_weights_1 + 1)].reshape(size_ens, 1, 1)\n",
    "\n",
    "\n",
    "\n",
    "    final_output_1 = output_1 + output_layer_bias_1\n",
    "\n",
    "    n_hidden_2 = len(weights_ann_2[0].ravel())\n",
    "\n",
    "    initial_ensembles_1 = initial_ensembles.copy()[:, total_weights_1:(total_weights_1+ total_weights_2)]\n",
    "\n",
    "    hidden_weights_2 = initial_ensembles_1[:,:n_hidden_2].reshape(size_ens, batch_data1.shape[1], h2)\n",
    "\n",
    "\n",
    "\n",
    "    hidden_output_2 = np.einsum('ij,kjl->kil', batch_data1, hidden_weights_2)\n",
    "\n",
    "    hidden_layer_bias_2 = initial_ensembles[:,n_hidden_2:(n_hidden_2 + h2)].reshape(size_ens, 1,  h2)\n",
    "\n",
    "    hidden_output_2 = hidden_output_2+ hidden_layer_bias_2\n",
    "\n",
    "    n_pred_weights_2 = len(weights_ann_2[2].ravel())\n",
    "\n",
    "    output_weights_2 = initial_ensembles_1[:,(n_hidden_2 + h2):(n_hidden_2 + h2 + n_pred_weights_2) ].reshape(size_ens, h2, 1)\n",
    "\n",
    "\n",
    "    output_2 = np.einsum('ijk,ikl->ijl', hidden_output_2, output_weights_2)\n",
    "\n",
    "\n",
    "    output_layer_bias_2 = initial_ensembles_1[:,(n_hidden_2 + h2 + n_pred_weights_2):(n_hidden_2 + h2 + n_pred_weights_2 + 1)].reshape(size_ens, 1, 1)\n",
    "\n",
    "\n",
    "    final_output_2 = output_2 + output_layer_bias_2\n",
    "\n",
    "\n",
    "    weights_1 = initial_ensembles[:, :total_weights_1]\n",
    "\n",
    "    weights_2 = initial_ensembles[:, total_weights_1:(total_weights_1 + total_weights_2)]\n",
    "\n",
    "\n",
    "    avg_weights = initial_ensembles[:, -1].reshape(-1,1)\n",
    "\n",
    "    avg_weights_sig = expit(avg_weights)\n",
    "    \n",
    "    avg_weights_sig = avg_weights_sig.reshape(avg_weights_sig.shape[0], 1, avg_weights_sig.shape[1])\n",
    "    \n",
    "    complement_weights_sig = 1 - expit(avg_weights)\n",
    "    \n",
    "    complement_weights_sig = complement_weights_sig.reshape(complement_weights_sig.shape[0], 1, complement_weights_sig.shape[1])\n",
    "\n",
    "    final_output_1 = final_output_1*complement_weights_sig\n",
    "    \n",
    "    final_output_2 = final_output_2*avg_weights_sig\n",
    "    \n",
    "    output_1_ravel = final_output_1.reshape(size_ens, final_output_1.shape[1]*final_output_1.shape[2])\n",
    "\n",
    "    output_2_ravel = final_output_2.reshape(size_ens, final_output_2.shape[1]*final_output_2.shape[2])\n",
    "\n",
    "\n",
    "    output_1_ravel = output_1_ravel\n",
    "\n",
    "    output_2_ravel = output_2_ravel\n",
    "\n",
    "\n",
    "\n",
    "    weights_1_add = np.zeros((size_ens, (total_weights_2 - total_weights_1)))\n",
    "\n",
    "\n",
    "\n",
    "    weights_1 = np.hstack((weights_1, weights_1_add))\n",
    "    \n",
    "\n",
    "\n",
    "    stack_1 = np.hstack((output_1_ravel, weights_1, np.repeat(0, size_ens).reshape(-1,1), np.repeat(0, size_ens).reshape(-1,1)))\n",
    "\n",
    "\n",
    "\n",
    "    \n",
    "    stack_2 = np.hstack((output_2_ravel, weights_2, avg_weights, log_sigma_points_1))\n",
    "\n",
    "    \n",
    "    initial_aug_state = np.hstack((stack_1, stack_2)) \n",
    "    \n",
    "\n",
    "    return initial_aug_state , output_1_ravel, output_2_ravel, log_sigma_points_1\n",
    "\n"
   ]
  },
  {
   "cell_type": "code",
   "execution_count": 32,
   "id": "4e3ef6e6",
   "metadata": {},
   "outputs": [],
   "source": [
    "import time"
   ]
  },
  {
   "cell_type": "code",
   "execution_count": 33,
   "id": "0eabfdd4",
   "metadata": {},
   "outputs": [],
   "source": [
    "from scipy.stats import multivariate_normal as mvn"
   ]
  },
  {
   "cell_type": "code",
   "execution_count": 34,
   "id": "b982682f",
   "metadata": {},
   "outputs": [],
   "source": [
    "var_weights =16\n",
    "# var_weights_vec = 4\n",
    "# var_targets = 0.04\n",
    "# var_weights = 2"
   ]
  },
  {
   "cell_type": "code",
   "execution_count": 35,
   "id": "10d77915",
   "metadata": {},
   "outputs": [],
   "source": [
    "from scipy.stats import multivariate_normal as mvn"
   ]
  },
  {
   "cell_type": "code",
   "execution_count": 36,
   "id": "a2a6de67",
   "metadata": {},
   "outputs": [],
   "source": [
    "reduction = 8\n",
    "# reduction = 10"
   ]
  },
  {
   "cell_type": "code",
   "execution_count": 37,
   "id": "471e3306",
   "metadata": {},
   "outputs": [],
   "source": [
    "shape_needed = (total_weights + 2*batch_size*1 + 1 + (total_weights_2 - total_weights_1))//reduction"
   ]
  },
  {
   "cell_type": "code",
   "execution_count": 38,
   "id": "63796187",
   "metadata": {},
   "outputs": [],
   "source": [
    "size_ens = shape_needed"
   ]
  },
  {
   "cell_type": "code",
   "execution_count": 39,
   "id": "6aee42b8",
   "metadata": {},
   "outputs": [],
   "source": [
    "size_ens = int(size_ens)"
   ]
  },
  {
   "cell_type": "code",
   "execution_count": 40,
   "id": "bc234219",
   "metadata": {},
   "outputs": [
    {
     "data": {
      "text/plain": [
       "216"
      ]
     },
     "execution_count": 40,
     "metadata": {},
     "output_type": "execute_result"
    }
   ],
   "source": [
    "size_ens"
   ]
  },
  {
   "cell_type": "code",
   "execution_count": 41,
   "id": "ebeb0869-7f0b-4f21-be63-0234896af39f",
   "metadata": {},
   "outputs": [],
   "source": [
    "# train_fudged_probs"
   ]
  },
  {
   "cell_type": "code",
   "execution_count": 42,
   "id": "23d87ffe",
   "metadata": {},
   "outputs": [],
   "source": [
    "import matplotlib.pyplot as plt"
   ]
  },
  {
   "cell_type": "code",
   "execution_count": 43,
   "id": "f5427e43",
   "metadata": {},
   "outputs": [],
   "source": [
    "from scipy.special import expit"
   ]
  },
  {
   "cell_type": "code",
   "execution_count": 44,
   "id": "be0ee1ec",
   "metadata": {},
   "outputs": [],
   "source": [
    "# catch1[0][0]"
   ]
  },
  {
   "cell_type": "code",
   "execution_count": 45,
   "id": "fb492324",
   "metadata": {},
   "outputs": [],
   "source": [
    "# catch_train_logits_second[0]"
   ]
  },
  {
   "cell_type": "code",
   "execution_count": 46,
   "id": "0c2dbaec-3249-404a-9971-c2fc17f68356",
   "metadata": {},
   "outputs": [],
   "source": [
    "from datetime import datetime"
   ]
  },
  {
   "cell_type": "code",
   "execution_count": 47,
   "id": "9cf12935",
   "metadata": {},
   "outputs": [],
   "source": [
    "def expit(x):\n",
    "    \"\"\"Compute softmax values for each sets of scores in x.\"\"\"\n",
    "#     e_x = np.exp(x - np.max(x))\n",
    "    return 1 / (1 + np.exp(-x))"
   ]
  },
  {
   "cell_type": "code",
   "execution_count": 48,
   "id": "ef051014",
   "metadata": {},
   "outputs": [],
   "source": [
    "from scipy.stats import gamma"
   ]
  },
  {
   "cell_type": "code",
   "execution_count": 49,
   "id": "07cb7b8c-4634-46e7-ab75-e865c7116995",
   "metadata": {},
   "outputs": [],
   "source": [
    "# second_lstm[0]"
   ]
  },
  {
   "cell_type": "code",
   "execution_count": 50,
   "id": "5f0e5cb1-4067-46ba-9399-ca30548a10e1",
   "metadata": {},
   "outputs": [],
   "source": [
    "# reduction = 8\n",
    "# var_weights = 1"
   ]
  },
  {
   "cell_type": "code",
   "execution_count": 51,
   "id": "197043a4-b420-4e3b-beaf-699cd7c3db6b",
   "metadata": {},
   "outputs": [],
   "source": [
    "# cur_idx = 16\n",
    "# np.log(catch_test_probs[cur_idx]/(1-catch_test_probs[cur_idx]))"
   ]
  },
  {
   "cell_type": "code",
   "execution_count": 52,
   "id": "5ae6c226-20d1-4a84-ab7b-5c5295748826",
   "metadata": {},
   "outputs": [],
   "source": [
    "# catch_preds_df"
   ]
  },
  {
   "cell_type": "code",
   "execution_count": 53,
   "id": "75f0d45e-6b06-4e9a-8997-5217ab99ebde",
   "metadata": {},
   "outputs": [],
   "source": [
    "# ids = [i for i in range(0, catch_test_probs[cur_idx].shape[0]) if catch_test_probs[cur_idx][i] < 0.5]\n",
    "# ids_more = [i for i in range(0, catch_test_probs[cur_idx].shape[0]) if catch_test_probs[cur_idx][i] > 0.5]"
   ]
  },
  {
   "cell_type": "code",
   "execution_count": 54,
   "id": "7f15dc9d-a59f-4ef8-b93a-8244896352c5",
   "metadata": {},
   "outputs": [],
   "source": [
    "# ids_more"
   ]
  },
  {
   "cell_type": "code",
   "execution_count": 55,
   "id": "1cebfd75-9077-4677-a4f7-05c09ac9f2de",
   "metadata": {},
   "outputs": [],
   "source": [
    "import plotly.express as px"
   ]
  },
  {
   "cell_type": "code",
   "execution_count": 56,
   "id": "22ee79ea-e013-4f80-920e-10e2aeb0eb6b",
   "metadata": {},
   "outputs": [],
   "source": [
    "import seaborn as sns"
   ]
  },
  {
   "cell_type": "code",
   "execution_count": 57,
   "id": "1969c78b-c105-482a-a957-e81329037a09",
   "metadata": {},
   "outputs": [],
   "source": [
    "use_cores = multiprocessing.cpu_count()-1"
   ]
  },
  {
   "cell_type": "code",
   "execution_count": 58,
   "id": "e5e25a8d-c51c-4c1d-9589-5b3b01f267e7",
   "metadata": {},
   "outputs": [],
   "source": [
    "use_cores = 15"
   ]
  },
  {
   "cell_type": "code",
   "execution_count": 59,
   "id": "b9d651b2-15fa-4542-84ab-106c958569cc",
   "metadata": {},
   "outputs": [],
   "source": [
    "with open('first_lstm_with_doc2vec_lstm_var_0.0001_real_world_heavy_dropout.pkl', 'rb') as f:\n",
    "    first_lstm = pickle.load(f)  "
   ]
  },
  {
   "cell_type": "code",
   "execution_count": 60,
   "id": "2f12bf17-643b-4c5b-a2b0-d1f59b99557e",
   "metadata": {},
   "outputs": [],
   "source": [
    "# threshold = 200\n",
    "# cutoff_threshold = 70"
   ]
  },
  {
   "cell_type": "code",
   "execution_count": 61,
   "id": "407034e6-5a33-4332-b56c-f85cd2377b1c",
   "metadata": {},
   "outputs": [],
   "source": [
    "catch1 = first_lstm"
   ]
  },
  {
   "cell_type": "code",
   "execution_count": 62,
   "id": "e343ffb7-87d1-4974-a13f-d9a26c8a0530",
   "metadata": {},
   "outputs": [],
   "source": [
    "# catch1[0]"
   ]
  },
  {
   "cell_type": "code",
   "execution_count": 63,
   "id": "8e5fbcb1-3965-47da-acbe-ccb01078bf20",
   "metadata": {},
   "outputs": [],
   "source": [
    "from datetime import datetime"
   ]
  },
  {
   "cell_type": "code",
   "execution_count": 64,
   "id": "75c12e9a-898a-45db-9ee2-eb652adfbee1",
   "metadata": {},
   "outputs": [],
   "source": [
    "def rep_one_real_world(idx, inflation_factor = 0.2, cutoff = 100): \n",
    "    catch_1 = []\n",
    "    catch_2 = []\n",
    "    catch_3 = []\n",
    "    catch_4 = []\n",
    "    catch_5 = []\n",
    "#     from scipy.special import expit\n",
    "    patience_smaller = 0\n",
    "# patience_bigger = 0\n",
    "\n",
    "#     best_train_acc = 0\n",
    "#     best_valid_acc = 1000\n",
    "\n",
    "#     best_valid_mae = 10\n",
    "    \n",
    "    best_train_mae = 100\n",
    "    \n",
    "    X_train_logits = np.vstack((catch1[idx][0], catch1[idx][1]))\n",
    "#     X_train_logits = catch_train_logits_second[idx]\n",
    "    \n",
    "    \n",
    "    X_test_logits = catch1[idx][2]\n",
    "    \n",
    "    ## create training batch chunks\n",
    "    train_idx = list(range(0, X_train_logits.shape[0]))\n",
    "    batch_chunks = [train_idx[i:i+batch_size] for i in range(0,len(train_idx),batch_size)]\n",
    "\n",
    "    ## generate some augmented variable for iteration 0\n",
    "    initial_aug_state_mean = np.repeat(0, total_weights)\n",
    "    initial_aug_state_mean = initial_aug_state_mean.reshape(-1,1)\n",
    "\n",
    "    initial_aug_state_cov = var_weights*np.identity((total_weights))\n",
    "    initial_ensembles = mvn(initial_aug_state_mean.reshape(initial_aug_state_mean.shape[0],), initial_aug_state_cov).rvs(size = size_ens)\n",
    "\n",
    "    \n",
    "    log_sigma_points_1 = (np.log(gamma(100, scale = 1/100).rvs(size_ens))).reshape(size_ens, 1)\n",
    "    \n",
    "\n",
    "#     y_train = catch_train_labels_second[idx]\n",
    "\n",
    "#     y_valid = catch_valid_labels_second[idx]\n",
    "\n",
    "#     y_test = catch_test_labels_second[idx]\n",
    "    \n",
    "    \n",
    "    train_lstm = catch1[idx][3].numpy()\n",
    "    valid_lstm = catch1[idx][4].numpy()\n",
    "    # valid_word2vec = catch[idx][7].iloc[catch_valid_idxes[idx],:].reset_index(drop = True)\n",
    "    test_lstm = catch1[idx][5].numpy()\n",
    " \n",
    "\n",
    "    train_doc2vec = catch[idx][6].values\n",
    "    valid_doc2vec = catch[idx][7].values\n",
    "    # valid_word2vec = catch[idx][7].iloc[catch_valid_idxes[idx],:].reset_index(drop = True)\n",
    "    test_doc2vec = catch[idx][8].values\n",
    "    \n",
    "    \n",
    "    \n",
    "    # train_valid_test_lstm = np.vstack((train_lstm, valid_lstm, test_lstm))\n",
    "    # train_valid_test_doc2vec = np.vstack((train_doc2vec, valid_doc2vec, test_doc2vec))\n",
    "    \n",
    "    # train_valid_test_lstm = np.vstack((train_lstm, valid_lstm))\n",
    "    # train_valid_test_doc2vec = np.vstack((train_doc2vec, valid_doc2vec))    \n",
    "    \n",
    "    train_valid_lstm = np.vstack((train_lstm, valid_lstm))\n",
    "    train_valid_doc2vec = np.vstack((train_doc2vec, valid_doc2vec))    \n",
    "\n",
    "    # best_width_train = 100\n",
    "    \n",
    "    # threshold_achieved = False\n",
    "    # satisfactory = False\n",
    "    # satisfactory_counter = 0\n",
    "    \n",
    "    \n",
    "    best_coverage_train = 0\n",
    "    \n",
    "    start = datetime.now()\n",
    "    \n",
    "    for iter1 in range(0,500):\n",
    "\n",
    "        for batch_idx in batch_chunks:\n",
    "\n",
    "            batch_data = train_valid_lstm[batch_idx,:]\n",
    "            batch_data1 = train_valid_doc2vec[batch_idx,:]\n",
    "            # print(batch_data.shape)\n",
    "            batch_targets = X_train_logits[batch_idx,:]\n",
    "            # batch_targets = batch_targets.ravel().reshape(-1,1)\n",
    "\n",
    "            column_mod_2_shape = total_weights_2 + batch_data.shape[0]*1 + 1 + 1\n",
    "        \n",
    "            H_t = np.hstack((np.identity(batch_targets.shape[0]), np.zeros((batch_targets.shape[0], column_mod_2_shape-batch_targets.shape[0]))))\n",
    "\n",
    "            current_aug_state, column_mod_1, column_mod_2, log_sigma_points_1 = get_targets_with_weights(batch_data, batch_data1, initial_ensembles, log_sigma_points_1)\n",
    "            \n",
    "            var_targets_vec = np.log(1 + np.exp(log_sigma_points_1))\n",
    "            \n",
    "            var_targets_vec = var_targets_vec\n",
    "            \n",
    "            # current_aug_state_var = np.cov(current_aug_state.T) + inflation_factor*np.identity(current_aug_state.shape[1])\n",
    "            \n",
    "            current_aug_state_var = np.cov(current_aug_state.T) \n",
    "            \n",
    "            G_t = np.array([1 , 1]).reshape(-1,1)\n",
    "            \n",
    "            scirpt_H_t = np.kron(G_t.T, H_t)\n",
    "            \n",
    "            temp1 = current_aug_state_var@scirpt_H_t.T\n",
    "            \n",
    "            temp2 = scirpt_H_t@current_aug_state_var@scirpt_H_t.T\n",
    "        \n",
    "            for ensemble_idx in range(0, current_aug_state.shape[0]):\n",
    "                \n",
    "                var_targets1 = var_targets_vec[ensemble_idx,:]\n",
    "                \n",
    "                R_t = var_targets1*np.identity(batch_targets.shape[0])\n",
    "            \n",
    "                measurement_error = mvn(np.repeat(0,batch_targets.shape[0]), var_targets1*np.identity(batch_targets.shape[0])).rvs(1).reshape(-1,1)\n",
    "            \n",
    "                target_current = batch_targets + measurement_error\n",
    "                \n",
    "                K_t = temp1@np.linalg.inv(temp2 + R_t)\n",
    "\n",
    "                current_aug_state[ensemble_idx,:] = current_aug_state[ensemble_idx,:] +(K_t@(target_current -scirpt_H_t@current_aug_state[ensemble_idx,:].reshape(-1,1))).reshape(current_aug_state.shape[1],)\n",
    "        \n",
    "\n",
    "            weights_ann_1 = current_aug_state[:,batch_targets.shape[0]:(batch_targets.shape[0] + total_weights_1)]      \n",
    "\n",
    "            weights_ann_2 = current_aug_state[:,-(total_weights_2+1):-2]    \n",
    "\n",
    "            initial_ensembles = np.hstack((weights_ann_1, weights_ann_2, current_aug_state[:,-2].reshape(-1,1)))\n",
    "            \n",
    "            log_sigma_points_1 = current_aug_state[:,-1].reshape(-1,1)\n",
    "               \n",
    "            avg_betas = expit(current_aug_state[:,-2])\n",
    "        \n",
    "            complement = 1-avg_betas\n",
    "\n",
    "            \n",
    "            \n",
    "            \n",
    "            \n",
    "            current_aug_state1, column_mod_11, column_mod_21, log_sigma_points_1 = get_targets_with_weights(train_valid_lstm, train_valid_doc2vec, initial_ensembles, log_sigma_points_1)\n",
    "            \n",
    "            initial_targets = column_mod_11 + column_mod_21\n",
    "            \n",
    "            \n",
    "            initial_targets = initial_targets.reshape(size_ens, train_valid_lstm.shape[0],1)\n",
    "            \n",
    "            initial_targets_train = initial_targets\n",
    "            \n",
    "            \n",
    "            \n",
    "            \n",
    "#             ind = (X_train_logits_true >= np.percentile(initial_targets_train, axis = 0, q = (2.5, 97.5))[0,:,:]) & (X_train_logits_true <= np.percentile(initial_targets_train, axis = 0, q = (2.5, 97.5))[1,:,:])\n",
    "        \n",
    "            initial_targets_softmax = expit(initial_targets)\n",
    "        \n",
    "            initial_softmax_train = initial_targets_softmax\n",
    "            \n",
    "            initial_targets_train_mean = initial_targets_softmax.mean(0)\n",
    "            \n",
    "            li = np.percentile(initial_targets_softmax, axis = 0, q = (2.5, 97.5))[0,:,:]\n",
    "            \n",
    "            ui = np.percentile(initial_targets_softmax, axis = 0, q = (2.5, 97.5))[1,:,:]\n",
    "            \n",
    "            width = ui - li\n",
    "            \n",
    "            avg_width_train = np.mean(width)\n",
    "            \n",
    "            # interim = np.vstack((catch_train_probs[idx] , catch_valid_probs[idx] ))\n",
    "        \n",
    "            interim = expit(X_train_logits)\n",
    "            \n",
    "            ind = (interim >= li) & (interim <= ui)\n",
    "            \n",
    "            coverage_train= np.mean(ind.ravel())  \n",
    "            \n",
    "            train_mae = np.mean(np.abs(interim.ravel() - initial_targets_train_mean.ravel()))\n",
    "        \n",
    "            current_aug_state1, column_mod_11, column_mod_21, log_sigma_points_1 = get_targets_with_weights(test_lstm, test_doc2vec, initial_ensembles, log_sigma_points_1)\n",
    "            \n",
    "            initial_targets = column_mod_11 + column_mod_21\n",
    "            \n",
    "            initial_targets = initial_targets.reshape(size_ens, test_lstm.shape[0],1)\n",
    "            \n",
    "            initial_targets_test = initial_targets\n",
    "            \n",
    "            initial_targets_softmax = expit(initial_targets)    \n",
    "            \n",
    "            initial_targets_test_mean = initial_targets_softmax.mean(0)\n",
    "            \n",
    "            li = np.percentile(initial_targets_softmax, axis = 0, q = (2.5, 97.5))[0,:,:]\n",
    "            \n",
    "            ui = np.percentile(initial_targets_softmax, axis = 0, q = (2.5, 97.5))[1,:,:]\n",
    "            \n",
    "            width = ui - li\n",
    "            \n",
    "            avg_width = np.mean(width)\n",
    "            \n",
    "            catch_test_probs = expit(X_test_logits)\n",
    "            \n",
    "            ind_test = (catch_test_probs >= li) & (catch_test_probs <= ui)\n",
    "               \n",
    "\n",
    "                        \n",
    "            coverage_test = np.mean(ind_test.ravel())    \n",
    "\n",
    "            # initial_targets_test_mean = initial_targets_train.mean(0)\n",
    "    \n",
    "            \n",
    "            \n",
    "            test_mae = np.mean(np.abs(catch_test_probs.ravel() - initial_targets_test_mean.ravel()))\n",
    "       \n",
    "        # print(avg_width_train, best_train_width, coverage_train)\n",
    "        \n",
    "#         print(\"epoch \"+ str(iter1))\n",
    "#         print(\"patience \"+ str(patience_smaller))\n",
    "#         print(\"train mae is \" + str(train_mae))\n",
    "#         print(\"test mae is \" + str(test_mae))\n",
    "        \n",
    "#         print(\"train coverage is \"+ str(coverage_train))\n",
    "#         print(\"train width is \" + str(avg_width_train))        \n",
    "#         print(\"test coverage is \"+ str(coverage_test))\n",
    "#         print(\"test width is \" + str(avg_width))\n",
    "        # print(\"lstm weight is \" + str(np.mean(complement)))\n",
    "        # print(\"threshold \" + str(threshold_achieved))\n",
    "              \n",
    "    \n",
    "        if (train_mae < best_train_mae) : \n",
    "#             cur_best_train_width = avg_width_train\n",
    "#             cur_best_test_width = avg_width\n",
    "\n",
    "#             cur_best_train_coverage = coverage_train\n",
    "#             cur_best_test_coverage = coverage_test \n",
    "#             cur_best_lstm_weight = np.mean(complement)\n",
    "            best_train_mae = train_mae\n",
    "            best_test_mae = test_mae\n",
    "            exit_iter_no_thresh = iter1\n",
    "            best_test_preds = initial_targets_test_mean\n",
    "            patience_smaller = 0\n",
    "            best_train_coverage = coverage_train\n",
    "            best_test_coverage = coverage_test\n",
    "            best_train_width = avg_width_train\n",
    "            best_test_width = avg_width\n",
    "            # satisfactory = True\n",
    "            \n",
    "        else:\n",
    "            patience_smaller+=1\n",
    "            \n",
    "        if patience_smaller > threshold:\n",
    "            \n",
    "            break\n",
    "            \n",
    "        if (patience_smaller > cutoff_threshold) & (train_mae < 0.05):\n",
    "            \n",
    "            break\n",
    "            \n",
    "            \n",
    "    print(best_test_mae,best_test_coverage, best_test_width, flush = True)\n",
    "    end = datetime.now()\n",
    "    total = (end-start)\n",
    "    time_taken = total.seconds/60.0\n",
    "    return best_train_mae, best_test_mae, best_train_coverage, best_train_width, best_test_coverage, best_test_width,  exit_iter_no_thresh, time_taken, best_test_preds\n",
    "        \n",
    "    # print(\"something went awry\", flush = True)"
   ]
  },
  {
   "cell_type": "code",
   "execution_count": 65,
   "id": "605540da-2ad3-4d18-b8a4-93dd7c052f20",
   "metadata": {},
   "outputs": [],
   "source": [
    "threshold = 200"
   ]
  },
  {
   "cell_type": "code",
   "execution_count": 66,
   "id": "138d0228-17b7-4019-9abe-458206e8a7df",
   "metadata": {},
   "outputs": [],
   "source": [
    "cutoff_threshold = 100"
   ]
  },
  {
   "cell_type": "code",
   "execution_count": 67,
   "id": "d2a0a04c-eb2b-4dd6-938a-0558970523ce",
   "metadata": {},
   "outputs": [],
   "source": [
    "# rep_one_real_world(30)"
   ]
  },
  {
   "cell_type": "code",
   "execution_count": 68,
   "id": "99a723c6",
   "metadata": {},
   "outputs": [
    {
     "name": "stderr",
     "output_type": "stream",
     "text": [
      "[Parallel(n_jobs=15)]: Using backend LokyBackend with 15 concurrent workers.\n",
      "/tmp/ipykernel_599513/2467791455.py:4: RuntimeWarning: overflow encountered in exp\n",
      "/tmp/ipykernel_599513/2467791455.py:4: RuntimeWarning: overflow encountered in exp\n",
      "/tmp/ipykernel_599513/2467791455.py:4: RuntimeWarning: overflow encountered in exp\n"
     ]
    },
    {
     "name": "stdout",
     "output_type": "stream",
     "text": [
      "0.011158930152357147 1.0 0.14491269463359496\n",
      "0.004177710597681692 1.0 0.07649419017400949\n",
      "0.0121367110432893 1.0 0.05075049780148261\n"
     ]
    },
    {
     "name": "stderr",
     "output_type": "stream",
     "text": [
      "[Parallel(n_jobs=15)]: Done   2 tasks      | elapsed:  2.2min\n"
     ]
    },
    {
     "name": "stdout",
     "output_type": "stream",
     "text": [
      "0.005135750363272422 1.0 0.059886766482648644\n",
      "0.006561824064839307 1.0 0.0660082711419312\n",
      "0.0021595904478366413 1.0 0.02823635801186241\n",
      "0.0007073414171105486 1.0 0.010945326899882809\n",
      "0.005981756172215193 1.0 0.11048095018562452\n",
      "0.008361710196204939 1.0 0.06304042397285856\n",
      "0.003812007933344661 1.0 0.02942919723399422\n",
      "0.006943777242592062 0.875 0.030171264203420294\n"
     ]
    },
    {
     "name": "stderr",
     "output_type": "stream",
     "text": [
      "[Parallel(n_jobs=15)]: Done  11 tasks      | elapsed:  2.8min\n"
     ]
    },
    {
     "name": "stdout",
     "output_type": "stream",
     "text": [
      "0.016412080475836525 0.75 0.04344559053575061\n",
      "0.0012977749672074314 1.0 0.009989968441728865\n",
      "0.006574934619734281 0.75 0.019665007223724565\n",
      "0.010108529676311847 0.875 0.03374680067834793\n",
      "0.017832717795447046 1.0 0.14432859929566996\n",
      "0.027453292694916753 0.875 0.09148733199140778\n",
      "0.03167152577958391 0.875 0.12886758316807137\n",
      "0.03431888183498067 0.875 0.10773729844015861\n",
      "0.02007812625179103 1.0 0.2337536162325568\n"
     ]
    },
    {
     "name": "stderr",
     "output_type": "stream",
     "text": [
      "[Parallel(n_jobs=15)]: Done  20 tasks      | elapsed:  4.9min\n"
     ]
    },
    {
     "name": "stdout",
     "output_type": "stream",
     "text": [
      "0.007048907355801838 1.0 0.053059212240336835\n",
      "0.020420968041962917 0.75 0.05968346789655358\n",
      "0.008350942174334387 1.0 0.04090873250386062\n",
      "0.009524909627254467 1.0 0.07059266421660876\n",
      "0.015742444714834054 1.0 0.0795047833568709\n",
      "0.016857114144206466 0.75 0.04327360723721818\n",
      "0.01876732667469895 1.0 0.07959343907755545\n"
     ]
    },
    {
     "name": "stderr",
     "output_type": "stream",
     "text": [
      "[Parallel(n_jobs=15)]: Done  27 out of  50 | elapsed:  6.0min remaining:  5.1min\n"
     ]
    },
    {
     "name": "stdout",
     "output_type": "stream",
     "text": [
      "0.0321237145785723 0.625 0.07543661915328469\n",
      "0.02850057966386332 0.75 0.06764824599491379\n",
      "0.010263839307095114 1.0 0.04873827647050234\n",
      "0.016059684144966002 0.5 0.03454660390277188\n",
      "0.013380349214679923 0.75 0.04438167523469904\n",
      "0.014415868918075118 0.75 0.043504689399957136\n"
     ]
    },
    {
     "name": "stderr",
     "output_type": "stream",
     "text": [
      "[Parallel(n_jobs=15)]: Done  33 out of  50 | elapsed:  7.4min remaining:  3.8min\n"
     ]
    },
    {
     "name": "stdout",
     "output_type": "stream",
     "text": [
      "0.022247906257484688 0.875 0.11238349841122221\n",
      "0.006802108735239919 1.0 0.043598666339464257\n",
      "0.021226924729858834 1.0 0.14584603295671805\n",
      "0.027189756265085407 1.0 0.14505860736032783\n",
      "0.02514767636018999 0.5 0.029203606358508584\n",
      "0.032696272473361244 0.75 0.11034297784432065\n"
     ]
    },
    {
     "name": "stderr",
     "output_type": "stream",
     "text": [
      "[Parallel(n_jobs=15)]: Done  39 out of  50 | elapsed:  8.8min remaining:  2.5min\n"
     ]
    },
    {
     "name": "stdout",
     "output_type": "stream",
     "text": [
      "0.0259969809405422 1.0 0.17075418018692115\n",
      "0.011534164901914647 0.875 0.04518097091942454\n",
      "0.04676487324921946 0.5 0.06593670637287091\n",
      "0.029174515853875812 0.75 0.07982376826860882\n",
      "0.032644782350248217 0.875 0.12521070432992\n",
      "0.03675419204486613 1.0 0.16948667482249175\n"
     ]
    },
    {
     "name": "stderr",
     "output_type": "stream",
     "text": [
      "[Parallel(n_jobs=15)]: Done  45 out of  50 | elapsed:  9.3min remaining:  1.0min\n"
     ]
    },
    {
     "name": "stdout",
     "output_type": "stream",
     "text": [
      "0.010806114058848605 0.375 0.015006501240649622\n",
      "0.008214866859813808 0.875 0.038141938414477466\n",
      "0.011115254081753229 1.0 0.10303526860598078\n",
      "0.01804299020056333 0.125 0.021774866642831722\n",
      "0.021050522996495936 0.75 0.0888440056739265\n"
     ]
    },
    {
     "name": "stderr",
     "output_type": "stream",
     "text": [
      "[Parallel(n_jobs=15)]: Done  50 out of  50 | elapsed: 10.2min finished\n"
     ]
    }
   ],
   "source": [
    "catch_coverages = Parallel(n_jobs=15, verbose = 10, backend = \"loky\")(delayed(rep_one_real_world)(i) for i in range(reps))"
   ]
  },
  {
   "cell_type": "code",
   "execution_count": 69,
   "id": "1e8200e5-b784-49c8-9ae9-fd7ee5a2e71d",
   "metadata": {},
   "outputs": [],
   "source": [
    "# catch_coverages"
   ]
  },
  {
   "cell_type": "code",
   "execution_count": 70,
   "id": "647980a7-9ae3-4c5c-b25c-2e37b6a84679",
   "metadata": {},
   "outputs": [],
   "source": [
    "check = pd.DataFrame(catch_coverages).iloc[:,:-1]"
   ]
  },
  {
   "cell_type": "code",
   "execution_count": 71,
   "id": "e061792a-e589-486e-b8d2-336622f6bf34",
   "metadata": {},
   "outputs": [],
   "source": [
    "# check"
   ]
  },
  {
   "cell_type": "code",
   "execution_count": 72,
   "id": "fa101efc-351b-4645-87a3-f008abf1ff3d",
   "metadata": {},
   "outputs": [],
   "source": [
    "# check"
   ]
  },
  {
   "cell_type": "code",
   "execution_count": 73,
   "id": "77536655-0afd-4976-980a-fa7a28b55201",
   "metadata": {},
   "outputs": [],
   "source": [
    "# check.columns = [\"train_mae\", \"test_mae\", \"avg_ci_width_train\", \"avg_ci_width_test\", \"avg_lstm_weight\", \"exit_iter\", \"exit_status\"]"
   ]
  },
  {
   "cell_type": "code",
   "execution_count": 74,
   "id": "cd8cefbd-9076-469e-a5dc-dc4637846308",
   "metadata": {},
   "outputs": [
    {
     "data": {
      "text/html": [
       "<div>\n",
       "<style scoped>\n",
       "    .dataframe tbody tr th:only-of-type {\n",
       "        vertical-align: middle;\n",
       "    }\n",
       "\n",
       "    .dataframe tbody tr th {\n",
       "        vertical-align: top;\n",
       "    }\n",
       "\n",
       "    .dataframe thead th {\n",
       "        text-align: right;\n",
       "    }\n",
       "</style>\n",
       "<table border=\"1\" class=\"dataframe\">\n",
       "  <thead>\n",
       "    <tr style=\"text-align: right;\">\n",
       "      <th></th>\n",
       "      <th>0</th>\n",
       "      <th>1</th>\n",
       "      <th>2</th>\n",
       "      <th>3</th>\n",
       "      <th>4</th>\n",
       "      <th>5</th>\n",
       "      <th>6</th>\n",
       "      <th>7</th>\n",
       "    </tr>\n",
       "  </thead>\n",
       "  <tbody>\n",
       "    <tr>\n",
       "      <th>0</th>\n",
       "      <td>0.004011</td>\n",
       "      <td>0.006562</td>\n",
       "      <td>1.000000</td>\n",
       "      <td>0.056715</td>\n",
       "      <td>1.000</td>\n",
       "      <td>0.066008</td>\n",
       "      <td>136</td>\n",
       "      <td>2.250000</td>\n",
       "    </tr>\n",
       "    <tr>\n",
       "      <th>1</th>\n",
       "      <td>0.004778</td>\n",
       "      <td>0.016412</td>\n",
       "      <td>0.984848</td>\n",
       "      <td>0.034283</td>\n",
       "      <td>0.750</td>\n",
       "      <td>0.043446</td>\n",
       "      <td>210</td>\n",
       "      <td>3.133333</td>\n",
       "    </tr>\n",
       "    <tr>\n",
       "      <th>2</th>\n",
       "      <td>0.000456</td>\n",
       "      <td>0.000707</td>\n",
       "      <td>1.000000</td>\n",
       "      <td>0.009966</td>\n",
       "      <td>1.000</td>\n",
       "      <td>0.010945</td>\n",
       "      <td>129</td>\n",
       "      <td>2.633333</td>\n",
       "    </tr>\n",
       "    <tr>\n",
       "      <th>3</th>\n",
       "      <td>0.004624</td>\n",
       "      <td>0.012137</td>\n",
       "      <td>1.000000</td>\n",
       "      <td>0.042678</td>\n",
       "      <td>1.000</td>\n",
       "      <td>0.050750</td>\n",
       "      <td>135</td>\n",
       "      <td>2.166667</td>\n",
       "    </tr>\n",
       "    <tr>\n",
       "      <th>4</th>\n",
       "      <td>0.002524</td>\n",
       "      <td>0.006944</td>\n",
       "      <td>1.000000</td>\n",
       "      <td>0.026059</td>\n",
       "      <td>0.875</td>\n",
       "      <td>0.030171</td>\n",
       "      <td>138</td>\n",
       "      <td>2.716667</td>\n",
       "    </tr>\n",
       "    <tr>\n",
       "      <th>5</th>\n",
       "      <td>0.005902</td>\n",
       "      <td>0.010109</td>\n",
       "      <td>1.000000</td>\n",
       "      <td>0.031739</td>\n",
       "      <td>0.875</td>\n",
       "      <td>0.033747</td>\n",
       "      <td>225</td>\n",
       "      <td>3.733333</td>\n",
       "    </tr>\n",
       "    <tr>\n",
       "      <th>6</th>\n",
       "      <td>0.003431</td>\n",
       "      <td>0.003812</td>\n",
       "      <td>1.000000</td>\n",
       "      <td>0.030486</td>\n",
       "      <td>1.000</td>\n",
       "      <td>0.029429</td>\n",
       "      <td>136</td>\n",
       "      <td>2.700000</td>\n",
       "    </tr>\n",
       "    <tr>\n",
       "      <th>7</th>\n",
       "      <td>0.004745</td>\n",
       "      <td>0.005136</td>\n",
       "      <td>1.000000</td>\n",
       "      <td>0.048949</td>\n",
       "      <td>1.000</td>\n",
       "      <td>0.059887</td>\n",
       "      <td>129</td>\n",
       "      <td>2.200000</td>\n",
       "    </tr>\n",
       "    <tr>\n",
       "      <th>8</th>\n",
       "      <td>0.007137</td>\n",
       "      <td>0.008362</td>\n",
       "      <td>0.954545</td>\n",
       "      <td>0.051271</td>\n",
       "      <td>1.000</td>\n",
       "      <td>0.063040</td>\n",
       "      <td>131</td>\n",
       "      <td>2.666667</td>\n",
       "    </tr>\n",
       "    <tr>\n",
       "      <th>9</th>\n",
       "      <td>0.002157</td>\n",
       "      <td>0.002160</td>\n",
       "      <td>1.000000</td>\n",
       "      <td>0.028675</td>\n",
       "      <td>1.000</td>\n",
       "      <td>0.028236</td>\n",
       "      <td>113</td>\n",
       "      <td>2.466667</td>\n",
       "    </tr>\n",
       "    <tr>\n",
       "      <th>10</th>\n",
       "      <td>0.010629</td>\n",
       "      <td>0.011159</td>\n",
       "      <td>1.000000</td>\n",
       "      <td>0.124567</td>\n",
       "      <td>1.000</td>\n",
       "      <td>0.144913</td>\n",
       "      <td>72</td>\n",
       "      <td>1.950000</td>\n",
       "    </tr>\n",
       "    <tr>\n",
       "      <th>11</th>\n",
       "      <td>0.004674</td>\n",
       "      <td>0.004178</td>\n",
       "      <td>1.000000</td>\n",
       "      <td>0.071485</td>\n",
       "      <td>1.000</td>\n",
       "      <td>0.076494</td>\n",
       "      <td>84</td>\n",
       "      <td>2.133333</td>\n",
       "    </tr>\n",
       "    <tr>\n",
       "      <th>12</th>\n",
       "      <td>0.000829</td>\n",
       "      <td>0.001298</td>\n",
       "      <td>1.000000</td>\n",
       "      <td>0.008759</td>\n",
       "      <td>1.000</td>\n",
       "      <td>0.009990</td>\n",
       "      <td>218</td>\n",
       "      <td>3.150000</td>\n",
       "    </tr>\n",
       "    <tr>\n",
       "      <th>13</th>\n",
       "      <td>0.004807</td>\n",
       "      <td>0.005982</td>\n",
       "      <td>1.000000</td>\n",
       "      <td>0.095918</td>\n",
       "      <td>1.000</td>\n",
       "      <td>0.110481</td>\n",
       "      <td>131</td>\n",
       "      <td>2.650000</td>\n",
       "    </tr>\n",
       "    <tr>\n",
       "      <th>14</th>\n",
       "      <td>0.003324</td>\n",
       "      <td>0.006575</td>\n",
       "      <td>0.939394</td>\n",
       "      <td>0.016785</td>\n",
       "      <td>0.750</td>\n",
       "      <td>0.019665</td>\n",
       "      <td>181</td>\n",
       "      <td>3.200000</td>\n",
       "    </tr>\n",
       "    <tr>\n",
       "      <th>15</th>\n",
       "      <td>0.005054</td>\n",
       "      <td>0.027453</td>\n",
       "      <td>0.984848</td>\n",
       "      <td>0.047351</td>\n",
       "      <td>0.875</td>\n",
       "      <td>0.091487</td>\n",
       "      <td>134</td>\n",
       "      <td>2.666667</td>\n",
       "    </tr>\n",
       "    <tr>\n",
       "      <th>16</th>\n",
       "      <td>0.006989</td>\n",
       "      <td>0.031672</td>\n",
       "      <td>1.000000</td>\n",
       "      <td>0.072100</td>\n",
       "      <td>0.875</td>\n",
       "      <td>0.128868</td>\n",
       "      <td>117</td>\n",
       "      <td>2.483333</td>\n",
       "    </tr>\n",
       "    <tr>\n",
       "      <th>17</th>\n",
       "      <td>0.004191</td>\n",
       "      <td>0.017833</td>\n",
       "      <td>1.000000</td>\n",
       "      <td>0.053406</td>\n",
       "      <td>1.000</td>\n",
       "      <td>0.144329</td>\n",
       "      <td>88</td>\n",
       "      <td>1.833333</td>\n",
       "    </tr>\n",
       "    <tr>\n",
       "      <th>18</th>\n",
       "      <td>0.010545</td>\n",
       "      <td>0.020421</td>\n",
       "      <td>0.939394</td>\n",
       "      <td>0.062023</td>\n",
       "      <td>0.750</td>\n",
       "      <td>0.059683</td>\n",
       "      <td>214</td>\n",
       "      <td>2.966667</td>\n",
       "    </tr>\n",
       "    <tr>\n",
       "      <th>19</th>\n",
       "      <td>0.005131</td>\n",
       "      <td>0.016060</td>\n",
       "      <td>0.742424</td>\n",
       "      <td>0.014497</td>\n",
       "      <td>0.500</td>\n",
       "      <td>0.034547</td>\n",
       "      <td>496</td>\n",
       "      <td>4.766667</td>\n",
       "    </tr>\n",
       "    <tr>\n",
       "      <th>20</th>\n",
       "      <td>0.002746</td>\n",
       "      <td>0.007049</td>\n",
       "      <td>1.000000</td>\n",
       "      <td>0.037034</td>\n",
       "      <td>1.000</td>\n",
       "      <td>0.053059</td>\n",
       "      <td>127</td>\n",
       "      <td>2.616667</td>\n",
       "    </tr>\n",
       "    <tr>\n",
       "      <th>21</th>\n",
       "      <td>0.011109</td>\n",
       "      <td>0.009525</td>\n",
       "      <td>0.954545</td>\n",
       "      <td>0.068022</td>\n",
       "      <td>1.000</td>\n",
       "      <td>0.070593</td>\n",
       "      <td>134</td>\n",
       "      <td>2.700000</td>\n",
       "    </tr>\n",
       "    <tr>\n",
       "      <th>22</th>\n",
       "      <td>0.014196</td>\n",
       "      <td>0.032124</td>\n",
       "      <td>0.924242</td>\n",
       "      <td>0.067323</td>\n",
       "      <td>0.625</td>\n",
       "      <td>0.075437</td>\n",
       "      <td>213</td>\n",
       "      <td>3.583333</td>\n",
       "    </tr>\n",
       "    <tr>\n",
       "      <th>23</th>\n",
       "      <td>0.005802</td>\n",
       "      <td>0.034319</td>\n",
       "      <td>0.924242</td>\n",
       "      <td>0.030561</td>\n",
       "      <td>0.875</td>\n",
       "      <td>0.107737</td>\n",
       "      <td>81</td>\n",
       "      <td>2.066667</td>\n",
       "    </tr>\n",
       "    <tr>\n",
       "      <th>24</th>\n",
       "      <td>0.011551</td>\n",
       "      <td>0.016857</td>\n",
       "      <td>0.909091</td>\n",
       "      <td>0.052973</td>\n",
       "      <td>0.750</td>\n",
       "      <td>0.043274</td>\n",
       "      <td>135</td>\n",
       "      <td>2.700000</td>\n",
       "    </tr>\n",
       "    <tr>\n",
       "      <th>25</th>\n",
       "      <td>0.005640</td>\n",
       "      <td>0.015742</td>\n",
       "      <td>1.000000</td>\n",
       "      <td>0.058990</td>\n",
       "      <td>1.000</td>\n",
       "      <td>0.079505</td>\n",
       "      <td>135</td>\n",
       "      <td>2.683333</td>\n",
       "    </tr>\n",
       "    <tr>\n",
       "      <th>26</th>\n",
       "      <td>0.018732</td>\n",
       "      <td>0.020078</td>\n",
       "      <td>1.000000</td>\n",
       "      <td>0.242923</td>\n",
       "      <td>1.000</td>\n",
       "      <td>0.233754</td>\n",
       "      <td>64</td>\n",
       "      <td>1.633333</td>\n",
       "    </tr>\n",
       "    <tr>\n",
       "      <th>27</th>\n",
       "      <td>0.006083</td>\n",
       "      <td>0.008351</td>\n",
       "      <td>0.969697</td>\n",
       "      <td>0.040326</td>\n",
       "      <td>1.000</td>\n",
       "      <td>0.040909</td>\n",
       "      <td>134</td>\n",
       "      <td>2.183333</td>\n",
       "    </tr>\n",
       "    <tr>\n",
       "      <th>28</th>\n",
       "      <td>0.006975</td>\n",
       "      <td>0.018767</td>\n",
       "      <td>0.984848</td>\n",
       "      <td>0.045047</td>\n",
       "      <td>1.000</td>\n",
       "      <td>0.079593</td>\n",
       "      <td>134</td>\n",
       "      <td>2.666667</td>\n",
       "    </tr>\n",
       "    <tr>\n",
       "      <th>29</th>\n",
       "      <td>0.005848</td>\n",
       "      <td>0.010806</td>\n",
       "      <td>0.636364</td>\n",
       "      <td>0.012549</td>\n",
       "      <td>0.375</td>\n",
       "      <td>0.015007</td>\n",
       "      <td>499</td>\n",
       "      <td>5.600000</td>\n",
       "    </tr>\n",
       "    <tr>\n",
       "      <th>30</th>\n",
       "      <td>0.010264</td>\n",
       "      <td>0.028501</td>\n",
       "      <td>0.969697</td>\n",
       "      <td>0.059176</td>\n",
       "      <td>0.750</td>\n",
       "      <td>0.067648</td>\n",
       "      <td>159</td>\n",
       "      <td>2.416667</td>\n",
       "    </tr>\n",
       "    <tr>\n",
       "      <th>31</th>\n",
       "      <td>0.012045</td>\n",
       "      <td>0.013380</td>\n",
       "      <td>0.863636</td>\n",
       "      <td>0.049264</td>\n",
       "      <td>0.750</td>\n",
       "      <td>0.044382</td>\n",
       "      <td>128</td>\n",
       "      <td>2.533333</td>\n",
       "    </tr>\n",
       "    <tr>\n",
       "      <th>32</th>\n",
       "      <td>0.009627</td>\n",
       "      <td>0.014416</td>\n",
       "      <td>0.954545</td>\n",
       "      <td>0.048545</td>\n",
       "      <td>0.750</td>\n",
       "      <td>0.043505</td>\n",
       "      <td>133</td>\n",
       "      <td>2.633333</td>\n",
       "    </tr>\n",
       "    <tr>\n",
       "      <th>33</th>\n",
       "      <td>0.009568</td>\n",
       "      <td>0.025148</td>\n",
       "      <td>0.651515</td>\n",
       "      <td>0.022416</td>\n",
       "      <td>0.500</td>\n",
       "      <td>0.029204</td>\n",
       "      <td>226</td>\n",
       "      <td>3.633333</td>\n",
       "    </tr>\n",
       "    <tr>\n",
       "      <th>34</th>\n",
       "      <td>0.006790</td>\n",
       "      <td>0.010264</td>\n",
       "      <td>1.000000</td>\n",
       "      <td>0.050690</td>\n",
       "      <td>1.000</td>\n",
       "      <td>0.048738</td>\n",
       "      <td>135</td>\n",
       "      <td>2.150000</td>\n",
       "    </tr>\n",
       "    <tr>\n",
       "      <th>35</th>\n",
       "      <td>0.004124</td>\n",
       "      <td>0.006802</td>\n",
       "      <td>1.000000</td>\n",
       "      <td>0.043197</td>\n",
       "      <td>1.000</td>\n",
       "      <td>0.043599</td>\n",
       "      <td>133</td>\n",
       "      <td>2.600000</td>\n",
       "    </tr>\n",
       "    <tr>\n",
       "      <th>36</th>\n",
       "      <td>0.012223</td>\n",
       "      <td>0.018043</td>\n",
       "      <td>0.424242</td>\n",
       "      <td>0.015966</td>\n",
       "      <td>0.125</td>\n",
       "      <td>0.021775</td>\n",
       "      <td>499</td>\n",
       "      <td>4.550000</td>\n",
       "    </tr>\n",
       "    <tr>\n",
       "      <th>37</th>\n",
       "      <td>0.014266</td>\n",
       "      <td>0.022248</td>\n",
       "      <td>0.984848</td>\n",
       "      <td>0.110285</td>\n",
       "      <td>0.875</td>\n",
       "      <td>0.112383</td>\n",
       "      <td>136</td>\n",
       "      <td>2.250000</td>\n",
       "    </tr>\n",
       "    <tr>\n",
       "      <th>38</th>\n",
       "      <td>0.008754</td>\n",
       "      <td>0.011534</td>\n",
       "      <td>0.909091</td>\n",
       "      <td>0.037587</td>\n",
       "      <td>0.875</td>\n",
       "      <td>0.045181</td>\n",
       "      <td>211</td>\n",
       "      <td>3.450000</td>\n",
       "    </tr>\n",
       "    <tr>\n",
       "      <th>39</th>\n",
       "      <td>0.006810</td>\n",
       "      <td>0.027190</td>\n",
       "      <td>1.000000</td>\n",
       "      <td>0.063510</td>\n",
       "      <td>1.000</td>\n",
       "      <td>0.145059</td>\n",
       "      <td>133</td>\n",
       "      <td>2.600000</td>\n",
       "    </tr>\n",
       "    <tr>\n",
       "      <th>40</th>\n",
       "      <td>0.021472</td>\n",
       "      <td>0.046765</td>\n",
       "      <td>0.803030</td>\n",
       "      <td>0.072645</td>\n",
       "      <td>0.500</td>\n",
       "      <td>0.065937</td>\n",
       "      <td>205</td>\n",
       "      <td>3.383333</td>\n",
       "    </tr>\n",
       "    <tr>\n",
       "      <th>41</th>\n",
       "      <td>0.015533</td>\n",
       "      <td>0.021227</td>\n",
       "      <td>1.000000</td>\n",
       "      <td>0.158860</td>\n",
       "      <td>1.000</td>\n",
       "      <td>0.145846</td>\n",
       "      <td>78</td>\n",
       "      <td>2.000000</td>\n",
       "    </tr>\n",
       "    <tr>\n",
       "      <th>42</th>\n",
       "      <td>0.004411</td>\n",
       "      <td>0.008215</td>\n",
       "      <td>0.969697</td>\n",
       "      <td>0.038172</td>\n",
       "      <td>0.875</td>\n",
       "      <td>0.038142</td>\n",
       "      <td>217</td>\n",
       "      <td>3.400000</td>\n",
       "    </tr>\n",
       "    <tr>\n",
       "      <th>43</th>\n",
       "      <td>0.006711</td>\n",
       "      <td>0.032696</td>\n",
       "      <td>0.954545</td>\n",
       "      <td>0.045388</td>\n",
       "      <td>0.750</td>\n",
       "      <td>0.110343</td>\n",
       "      <td>115</td>\n",
       "      <td>2.216667</td>\n",
       "    </tr>\n",
       "    <tr>\n",
       "      <th>44</th>\n",
       "      <td>0.009378</td>\n",
       "      <td>0.025997</td>\n",
       "      <td>1.000000</td>\n",
       "      <td>0.121680</td>\n",
       "      <td>1.000</td>\n",
       "      <td>0.170754</td>\n",
       "      <td>87</td>\n",
       "      <td>1.783333</td>\n",
       "    </tr>\n",
       "    <tr>\n",
       "      <th>45</th>\n",
       "      <td>0.017775</td>\n",
       "      <td>0.029175</td>\n",
       "      <td>0.924242</td>\n",
       "      <td>0.075849</td>\n",
       "      <td>0.750</td>\n",
       "      <td>0.079824</td>\n",
       "      <td>130</td>\n",
       "      <td>2.116667</td>\n",
       "    </tr>\n",
       "    <tr>\n",
       "      <th>46</th>\n",
       "      <td>0.009205</td>\n",
       "      <td>0.011115</td>\n",
       "      <td>1.000000</td>\n",
       "      <td>0.093165</td>\n",
       "      <td>1.000</td>\n",
       "      <td>0.103035</td>\n",
       "      <td>133</td>\n",
       "      <td>2.466667</td>\n",
       "    </tr>\n",
       "    <tr>\n",
       "      <th>47</th>\n",
       "      <td>0.011971</td>\n",
       "      <td>0.032645</td>\n",
       "      <td>1.000000</td>\n",
       "      <td>0.102833</td>\n",
       "      <td>0.875</td>\n",
       "      <td>0.125211</td>\n",
       "      <td>73</td>\n",
       "      <td>1.850000</td>\n",
       "    </tr>\n",
       "    <tr>\n",
       "      <th>48</th>\n",
       "      <td>0.009034</td>\n",
       "      <td>0.036754</td>\n",
       "      <td>1.000000</td>\n",
       "      <td>0.116237</td>\n",
       "      <td>1.000</td>\n",
       "      <td>0.169487</td>\n",
       "      <td>78</td>\n",
       "      <td>1.583333</td>\n",
       "    </tr>\n",
       "    <tr>\n",
       "      <th>49</th>\n",
       "      <td>0.016304</td>\n",
       "      <td>0.021051</td>\n",
       "      <td>0.969697</td>\n",
       "      <td>0.092822</td>\n",
       "      <td>0.750</td>\n",
       "      <td>0.088844</td>\n",
       "      <td>128</td>\n",
       "      <td>2.333333</td>\n",
       "    </tr>\n",
       "  </tbody>\n",
       "</table>\n",
       "</div>"
      ],
      "text/plain": [
       "           0         1         2         3      4         5    6         7\n",
       "0   0.004011  0.006562  1.000000  0.056715  1.000  0.066008  136  2.250000\n",
       "1   0.004778  0.016412  0.984848  0.034283  0.750  0.043446  210  3.133333\n",
       "2   0.000456  0.000707  1.000000  0.009966  1.000  0.010945  129  2.633333\n",
       "3   0.004624  0.012137  1.000000  0.042678  1.000  0.050750  135  2.166667\n",
       "4   0.002524  0.006944  1.000000  0.026059  0.875  0.030171  138  2.716667\n",
       "5   0.005902  0.010109  1.000000  0.031739  0.875  0.033747  225  3.733333\n",
       "6   0.003431  0.003812  1.000000  0.030486  1.000  0.029429  136  2.700000\n",
       "7   0.004745  0.005136  1.000000  0.048949  1.000  0.059887  129  2.200000\n",
       "8   0.007137  0.008362  0.954545  0.051271  1.000  0.063040  131  2.666667\n",
       "9   0.002157  0.002160  1.000000  0.028675  1.000  0.028236  113  2.466667\n",
       "10  0.010629  0.011159  1.000000  0.124567  1.000  0.144913   72  1.950000\n",
       "11  0.004674  0.004178  1.000000  0.071485  1.000  0.076494   84  2.133333\n",
       "12  0.000829  0.001298  1.000000  0.008759  1.000  0.009990  218  3.150000\n",
       "13  0.004807  0.005982  1.000000  0.095918  1.000  0.110481  131  2.650000\n",
       "14  0.003324  0.006575  0.939394  0.016785  0.750  0.019665  181  3.200000\n",
       "15  0.005054  0.027453  0.984848  0.047351  0.875  0.091487  134  2.666667\n",
       "16  0.006989  0.031672  1.000000  0.072100  0.875  0.128868  117  2.483333\n",
       "17  0.004191  0.017833  1.000000  0.053406  1.000  0.144329   88  1.833333\n",
       "18  0.010545  0.020421  0.939394  0.062023  0.750  0.059683  214  2.966667\n",
       "19  0.005131  0.016060  0.742424  0.014497  0.500  0.034547  496  4.766667\n",
       "20  0.002746  0.007049  1.000000  0.037034  1.000  0.053059  127  2.616667\n",
       "21  0.011109  0.009525  0.954545  0.068022  1.000  0.070593  134  2.700000\n",
       "22  0.014196  0.032124  0.924242  0.067323  0.625  0.075437  213  3.583333\n",
       "23  0.005802  0.034319  0.924242  0.030561  0.875  0.107737   81  2.066667\n",
       "24  0.011551  0.016857  0.909091  0.052973  0.750  0.043274  135  2.700000\n",
       "25  0.005640  0.015742  1.000000  0.058990  1.000  0.079505  135  2.683333\n",
       "26  0.018732  0.020078  1.000000  0.242923  1.000  0.233754   64  1.633333\n",
       "27  0.006083  0.008351  0.969697  0.040326  1.000  0.040909  134  2.183333\n",
       "28  0.006975  0.018767  0.984848  0.045047  1.000  0.079593  134  2.666667\n",
       "29  0.005848  0.010806  0.636364  0.012549  0.375  0.015007  499  5.600000\n",
       "30  0.010264  0.028501  0.969697  0.059176  0.750  0.067648  159  2.416667\n",
       "31  0.012045  0.013380  0.863636  0.049264  0.750  0.044382  128  2.533333\n",
       "32  0.009627  0.014416  0.954545  0.048545  0.750  0.043505  133  2.633333\n",
       "33  0.009568  0.025148  0.651515  0.022416  0.500  0.029204  226  3.633333\n",
       "34  0.006790  0.010264  1.000000  0.050690  1.000  0.048738  135  2.150000\n",
       "35  0.004124  0.006802  1.000000  0.043197  1.000  0.043599  133  2.600000\n",
       "36  0.012223  0.018043  0.424242  0.015966  0.125  0.021775  499  4.550000\n",
       "37  0.014266  0.022248  0.984848  0.110285  0.875  0.112383  136  2.250000\n",
       "38  0.008754  0.011534  0.909091  0.037587  0.875  0.045181  211  3.450000\n",
       "39  0.006810  0.027190  1.000000  0.063510  1.000  0.145059  133  2.600000\n",
       "40  0.021472  0.046765  0.803030  0.072645  0.500  0.065937  205  3.383333\n",
       "41  0.015533  0.021227  1.000000  0.158860  1.000  0.145846   78  2.000000\n",
       "42  0.004411  0.008215  0.969697  0.038172  0.875  0.038142  217  3.400000\n",
       "43  0.006711  0.032696  0.954545  0.045388  0.750  0.110343  115  2.216667\n",
       "44  0.009378  0.025997  1.000000  0.121680  1.000  0.170754   87  1.783333\n",
       "45  0.017775  0.029175  0.924242  0.075849  0.750  0.079824  130  2.116667\n",
       "46  0.009205  0.011115  1.000000  0.093165  1.000  0.103035  133  2.466667\n",
       "47  0.011971  0.032645  1.000000  0.102833  0.875  0.125211   73  1.850000\n",
       "48  0.009034  0.036754  1.000000  0.116237  1.000  0.169487   78  1.583333\n",
       "49  0.016304  0.021051  0.969697  0.092822  0.750  0.088844  128  2.333333"
      ]
     },
     "execution_count": 74,
     "metadata": {},
     "output_type": "execute_result"
    }
   ],
   "source": [
    "check"
   ]
  },
  {
   "cell_type": "code",
   "execution_count": 75,
   "id": "4fc1dcac-24b2-45e7-ae4c-e55eca90a6c6",
   "metadata": {},
   "outputs": [],
   "source": [
    "check.columns = [\"train_mae\", \"test_mae\", \"train_coverage\", \"train_width\", \"test_coverage\", \"test_width\", \"exit_iter\", \"time_taken\"]"
   ]
  },
  {
   "cell_type": "code",
   "execution_count": 76,
   "id": "fcf483cf-1d09-4d5d-8c7c-7db62473a356",
   "metadata": {},
   "outputs": [
    {
     "data": {
      "text/plain": [
       "train_mae           0.008018\n",
       "test_mae            0.016635\n",
       "train_coverage      0.944545\n",
       "train_width         0.060035\n",
       "test_coverage       0.860000\n",
       "test_width          0.074678\n",
       "exit_iter         160.200000\n",
       "time_taken          2.697000\n",
       "dtype: float64"
      ]
     },
     "execution_count": 76,
     "metadata": {},
     "output_type": "execute_result"
    }
   ],
   "source": [
    "check.mean()"
   ]
  },
  {
   "cell_type": "code",
   "execution_count": 77,
   "id": "e776a220-0227-4460-bd21-5aa40a756b12",
   "metadata": {},
   "outputs": [],
   "source": [
    "check_mean = check.mean().reset_index()"
   ]
  },
  {
   "cell_type": "code",
   "execution_count": 78,
   "id": "1839ab29-f07b-4245-8c57-76f96a51f181",
   "metadata": {},
   "outputs": [],
   "source": [
    "check_mean.to_csv(\"Real_World_mean_metrics_EnKF_LSTM_Doc2Vec_\" + \"var_weights_\" + str(var_weights) + \"_num_ens_\" + str(size_ens) +  \".csv\", index = False)"
   ]
  },
  {
   "cell_type": "code",
   "execution_count": 79,
   "id": "9b520f45-ad8d-453c-80e7-7a6bb711692f",
   "metadata": {},
   "outputs": [
    {
     "data": {
      "text/plain": [
       "train_mae          0.004735\n",
       "test_mae           0.010735\n",
       "train_coverage     0.111492\n",
       "train_width        0.042073\n",
       "test_coverage      0.193386\n",
       "test_width         0.048465\n",
       "exit_iter         96.445607\n",
       "time_taken         0.783110\n",
       "dtype: float64"
      ]
     },
     "execution_count": 79,
     "metadata": {},
     "output_type": "execute_result"
    }
   ],
   "source": [
    "check.std()"
   ]
  },
  {
   "cell_type": "code",
   "execution_count": 80,
   "id": "87f0aecc-b638-486c-96ce-5f8d47b4a619",
   "metadata": {},
   "outputs": [],
   "source": [
    "check_std = check.std().reset_index()"
   ]
  },
  {
   "cell_type": "code",
   "execution_count": 81,
   "id": "355e9158-ecd7-48bc-9d13-d715fcb3ceb3",
   "metadata": {},
   "outputs": [],
   "source": [
    "check_std.to_csv(\"Real_World_std_dev_metrics_EnKF_LSTM_Doc2Vec_\" + \"var_weights_\" + str(var_weights) + \"_num_ens_\" + str(size_ens)+  \".csv\", index = False)"
   ]
  },
  {
   "cell_type": "code",
   "execution_count": 82,
   "id": "e3e43629-3a74-4d41-acaf-dea297a3840c",
   "metadata": {},
   "outputs": [
    {
     "data": {
      "text/plain": [
       "train_mae         0.000095\n",
       "test_mae          0.000215\n",
       "train_coverage    0.002230\n",
       "train_width       0.000841\n",
       "test_coverage     0.003868\n",
       "test_width        0.000969\n",
       "exit_iter         1.928912\n",
       "time_taken        0.015662\n",
       "dtype: float64"
      ]
     },
     "execution_count": 82,
     "metadata": {},
     "output_type": "execute_result"
    }
   ],
   "source": [
    "check.std()/reps"
   ]
  },
  {
   "cell_type": "code",
   "execution_count": 83,
   "id": "a83c3d12-b2f0-44b8-9904-7b10c4f513bd",
   "metadata": {},
   "outputs": [],
   "source": [
    "true_preds = []\n",
    "enkf_preds = []\n",
    "for i in range(0,reps):\n",
    "    all_preds = catch_coverages[i][-1]\n",
    "    # all_preds = all_preds.mean(0)\n",
    "    catch_test_probs = expit(catch1[i][2])\n",
    "    true_probs = catch_test_probs.ravel().tolist()\n",
    "    true_preds.append(true_probs)\n",
    "    enkf_preds.append(all_preds.ravel().tolist())\n",
    "    # plt.scatter(true_probs, all_preds.ravel().tolist())\n",
    "    # plt.show()"
   ]
  },
  {
   "cell_type": "code",
   "execution_count": 84,
   "id": "4089a2ab-43f9-4e24-a7ed-add7bdc14156",
   "metadata": {},
   "outputs": [],
   "source": [
    "true_preds = [inner for item in true_preds for inner in item]"
   ]
  },
  {
   "cell_type": "code",
   "execution_count": 85,
   "id": "65492b8d-d7e4-4375-8577-d79a633680b7",
   "metadata": {},
   "outputs": [],
   "source": [
    "enkf_preds = [inner for item in enkf_preds for inner in item]"
   ]
  },
  {
   "cell_type": "code",
   "execution_count": 86,
   "id": "19776731-14c7-43c3-bd48-163aa67e2c76",
   "metadata": {},
   "outputs": [
    {
     "data": {
      "text/plain": [
       "0.016635030492925192"
      ]
     },
     "execution_count": 86,
     "metadata": {},
     "output_type": "execute_result"
    }
   ],
   "source": [
    "np.mean(np.abs(np.array(true_preds)-np.array(enkf_preds)))"
   ]
  },
  {
   "cell_type": "code",
   "execution_count": 87,
   "id": "1ebada74-6fe8-4f58-a939-87ca7399aef8",
   "metadata": {},
   "outputs": [
    {
     "data": {
      "image/png": "[encoded data removed]",
      "text/plain": [
       "<Figure size 640x480 with 1 Axes>"
      ]
     },
     "metadata": {},
     "output_type": "display_data"
    }
   ],
   "source": [
    "plt.scatter(enkf_preds,true_preds, alpha=0.5)\n",
    "plt.xlabel(\"EnKF preds\", fontsize = 15, fontweight = \"bold\")\n",
    "plt.ylabel(\"LSTM preds\", fontsize = 15, fontweight = \"bold\")\n",
    "plt.xticks(fontsize = 10, fontweight = \"bold\")\n",
    "plt.yticks(fontsize = 10, fontweight = \"bold\")\n",
    "plt.axline((0, 0), slope=1)\n",
    "plt.show()"
   ]
  },
  {
   "cell_type": "code",
   "execution_count": 88,
   "id": "ead27b05-299e-49dc-bb97-236a18cd05e5",
   "metadata": {},
   "outputs": [],
   "source": [
    "# check"
   ]
  }
 ],
 "metadata": {
  "kernelspec": {
   "display_name": "enkf",
   "language": "python",
   "name": "enkf"
  },
  "language_info": {
   "codemirror_mode": {
    "name": "ipython",
    "version": 3
   },
   "file_extension": ".py",
   "mimetype": "text/x-python",
   "name": "python",
   "nbconvert_exporter": "python",
   "pygments_lexer": "ipython3",
   "version": "3.10.8"
  }
 },
 "nbformat": 4,
 "nbformat_minor": 5
}
